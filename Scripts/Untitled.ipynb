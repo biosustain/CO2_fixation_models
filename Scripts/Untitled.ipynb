{
 "cells": [
  {
   "cell_type": "code",
   "execution_count": 1,
   "metadata": {},
   "outputs": [],
   "source": [
    "import cameo\n",
    "import pandas as pd\n",
    "import cobra.io\n",
    "import escher\n",
    "from escher import Builder\n",
    "from cobra import Reaction, Metabolite\n",
    "from os.path import dirname, join, pardir\n",
    "\n",
    "data_dir = \"/Users/phivri/Documents/GitHub/Biosustain/MoGeoModel\""
   ]
  },
  {
   "cell_type": "code",
   "execution_count": 18,
   "metadata": {},
   "outputs": [
    {
     "data": {
      "text/html": [
       "<h3>Objective</h3><p>1.0 EX_ac_e = 10.0</p><h4>Uptake</h4><table border=\"1\" class=\"dataframe\">\n",
       "  <thead>\n",
       "    <tr style=\"text-align: right;\">\n",
       "      <th>Metabolite</th>\n",
       "      <th>Reaction</th>\n",
       "      <th>Flux</th>\n",
       "      <th>C-Number</th>\n",
       "      <th>C-Flux</th>\n",
       "    </tr>\n",
       "  </thead>\n",
       "  <tbody>\n",
       "    <tr>\n",
       "      <td>lac__D_e</td>\n",
       "      <td>EX_lac__D_e</td>\n",
       "      <td>10</td>\n",
       "      <td>3</td>\n",
       "      <td>100.00%</td>\n",
       "    </tr>\n",
       "    <tr>\n",
       "      <td>o2_e</td>\n",
       "      <td>EX_o2_e</td>\n",
       "      <td>5</td>\n",
       "      <td>0</td>\n",
       "      <td>0.00%</td>\n",
       "    </tr>\n",
       "  </tbody>\n",
       "</table><h4>Secretion</h4><table border=\"1\" class=\"dataframe\">\n",
       "  <thead>\n",
       "    <tr style=\"text-align: right;\">\n",
       "      <th>Metabolite</th>\n",
       "      <th>Reaction</th>\n",
       "      <th>Flux</th>\n",
       "      <th>C-Number</th>\n",
       "      <th>C-Flux</th>\n",
       "    </tr>\n",
       "  </thead>\n",
       "  <tbody>\n",
       "    <tr>\n",
       "      <td>ac_e</td>\n",
       "      <td>EX_ac_e</td>\n",
       "      <td>-10</td>\n",
       "      <td>2</td>\n",
       "      <td>66.67%</td>\n",
       "    </tr>\n",
       "    <tr>\n",
       "      <td>for_e</td>\n",
       "      <td>EX_for_e</td>\n",
       "      <td>-10</td>\n",
       "      <td>1</td>\n",
       "      <td>33.33%</td>\n",
       "    </tr>\n",
       "    <tr>\n",
       "      <td>h_e</td>\n",
       "      <td>EX_h_e</td>\n",
       "      <td>-10</td>\n",
       "      <td>0</td>\n",
       "      <td>0.00%</td>\n",
       "    </tr>\n",
       "  </tbody>\n",
       "</table>"
      ],
      "text/plain": [
       "<cobra.summary.model_summary.ModelSummary at 0x7fd864ca0400>"
      ]
     },
     "execution_count": 18,
     "metadata": {},
     "output_type": "execute_result"
    }
   ],
   "source": [
    "model = cobra.io.read_sbml_model(join(data_dir,'Models/e_coli_core.xml'))\n",
    "\n",
    "medium = model.medium\n",
    "medium[\"EX_o2_e\"] = 1000.0\n",
    "medium[\"EX_lac__D_e\"] = 10.0\n",
    "medium[\"EX_glc__D_e\"] = 0.0\n",
    "model.medium = medium\n",
    "\n",
    "#model.objective = \"EX_ac_e\"\n",
    "\n",
    "solution = model.optimize()\n",
    "model.summary()"
   ]
  },
  {
   "cell_type": "code",
   "execution_count": 15,
   "metadata": {},
   "outputs": [
    {
     "name": "stdout",
     "output_type": "stream",
     "text": [
      "Downloading Map from https://escher.github.io/1-0-0/6/maps/Escherichia%20coli/e_coli_core.Core%20metabolism.json\n"
     ]
    },
    {
     "data": {
      "application/vnd.jupyter.widget-view+json": {
       "model_id": "d0d860d55e41412cbb30cbf4a608fdde",
       "version_major": 2,
       "version_minor": 0
      },
      "text/plain": [
       "Builder(reaction_data={'PFK': 0.0, 'PFL': 10.0, 'PGI': 0.0, 'PGK': 0.0, 'PGL': 0.0, 'ACALD': -5.0, 'AKGt2r': 0…"
      ]
     },
     "metadata": {},
     "output_type": "display_data"
    }
   ],
   "source": [
    "Builder(model = model, map_name = 'e_coli_core.Core metabolism', reaction_data = solution.fluxes.to_dict())"
   ]
  },
  {
   "cell_type": "code",
   "execution_count": 4,
   "metadata": {},
   "outputs": [
    {
     "data": {
      "text/html": [
       "<h3>o2_c</h3><p>O2</p><h4>Producing Reactions</h4><table border=\"1\" class=\"dataframe\">\n",
       "  <thead>\n",
       "    <tr style=\"text-align: right;\">\n",
       "      <th>Percent</th>\n",
       "      <th>Flux</th>\n",
       "      <th>Reaction</th>\n",
       "      <th>Definition</th>\n",
       "    </tr>\n",
       "  </thead>\n",
       "  <tbody>\n",
       "    <tr>\n",
       "      <td>100.00%</td>\n",
       "      <td>12.42</td>\n",
       "      <td>O2t</td>\n",
       "      <td>o2_e &lt;=&gt; o2_c</td>\n",
       "    </tr>\n",
       "  </tbody>\n",
       "</table><h4>Consuming Reactions</h4><table border=\"1\" class=\"dataframe\">\n",
       "  <thead>\n",
       "    <tr style=\"text-align: right;\">\n",
       "      <th>Percent</th>\n",
       "      <th>Flux</th>\n",
       "      <th>Reaction</th>\n",
       "      <th>Definition</th>\n",
       "    </tr>\n",
       "  </thead>\n",
       "  <tbody>\n",
       "    <tr>\n",
       "      <td>100.00%</td>\n",
       "      <td>-12.42</td>\n",
       "      <td>CYTBD</td>\n",
       "      <td>2.0 h_c + 0.5 o2_c + q8h2_c --&gt; h2o_c + 2.0 h_e + q8_c</td>\n",
       "    </tr>\n",
       "  </tbody>\n",
       "</table>"
      ],
      "text/plain": [
       "<cobra.summary.metabolite_summary.MetaboliteSummary at 0x7fd87a31ef98>"
      ]
     },
     "execution_count": 4,
     "metadata": {},
     "output_type": "execute_result"
    }
   ],
   "source": [
    "model.metabolites.o2_c.summary()"
   ]
  },
  {
   "cell_type": "code",
   "execution_count": 5,
   "metadata": {},
   "outputs": [
    {
     "data": {
      "text/html": [
       "<h3>acon_C_c</h3><p>C6H3O6</p><h4>Producing Reactions</h4><table border=\"1\" class=\"dataframe\">\n",
       "  <thead>\n",
       "    <tr style=\"text-align: right;\">\n",
       "      <th>Percent</th>\n",
       "      <th>Flux</th>\n",
       "      <th>Reaction</th>\n",
       "      <th>Definition</th>\n",
       "    </tr>\n",
       "  </thead>\n",
       "  <tbody>\n",
       "    <tr>\n",
       "      <td>100.00%</td>\n",
       "      <td>7.553</td>\n",
       "      <td>ACONTa</td>\n",
       "      <td>cit_c &lt;=&gt; acon_C_c + h2o_c</td>\n",
       "    </tr>\n",
       "  </tbody>\n",
       "</table><h4>Consuming Reactions</h4><table border=\"1\" class=\"dataframe\">\n",
       "  <thead>\n",
       "    <tr style=\"text-align: right;\">\n",
       "      <th>Percent</th>\n",
       "      <th>Flux</th>\n",
       "      <th>Reaction</th>\n",
       "      <th>Definition</th>\n",
       "    </tr>\n",
       "  </thead>\n",
       "  <tbody>\n",
       "    <tr>\n",
       "      <td>100.00%</td>\n",
       "      <td>-7.553</td>\n",
       "      <td>ACONTb</td>\n",
       "      <td>acon_C_c + h2o_c &lt;=&gt; icit_c</td>\n",
       "    </tr>\n",
       "  </tbody>\n",
       "</table>"
      ],
      "text/plain": [
       "<cobra.summary.metabolite_summary.MetaboliteSummary at 0x7fd8829c7b38>"
      ]
     },
     "execution_count": 5,
     "metadata": {},
     "output_type": "execute_result"
    }
   ],
   "source": [
    "model.metabolites.acon_C_c.summary()"
   ]
  },
  {
   "cell_type": "code",
   "execution_count": 6,
   "metadata": {
    "scrolled": true
   },
   "outputs": [
    {
     "data": {
      "text/html": [
       "<h3>icit_c</h3><p>C6H5O7</p><h4>Producing Reactions</h4><table border=\"1\" class=\"dataframe\">\n",
       "  <thead>\n",
       "    <tr style=\"text-align: right;\">\n",
       "      <th>Percent</th>\n",
       "      <th>Flux</th>\n",
       "      <th>Reaction</th>\n",
       "      <th>Definition</th>\n",
       "    </tr>\n",
       "  </thead>\n",
       "  <tbody>\n",
       "    <tr>\n",
       "      <td>100.00%</td>\n",
       "      <td>7.553</td>\n",
       "      <td>ACONTb</td>\n",
       "      <td>acon_C_c + h2o_c &lt;=&gt; icit_c</td>\n",
       "    </tr>\n",
       "  </tbody>\n",
       "</table><h4>Consuming Reactions</h4><table border=\"1\" class=\"dataframe\">\n",
       "  <thead>\n",
       "    <tr style=\"text-align: right;\">\n",
       "      <th>Percent</th>\n",
       "      <th>Flux</th>\n",
       "      <th>Reaction</th>\n",
       "      <th>Definition</th>\n",
       "    </tr>\n",
       "  </thead>\n",
       "  <tbody>\n",
       "    <tr>\n",
       "      <td>76.20%</td>\n",
       "      <td>-5.755</td>\n",
       "      <td>ICDHyr</td>\n",
       "      <td>icit_c + nadp_c &lt;=&gt; akg_c + co2_c + nadph_c</td>\n",
       "    </tr>\n",
       "    <tr>\n",
       "      <td>23.80%</td>\n",
       "      <td>-1.798</td>\n",
       "      <td>ICL</td>\n",
       "      <td>icit_c --&gt; glx_c + succ_c</td>\n",
       "    </tr>\n",
       "  </tbody>\n",
       "</table>"
      ],
      "text/plain": [
       "<cobra.summary.metabolite_summary.MetaboliteSummary at 0x7fd882a6af60>"
      ]
     },
     "execution_count": 6,
     "metadata": {},
     "output_type": "execute_result"
    }
   ],
   "source": [
    "model.metabolites.icit_c.summary()"
   ]
  },
  {
   "cell_type": "code",
   "execution_count": null,
   "metadata": {},
   "outputs": [],
   "source": []
  },
  {
   "cell_type": "code",
   "execution_count": 7,
   "metadata": {},
   "outputs": [
    {
     "data": {
      "application/vnd.jupyter.widget-view+json": {
       "model_id": "eddfa3761754407b9ec652678b231f68",
       "version_major": 2,
       "version_minor": 0
      },
      "text/plain": [
       "Builder(reaction_data={'PFK': 0.0, 'PFL': 0.0, 'PGI': -0.03553440981794622, 'PGK': 0.46078595911729964, 'PGL':…"
      ]
     },
     "metadata": {},
     "output_type": "display_data"
    }
   ],
   "source": [
    "Builder(model = model, map_json = join(data_dir,'Models/AcetonePathway.json'), reaction_data = solution.fluxes.to_dict())"
   ]
  },
  {
   "cell_type": "code",
   "execution_count": 19,
   "metadata": {},
   "outputs": [
    {
     "data": {
      "application/vnd.jupyter.widget-view+json": {
       "model_id": "99d8d09e504542dc97df31491436e570",
       "version_major": 2,
       "version_minor": 0
      },
      "text/plain": [
       "Builder()"
      ]
     },
     "metadata": {},
     "output_type": "display_data"
    }
   ],
   "source": [
    "model = cobra.io.read_sbml_model(join(data_dir,'Models/p-thermo_acetone_anaerobic.xml'))\n",
    "Builder(model = model, map_json = join(data_dir,'Models/AcetonePathway2.json'))#, reaction_data = solution.fluxes.to_dict())"
   ]
  },
  {
   "cell_type": "code",
   "execution_count": 9,
   "metadata": {},
   "outputs": [
    {
     "data": {
      "text/html": [
       "\n",
       "        <table>\n",
       "            <tr>\n",
       "                <td><strong>Reaction identifier</strong></td><td>ACKr</td>\n",
       "            </tr><tr>\n",
       "                <td><strong>Name</strong></td><td>ATP:acetate phosphotransferase</td>\n",
       "            </tr><tr>\n",
       "                <td><strong>Memory address</strong></td>\n",
       "                <td>0x07fd86544a320</td>\n",
       "            </tr><tr>\n",
       "                <td><strong>Stoichiometry</strong></td>\n",
       "                <td>\n",
       "                    <p style='text-align:right'>ac_c + atp_c + h_c <-- actp_c + adp_c</p>\n",
       "                    <p style='text-align:right'>Acetate + ATP + H+ <-- Acetyl phosphate + ADP</p>\n",
       "                </td>\n",
       "            </tr><tr>\n",
       "                <td><strong>GPR</strong></td><td>RTMO00945</td>\n",
       "            </tr><tr>\n",
       "                <td><strong>Lower bound</strong></td><td>-1000.0</td>\n",
       "            </tr><tr>\n",
       "                <td><strong>Upper bound</strong></td><td>0.0</td>\n",
       "            </tr>\n",
       "        </table>\n",
       "        "
      ],
      "text/plain": [
       "<Reaction ACKr at 0x7fd86544a320>"
      ]
     },
     "execution_count": 9,
     "metadata": {},
     "output_type": "execute_result"
    }
   ],
   "source": [
    "model.reactions.ACKr"
   ]
  }
 ],
 "metadata": {
  "kernelspec": {
   "display_name": "dFBACoCultivation",
   "language": "python",
   "name": "dfbacocultivation"
  },
  "language_info": {
   "codemirror_mode": {
    "name": "ipython",
    "version": 3
   },
   "file_extension": ".py",
   "mimetype": "text/x-python",
   "name": "python",
   "nbconvert_exporter": "python",
   "pygments_lexer": "ipython3",
   "version": "3.6.12"
  }
 },
 "nbformat": 4,
 "nbformat_minor": 4
}
