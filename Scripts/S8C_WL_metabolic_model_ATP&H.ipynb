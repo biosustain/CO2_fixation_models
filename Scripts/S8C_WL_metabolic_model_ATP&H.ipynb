{
 "cells": [
  {
   "cell_type": "code",
   "execution_count": 1,
   "metadata": {},
   "outputs": [],
   "source": [
    "import numpy as np\n",
    "import pandas as pd\n",
    "import cobra.io\n",
    "import escher\n",
    "from escher import Builder\n",
    "from cobra import Model, Reaction, Metabolite\n",
    "from os.path import join"
   ]
  },
  {
   "cell_type": "code",
   "execution_count": 2,
   "metadata": {},
   "outputs": [],
   "source": [
    "data_dir = \"/Users/phivri/Documents/GitHub/Biosustain/MoGeoModel\""
   ]
  },
  {
   "cell_type": "code",
   "execution_count": 3,
   "metadata": {},
   "outputs": [
    {
     "name": "stdout",
     "output_type": "stream",
     "text": [
      "Using license file /Users/phivri/gurobi.lic\n",
      "Academic license - for non-commercial use only - expires 2022-07-23\n"
     ]
    }
   ],
   "source": [
    "Cljung_Model = cobra.io.read_sbml_model(join(data_dir,'Models/C-ljungdahlii_iHN637.xml'))\n",
    "\n",
    "medium = Cljung_Model.medium\n",
    "medium['EX_h2_e'] = 1000\n",
    "medium['EX_h2o_e'] = 1000\n",
    "medium['EX_k_e'] = 0\n",
    "medium['EX_fru_e'] = 0\n",
    "medium['EX_mg2_e'] = 0\n",
    "medium['EX_mn2_e'] = 0\n",
    "medium['EX_na1_e'] = 0\n",
    "medium['EX_nh4_e'] = 0\n",
    "medium['EX_ni2_e'] = 0\n",
    "medium['EX_pi_e'] = 0\n",
    "medium['EX_mobd_e'] = 0\n",
    "medium['EX_zn2_e'] = 0\n",
    "medium['EX_ribflv_e'] = 0\n",
    "medium['EX_btn_e'] = 0\n",
    "medium['EX_so4_e'] = 0\n",
    "medium['EX_thm_e'] = 0\n",
    "medium['EX_ca2_e'] = 0\n",
    "medium['EX_cl_e'] = 0\n",
    "medium['EX_co2_e'] = 10\n",
    "medium['EX_cobalt2_e'] = 0\n",
    "medium['EX_cu2_e'] = 0\n",
    "medium['EX_fe2_e'] = 0\n",
    "medium['EX_fol_e'] = 0\n",
    "medium['EX_h_e'] = 1000\n",
    "Cljung_Model.medium = medium"
   ]
  },
  {
   "cell_type": "code",
   "execution_count": 4,
   "metadata": {},
   "outputs": [
    {
     "name": "stdout",
     "output_type": "stream",
     "text": [
      "{}\n",
      "(0.0, 1000.0)\n",
      "mlthf_c + nad_c --> methf_c + nadh_c\n"
     ]
    }
   ],
   "source": [
    "Cljung_Model.reactions.ATPM.bounds = 0, 1000\n",
    "\n",
    "Cljung_Model.reactions.ACt2r.knock_out()\n",
    "\n",
    "acT = Reaction(\"ACt\")\n",
    "acT.name = \"Acetate transporter\"\n",
    "acT.add_metabolites({ \n",
    "    Cljung_Model.metabolites.ac_c: -1.0,\n",
    "    Cljung_Model.metabolites.ac_e: 1.0\n",
    "})\n",
    "\n",
    "mthfd2 = Reaction(\"MTHFD2\")\n",
    "mthfd2.name = \"Methylenetetrahydrofolate dehydrogenase (NAD)\"\n",
    "\n",
    "mthfd2.add_metabolites({\n",
    "    Cljung_Model.metabolites.mlthf_c: -1.0,\n",
    "    Cljung_Model.metabolites.nad_c: -1.0,\n",
    "    Cljung_Model.metabolites.methf_c: 1.0,\n",
    "    Cljung_Model.metabolites.nadh_c: 1.0,\n",
    "})\n",
    "print(mthfd2.check_mass_balance())    #ensure correct mass balance\n",
    "print(mthfd2.bounds)                  #Ensure correct bounds\n",
    "print(mthfd2.reaction)\n",
    "\n",
    "Cljung_Model.add_reactions([acT, mthfd2])\n",
    "Cljung_Model.reactions.MTHFD2.bounds = -1000.0, 1000.0\n"
   ]
  },
  {
   "cell_type": "code",
   "execution_count": 5,
   "metadata": {},
   "outputs": [],
   "source": [
    "Cljung_Model.reactions.ACACT1r.bounds = 0,1000.0\n",
    "Cljung_Model.reactions.HACD1.bounds = 0,1000.0\n",
    "Cljung_Model.reactions.ECOAH1.bounds = 0,1000.0\n",
    "Cljung_Model.reactions.ACOAD1z.bounds = 0,1000.0\n",
    "Cljung_Model.reactions.PBUTT.bounds = 0,1000.0\n",
    "Cljung_Model.reactions.BUTKr.bounds = -1000.0,0\n",
    "Cljung_Model.reactions.BTCOARx.bounds = 0,1000.0\n",
    "Cljung_Model.reactions.ALCD4.bounds = -1000.0,0\n",
    "Cljung_Model.reactions.BTOHt.bounds = -1000.0, 1000.0\n",
    "Cljung_Model.reactions.BUTt.bounds = -1000.0, 1000.0\n",
    "Cljung_Model.reactions.HYDFDN.bounds = -1000.0, 1000.0"
   ]
  },
  {
   "cell_type": "markdown",
   "metadata": {},
   "source": [
    "# Find core reactions manually"
   ]
  },
  {
   "cell_type": "code",
   "execution_count": 6,
   "metadata": {},
   "outputs": [
    {
     "data": {
      "text/plain": [
       "Index(['EX_h2_e', 'EX_h2o_e', 'EX_co2_e', 'EX_etoh_e', 'ACKr', 'CO2t',\n",
       "       'ALCD2y', 'ACAFDOR', 'CODH_ACS', 'ETOHt', 'H2Ot', 'H2td', 'FDH7',\n",
       "       'FRNDPR2r', 'FTHFLi', 'METR', 'MTHFD', 'MTHFC', 'MTHFR5', 'PTAr',\n",
       "       'HYDFDN'],\n",
       "      dtype='object')"
      ]
     },
     "execution_count": 6,
     "metadata": {},
     "output_type": "execute_result"
    }
   ],
   "source": [
    "#Cljung_Model.objective = \"ATPM\"\n",
    "#Cljung_Model.objective = \"EX_ac_e\"\n",
    "Cljung_Model.objective = \"EX_etoh_e\"\n",
    "#Cljung_Model.objective = \"EX_but_e\"\n",
    "#Cljung_Model.objective = \"EX_btoh_e\"\n",
    "#Cljung_Model.objective = \"EX_btd_RR_e\"\n",
    "#print(Cljung_Model.slim_optimize())\n",
    "#solution = Cljung_Model.optimize()\n",
    "#Cljung_Model.pfba()\n",
    "#solution.fluxes[solution.fluxes != 0].index\n",
    "\n",
    "solution = cobra.flux_analysis.pfba(Cljung_Model)\n",
    "solution.fluxes[solution.fluxes != 0].index"
   ]
  },
  {
   "cell_type": "code",
   "execution_count": 7,
   "metadata": {},
   "outputs": [
    {
     "data": {
      "text/html": [
       "\n",
       "        <table>\n",
       "            <tr>\n",
       "                <td><strong>Metabolite identifier</strong></td><td>but_c</td>\n",
       "            </tr><tr>\n",
       "                <td><strong>Name</strong></td><td>Butyrate (n-C4:0)</td>\n",
       "            </tr><tr>\n",
       "                <td><strong>Memory address</strong></td>\n",
       "                <td>0x07fd4703aac50</td>\n",
       "            </tr><tr>\n",
       "                <td><strong>Formula</strong></td><td>C4H7O2</td>\n",
       "            </tr><tr>\n",
       "                <td><strong>Compartment</strong></td><td>c</td>\n",
       "            </tr><tr>\n",
       "                <td><strong>In 2 reaction(s)</strong></td><td>\n",
       "                    BUTt, BUTKr</td>\n",
       "            </tr>\n",
       "        </table>"
      ],
      "text/plain": [
       "<Metabolite but_c at 0x7fd4703aac50>"
      ]
     },
     "execution_count": 7,
     "metadata": {},
     "output_type": "execute_result"
    }
   ],
   "source": [
    "Cljung_Model.metabolites.but_c"
   ]
  },
  {
   "cell_type": "code",
   "execution_count": 8,
   "metadata": {
    "scrolled": false
   },
   "outputs": [
    {
     "data": {
      "text/html": [
       "\n",
       "        <table>\n",
       "            <tr>\n",
       "                <td><strong>Reaction identifier</strong></td><td>ATPS4r</td>\n",
       "            </tr><tr>\n",
       "                <td><strong>Name</strong></td><td>ATP synthase (four protons for one ATP)</td>\n",
       "            </tr><tr>\n",
       "                <td><strong>Memory address</strong></td>\n",
       "                <td>0x07fd4728c4358</td>\n",
       "            </tr><tr>\n",
       "                <td><strong>Stoichiometry</strong></td>\n",
       "                <td>\n",
       "                    <p style='text-align:right'>adp_c + 4.0 h_e + pi_c <=> atp_c + h2o_c + 3.0 h_c</p>\n",
       "                    <p style='text-align:right'>ADP C10H12N5O10P2 + 4.0 H+ + Phosphate <=> ATP C10H12N5O13P3 + H2O H2O + 3.0 H+</p>\n",
       "                </td>\n",
       "            </tr><tr>\n",
       "                <td><strong>GPR</strong></td><td>( CLJU_RS01160 and CLJU_RS01165 and CLJU_RS01170 ) and ( CLJU_RS01175 and CLJU_RS01180 and...</td>\n",
       "            </tr><tr>\n",
       "                <td><strong>Lower bound</strong></td><td>-1000.0</td>\n",
       "            </tr><tr>\n",
       "                <td><strong>Upper bound</strong></td><td>1000.0</td>\n",
       "            </tr>\n",
       "        </table>\n",
       "        "
      ],
      "text/plain": [
       "<Reaction ATPS4r at 0x7fd4728c4358>"
      ]
     },
     "execution_count": 8,
     "metadata": {},
     "output_type": "execute_result"
    }
   ],
   "source": [
    "Cljung_Model.reactions.ATPS4r"
   ]
  },
  {
   "cell_type": "code",
   "execution_count": 9,
   "metadata": {},
   "outputs": [],
   "source": [
    "WLmodel = Model('Wood_Ljungdahl_Core')\n",
    "\n",
    "WLmodel.add_reactions([\n",
    "#Transport & Exchange:\n",
    "Cljung_Model.reactions.EX_h2_e,\n",
    "Cljung_Model.reactions.EX_h2o_e,\n",
    "Cljung_Model.reactions.EX_co2_e,\n",
    "Cljung_Model.reactions.EX_co_e,\n",
    "Cljung_Model.reactions.EX_pi_e,\n",
    "Cljung_Model.reactions.EX_h_e,\n",
    "Cljung_Model.reactions.EX_ac_e,\n",
    "Cljung_Model.reactions.EX_etoh_e,\n",
    "Cljung_Model.reactions.EX_btd_RR_e,\n",
    "Cljung_Model.reactions.EX_but_e,\n",
    "Cljung_Model.reactions.EX_btoh_e,\n",
    "Cljung_Model.reactions.H2td,\n",
    "Cljung_Model.reactions.H2Ot,\n",
    "Cljung_Model.reactions.CO2t,\n",
    "Cljung_Model.reactions.COt,\n",
    "Cljung_Model.reactions.ACt,\n",
    "Cljung_Model.reactions.ETOHt,\n",
    "Cljung_Model.reactions.BTDt_RR,\n",
    "Cljung_Model.reactions.BUTt,\n",
    "Cljung_Model.reactions.BTOHt,\n",
    "\n",
    "Cljung_Model.reactions.FDH7,\n",
    "Cljung_Model.reactions.FTHFLi,\n",
    "Cljung_Model.reactions.MTHFC,\n",
    "Cljung_Model.reactions.MTHFD2,\n",
    "Cljung_Model.reactions.MTHFR5,\n",
    "Cljung_Model.reactions.METR,\n",
    "Cljung_Model.reactions.CODH4,\n",
    "Cljung_Model.reactions.CODH_ACS,\n",
    "Cljung_Model.reactions.PTAr,\n",
    "Cljung_Model.reactions.ACKr,\n",
    "Cljung_Model.reactions.ACAFDOR,\n",
    "Cljung_Model.reactions.ALCD2x,\n",
    "\n",
    "Cljung_Model.reactions.HYDFDN,\n",
    "Cljung_Model.reactions.RNF,\n",
    "Cljung_Model.reactions.ATPS4r,\n",
    "    \n",
    "Cljung_Model.reactions.POR,\n",
    "Cljung_Model.reactions.ACLS,\n",
    "Cljung_Model.reactions.ACLDC,\n",
    "Cljung_Model.reactions.BTDD_RR,\n",
    "    \n",
    "Cljung_Model.reactions.ACACT1r,\n",
    "Cljung_Model.reactions.HACD1,\n",
    "Cljung_Model.reactions.ECOAH1,\n",
    "Cljung_Model.reactions.ACOAD1z,\n",
    "Cljung_Model.reactions.BTCOARx,\n",
    "Cljung_Model.reactions.ALCD4,\n",
    "Cljung_Model.reactions.PBUTT,\n",
    "Cljung_Model.reactions.BUTKr])"
   ]
  },
  {
   "cell_type": "markdown",
   "metadata": {},
   "source": [
    "# Add Acetone Pathway"
   ]
  },
  {
   "cell_type": "code",
   "execution_count": 10,
   "metadata": {},
   "outputs": [],
   "source": [
    "WLmodelActn = WLmodel\n",
    "\n",
    "WLmodelActn.add_metabolites(Metabolite(id='acac_c',formula = 'C4H6O3', name = 'Acetoacetate', compartment = 'c' ))\n",
    "WLmodelActn.add_metabolites(Metabolite(id='act_c',formula = 'C3H6O', name = 'Acetone', compartment = 'c' ))\n",
    "WLmodelActn.add_metabolites(Metabolite(id='act_e', formula = 'C3H6O', name = 'Acetone', compartment = 'e'))"
   ]
  },
  {
   "cell_type": "code",
   "execution_count": 11,
   "metadata": {},
   "outputs": [
    {
     "name": "stdout",
     "output_type": "stream",
     "text": [
      "{}\n",
      "(0.0, 1000.0)\n",
      "aacoa_c + ac_c + h_c --> acac_c + accoa_c\n"
     ]
    }
   ],
   "source": [
    "ctfAB_ac = Reaction(\"ctfAB_ac\")\n",
    "ctfAB_ac.name = \"Acetate-acetoacetate CoA-transferase\"\n",
    "\n",
    "ctfAB_ac.add_metabolites({\n",
    "    WLmodelActn.metabolites.ac_c: -1.0,      #Acetate\n",
    "    WLmodelActn.metabolites.aacoa_c: -1.0,   #Acetoacetyl-CoA\n",
    "    WLmodelActn.metabolites.acac_c: 1.0,     #Acetoacetate\n",
    "    WLmodelActn.metabolites.accoa_c: 1.0,    #Acetyl-CoA\n",
    "    WLmodelActn.metabolites.h_c: -1.0\n",
    "})\n",
    "print(ctfAB_ac.check_mass_balance())    #ensure correct mass balance\n",
    "print(ctfAB_ac.bounds)                  #Ensure correct bounds\n",
    "print(ctfAB_ac.reaction)                #Ensure correct reaction"
   ]
  },
  {
   "cell_type": "code",
   "execution_count": 12,
   "metadata": {},
   "outputs": [
    {
     "name": "stdout",
     "output_type": "stream",
     "text": [
      "{}\n",
      "acac_c --> act_c + co2_c\n"
     ]
    }
   ],
   "source": [
    "adc = Reaction(\"ADC\")\n",
    "adc.name = \"acetoacetate decarboxylase\"\n",
    "\n",
    "adc.add_metabolites({\n",
    "    WLmodelActn.metabolites.acac_c: -1.0,     #Acetoacetate\n",
    "#    WLmodelActn.metabolites.h_c: -1.0, \n",
    "    WLmodelActn.metabolites.act_c: 1.0,\n",
    "    WLmodelActn.metabolites.co2_c: 1.0\n",
    "})\n",
    "print(adc.check_mass_balance())    #ensure correct mass balance\n",
    "print(adc.reaction)                #Ensure correct reaction"
   ]
  },
  {
   "cell_type": "code",
   "execution_count": 13,
   "metadata": {},
   "outputs": [
    {
     "data": {
      "text/html": [
       "\n",
       "        <table>\n",
       "            <tr>\n",
       "                <td><strong>Reaction identifier</strong></td><td>ACTt</td>\n",
       "            </tr><tr>\n",
       "                <td><strong>Name</strong></td><td>Acetone transporter</td>\n",
       "            </tr><tr>\n",
       "                <td><strong>Memory address</strong></td>\n",
       "                <td>0x07fd4725b4208</td>\n",
       "            </tr><tr>\n",
       "                <td><strong>Stoichiometry</strong></td>\n",
       "                <td>\n",
       "                    <p style='text-align:right'>act_c --> act_e</p>\n",
       "                    <p style='text-align:right'>Acetone --> Acetone</p>\n",
       "                </td>\n",
       "            </tr><tr>\n",
       "                <td><strong>GPR</strong></td><td></td>\n",
       "            </tr><tr>\n",
       "                <td><strong>Lower bound</strong></td><td>0.0</td>\n",
       "            </tr><tr>\n",
       "                <td><strong>Upper bound</strong></td><td>1000.0</td>\n",
       "            </tr>\n",
       "        </table>\n",
       "        "
      ],
      "text/plain": [
       "<Reaction ACTt at 0x7fd4725b4208>"
      ]
     },
     "execution_count": 13,
     "metadata": {},
     "output_type": "execute_result"
    }
   ],
   "source": [
    "actT = Reaction(\"ACTt\")\n",
    "actT.name = \"Acetone transporter\"\n",
    "actT.add_metabolites({ \n",
    "    WLmodelActn.metabolites.act_c: -1.0,\n",
    "    WLmodelActn.metabolites.act_e: 1.0\n",
    "})\n",
    "actT"
   ]
  },
  {
   "cell_type": "code",
   "execution_count": 14,
   "metadata": {},
   "outputs": [
    {
     "data": {
      "text/html": [
       "\n",
       "        <table>\n",
       "            <tr>\n",
       "                <td><strong>Reaction identifier</strong></td><td>EX_act_e</td>\n",
       "            </tr><tr>\n",
       "                <td><strong>Name</strong></td><td>Acetone exchange</td>\n",
       "            </tr><tr>\n",
       "                <td><strong>Memory address</strong></td>\n",
       "                <td>0x07fd4725d7da0</td>\n",
       "            </tr><tr>\n",
       "                <td><strong>Stoichiometry</strong></td>\n",
       "                <td>\n",
       "                    <p style='text-align:right'>act_e --></p>\n",
       "                    <p style='text-align:right'>Acetone --></p>\n",
       "                </td>\n",
       "            </tr><tr>\n",
       "                <td><strong>GPR</strong></td><td></td>\n",
       "            </tr><tr>\n",
       "                <td><strong>Lower bound</strong></td><td>0.0</td>\n",
       "            </tr><tr>\n",
       "                <td><strong>Upper bound</strong></td><td>1000.0</td>\n",
       "            </tr>\n",
       "        </table>\n",
       "        "
      ],
      "text/plain": [
       "<Reaction EX_act_e at 0x7fd4725d7da0>"
      ]
     },
     "execution_count": 14,
     "metadata": {},
     "output_type": "execute_result"
    }
   ],
   "source": [
    "act_ex = Reaction(\"EX_act_e\")\n",
    "act_ex.name = \"Acetone exchange\"\n",
    "act_ex.add_metabolites({ \n",
    "    WLmodelActn.metabolites.act_e: -1.0,\n",
    "})\n",
    "act_ex"
   ]
  },
  {
   "cell_type": "code",
   "execution_count": 15,
   "metadata": {},
   "outputs": [],
   "source": [
    "WLmodelActn.add_reactions([ctfAB_ac, adc, actT, act_ex])"
   ]
  },
  {
   "cell_type": "code",
   "execution_count": 16,
   "metadata": {},
   "outputs": [
    {
     "data": {
      "text/html": [
       "\n",
       "        <table>\n",
       "            <tr>\n",
       "                <td><strong>Reaction identifier</strong></td><td>SK_pi_c</td>\n",
       "            </tr><tr>\n",
       "                <td><strong>Name</strong></td><td>Phosphate sink</td>\n",
       "            </tr><tr>\n",
       "                <td><strong>Memory address</strong></td>\n",
       "                <td>0x07fd47259ceb8</td>\n",
       "            </tr><tr>\n",
       "                <td><strong>Stoichiometry</strong></td>\n",
       "                <td>\n",
       "                    <p style='text-align:right'>pi_c <=></p>\n",
       "                    <p style='text-align:right'>Phosphate <=></p>\n",
       "                </td>\n",
       "            </tr><tr>\n",
       "                <td><strong>GPR</strong></td><td></td>\n",
       "            </tr><tr>\n",
       "                <td><strong>Lower bound</strong></td><td>-1000.0</td>\n",
       "            </tr><tr>\n",
       "                <td><strong>Upper bound</strong></td><td>1000.0</td>\n",
       "            </tr>\n",
       "        </table>\n",
       "        "
      ],
      "text/plain": [
       "<Reaction SK_pi_c at 0x7fd47259ceb8>"
      ]
     },
     "execution_count": 16,
     "metadata": {},
     "output_type": "execute_result"
    }
   ],
   "source": [
    "WLmodelActn.add_boundary(WLmodelActn.metabolites.get_by_id(\"atp_c\"), type=\"sink\")\n",
    "WLmodelActn.add_boundary(WLmodelActn.metabolites.get_by_id(\"adp_c\"), type=\"sink\")\n",
    "#WLmodelActn.add_boundary(WLmodelActn.metabolites.get_by_id(\"nadh_c\"), type=\"sink\")\n",
    "#WLmodelActn.add_boundary(WLmodelActn.metabolites.get_by_id(\"nad_c\"), type=\"sink\")\n",
    "#WLmodelActn.add_boundary(WLmodelActn.metabolites.get_by_id(\"fdxo_42_c\"), type=\"sink\")\n",
    "#WLmodelActn.add_boundary(WLmodelActn.metabolites.get_by_id(\"fdxr_42_c\"), type=\"sink\")\n",
    "#WLmodelActn.add_boundary(WLmodelActn.metabolites.get_by_id(\"coa_c\"), type=\"sink\")\n",
    "#WLmodelActn.add_boundary(WLmodelActn.metabolites.get_by_id(\"h_c\"), type=\"sink\")\n",
    "WLmodelActn.add_boundary(WLmodelActn.metabolites.get_by_id(\"pi_c\"), type=\"sink\")"
   ]
  },
  {
   "cell_type": "markdown",
   "metadata": {},
   "source": [
    "Use this instead:\n",
    "https://www.frontiersin.org/articles/10.3389/fbioe.2020.621166/full"
   ]
  },
  {
   "cell_type": "code",
   "execution_count": 17,
   "metadata": {},
   "outputs": [
    {
     "data": {
      "text/html": [
       "<h3>Objective</h3><p>1.0 EX_ac_e = 2.5</p><h4>Uptake</h4><table border=\"1\" class=\"dataframe\">\n",
       "  <thead>\n",
       "    <tr style=\"text-align: right;\">\n",
       "      <th>Metabolite</th>\n",
       "      <th>Reaction</th>\n",
       "      <th>Flux</th>\n",
       "      <th>C-Number</th>\n",
       "      <th>C-Flux</th>\n",
       "    </tr>\n",
       "  </thead>\n",
       "  <tbody>\n",
       "    <tr>\n",
       "      <td>co_e</td>\n",
       "      <td>EX_co_e</td>\n",
       "      <td>10</td>\n",
       "      <td>1</td>\n",
       "      <td>19.35%</td>\n",
       "    </tr>\n",
       "    <tr>\n",
       "      <td>h2o_e</td>\n",
       "      <td>EX_h2o_e</td>\n",
       "      <td>0.8333</td>\n",
       "      <td>0</td>\n",
       "      <td>0.00%</td>\n",
       "    </tr>\n",
       "    <tr>\n",
       "      <td>h_e</td>\n",
       "      <td>EX_h_e</td>\n",
       "      <td>1.667</td>\n",
       "      <td>0</td>\n",
       "      <td>0.00%</td>\n",
       "    </tr>\n",
       "    <tr>\n",
       "      <td>adp_c</td>\n",
       "      <td>SK_adp_c</td>\n",
       "      <td>4.167</td>\n",
       "      <td>10</td>\n",
       "      <td>80.65%</td>\n",
       "    </tr>\n",
       "    <tr>\n",
       "      <td>pi_c</td>\n",
       "      <td>SK_pi_c</td>\n",
       "      <td>4.167</td>\n",
       "      <td>0</td>\n",
       "      <td>0.00%</td>\n",
       "    </tr>\n",
       "  </tbody>\n",
       "</table><h4>Secretion</h4><table border=\"1\" class=\"dataframe\">\n",
       "  <thead>\n",
       "    <tr style=\"text-align: right;\">\n",
       "      <th>Metabolite</th>\n",
       "      <th>Reaction</th>\n",
       "      <th>Flux</th>\n",
       "      <th>C-Number</th>\n",
       "      <th>C-Flux</th>\n",
       "    </tr>\n",
       "  </thead>\n",
       "  <tbody>\n",
       "    <tr>\n",
       "      <td>ac_e</td>\n",
       "      <td>EX_ac_e</td>\n",
       "      <td>-2.5</td>\n",
       "      <td>2</td>\n",
       "      <td>9.68%</td>\n",
       "    </tr>\n",
       "    <tr>\n",
       "      <td>co2_e</td>\n",
       "      <td>EX_co2_e</td>\n",
       "      <td>-5</td>\n",
       "      <td>1</td>\n",
       "      <td>9.68%</td>\n",
       "    </tr>\n",
       "    <tr>\n",
       "      <td>atp_c</td>\n",
       "      <td>SK_atp_c</td>\n",
       "      <td>-4.167</td>\n",
       "      <td>10</td>\n",
       "      <td>80.65%</td>\n",
       "    </tr>\n",
       "  </tbody>\n",
       "</table>"
      ],
      "text/plain": [
       "<cobra.summary.model_summary.ModelSummary at 0x7fd4702e5cc0>"
      ]
     },
     "execution_count": 17,
     "metadata": {},
     "output_type": "execute_result"
    }
   ],
   "source": [
    "WLmodelActn.objective = \"EX_ac_e\"\n",
    "\n",
    "medium_carb = WLmodelActn.medium\n",
    "medium_carb['EX_co_e'] = 10\n",
    "medium_carb['EX_co2_e'] = 0\n",
    "medium_carb['EX_h2_e'] = 0\n",
    "\n",
    "WLmodelActn.medium = medium_carb\n",
    "WLmodelActn.optimize()\n",
    "WLmodelActn.summary()"
   ]
  },
  {
   "cell_type": "code",
   "execution_count": 18,
   "metadata": {},
   "outputs": [],
   "source": [
    "WLmodelActn.reactions.CODH_ACS.bounds = 1,1"
   ]
  },
  {
   "cell_type": "code",
   "execution_count": 19,
   "metadata": {},
   "outputs": [
    {
     "name": "stdout",
     "output_type": "stream",
     "text": [
      "CO:  0.0\n",
      "H2O:  2.3333333333333335\n",
      "CO2:  -2.0\n",
      "H2:  -4.0\n",
      "Product:  1.0\n",
      "ATP:  0.3333333333333333\n"
     ]
    }
   ],
   "source": [
    "WLmodelActn.objective = \"EX_ac_e\"\n",
    "#WLmodelActn.objective = \"EX_etoh_e\"\n",
    "#WLmodelActn.objective = \"EX_act_e\"\n",
    "#WLmodelActn.objective = \"EX_but_e\"\n",
    "#WLmodelActn.objective = \"EX_btoh_e\"\n",
    "#WLmodelActn.objective = \"EX_btd_RR_e\"\n",
    "\n",
    "medium_hom = WLmodelActn.medium\n",
    "medium_hom['EX_co_e'] = 0\n",
    "medium_hom['EX_co2_e'] = 10\n",
    "medium_hom['EX_h2_e'] = 1000\n",
    "WLmodelActn.medium = medium_hom\n",
    "solution = WLmodelActn.optimize()\n",
    "\n",
    "print(\"CO: \",WLmodelActn.reactions.EX_co_e.flux)\n",
    "print(\"H2O: \",WLmodelActn.reactions.EX_h2o_e.flux)\n",
    "print(\"CO2: \",WLmodelActn.reactions.EX_co2_e.flux)\n",
    "print(\"H2: \",WLmodelActn.reactions.EX_h2_e.flux)\n",
    "print(\"Product: \",WLmodelActn.slim_optimize())\n",
    "print(\"ATP: \",WLmodelActn.reactions.SK_atp_c.flux)"
   ]
  },
  {
   "cell_type": "code",
   "execution_count": 20,
   "metadata": {},
   "outputs": [
    {
     "data": {
      "application/vnd.jupyter.widget-view+json": {
       "model_id": "45318e89965c45c9a3de178ae0a88651",
       "version_major": 2,
       "version_minor": 0
      },
      "text/plain": [
       "Builder(reaction_data={'EX_h2_e': -4.0, 'EX_h2o_e': 2.3333333333333335, 'EX_co2_e': -2.0, 'EX_co_e': 0.0, 'EX_…"
      ]
     },
     "metadata": {},
     "output_type": "display_data"
    }
   ],
   "source": [
    "Builder(model = WLmodelActn, map_json = join(data_dir,'Models/EscherMaps/WL_core_Actn_SKATP.json'), reaction_data = solution.fluxes.to_dict())"
   ]
  },
  {
   "cell_type": "code",
   "execution_count": 22,
   "metadata": {},
   "outputs": [
    {
     "name": "stdout",
     "output_type": "stream",
     "text": [
      "EX_ac_e\n",
      " carb: -4.0 CO + -0.33 H2O + 2.0 CO2 + 1.0 CH3COOH + -0.67 H+ + 1.67 ATP\n",
      "   ATP/Electron donor:  0.42\n",
      "   Product/Electron donor:  0.5\n",
      " hom: -2.0 CO2 + -4.0 H2 + 2.33 H2O + 1.0 CH3COOH + 0.67 H+ + 0.33 ATP\n",
      "   ATP/Electron donor:  0.08\n",
      "   Product/Electron donor:  0.5\n",
      "EX_etoh_e\n",
      " carb: -6.0 CO + -0.33 H2O + 4.0 CO2 + 1.0 C2H5OH + -2.67 H+ + 2.67 ATP\n",
      "   ATP/Electron donor:  0.44\n",
      "   Product/Electron donor:  0.33\n",
      " hom: -2.0 CO2 + -6.0 H2 + 3.67 H2O + 1.0 C2H5OH + -0.67 H+ + 0.67 ATP\n",
      "   ATP/Electron donor:  0.11\n",
      "   Product/Electron donor:  0.33\n",
      "EX_act_e\n",
      " carb: -4.0 CO + -0.17 H2O + 2.5 CO2 + 0.5 C3H6O + -1.33 H+ + 1.33 ATP\n",
      "   ATP/Electron donor:  0.33\n",
      "   Product/Electron donor:  0.38\n",
      " hom: -1.5 CO2 + -4.0 H2 + 2.5 H2O + 0.5 C3H6O + 0.0 H+ + 0.0 ATP\n",
      "   ATP/Electron donor:  0.0\n",
      "   Product/Electron donor:  0.38\n",
      "EX_but_e\n",
      " carb: -5.0 CO + 0.17 H2O + 3.0 CO2 + 0.5 C4H7O2 + -1.67 H+ + 2.17 ATP\n",
      "   ATP/Electron donor:  0.43\n",
      "   Product/Electron donor:  0.4\n",
      " hom: -2.0 CO2 + -5.0 H2 + 3.5 H2O + 0.5 C4H7O2 + 0.0 H+ + 0.5 ATP\n",
      "   ATP/Electron donor:  0.1\n",
      "   Product/Electron donor:  0.4\n",
      "EX_btoh_e\n",
      " carb: -6.0 CO + -0.17 H2O + 4.0 CO2 + 0.5 C4H9OH + -2.33 H+ + 2.33 ATP\n",
      "   ATP/Electron donor:  0.39\n",
      "   Product/Electron donor:  0.33\n",
      " hom: -2.0 CO2 + -6.0 H2 + 3.83 H2O + 0.5 C4H9OH + -0.33 H+ + 0.33 ATP\n",
      "   ATP/Electron donor:  0.06\n",
      "   Product/Electron donor:  0.33\n",
      "EX_btd_RR_e\n",
      " carb: -5.5 CO + -1.5 H2O + 3.5 CO2 + 0.5 C4H10O2 + -1.0 H+ + 1.0 ATP\n",
      "   ATP/Electron donor:  0.18\n",
      "   Product/Electron donor:  0.36\n",
      " hom: -2.0 CO2 + -5.5 H2 + 2.17 H2O + 0.5 C4H10O2 + 0.83 H+ + -0.83 ATP\n",
      "   ATP/Electron donor:  -0.15\n",
      "   Product/Electron donor:  0.36\n"
     ]
    }
   ],
   "source": [
    "objectives = pd.Series([\"EX_ac_e\",\"EX_etoh_e\",\"EX_act_e\",\"EX_but_e\",\"EX_btoh_e\",\"EX_btd_RR_e\"])\n",
    "formulas = pd.Series([\"CH3COOH\",\"C2H5OH\",\"C3H6O\",\"C4H7O2\",\"C4H9OH\",\"C4H10O2\"], index=objectives)\n",
    "Cmol =  pd.Series([2,2,3,4,4,4], index=objectives)\n",
    "\n",
    "for x in objectives:\n",
    "    print(x)\n",
    "    WLmodelActn.objective = x\n",
    "    with WLmodelActn:\n",
    "        medium_carb = WLmodelActn.medium\n",
    "        medium_carb['EX_co_e'] = 10\n",
    "        medium_carb['EX_co2_e'] = 0\n",
    "        medium_carb['EX_h2_e'] = 0\n",
    "        WLmodelActn.medium = medium_carb\n",
    "        WLmodelActn.optimize()\n",
    "        print(f\" carb: {round(WLmodelActn.reactions.EX_co_e.flux,2)} CO + {round(WLmodelActn.reactions.EX_h2o_e.flux,2)} H2O + {round(WLmodelActn.reactions.EX_co2_e.flux,2)} CO2 + {round(WLmodelActn.slim_optimize(),2)} {formulas[x]} + {round(WLmodelActn.reactions.EX_h_e.flux,2)} H+ + {round(WLmodelActn.reactions.SK_atp_c.flux,2)} ATP\")\n",
    "        print(\"   ATP/Electron donor: \", round(-WLmodelActn.reactions.SK_atp_c.flux/WLmodelActn.reactions.EX_co_e.flux,2))\n",
    "        print(\"   Product/Electron donor: \", round(-WLmodelActn.slim_optimize()*Cmol[x]/WLmodelActn.reactions.EX_co_e.flux,2))\n",
    "\n",
    "    with WLmodelActn:\n",
    "        medium_hom = WLmodelActn.medium\n",
    "        medium_hom['EX_co_e'] = 0\n",
    "        medium_hom['EX_co2_e'] = 10\n",
    "        medium_hom['EX_h2_e'] = 1000\n",
    "        WLmodelActn.medium = medium_hom\n",
    "        WLmodelActn.optimize()\n",
    "        print(f\" hom: {round(WLmodelActn.reactions.EX_co2_e.flux,2)} CO2 + {round(WLmodelActn.reactions.EX_h2_e.flux,2)} H2 + {round(WLmodelActn.reactions.EX_h2o_e.flux,2)} H2O + {round(WLmodelActn.slim_optimize(),2)} {formulas[x]} + {round(WLmodelActn.reactions.EX_h_e.flux,2)} H+ + {round(WLmodelActn.reactions.SK_atp_c.flux,2)} ATP\")\n",
    "        print(\"   ATP/Electron donor: \", round(-WLmodelActn.reactions.SK_atp_c.flux/WLmodelActn.reactions.EX_h2_e.flux,2))\n",
    "        print(\"   Product/Electron donor: \", round(-WLmodelActn.slim_optimize()*Cmol[x]/WLmodelActn.reactions.EX_h2_e.flux,2))"
   ]
  }
 ],
 "metadata": {
  "kernelspec": {
   "display_name": "dFBACoCultivation",
   "language": "python",
   "name": "dfbacocultivation"
  },
  "language_info": {
   "codemirror_mode": {
    "name": "ipython",
    "version": 3
   },
   "file_extension": ".py",
   "mimetype": "text/x-python",
   "name": "python",
   "nbconvert_exporter": "python",
   "pygments_lexer": "ipython3",
   "version": "3.6.12"
  }
 },
 "nbformat": 4,
 "nbformat_minor": 4
}
