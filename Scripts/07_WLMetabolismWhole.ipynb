{
 "cells": [
  {
   "cell_type": "markdown",
   "metadata": {},
   "source": [
    "# Notebook 06: Whole Wood Ljungdahl Metabolism\n",
    "\n",
    "This notebook is part of the research paper titled:\n",
    "\n",
    "Optimizing acetogenic CO(2) utilization through metabolic and process engineering highlights the potential of thermophilic bioproduction\n",
    "\n",
    "This notebook uses a stoichiometric constraint-based model of the Wood-Ljungdahl pathway and its products to determine the energy generated as ATP while producing various compounds. The model was built using the genome-scale metabolic model of Clostridium ljungdahlii as a template. Notably, bifurcating enzymes restoring the energy and redox co-factors are this time included, only ATP can be produced or consumed, which is included in the model as a sink reaction, along with ADP and Pi (notebook S06).\n",
    "\n",
    "Notebook author: Philip J. Gorter de Vries"
   ]
  },
  {
   "cell_type": "code",
   "execution_count": 1,
   "metadata": {},
   "outputs": [],
   "source": [
    "import numpy as np\n",
    "import pandas as pd\n",
    "import cobra.io\n",
    "import escher\n",
    "import matplotlib.pyplot as plt\n",
    "from escher import Builder\n",
    "from cobra import Model, Reaction, Metabolite"
   ]
  },
  {
   "cell_type": "code",
   "execution_count": 2,
   "metadata": {},
   "outputs": [
    {
     "name": "stdout",
     "output_type": "stream",
     "text": [
      "Using license file /Users/phivri/gurobi.lic\n",
      "Academic license - for non-commercial use only - expires 2023-07-30\n"
     ]
    }
   ],
   "source": [
    "WLmodel = cobra.io.read_sbml_model('../Models/WLPathway_bifurcating.xml')"
   ]
  },
  {
   "cell_type": "markdown",
   "metadata": {},
   "source": [
    "To properly compare all results for the different substrate and product combinations, the model is constrained by the flux through CODH_ACS, so to equal Acetyl-CoA."
   ]
  },
  {
   "cell_type": "code",
   "execution_count": 3,
   "metadata": {},
   "outputs": [],
   "source": [
    "WLmodel.reactions.CODH_ACS.bounds = 1,1"
   ]
  },
  {
   "cell_type": "markdown",
   "metadata": {},
   "source": [
    "Define carboxydotrophic and homoacetogenic media, Acetyl-CoA is constrained, so substrates are only absent or present and uptake rates are unconstrained"
   ]
  },
  {
   "cell_type": "code",
   "execution_count": 4,
   "metadata": {},
   "outputs": [],
   "source": [
    "medium_carb = WLmodel.medium\n",
    "medium_carb['EX_co_e'] = 1000\n",
    "medium_carb['EX_co2_e'] = 0\n",
    "medium_carb['EX_h2_e'] = 0\n",
    "\n",
    "medium_hom = WLmodel.medium\n",
    "medium_hom['EX_co_e'] = 0\n",
    "medium_hom['EX_co2_e'] = 1000\n",
    "medium_hom['EX_h2_e'] = 1000"
   ]
  },
  {
   "cell_type": "code",
   "execution_count": 5,
   "metadata": {
    "scrolled": true
   },
   "outputs": [
    {
     "name": "stdout",
     "output_type": "stream",
     "text": [
      "Acetate exchange\n",
      " carb: -4.0 CO + -0.33 H2O + 2.0 CO2 + 1.0 CH3COOH + -0.67 H+ + 1.67 ATP\n",
      "   ATP/Electron donor:  0.42\n",
      "   Product/Electron donor:  0.5\n",
      " carb: -2.0 CO2 + -4.0 H2 + 1.0 CH3COOH + 2.33 H2O + 0.67 H+ + 0.33 ATP\n",
      "   ATP/Electron donor:  0.08\n",
      "   Product/Electron donor:  0.5 \n",
      "\n",
      "Ethanol exchange\n",
      " carb: -6.0 CO + -0.67 H2O + 4.0 CO2 + 1.0 C2H5OH + -2.33 H+ + 2.33 ATP\n",
      "   ATP/Electron donor:  0.39\n",
      "   Product/Electron donor:  0.33\n",
      " carb: -2.0 CO2 + -6.0 H2 + 1.0 C2H5OH + 3.33 H2O + -0.33 H+ + 0.33 ATP\n",
      "   ATP/Electron donor:  0.06\n",
      "   Product/Electron donor:  0.33 \n",
      "\n",
      "Acetone exchange\n",
      " carb: -4.0 CO + -0.5 H2O + 2.5 CO2 + 0.5 C3H6O + -1.0 H+ + 1.0 ATP\n",
      "   ATP/Electron donor:  0.25\n",
      "   Product/Electron donor:  0.38\n",
      " carb: -1.5 CO2 + -4.0 H2 + 0.5 C3H6O + 2.17 H2O + 0.33 H+ + -0.33 ATP\n",
      "   ATP/Electron donor:  -0.08\n",
      "   Product/Electron donor:  0.38 \n",
      "\n",
      "Butyrate (n-C4:0) exchange\n",
      " carb: -5.0 CO + -0.17 H2O + 3.0 CO2 + 0.5 C4H7O2 + -1.33 H+ + 1.83 ATP\n",
      "   ATP/Electron donor:  0.37\n",
      "   Product/Electron donor:  0.4\n",
      " carb: -2.0 CO2 + -5.0 H2 + 0.5 C4H7O2 + 3.17 H2O + 0.33 H+ + 0.17 ATP\n",
      "   ATP/Electron donor:  0.03\n",
      "   Product/Electron donor:  0.4 \n",
      "\n",
      "Butanol exchange\n",
      " carb: -6.0 CO + -0.5 H2O + 4.0 CO2 + 0.5 C4H9OH + -2.0 H+ + 2.0 ATP\n",
      "   ATP/Electron donor:  0.33\n",
      "   Product/Electron donor:  0.33\n",
      " carb: -2.0 CO2 + -6.0 H2 + 0.5 C4H9OH + 3.5 H2O + 0.0 H+ + 0.0 ATP\n",
      "   ATP/Electron donor:  0.0\n",
      "   Product/Electron donor:  0.33 \n",
      "\n",
      " R R  2 3 Butanediol exchange\n",
      " carb: -5.5 CO + -1.83 H2O + 3.5 CO2 + 0.5 C4H10O2 + -0.67 H+ + 0.67 ATP\n",
      "   ATP/Electron donor:  0.12\n",
      "   Product/Electron donor:  0.36\n",
      " carb: -2.0 CO2 + -5.5 H2 + 0.5 C4H10O2 + 1.83 H2O + 1.17 H+ + -1.17 ATP\n",
      "   ATP/Electron donor:  -0.21\n",
      "   Product/Electron donor:  0.36 \n",
      "\n"
     ]
    }
   ],
   "source": [
    "objectives = pd.Series([\"EX_ac_e\",\"EX_etoh_e\",\"EX_act_e\",\"EX_but_e\",\"EX_btoh_e\",\"EX_btd_RR_e\"])\n",
    "names = pd.Series([\"Acetate\",\"Ethanol\",\"Acetone\",\"Butyrate\",\"Butanol\",\"Butanediol\"], index=objectives)\n",
    "formulas = pd.Series([\"CH3COOH\",\"C2H5OH\",\"C3H6O\",\"C4H7O2\",\"C4H9OH\",\"C4H10O2\"], index=objectives)\n",
    "Cmol =  pd.Series([2,2,3,4,4,4], index=objectives)\n",
    "\n",
    "Yields = pd.DataFrame(index=objectives)\n",
    "Yields[\"ATPcarb\"] = Yields[\"ATPhom\"] = Yields[\"YPScarb\"] = Yields[\"YPShom\"] = \"NaN\"\n",
    "\n",
    "for x in objectives:\n",
    "    print(WLmodel.reactions.get_by_id(x).name)\n",
    "    WLmodel.objective = x\n",
    "    with WLmodel:\n",
    "        WLmodel.medium = medium_carb\n",
    "        WLmodel.optimize()\n",
    "        Yields.ATPcarb[x] = -WLmodel.reactions.SK_atp_c.flux/WLmodel.reactions.EX_co_e.flux\n",
    "        Yields.YPScarb[x] = -WLmodel.slim_optimize()*Cmol[x]/WLmodel.reactions.EX_co_e.flux\n",
    "        print(f\" carb: {round(WLmodel.reactions.EX_co_e.flux,2)} CO + {round(WLmodel.reactions.EX_h2o_e.flux,2)} H2O + {round(WLmodel.reactions.EX_co2_e.flux,2)} CO2 + {round(WLmodel.slim_optimize(),2)} {formulas[x]} + {round(WLmodel.reactions.EX_h_e.flux,2)} H+ + {round(WLmodel.reactions.SK_atp_c.flux,2)} ATP\")\n",
    "        print(\"   ATP/Electron donor: \", round(Yields.ATPcarb[x],2))\n",
    "        print(\"   Product/Electron donor: \", round(Yields.YPScarb[x],2))\n",
    "\n",
    "    with WLmodel:\n",
    "        WLmodel.medium = medium_hom\n",
    "        WLmodel.optimize()\n",
    "        Yields.ATPhom[x] = -WLmodel.reactions.SK_atp_c.flux/WLmodel.reactions.EX_h2_e.flux\n",
    "        Yields.YPShom[x] = -WLmodel.slim_optimize()*Cmol[x]/WLmodel.reactions.EX_h2_e.flux\n",
    "        print(f\" carb: {round(WLmodel.reactions.EX_co2_e.flux,2)} CO2 + {round(WLmodel.reactions.EX_h2_e.flux,2)} H2 + {round(WLmodel.slim_optimize(),2)} {formulas[x]} + {round(WLmodel.reactions.EX_h2o_e.flux,2)} H2O + {round(WLmodel.reactions.EX_h_e.flux,2)} H+ + {round(WLmodel.reactions.SK_atp_c.flux,2)} ATP\")\n",
    "        print(\"   ATP/Electron donor: \", round(Yields.ATPhom[x],2))\n",
    "        print(\"   Product/Electron donor: \", round(Yields.YPShom[x],2), \"\\n\")\n",
    "        \n",
    "Yields.index = names"
   ]
  },
  {
   "cell_type": "markdown",
   "metadata": {},
   "source": [
    "### Calculate maximal thermodynamic ATP yield"
   ]
  },
  {
   "cell_type": "code",
   "execution_count": 6,
   "metadata": {},
   "outputs": [
    {
     "data": {
      "image/png": "[encoded data removed]",
      "text/plain": [
       "<Figure size 216x216 with 1 Axes>"
      ]
     },
     "metadata": {
      "needs_background": "light"
     },
     "output_type": "display_data"
    }
   ],
   "source": [
    "# Load the thermodynamic data of the compounds\n",
    "dfGR = pd.read_csv(\"../Data/EnthalpyGibbs.csv\", index_col=\"Compound\")[\"dfGR\"]\n",
    "dfHR = pd.read_csv(\"../Data/EnthalpyGibbs.csv\", index_col=\"Compound\")[\"dfHR\"]\n",
    "\n",
    "ElemFormulae = pd.DataFrame({\n",
    "    \"Acetate\": [2,4,2],\n",
    "    \"Acetone\": [3,6,1],\n",
    "    \"Ethanol\": [2,6,1],\n",
    "    \"Butanol\": [4,10,1],\n",
    "    \"Butyrate\": [4,8,2],\n",
    "    \"Butanediol\": [4,10,2]},\n",
    "    index=pd.Index([\"C\",\"H\",\"O\"])).T\n",
    "\n",
    "ElemFormulae[\"form\"] = \"C\" + ElemFormulae[\"C\"].astype(str) + \"H\" + ElemFormulae[\"H\"].astype(str) + \"O\" + ElemFormulae[\"O\"].astype(str)\n",
    "\n",
    "S_carb = pd.DataFrame()\n",
    "S_carb[\"CO\"] = -ElemFormulae[\"C\"] + ElemFormulae[\"O\"] - ElemFormulae[\"C\"] - ElemFormulae[\"H\"]/2\n",
    "S_carb[\"Water\"] = -ElemFormulae[\"H\"]/2\n",
    "S_carb[\"CO2\"] = -ElemFormulae[\"O\"] + ElemFormulae[\"C\"] + ElemFormulae[\"H\"]/2\n",
    "S_carb = S_carb.astype(int)\n",
    "\n",
    "S_hom = pd.DataFrame()\n",
    "S_hom[\"H2\"] = -ElemFormulae[\"H\"]/2 + ElemFormulae[\"O\"] - 2*ElemFormulae[\"C\"]\n",
    "S_hom[\"CO2\"] = -ElemFormulae[\"C\"]\n",
    "S_hom[\"Water\"] = -ElemFormulae[\"O\"] + 2*ElemFormulae[\"C\"] \n",
    "S_hom = S_hom.astype(int)\n",
    "\n",
    "dG_hom = (pd.DataFrame.sum(S_hom*dfGR,axis = 1, skipna = True) + dfGR[S_hom.index])/S_hom[\"H2\"]\n",
    "ATP_hom = dG_hom/37.64\n",
    "ATP_hom = ATP_hom[names]\n",
    "\n",
    "dG_carb = (pd.DataFrame.sum(S_carb*dfGR,axis = 1, skipna = True) + dfGR[S_carb.index])/S_carb[\"CO\"]\n",
    "ATP_carb = dG_carb/37.64\n",
    "ATP_carb = ATP_carb[names]\n",
    "\n",
    "plt.rcParams['axes.spines.right'] = False\n",
    "plt.rcParams['axes.spines.top'] = False\n",
    "plt.rcParams['axes.spines.bottom'] = False\n",
    "\n",
    "X = ATP_carb.index\n",
    "X_axis = np.arange(len(X))\n",
    "\n",
    "fig = plt.figure(figsize=(3,3))\n",
    "\n",
    "#plt.axis([-0.6, len(X)-0.4,-0.25, 1.6])\n",
    "plt.axis('off')\n",
    "plt.plot(np.NaN, np.NaN, 'lightcoral')\n",
    "plt.plot(np.NaN, np.NaN, \"firebrick\")\n",
    "plt.plot(np.NaN, np.NaN, \"lightsteelblue\")\n",
    "plt.plot(np.NaN, np.NaN, 'steelblue')\n",
    "plt.plot(np.NaN, np.NaN, 'gold')\n",
    "#plt.bar(X_axis - 0.25, ATP_carb, 0.25, color = \"lightcoral\", label = '$Y_{ATP/CO,max}$')#' [mol/mol]')\n",
    "#plt.bar(X_axis - 0.25, Yields.ATPcarb, 0.15, color = \"firebrick\", label = '$Y_{ATP/CO}$')# [mol/mol]')\n",
    "#plt.bar(X_axis + 0, ATP_hom, 0.25, color = \"lightsteelblue\", label = '$Y_{ATP/H_2,max}$')# [mol/mol]')\n",
    "#plt.bar(X_axis + 0, Yields.ATPhom, 0.15, color = \"steelblue\", label = '$Y_{ATP/H_2}$')# [mol/mol]')\n",
    "#plt.bar(X_axis + 0.25, Yields.YPShom, 0.25, color = \"gold\", label = '$Y_{P/S}$')# [Cmol/mol]')\n",
    "#plt.axhline(0, color='black', linewidth=0.8)\n",
    "#plt.ylabel(r'Yield [$(C)mol/mol$]', fontsize=15)\n",
    "\n",
    "#plt.tick_params(axis='x', which='major', labelsize=15, length = 0, labelrotation = 90)\n",
    "#plt.tick_params(axis='y', which='major', labelsize=15, length = 6)\n",
    "#plt.xticks(X_axis, X)\n",
    "plt.legend(['$Y_{ATP/CO,max}$','$Y_{ATP/CO}$','$Y_{ATP/H_2,max}$','$Y_{ATP/H_2}$','$Y_{P/S}$'],ncol = 1,loc='upper left', fontsize=15)\n",
    "#, bbox_to_anchor=(-0.2, 1.4), ncol=3, fontsize=15)#, borderaxespad=0)\n",
    "\n",
    "plt.savefig('../Figures/Figure4/B_Legend.svg')\n",
    "plt.show()"
   ]
  },
  {
   "cell_type": "code",
   "execution_count": 24,
   "metadata": {},
   "outputs": [
    {
     "data": {
      "image/png": "[encoded data removed]",
      "text/plain": [
       "<Figure size 600x400 with 1 Axes>"
      ]
     },
     "metadata": {
      "needs_background": "light"
     },
     "output_type": "display_data"
    }
   ],
   "source": [
    "plt.rcParams['axes.spines.right'] = False\n",
    "plt.rcParams['axes.spines.top'] = False\n",
    "plt.rcParams['axes.spines.bottom'] = False\n",
    "\n",
    "X = ATP_carb.index\n",
    "X_axis = np.arange(len(X))\n",
    "\n",
    "plt.figure(dpi=100)\n",
    "plt.axis([-0.4, len(X)-0.4,-0.19, 1.1])\n",
    "#plt.bar(X_axis - 0.25, ATP_carb, 0.25, color = \"lightcoral\", label = '$Y_{ATP/CO,max}$')#' [mol/mol]')\n",
    "#plt.bar(X_axis - 0.25, Yields.ATPcarb, 0.15, color = \"firebrick\", label = '$Y_{ATP/CO}$')# [mol/mol]')\n",
    "plt.bar(X_axis, 0, color = \"w\", label=\"\")\n",
    "plt.bar(X_axis + 0, ATP_hom, 0.25, color = \"lightsteelblue\", label = '$Y_{ATP/H_2,max}$')# [mol/mol]')\n",
    "plt.bar(X_axis + 0, Yields.ATPhom, 0.15, color = \"steelblue\", label = '$Y_{ATP/H_2}$')# [mol/mol]')\n",
    "plt.bar(X_axis + 0.25, Yields.YPShom, 0.25, color = \"gold\", label = '$Y_{P/S}$')# [Cmol/mol]')\n",
    "plt.axhline(0, color='black', linewidth=1)\n",
    "plt.ylabel(r'Yield [$(C)mol/mol$]', fontsize=15)\n",
    "\n",
    "plt.tick_params(axis='x', which='major', labelsize=15, length = 0, labelrotation = 90)\n",
    "plt.tick_params(axis='y', which='major', labelsize=15, length = 6)\n",
    "plt.xticks(X_axis, X)\n",
    "#plt.text(-1.1, 1.9, \"[mol/mol]\", fontsize = 15)\n",
    "#plt.text(1.7, 1.9, \"[mol/mol]\", fontsize = 15)\n",
    "#plt.text(4.1, 1.9, \"[Cmol/mol]\", fontsize = 15)\n",
    "#plt.legend(loc='upper left', bbox_to_anchor=(-0.15, 1.5), ncol=3, fontsize=15, frameon=False)#, borderaxespad=0)\n",
    "plt.show()"
   ]
  },
  {
   "cell_type": "markdown",
   "metadata": {},
   "source": [
    "## Closer look, change x within [0:5] to view different product"
   ]
  },
  {
   "cell_type": "code",
   "execution_count": 8,
   "metadata": {},
   "outputs": [
    {
     "data": {
      "application/vnd.jupyter.widget-view+json": {
       "model_id": "70702e171f104c70b673e10100f013c7",
       "version_major": 2,
       "version_minor": 0
      },
      "text/plain": [
       "Builder()"
      ]
     },
     "metadata": {},
     "output_type": "display_data"
    }
   ],
   "source": [
    "x = 0\n",
    "\n",
    "WLmodel.objective = objectives[x]\n",
    "\n",
    "#Medium: choose one by commenting the other out\n",
    "WLmodel.medium = medium_carb\n",
    "#WLmodel.medium = medium_hom\n",
    "\n",
    "solution = WLmodel.optimize()\n",
    "\n",
    "Builder(model = WLmodel, map_json = '../Models/EscherMaps/WLPathway_Bifurcating.json')#, reaction_data = solution.fluxes.to_dict())"
   ]
  },
  {
   "cell_type": "code",
   "execution_count": 9,
   "metadata": {},
   "outputs": [
    {
     "data": {
      "application/vnd.jupyter.widget-view+json": {
       "model_id": "00aa467693294bb7b3bddcdfca92fb01",
       "version_major": 2,
       "version_minor": 0
      },
      "text/plain": [
       "Builder(reaction_data={'EX_h2_e': 0.0, 'EX_h2o_e': -0.3333333333333335, 'EX_co2_e': 2.0, 'EX_co_e': -4.0, 'EX_…"
      ]
     },
     "metadata": {},
     "output_type": "display_data"
    }
   ],
   "source": [
    "Builder(model = WLmodel, map_json = '../Models/EscherMaps/AcetonePathway.json', reaction_data = solution.fluxes.to_dict())"
   ]
  }
 ],
 "metadata": {
  "kernelspec": {
   "display_name": "dFBACoCultivation",
   "language": "python",
   "name": "dfbacocultivation"
  },
  "language_info": {
   "codemirror_mode": {
    "name": "ipython",
    "version": 3
   },
   "file_extension": ".py",
   "mimetype": "text/x-python",
   "name": "python",
   "nbconvert_exporter": "python",
   "pygments_lexer": "ipython3",
   "version": "3.6.13"
  }
 },
 "nbformat": 4,
 "nbformat_minor": 4
}
