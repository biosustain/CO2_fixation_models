{
 "cells": [
  {
   "cell_type": "code",
   "execution_count": 1,
   "metadata": {},
   "outputs": [],
   "source": [
    "import numpy as np\n",
    "import pandas as pd\n",
    "import cobra.io\n",
    "import escher\n",
    "from escher import Builder\n",
    "from cobra import Model, Reaction, Metabolite\n",
    "from os.path import join\n",
    "\n",
    "data_dir = \"/Users/phivri/Documents/GitHub/Biosustain/MoGeoModel\""
   ]
  },
  {
   "cell_type": "code",
   "execution_count": 2,
   "metadata": {},
   "outputs": [
    {
     "name": "stdout",
     "output_type": "stream",
     "text": [
      "Using license file /Users/phivri/gurobi.lic\n",
      "Academic license - for non-commercial use only - expires 2022-07-23\n"
     ]
    }
   ],
   "source": [
    "Cljung_Model = cobra.io.read_sbml_model(join(data_dir,'Models/C-ljungdahlii_iHN637.xml'))\n",
    "\n",
    "medium = Cljung_Model.medium\n",
    "medium['EX_h2_e'] = 1000\n",
    "medium['EX_h2o_e'] = 1000\n",
    "medium['EX_k_e'] = 0\n",
    "medium['EX_fru_e'] = 0\n",
    "medium['EX_mg2_e'] = 0\n",
    "medium['EX_mn2_e'] = 0\n",
    "medium['EX_na1_e'] = 0\n",
    "medium['EX_nh4_e'] = 0\n",
    "medium['EX_ni2_e'] = 0\n",
    "medium['EX_pi_e'] = 0\n",
    "medium['EX_mobd_e'] = 0\n",
    "medium['EX_zn2_e'] = 0\n",
    "medium['EX_ribflv_e'] = 0\n",
    "medium['EX_btn_e'] = 0\n",
    "medium['EX_so4_e'] = 0\n",
    "medium['EX_thm_e'] = 0\n",
    "medium['EX_ca2_e'] = 0\n",
    "medium['EX_cl_e'] = 0\n",
    "medium['EX_co2_e'] = 10\n",
    "medium['EX_cobalt2_e'] = 0\n",
    "medium['EX_cu2_e'] = 0\n",
    "medium['EX_fe2_e'] = 0\n",
    "medium['EX_fol_e'] = 0\n",
    "medium['EX_h_e'] = 1000\n",
    "Cljung_Model.medium = medium"
   ]
  },
  {
   "cell_type": "code",
   "execution_count": 3,
   "metadata": {},
   "outputs": [
    {
     "name": "stdout",
     "output_type": "stream",
     "text": [
      "{}\n",
      "(0.0, 1000.0)\n",
      "mlthf_c + nad_c --> methf_c + nadh_c\n"
     ]
    }
   ],
   "source": [
    "Cljung_Model.reactions.ATPM.bounds = 0, 1000\n",
    "\n",
    "Cljung_Model.reactions.ACt2r.knock_out()\n",
    "\n",
    "acT = Reaction(\"ACt\")\n",
    "acT.name = \"Acetate transporter\"\n",
    "acT.add_metabolites({ \n",
    "    Cljung_Model.metabolites.ac_c: -1.0,\n",
    "    Cljung_Model.metabolites.ac_e: 1.0\n",
    "})\n",
    "\n",
    "mthfd2 = Reaction(\"MTHFD2\")\n",
    "mthfd2.name = \"Methylenetetrahydrofolate dehydrogenase (NAD)\"\n",
    "\n",
    "mthfd2.add_metabolites({\n",
    "    Cljung_Model.metabolites.mlthf_c: -1.0,\n",
    "    Cljung_Model.metabolites.nad_c: -1.0,\n",
    "    Cljung_Model.metabolites.methf_c: 1.0,\n",
    "    Cljung_Model.metabolites.nadh_c: 1.0,\n",
    "})\n",
    "print(mthfd2.check_mass_balance())    #ensure correct mass balance\n",
    "print(mthfd2.bounds)                  #Ensure correct bounds\n",
    "print(mthfd2.reaction)\n",
    "\n",
    "Cljung_Model.add_reactions([acT, mthfd2])\n",
    "Cljung_Model.reactions.MTHFD2.bounds = -1000.0, 1000.0\n"
   ]
  },
  {
   "cell_type": "code",
   "execution_count": 4,
   "metadata": {},
   "outputs": [],
   "source": [
    "Cljung_Model.reactions.ACACT1r.bounds = 0,1000.0\n",
    "Cljung_Model.reactions.HACD1.bounds = 0,1000.0\n",
    "Cljung_Model.reactions.ECOAH1.bounds = 0,1000.0\n",
    "Cljung_Model.reactions.ACOAD1z.bounds = 0,1000.0\n",
    "Cljung_Model.reactions.PBUTT.bounds = 0,1000.0\n",
    "Cljung_Model.reactions.BUTKr.bounds = -1000.0,0\n",
    "Cljung_Model.reactions.BTCOARx.bounds = 0,1000.0\n",
    "Cljung_Model.reactions.ALCD4.bounds = -1000.0,0\n",
    "Cljung_Model.reactions.BTOHt.bounds = -1000.0, 1000.0\n",
    "Cljung_Model.reactions.BUTt.bounds = -1000.0, 1000.0\n",
    "Cljung_Model.reactions.HYDFDN.bounds = -1000.0, 1000.0"
   ]
  },
  {
   "cell_type": "code",
   "execution_count": 5,
   "metadata": {},
   "outputs": [
    {
     "data": {
      "text/html": [
       "\n",
       "        <table>\n",
       "            <tr>\n",
       "                <td><strong>Reaction identifier</strong></td><td>SK_pi_c</td>\n",
       "            </tr><tr>\n",
       "                <td><strong>Name</strong></td><td>Phosphate sink</td>\n",
       "            </tr><tr>\n",
       "                <td><strong>Memory address</strong></td>\n",
       "                <td>0x07f78896a7128</td>\n",
       "            </tr><tr>\n",
       "                <td><strong>Stoichiometry</strong></td>\n",
       "                <td>\n",
       "                    <p style='text-align:right'>pi_c <=></p>\n",
       "                    <p style='text-align:right'>Phosphate <=></p>\n",
       "                </td>\n",
       "            </tr><tr>\n",
       "                <td><strong>GPR</strong></td><td></td>\n",
       "            </tr><tr>\n",
       "                <td><strong>Lower bound</strong></td><td>-1000.0</td>\n",
       "            </tr><tr>\n",
       "                <td><strong>Upper bound</strong></td><td>1000.0</td>\n",
       "            </tr>\n",
       "        </table>\n",
       "        "
      ],
      "text/plain": [
       "<Reaction SK_pi_c at 0x7f78896a7128>"
      ]
     },
     "execution_count": 5,
     "metadata": {},
     "output_type": "execute_result"
    }
   ],
   "source": [
    "WLModel = Model('Model Core WL')\n",
    "\n",
    "WLModel.add_reactions([\n",
    "#Transport:\n",
    "Cljung_Model.reactions.EX_h2_e,\n",
    "Cljung_Model.reactions.EX_h2o_e,\n",
    "Cljung_Model.reactions.EX_co2_e,\n",
    "Cljung_Model.reactions.EX_co_e,\n",
    "Cljung_Model.reactions.EX_pi_e,\n",
    "Cljung_Model.reactions.EX_h_e,\n",
    "Cljung_Model.reactions.EX_ac_e,\n",
    "#Exchange:\n",
    "Cljung_Model.reactions.H2td,\n",
    "Cljung_Model.reactions.H2Ot,\n",
    "Cljung_Model.reactions.CO2t,\n",
    "Cljung_Model.reactions.COt,\n",
    "Cljung_Model.reactions.ACt,\n",
    "#WL:\n",
    "Cljung_Model.reactions.FDH7,\n",
    "Cljung_Model.reactions.FTHFLi,\n",
    "Cljung_Model.reactions.MTHFC,\n",
    "Cljung_Model.reactions.MTHFD2,\n",
    "Cljung_Model.reactions.MTHFR5,\n",
    "Cljung_Model.reactions.METR,\n",
    "Cljung_Model.reactions.CODH4,\n",
    "Cljung_Model.reactions.CODH_ACS,\n",
    "Cljung_Model.reactions.PTAr,\n",
    "Cljung_Model.reactions.ACKr,\n",
    "Cljung_Model.reactions.ACAFDOR,\n",
    "Cljung_Model.reactions.ALCD2x,\n",
    "#Acetate prod.:\n",
    "Cljung_Model.reactions.HYDFDN,\n",
    "Cljung_Model.reactions.RNF,\n",
    "Cljung_Model.reactions.ATPS4r])\n",
    "#Sinks:\n",
    "WLModel.add_boundary(WLModel.metabolites.get_by_id(\"atp_c\"), type=\"sink\")\n",
    "WLModel.add_boundary(WLModel.metabolites.get_by_id(\"adp_c\"), type=\"sink\")\n",
    "WLModel.add_boundary(WLModel.metabolites.get_by_id(\"pi_c\"), type=\"sink\")"
   ]
  },
  {
   "cell_type": "code",
   "execution_count": 6,
   "metadata": {},
   "outputs": [
    {
     "name": "stdout",
     "output_type": "stream",
     "text": [
      "Maximize\n",
      "1.0*EX_ac_e - 1.0*EX_ac_e_reverse_0be96 : 2.5 \n",
      "\n",
      "Maximize\n",
      "1.0*EX_ac_e - 1.0*EX_ac_e_reverse_0be96 : 5.0 \n",
      "\n",
      "Carboxydotroph: 4.0 CO + 0.33 H2O => 2.0 CO2 + acetate\n",
      "Homoacetogen: 2.0 CO2 + 4.0 H2 => 2.33 H2O + acetate\n"
     ]
    }
   ],
   "source": [
    "WLModel.objective = \"EX_ac_e\"\n",
    "\n",
    "with WLModel:\n",
    "    medium = WLModel.medium\n",
    "    medium['EX_co2_e'] = 0\n",
    "    medium['EX_co_e'] = 10\n",
    "    medium['EX_h2_e'] = 0\n",
    "    WLModel.medium = medium\n",
    "    print(WLModel.objective, \":\", WLModel.slim_optimize(), \"\\n\")\n",
    "    Acetate_ex_carb = WLModel.slim_optimize()\n",
    "    CO2_ex_carb = WLModel.reactions.EX_co2_e.flux\n",
    "    H2_ex_carb = WLModel.reactions.EX_h2_e.flux\n",
    "    CO_ex_carb = WLModel.reactions.EX_co_e.flux\n",
    "    H2O_ex_carb = WLModel.reactions.EX_h2o_e.flux\n",
    "\n",
    "with WLModel:\n",
    "    medium = WLModel.medium\n",
    "    medium['EX_co2_e'] = 10\n",
    "    medium['EX_co_e'] = 0\n",
    "    medium['EX_h2_e'] = 1000\n",
    "    WLModel.medium = medium\n",
    "    print(WLModel.objective, \":\", WLModel.slim_optimize(), \"\\n\")\n",
    "    Acetate_ex_hom = WLModel.slim_optimize()\n",
    "    CO2_ex_hom = WLModel.reactions.EX_co2_e.flux\n",
    "    H2_ex_hom = WLModel.reactions.EX_h2_e.flux\n",
    "    CO_ex_hom = WLModel.reactions.EX_co_e.flux\n",
    "    H2O_ex_hom = WLModel.reactions.EX_h2o_e.flux\n",
    "    \n",
    "print(f\"Carboxydotroph: {-CO_ex_carb/Acetate_ex_carb} CO + {round(-H2O_ex_carb/Acetate_ex_carb,2)} H2O => {CO2_ex_carb/Acetate_ex_carb} CO2 + acetate\")\n",
    "print(f\"Homoacetogen: {-CO2_ex_hom/Acetate_ex_hom} CO2 + {-H2_ex_hom/Acetate_ex_hom} H2 => {round(H2O_ex_hom/Acetate_ex_hom,2)} H2O + acetate\")"
   ]
  },
  {
   "cell_type": "markdown",
   "metadata": {},
   "source": [
    "Multiply by given factor to get an acetate production flux of 10, suited as input for the geobacillus model"
   ]
  },
  {
   "cell_type": "code",
   "execution_count": 7,
   "metadata": {},
   "outputs": [
    {
     "name": "stdout",
     "output_type": "stream",
     "text": [
      "CO2_ex_hom -20.0\n",
      "H2_ex_hom -40.0\n",
      "CO_ex_hom 0.0\n",
      "H2O_ex_hom 23.33333333333333\n",
      "CO2_ex_carb 20.0\n",
      "H2_ex_carb 0.0\n",
      "CO_ex_carb -40.0\n",
      "H2O_ex_carb -3.333333333333332\n"
     ]
    }
   ],
   "source": [
    "Acetate_exc = 10\n",
    "CO2_exc_hom = CO2_ex_hom/Acetate_ex_hom*Acetate_exc\n",
    "H2_exc_hom = H2_ex_hom/Acetate_ex_hom*Acetate_exc\n",
    "CO_exc_hom = CO_ex_hom/Acetate_ex_hom*Acetate_exc\n",
    "H2O_exc_hom = H2O_ex_hom/Acetate_ex_hom*Acetate_exc\n",
    "\n",
    "print(\"CO2_ex_hom\", CO2_exc_hom)\n",
    "print(\"H2_ex_hom\", H2_exc_hom)\n",
    "print(\"CO_ex_hom\", CO_exc_hom)\n",
    "print(\"H2O_ex_hom\", H2O_exc_hom)\n",
    "\n",
    "CO2_exc_carb = CO2_ex_carb/Acetate_ex_carb*Acetate_exc\n",
    "H2_exc_carb = H2_ex_carb/Acetate_ex_carb*Acetate_exc\n",
    "CO_exc_carb = CO_ex_carb/Acetate_ex_carb*Acetate_exc\n",
    "H2O_exc_carb = H2O_ex_carb/Acetate_ex_carb*Acetate_exc\n",
    "\n",
    "print(\"CO2_ex_carb\", CO2_exc_carb)\n",
    "print(\"H2_ex_carb\", H2_exc_carb)\n",
    "print(\"CO_ex_carb\", CO_exc_carb)\n",
    "print(\"H2O_ex_carb\", H2O_exc_carb)\n"
   ]
  },
  {
   "cell_type": "code",
   "execution_count": null,
   "metadata": {},
   "outputs": [],
   "source": []
  },
  {
   "cell_type": "markdown",
   "metadata": {},
   "source": [
    "# Add Heterotroph"
   ]
  },
  {
   "cell_type": "code",
   "execution_count": 8,
   "metadata": {},
   "outputs": [],
   "source": [
    "#Bsubt = cobra.io.read_sbml_model(join(data_dir,'Models/iJO1366.xml'))\n",
    "Geob = cobra.io.read_sbml_model(join(data_dir,'Models/p-thermo_acetone_anaerobic.xml'))"
   ]
  },
  {
   "cell_type": "markdown",
   "metadata": {},
   "source": [
    "Change objective function and remove constraints for ATP uptake for maintenance. This allows to ignore both GAM and NGAM"
   ]
  },
  {
   "cell_type": "code",
   "execution_count": 9,
   "metadata": {},
   "outputs": [
    {
     "data": {
      "text/plain": [
       "(0, 1000)"
      ]
     },
     "execution_count": 9,
     "metadata": {},
     "output_type": "execute_result"
    }
   ],
   "source": [
    "Geob.objective = \"EX_act_e\"\n",
    "\n",
    "Geob.reactions.ATPM.bounds = 0,1000\n",
    "Geob.reactions.ATPM.bounds"
   ]
  },
  {
   "cell_type": "code",
   "execution_count": 21,
   "metadata": {},
   "outputs": [
    {
     "name": "stdout",
     "output_type": "stream",
     "text": [
      "Objective\n",
      "=========\n",
      "1.0 EX_act_e = 4.2682926829268295\n",
      "\n",
      "Uptake\n",
      "------\n",
      "Metabolite Reaction  Flux  C-Number   C-Flux\n",
      "      ac_e  EX_ac_e    10         2  100.00%\n",
      "       h_e   EX_h_e    10         0    0.00%\n",
      "      o2_e  EX_o2_e 2.927         0    0.00%\n",
      "\n",
      "Secretion\n",
      "---------\n",
      "Metabolite  Reaction   Flux  C-Number  C-Flux\n",
      "     act_e  EX_act_e -4.268         3  64.02%\n",
      "     co2_e  EX_co2_e -7.195         1  35.98%\n",
      "     h2o_e  EX_h2o_e -7.195         0   0.00%\n",
      " \n",
      "\n",
      "Objective\n",
      "=========\n",
      "1.0 EX_act_e = 4.2682926829268295\n",
      "\n",
      "Uptake\n",
      "------\n",
      "Metabolite Reaction  Flux  C-Number   C-Flux\n",
      "      ac_e  EX_ac_e    10         2  100.00%\n",
      "       h_e   EX_h_e    10         0    0.00%\n",
      "      o2_e  EX_o2_e 2.927         0    0.00%\n",
      "\n",
      "Secretion\n",
      "---------\n",
      "Metabolite  Reaction   Flux  C-Number  C-Flux\n",
      "     act_e  EX_act_e -4.268         3  64.02%\n",
      "     co2_e  EX_co2_e -7.195         1  35.98%\n",
      "     h2o_e  EX_h2o_e -7.195         0   0.00%\n",
      " \n",
      "\n"
     ]
    }
   ],
   "source": [
    "with Geob:\n",
    "    medium = Geob.medium\n",
    "    medium[\"EX_glc__D_e\"] = 0\n",
    "    medium[\"EX_o2_e\"] = 1000\n",
    "    medium[\"EX_ac_e\"] = Acetate_exc\n",
    "    Geob.medium = medium\n",
    "    Geob.optimize()\n",
    "    Y_PS_carb = Geob.slim_optimize()*3/(Acetate_exc*2)\n",
    "    Y_PE_carb = -Geob.slim_optimize()*3/CO_exc_carb\n",
    "    print(Geob.summary(), \"\\n\")\n",
    "    \n",
    "with Geob:\n",
    "    medium = Geob.medium\n",
    "    medium[\"EX_glc__D_e\"] = 0\n",
    "    medium[\"EX_o2_e\"] = 1000\n",
    "    medium[\"EX_ac_e\"] = Acetate_exc\n",
    "    Geob.medium = medium\n",
    "    solution = Geob.optimize()\n",
    "    Y_PS_hom = Geob.slim_optimize()*3/(Acetate_exc*2)\n",
    "    Y_PE_hom = -Geob.slim_optimize()*3/H2_exc_hom\n",
    "\n",
    "    print(Geob.summary(), \"\\n\")"
   ]
  },
  {
   "cell_type": "code",
   "execution_count": null,
   "metadata": {},
   "outputs": [],
   "source": []
  },
  {
   "cell_type": "code",
   "execution_count": 22,
   "metadata": {},
   "outputs": [
    {
     "name": "stdout",
     "output_type": "stream",
     "text": [
      "Carboxydotrophic yield P/e:  0.32 [Cmol/emol]\n",
      "\n",
      "Carboxydotrophic yield P/S:  0.64 [Cmol/Cmol]\n",
      "\n",
      "Homoacetogenic yield P/e:  0.32 [Cmol/emol]\n",
      "\n",
      "Homoacetogenic yield P/S:  0.64 [Cmol/Cmol]\n",
      "\n"
     ]
    }
   ],
   "source": [
    "print(\"Carboxydotrophic yield P/e: \", round(Y_PE_carb,3), \"[Cmol/emol]\\n\")\n",
    "print(\"Carboxydotrophic yield P/S: \", round(Y_PS_carb,3), \"[Cmol/Cmol]\\n\")\n",
    "print(\"Homoacetogenic yield P/e: \", round(Y_PE_hom,3), \"[Cmol/emol]\\n\")\n",
    "print(\"Homoacetogenic yield P/S: \", round(Y_PS_hom,3), \"[Cmol/Cmol]\\n\")"
   ]
  },
  {
   "cell_type": "code",
   "execution_count": 12,
   "metadata": {},
   "outputs": [
    {
     "data": {
      "application/vnd.jupyter.widget-view+json": {
       "model_id": "c48ab44957c94523a77c9fafa541ea93",
       "version_major": 2,
       "version_minor": 0
      },
      "text/plain": [
       "Builder(reaction_data={'IDPh': 5.7317073170731705, 'CAT': 0.0, 'PDHam1hi': 0.0, 'HYDA': 0.0, 'MALHYDRO': 0.0, …"
      ]
     },
     "metadata": {},
     "output_type": "display_data"
    }
   ],
   "source": [
    "Builder(model = Geob, map_json = join(data_dir,'Models/EscherMaps/P-thermo_acetone_map.json'), reaction_data = solution.fluxes.to_dict())"
   ]
  },
  {
   "cell_type": "code",
   "execution_count": 13,
   "metadata": {},
   "outputs": [
    {
     "data": {
      "text/html": [
       "\n",
       "        <table>\n",
       "            <tr>\n",
       "                <td><strong>Metabolite identifier</strong></td><td>g3p_c</td>\n",
       "            </tr><tr>\n",
       "                <td><strong>Name</strong></td><td>Glyceraldehyde 3-phosphate</td>\n",
       "            </tr><tr>\n",
       "                <td><strong>Memory address</strong></td>\n",
       "                <td>0x07f78893ff5f8</td>\n",
       "            </tr><tr>\n",
       "                <td><strong>Formula</strong></td><td>C3H6O6P</td>\n",
       "            </tr><tr>\n",
       "                <td><strong>Compartment</strong></td><td>c</td>\n",
       "            </tr><tr>\n",
       "                <td><strong>In 14 reaction(s)</strong></td><td>\n",
       "                    DXPS, TRPS1, DRPA, TGBPA, TALA, FBA, TPI, XU5PGT, TRPS3, GAPD, GAPDH, TKT2, TKT1, PYDXS</td>\n",
       "            </tr>\n",
       "        </table>"
      ],
      "text/plain": [
       "<Metabolite g3p_c at 0x7f78893ff5f8>"
      ]
     },
     "execution_count": 13,
     "metadata": {},
     "output_type": "execute_result"
    }
   ],
   "source": [
    "Geob.metabolites.g3p_c"
   ]
  }
 ],
 "metadata": {
  "kernelspec": {
   "display_name": "dFBACoCultivation",
   "language": "python",
   "name": "dfbacocultivation"
  },
  "language_info": {
   "codemirror_mode": {
    "name": "ipython",
    "version": 3
   },
   "file_extension": ".py",
   "mimetype": "text/x-python",
   "name": "python",
   "nbconvert_exporter": "python",
   "pygments_lexer": "ipython3",
   "version": "3.6.12"
  }
 },
 "nbformat": 4,
 "nbformat_minor": 4
}
