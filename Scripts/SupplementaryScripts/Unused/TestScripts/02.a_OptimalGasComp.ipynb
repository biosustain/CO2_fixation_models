{
 "cells": [
  {
   "cell_type": "code",
   "execution_count": 1,
   "metadata": {},
   "outputs": [],
   "source": [
    "import numpy as np\n",
    "import pandas as pd\n",
    "import matplotlib.pyplot as plt\n",
    "import math"
   ]
  },
  {
   "cell_type": "code",
   "execution_count": 41,
   "metadata": {},
   "outputs": [],
   "source": [
    "# Define temperature range\n",
    "#Temperature range:\n",
    "T0 = 273.15\n",
    "dt = 80\n",
    "\n",
    "T = np.arange(T0, T0+dt+1, 1)\n",
    "R = 8.314 # [m^3*Pa/K/mol]\n",
    "\n",
    "# Define temperature conversion functions\n",
    "def Kelvin_Celsius(t):\n",
    "    \"\"\"\n",
    "    This function converts Temperature values from Kelvin to degrees Celsius\n",
    "    \"\"\"\n",
    "    return t-273.15\n",
    "\n",
    "def Celsius_Kelvin(t):\n",
    "    \"\"\"\n",
    "    This function converts Temperature values from degrees Celsius to Kelvin\n",
    "    \"\"\"\n",
    "    return t+273.15\n",
    "\n",
    "# Load Henry's Law Constants:\n",
    "DR = pd.read_csv(\"../Data/HenrysLawData.csv\", index_col = \"Compound\")[\"DR\"]\n",
    "HR = pd.read_csv(\"../Data/HenrysLawData.csv\", index_col = \"Compound\")[\"HR\"]\n",
    "kh = pd.read_csv(\"../Data/HenrysLawData.csv\", index_col = \"Compound\")[\"k\"]\n",
    "theta = 1.022 # temperature correction factor"
   ]
  },
  {
   "cell_type": "markdown",
   "metadata": {},
   "source": [
    "# Optimal gas composition calculation:\n",
    "\n",
    "To determine what the optimal gas composition for growth on CO2 and H2, we start from the expected consumption by the microbes to the required ratio of transfer rates for both compounds and find the corresponding mol fractions in the gas feed.\n",
    "\n",
    "With acetogenesis requiring twice as much hydrogen compared to CO2 (see 02_AcetogenYieldTempDependency), we start with:\n",
    "\n",
    "<p> consumption ratio: </p>\n",
    "<div style=\"text-align: center\">  $ q_{CO_2} = Y_{C/H} * q_{H_2} $\n",
    "</div>\n",
    "\n",
    "<p> Assuming a steady state where the transfer rate equals the uptake rate, the transfer rate ratio is: </p>\n",
    "<div style=\"text-align: center\">  $ R_{T,CO_2} = Y_{C/H} * R_{T,H_2} <=> \\displaystyle \\frac{R_{T,CO_2}}{R_{T,H_2}} = Y_{C/H} $\n",
    "</div>\n",
    "\n",
    "<p> Transfer rate for compound i: </p>\n",
    "<div style=\"text-align: center\">  $ R_{T,i} = k_La_{T,i}*(c^*_{T,i} - c_{l,i}) $ [$mol/m^3/s$]\n",
    "</div>\n",
    "\n",
    "<p> with [Gas- and liquid-phase mass transfer resitance of organic compounds during mechanical surface aeration, C. Munz and P.V. Roberts; Vat. Res. Vol, 23, No. 5, pp. 589~01, 1989]: <br></p>\n",
    "<div style=\"text-align: center\">   \n",
    "    $ k_La_{T,i} = \\sqrt{D_i/D_{O_2}} * k_La_{T,O_2} $ <br>\n",
    "    <br>\n",
    "    $ c^*_{T,i} = H_{0,i}*e^{[k_{H,i}*(1/T-1/298.15)]}*y_i*P $ <br>\n",
    "    $ c_{l,i} = 0 $\n",
    "</div>\n",
    "\n",
    "<p> Combines to: </p>\n",
    "<div style=\"text-align: center\">\n",
    "    $ \\displaystyle \\frac\n",
    "    {\\sqrt{D_{CO_2}/D_{O_2}} * k_La_{T,O_2} * H_{0,CO_2} * e^{[k_{H,CO_2}*(1/T-1/298.15)]} * y_{CO_2} * P}\n",
    "    {\\sqrt{D_{H_2}/D_{O_2}} * k_La_{T,O_2} * H_{0,H_2} * e^{[k_{H,H_2}*(1/T-1/298.15)]} * y_{H_2} * P} = \\displaystyle Y_{C/H} $ <br><br>\n",
    "    $ \\displaystyle \\frac\n",
    "    {H_{0,CO_2} * e^{[k_{H,CO_2}*(1/T-1/298.15)]} * y_{CO_2}}\n",
    "    {H_{0,H_2} * e^{[k_{H,H_2}*(1/T-1/298.15)]} * y_{H_2}} = Y_{C/H} * \\sqrt{D_{H_2}/D_{CO_2}}\\displaystyle$ <br><br>\n",
    "    $ \\displaystyle \\frac{y_{CO_2}}{y_{H_2}} = Y_{C/H} * \\sqrt{D_{H_2}/D_{CO_2}}*e^{[(k_{H,H_2}-k_{H,CO_2})*(1/T-1/298.15)]}\\displaystyle * H_{0,H_2}/H_{0,CO_2}$ <br><br>\n",
    "</div>\n",
    "\n",
    "we compare the maximum transfer rate of both gasses and take into consideration the stoichiometric requirements for growth. Based on elemental balances, acetogenesis requires twice as much hydrogen compared to CO2. (see 02_AcetogenYieldTempDependency)"
   ]
  },
  {
   "cell_type": "code",
   "execution_count": 3,
   "metadata": {},
   "outputs": [
    {
     "name": "stdout",
     "output_type": "stream",
     "text": [
      "(DR.H2/DR.CO2)^0.5 * HR.H2/HR.CO2 = 0.034117892845908555\n"
     ]
    }
   ],
   "source": [
    "print(f\"(DR.H2/DR.CO2)^0.5 * HR.H2/HR.CO2 = {math.sqrt(DR.H2/DR.CO2)*HR.H2/HR.CO2}\")"
   ]
  },
  {
   "cell_type": "code",
   "execution_count": 4,
   "metadata": {},
   "outputs": [
    {
     "name": "stdout",
     "output_type": "stream",
     "text": [
      "kh_H2 - kh_CO2 = -1900\n"
     ]
    }
   ],
   "source": [
    "print(f\"kh_H2 - kh_CO2 = {kh.H2-kh.CO2}\")"
   ]
  },
  {
   "cell_type": "markdown",
   "metadata": {},
   "source": [
    "<p> Combines to: </p>\n",
    "<div style=\"text-align: center\">\n",
    "$ \\displaystyle \\frac{y_{CO_2}}{y_{H_2}} = Y_{C/H}*0.034*e^{[-1900*(1/T-1/298.15)]}\\displaystyle$\n",
    "</div>"
   ]
  },
  {
   "cell_type": "code",
   "execution_count": 5,
   "metadata": {},
   "outputs": [
    {
     "name": "stdout",
     "output_type": "stream",
     "text": [
      "CO2/H2 ratio at 30°C: 0.019 and at 60°C: 0.033\n"
     ]
    },
    {
     "data": {
      "image/png": "[encoded data removed]",
      "text/plain": [
       "<Figure size 360x360 with 1 Axes>"
      ]
     },
     "metadata": {
      "needs_background": "light"
     },
     "output_type": "display_data"
    }
   ],
   "source": [
    "def FeedRatio(T,Y_CH):\n",
    "    return Y_CH * math.sqrt(DR.H2/DR.CO2)*HR.H2/HR.CO2 * math.e**((kh.H2-kh.CO2)*(1/T-1/298.15))\n",
    "\n",
    "Y_CH = 0.5\n",
    "\n",
    "fig = plt.figure(figsize=(5,5))\n",
    "\n",
    "plt.title(f\"$CO_2$ to $H_2$ molar feed ratio\")\n",
    "plt.plot(Kelvin_Celsius(T), FeedRatio(T,Y_CH))\n",
    "plt.axis([Kelvin_Celsius(T0), Kelvin_Celsius(T0)+dt, 0, 0.05])\n",
    "plt.xlabel('Temperature [Celsius]')\n",
    "plt.ylabel(r'$CO_2/H_2$ [$mol/mol$]')\n",
    "\n",
    "print(f\"CO2/H2 ratio at 30°C: {round(FeedRatio(Celsius_Kelvin(30),Y_CH),3)} and at 60°C: {round(FeedRatio(Celsius_Kelvin(60),Y_CH),3)}\")"
   ]
  },
  {
   "cell_type": "markdown",
   "metadata": {},
   "source": [
    "<p> ratio: </p>\n",
    "<div style=\"text-align: center\">  $ y_{CO_2}/y_{H_2} = x  $\n",
    "</div>\n",
    "<p> if: </p>\n",
    "<div style=\"text-align: center\">  \n",
    "$ y_{CO_2} + y_{H_2} = 1  $ </div>\n",
    "<p> then: </p>\n",
    "<div style=\"text-align: center\">  \n",
    "$ y_{CO_2}/(1 - y_{CO_2}) = x  $ <br><br>\n",
    "$ y_{CO_2} = x * (1 - y_{CO_2}) $ <br><br>\n",
    "$ y_{CO_2} = x - x * y_{CO_2} $ <br><br>\n",
    "$ y_{CO_2} + x * y_{CO_2} = x $ <br><br>\n",
    "$ (1 + x) * y_{CO_2} = x $ <br><br>\n",
    "$ y_{CO_2} = x / (1 + x) $ <br><br>\n",
    "</div>\n",
    "<p> at 30°C: </p>\n",
    "<div style=\"text-align: center\"> $ y_{CO_2} = x_{30}/(1+x_{30}) = 0.0186 $\n",
    "</div>\n",
    "<p> at 60°C: </p>\n",
    "<div style=\"text-align: center\"> $ y_{CO_2} = x_{60}/(1+x_{60}) = 0.0322 $\n",
    "</div>"
   ]
  },
  {
   "cell_type": "code",
   "execution_count": 6,
   "metadata": {},
   "outputs": [
    {
     "name": "stdout",
     "output_type": "stream",
     "text": [
      " At 30°C: \n",
      "  y_CO_2 = 0.0186 \n",
      "  y_H_2 = 0.9814 \n",
      " At 60°C: \n",
      "  y_CO_2 = 0.0322 \n",
      "  y_H_2 = 0.9678 \n",
      "\n"
     ]
    }
   ],
   "source": [
    "print(f\" At 30°C: \\n  y_CO_2 = {round(FeedRatio(Celsius_Kelvin(30),0.5)/(1+FeedRatio(Celsius_Kelvin(30),0.5)),4)} \\n  y_H_2 = {round(1-FeedRatio(Celsius_Kelvin(30),0.5)/(1+FeedRatio(Celsius_Kelvin(30),0.5)),4)} \\n\",\n",
    "     f\"At 60°C: \\n  y_CO_2 = {round(FeedRatio(Celsius_Kelvin(60),0.5)/(1+FeedRatio(Celsius_Kelvin(60),0.5)),4)} \\n  y_H_2 = {round(1-FeedRatio(Celsius_Kelvin(60),0.5)/(1+FeedRatio(Celsius_Kelvin(60),0.5)),4)} \\n\")"
   ]
  },
  {
   "cell_type": "markdown",
   "metadata": {},
   "source": [
    "# However, if both gasses get significantly depleted and the composition and flow in the outlet is vastly different to the inlet (and thus in the reactor, assuming ideal mixing). The feed composition should tend towards being equal to the stoichiometric requirements!"
   ]
  },
  {
   "cell_type": "code",
   "execution_count": 15,
   "metadata": {},
   "outputs": [],
   "source": [
    "v_gas = 0.3 # average gas velocity [m/s]\n",
    "h_r = 30 # height of the reactor [m]\n",
    "ar = 5 # aspect ratio: height to diameter"
   ]
  },
  {
   "cell_type": "code",
   "execution_count": 17,
   "metadata": {},
   "outputs": [
    {
     "data": {
      "text/plain": [
       "(20.0,\n",
       " 3.0,\n",
       " 28.274333882308138,\n",
       " 565.4866776461628,\n",
       " 146.06915149392105,\n",
       " 8.482300164692441)"
      ]
     },
     "execution_count": 17,
     "metadata": {},
     "output_type": "execute_result"
    }
   ],
   "source": [
    "r = h_r/(ar * 2)\n",
    "h = 2/3 * h_r # initial height of broth  assuming it is 2/3 filled [m]\n",
    "A = math.pi * r**2 #reactor cross-sectional area [m^2]\n",
    "V_L = A * h #reactor volume [m^3]\n",
    "F_G = v_gas * A\n",
    "Gas_holdup = 0.6*(v_gas)**0.7 #from Stephanie's paper\n",
    "V_G = V_L*Gas_holdup\n",
    "\n",
    "p_t = 101325 # pressure at the top of the reactor [Pa]\n",
    "p_b = p_t + h * 1000 * 9.81 # pressure at the bottom of the reactor [Pa]\n",
    "p_m = (p_b-p_t)/math.log(p_b/p_t) # logarithmic mean pressure [Pa]\n",
    "\n",
    "h,r,A,V_L,V_G,F_G"
   ]
  },
  {
   "cell_type": "code",
   "execution_count": 25,
   "metadata": {},
   "outputs": [],
   "source": [
    "def y_H2(T,c_lCO2):\n",
    "    return (HR.CO2*math.e**(kh.CO2*(1/T-1/298.15))*p_m-c_lCO2)/(HR.H2*math.e**(kh.H2*(1/T-1/298.15))*p_m*(1/4)/(math.sqrt(DR.CO2/DR.H2))+HR.CO2*math.e**(kh.CO2*(1/T-1/298.15))*p_m)\n"
   ]
  },
  {
   "cell_type": "code",
   "execution_count": 31,
   "metadata": {},
   "outputs": [
    {
     "data": {
      "text/plain": [
       "0.9836128224767143"
      ]
     },
     "execution_count": 31,
     "metadata": {},
     "output_type": "execute_result"
    }
   ],
   "source": [
    "y_H2(Celsius_Kelvin(60),0)"
   ]
  },
  {
   "cell_type": "markdown",
   "metadata": {},
   "source": [
    "# Aim at c_Gout = 0"
   ]
  },
  {
   "cell_type": "code",
   "execution_count": 42,
   "metadata": {},
   "outputs": [],
   "source": [
    "def KLa(C,T):\n",
    "    return 0.32 * (DR[C]/DR[\"O2\"])**0.5 * v_gas**0.7 * theta**(T-293.15)# * 3600 #[1/s]\n",
    "\n",
    "def Csat(C, T, y):\n",
    "    return HR[C] * math.e**(kh[C]*(1/T-1/298.15)) * 10**(-5) * p_m * y\n",
    "\n",
    "dfGR = pd.read_csv(\"../Data/EnthalpyGibbs.csv\", index_col=\"Compound\")[\"dfGR\"]\n",
    "dfHR = pd.read_csv(\"../Data/EnthalpyGibbs.csv\", index_col=\"Compound\")[\"dfHR\"]\n",
    "\n",
    "S = pd.DataFrame({\n",
    "    'Cata':  [-4,  0,    -2,  2,    0,1],\n",
    "    'Ana':   [-2.1, -0.2, -1,  1.5,  1,0]},\n",
    "    index=pd.Index([\"H2\",\"NH3\",\"CO2\",\"Water\",\"X\",\"Acetate\"]))\n",
    "\n",
    "S\n",
    "\n",
    "#Hess's law, as vector multiplication:\n",
    "DrGR = np.nansum(S.Cata * dfGR)\n",
    "DrHR = np.nansum(S.Cata * dfHR)\n",
    "\n",
    "#Gibbs–Helmholtz equation for temperature correction\n",
    "def DrGT(T):\n",
    "    return DrGR * (T/298.15) + DrHR * (1-T/298.15)\n",
    "\n",
    "def m_NGAM(T):\n",
    "    return 3.3**(69000/R*(1/298-1/T)) #[kJ/h/CmolX]"
   ]
  },
  {
   "cell_type": "code",
   "execution_count": 43,
   "metadata": {},
   "outputs": [
    {
     "data": {
      "text/plain": [
       "array([4.85582471e-02, 5.54279580e-02, 6.32087282e-02, 7.20131913e-02,\n",
       "       8.19668729e-02, 9.32095450e-02, 1.05896710e-01, 1.20201223e-01,\n",
       "       1.36315068e-01, 1.54451301e-01, 1.74846161e-01, 1.97761390e-01,\n",
       "       2.23486745e-01, 2.52342749e-01, 2.84683674e-01, 3.20900794e-01,\n",
       "       3.61425914e-01, 4.06735213e-01, 4.57353401e-01, 5.13858243e-01,\n",
       "       5.76885449e-01, 6.47133981e-01, 7.25371789e-01, 8.12442021e-01,\n",
       "       9.09269735e-01, 1.01686914e+00, 1.13635144e+00, 1.26893323e+00,\n",
       "       1.41594568e+00, 1.57884423e+00, 1.75921925e+00, 1.95880733e+00,\n",
       "       2.17950355e+00, 2.42337455e+00, 2.69267271e+00, 2.98985120e+00,\n",
       "       3.31758032e+00, 3.67876485e+00, 4.07656270e+00, 4.51440498e+00,\n",
       "       4.99601730e+00, 5.52544272e+00, 6.10706618e+00, 6.74564068e+00,\n",
       "       7.44631517e+00, 8.21466441e+00, 9.05672072e+00, 9.97900791e+00,\n",
       "       1.09885774e+01, 1.20930469e+01, 1.33006410e+01, 1.46202352e+01,\n",
       "       1.60614019e+01, 1.76344603e+01, 1.93505280e+01, 2.12215774e+01,\n",
       "       2.32604942e+01, 2.54811404e+01, 2.78984207e+01, 3.05283527e+01,\n",
       "       3.33881418e+01, 3.64962604e+01, 3.98725309e+01, 4.35382151e+01,\n",
       "       4.75161068e+01, 5.18306319e+01, 5.65079520e+01, 6.15760754e+01,\n",
       "       6.70649733e+01, 7.30067034e+01, 7.94355390e+01, 8.63881063e+01,\n",
       "       9.39035286e+01, 1.02023578e+02, 1.10792836e+02, 1.20258860e+02,\n",
       "       1.30472365e+02, 1.41487404e+02, 1.53361569e+02, 1.66156193e+02,\n",
       "       1.79936572e+02])"
      ]
     },
     "execution_count": 43,
     "metadata": {},
     "output_type": "execute_result"
    }
   ],
   "source": [
    "m_NGAM(T)"
   ]
  },
  {
   "cell_type": "code",
   "execution_count": 60,
   "metadata": {},
   "outputs": [],
   "source": [
    "def y_H2(c_xmax,T):\n",
    "    return R*T/p_m * m_NGAM(T)/(DrGT(T)*-1/4)*c_xmax*h/v_gas"
   ]
  },
  {
   "cell_type": "code",
   "execution_count": 61,
   "metadata": {},
   "outputs": [
    {
     "data": {
      "text/plain": [
       "333.15"
      ]
     },
     "execution_count": 61,
     "metadata": {},
     "output_type": "execute_result"
    }
   ],
   "source": [
    "Celsius_Kelvin(60)"
   ]
  },
  {
   "cell_type": "code",
   "execution_count": 66,
   "metadata": {},
   "outputs": [
    {
     "data": {
      "text/plain": [
       "0.08866741206538103"
      ]
     },
     "execution_count": 66,
     "metadata": {},
     "output_type": "execute_result"
    }
   ],
   "source": [
    "y_H2(2.06,Celsius_Kelvin(30))"
   ]
  },
  {
   "cell_type": "code",
   "execution_count": null,
   "metadata": {},
   "outputs": [],
   "source": [
    "# Combine as transfer rate:\n",
    "def RT(C,T,c,y):\n",
    "    return KLa(C,T) * (Csat(C,T, y) - c)"
   ]
  },
  {
   "cell_type": "code",
   "execution_count": 71,
   "metadata": {},
   "outputs": [
    {
     "data": {
      "text/plain": [
       "array([0.        , 0.06909854, 0.13819708, 0.20729563, 0.27639417,\n",
       "       0.34549271, 0.41459125, 0.48368979, 0.55278834, 0.62188688,\n",
       "       0.69098542, 0.76008396, 0.8291825 , 0.89828105, 0.96737959,\n",
       "       1.03647813, 1.10557667, 1.17467521, 1.24377376, 1.3128723 ])"
      ]
     },
     "execution_count": 71,
     "metadata": {},
     "output_type": "execute_result"
    }
   ],
   "source": [
    "c_H2 = np.arange(0,Csat(\"H2\",Celsius_Kelvin(30),1),Csat(\"H2\",Celsius_Kelvin(30),1)/20)\n",
    "c_H2"
   ]
  },
  {
   "cell_type": "code",
   "execution_count": null,
   "metadata": {},
   "outputs": [],
   "source": []
  },
  {
   "cell_type": "code",
   "execution_count": 72,
   "metadata": {},
   "outputs": [],
   "source": [
    "def RT(C,T,y,c):\n",
    "    return 0.32 * (DR[C]/DR[\"O2\"])**0.5 * v_gas**0.7 * theta**(T-293.15) * (HR[C] * math.e**(kh[C]*(1/T-1/298.15)) * 10**(-5) * p_m * y - c)"
   ]
  },
  {
   "cell_type": "code",
   "execution_count": null,
   "metadata": {},
   "outputs": [],
   "source": []
  }
 ],
 "metadata": {
  "kernelspec": {
   "display_name": "dFBACoCultivation",
   "language": "python",
   "name": "dfbacocultivation"
  },
  "language_info": {
   "codemirror_mode": {
    "name": "ipython",
    "version": 3
   },
   "file_extension": ".py",
   "mimetype": "text/x-python",
   "name": "python",
   "nbconvert_exporter": "python",
   "pygments_lexer": "ipython3",
   "version": "3.6.13"
  }
 },
 "nbformat": 4,
 "nbformat_minor": 4
}
