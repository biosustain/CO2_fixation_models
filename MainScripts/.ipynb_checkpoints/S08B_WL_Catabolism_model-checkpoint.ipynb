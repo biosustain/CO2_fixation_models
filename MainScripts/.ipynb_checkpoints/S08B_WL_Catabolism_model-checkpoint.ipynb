{
 "cells": [
  {
   "cell_type": "code",
   "execution_count": 1,
   "metadata": {},
   "outputs": [],
   "source": [
    "import cobra.io\n",
    "import escher\n",
    "from escher import Builder\n",
    "from cobra import Model, Reaction, Metabolite\n",
    "from os.path import join"
   ]
  },
  {
   "cell_type": "code",
   "execution_count": 2,
   "metadata": {},
   "outputs": [],
   "source": [
    "data_dir = \"/Users/phivri/Documents/GitHub/Biosustain/MoGeoModel\""
   ]
  },
  {
   "cell_type": "code",
   "execution_count": 3,
   "metadata": {},
   "outputs": [
    {
     "name": "stdout",
     "output_type": "stream",
     "text": [
      "Using license file /Users/phivri/gurobi.lic\n",
      "Academic license - for non-commercial use only - expires 2022-07-23\n"
     ]
    }
   ],
   "source": [
    "Cljung_Model = cobra.io.read_sbml_model(join(data_dir,'Models/C-ljungdahlii_iHN637.xml'))\n",
    "\n",
    "medium = Cljung_Model.medium\n",
    "medium['EX_h2_e'] = 1000\n",
    "medium['EX_h2o_e'] = 1000\n",
    "medium['EX_k_e'] = 0\n",
    "medium['EX_fru_e'] = 0\n",
    "medium['EX_mg2_e'] = 0\n",
    "medium['EX_mn2_e'] = 0\n",
    "medium['EX_na1_e'] = 0\n",
    "medium['EX_nh4_e'] = 0\n",
    "medium['EX_ni2_e'] = 0\n",
    "medium['EX_pi_e'] = 0\n",
    "medium['EX_mobd_e'] = 0\n",
    "medium['EX_zn2_e'] = 0\n",
    "medium['EX_ribflv_e'] = 0\n",
    "medium['EX_btn_e'] = 0\n",
    "medium['EX_so4_e'] = 0\n",
    "medium['EX_thm_e'] = 0\n",
    "medium['EX_ca2_e'] = 0\n",
    "medium['EX_cl_e'] = 0\n",
    "medium['EX_co2_e'] = 10\n",
    "medium['EX_cobalt2_e'] = 0\n",
    "medium['EX_cu2_e'] = 0\n",
    "medium['EX_fe2_e'] = 0\n",
    "medium['EX_fol_e'] = 0\n",
    "medium['EX_h_e'] = 1000\n",
    "Cljung_Model.medium = medium\n",
    "#solution = Cljung_Model.optimize()"
   ]
  },
  {
   "cell_type": "code",
   "execution_count": 4,
   "metadata": {},
   "outputs": [
    {
     "name": "stdout",
     "output_type": "stream",
     "text": [
      "{}\n",
      "(0.0, 1000.0)\n",
      "mlthf_c + nad_c --> methf_c + nadh_c\n"
     ]
    }
   ],
   "source": [
    "Cljung_Model.reactions.ATPM.bounds = 0, 1000\n",
    "\n",
    "Cljung_Model.reactions.ACt2r.knock_out()\n",
    "#Cljung_Model.reactions.PFL.knock_out()\n",
    "#Cljung_Model.reactions.GLNS.knock_out()\n",
    "#Cljung_Model.reactions.ALCD2y.knock_out() #keep only with NADH\n",
    "\n",
    "acT = Reaction(\"ACt\")\n",
    "acT.name = \"Acetate transporter\"\n",
    "acT.add_metabolites({ \n",
    "    Cljung_Model.metabolites.ac_c: -1.0,\n",
    "    Cljung_Model.metabolites.ac_e: 1.0\n",
    "})\n",
    "\n",
    "mthfd2 = Reaction(\"MTHFD2\")\n",
    "mthfd2.name = \"Methylenetetrahydrofolate dehydrogenase (NAD)\"\n",
    "\n",
    "mthfd2.add_metabolites({\n",
    "    Cljung_Model.metabolites.mlthf_c: -1.0,\n",
    "    Cljung_Model.metabolites.nad_c: -1.0,\n",
    "    Cljung_Model.metabolites.methf_c: 1.0,\n",
    "    Cljung_Model.metabolites.nadh_c: 1.0,\n",
    "})\n",
    "print(mthfd2.check_mass_balance())    #ensure correct mass balance\n",
    "print(mthfd2.bounds)                  #Ensure correct bounds\n",
    "print(mthfd2.reaction)\n",
    "\n",
    "Cljung_Model.add_reactions([acT, mthfd2])\n",
    "Cljung_Model.reactions.MTHFD2.bounds = -1000.0, 1000.0\n"
   ]
  },
  {
   "cell_type": "code",
   "execution_count": 5,
   "metadata": {},
   "outputs": [],
   "source": [
    "Cljung_Model.reactions.ACACT1r.bounds = 0,1000.0\n",
    "Cljung_Model.reactions.HACD1.bounds = 0,1000.0\n",
    "Cljung_Model.reactions.ECOAH1.bounds = 0,1000.0\n",
    "Cljung_Model.reactions.ACOAD1z.bounds = 0,1000.0\n",
    "Cljung_Model.reactions.PBUTT.bounds = 0,1000.0\n",
    "Cljung_Model.reactions.BUTKr.bounds = -1000.0,0\n",
    "Cljung_Model.reactions.BTCOARx.bounds = 0,1000.0\n",
    "Cljung_Model.reactions.ALCD4.bounds = -1000.0,0\n",
    "Cljung_Model.reactions.BTOHt.bounds = -1000.0, 1000.0\n",
    "Cljung_Model.reactions.BUTt.bounds = -1000.0, 1000.0"
   ]
  },
  {
   "cell_type": "code",
   "execution_count": 6,
   "metadata": {},
   "outputs": [
    {
     "data": {
      "text/html": [
       "\n",
       "        <table>\n",
       "            <tr>\n",
       "                <td><strong>Reaction identifier</strong></td><td>SK_pi_c</td>\n",
       "            </tr><tr>\n",
       "                <td><strong>Name</strong></td><td>Phosphate sink</td>\n",
       "            </tr><tr>\n",
       "                <td><strong>Memory address</strong></td>\n",
       "                <td>0x07fd40add3c88</td>\n",
       "            </tr><tr>\n",
       "                <td><strong>Stoichiometry</strong></td>\n",
       "                <td>\n",
       "                    <p style='text-align:right'>pi_c <=></p>\n",
       "                    <p style='text-align:right'>Phosphate <=></p>\n",
       "                </td>\n",
       "            </tr><tr>\n",
       "                <td><strong>GPR</strong></td><td></td>\n",
       "            </tr><tr>\n",
       "                <td><strong>Lower bound</strong></td><td>-1000.0</td>\n",
       "            </tr><tr>\n",
       "                <td><strong>Upper bound</strong></td><td>1000.0</td>\n",
       "            </tr>\n",
       "        </table>\n",
       "        "
      ],
      "text/plain": [
       "<Reaction SK_pi_c at 0x7fd40add3c88>"
      ]
     },
     "execution_count": 6,
     "metadata": {},
     "output_type": "execute_result"
    }
   ],
   "source": [
    "WLmodel = Model('Wood_Ljungdahl_Core')\n",
    "\n",
    "WLmodel.add_reactions([\n",
    "#Transport & Exchange:\n",
    "Cljung_Model.reactions.EX_h2_e,\n",
    "Cljung_Model.reactions.EX_h2o_e,\n",
    "Cljung_Model.reactions.EX_co2_e,\n",
    "Cljung_Model.reactions.EX_co_e,\n",
    "#Cljung_Model.reactions.EX_pi_e,\n",
    "Cljung_Model.reactions.EX_ac_e,\n",
    "Cljung_Model.reactions.EX_etoh_e,\n",
    "Cljung_Model.reactions.EX_btd_RR_e,\n",
    "Cljung_Model.reactions.EX_but_e,\n",
    "Cljung_Model.reactions.EX_btoh_e,\n",
    "Cljung_Model.reactions.H2td,\n",
    "Cljung_Model.reactions.H2Ot,\n",
    "Cljung_Model.reactions.CO2t,\n",
    "Cljung_Model.reactions.COt,\n",
    "Cljung_Model.reactions.ACt,\n",
    "Cljung_Model.reactions.ETOHt,\n",
    "Cljung_Model.reactions.BTDt_RR,\n",
    "Cljung_Model.reactions.BUTt,\n",
    "Cljung_Model.reactions.BTOHt,\n",
    "#Cljung_Model.reactions.FDH7,\n",
    "#Cljung_Model.reactions.FTHFLi,\n",
    "#Cljung_Model.reactions.MTHFC,\n",
    "#Cljung_Model.reactions.MTHFD2,\n",
    "#Cljung_Model.reactions.MTHFR5,\n",
    "#Cljung_Model.reactions.METR,\n",
    "#Cljung_Model.reactions.CODH4,\n",
    "#Cljung_Model.reactions.CODH_ACS,\n",
    "Cljung_Model.reactions.PTAr,\n",
    "Cljung_Model.reactions.ACKr,\n",
    "Cljung_Model.reactions.ACAFDOR,\n",
    "Cljung_Model.reactions.ALCD2x,\n",
    "    \n",
    "Cljung_Model.reactions.POR,\n",
    "Cljung_Model.reactions.ACLS,\n",
    "Cljung_Model.reactions.ACLDC,\n",
    "Cljung_Model.reactions.BTDD_RR,\n",
    "    \n",
    "Cljung_Model.reactions.ACACT1r,\n",
    "Cljung_Model.reactions.HACD1,\n",
    "Cljung_Model.reactions.ECOAH1,\n",
    "Cljung_Model.reactions.ACOAD1z,\n",
    "Cljung_Model.reactions.BTCOARx,\n",
    "Cljung_Model.reactions.ALCD4,\n",
    "Cljung_Model.reactions.PBUTT,\n",
    "Cljung_Model.reactions.BUTKr])\n",
    "\n",
    "#WLmodel.add_boundary(WLmodel.metabolites.get_by_id(\"accoa_c\"), type=\"sink\")\n",
    "WLmodel.add_boundary(WLmodel.metabolites.get_by_id(\"atp_c\"), type=\"sink\")\n",
    "WLmodel.add_boundary(WLmodel.metabolites.get_by_id(\"adp_c\"), type=\"sink\")\n",
    "WLmodel.add_boundary(WLmodel.metabolites.get_by_id(\"nadh_c\"), type=\"sink\")\n",
    "WLmodel.add_boundary(WLmodel.metabolites.get_by_id(\"nad_c\"), type=\"sink\")\n",
    "WLmodel.add_boundary(WLmodel.metabolites.get_by_id(\"fdxo_42_c\"), type=\"sink\")\n",
    "WLmodel.add_boundary(WLmodel.metabolites.get_by_id(\"fdxr_42_c\"), type=\"sink\")\n",
    "WLmodel.add_boundary(WLmodel.metabolites.get_by_id(\"coa_c\"), type=\"sink\")\n",
    "WLmodel.add_boundary(WLmodel.metabolites.get_by_id(\"h_c\"), type=\"sink\")\n",
    "WLmodel.add_boundary(WLmodel.metabolites.get_by_id(\"pi_c\"), type=\"sink\")"
   ]
  },
  {
   "cell_type": "code",
   "execution_count": 7,
   "metadata": {},
   "outputs": [],
   "source": [
    "WLmodel.add_metabolites(Metabolite(id='accoa_e',formula = 'C23H34N7O17P3S', name = 'Acetyl_Coa', compartment = 'e' ))\n",
    "\n",
    "WL_pr = Reaction(\"WL_pr\")\n",
    "WL_pr.name = \"WL pseudo reaction\"\n",
    "\n",
    "WL_pr.add_metabolites({\n",
    "    WLmodel.metabolites.accoa_e: -1.0,\n",
    "    WLmodel.metabolites.accoa_c: 1.0\n",
    "})\n",
    "\n",
    "ex_WL_pr = Reaction(\"EX_WL_pr\")\n",
    "ex_WL_pr.name = \"WL pseudo exchange reaction\"\n",
    "\n",
    "ex_WL_pr.add_metabolites({\n",
    "    WLmodel.metabolites.accoa_e: -1.0,\n",
    "})\n",
    "                        \n",
    "WLmodel.add_reactions([WL_pr, ex_WL_pr])                      "
   ]
  },
  {
   "cell_type": "code",
   "execution_count": 8,
   "metadata": {},
   "outputs": [],
   "source": [
    "medium = WLmodel.medium\n",
    "\n",
    "medium['EX_WL_pr'] = 1\n",
    "medium['EX_co2_e'] = 1000\n",
    "medium['EX_h2_e'] = 0\n",
    "medium['EX_co_e'] = 0\n",
    "\n",
    "WLmodel.medium = medium\n",
    "\n",
    "#WLmodel.reactions.EX_WL_pr.bounds = (-1,-1)"
   ]
  },
  {
   "cell_type": "markdown",
   "metadata": {},
   "source": [
    "## Add Acetone production pathway"
   ]
  },
  {
   "cell_type": "code",
   "execution_count": 9,
   "metadata": {},
   "outputs": [],
   "source": [
    "WLmodelActn = WLmodel\n",
    "\n",
    "WLmodelActn.add_metabolites(Metabolite(id='acac_c',formula = 'C4H6O3', name = 'Acetoacetate', compartment = 'c' ))\n",
    "WLmodelActn.add_metabolites(Metabolite(id='act_c',formula = 'C3H6O', name = 'Acetone', compartment = 'c' ))\n",
    "WLmodelActn.add_metabolites(Metabolite(id='act_e', formula = 'C3H6O', name = 'Acetone', compartment = 'e'))"
   ]
  },
  {
   "cell_type": "code",
   "execution_count": 10,
   "metadata": {},
   "outputs": [
    {
     "name": "stdout",
     "output_type": "stream",
     "text": [
      "{}\n",
      "(0.0, 1000.0)\n",
      "aacoa_c + ac_c + h_c --> acac_c + accoa_c\n"
     ]
    }
   ],
   "source": [
    "ctfAB_ac = Reaction(\"ctfAB_ac\")\n",
    "ctfAB_ac.name = \"Acetate-acetoacetate CoA-transferase\"\n",
    "\n",
    "ctfAB_ac.add_metabolites({\n",
    "    WLmodelActn.metabolites.ac_c: -1.0,      #Acetate\n",
    "    WLmodelActn.metabolites.aacoa_c: -1.0,   #Acetoacetyl-CoA\n",
    "    WLmodelActn.metabolites.acac_c: 1.0,     #Acetoacetate\n",
    "    WLmodelActn.metabolites.accoa_c: 1.0,    #Acetyl-CoA\n",
    "    WLmodelActn.metabolites.h_c: -1.0\n",
    "})\n",
    "print(ctfAB_ac.check_mass_balance())    #ensure correct mass balance\n",
    "print(ctfAB_ac.bounds)                  #Ensure correct bounds\n",
    "print(ctfAB_ac.reaction)                #Ensure correct reaction"
   ]
  },
  {
   "cell_type": "code",
   "execution_count": 11,
   "metadata": {},
   "outputs": [
    {
     "name": "stdout",
     "output_type": "stream",
     "text": [
      "{}\n",
      "acac_c --> act_c + co2_c\n"
     ]
    }
   ],
   "source": [
    "adc = Reaction(\"ADC\")\n",
    "adc.name = \"acetoacetate decarboxylase\"\n",
    "\n",
    "adc.add_metabolites({\n",
    "    WLmodelActn.metabolites.acac_c: -1.0,     #Acetoacetate\n",
    "    #WLmodelActn.metabolites.h_c: -1.0, \n",
    "    WLmodelActn.metabolites.act_c: 1.0,\n",
    "    WLmodelActn.metabolites.co2_c: 1.0\n",
    "})\n",
    "print(adc.check_mass_balance())    #ensure correct mass balance\n",
    "print(adc.reaction)                #Ensure correct reaction"
   ]
  },
  {
   "cell_type": "code",
   "execution_count": 12,
   "metadata": {},
   "outputs": [
    {
     "data": {
      "text/html": [
       "\n",
       "        <table>\n",
       "            <tr>\n",
       "                <td><strong>Reaction identifier</strong></td><td>ACTt</td>\n",
       "            </tr><tr>\n",
       "                <td><strong>Name</strong></td><td>Acetone transporter</td>\n",
       "            </tr><tr>\n",
       "                <td><strong>Memory address</strong></td>\n",
       "                <td>0x07fd401d79d30</td>\n",
       "            </tr><tr>\n",
       "                <td><strong>Stoichiometry</strong></td>\n",
       "                <td>\n",
       "                    <p style='text-align:right'>act_c --> act_e</p>\n",
       "                    <p style='text-align:right'>Acetone --> Acetone</p>\n",
       "                </td>\n",
       "            </tr><tr>\n",
       "                <td><strong>GPR</strong></td><td></td>\n",
       "            </tr><tr>\n",
       "                <td><strong>Lower bound</strong></td><td>0.0</td>\n",
       "            </tr><tr>\n",
       "                <td><strong>Upper bound</strong></td><td>1000.0</td>\n",
       "            </tr>\n",
       "        </table>\n",
       "        "
      ],
      "text/plain": [
       "<Reaction ACTt at 0x7fd401d79d30>"
      ]
     },
     "execution_count": 12,
     "metadata": {},
     "output_type": "execute_result"
    }
   ],
   "source": [
    "actT = Reaction(\"ACTt\")\n",
    "actT.name = \"Acetone transporter\"\n",
    "actT.add_metabolites({ \n",
    "    WLmodelActn.metabolites.act_c: -1.0,\n",
    "    WLmodelActn.metabolites.act_e: 1.0\n",
    "})\n",
    "actT"
   ]
  },
  {
   "cell_type": "code",
   "execution_count": 13,
   "metadata": {},
   "outputs": [
    {
     "data": {
      "text/html": [
       "\n",
       "        <table>\n",
       "            <tr>\n",
       "                <td><strong>Reaction identifier</strong></td><td>EX_act_e</td>\n",
       "            </tr><tr>\n",
       "                <td><strong>Name</strong></td><td>Acetone exchange</td>\n",
       "            </tr><tr>\n",
       "                <td><strong>Memory address</strong></td>\n",
       "                <td>0x07fd408a59160</td>\n",
       "            </tr><tr>\n",
       "                <td><strong>Stoichiometry</strong></td>\n",
       "                <td>\n",
       "                    <p style='text-align:right'>act_e --></p>\n",
       "                    <p style='text-align:right'>Acetone --></p>\n",
       "                </td>\n",
       "            </tr><tr>\n",
       "                <td><strong>GPR</strong></td><td></td>\n",
       "            </tr><tr>\n",
       "                <td><strong>Lower bound</strong></td><td>0.0</td>\n",
       "            </tr><tr>\n",
       "                <td><strong>Upper bound</strong></td><td>1000.0</td>\n",
       "            </tr>\n",
       "        </table>\n",
       "        "
      ],
      "text/plain": [
       "<Reaction EX_act_e at 0x7fd408a59160>"
      ]
     },
     "execution_count": 13,
     "metadata": {},
     "output_type": "execute_result"
    }
   ],
   "source": [
    "act_ex = Reaction(\"EX_act_e\")\n",
    "act_ex.name = \"Acetone exchange\"\n",
    "act_ex.add_metabolites({ \n",
    "    WLmodelActn.metabolites.act_e: -1.0,\n",
    "})\n",
    "act_ex"
   ]
  },
  {
   "cell_type": "code",
   "execution_count": 14,
   "metadata": {},
   "outputs": [],
   "source": [
    "WLmodelActn.add_reactions([ctfAB_ac, adc, actT, act_ex])"
   ]
  },
  {
   "cell_type": "code",
   "execution_count": 19,
   "metadata": {},
   "outputs": [
    {
     "name": "stdout",
     "output_type": "stream",
     "text": [
      "Product:  0.5\n",
      "ATP:  0.5\n",
      "NADH:  -1.5\n",
      "Ferredoxin:  -0.5\n",
      "H+:  -0.5\n"
     ]
    },
    {
     "data": {
      "application/vnd.jupyter.widget-view+json": {
       "model_id": "8d6d6aff343d443bb3d41b61fb9f54f8",
       "version_major": 2,
       "version_minor": 0
      },
      "text/plain": [
       "Builder(reaction_data={'EX_h2_e': 0.0, 'EX_h2o_e': 0.5, 'EX_co2_e': 0.0, 'EX_co_e': 0.0, 'EX_ac_e': 0.0, 'EX_e…"
      ]
     },
     "metadata": {},
     "output_type": "display_data"
    }
   ],
   "source": [
    "WLmodelActn.objective = \"EX_ac_e\"\n",
    "WLmodelActn.objective = \"EX_etoh_e\"\n",
    "WLmodelActn.objective = \"EX_act_e\"\n",
    "WLmodelActn.objective = \"EX_but_e\"\n",
    "#WLmodelActn.objective = \"EX_btoh_e\"\n",
    "#WLmodelActn.objective = \"EX_btd_RR_e\"\n",
    "#solution = WLmodel.optimize()\n",
    "\n",
    "print(\"Product: \",WLmodelActn.slim_optimize())\n",
    "print(\"ATP: \",WLmodelActn.reactions.SK_atp_c.flux)\n",
    "print(\"NADH: \",WLmodelActn.reactions.SK_nadh_c.flux)\n",
    "print(\"Ferredoxin: \",WLmodelActn.reactions.SK_fdxo_42_c.flux)\n",
    "print(\"H+: \",WLmodelActn.reactions.SK_h_c.flux)\n",
    "#print(\"Phosphate: \",WLmodelActn.reactions.BAL_pi_c.flux)\n",
    "\n",
    "solution = WLmodelActn.optimize()\n",
    "\n",
    "Builder(model = WLmodel, map_json = join(data_dir,'Models/EscherMaps/WL_products_Actn copy.json'), reaction_data = solution.fluxes.to_dict())"
   ]
  }
 ],
 "metadata": {
  "kernelspec": {
   "display_name": "dFBACoCultivation",
   "language": "python",
   "name": "dfbacocultivation"
  },
  "language_info": {
   "codemirror_mode": {
    "name": "ipython",
    "version": 3
   },
   "file_extension": ".py",
   "mimetype": "text/x-python",
   "name": "python",
   "nbconvert_exporter": "python",
   "pygments_lexer": "ipython3",
   "version": "3.6.12"
  }
 },
 "nbformat": 4,
 "nbformat_minor": 4
}
