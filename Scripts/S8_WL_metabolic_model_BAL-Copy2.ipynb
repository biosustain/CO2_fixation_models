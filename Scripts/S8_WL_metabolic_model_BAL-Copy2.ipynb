{
 "cells": [
  {
   "cell_type": "code",
   "execution_count": 1,
   "metadata": {},
   "outputs": [],
   "source": [
    "import cobra.io\n",
    "import escher\n",
    "from escher import Builder\n",
    "from cobra import Model, Reaction, Metabolite\n",
    "from os.path import join"
   ]
  },
  {
   "cell_type": "code",
   "execution_count": 2,
   "metadata": {},
   "outputs": [],
   "source": [
    "data_dir = \"/Users/phivri/Documents/GitHub/Biosustain/MoGeoModel\""
   ]
  },
  {
   "cell_type": "code",
   "execution_count": 3,
   "metadata": {},
   "outputs": [
    {
     "name": "stdout",
     "output_type": "stream",
     "text": [
      "Using license file /Users/phivri/gurobi.lic\n",
      "Academic license - for non-commercial use only - expires 2022-07-23\n"
     ]
    }
   ],
   "source": [
    "Cljung_Model = cobra.io.read_sbml_model(join(data_dir,'Models/C-ljungdahlii_iHN637.xml'))\n",
    "\n",
    "medium = Cljung_Model.medium\n",
    "medium['EX_h2_e'] = 1000\n",
    "medium['EX_h2o_e'] = 1000\n",
    "medium['EX_k_e'] = 0\n",
    "medium['EX_fru_e'] = 0\n",
    "medium['EX_mg2_e'] = 0\n",
    "medium['EX_mn2_e'] = 0\n",
    "medium['EX_na1_e'] = 0\n",
    "medium['EX_nh4_e'] = 0\n",
    "medium['EX_ni2_e'] = 0\n",
    "medium['EX_pi_e'] = 0#?????\n",
    "medium['EX_mobd_e'] = 0\n",
    "medium['EX_zn2_e'] = 0\n",
    "medium['EX_ribflv_e'] = 0\n",
    "medium['EX_btn_e'] = 0\n",
    "medium['EX_so4_e'] = 0\n",
    "medium['EX_thm_e'] = 0\n",
    "medium['EX_ca2_e'] = 0\n",
    "medium['EX_cl_e'] = 0\n",
    "medium['EX_co2_e'] = 10\n",
    "medium['EX_cobalt2_e'] = 0\n",
    "medium['EX_cu2_e'] = 0\n",
    "medium['EX_fe2_e'] = 0\n",
    "medium['EX_fol_e'] = 0\n",
    "medium['EX_h_e'] = 1000\n",
    "Cljung_Model.medium = medium\n",
    "#solution = Cljung_Model.optimize()"
   ]
  },
  {
   "cell_type": "code",
   "execution_count": 4,
   "metadata": {},
   "outputs": [
    {
     "name": "stdout",
     "output_type": "stream",
     "text": [
      "{}\n",
      "(0.0, 1000.0)\n",
      "mlthf_c + nad_c --> methf_c + nadh_c\n"
     ]
    }
   ],
   "source": [
    "Cljung_Model.reactions.ATPM.bounds = 0, 1000\n",
    "\n",
    "Cljung_Model.reactions.ACt2r.knock_out()\n",
    "#Cljung_Model.reactions.PFL.knock_out()\n",
    "#Cljung_Model.reactions.GLNS.knock_out()\n",
    "#Cljung_Model.reactions.ALCD2y.knock_out() #keep only with NADH\n",
    "\n",
    "acT = Reaction(\"ACt\")\n",
    "acT.name = \"Acetate transporter\"\n",
    "acT.add_metabolites({ \n",
    "    Cljung_Model.metabolites.ac_c: -1.0,\n",
    "    Cljung_Model.metabolites.ac_e: 1.0\n",
    "})\n",
    "\n",
    "mthfd2 = Reaction(\"MTHFD2\")\n",
    "mthfd2.name = \"Methylenetetrahydrofolate dehydrogenase (NAD)\"\n",
    "\n",
    "mthfd2.add_metabolites({\n",
    "    Cljung_Model.metabolites.mlthf_c: -1.0,\n",
    "    Cljung_Model.metabolites.nad_c: -1.0,\n",
    "    Cljung_Model.metabolites.methf_c: 1.0,\n",
    "    Cljung_Model.metabolites.nadh_c: 1.0,\n",
    "})\n",
    "print(mthfd2.check_mass_balance())    #ensure correct mass balance\n",
    "print(mthfd2.bounds)                  #Ensure correct bounds\n",
    "print(mthfd2.reaction)\n",
    "\n",
    "Cljung_Model.add_reactions([acT, mthfd2])\n",
    "Cljung_Model.reactions.MTHFD2.bounds = -1000.0, 1000.0\n"
   ]
  },
  {
   "cell_type": "code",
   "execution_count": 5,
   "metadata": {},
   "outputs": [
    {
     "data": {
      "text/html": [
       "\n",
       "        <table>\n",
       "            <tr>\n",
       "                <td><strong>Reaction identifier</strong></td><td>MTHFD2</td>\n",
       "            </tr><tr>\n",
       "                <td><strong>Name</strong></td><td>Methylenetetrahydrofolate dehydrogenase (NAD)</td>\n",
       "            </tr><tr>\n",
       "                <td><strong>Memory address</strong></td>\n",
       "                <td>0x07ff2a0a1dc18</td>\n",
       "            </tr><tr>\n",
       "                <td><strong>Stoichiometry</strong></td>\n",
       "                <td>\n",
       "                    <p style='text-align:right'>mlthf_c + nad_c <=> methf_c + nadh_c</p>\n",
       "                    <p style='text-align:right'>5,10-Methylenetetrahydrofolate + Nicotinamide adenine dinucleotide <=> 5,10-Methenyltetrahydrofolate + Nicotinamide adenine dinucleotide - reduced</p>\n",
       "                </td>\n",
       "            </tr><tr>\n",
       "                <td><strong>GPR</strong></td><td></td>\n",
       "            </tr><tr>\n",
       "                <td><strong>Lower bound</strong></td><td>-1000.0</td>\n",
       "            </tr><tr>\n",
       "                <td><strong>Upper bound</strong></td><td>1000.0</td>\n",
       "            </tr>\n",
       "        </table>\n",
       "        "
      ],
      "text/plain": [
       "<Reaction MTHFD2 at 0x7ff2a0a1dc18>"
      ]
     },
     "execution_count": 5,
     "metadata": {},
     "output_type": "execute_result"
    }
   ],
   "source": [
    "Cljung_Model.reactions.MTHFD2"
   ]
  },
  {
   "cell_type": "code",
   "execution_count": 6,
   "metadata": {},
   "outputs": [],
   "source": [
    "Cljung_Model.reactions.ACACT1r.bounds = 0,1000.0\n",
    "Cljung_Model.reactions.HACD1.bounds = 0,1000.0\n",
    "Cljung_Model.reactions.ECOAH1.bounds = 0,1000.0\n",
    "Cljung_Model.reactions.ACOAD1z.bounds = 0,1000.0\n",
    "Cljung_Model.reactions.PBUTT.bounds = 0,1000.0\n",
    "Cljung_Model.reactions.BUTKr.bounds = -1000.0,0\n",
    "Cljung_Model.reactions.BTCOARx.bounds = 0,1000.0\n",
    "Cljung_Model.reactions.ALCD4.bounds = -1000.0,0\n",
    "Cljung_Model.reactions.BTOHt.bounds = -1000.0, 1000.0\n",
    "Cljung_Model.reactions.BUTt.bounds = -1000.0, 1000.0"
   ]
  },
  {
   "cell_type": "code",
   "execution_count": 7,
   "metadata": {},
   "outputs": [
    {
     "data": {
      "text/plain": [
       "Index(['EX_h2_e', 'EX_h2o_e', 'EX_co2_e', 'ACALD', 'EX_etoh_e', 'CO2t',\n",
       "       'ALCD2y', 'ACAFDOR', 'CITL', 'CODH_ACS', 'ETOHt', 'CS', 'H2Ot', 'H2td',\n",
       "       'FDH7', 'FRNDPR2r', 'FTHFLi', 'METR', 'HYDFDN2r', 'MTHFD', 'MTHFC',\n",
       "       'MTHFR5', 'RNF', 'ATPS4r'],\n",
       "      dtype='object')"
      ]
     },
     "execution_count": 7,
     "metadata": {},
     "output_type": "execute_result"
    }
   ],
   "source": [
    "#Cljung_Model.objective = \"ATPM\"\n",
    "#Cljung_Model.objective = \"EX_ac_e\"\n",
    "Cljung_Model.objective = \"EX_etoh_e\"\n",
    "#Cljung_Model.objective = \"EX_but_e\"\n",
    "#Cljung_Model.objective = \"EX_btoh_e\"\n",
    "#Cljung_Model.objective = \"EX_btd_RR_e\"\n",
    "#print(Cljung_Model.slim_optimize())\n",
    "#solution = Cljung_Model.optimize()\n",
    "#Cljung_Model.pfba()\n",
    "#solution.fluxes[solution.fluxes != 0].index\n",
    "\n",
    "solution = cobra.flux_analysis.pfba(Cljung_Model)\n",
    "solution.fluxes[solution.fluxes != 0].index"
   ]
  },
  {
   "cell_type": "markdown",
   "metadata": {},
   "source": [
    "acT = Reaction(\"ACt\")\n",
    "acT.name = \"Acetate transporter\"\n",
    "acT.add_metabolites({ \n",
    "    Cljung_Model.metabolites.ac_c: -1.0,\n",
    "    Cljung_Model.metabolites.ac_e: 1.0\n",
    "})\n",
    "print(acT.check_mass_balance())    #ensure correct mass balance\n",
    "print(acT.bounds)                  #Ensure correct bounds\n",
    "print(acT.reaction)\n",
    "\n",
    "\n",
    "mthfd2 = Reaction(\"MTHFD2\")\n",
    "mthfd2.name = \"Methylenetetrahydrofolate dehydrogenase (NAD)\"\n",
    "\n",
    "mthfd2.add_metabolites({\n",
    "    Cljung_Model.metabolites.mlthf_c: -1.0,\n",
    "    Cljung_Model.metabolites.nad_c: -1.0,\n",
    "    Cljung_Model.metabolites.methf_c: 1.0,\n",
    "    Cljung_Model.metabolites.nadh_c: 1.0,\n",
    "})\n",
    "print(mthfd2.check_mass_balance())    #ensure correct mass balance\n",
    "print(mthfd2.bounds)                  #Ensure correct bounds\n",
    "print(mthfd2.reaction)\n",
    "\n",
    "Cljung_Model.add_reactions([acT, mthfd2])\n",
    "\n",
    "#Cljung_Model.reactions.ACt.bounds = -1000, 1000.0\n",
    "#Cljung_Model.reactions.mthfd2.bounds\n",
    "\n",
    "solution = cobra.flux_analysis.pfba(Cljung_Model)\n",
    "print(Cljung_Model.slim_optimize())\n",
    "solution.fluxes[solution.fluxes != 0].index"
   ]
  },
  {
   "cell_type": "markdown",
   "metadata": {},
   "source": [
    "'EX_h2_e', 'EX_h2o_e', 'EX_co2_e', 'ACALD', 'EX_etoh_e', 'ATPM', 'CO2t',\n",
    "       'ALCD2y', 'CODH_ACS', 'ETOHt', 'H2Ot', 'H2td', 'FDH7', 'FRNDPR2r',\n",
    "       'FTHFLi', 'METR', 'HYDFDN2r', 'MTHFD', 'MTHFC', 'MTHFR5', 'RNF',\n",
    "       'ATPS4r'\n",
    "\n",
    "ATPM\n",
    "\n",
    "ACALD\n",
    "ALCD2y\n",
    "EX_etoh_e\n",
    "ETOHt"
   ]
  },
  {
   "cell_type": "markdown",
   "metadata": {},
   "source": [
    "Cljung_Model.reactions.ACALD"
   ]
  },
  {
   "cell_type": "markdown",
   "metadata": {},
   "source": [
    "WLmodel = Model('Wood_Ljungdahl_Core')\n",
    "WLmodel.add_reactions([\n",
    "Cljung_Model.reactions.EX_h2_e,\n",
    "Cljung_Model.reactions.EX_h2o_e,\n",
    "Cljung_Model.reactions.EX_ac_e,\n",
    "Cljung_Model.reactions.EX_co2_e,\n",
    "Cljung_Model.reactions.EX_etoh_e,\n",
    "Cljung_Model.reactions.EX_h_e,\n",
    "Cljung_Model.reactions.H2Ot,\n",
    "Cljung_Model.reactions.CO2t,\n",
    "Cljung_Model.reactions.H2td,\n",
    "Cljung_Model.reactions.ACt,\n",
    "Cljung_Model.reactions.ETOHt,\n",
    "#Acetate & Ethanol\n",
    "Cljung_Model.reactions.PTAr,\n",
    "Cljung_Model.reactions.ACKr,\n",
    "\n",
    "Cljung_Model.reactions.ASPT,\n",
    "Cljung_Model.reactions.CODH_ACS,\n",
    "\n",
    "\n",
    "Cljung_Model.reactions.FUM,\n",
    "Cljung_Model.reactions.FTHFLi,\n",
    "Cljung_Model.reactions.GLNS,\n",
    "Cljung_Model.reactions.GLUDy,\n",
    "Cljung_Model.reactions.GLUSy,\n",
    "Cljung_Model.reactions.METR,\n",
    "Cljung_Model.reactions.HYDFDN2r,\n",
    "Cljung_Model.reactions.MDH,\n",
    "Cljung_Model.reactions.MTHFD,\n",
    "Cljung_Model.reactions.MTHFC,\n",
    "Cljung_Model.reactions.MTHFR5,\n",
    "\n",
    "Cljung_Model.reactions.RNF,\n",
    "Cljung_Model.reactions.POR,\n",
    "Cljung_Model.reactions.ASPTA,\n",
    "Cljung_Model.reactions.ATPS4r,\n",
    "Cljung_Model.reactions.PFL,\n",
    "])\n",
    "\n",
    "WLmodel.objective = \"EX_ac_e\"\n",
    "WLmodel.optimize()"
   ]
  },
  {
   "cell_type": "code",
   "execution_count": 8,
   "metadata": {},
   "outputs": [],
   "source": [
    "#Cljung_Model.fluxes.ALCD2y\n",
    "#reactions.get_by_id(\"ALCD2y\")\n",
    "#Cljung_Model.metabolites.fdxo_42_c.summary()"
   ]
  },
  {
   "cell_type": "code",
   "execution_count": 9,
   "metadata": {
    "scrolled": true
   },
   "outputs": [],
   "source": [
    "#Cljung_Model.reactions.FRNDPR2r"
   ]
  },
  {
   "cell_type": "code",
   "execution_count": 10,
   "metadata": {},
   "outputs": [],
   "source": [
    "#Cljung_Model.metabolites.acald_c#.summary()"
   ]
  },
  {
   "cell_type": "code",
   "execution_count": 11,
   "metadata": {},
   "outputs": [],
   "source": [
    "#Builder(model = Cljung_Model, map_json = join(data_dir,'Models/EscherMaps/WL_core_clean.json'), reaction_data = solution.fluxes.to_dict())"
   ]
  },
  {
   "cell_type": "markdown",
   "metadata": {},
   "source": [
    "WLmodel = Model('Wood_Ljungdahl_Core')\n",
    "\n",
    "WLmodel.add_reactions([\n",
    "#Transport & Exchange:\n",
    "Cljung_Model.reactions.EX_h2_e,\n",
    "Cljung_Model.reactions.EX_h2o_e,\n",
    "Cljung_Model.reactions.EX_co2_e,\n",
    "Cljung_Model.reactions.EX_co_e,\n",
    "Cljung_Model.reactions.EX_ac_e,\n",
    "Cljung_Model.reactions.EX_etoh_e,\n",
    "Cljung_Model.reactions.EX_btd_RR_e,\n",
    "Cljung_Model.reactions.EX_but_e,\n",
    "Cljung_Model.reactions.EX_btoh_e,\n",
    "Cljung_Model.reactions.H2td,\n",
    "Cljung_Model.reactions.H2Ot,\n",
    "Cljung_Model.reactions.CO2t,\n",
    "Cljung_Model.reactions.COt,\n",
    "#Cljung_Model.reactions.ACt,\n",
    "Cljung_Model.reactions.ETOHt,\n",
    "Cljung_Model.reactions.BTDt_RR,\n",
    "Cljung_Model.reactions.BUTt,\n",
    "Cljung_Model.reactions.BTOHt,\n",
    "#Energy:\n",
    "#Cljung_Model.reactions.HYDFDN,\n",
    "Cljung_Model.reactions.HYDFDi,\n",
    "#Cljung_Model.reactions.HYDFDN2r,\n",
    "Cljung_Model.reactions.ATPS4r,\n",
    "Cljung_Model.reactions.RNF,#Add this reaction in Escher\n",
    "#Cljung_Model.reactions.NTPP6,#Add this reaction in Escher\n",
    "#Cljung_Model.reactions.PPA,#Add this reaction in Escher\n",
    "#Cljung_Model.reactions.ADK1,#Add this reaction in Escher\n",
    "#Cljung_Model.reactions.FRNDPR2r,#Add this reaction in Escher\n",
    "#WL pathway\n",
    "Cljung_Model.reactions.FDH7,\n",
    "Cljung_Model.reactions.FTHFLi,\n",
    "Cljung_Model.reactions.MTHFC,\n",
    "#Cljung_Model.reactions.MTHFD,\n",
    "Cljung_Model.reactions.MTHFR5,\n",
    "Cljung_Model.reactions.METR,\n",
    "Cljung_Model.reactions.CODH4,\n",
    "Cljung_Model.reactions.CODH_ACS,\n",
    "Cljung_Model.reactions.PTAr,\n",
    "Cljung_Model.reactions.ACKr,\n",
    "Cljung_Model.reactions.ACAFDOR,\n",
    "#Cljung_Model.reactions.ALCD2y,\n",
    "Cljung_Model.reactions.ALCD2x,\n",
    "Cljung_Model.reactions.POR,\n",
    "Cljung_Model.reactions.ACLS,\n",
    "Cljung_Model.reactions.ACLDC,\n",
    "Cljung_Model.reactions.BTDD_RR,\n",
    "Cljung_Model.reactions.ACACT1r,\n",
    "Cljung_Model.reactions.HACD1,\n",
    "Cljung_Model.reactions.ECOAH1,\n",
    "Cljung_Model.reactions.ACOAD1z,\n",
    "Cljung_Model.reactions.BTCOARx,\n",
    "Cljung_Model.reactions.ALCD4,\n",
    "Cljung_Model.reactions.PBUTT,\n",
    "Cljung_Model.reactions.BUTKr])"
   ]
  },
  {
   "cell_type": "markdown",
   "metadata": {},
   "source": [
    "Simplify two reactions:"
   ]
  },
  {
   "cell_type": "code",
   "execution_count": 12,
   "metadata": {},
   "outputs": [
    {
     "data": {
      "text/html": [
       "\n",
       "        <table>\n",
       "            <tr>\n",
       "                <td><strong>Reaction identifier</strong></td><td>UDCPDPex</td>\n",
       "            </tr><tr>\n",
       "                <td><strong>Name</strong></td><td>Undecaprenyl-diphosphatase (periplasm)</td>\n",
       "            </tr><tr>\n",
       "                <td><strong>Memory address</strong></td>\n",
       "                <td>0x07ff28a9244a8</td>\n",
       "            </tr><tr>\n",
       "                <td><strong>Stoichiometry</strong></td>\n",
       "                <td>\n",
       "                    <p style='text-align:right'>h2o_e + udcpdp_e --> h_e + pi_e + udcpp_e</p>\n",
       "                    <p style='text-align:right'>H2O H2O + Undecaprenyl diphosphate --> H+ + Phosphate + Undecaprenyl phosphate</p>\n",
       "                </td>\n",
       "            </tr><tr>\n",
       "                <td><strong>GPR</strong></td><td>CLJU_RS07805 or CLJU_RS03055</td>\n",
       "            </tr><tr>\n",
       "                <td><strong>Lower bound</strong></td><td>0.0</td>\n",
       "            </tr><tr>\n",
       "                <td><strong>Upper bound</strong></td><td>1000.0</td>\n",
       "            </tr>\n",
       "        </table>\n",
       "        "
      ],
      "text/plain": [
       "<Reaction UDCPDPex at 0x7ff28a9244a8>"
      ]
     },
     "execution_count": 12,
     "metadata": {},
     "output_type": "execute_result"
    }
   ],
   "source": [
    "Cljung_Model.metabolites.pi_e\n",
    "Cljung_Model.reactions.UDCPDPex"
   ]
  },
  {
   "cell_type": "code",
   "execution_count": 13,
   "metadata": {},
   "outputs": [],
   "source": [
    "Cljung_Model.reactions.HYDFDN.bounds = -1000.0, 1000.0"
   ]
  },
  {
   "cell_type": "code",
   "execution_count": 14,
   "metadata": {},
   "outputs": [],
   "source": [
    "WLmodel = Model('Wood_Ljungdahl_Core')\n",
    "\n",
    "WLmodel.add_reactions([\n",
    "#Transport & Exchange:\n",
    "Cljung_Model.reactions.EX_h2_e,\n",
    "Cljung_Model.reactions.EX_h2o_e,\n",
    "Cljung_Model.reactions.EX_co2_e,\n",
    "Cljung_Model.reactions.EX_co_e,\n",
    "Cljung_Model.reactions.EX_pi_e,\n",
    "Cljung_Model.reactions.EX_h_e,\n",
    "Cljung_Model.reactions.EX_ac_e,\n",
    "Cljung_Model.reactions.EX_etoh_e,\n",
    "Cljung_Model.reactions.EX_btd_RR_e,\n",
    "Cljung_Model.reactions.EX_but_e,\n",
    "Cljung_Model.reactions.EX_btoh_e,\n",
    "Cljung_Model.reactions.H2td,\n",
    "Cljung_Model.reactions.H2Ot,\n",
    "Cljung_Model.reactions.CO2t,\n",
    "Cljung_Model.reactions.COt,\n",
    "Cljung_Model.reactions.ACt,\n",
    "Cljung_Model.reactions.ETOHt,\n",
    "Cljung_Model.reactions.BTDt_RR,\n",
    "Cljung_Model.reactions.BUTt,\n",
    "Cljung_Model.reactions.BTOHt,\n",
    "Cljung_Model.reactions.FDH7,\n",
    "Cljung_Model.reactions.FTHFLi,\n",
    "Cljung_Model.reactions.MTHFC,\n",
    "Cljung_Model.reactions.MTHFD2,\n",
    "Cljung_Model.reactions.MTHFR5,\n",
    "Cljung_Model.reactions.METR,\n",
    "Cljung_Model.reactions.CODH4,\n",
    "Cljung_Model.reactions.CODH_ACS,\n",
    "Cljung_Model.reactions.PTAr,\n",
    "Cljung_Model.reactions.ACKr,\n",
    "Cljung_Model.reactions.ACAFDOR,\n",
    "Cljung_Model.reactions.ALCD2x,\n",
    "\n",
    "Cljung_Model.reactions.HYDFDN,\n",
    "Cljung_Model.reactions.RNF,\n",
    "    \n",
    "Cljung_Model.reactions.POR,\n",
    "Cljung_Model.reactions.ACLS,\n",
    "Cljung_Model.reactions.ACLDC,\n",
    "Cljung_Model.reactions.BTDD_RR,\n",
    "    \n",
    "Cljung_Model.reactions.ACACT1r,\n",
    "Cljung_Model.reactions.HACD1,\n",
    "Cljung_Model.reactions.ECOAH1,\n",
    "Cljung_Model.reactions.ACOAD1z,\n",
    "Cljung_Model.reactions.BTCOARx,\n",
    "Cljung_Model.reactions.ALCD4,\n",
    "Cljung_Model.reactions.PBUTT,\n",
    "Cljung_Model.reactions.BUTKr])"
   ]
  },
  {
   "cell_type": "code",
   "execution_count": 15,
   "metadata": {},
   "outputs": [],
   "source": [
    "atp_bal = Reaction(\"BAL_atp_c\")\n",
    "atp_bal.name = \"ATP balancing\"\n",
    "atp_bal.add_metabolites({ \n",
    "    WLmodel.metabolites.atp_c: -1.0,\n",
    "    WLmodel.metabolites.adp_c: 1.0\n",
    "})\n",
    "atp_bal\n",
    "\n",
    "nadh_bal = Reaction(\"BAL_nadh_c\")\n",
    "nadh_bal.name = \"NADH balancing\"\n",
    "nadh_bal.add_metabolites({ \n",
    "    WLmodel.metabolites.nadh_c: -1.0,\n",
    "    WLmodel.metabolites.nad_c: 1.0\n",
    "})\n",
    "nadh_bal\n",
    "\n",
    "h_bal = Reaction(\"BAL_h_c\")\n",
    "h_bal.name = \"FDXO balancing\"\n",
    "h_bal.add_metabolites({ \n",
    "    WLmodel.metabolites.h_c: -1.0,\n",
    "})\n",
    "h_bal\n",
    "\n",
    "pi_bal = Reaction(\"BAL_pi_c\")\n",
    "pi_bal.name = \"Phosphate balancing\"\n",
    "pi_bal.add_metabolites({ \n",
    "    WLmodel.metabolites.pi_c: -1.0,\n",
    "})\n",
    "pi_bal\n",
    "\n",
    "WLmodel.add_reactions([atp_bal, nadh_bal, h_bal, pi_bal])\n",
    "\n",
    "WLmodel.reactions.BAL_atp_c.bounds = -1000.0, 1000.0\n",
    "#WLmodel.reactions.BAL_adp_c.bounds = -1000.0, 1000.0\n",
    "WLmodel.reactions.BAL_nadh_c.bounds = -1000.0, 1000.0\n",
    "#WLmodel.reactions.BAL_nad_c.bounds = -1000.0, 1000.0\n",
    "#WLmodel.reactions.BAL_fdxo_c.bounds = -1000.0, 1000.0\n",
    "#WLmodel.reactions.BAL_fdxr_c.bounds = -1000.0, 1000.0\n",
    "WLmodel.reactions.BAL_h_c.bounds = -1000.0, 1000.0\n",
    "WLmodel.reactions.BAL_pi_c.bounds = -1000.0, 1000.0"
   ]
  },
  {
   "cell_type": "markdown",
   "metadata": {},
   "source": [
    "Use this instead:\n",
    "https://www.frontiersin.org/articles/10.3389/fbioe.2020.621166/full"
   ]
  },
  {
   "cell_type": "code",
   "execution_count": 39,
   "metadata": {},
   "outputs": [],
   "source": [
    "medium = WLmodel.medium\n",
    "\n",
    "medium['EX_co2_e'] = 1\n",
    "medium['EX_h2_e'] = 1000\n",
    "medium['EX_co_e'] = 0\n",
    "\n",
    "WLmodel.medium = medium"
   ]
  },
  {
   "cell_type": "code",
   "execution_count": 40,
   "metadata": {},
   "outputs": [
    {
     "name": "stdout",
     "output_type": "stream",
     "text": [
      "Product:  0.5\n",
      "ATP:  0.0\n",
      "NADH:  -2.0\n",
      "H+:  -0.5\n"
     ]
    },
    {
     "data": {
      "text/html": [
       "<strong><em>Optimal</em> solution with objective value 0.500</strong><br><div>\n",
       "<style scoped>\n",
       "    .dataframe tbody tr th:only-of-type {\n",
       "        vertical-align: middle;\n",
       "    }\n",
       "\n",
       "    .dataframe tbody tr th {\n",
       "        vertical-align: top;\n",
       "    }\n",
       "\n",
       "    .dataframe thead th {\n",
       "        text-align: right;\n",
       "    }\n",
       "</style>\n",
       "<table border=\"1\" class=\"dataframe\">\n",
       "  <thead>\n",
       "    <tr style=\"text-align: right;\">\n",
       "      <th></th>\n",
       "      <th>fluxes</th>\n",
       "      <th>reduced_costs</th>\n",
       "    </tr>\n",
       "  </thead>\n",
       "  <tbody>\n",
       "    <tr>\n",
       "      <th>EX_h2_e</th>\n",
       "      <td>0.0</td>\n",
       "      <td>0.0</td>\n",
       "    </tr>\n",
       "    <tr>\n",
       "      <th>EX_h2o_e</th>\n",
       "      <td>1.0</td>\n",
       "      <td>0.0</td>\n",
       "    </tr>\n",
       "    <tr>\n",
       "      <th>EX_co2_e</th>\n",
       "      <td>-1.0</td>\n",
       "      <td>-1.0</td>\n",
       "    </tr>\n",
       "    <tr>\n",
       "      <th>EX_co_e</th>\n",
       "      <td>0.0</td>\n",
       "      <td>-1.0</td>\n",
       "    </tr>\n",
       "    <tr>\n",
       "      <th>EX_pi_e</th>\n",
       "      <td>0.0</td>\n",
       "      <td>0.0</td>\n",
       "    </tr>\n",
       "    <tr>\n",
       "      <th>...</th>\n",
       "      <td>...</td>\n",
       "      <td>...</td>\n",
       "    </tr>\n",
       "    <tr>\n",
       "      <th>BAL_pi_c</th>\n",
       "      <td>0.0</td>\n",
       "      <td>0.0</td>\n",
       "    </tr>\n",
       "    <tr>\n",
       "      <th>ctfAB_ac</th>\n",
       "      <td>0.0</td>\n",
       "      <td>0.0</td>\n",
       "    </tr>\n",
       "    <tr>\n",
       "      <th>ADC</th>\n",
       "      <td>0.0</td>\n",
       "      <td>0.0</td>\n",
       "    </tr>\n",
       "    <tr>\n",
       "      <th>ACTt</th>\n",
       "      <td>0.0</td>\n",
       "      <td>0.0</td>\n",
       "    </tr>\n",
       "    <tr>\n",
       "      <th>EX_act_e</th>\n",
       "      <td>0.0</td>\n",
       "      <td>0.0</td>\n",
       "    </tr>\n",
       "  </tbody>\n",
       "</table>\n",
       "<p>54 rows × 2 columns</p>\n",
       "</div>"
      ],
      "text/plain": [
       "<Solution 0.500 at 0x7ff28a633a20>"
      ]
     },
     "execution_count": 40,
     "metadata": {},
     "output_type": "execute_result"
    }
   ],
   "source": [
    "WLmodel.objective = \"EX_ac_e\"\n",
    "#WLmodel.objective = \"EX_etoh_e\"\n",
    "#WLmodel.objective = \"EX_but_e\"\n",
    "#WLmodel.objective = \"EX_btoh_e\"\n",
    "#WLmodel.objective = \"EX_btd_RR_e\"\n",
    "\n",
    "solution = WLmodel.optimize()\n",
    "\n",
    "print(\"Product: \",WLmodel.slim_optimize())\n",
    "print(\"ATP: \",WLmodel.reactions.BAL_atp_c.flux)\n",
    "print(\"NADH: \",WLmodel.reactions.BAL_nadh_c.flux)\n",
    "#print(\"Ferredoxin: \",WLmodel.reactions.BAL_fdxo_c.flux)\n",
    "print(\"H+: \",WLmodel.reactions.BAL_h_c.flux)\n",
    "#print(\"Phosphate: \",WLmodel.reactions.BAL_pi_c.flux)\n",
    "\n",
    "WLmodel.optimize()"
   ]
  },
  {
   "cell_type": "code",
   "execution_count": 18,
   "metadata": {},
   "outputs": [
    {
     "name": "stdout",
     "output_type": "stream",
     "text": [
      "Product:  0.25\n",
      "ATP:  -0.25\n",
      "NADH:  -2.5\n",
      "H+:  -1.5\n"
     ]
    },
    {
     "data": {
      "text/html": [
       "<strong><em>Optimal</em> solution with objective value 0.250</strong><br><div>\n",
       "<style scoped>\n",
       "    .dataframe tbody tr th:only-of-type {\n",
       "        vertical-align: middle;\n",
       "    }\n",
       "\n",
       "    .dataframe tbody tr th {\n",
       "        vertical-align: top;\n",
       "    }\n",
       "\n",
       "    .dataframe thead th {\n",
       "        text-align: right;\n",
       "    }\n",
       "</style>\n",
       "<table border=\"1\" class=\"dataframe\">\n",
       "  <thead>\n",
       "    <tr style=\"text-align: right;\">\n",
       "      <th></th>\n",
       "      <th>fluxes</th>\n",
       "      <th>reduced_costs</th>\n",
       "    </tr>\n",
       "  </thead>\n",
       "  <tbody>\n",
       "    <tr>\n",
       "      <th>EX_h2_e</th>\n",
       "      <td>0.00</td>\n",
       "      <td>-0.0</td>\n",
       "    </tr>\n",
       "    <tr>\n",
       "      <th>EX_h2o_e</th>\n",
       "      <td>1.25</td>\n",
       "      <td>0.0</td>\n",
       "    </tr>\n",
       "    <tr>\n",
       "      <th>EX_co2_e</th>\n",
       "      <td>-1.00</td>\n",
       "      <td>-0.5</td>\n",
       "    </tr>\n",
       "    <tr>\n",
       "      <th>EX_co_e</th>\n",
       "      <td>0.00</td>\n",
       "      <td>-0.5</td>\n",
       "    </tr>\n",
       "    <tr>\n",
       "      <th>EX_pi_e</th>\n",
       "      <td>0.00</td>\n",
       "      <td>0.0</td>\n",
       "    </tr>\n",
       "    <tr>\n",
       "      <th>...</th>\n",
       "      <td>...</td>\n",
       "      <td>...</td>\n",
       "    </tr>\n",
       "    <tr>\n",
       "      <th>BUTKr</th>\n",
       "      <td>-0.25</td>\n",
       "      <td>-0.0</td>\n",
       "    </tr>\n",
       "    <tr>\n",
       "      <th>BAL_atp_c</th>\n",
       "      <td>-0.25</td>\n",
       "      <td>-0.0</td>\n",
       "    </tr>\n",
       "    <tr>\n",
       "      <th>BAL_nadh_c</th>\n",
       "      <td>-2.50</td>\n",
       "      <td>-0.0</td>\n",
       "    </tr>\n",
       "    <tr>\n",
       "      <th>BAL_h_c</th>\n",
       "      <td>-1.50</td>\n",
       "      <td>-0.0</td>\n",
       "    </tr>\n",
       "    <tr>\n",
       "      <th>BAL_pi_c</th>\n",
       "      <td>0.25</td>\n",
       "      <td>0.0</td>\n",
       "    </tr>\n",
       "  </tbody>\n",
       "</table>\n",
       "<p>50 rows × 2 columns</p>\n",
       "</div>"
      ],
      "text/plain": [
       "<Solution 0.250 at 0x7ff2a6fadf98>"
      ]
     },
     "execution_count": 18,
     "metadata": {},
     "output_type": "execute_result"
    }
   ],
   "source": [
    "WLmodel.objective = \"EX_ac_e\"\n",
    "#WLmodel.objective = \"EX_etoh_e\"\n",
    "WLmodel.objective = \"EX_but_e\"\n",
    "#WLmodel.objective = \"EX_btoh_e\"\n",
    "#WLmodel.objective = \"EX_btd_RR_e\"\n",
    "\n",
    "solution = WLmodel.optimize()\n",
    "\n",
    "print(\"Product: \",WLmodel.slim_optimize())\n",
    "print(\"ATP: \",WLmodel.reactions.BAL_atp_c.flux)\n",
    "print(\"NADH: \",WLmodel.reactions.BAL_nadh_c.flux)\n",
    "#print(\"Ferredoxin: \",WLmodel.reactions.BAL_fdxo_c.flux)\n",
    "print(\"H+: \",WLmodel.reactions.BAL_h_c.flux)\n",
    "#print(\"Phosphate: \",WLmodel.reactions.BAL_pi_c.flux)\n",
    "\n",
    "WLmodel.optimize()"
   ]
  },
  {
   "cell_type": "code",
   "execution_count": 29,
   "metadata": {},
   "outputs": [
    {
     "data": {
      "text/html": [
       "\n",
       "        <table>\n",
       "            <tr>\n",
       "                <td><strong>Reaction identifier</strong></td><td>RNF</td>\n",
       "            </tr><tr>\n",
       "                <td><strong>Name</strong></td><td>Ferredoxin:NAD oxidoreductase ( 2 protons traslocation)</td>\n",
       "            </tr><tr>\n",
       "                <td><strong>Memory address</strong></td>\n",
       "                <td>0x07ff28a843518</td>\n",
       "            </tr><tr>\n",
       "                <td><strong>Stoichiometry</strong></td>\n",
       "                <td>\n",
       "                    <p style='text-align:right'>fdxr_42_c + 3.0 h_c + nad_c <=> fdxo_42_c + 2.0 h_e + nadh_c</p>\n",
       "                    <p style='text-align:right'>Ferredoxin (reduced form 4:2) + 3.0 H+ + Nicotinamide adenine dinucleotide <=> Ferredoxin (oxidized form 4:2) + 2.0 H+ + Nicotinamide adenine dinucleotide - reduced</p>\n",
       "                </td>\n",
       "            </tr><tr>\n",
       "                <td><strong>GPR</strong></td><td>CLJU_RS05590 and CLJU_RS05595 and CLJU_RS05570 and CLJU_RS05575 and CLJU_RS05585 and CLJU_RS05580</td>\n",
       "            </tr><tr>\n",
       "                <td><strong>Lower bound</strong></td><td>-1000.0</td>\n",
       "            </tr><tr>\n",
       "                <td><strong>Upper bound</strong></td><td>1000.0</td>\n",
       "            </tr>\n",
       "        </table>\n",
       "        "
      ],
      "text/plain": [
       "<Reaction RNF at 0x7ff28a843518>"
      ]
     },
     "execution_count": 29,
     "metadata": {},
     "output_type": "execute_result"
    }
   ],
   "source": [
    "WLmodel.reactions.RNF"
   ]
  },
  {
   "cell_type": "code",
   "execution_count": 20,
   "metadata": {},
   "outputs": [
    {
     "data": {
      "application/vnd.jupyter.widget-view+json": {
       "model_id": "f1fc93f8c6de4467a425b2f8df80c106",
       "version_major": 2,
       "version_minor": 0
      },
      "text/plain": [
       "Builder(reaction_data={'EX_h2_e': 0.0, 'EX_h2o_e': 1.25, 'EX_co2_e': -1.0, 'EX_co_e': 0.0, 'EX_pi_e': 0.0, 'EX…"
      ]
     },
     "metadata": {},
     "output_type": "display_data"
    }
   ],
   "source": [
    "Builder(model = WLmodel, map_json = join(data_dir,'Models/EscherMaps/WL_core_withBAL.json'), reaction_data = solution.fluxes.to_dict())"
   ]
  },
  {
   "cell_type": "code",
   "execution_count": 21,
   "metadata": {},
   "outputs": [],
   "source": [
    "WLmodelActn = WLmodel\n",
    "\n",
    "WLmodelActn.add_metabolites(Metabolite(id='acac_c',formula = 'C4H6O3', name = 'Acetoacetate', compartment = 'c' ))\n",
    "WLmodelActn.add_metabolites(Metabolite(id='act_c',formula = 'C3H6O', name = 'Acetone', compartment = 'c' ))\n",
    "WLmodelActn.add_metabolites(Metabolite(id='act_e', formula = 'C3H6O', name = 'Acetone', compartment = 'e'))"
   ]
  },
  {
   "cell_type": "code",
   "execution_count": 22,
   "metadata": {},
   "outputs": [
    {
     "name": "stdout",
     "output_type": "stream",
     "text": [
      "{'H': 2.0}\n",
      "(0.0, 1000.0)\n",
      "aacoa_c + ac_c --> acac_c + accoa_c + h_c\n"
     ]
    }
   ],
   "source": [
    "ctfAB_ac = Reaction(\"ctfAB_ac\")\n",
    "ctfAB_ac.name = \"Acetate-acetoacetate CoA-transferase\"\n",
    "\n",
    "ctfAB_ac.add_metabolites({\n",
    "    WLmodelActn.metabolites.ac_c: -1.0,      #Acetate\n",
    "    WLmodelActn.metabolites.aacoa_c: -1.0,   #Acetoacetyl-CoA\n",
    "    WLmodelActn.metabolites.acac_c: 1.0,     #Acetoacetate\n",
    "    WLmodelActn.metabolites.accoa_c: 1.0,    #Acetyl-CoA\n",
    "    WLmodelActn.metabolites.h_c: 1.0\n",
    "})\n",
    "print(ctfAB_ac.check_mass_balance())    #ensure correct mass balance\n",
    "print(ctfAB_ac.bounds)                  #Ensure correct bounds\n",
    "print(ctfAB_ac.reaction)                #Ensure correct reaction"
   ]
  },
  {
   "cell_type": "code",
   "execution_count": 23,
   "metadata": {},
   "outputs": [
    {
     "name": "stdout",
     "output_type": "stream",
     "text": [
      "{'H': -1.0}\n",
      "acac_c + h_c --> act_c + co2_c\n"
     ]
    }
   ],
   "source": [
    "adc = Reaction(\"ADC\")\n",
    "adc.name = \"acetoacetate decarboxylase\"\n",
    "\n",
    "adc.add_metabolites({\n",
    "    WLmodelActn.metabolites.acac_c: -1.0,     #Acetoacetate\n",
    "    WLmodelActn.metabolites.h_c: -1.0, \n",
    "    WLmodelActn.metabolites.act_c: 1.0,\n",
    "    WLmodelActn.metabolites.co2_c: 1.0\n",
    "})\n",
    "print(adc.check_mass_balance())    #ensure correct mass balance\n",
    "print(adc.reaction)                #Ensure correct reaction"
   ]
  },
  {
   "cell_type": "code",
   "execution_count": 24,
   "metadata": {},
   "outputs": [
    {
     "data": {
      "text/html": [
       "\n",
       "        <table>\n",
       "            <tr>\n",
       "                <td><strong>Reaction identifier</strong></td><td>ACTt</td>\n",
       "            </tr><tr>\n",
       "                <td><strong>Name</strong></td><td>Acetone transporter</td>\n",
       "            </tr><tr>\n",
       "                <td><strong>Memory address</strong></td>\n",
       "                <td>0x07ff28a5d2e80</td>\n",
       "            </tr><tr>\n",
       "                <td><strong>Stoichiometry</strong></td>\n",
       "                <td>\n",
       "                    <p style='text-align:right'>act_c --> act_e</p>\n",
       "                    <p style='text-align:right'>Acetone --> Acetone</p>\n",
       "                </td>\n",
       "            </tr><tr>\n",
       "                <td><strong>GPR</strong></td><td></td>\n",
       "            </tr><tr>\n",
       "                <td><strong>Lower bound</strong></td><td>0.0</td>\n",
       "            </tr><tr>\n",
       "                <td><strong>Upper bound</strong></td><td>1000.0</td>\n",
       "            </tr>\n",
       "        </table>\n",
       "        "
      ],
      "text/plain": [
       "<Reaction ACTt at 0x7ff28a5d2e80>"
      ]
     },
     "execution_count": 24,
     "metadata": {},
     "output_type": "execute_result"
    }
   ],
   "source": [
    "actT = Reaction(\"ACTt\")\n",
    "actT.name = \"Acetone transporter\"\n",
    "actT.add_metabolites({ \n",
    "    WLmodelActn.metabolites.act_c: -1.0,\n",
    "    WLmodelActn.metabolites.act_e: 1.0\n",
    "})\n",
    "actT"
   ]
  },
  {
   "cell_type": "code",
   "execution_count": 25,
   "metadata": {},
   "outputs": [
    {
     "data": {
      "text/html": [
       "\n",
       "        <table>\n",
       "            <tr>\n",
       "                <td><strong>Reaction identifier</strong></td><td>EX_act_e</td>\n",
       "            </tr><tr>\n",
       "                <td><strong>Name</strong></td><td>Acetone exchange</td>\n",
       "            </tr><tr>\n",
       "                <td><strong>Memory address</strong></td>\n",
       "                <td>0x07ff28a79b978</td>\n",
       "            </tr><tr>\n",
       "                <td><strong>Stoichiometry</strong></td>\n",
       "                <td>\n",
       "                    <p style='text-align:right'>act_e --></p>\n",
       "                    <p style='text-align:right'>Acetone --></p>\n",
       "                </td>\n",
       "            </tr><tr>\n",
       "                <td><strong>GPR</strong></td><td></td>\n",
       "            </tr><tr>\n",
       "                <td><strong>Lower bound</strong></td><td>0.0</td>\n",
       "            </tr><tr>\n",
       "                <td><strong>Upper bound</strong></td><td>1000.0</td>\n",
       "            </tr>\n",
       "        </table>\n",
       "        "
      ],
      "text/plain": [
       "<Reaction EX_act_e at 0x7ff28a79b978>"
      ]
     },
     "execution_count": 25,
     "metadata": {},
     "output_type": "execute_result"
    }
   ],
   "source": [
    "act_ex = Reaction(\"EX_act_e\")\n",
    "act_ex.name = \"Acetone exchange\"\n",
    "act_ex.add_metabolites({ \n",
    "    WLmodelActn.metabolites.act_e: -1.0,\n",
    "})\n",
    "act_ex"
   ]
  },
  {
   "cell_type": "code",
   "execution_count": 26,
   "metadata": {},
   "outputs": [],
   "source": [
    "WLmodelActn.add_reactions([ctfAB_ac, adc, actT, act_ex])"
   ]
  },
  {
   "cell_type": "code",
   "execution_count": 27,
   "metadata": {},
   "outputs": [
    {
     "name": "stdout",
     "output_type": "stream",
     "text": [
      "Product:  0.3333333333333333\n",
      "ATP:  0.3333333333333333\n",
      "NADH:  2.6666666666666665\n",
      "H+:  0.6666666666666665\n"
     ]
    },
    {
     "data": {
      "text/html": [
       "<strong><em>Optimal</em> solution with objective value 0.333</strong><br><div>\n",
       "<style scoped>\n",
       "    .dataframe tbody tr th:only-of-type {\n",
       "        vertical-align: middle;\n",
       "    }\n",
       "\n",
       "    .dataframe tbody tr th {\n",
       "        vertical-align: top;\n",
       "    }\n",
       "\n",
       "    .dataframe thead th {\n",
       "        text-align: right;\n",
       "    }\n",
       "</style>\n",
       "<table border=\"1\" class=\"dataframe\">\n",
       "  <thead>\n",
       "    <tr style=\"text-align: right;\">\n",
       "      <th></th>\n",
       "      <th>fluxes</th>\n",
       "      <th>reduced_costs</th>\n",
       "    </tr>\n",
       "  </thead>\n",
       "  <tbody>\n",
       "    <tr>\n",
       "      <th>EX_h2_e</th>\n",
       "      <td>0.000000</td>\n",
       "      <td>-0.000000e+00</td>\n",
       "    </tr>\n",
       "    <tr>\n",
       "      <th>EX_h2o_e</th>\n",
       "      <td>1.333333</td>\n",
       "      <td>0.000000e+00</td>\n",
       "    </tr>\n",
       "    <tr>\n",
       "      <th>EX_co2_e</th>\n",
       "      <td>-1.000000</td>\n",
       "      <td>-6.666667e-01</td>\n",
       "    </tr>\n",
       "    <tr>\n",
       "      <th>EX_co_e</th>\n",
       "      <td>0.000000</td>\n",
       "      <td>-6.666667e-01</td>\n",
       "    </tr>\n",
       "    <tr>\n",
       "      <th>EX_pi_e</th>\n",
       "      <td>0.000000</td>\n",
       "      <td>0.000000e+00</td>\n",
       "    </tr>\n",
       "    <tr>\n",
       "      <th>...</th>\n",
       "      <td>...</td>\n",
       "      <td>...</td>\n",
       "    </tr>\n",
       "    <tr>\n",
       "      <th>BAL_pi_c</th>\n",
       "      <td>0.333333</td>\n",
       "      <td>0.000000e+00</td>\n",
       "    </tr>\n",
       "    <tr>\n",
       "      <th>ctfAB_ac</th>\n",
       "      <td>0.333333</td>\n",
       "      <td>-1.110223e-16</td>\n",
       "    </tr>\n",
       "    <tr>\n",
       "      <th>ADC</th>\n",
       "      <td>0.333333</td>\n",
       "      <td>5.551115e-17</td>\n",
       "    </tr>\n",
       "    <tr>\n",
       "      <th>ACTt</th>\n",
       "      <td>0.333333</td>\n",
       "      <td>0.000000e+00</td>\n",
       "    </tr>\n",
       "    <tr>\n",
       "      <th>EX_act_e</th>\n",
       "      <td>0.333333</td>\n",
       "      <td>0.000000e+00</td>\n",
       "    </tr>\n",
       "  </tbody>\n",
       "</table>\n",
       "<p>54 rows × 2 columns</p>\n",
       "</div>"
      ],
      "text/plain": [
       "<Solution 0.333 at 0x7ff28a5fa860>"
      ]
     },
     "execution_count": 27,
     "metadata": {},
     "output_type": "execute_result"
    }
   ],
   "source": [
    "WLmodelActn.objective = \"EX_act_e\"\n",
    "\n",
    "solution = WLmodel.optimize()\n",
    "\n",
    "print(\"Product: \",WLmodelActn.slim_optimize())\n",
    "print(\"ATP: \",-WLmodelActn.reactions.BAL_atp_c.flux)\n",
    "print(\"NADH: \",-WLmodelActn.reactions.BAL_nadh_c.flux)\n",
    "#print(\"Ferredoxin: \",WLmodelActn.reactions.BAL_fdxo_c.flux)\n",
    "print(\"H+: \",-WLmodelActn.reactions.BAL_h_c.flux)\n",
    "#print(\"Phosphate: \",WLmodelActn.reactions.BAL_pi_c.flux)\n",
    "\n",
    "WLmodelActn.optimize()"
   ]
  }
 ],
 "metadata": {
  "kernelspec": {
   "display_name": "dFBACoCultivation",
   "language": "python",
   "name": "dfbacocultivation"
  },
  "language_info": {
   "codemirror_mode": {
    "name": "ipython",
    "version": 3
   },
   "file_extension": ".py",
   "mimetype": "text/x-python",
   "name": "python",
   "nbconvert_exporter": "python",
   "pygments_lexer": "ipython3",
   "version": "3.6.12"
  }
 },
 "nbformat": 4,
 "nbformat_minor": 4
}
