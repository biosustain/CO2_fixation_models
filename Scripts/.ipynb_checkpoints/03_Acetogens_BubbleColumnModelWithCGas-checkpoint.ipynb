{
 "cells": [
  {
   "cell_type": "code",
   "execution_count": 1,
   "metadata": {},
   "outputs": [],
   "source": [
    "import numpy as np\n",
    "import matplotlib.pyplot as plt\n",
    "import math\n",
    "from scipy.integrate import odeint"
   ]
  },
  {
   "cell_type": "markdown",
   "metadata": {},
   "source": [
    "# Define parameters"
   ]
  },
  {
   "cell_type": "code",
   "execution_count": 2,
   "metadata": {},
   "outputs": [],
   "source": [
    "Tc = 30 #Temperature in Celsius\n",
    "T = 273.15 + Tc\n",
    "\n",
    "#mol fraction of incoming gas\n",
    "y_co = 0.4 #[mol/mol]\n",
    "y_co2 = 0.2 #[mol/mol]\n",
    "y_h2 = 0.38 #[mol/mol]\n",
    "y_o2 = 0.01 #[mol/mol]\n",
    "y_n2 = 0.01 #[mol/mol]\n",
    "\n",
    "#Universal constants:\n",
    "R = 8.314 # [m^3*Pa/K/mol]"
   ]
  },
  {
   "cell_type": "markdown",
   "metadata": {},
   "source": [
    "Biological Parameters"
   ]
  },
  {
   "cell_type": "code",
   "execution_count": 3,
   "metadata": {},
   "outputs": [
    {
     "name": "stdout",
     "output_type": "stream",
     "text": [
      "a_G = 1000 [kJ/CmolX]\n"
     ]
    }
   ],
   "source": [
    "a_G = 1000 #kJ/CmolX\n",
    "print(\"a_G =\", a_G, \"[kJ/CmolX]\")"
   ]
  },
  {
   "cell_type": "markdown",
   "metadata": {},
   "source": [
    "\\[REF] Heijnen J.J. (2010) Impact of Thermodynamic Principles in Systems Biology. In: Wittmann C., Krull R. (eds) Biosystems Engineering II. Advances in Biochemical Engineering / Biotechnology, vol 121. Springer, Berlin, Heidelberg. https://doi.org/10.1007/10_2009_63\n",
    "\n",
    "5.1.1 Gibbs Energy for Maintenance"
   ]
  },
  {
   "cell_type": "markdown",
   "metadata": {},
   "source": [
    "### Calculate Gibbs free energy and Enthalpy"
   ]
  },
  {
   "cell_type": "markdown",
   "metadata": {},
   "source": [
    "<p>Given the reaction stoichiometries:</p>\n",
    "<p>$ -2 CO_2 - 4 H_2 + CH_3COOH + 2 H_2O $</p>\n",
    "<p>$ -4 CO - 2 H_2O + CH_3COOH + 2 CO_2 $</p>"
   ]
  },
  {
   "cell_type": "code",
   "execution_count": 4,
   "metadata": {},
   "outputs": [
    {
     "name": "stdout",
     "output_type": "stream",
     "text": [
      "Gibbs energy:\n",
      "  DrG0_carb = -155.7 [kJ/mol]\n",
      "  DrG0_hom = -75.3 [kJ/mol]\n",
      "\n",
      "Enthalpy:\n",
      "  DrH0_carb = -279.1 [kJ/mol]\n",
      "  DrH0_hom = -290.3 [kJ/mol]\n",
      "\n",
      "Temperature corrected Gibbs energy:\n",
      "  DrGT_carb = -153.6 [kJ/mol]\n",
      "  DrGT_hom = -71.7 [kJ/mol]\n"
     ]
    }
   ],
   "source": [
    "DfG0_actn = -159.7 \n",
    "DfH0_actn = -248.4\n",
    "DfG0_actt = -389.9\n",
    "DfH0_actt = -505.7\n",
    "DfG0_co2 = -394.4\n",
    "DfH0_co2 = -393.5\n",
    "DfG0_co = -137.2\n",
    "DfH0_co = -110.5\n",
    "DfG0_h2o = -237.1\n",
    "DfH0_h2o = -285.8\n",
    "DfG0_h2 = 0\n",
    "DfH0_h2 = 0\n",
    "\n",
    "#Hess's law:\n",
    "DrG0_carb = -4*DfG0_co - 2*DfG0_h2o + DfG0_actt + 2*DfG0_co2\n",
    "DrG0_hom = -4*DfG0_h2 - 2*DfG0_co2 + DfG0_actt + 2*DfG0_h2o \n",
    "\n",
    "print(\"Gibbs energy:\\n\",\n",
    "      \" DrG0_carb =\",round(DrG0_carb,1),\"[kJ/mol]\\n\",\n",
    "      \" DrG0_hom =\",round(DrG0_hom,1),\"[kJ/mol]\\n\")\n",
    "\n",
    "DrH0_carb = -4*DfH0_co - 2*DfH0_h2o + DfH0_actt + 2*DfH0_co2\n",
    "DrH0_hom = -4*DfH0_h2 - 2*DfH0_co2 + DfH0_actt + 2*DfH0_h2o\n",
    "\n",
    "print(\"Enthalpy:\\n\",\n",
    "      \" DrH0_carb =\", round(DrH0_carb,1),\"[kJ/mol]\\n\",\n",
    "      \" DrH0_hom =\", round(DrH0_hom,1),\"[kJ/mol]\\n\")\n",
    "\n",
    "#Gibbs–Helmholtz equation for temperature correction\n",
    "DrGT_carb = DrG0_carb * (T/298.15) + DrH0_carb * (1-T/298.15)\n",
    "DrGT_hom = DrG0_hom * (T/298.15) + DrH0_hom * (1-T/298.15)\n",
    "\n",
    "print(\"Temperature corrected Gibbs energy:\\n\",\n",
    "      \" DrGT_carb =\",round(DrGT_carb,1),\"[kJ/mol]\\n\",\n",
    "      \" DrGT_hom =\",round(DrGT_hom,1),\"[kJ/mol]\")\n",
    "\n",
    "#dropped concentration correction, in accordance with book"
   ]
  },
  {
   "cell_type": "markdown",
   "metadata": {},
   "source": [
    "Reaction-specific substrate requirement for growth:"
   ]
  },
  {
   "cell_type": "code",
   "execution_count": 5,
   "metadata": {},
   "outputs": [
    {
     "name": "stdout",
     "output_type": "stream",
     "text": [
      "Substrate required for growth:\n",
      " a_CO =  -26.0 [molCO/CmolX]\n",
      " a_H2 =  -55.8 [molH2/CmolX]\n"
     ]
    }
   ],
   "source": [
    "a_CO = a_G/(DrGT_carb/4) #based on stoichiometry of electron donor\n",
    "a_H2 = a_G/(DrGT_hom/4) #based on stoichiometry of electron donor\n",
    "\n",
    "print(\"Substrate required for growth:\\n\",\n",
    "      \"a_CO = \",round(a_CO,1), \"[molCO/CmolX]\\n\",\n",
    "      \"a_H2 = \",round(a_H2,1), \"[molH2/CmolX]\")"
   ]
  },
  {
   "cell_type": "markdown",
   "metadata": {},
   "source": [
    "## Determine anabolic reaction, biomass formation stoichiometry\n",
    "\n",
    "<p>With an apporximated biomass composition of $ CH_{1.8}O_{0.5}N_{0.2} $ and ammonia, $ NH_3 $ as carbon source, a prediction of the stoichiometry for the biomass formation reaction can be made by balancing out all elements in each of the reactions:</p>\n",
    "\n",
    "<p>$ -r_{CO2} CO_2 - r_{H} H_2 - r_{Am} NH_3 + CH_{1.8}O_{0.5}N_{0.2} + r_{W} H_2O = 0$ </p>\n",
    "<p>$ -r_{CO} CO - r_{W} H_2O - r_{Am} NH_3 + CH_{1.8}O_{0.5}N_{0.2} + r_{CO2} CO_2 = 0$</p>\n",
    "\n",
    "Which results in:\n",
    "\n",
    "<p>$ -CO_2 - 2.1 H_2 - 0.2 NH_3 + CH_{1.8}O_{0.5}N_{0.2} + 1.5 H_2O = 0$ </p>\n",
    "<p>$ -2.1 CO - 0.6 H_2O - 0.2 NH_3 + CH_{1.8}O_{0.5}N_{0.2} + 1.1 CO_2 = 0$</p>\n",
    "\n",
    "## Combine catabolic and anabolic reactions"
   ]
  },
  {
   "cell_type": "markdown",
   "metadata": {},
   "source": [
    "Carboxydotrophic"
   ]
  },
  {
   "cell_type": "code",
   "execution_count": 6,
   "metadata": {
    "scrolled": true
   },
   "outputs": [
    {
     "name": "stdout",
     "output_type": "stream",
     "text": [
      "Overall Carboxydotrophic stoichiometry at 303.15K: \n",
      " -28.14 CO -13.62 H20 -0.2 NH3 + 1 biomass + 6.51 CH3COOH + 14.12 CO2 = 0 \n",
      "\n",
      "Yields on substrate: \n",
      " r_carb_CO = -28.14 \n",
      " r_carb_W = -13.62 \n",
      " r_carb_Am = -0.2 \n",
      " r_carb_X = 1 \n",
      " r_carb_actt = 6.51 \n",
      " r_carb_CO2 = 14.12 \n",
      " Y_carb_XS = -0.036 \n",
      " Y_carb_PS = -0.231 \n",
      " Y_carb_PX = 6.509\n"
     ]
    }
   ],
   "source": [
    "r_carb_CO = -2.1+4*a_CO/4\n",
    "r_carb_W = -0.6+2*a_CO/4\n",
    "r_carb_Am = -0.2\n",
    "r_carb_X = 1\n",
    "r_carb_actt = -a_CO/4\n",
    "r_carb_CO2 = 1.1-2*a_CO/4\n",
    "\n",
    "print(f\"Overall Carboxydotrophic stoichiometry at {T}K: \\n {round(r_carb_CO,2)} CO {round(r_carb_W,2)} H20 {round(r_carb_Am,2)} NH3 + {round(r_carb_X,2)} biomass + {round(r_carb_actt,2)} CH3COOH + {round(r_carb_CO2,2)} CO2 = 0 \\n\")\n",
    "\n",
    "print(\"Yields on substrate:\",\"\\n\",\n",
    "      \"r_carb_CO =\", round(r_carb_CO,2), \"\\n\",\n",
    "      \"r_carb_W =\", round(r_carb_W,2), \"\\n\",\n",
    "      \"r_carb_Am =\", round(r_carb_Am,2), \"\\n\",\n",
    "      \"r_carb_X =\", round(r_carb_X,2), \"\\n\",\n",
    "      \"r_carb_actt =\", round(r_carb_actt,2), \"\\n\",\n",
    "      \"r_carb_CO2 =\", round(r_carb_CO2,2), \"\\n\",\n",
    "      \"Y_carb_XS =\", round(r_carb_X/r_carb_CO,3), \"\\n\",\n",
    "      \"Y_carb_PS =\", round(r_carb_actt/r_carb_CO,3), \"\\n\",\n",
    "      \"Y_carb_PX =\", round(r_carb_actt/r_carb_X,3))"
   ]
  },
  {
   "cell_type": "markdown",
   "metadata": {},
   "source": [
    "Homoacetogenic"
   ]
  },
  {
   "cell_type": "code",
   "execution_count": 7,
   "metadata": {},
   "outputs": [
    {
     "name": "stdout",
     "output_type": "stream",
     "text": [
      "Overall Homoacetogenic stoichiometry at 303.15K: \n",
      " -28.9 CO2 -57.89 H2 -0.2 NH3 + 1 biomass + 13.95 CH3COOH + 29.4 H2O = 0 \n",
      "\n",
      "Yields on substrate: \n",
      " r_hom_CO2 = -28.9 \n",
      " r_hom_H2 = -57.89 \n",
      " r_hom_Am = -0.2 \n",
      " r_hom_X = 1 \n",
      " r_hom_actt = 13.95 \n",
      " r_hom_W = 29.4 \n",
      " Y_homo_XS = -0.017 \n",
      " Y_homo_PS = -0.241 \n",
      " Y_homo_PX = 13.948\n"
     ]
    }
   ],
   "source": [
    "r_hom_CO2 = -1 + 2*a_H2/4\n",
    "r_hom_H2 = -2.1 + 4*a_H2/4\n",
    "r_hom_Am = -0.2\n",
    "r_hom_X = 1\n",
    "r_hom_actt = -a_H2/4\n",
    "r_hom_W = 1.5 - 2*a_H2/4\n",
    "\n",
    "print(f\"Overall Homoacetogenic stoichiometry at {T}K: \\n {round(r_hom_CO2,2)} CO2 {round(r_hom_H2,2)} H2 {round(r_hom_Am,2)} NH3 + {round(r_hom_X,2)} biomass + {round(r_hom_actt,2)} CH3COOH + {round(r_hom_W,2)} H2O = 0 \\n\")\n",
    "\n",
    "\n",
    "print(\"Yields on substrate:\",\"\\n\",\n",
    "      \"r_hom_CO2 =\", round(r_hom_CO2,2), \"\\n\",\n",
    "      \"r_hom_H2 =\", round(r_hom_H2,2), \"\\n\",\n",
    "      \"r_hom_Am =\", round(r_hom_Am,2), \"\\n\",\n",
    "      \"r_hom_X =\", round(r_hom_X,2), \"\\n\",\n",
    "      \"r_hom_actt =\", round(r_hom_actt,2), \"\\n\",\n",
    "      \"r_hom_W =\", round(r_hom_W,2), \"\\n\",\n",
    "      \"Y_homo_XS =\", round(r_hom_X/r_hom_H2,3), \"\\n\",\n",
    "      \"Y_homo_PS =\", round(r_hom_actt/r_hom_H2,3), \"\\n\",\n",
    "      \"Y_homo_PX =\", round(r_hom_actt/r_hom_X,3))\n"
   ]
  },
  {
   "cell_type": "markdown",
   "metadata": {},
   "source": [
    "## Calculate an estimate for maintenance requierment\n",
    "\n",
    "REF: L. Tijhuis, M.C. M. van Loosdrecht, and J. J. Heijnen, A Thermodynamically Based Correlation for Maintenance Gibbs Energy Requirements in Aerobic and Anaerobic Chemotrophic Growth "
   ]
  },
  {
   "cell_type": "code",
   "execution_count": 8,
   "metadata": {},
   "outputs": [
    {
     "name": "stdout",
     "output_type": "stream",
     "text": [
      "m_G = 1.76 [kJ/h/CmolX]\n"
     ]
    }
   ],
   "source": [
    "m_G = 3.3**(69000/R*(1/298-1/T)) #[kJ/h/CmolX]\n",
    "print(\"m_G =\", round(m_G,2), \"[kJ/h/CmolX]\")"
   ]
  },
  {
   "cell_type": "markdown",
   "metadata": {},
   "source": [
    "Convert to maintenance substrate requirement"
   ]
  },
  {
   "cell_type": "code",
   "execution_count": 9,
   "metadata": {},
   "outputs": [
    {
     "name": "stdout",
     "output_type": "stream",
     "text": [
      "Substrate required for maintenance:\n",
      " m_carb =  -0.0 [molCO/h/CmolX]\n",
      " m_hom =  -0.1 [molH2/h/CmolX]\n"
     ]
    }
   ],
   "source": [
    "m_carb = m_G/(DrGT_carb/4) #[molCO/h/CmolX] based on stoichiometry of electron donor\n",
    "m_hom = m_G/(DrGT_hom/4) #[molCO/h/CmolX] based on stoichiometry of electron donor\n",
    "\n",
    "print(\"Substrate required for maintenance:\\n\",\n",
    "      \"m_carb = \",round(m_carb,1), \"[molCO/h/CmolX]\\n\",\n",
    "      \"m_hom = \",round(m_hom,1), \"[molH2/h/CmolX]\")"
   ]
  },
  {
   "cell_type": "markdown",
   "metadata": {},
   "source": [
    "### Michaelis-Menten Parameters"
   ]
  },
  {
   "cell_type": "code",
   "execution_count": 10,
   "metadata": {},
   "outputs": [],
   "source": [
    "#Ks_h2 = 2.31*(10**(-6))*1000 #mM Michaelis constant for Hydrogen\n",
    "#Ks_co2 = 4.0*(10**(-5))*1000 #mM Michaelis constant for CO2, not stated in the paper, taken from CO\n",
    "#Ks_co = 4.0*(10**(-5))*1000 #mM Michaelis constant for CO\n",
    "\n",
    "Ks_h2 =  0.000033 # from BRENDA, Clostridium acetobutylicum [mM]\n",
    "Ks_co2 =  1 # from BRENDA, middle of a wide range: 0.0157 - 50 [mM]\n",
    "Ks_co = 0.01 # from BRENDA, Moorella thermoacetica [mM]\n",
    "\n",
    "Ki_actt = 813.6 #mM Inhibition constant for acetone\n",
    "\n",
    "µ_max_hom = 8.140/24 #[/h]\n",
    "µ_max_carb = 3.910/24 #[/h] "
   ]
  },
  {
   "cell_type": "markdown",
   "metadata": {},
   "source": [
    "Get better parameters for gas uptake kinetics from BRENDA\n",
    "\n",
    "\n",
    "CODH for CO: https://www.brenda-enzymes.org/enzyme.php?ecno=1.2.7.4 \n",
    "\n",
    "formate dehydrogenase for CO2: https://www.brenda-enzymes.org/enzyme.php?ecno=1.17.1.9\n",
    "\n",
    "ferredoxin hydrogenase for H2: https://www.brenda-enzymes.org/enzyme.php?ecno=1.12.7.2\n",
    "\n",
    "Are they temperature dependent?"
   ]
  },
  {
   "cell_type": "markdown",
   "metadata": {},
   "source": [
    "# Construct Black Box models of Moorella"
   ]
  },
  {
   "cell_type": "code",
   "execution_count": 11,
   "metadata": {},
   "outputs": [],
   "source": [
    "# Moorella biomass function(s)\n",
    "def µ_hom(C_h2, C_co2, C_actt):\n",
    "    #µ_hom = \n",
    "    return µ_max_hom * min(C_h2/(Ks_h2+C_h2), C_co2/(Ks_co2+C_co2)) * (1-C_actt/Ki_actt)\n",
    "\n",
    "def q_hom_CO2(C_h2, C_co2, C_actt):\n",
    "    #q_hom_CO2 = µ_hom(C_h2, C_co2, C_actt)/(r_hom_X/r_hom_CO2) + (-2/-4) * m_hom\n",
    "    return µ_hom(C_h2, C_co2, C_actt)/(r_hom_X/r_hom_CO2) + (-2/-4) * m_hom\n",
    "\n",
    "def q_hom_H2(C_h2, C_co2, C_actt):\n",
    "    #q_hom_H2 = µ_hom(C_h2, C_co2, C_actt)/(r_hom_X/r_hom_H2) + m_hom\n",
    "    return µ_hom(C_h2, C_co2, C_actt)/(r_hom_X/r_hom_H2) + m_hom\n",
    "\n",
    "def q_hom_actt(C_h2, C_co2, C_actt):\n",
    "    #q_hom_actt = µ_hom(C_h2, C_co2, C_actt)/(r_hom_X/r_hom_actt) + (1/-4) * m_hom\n",
    "    return µ_hom(C_h2, C_co2, C_actt)/(r_hom_X/r_hom_actt) + (1/-4) * m_hom"
   ]
  },
  {
   "cell_type": "code",
   "execution_count": 12,
   "metadata": {},
   "outputs": [],
   "source": [
    "def µ_carb(C_co, C_actt):\n",
    "    #µ_moth_carb = µ_max_carb * C_co/(Ks_co+C_co) * (1-C_actt/Ki_actt)\n",
    "    return µ_max_carb * C_co/(Ks_co+C_co) * (1-C_actt/Ki_actt)\n",
    "\n",
    "def q_carb_CO(C_co, C_actt):\n",
    "    #q_carb_CO = µ_carb(C_co, C_actt)/(r_carb_X/r_carb_CO) + m_carb\n",
    "    return µ_carb(C_co, C_actt)/(r_carb_X/r_carb_CO) + m_carb\n",
    "\n",
    "def q_carb_actt(C_co, C_actt):\n",
    "    #q_carb_actt = µ_carb(C_co, C_actt)/(r_carb_X/r_carb_actt) + (1/-4) * m_carb\n",
    "    return µ_carb(C_co, C_actt)/(r_carb_X/r_carb_actt) + (1/-4) * m_carb\n",
    "\n",
    "def q_carb_CO2(C_co, C_actt):\n",
    "    #q_carb_CO2 = µ_carb(C_co, C_actt)/(r_carb_X/r_carb_CO2) + (2/-4) * m_carb\n",
    "    return µ_carb(C_co, C_actt)/(r_carb_X/r_carb_CO2) + (2/-4) * m_carb"
   ]
  },
  {
   "cell_type": "markdown",
   "metadata": {},
   "source": [
    "## Bubble column setup:"
   ]
  },
  {
   "cell_type": "markdown",
   "metadata": {},
   "source": [
    "Process Parameters"
   ]
  },
  {
   "cell_type": "code",
   "execution_count": 13,
   "metadata": {},
   "outputs": [],
   "source": [
    "F_G = 1*10**4 #gas inflow rate (from Steph: (8*10**5 * 8.314 * T)/p_m) [m^3/h]\n",
    "r = 3 # radius of the reactor [m]\n",
    "h = 30 # height of the reactor [m]\n",
    "\n",
    "#deduceable constants\n",
    "A = math.pi * r**2 #reactor cross-sectional area [m^2]\n",
    "V_L = A * h * 2/3 #reactor volume, assuming it is 2/3 filled [m^3]\n",
    "v_gas = F_G/A/3600 #average gas velocity [m/s]\n",
    "Gas_holdup = 0.6*(v_gas)**0.7 #from Stephanie's paper\n",
    "V_G = V_L*Gas_holdup\n",
    "\n",
    "p_t = 101325 # pressure at the top of the reactor [Pa]\n",
    "p_b = p_t + h * 1000 * 9.81 # pressure at the bottom of the reactor [Pa]\n",
    "p_m = (p_b-p_t)/math.log(p_b/p_t) # logarithmic mean pressure [Pa]"
   ]
  },
  {
   "cell_type": "markdown",
   "metadata": {},
   "source": [
    "Define gas transfer rates as functions"
   ]
  },
  {
   "cell_type": "code",
   "execution_count": 14,
   "metadata": {},
   "outputs": [],
   "source": [
    "# Constants:\n",
    "# Diffusivity coefficient:\n",
    "# E.L. Cussler, Diffusion - Mass Transfer in Fluid Systems, 2nd edition - Table 5.2-1\n",
    "D0_CO = 2.03*10**(-5) #[cm2/s]\n",
    "D0_CO2 = 1.92*10**(-5) #[cm2/s]\n",
    "D0_H2 = 4.50*10**(-5) #[cm2/s]\n",
    "D0_O2 = 2.10*10**(-5) #[cm2/s]\n",
    "D0_N2 = 1.88*10**(-5) #[cm2/s]\n",
    "\n",
    "# NIST Chemistry WebBook: https://webbook.nist.gov\n",
    "theta = 1.022 # temperature correction factor\n",
    "#Henry's law constant for solubility in water at 298.15 K\n",
    "H0_CO = 0.00099 # mol/kg*bar]\n",
    "H0_CO2 = 0.035 # [mol/kg*bar]\n",
    "H0_H2 = 0.00078 # [mol/kg*bar]\n",
    "H0_O2 = 0.0013 # [mol/kg*bar]\n",
    "H0_N2 = 0.0006 # [mol/kg*bar]\n",
    "#temepratute correction factor k \n",
    "k_CO = 1300 # [K]\n",
    "k_CO2 = 2400 # [K]\n",
    "k_H2 = 500 # [K]\n",
    "k_O2 = 1500 # [K]\n",
    "k_N2 = 1300 # [K]\n",
    "\n",
    "#Temperature-corrected Henry’s law constant, HT:\n",
    "HT_CO2 = H0_CO2 * math.e**(k_CO2*(1/T-1/298.15)) * 10**3 * 10**(-5) #[mol/m^3*Pa]\n",
    "HT_CO = H0_CO * math.e**(k_CO*(1/T-1/298.15)) * 10**3 * 10**(-5) #[mol/m^3*Pa]\n",
    "HT_H2 = H0_H2 * math.e**(k_H2*(1/T-1/298.15)) * 10**3 * 10**(-5) #[mol/m^3*Pa]\n",
    "HT_O2 = H0_O2 * math.e**(k_O2*(1/T-1/298.15)) * 10**3 * 10**(-5) #[mol/m^3*Pa]\n",
    "HT_N2 = H0_N2 * math.e**(k_N2*(1/T-1/298.15)) * 10**3 * 10**(-5) #[mol/m^3*Pa]\n",
    "\n",
    "#Calculate kLa for each gas, all are poorly water-soluble so kLa >> kGa:\n",
    "#DT_CO2 = T/298.15 * 1/(((298.15+240)/(T+240))*(T/298.15)**(3/2)) * D0_CO2 #[cm2/s]\n",
    "#DT_O2 = T/298.15 * 1/(((298.15+127)/(T+127))*(T/298.15)**(3/2)) * D0_O2 #[cm2/s]\n",
    "KLa_CO2 = 0.32 * (D0_CO2/D0_O2)**0.5 * v_gas**0.7 * theta**(T-293.15) * 3600 #[1/s]\n",
    "\n",
    "#DT_CO = T/298.15 * 1/(((298.15+118)/(T+118))*(T/298.15)**(3/2)) * D0_CO #[cm2/s]\n",
    "#DT_O2 = T/298.15 * 1/(((298.15+127)/(T+127))*(T/298.15)**(3/2)) * D0_O2 #[cm2/s]\n",
    "KLa_CO = 0.32 * (D0_CO/D0_O2)**0.5 * v_gas**0.7 * theta**(T-293.15) * 3600 #[1/s]\n",
    "\n",
    "#DT_H2 = T/298.15 * 1/(((298.15+72)/(T+72))*(T/298.15)**(3/2)) * D0_H2 #[cm2/s]\n",
    "#DT_O2 = T/298.15 * 1/(((298.15+127)/(T+127))*(T/298.15)**(3/2)) * D0_O2 #[cm2/s]\n",
    "KLa_H2 = 0.32 * (D0_H2/D0_O2)**0.5 * v_gas**0.7 * theta**(T-293.15) * 3600 #[1/s]\n",
    "\n",
    "#DT_N2 = T/298.15 * 1/(((298.15+72)/(T+72))*(T/298.15)**(3/2)) * D0_N2 #[cm2/s]\n",
    "#DT_O2 = T/298.15 * 1/(((298.15+127)/(T+127))*(T/298.15)**(3/2)) * D0_O2 #[cm2/s]\n",
    "KLa_N2 = 0.32 * (D0_N2/D0_O2)**0.5 * v_gas**0.7 * theta**(T-293.15) * 3600 #[1/s]\n",
    "\n",
    "#Define functions to calculate gas mass transfer rates for each gas\n",
    "def R_CO2(c_co2,cG_co2,cG_Gas):\n",
    "    return KLa_CO2*(HT_CO2 * cG_co2/(cG_Gas) * p_m * cG_Gas/cG_Gas_0 - c_co2)\n",
    "\n",
    "def R_CO(c_co,cG_co,cG_Gas):\n",
    "    return KLa_CO*(HT_CO * cG_co/(cG_Gas) * p_m * cG_Gas/cG_Gas_0 - c_co)\n",
    "\n",
    "def R_H2(c_h2,cG_h2,cG_Gas):\n",
    "    return KLa_H2*(HT_H2 * cG_h2/(cG_Gas) * p_m * cG_Gas/cG_Gas_0 - c_h2)\n",
    "\n",
    "def R_N2(c_n2,cG_n2,cG_Gas):\n",
    "    return KLa_N2*(HT_N2 * cG_n2/(cG_Gas) * p_m * cG_Gas/cG_Gas_0 - c_n2)"
   ]
  },
  {
   "cell_type": "code",
   "execution_count": 15,
   "metadata": {},
   "outputs": [],
   "source": [
    "def model(z,t):\n",
    "    X_carb = max(0,z[0])\n",
    "    X_hom = max(0,z[1])\n",
    "    c_actt = max(0,z[2])\n",
    "    c_co2 = max(0,z[3])\n",
    "    c_co = max(0,z[4])\n",
    "    c_h2 = max(0,z[5])\n",
    "    c_n2 = max(0,z[6])\n",
    "    cG_co2 = max(0,z[7])\n",
    "    cG_co = max(0,z[8])\n",
    "    cG_h2 = max(0,z[9])\n",
    "    cG_n2 = max(0,z[10])\n",
    "    \n",
    "    cG_Gas = cG_co2+cG_co+cG_h2+cG_n2\n",
    "\n",
    "    dXcdt = µ_carb(c_co, c_actt) * X_carb\n",
    "    dXhdt = µ_hom(c_h2, c_co2, c_actt) * X_hom\n",
    "    dacttdt = q_hom_actt(c_h2, c_co2, c_actt) * X_hom + q_carb_actt(c_co, c_actt) * X_carb\n",
    "    dCO2dt = q_hom_CO2(c_h2, c_co2, c_actt) * X_hom + q_carb_CO2(c_co, c_actt) * X_carb + R_CO2(c_co2,cG_co2,cG_Gas)\n",
    "    dCOdt = q_carb_CO(c_co, c_actt) * X_carb + R_CO(c_co,cG_co,cG_Gas)\n",
    "    dH2dt = q_hom_H2(c_h2, c_co2, c_actt) * X_hom + R_H2(c_h2,cG_h2,cG_Gas)\n",
    "    dN2dt = R_N2(c_n2,cG_n2,cG_Gas)\n",
    "    dCO2Gdt = F_G/V_G * (cG_co2_in-cG_co2) - R_CO2(c_co2,cG_co2,cG_Gas) * V_L/V_G\n",
    "    dCOGdt = F_G/V_G * (cG_co_in-cG_co) - R_CO(c_co,cG_co,cG_Gas) * V_L/V_G\n",
    "    dH2Gdt = F_G/V_G * (cG_h2_in-cG_h2) - R_H2(c_h2,cG_h2,cG_Gas) * V_L/V_G\n",
    "    dN2Gdt = F_G/V_G * (cG_n2_in-cG_n2) - R_N2(c_n2,cG_n2,cG_Gas) * V_L/V_G\n",
    "    \n",
    "    return [dXcdt,dXhdt,dacttdt,dCO2dt,dCOdt,dH2dt,dN2dt,dCO2Gdt,dCOGdt,dH2Gdt,dN2Gdt]"
   ]
  },
  {
   "cell_type": "markdown",
   "metadata": {},
   "source": [
    "For the initial gas concentrations: \n",
    " - in the liquid, one can assume that they have reached saturation before starting the experiment\n",
    " - in the gas, one can take the inlet concentrations"
   ]
  },
  {
   "cell_type": "code",
   "execution_count": 16,
   "metadata": {
    "scrolled": false
   },
   "outputs": [],
   "source": [
    "#initial conditions\n",
    "cG_co2_in = y_co2 * p_m/(R*T)\n",
    "cG_co_in = y_co * p_m/(R*T)\n",
    "cG_h2_in = y_h2 * p_m/(R*T)\n",
    "cG_n2_in = y_n2 * p_m/(R*T)\n",
    "\n",
    "c_co2_0 = HT_CO2 * y_co2 * p_m\n",
    "c_co_0 =  HT_CO * y_co * p_m\n",
    "c_h2_0 =  HT_H2 * y_h2 * p_m\n",
    "c_n2_0 =  HT_H2 * y_n2 * p_m\n",
    "\n",
    "cG_Gas_0 = cG_co2_in+cG_co_in+cG_h2_in+cG_n2_in\n",
    "\n",
    "#z0=[c_n2_0,cG_n2_in]\n",
    "z0=[0.1,0.01,0,c_co2_0,c_co_0,c_h2_0,c_n2_0,cG_co2_in,cG_co_in,cG_h2_in,cG_n2_in]\n",
    "\n",
    "#step function\n",
    "t_rt = 50\n",
    "t = np.linspace(0,t_rt,1000)\n",
    "\n",
    "#solve ODE\n",
    "z = odeint(model,z0,t)"
   ]
  },
  {
   "cell_type": "code",
   "execution_count": 18,
   "metadata": {},
   "outputs": [
    {
     "data": {
      "image/png": "[encoded data removed]",
      "text/plain": [
       "<Figure size 468x216 with 2 Axes>"
      ]
     },
     "metadata": {
      "needs_background": "light"
     },
     "output_type": "display_data"
    },
    {
     "data": {
      "image/png": "[encoded data removed]",
      "text/plain": [
       "<Figure size 432x432 with 2 Axes>"
      ]
     },
     "metadata": {
      "needs_background": "light"
     },
     "output_type": "display_data"
    }
   ],
   "source": [
    "fig, ax1 = plt.subplots(figsize=(6.5,3))\n",
    "\n",
    "plt.title(f\"Acetogenic Growth Simulation in Bubble Column at {Tc}°C\")\n",
    "color = 'tab:red'\n",
    "ax1.set_xlabel('time (s)')\n",
    "ax1.set_ylabel('Biomass [gDW/m^3]', color=color)\n",
    "ax1.plot(t, (z[:,0]+z[:,1])*24.6, color=color) #Sum of carboxydotrophic and homoacetogenic, converted to gDW assuming C1 H1.8 O0.5 N0.2\n",
    "ax1.axis([0, t_rt, 0, 1600])\n",
    "ax1.tick_params(axis='y', labelcolor=color)\n",
    "\n",
    "ax2 = ax1.twinx()  # instantiate a second axes that shares the same x-axis\n",
    "\n",
    "color = 'tab:blue'\n",
    "ax2.set_ylabel('Acetate [mM]', color=color)  # we already handled the x-label with ax1\n",
    "ax2.plot(t, z[:,2], color=color)\n",
    "ax2.axis([0, t_rt, 0, 900])\n",
    "ax2.tick_params(axis='y', labelcolor=color)\n",
    "\n",
    "fig.tight_layout()  # otherwise the right y-label is slightly clipped\n",
    "\n",
    "plt.show()\n",
    "\n",
    "fig = plt.figure(figsize=(6,6))\n",
    "\n",
    "plt.subplot(2,1,1)\n",
    "plt.plot(t,z[:,3])\n",
    "plt.plot(t,z[:,4])\n",
    "plt.plot(t,z[:,5])\n",
    "plt.plot(t,z[:,6])\n",
    "plt.xlabel('Time [hr]')\n",
    "plt.ylabel('Disolved gas [mM]')\n",
    "plt.axis([0, t_rt, 0, 1.1])\n",
    "#plt.legend(['CO2','CO',\"H2\",\"N2\"])\n",
    "\n",
    "plt.subplot(2,1,2)\n",
    "plt.plot(t,z[:,7])\n",
    "plt.plot(t,z[:,8])\n",
    "plt.plot(t,z[:,9])\n",
    "plt.plot(t,z[:,10])\n",
    "plt.xlabel('Time [hr]')\n",
    "plt.ylabel('Undisolved gas [mM]')\n",
    "plt.axis([0, t_rt, 0, 100])\n",
    "#plt.legend(['CO2','CO',\"H2\",\"N2\"])\n",
    "fig.tight_layout()"
   ]
  }
 ],
 "metadata": {
  "kernelspec": {
   "display_name": "dFBACoCultivation",
   "language": "python",
   "name": "dfbacocultivation"
  },
  "language_info": {
   "codemirror_mode": {
    "name": "ipython",
    "version": 3
   },
   "file_extension": ".py",
   "mimetype": "text/x-python",
   "name": "python",
   "nbconvert_exporter": "python",
   "pygments_lexer": "ipython3",
   "version": "3.6.12"
  }
 },
 "nbformat": 4,
 "nbformat_minor": 4
}
