{
 "cells": [
  {
   "cell_type": "code",
   "execution_count": 1,
   "metadata": {},
   "outputs": [],
   "source": [
    "import numpy as np\n",
    "import pandas as pd\n",
    "import matplotlib.pyplot as plt\n",
    "import math\n",
    "from scipy.integrate import odeint"
   ]
  },
  {
   "cell_type": "markdown",
   "metadata": {},
   "source": [
    "# Define parameters"
   ]
  },
  {
   "cell_type": "code",
   "execution_count": 2,
   "metadata": {},
   "outputs": [],
   "source": [
    "Tc1 = 30 #Temperature in Celsius\n",
    "Tc2 = 60 #Temperature in Celsius\n",
    "\n",
    "#mol fraction of incoming gas\n",
    "y_co = 0.4 #[mol/mol]\n",
    "y_co2 = 0.2 #[mol/mol]\n",
    "y_h2 = 0.38 #[mol/mol]\n",
    "y_o2 = 0.01 #[mol/mol]\n",
    "y_n2 = 0.01 #[mol/mol]\n",
    "\n",
    "#Universal constants:\n",
    "R = 8.314 # [m^3*Pa/K/mol]\n",
    "\n",
    "def Kelvin_Celsius(t):\n",
    "    \"\"\"\n",
    "    This function converts Temperature values from Kelvin to degrees Celsius\n",
    "    \"\"\"\n",
    "    return t-273.15\n",
    "\n",
    "def Celsius_Kelvin(t):\n",
    "    \"\"\"\n",
    "    This function converts Temperature values from degrees Celsius to Kelvin\n",
    "    \"\"\"\n",
    "    return t+273.15\n",
    "\n",
    "T1 = Celsius_Kelvin(Tc1)\n",
    "T2 = Celsius_Kelvin(Tc2)"
   ]
  },
  {
   "cell_type": "markdown",
   "metadata": {},
   "source": [
    "Biological Parameters"
   ]
  },
  {
   "cell_type": "code",
   "execution_count": 3,
   "metadata": {},
   "outputs": [
    {
     "name": "stdout",
     "output_type": "stream",
     "text": [
      "a_G = 1000 [kJ/CmolX]\n"
     ]
    }
   ],
   "source": [
    "a_G = 1000 #kJ/CmolX\n",
    "print(\"a_G =\", a_G, \"[kJ/CmolX]\")"
   ]
  },
  {
   "cell_type": "code",
   "execution_count": 4,
   "metadata": {},
   "outputs": [],
   "source": [
    "dfGR = pd.read_csv(\"../Data/EnthalpyGibbs.csv\", encoding= 'unicode_escape', header=0, index_col=\"Compound\", dtype = {\"dfGR\": float, \"dfGR\": float})[\"dfGR\"]\n",
    "dfHR = pd.read_csv(\"../Data/EnthalpyGibbs.csv\", encoding= 'unicode_escape', header=0, index_col=\"Compound\", dtype = {\"dfGR\": float, \"dfGR\": float})[\"dfHR\"]\n",
    "\n",
    "#Hess's law:\n",
    "DrGR_carb = -4*dfGR[\"CO\"] - 2*dfGR[\"Water\"] + dfGR[\"Acetate\"] + 2*dfGR[\"CO2\"]\n",
    "DrGR_hom = -4*dfGR[\"H2\"] - 2*dfGR[\"CO2\"] + dfGR[\"Acetate\"] + 2*dfGR[\"Water\"]\n",
    "\n",
    "DrHR_carb = -4*dfHR[\"CO\"] - 2*dfHR[\"Water\"] + dfHR[\"Acetate\"] + 2*dfHR[\"CO2\"]\n",
    "DrHR_hom = -4*dfHR[\"H2\"] - 2*dfHR[\"CO2\"] + dfHR[\"Acetate\"] + 2*dfHR[\"Water\"]\n",
    "\n",
    "#Gibbs–Helmholtz equation for temperature correction\n",
    "def DrGT_carb(T):\n",
    "    return DrGR_carb * (T/298.15) + DrHR_carb * (1-T/298.15)\n",
    "def DrGT_hom(T):\n",
    "    return DrGR_hom * (T/298.15) + DrHR_hom * (1-T/298.15)"
   ]
  },
  {
   "cell_type": "markdown",
   "metadata": {},
   "source": [
    "S = pd.DataFrame({\n",
    "    'HomCata':  [0,    -4,  0,    -2,  2,    0,1],\n",
    "    'CarbCata': [-4,   0,   0,    2,   -2,   0,1],\n",
    "    'HomAna':   [0,   -2.1, -0.2, -1,  1.5,  1,0],\n",
    "    'CarbAna':  [-2.1, 0,   -0.2, 1.1, -0.6, 1,0]},\n",
    "    index=pd.Index([\"CO\",\"H2\",\"NH3\",\"CO2\",\"H2O\",\"X\",\"P\"]))\n",
    "S"
   ]
  },
  {
   "cell_type": "markdown",
   "metadata": {},
   "source": [
    "r_carb = S.CarbAna - S.CarbCata/S.CarbCata[\"CO\"] * m_GAM/(DrGT_carb(T)/S.CarbCata[\"CO\"])\n",
    "print(f'Overall Carboxydotrophic stoichiometry at {T}K: \\n {round(r_carb[\"CO\"],2)} CO {round(r_carb[\"H2O\"],2)} H20 {round(r_carb[\"NH3\"],2)} NH3 + {round(r_carb[\"X\"],2)} biomass + {round(r_carb[\"P\"],2)} CH3COOH + {round(r_carb[\"CO2\"],2)} CO2 = 0 \\n')\n",
    "\n",
    "\n",
    "r_hom  = S.HomAna - S.HomCata/S.HomCata[\"H2\"] * m_GAM/(DrGT_hom(T)/S.HomCata[\"H2\"])\n",
    "print(f'Overall Homoacetogenic stoichiometry at {T}K: \\n {round(r_hom[\"CO2\"],2)} CO2 {round(r_hom[\"H2\"],2)} H2 {round(r_hom[\"NH3\"],2)} NH3 + {round(r_hom[\"X\"],2)} biomass + {round(r_hom[\"P\"],2)} CH3COOH + {round(r_hom[\"H2O\"],2)} H2O = 0 \\n')\n"
   ]
  },
  {
   "cell_type": "markdown",
   "metadata": {},
   "source": [
    "\\[REF] Heijnen J.J. (2010) Impact of Thermodynamic Principles in Systems Biology. In: Wittmann C., Krull R. (eds) Biosystems Engineering II. Advances in Biochemical Engineering / Biotechnology, vol 121. Springer, Berlin, Heidelberg. https://doi.org/10.1007/10_2009_63\n",
    "\n",
    "5.1.1 Gibbs Energy for Maintenance"
   ]
  },
  {
   "cell_type": "markdown",
   "metadata": {},
   "source": [
    "### Calculate Gibbs free energy and Enthalpy"
   ]
  },
  {
   "cell_type": "markdown",
   "metadata": {},
   "source": [
    "<p>Given the reaction stoichiometries:</p>\n",
    "<p>$ -2 CO_2 - 4 H_2 + CH_3COOH + 2 H_2O $</p>\n",
    "<p>$ -4 CO - 2 H_2O + CH_3COOH + 2 CO_2 $</p>"
   ]
  },
  {
   "cell_type": "markdown",
   "metadata": {},
   "source": [
    "DfG0_actn = -159.7 \n",
    "DfH0_actn = -248.4\n",
    "DfG0_actt = -389.9\n",
    "DfH0_actt = -505.7\n",
    "DfG0_co2 = -394.4\n",
    "DfH0_co2 = -393.5\n",
    "DfG0_co = -137.2\n",
    "DfH0_co = -110.5\n",
    "DfG0_h2o = -237.1\n",
    "DfH0_h2o = -285.8\n",
    "DfG0_h2 = 0\n",
    "DfH0_h2 = 0\n",
    "\n",
    "#Hess's law:\n",
    "DrG0_carb = -4*DfG0_co - 2*DfG0_h2o + DfG0_actt + 2*DfG0_co2\n",
    "DrG0_hom = -4*DfG0_h2 - 2*DfG0_co2 + DfG0_actt + 2*DfG0_h2o \n",
    "\n",
    "print(\"Gibbs energy:\\n\",\n",
    "      \" DrG0_carb =\",round(DrG0_carb,1),\"[kJ/mol]\\n\",\n",
    "      \" DrG0_hom =\",round(DrG0_hom,1),\"[kJ/mol]\\n\")\n",
    "\n",
    "DrH0_carb = -4*DfH0_co - 2*DfH0_h2o + DfH0_actt + 2*DfH0_co2\n",
    "DrH0_hom = -4*DfH0_h2 - 2*DfH0_co2 + DfH0_actt + 2*DfH0_h2o\n",
    "\n",
    "print(\"Enthalpy:\\n\",\n",
    "      \" DrH0_carb =\", round(DrH0_carb,1),\"[kJ/mol]\\n\",\n",
    "      \" DrH0_hom =\", round(DrH0_hom,1),\"[kJ/mol]\\n\")\n",
    "\n",
    "#Gibbs–Helmholtz equation for temperature correction\n",
    "DrGT_carb = DrG0_carb * (T/298.15) + DrH0_carb * (1-T/298.15)\n",
    "DrGT_hom = DrG0_hom * (T/298.15) + DrH0_hom * (1-T/298.15)\n",
    "\n",
    "print(\"Temperature corrected Gibbs energy:\\n\",\n",
    "      \" DrGT_carb =\",round(DrGT_carb,1),\"[kJ/mol]\\n\",\n",
    "      \" DrGT_hom =\",round(DrGT_hom,1),\"[kJ/mol]\")\n",
    "\n",
    "#dropped concentration correction, in accordance with book"
   ]
  },
  {
   "cell_type": "markdown",
   "metadata": {},
   "source": [
    "Reaction-specific substrate requirement for growth:"
   ]
  },
  {
   "cell_type": "code",
   "execution_count": 5,
   "metadata": {},
   "outputs": [
    {
     "name": "stdout",
     "output_type": "stream",
     "text": [
      "Substrate required for growth:\n",
      " a_CO =  -17.3 [molCO/CmolX]\n",
      " a_H2 =  -26.5 [molH2/CmolX]\n"
     ]
    }
   ],
   "source": [
    "a_CO = a_G/(DrGT_carb(T1)/4) #based on stoichiometry of electron donor\n",
    "a_H2 = a_G/(DrGT_hom(T1)/4) #based on stoichiometry of electron donor\n",
    "\n",
    "print(\"Substrate required for growth:\\n\",\n",
    "      \"a_CO = \",round(a_CO,1), \"[molCO/CmolX]\\n\",\n",
    "      \"a_H2 = \",round(a_H2,1), \"[molH2/CmolX]\")"
   ]
  },
  {
   "cell_type": "markdown",
   "metadata": {},
   "source": [
    "## Determine anabolic reaction, biomass formation stoichiometry\n",
    "\n",
    "<p>With an apporximated biomass composition of $ CH_{1.8}O_{0.5}N_{0.2} $ and ammonia, $ NH_3 $ as carbon source, a prediction of the stoichiometry for the biomass formation reaction can be made by balancing out all elements in each of the reactions:</p>\n",
    "\n",
    "<p>$ -r_{CO2} CO_2 - r_{H} H_2 - r_{Am} NH_3 + CH_{1.8}O_{0.5}N_{0.2} + r_{W} H_2O = 0$ </p>\n",
    "<p>$ -r_{CO} CO - r_{W} H_2O - r_{Am} NH_3 + CH_{1.8}O_{0.5}N_{0.2} + r_{CO2} CO_2 = 0$</p>\n",
    "\n",
    "Which results in:\n",
    "\n",
    "<p>$ -CO_2 - 2.1 H_2 - 0.2 NH_3 + CH_{1.8}O_{0.5}N_{0.2} + 1.5 H_2O = 0$ </p>\n",
    "<p>$ -2.1 CO - 0.6 H_2O - 0.2 NH_3 + CH_{1.8}O_{0.5}N_{0.2} + 1.1 CO_2 = 0$</p>\n",
    "\n",
    "## Combine catabolic and anabolic reactions"
   ]
  },
  {
   "cell_type": "markdown",
   "metadata": {},
   "source": [
    "Carboxydotrophic"
   ]
  },
  {
   "cell_type": "code",
   "execution_count": 6,
   "metadata": {},
   "outputs": [
    {
     "name": "stdout",
     "output_type": "stream",
     "text": [
      "Overall Carboxydotrophic stoichiometry at 303.15K: \n",
      " -19.38 CO -9.24 H20 -0.2 NH3 + 1 biomass + 4.32 CH3COOH + 9.74 CO2 = 0 \n",
      "\n",
      "Yields on substrate: \n",
      " r_carb_CO = -19.38 \n",
      " r_carb_W = -9.24 \n",
      " r_carb_Am = -0.2 \n",
      " r_carb_X = 1 \n",
      " r_carb_actt = 4.32 \n",
      " r_carb_CO2 = 9.74 \n",
      " Y_carb_XS = -0.052 \n",
      " Y_carb_PS = -0.223 \n",
      " Y_carb_PX = 4.321\n"
     ]
    }
   ],
   "source": [
    "r_carb_CO = -2.1+4*a_CO/4\n",
    "r_carb_W = -0.6+2*a_CO/4\n",
    "r_carb_Am = -0.2\n",
    "r_carb_X = 1\n",
    "r_carb_actt = -a_CO/4\n",
    "r_carb_CO2 = 1.1-2*a_CO/4\n",
    "\n",
    "print(f\"Overall Carboxydotrophic stoichiometry at {T1}K: \\n {round(r_carb_CO,2)} CO {round(r_carb_W,2)} H20 {round(r_carb_Am,2)} NH3 + {round(r_carb_X,2)} biomass + {round(r_carb_actt,2)} CH3COOH + {round(r_carb_CO2,2)} CO2 = 0 \\n\")\n",
    "\n",
    "print(\"Yields on substrate:\",\"\\n\",\n",
    "      \"r_carb_CO =\", round(r_carb_CO,2), \"\\n\",\n",
    "      \"r_carb_W =\", round(r_carb_W,2), \"\\n\",\n",
    "      \"r_carb_Am =\", round(r_carb_Am,2), \"\\n\",\n",
    "      \"r_carb_X =\", round(r_carb_X,2), \"\\n\",\n",
    "      \"r_carb_actt =\", round(r_carb_actt,2), \"\\n\",\n",
    "      \"r_carb_CO2 =\", round(r_carb_CO2,2), \"\\n\",\n",
    "      \"Y_carb_XS =\", round(r_carb_X/r_carb_CO,3), \"\\n\",\n",
    "      \"Y_carb_PS =\", round(r_carb_actt/r_carb_CO,3), \"\\n\",\n",
    "      \"Y_carb_PX =\", round(r_carb_actt/r_carb_X,3))"
   ]
  },
  {
   "cell_type": "markdown",
   "metadata": {},
   "source": [
    "Homoacetogenic"
   ]
  },
  {
   "cell_type": "code",
   "execution_count": 7,
   "metadata": {},
   "outputs": [
    {
     "name": "stdout",
     "output_type": "stream",
     "text": [
      "Overall Homoacetogenic stoichiometry at 303.15K: \n",
      " -14.26 CO2 -28.62 H2 -0.2 NH3 + 1 biomass + 6.63 CH3COOH + 14.76 H2O = 0 \n",
      "\n",
      "Yields on substrate: \n",
      " r_hom_CO2 = -14.26 \n",
      " r_hom_H2 = -28.62 \n",
      " r_hom_Am = -0.2 \n",
      " r_hom_X = 1 \n",
      " r_hom_actt = 6.63 \n",
      " r_hom_W = 14.76 \n",
      " Y_homo_XS = -0.035 \n",
      " Y_homo_PS = -0.232 \n",
      " Y_homo_PX = 6.631\n"
     ]
    }
   ],
   "source": [
    "r_hom_CO2 = -1 + 2*a_H2/4\n",
    "r_hom_H2 = -2.1 + 4*a_H2/4\n",
    "r_hom_Am = -0.2\n",
    "r_hom_X = 1\n",
    "r_hom_actt = -a_H2/4\n",
    "r_hom_W = 1.5 - 2*a_H2/4\n",
    "\n",
    "print(f\"Overall Homoacetogenic stoichiometry at {T1}K: \\n {round(r_hom_CO2,2)} CO2 {round(r_hom_H2,2)} H2 {round(r_hom_Am,2)} NH3 + {round(r_hom_X,2)} biomass + {round(r_hom_actt,2)} CH3COOH + {round(r_hom_W,2)} H2O = 0 \\n\")\n",
    "\n",
    "print(\"Yields on substrate:\",\"\\n\",\n",
    "      \"r_hom_CO2 =\", round(r_hom_CO2,2), \"\\n\",\n",
    "      \"r_hom_H2 =\", round(r_hom_H2,2), \"\\n\",\n",
    "      \"r_hom_Am =\", round(r_hom_Am,2), \"\\n\",\n",
    "      \"r_hom_X =\", round(r_hom_X,2), \"\\n\",\n",
    "      \"r_hom_actt =\", round(r_hom_actt,2), \"\\n\",\n",
    "      \"r_hom_W =\", round(r_hom_W,2), \"\\n\",\n",
    "      \"Y_homo_XS =\", round(r_hom_X/r_hom_H2,3), \"\\n\",\n",
    "      \"Y_homo_PS =\", round(r_hom_actt/r_hom_H2,3), \"\\n\",\n",
    "      \"Y_homo_PX =\", round(r_hom_actt/r_hom_X,3))"
   ]
  },
  {
   "cell_type": "markdown",
   "metadata": {},
   "source": [
    "## Calculate an estimate for maintenance requierment\n",
    "\n",
    "REF: L. Tijhuis, M.C. M. van Loosdrecht, and J. J. Heijnen, A Thermodynamically Based Correlation for Maintenance Gibbs Energy Requirements in Aerobic and Anaerobic Chemotrophic Growth "
   ]
  },
  {
   "cell_type": "code",
   "execution_count": 8,
   "metadata": {},
   "outputs": [
    {
     "name": "stdout",
     "output_type": "stream",
     "text": [
      "m_G = 1.76 [kJ/h/CmolX]\n"
     ]
    }
   ],
   "source": [
    "m_G = 3.3**(69000/R*(1/298-1/T1)) #[kJ/h/CmolX]\n",
    "print(\"m_G =\", round(m_G,2), \"[kJ/h/CmolX]\")"
   ]
  },
  {
   "cell_type": "markdown",
   "metadata": {},
   "source": [
    "Convert to maintenance substrate requirement"
   ]
  },
  {
   "cell_type": "code",
   "execution_count": 9,
   "metadata": {},
   "outputs": [
    {
     "name": "stdout",
     "output_type": "stream",
     "text": [
      "Substrate required for maintenance:\n",
      " m_carb =  -0.0 [molCO/h/CmolX]\n",
      " m_hom =  -0.0 [molH2/h/CmolX]\n"
     ]
    }
   ],
   "source": [
    "m_carb = m_G/(DrGT_carb(T1)/4) #[molCO/h/CmolX] based on stoichiometry of electron donor\n",
    "m_hom = m_G/(DrGT_hom(T1)/4) #[molCO/h/CmolX] based on stoichiometry of electron donor\n",
    "\n",
    "print(\"Substrate required for maintenance:\\n\",\n",
    "      \"m_carb = \",round(m_carb,1), \"[molCO/h/CmolX]\\n\",\n",
    "      \"m_hom = \",round(m_hom,1), \"[molH2/h/CmolX]\")"
   ]
  },
  {
   "cell_type": "markdown",
   "metadata": {},
   "source": [
    "### Michaelis-Menten Parameters"
   ]
  },
  {
   "cell_type": "code",
   "execution_count": 10,
   "metadata": {},
   "outputs": [],
   "source": [
    "Ks_h2 =  0.0002950 # [mM] https://doi.org/10.1016/j.jece.2022.107281\n",
    "Ks_co2 =  0.0002950 # [mM] taken from H2\n",
    "Ks_co = 0.0002950 # [mM] taken from H2\n",
    "\n",
    "Ki_actt = 800 #mM Inhibition constant for acetone\n",
    "\n",
    "µ_max_hom = 0.4 #[/h] https://doi.org/10.1016/j.jece.2022.107281\n",
    "µ_max_carb = µ_max_hom"
   ]
  },
  {
   "cell_type": "markdown",
   "metadata": {},
   "source": [
    "# Construct Black Box models of Moorella"
   ]
  },
  {
   "cell_type": "markdown",
   "metadata": {},
   "source": [
    "<p>Monod Equation, specific growth rate: </p>\n",
    "<div style=\"text-align: center\">  $ µ = µ_{max} * \n",
    "\\displaystyle \\frac{c_s}{K_s + c_s} * (1-c_p/K_{ip})$ [$h^{-1}$]\n",
    "    <span style=\"float:right;\">(eq. 27)</span>\n",
    "</div>\n",
    "\n",
    "<p>Pirt kinetics, specific consumption and production rate: </p>\n",
    "<br>\n",
    "<div style=\"text-align: center\">  $ q_i = \\displaystyle \\frac{µ}{Y_{Xi}} + m_{NGAM,i} $ [$h^{-1}$]\n",
    "    <span style=\"float:right;\">(eq. 28)</span>\n",
    "</div>\n",
    "<br>\n",
    "<div style=\"text-align: center\">  $ m_{NGAM,i} = \n",
    "\\displaystyle \\frac{m_{NGAM}}{\\Delta _r G^T/q_i}$ [$h^{-1}$]\n",
    "    <span style=\"float:right;\">(eq. 29)</span>\n",
    "</div>\n",
    "\n"
   ]
  },
  {
   "cell_type": "markdown",
   "metadata": {},
   "source": [
    "def µ_hom(C_h2, C_co2, C_actt,T):\n",
    "    return µ_max_hom * min(C_h2/(Ks_h2+C_h2), C_co2/(Ks_co2+C_co2)) * (1-C_actt/Ki_actt)\n",
    "\n",
    "def q_hom_CO2(C_h2, C_co2, C_actt,T):\n",
    "    m_NGAM_Hom_CO2  = S.HomCata[\"CO2\"]/S.HomCata[\"H2\"] * m_NGAM(T)/(DrGT_hom(T)/S.HomCata[\"H2\"])\n",
    "    return µ_hom(C_h2, C_co2, C_actt)/(r_hom[\"X\"]/r_hom[\"CO2\"]) + m_NGAM_Hom_CO2\n",
    "\n",
    "def q_hom_H2(C_h2, C_co2, C_actt,T):\n",
    "    m_NGAM_Hom_H2   = S.HomCata[\"H2\"]/S.HomCata[\"H2\"] * m_NGAM(T)/(DrGT_hom(T)/S.HomCata[\"H2\"])\n",
    "    return µ_hom(C_h2, C_co2, C_actt)/(r_hom[\"X\"]/r_hom[\"H2\"]) + m_NGAM_Hom_H2\n",
    "\n",
    "def q_hom_actt(C_h2, C_co2, C_actt,T):\n",
    "    m_NGAM_Hom_Actt = S.HomCata[\"P\"]/S.HomCata[\"H2\"] * m_NGAM(T)/(DrGT_hom(T)/S.HomCata[\"H2\"])\n",
    "    return µ_hom(C_h2, C_co2, C_actt)/(r_hom[\"X\"]/r_hom[\"P\"]) + m_NGAM_Hom_Actt"
   ]
  },
  {
   "cell_type": "markdown",
   "metadata": {},
   "source": [
    "def µ_carb(C_co, C_actt,T):\n",
    "    return µ_max_carb * C_co/(Ks_co+C_co) * (1-C_actt/Ki_actt)\n",
    "\n",
    "def q_carb_CO(C_co, C_actt,T):\n",
    "    m_NGAM_Carb_CO   = S.CarbCata[\"CO\"]/S.CarbCata[\"CO\"] * m_NGAM(T)/(DrGT_carb(T)/S.CarbCata[\"CO\"])\n",
    "    return µ_carb(C_co, C_actt)/(r_carb[\"X\"]/r_carb[\"CO\"]) + m_NGAM_Carb_CO\n",
    "\n",
    "def q_carb_actt(C_co, C_actt,T):\n",
    "    m_NGAM_Carb_Actt = S.CarbCata[\"P\"]/S.CarbCata[\"CO\"] * m_NGAM(T)/(DrGT_carb(T)/S.CarbCata[\"CO\"])\n",
    "    return µ_carb(C_co, C_actt)/(r_carb[\"X\"]/r_carb[\"P\"]) + m_NGAM_Carb_Actt\n",
    "\n",
    "def q_carb_CO2(C_co, C_actt,T):\n",
    "    m_NGAM_Carb_CO2  = S.CarbCata[\"CO2\"]/S.CarbCata[\"CO\"] * m_NGAM(T)/(DrGT_carb(T)/S.CarbCata[\"CO\"])\n",
    "    return µ_carb(C_co, C_actt)/(r_carb[\"X\"]/r_carb[\"CO2\"]) + m_NGAM_Carb_CO2"
   ]
  },
  {
   "cell_type": "markdown",
   "metadata": {},
   "source": [
    "Get better parameters for gas uptake kinetics from BRENDA\n",
    "\n",
    "\n",
    "CODH for CO: https://www.brenda-enzymes.org/enzyme.php?ecno=1.2.7.4 \n",
    "\n",
    "formate dehydrogenase for CO2: https://www.brenda-enzymes.org/enzyme.php?ecno=1.17.1.9\n",
    "\n",
    "ferredoxin hydrogenase for H2: https://www.brenda-enzymes.org/enzyme.php?ecno=1.12.7.2\n",
    "\n",
    "Are they temperature dependent?"
   ]
  },
  {
   "cell_type": "code",
   "execution_count": 11,
   "metadata": {},
   "outputs": [],
   "source": [
    "def µ_hom(C_h2, C_co2, C_actt, T):\n",
    "    #µ_hom = \n",
    "    return µ_max_hom * min(C_h2/(Ks_h2+C_h2), C_co2/(Ks_co2+C_co2)) * (1-C_actt/Ki_actt)\n",
    "\n",
    "def q_hom_CO2(C_h2, C_co2, C_actt, T):\n",
    "    #q_hom_CO2 = µ_hom(C_h2, C_co2, C_actt)/(r_hom_X/r_hom_CO2) + (-2/-4) * m_hom\n",
    "    return µ_hom(C_h2, C_co2, C_actt)/(r_hom_X/r_hom_CO2) + (-2/-4) * m_hom\n",
    "\n",
    "def q_hom_H2(C_h2, C_co2, C_actt, T):\n",
    "    #q_hom_H2 = µ_hom(C_h2, C_co2, C_actt)/(r_hom_X/r_hom_H2) + m_hom\n",
    "    return µ_hom(C_h2, C_co2, C_actt)/(r_hom_X/r_hom_H2) + m_hom\n",
    "\n",
    "def q_hom_actt(C_h2, C_co2, C_actt, T):\n",
    "    #q_hom_actt = µ_hom(C_h2, C_co2, C_actt)/(r_hom_X/r_hom_actt) + (1/-4) * m_hom\n",
    "    return µ_hom(C_h2, C_co2, C_actt)/(r_hom_X/r_hom_actt) + (1/-4) * m_hom"
   ]
  },
  {
   "cell_type": "code",
   "execution_count": 12,
   "metadata": {},
   "outputs": [],
   "source": [
    "def µ_carb(C_co, C_actt, T):\n",
    "    #µ_moth_carb = µ_max_carb * C_co/(Ks_co+C_co) * (1-C_actt/Ki_actt)\n",
    "    return µ_max_carb * C_co/(Ks_co+C_co) * (1-C_actt/Ki_actt)\n",
    "\n",
    "def q_carb_CO(C_co, C_actt, T):\n",
    "    #q_carb_CO = µ_carb(C_co, C_actt)/(r_carb_X/r_carb_CO) + m_carb\n",
    "    return µ_carb(C_co, C_actt)/(r_carb_X/r_carb_CO) + m_carb\n",
    "\n",
    "def q_carb_actt(C_co, C_actt, T):\n",
    "    #q_carb_actt = µ_carb(C_co, C_actt)/(r_carb_X/r_carb_actt) + (1/-4) * m_carb\n",
    "    return µ_carb(C_co, C_actt)/(r_carb_X/r_carb_actt) + (1/-4) * m_carb\n",
    "\n",
    "def q_carb_CO2(C_co, C_actt, T):\n",
    "    #q_carb_CO2 = µ_carb(C_co, C_actt)/(r_carb_X/r_carb_CO2) + (2/-4) * m_carb\n",
    "    return µ_carb(C_co, C_actt)/(r_carb_X/r_carb_CO2) + (2/-4) * m_carb"
   ]
  },
  {
   "cell_type": "markdown",
   "metadata": {},
   "source": [
    "## Bubble column setup:"
   ]
  },
  {
   "cell_type": "markdown",
   "metadata": {},
   "source": [
    "Process Parameters"
   ]
  },
  {
   "cell_type": "code",
   "execution_count": 13,
   "metadata": {},
   "outputs": [],
   "source": [
    "F_G = 1*10**4 #gas inflow rate (from Steph: (8*10**5 * 8.314 * T)/p_m) [m^3/h]\n",
    "r = 3 # radius of the reactor [m]\n",
    "h = 30 # height of the reactor [m]\n",
    "\n",
    "#deduceable constants\n",
    "A = math.pi * r**2 #reactor cross-sectional area [m^2]\n",
    "V_L = A * h * 2/3 #reactor volume, assuming it is 2/3 filled [m^3]\n",
    "v_gas = F_G/A/3600 #average gas velocity [m/s]\n",
    "Gas_holdup = 0.6*(v_gas)**0.7 #from Stephanie's paper\n",
    "V_G = V_L*Gas_holdup\n",
    "\n",
    "p_t = 101325 # pressure at the top of the reactor [Pa]\n",
    "p_b = p_t + h * 1000 * 9.81 # pressure at the bottom of the reactor [Pa]\n",
    "p_m = (p_b-p_t)/math.log(p_b/p_t) # logarithmic mean pressure [Pa]"
   ]
  },
  {
   "cell_type": "markdown",
   "metadata": {},
   "source": [
    "Define gas transfer rates as functions"
   ]
  },
  {
   "cell_type": "code",
   "execution_count": 14,
   "metadata": {},
   "outputs": [
    {
     "data": {
      "text/html": [
       "<div>\n",
       "<style scoped>\n",
       "    .dataframe tbody tr th:only-of-type {\n",
       "        vertical-align: middle;\n",
       "    }\n",
       "\n",
       "    .dataframe tbody tr th {\n",
       "        vertical-align: top;\n",
       "    }\n",
       "\n",
       "    .dataframe thead th {\n",
       "        text-align: right;\n",
       "    }\n",
       "</style>\n",
       "<table border=\"1\" class=\"dataframe\">\n",
       "  <thead>\n",
       "    <tr style=\"text-align: right;\">\n",
       "      <th></th>\n",
       "      <th>DR</th>\n",
       "      <th>HR</th>\n",
       "      <th>k</th>\n",
       "    </tr>\n",
       "    <tr>\n",
       "      <th>Compound</th>\n",
       "      <th></th>\n",
       "      <th></th>\n",
       "      <th></th>\n",
       "    </tr>\n",
       "  </thead>\n",
       "  <tbody>\n",
       "    <tr>\n",
       "      <th>CO</th>\n",
       "      <td>0.000020</td>\n",
       "      <td>0.99</td>\n",
       "      <td>1300</td>\n",
       "    </tr>\n",
       "    <tr>\n",
       "      <th>CO2</th>\n",
       "      <td>0.000019</td>\n",
       "      <td>35.00</td>\n",
       "      <td>2400</td>\n",
       "    </tr>\n",
       "    <tr>\n",
       "      <th>H2</th>\n",
       "      <td>0.000045</td>\n",
       "      <td>0.78</td>\n",
       "      <td>500</td>\n",
       "    </tr>\n",
       "    <tr>\n",
       "      <th>O2</th>\n",
       "      <td>0.000021</td>\n",
       "      <td>1.30</td>\n",
       "      <td>1500</td>\n",
       "    </tr>\n",
       "    <tr>\n",
       "      <th>N2</th>\n",
       "      <td>0.000019</td>\n",
       "      <td>0.60</td>\n",
       "      <td>1300</td>\n",
       "    </tr>\n",
       "  </tbody>\n",
       "</table>\n",
       "</div>"
      ],
      "text/plain": [
       "                DR     HR     k\n",
       "Compound                       \n",
       "CO        0.000020   0.99  1300\n",
       "CO2       0.000019  35.00  2400\n",
       "H2        0.000045   0.78   500\n",
       "O2        0.000021   1.30  1500\n",
       "N2        0.000019   0.60  1300"
      ]
     },
     "execution_count": 14,
     "metadata": {},
     "output_type": "execute_result"
    }
   ],
   "source": [
    "pd.read_csv(\"../Data/HenrysLawData.csv\", index_col = \"Compound\")"
   ]
  },
  {
   "cell_type": "code",
   "execution_count": 15,
   "metadata": {},
   "outputs": [],
   "source": [
    "DR = pd.read_csv(\"../Data/HenrysLawData.csv\", index_col = \"Compound\")[\"DR\"]\n",
    "HR = pd.read_csv(\"../Data/HenrysLawData.csv\", index_col = \"Compound\")[\"HR\"]\n",
    "kh = pd.read_csv(\"../Data/HenrysLawData.csv\", index_col = \"Compound\")[\"k\"]\n",
    "theta = 1.022 # temperature correction factor\n",
    "\n",
    "#Kla Temperature correction:\n",
    "def KLa_CO2(t):\n",
    "    return 0.32 * (DR[\"CO2\"]/DR[\"O2\"])**0.5 * v_gas**0.7 * theta**(t-293.15) * 3600 #[1/s]\n",
    "\n",
    "def KLa_CO(t):\n",
    "    return 0.32 * (DR[\"CO\"]/DR[\"O2\"])**0.5 * v_gas**0.7 * theta**(t-293.15) * 3600 #[1/s]\n",
    "\n",
    "def KLa_H2(t):\n",
    "    return 0.32 * (DR[\"H2\"]/DR[\"O2\"])**0.5 * v_gas**0.7 * theta**(t-293.15) * 3600 #[1/s]\n",
    "\n",
    "def KLa_N2(t):\n",
    "    return 0.32 * (DR[\"N2\"]/DR[\"O2\"])**0.5 * v_gas**0.7 * theta**(t-293.15) * 3600 #[1/s]\n",
    "\n",
    "#Saturation concentration\n",
    "def CO2_sat(t):\n",
    "    return HR[\"CO2\"] * math.e**(kh[\"CO2\"]*(1/t-1/298.15)) * 10**(-5) * p_m\n",
    "\n",
    "def CO_sat(t):\n",
    "    return HR[\"CO\"] * math.e**(kh[\"CO\"]*(1/t-1/298.15)) * 10**(-5) * p_m\n",
    "\n",
    "def H2_sat(t):\n",
    "    return HR[\"H2\"] * math.e**(kh[\"H2\"]*(1/t-1/298.15)) * 10**(-5) * p_m\n",
    "\n",
    "def N2_sat(t):\n",
    "    return HR[\"N2\"] * math.e**(kh[\"N2\"]*(1/t-1/298.15)) * 10**(-5) * p_m\n",
    "\n",
    "#Combine as transfer rate:\n",
    "def R_CO2(c_co2,cG_co2,cG_Gas,t):\n",
    "    return KLa_CO2(t) * (CO2_sat(t) - c_co2)\n",
    "\n",
    "def R_CO(c_co,cG_co,cG_Gas,t):\n",
    "    return KLa_CO(t) * (CO_sat(t) - c_co)\n",
    "\n",
    "def R_H2(c_h2,cG_h2,cG_Gas,t):\n",
    "    return KLa_H2(t) * (H2_sat(t) - c_h2)\n",
    "\n",
    "def R_N2(c_n2,cG_n2,cG_Gas,t):\n",
    "    return KLa_N2(t) * (N2_sat(t) - c_n2)"
   ]
  },
  {
   "cell_type": "markdown",
   "metadata": {},
   "source": [
    "# Load Henry's Law Constants:\n",
    "DR = pd.read_csv(\"../Data/HenrysLawData.csv\", index_col = \"Compound\")[\"DR\"]\n",
    "HR = pd.read_csv(\"../Data/HenrysLawData.csv\", index_col = \"Compound\")[\"HR\"]\n",
    "kh = pd.read_csv(\"../Data/HenrysLawData.csv\", index_col = \"Compound\")[\"k\"]\n",
    "theta = 1.022 # temperature correction factor\n",
    "\n",
    "# Henry's law constant: \n",
    "HT_CO2 = HR[\"CO2\"] * math.e**(kh[\"CO2\"]*(1/T-1/298.15)) * 10**(-5) #[mol/m^3*Pa]\n",
    "HT_CO = HR[\"CO\"] * math.e**(kh[\"CO\"]*(1/T-1/298.15)) * 10**(-5) #[mol/m^3*Pa]\n",
    "HT_H2 = HR[\"H2\"] * math.e**(kh[\"H2\"]*(1/T-1/298.15)) * 10**(-5) #[mol/m^3*Pa]\n",
    "HT_N2 = HR[\"N2\"] * math.e**(kh[\"N2\"]*(1/T-1/298.15)) * 10**(-5) #[mol/m^3*Pa]\n",
    "\n",
    "KLa_CO2 = 0.32 * (DR[\"CO2\"]/DR[\"O2\"])**0.5 * v_gas**0.7 * theta**(T-293.15) * 3600 #[1/s]\n",
    "KLa_CO = 0.32 * (DR[\"CO\"]/DR[\"O2\"])**0.5 * v_gas**0.7 * theta**(T-293.15) * 3600 #[1/s]\n",
    "KLa_H2 = 0.32 * (DR[\"H2\"]/DR[\"O2\"])**0.5 * v_gas**0.7 * theta**(T-293.15) * 3600 #[1/s]\n",
    "KLa_N2 = 0.32 * (DR[\"N2\"]/DR[\"O2\"])**0.5 * v_gas**0.7 * theta**(T-293.15) * 3600 #[1/s]\n",
    "\n",
    "# Transfer rate\n",
    "def R_CO2(c_co2,cG_co2,cG_Gas):\n",
    "    return KLa_CO2 * (HT_CO2 * p_m - c_co2)\n",
    "\n",
    "def R_CO(c_co,cG_co,cG_Gas):\n",
    "    return KLa_CO * (HT_CO * p_m - c_co)\n",
    "\n",
    "def R_H2(c_h2,cG_h2,cG_Gas):\n",
    "    return KLa_H2 * (HT_H2 * p_m - c_h2)\n",
    "\n",
    "def R_N2(c_n2,cG_n2,cG_Gas):\n",
    "    return KLa_N2 * (HT_N2 * p_m - c_n2)"
   ]
  },
  {
   "cell_type": "markdown",
   "metadata": {},
   "source": [
    "<div><b>Box 1:</b> Mass Balances; Accumulation = In - Out + Production - Consumption</div>\n",
    "<br>\n",
    "<div>Biomass: &emsp; &emsp; &emsp; &ensp; $ \\displaystyle \\frac{dc_X}{dt} = µ * c_X $\n",
    "<div>Acetate: &emsp; &emsp; &emsp; &emsp; $ \\displaystyle \\frac{dc_{Actt}}{dt} = q_{actt} * c_X$\n",
    "<div>CO<sub>2</sub>, dissolved:&emsp;&nbsp; $ \\displaystyle \\frac{dc_{CO_2}}{dt} = q_{CO_2} * c_X + R_{CO_2} $\n",
    "<div>CO, dissolved: &emsp; &nbsp; $ \\displaystyle \\frac{dc_{CO}}{dt} = q_{CO} * c_X + R_{CO}$\n",
    "<div>H<sub>2</sub>, dissolved:&emsp;&emsp;&ensp;&nbsp;$ \\displaystyle \\frac{dc_{H_2}}{dt} = q_{H_2} * c_X + R_{H_2} $\n",
    "<div>CO<sub>2</sub>, gas:&emsp;&emsp;&emsp;&emsp;&emsp;$ \\displaystyle \\frac{dc_{G,CO_{2}}}{dt}=\\frac{F_G}{V_G}*(c_{G,CO_2,in}-c_{G,CO_2})-R_{CO_2}*\\frac{V_L}{V_G}$\n",
    "<div>CO, gas:&emsp;&emsp;&emsp;&emsp;&emsp;&ensp;$ \\displaystyle \\frac{dc_{G,CO}}{dt}=\\frac{F_G}{V_G}*(c_{G,CO,in}-c_{G,CO})-R_{CO}*\\frac{V_L}{V_G} $\n",
    "<div>H<sub>2</sub>, gas:&emsp;&emsp;&emsp;&emsp;&emsp;&ensp;&nbsp;$ \\displaystyle \\frac{dc_{G,H_{2}}}{dt}=\\frac{F_G}{V_G}*(c_{G,H_2,in}-c_{G,H_2})-R_{H_2}*\\frac{V_L}{V_G}$"
   ]
  },
  {
   "cell_type": "code",
   "execution_count": 16,
   "metadata": {},
   "outputs": [],
   "source": [
    "def model(z,t):\n",
    "    X_carb = max(0,z[0])\n",
    "    X_hom = max(0,z[1])\n",
    "    c_actt = max(0,z[2])\n",
    "    c_co2 = max(0,z[3])\n",
    "    c_co = max(0,z[4])\n",
    "    c_h2 = max(0,z[5])\n",
    "    c_n2 = max(0,z[6])\n",
    "    cG_co2 = max(0,z[7])\n",
    "    cG_co = max(0,z[8])\n",
    "    cG_h2 = max(0,z[9])\n",
    "    cG_n2 = max(0,z[10])\n",
    "    \n",
    "    cG_Gas = cG_co2+cG_co+cG_h2+cG_n2\n",
    "\n",
    "    dXcdt = µ_carb(c_co, c_actt,T) * X_carb\n",
    "    dXhdt = µ_hom(c_h2, c_co2, c_actt,T) * X_hom\n",
    "    dacttdt = q_hom_actt(c_h2, c_co2, c_actt,T) * X_hom + q_carb_actt(c_co, c_actt,T) * X_carb\n",
    "    dCO2dt = q_hom_CO2(c_h2, c_co2, c_actt,T) * X_hom + q_carb_CO2(c_co, c_actt,T) * X_carb + R_CO2(c_co2,cG_co2,cG_Gas,T)\n",
    "    dCOdt = q_carb_CO(c_co, c_actt,T) * X_carb + R_CO(c_co,cG_co,cG_Gas,T)\n",
    "    dH2dt = q_hom_H2(c_h2, c_co2, c_actt,T) * X_hom + R_H2(c_h2,cG_h2,cG_Gas,T)\n",
    "    dN2dt = R_N2(c_n2,cG_n2,cG_Gas,T)\n",
    "    dCO2Gdt = F_G/V_G * (cG_co2_in-cG_co2) - R_CO2(c_co2,cG_co2,cG_Gas,T) * V_L/V_G\n",
    "    dCOGdt = F_G/V_G * (cG_co_in-cG_co) - R_CO(c_co,cG_co,cG_Gas,T) * V_L/V_G\n",
    "    dH2Gdt = F_G/V_G * (cG_h2_in-cG_h2) - R_H2(c_h2,cG_h2,cG_Gas,T) * V_L/V_G\n",
    "    dN2Gdt = F_G/V_G * (cG_n2_in-cG_n2) - R_N2(c_n2,cG_n2,cG_Gas,T) * V_L/V_G\n",
    "    \n",
    "    return [dXcdt,dXhdt,dacttdt,dCO2dt,dCOdt,dH2dt,dN2dt,dCO2Gdt,dCOGdt,dH2Gdt,dN2Gdt]"
   ]
  },
  {
   "cell_type": "markdown",
   "metadata": {},
   "source": [
    "For the initial gas concentrations: \n",
    " - in the liquid, one can assume that they have reached saturation before starting the experiment\n",
    " - in the gas, one can take the inlet concentrations"
   ]
  },
  {
   "cell_type": "code",
   "execution_count": 17,
   "metadata": {
    "scrolled": false
   },
   "outputs": [
    {
     "ename": "TypeError",
     "evalue": "μ_hom() missing 1 required positional argument: 'T'",
     "output_type": "error",
     "traceback": [
      "\u001b[0;31m---------------------------------------------------------------------------\u001b[0m",
      "\u001b[0;31mTypeError\u001b[0m                                 Traceback (most recent call last)",
      "\u001b[0;32m<ipython-input-17-c9c33580dd28>\u001b[0m in \u001b[0;36m<module>\u001b[0;34m\u001b[0m\n\u001b[1;32m     22\u001b[0m \u001b[0;34m\u001b[0m\u001b[0m\n\u001b[1;32m     23\u001b[0m \u001b[0;31m#solve ODE\u001b[0m\u001b[0;34m\u001b[0m\u001b[0;34m\u001b[0m\u001b[0;34m\u001b[0m\u001b[0m\n\u001b[0;32m---> 24\u001b[0;31m \u001b[0mz_T1\u001b[0m \u001b[0;34m=\u001b[0m \u001b[0modeint\u001b[0m\u001b[0;34m(\u001b[0m\u001b[0mmodel\u001b[0m\u001b[0;34m,\u001b[0m\u001b[0mz0\u001b[0m\u001b[0;34m,\u001b[0m\u001b[0mt\u001b[0m\u001b[0;34m)\u001b[0m\u001b[0;34m\u001b[0m\u001b[0;34m\u001b[0m\u001b[0m\n\u001b[0m",
      "\u001b[0;32m~/opt/anaconda3/envs/dFBACoCultivation/lib/python3.6/site-packages/scipy/integrate/odepack.py\u001b[0m in \u001b[0;36modeint\u001b[0;34m(func, y0, t, args, Dfun, col_deriv, full_output, ml, mu, rtol, atol, tcrit, h0, hmax, hmin, ixpr, mxstep, mxhnil, mxordn, mxords, printmessg, tfirst)\u001b[0m\n\u001b[1;32m    242\u001b[0m                              \u001b[0mfull_output\u001b[0m\u001b[0;34m,\u001b[0m \u001b[0mrtol\u001b[0m\u001b[0;34m,\u001b[0m \u001b[0matol\u001b[0m\u001b[0;34m,\u001b[0m \u001b[0mtcrit\u001b[0m\u001b[0;34m,\u001b[0m \u001b[0mh0\u001b[0m\u001b[0;34m,\u001b[0m \u001b[0mhmax\u001b[0m\u001b[0;34m,\u001b[0m \u001b[0mhmin\u001b[0m\u001b[0;34m,\u001b[0m\u001b[0;34m\u001b[0m\u001b[0;34m\u001b[0m\u001b[0m\n\u001b[1;32m    243\u001b[0m                              \u001b[0mixpr\u001b[0m\u001b[0;34m,\u001b[0m \u001b[0mmxstep\u001b[0m\u001b[0;34m,\u001b[0m \u001b[0mmxhnil\u001b[0m\u001b[0;34m,\u001b[0m \u001b[0mmxordn\u001b[0m\u001b[0;34m,\u001b[0m \u001b[0mmxords\u001b[0m\u001b[0;34m,\u001b[0m\u001b[0;34m\u001b[0m\u001b[0;34m\u001b[0m\u001b[0m\n\u001b[0;32m--> 244\u001b[0;31m                              int(bool(tfirst)))\n\u001b[0m\u001b[1;32m    245\u001b[0m     \u001b[0;32mif\u001b[0m \u001b[0moutput\u001b[0m\u001b[0;34m[\u001b[0m\u001b[0;34m-\u001b[0m\u001b[0;36m1\u001b[0m\u001b[0;34m]\u001b[0m \u001b[0;34m<\u001b[0m \u001b[0;36m0\u001b[0m\u001b[0;34m:\u001b[0m\u001b[0;34m\u001b[0m\u001b[0;34m\u001b[0m\u001b[0m\n\u001b[1;32m    246\u001b[0m         \u001b[0mwarning_msg\u001b[0m \u001b[0;34m=\u001b[0m \u001b[0m_msgs\u001b[0m\u001b[0;34m[\u001b[0m\u001b[0moutput\u001b[0m\u001b[0;34m[\u001b[0m\u001b[0;34m-\u001b[0m\u001b[0;36m1\u001b[0m\u001b[0;34m]\u001b[0m\u001b[0;34m]\u001b[0m \u001b[0;34m+\u001b[0m \u001b[0;34m\" Run with full_output = 1 to get quantitative information.\"\u001b[0m\u001b[0;34m\u001b[0m\u001b[0;34m\u001b[0m\u001b[0m\n",
      "\u001b[0;32m<ipython-input-16-2e798da6cd1d>\u001b[0m in \u001b[0;36mmodel\u001b[0;34m(z, t)\u001b[0m\n\u001b[1;32m     16\u001b[0m     \u001b[0mdXcdt\u001b[0m \u001b[0;34m=\u001b[0m \u001b[0mµ_carb\u001b[0m\u001b[0;34m(\u001b[0m\u001b[0mc_co\u001b[0m\u001b[0;34m,\u001b[0m \u001b[0mc_actt\u001b[0m\u001b[0;34m,\u001b[0m\u001b[0mT\u001b[0m\u001b[0;34m)\u001b[0m \u001b[0;34m*\u001b[0m \u001b[0mX_carb\u001b[0m\u001b[0;34m\u001b[0m\u001b[0;34m\u001b[0m\u001b[0m\n\u001b[1;32m     17\u001b[0m     \u001b[0mdXhdt\u001b[0m \u001b[0;34m=\u001b[0m \u001b[0mµ_hom\u001b[0m\u001b[0;34m(\u001b[0m\u001b[0mc_h2\u001b[0m\u001b[0;34m,\u001b[0m \u001b[0mc_co2\u001b[0m\u001b[0;34m,\u001b[0m \u001b[0mc_actt\u001b[0m\u001b[0;34m,\u001b[0m\u001b[0mT\u001b[0m\u001b[0;34m)\u001b[0m \u001b[0;34m*\u001b[0m \u001b[0mX_hom\u001b[0m\u001b[0;34m\u001b[0m\u001b[0;34m\u001b[0m\u001b[0m\n\u001b[0;32m---> 18\u001b[0;31m     \u001b[0mdacttdt\u001b[0m \u001b[0;34m=\u001b[0m \u001b[0mq_hom_actt\u001b[0m\u001b[0;34m(\u001b[0m\u001b[0mc_h2\u001b[0m\u001b[0;34m,\u001b[0m \u001b[0mc_co2\u001b[0m\u001b[0;34m,\u001b[0m \u001b[0mc_actt\u001b[0m\u001b[0;34m,\u001b[0m\u001b[0mT\u001b[0m\u001b[0;34m)\u001b[0m \u001b[0;34m*\u001b[0m \u001b[0mX_hom\u001b[0m \u001b[0;34m+\u001b[0m \u001b[0mq_carb_actt\u001b[0m\u001b[0;34m(\u001b[0m\u001b[0mc_co\u001b[0m\u001b[0;34m,\u001b[0m \u001b[0mc_actt\u001b[0m\u001b[0;34m,\u001b[0m\u001b[0mT\u001b[0m\u001b[0;34m)\u001b[0m \u001b[0;34m*\u001b[0m \u001b[0mX_carb\u001b[0m\u001b[0;34m\u001b[0m\u001b[0;34m\u001b[0m\u001b[0m\n\u001b[0m\u001b[1;32m     19\u001b[0m     \u001b[0mdCO2dt\u001b[0m \u001b[0;34m=\u001b[0m \u001b[0mq_hom_CO2\u001b[0m\u001b[0;34m(\u001b[0m\u001b[0mc_h2\u001b[0m\u001b[0;34m,\u001b[0m \u001b[0mc_co2\u001b[0m\u001b[0;34m,\u001b[0m \u001b[0mc_actt\u001b[0m\u001b[0;34m,\u001b[0m\u001b[0mT\u001b[0m\u001b[0;34m)\u001b[0m \u001b[0;34m*\u001b[0m \u001b[0mX_hom\u001b[0m \u001b[0;34m+\u001b[0m \u001b[0mq_carb_CO2\u001b[0m\u001b[0;34m(\u001b[0m\u001b[0mc_co\u001b[0m\u001b[0;34m,\u001b[0m \u001b[0mc_actt\u001b[0m\u001b[0;34m,\u001b[0m\u001b[0mT\u001b[0m\u001b[0;34m)\u001b[0m \u001b[0;34m*\u001b[0m \u001b[0mX_carb\u001b[0m \u001b[0;34m+\u001b[0m \u001b[0mR_CO2\u001b[0m\u001b[0;34m(\u001b[0m\u001b[0mc_co2\u001b[0m\u001b[0;34m,\u001b[0m\u001b[0mcG_co2\u001b[0m\u001b[0;34m,\u001b[0m\u001b[0mcG_Gas\u001b[0m\u001b[0;34m,\u001b[0m\u001b[0mT\u001b[0m\u001b[0;34m)\u001b[0m\u001b[0;34m\u001b[0m\u001b[0;34m\u001b[0m\u001b[0m\n\u001b[1;32m     20\u001b[0m     \u001b[0mdCOdt\u001b[0m \u001b[0;34m=\u001b[0m \u001b[0mq_carb_CO\u001b[0m\u001b[0;34m(\u001b[0m\u001b[0mc_co\u001b[0m\u001b[0;34m,\u001b[0m \u001b[0mc_actt\u001b[0m\u001b[0;34m,\u001b[0m\u001b[0mT\u001b[0m\u001b[0;34m)\u001b[0m \u001b[0;34m*\u001b[0m \u001b[0mX_carb\u001b[0m \u001b[0;34m+\u001b[0m \u001b[0mR_CO\u001b[0m\u001b[0;34m(\u001b[0m\u001b[0mc_co\u001b[0m\u001b[0;34m,\u001b[0m\u001b[0mcG_co\u001b[0m\u001b[0;34m,\u001b[0m\u001b[0mcG_Gas\u001b[0m\u001b[0;34m,\u001b[0m\u001b[0mT\u001b[0m\u001b[0;34m)\u001b[0m\u001b[0;34m\u001b[0m\u001b[0;34m\u001b[0m\u001b[0m\n",
      "\u001b[0;32m<ipython-input-11-07b272275e08>\u001b[0m in \u001b[0;36mq_hom_actt\u001b[0;34m(C_h2, C_co2, C_actt, T)\u001b[0m\n\u001b[1;32m     13\u001b[0m \u001b[0;32mdef\u001b[0m \u001b[0mq_hom_actt\u001b[0m\u001b[0;34m(\u001b[0m\u001b[0mC_h2\u001b[0m\u001b[0;34m,\u001b[0m \u001b[0mC_co2\u001b[0m\u001b[0;34m,\u001b[0m \u001b[0mC_actt\u001b[0m\u001b[0;34m,\u001b[0m \u001b[0mT\u001b[0m\u001b[0;34m)\u001b[0m\u001b[0;34m:\u001b[0m\u001b[0;34m\u001b[0m\u001b[0;34m\u001b[0m\u001b[0m\n\u001b[1;32m     14\u001b[0m     \u001b[0;31m#q_hom_actt = µ_hom(C_h2, C_co2, C_actt)/(r_hom_X/r_hom_actt) + (1/-4) * m_hom\u001b[0m\u001b[0;34m\u001b[0m\u001b[0;34m\u001b[0m\u001b[0;34m\u001b[0m\u001b[0m\n\u001b[0;32m---> 15\u001b[0;31m     \u001b[0;32mreturn\u001b[0m \u001b[0mµ_hom\u001b[0m\u001b[0;34m(\u001b[0m\u001b[0mC_h2\u001b[0m\u001b[0;34m,\u001b[0m \u001b[0mC_co2\u001b[0m\u001b[0;34m,\u001b[0m \u001b[0mC_actt\u001b[0m\u001b[0;34m)\u001b[0m\u001b[0;34m/\u001b[0m\u001b[0;34m(\u001b[0m\u001b[0mr_hom_X\u001b[0m\u001b[0;34m/\u001b[0m\u001b[0mr_hom_actt\u001b[0m\u001b[0;34m)\u001b[0m \u001b[0;34m+\u001b[0m \u001b[0;34m(\u001b[0m\u001b[0;36m1\u001b[0m\u001b[0;34m/\u001b[0m\u001b[0;34m-\u001b[0m\u001b[0;36m4\u001b[0m\u001b[0;34m)\u001b[0m \u001b[0;34m*\u001b[0m \u001b[0mm_hom\u001b[0m\u001b[0;34m\u001b[0m\u001b[0;34m\u001b[0m\u001b[0m\n\u001b[0m",
      "\u001b[0;31mTypeError\u001b[0m: μ_hom() missing 1 required positional argument: 'T'"
     ]
    }
   ],
   "source": [
    "#initial conditions at T1\n",
    "T = T1\n",
    "\n",
    "cG_co2_in = y_co2 * p_m/(R*T)\n",
    "cG_co_in = y_co * p_m/(R*T)\n",
    "cG_h2_in = y_h2 * p_m/(R*T)\n",
    "cG_n2_in = y_n2 * p_m/(R*T)\n",
    "\n",
    "c_co2_0 = CO2_sat(T)\n",
    "c_co_0 =  CO_sat(T)\n",
    "c_h2_0 =  H2_sat(T)\n",
    "c_n2_0 =  N2_sat(T)\n",
    "\n",
    "cG_Gas_0 = cG_co2_in+cG_co_in+cG_h2_in+cG_n2_in\n",
    "\n",
    "#z0=[c_n2_0,cG_n2_in]\n",
    "z0=[0.1,0.1,0,c_co2_0,c_co_0,c_h2_0,c_n2_0,cG_co2_in,cG_co_in,cG_h2_in,cG_n2_in]\n",
    "\n",
    "#step function\n",
    "t_rt = 30\n",
    "t = np.linspace(0,t_rt,1000)\n",
    "\n",
    "#solve ODE\n",
    "z_T1 = odeint(model,z0,t)"
   ]
  },
  {
   "cell_type": "code",
   "execution_count": null,
   "metadata": {},
   "outputs": [],
   "source": [
    "#initial conditions at T2\n",
    "T = T2\n",
    "\n",
    "cG_co2_in = y_co2 * p_m/(R*T)\n",
    "cG_co_in = y_co * p_m/(R*T)\n",
    "cG_h2_in = y_h2 * p_m/(R*T)\n",
    "cG_n2_in = y_n2 * p_m/(R*T)\n",
    "\n",
    "c_co2_0 = CO2_sat(T)\n",
    "c_co_0 =  CO_sat(T)\n",
    "c_h2_0 =  H2_sat(T)\n",
    "c_n2_0 =  N2_sat(T)\n",
    "\n",
    "cG_Gas_0 = cG_co2_in+cG_co_in+cG_h2_in+cG_n2_in\n",
    "\n",
    "#z0=[c_n2_0,cG_n2_in]\n",
    "z0=[0.1,0.1,0,c_co2_0,c_co_0,c_h2_0,c_n2_0,cG_co2_in,cG_co_in,cG_h2_in,cG_n2_in]\n",
    "\n",
    "#step function\n",
    "t_rt = 30\n",
    "t = np.linspace(0,t_rt,1000)\n",
    "\n",
    "#solve ODE\n",
    "z_T2 = odeint(model,z0,t)"
   ]
  },
  {
   "cell_type": "code",
   "execution_count": null,
   "metadata": {},
   "outputs": [],
   "source": [
    "sim = 1\n",
    "#sim = 2\n",
    "\n",
    "fig, ax1 = plt.subplots(figsize=(12,4))\n",
    "\n",
    "plt.rcParams['axes.spines.right'] = True\n",
    "plt.rcParams['axes.spines.top'] = False\n",
    "plt.title(\"C\", fontdict = {'fontsize': 20}, loc = \"left\")\n",
    "#plt.title(f\"Acetogenic Growth Simulation in Bubble Column at {Tc}°C\")\n",
    "color = 'tab:red'\n",
    "ax1.set_xlabel(r'Time [$h$]', fontsize=15)\n",
    "ax1.set_ylabel(r'Biomass [$gDW/l$]', color=color, fontsize=15)\n",
    "ax1.plot(t, (z_T1[:,0]+z_T1[:,1])*24.6/1000, color=color) #Sum of carboxydotrophic and homoacetogenic, converted to gDW assuming C1 H1.8 O0.5 N0.2\n",
    "ax1.plot(t, (z_T2[:,0]+z_T2[:,1])*24.6/1000, color=color)\n",
    "ax1.axis([0, t_rt, 0, 2.8])\n",
    "ax1.tick_params(axis='y', labelcolor=color)\n",
    "ax1.tick_params(axis='both', which='major', labelsize=15)\n",
    "\n",
    "ax2 = ax1.twinx() # instantiate a second axes that shares the same x-axis\n",
    "\n",
    "color = 'tab:blue'\n",
    "ax2.set_ylabel(r'Acetate [$mM$]', color=color, fontsize=15)  # we already handled the x-label with ax1\n",
    "ax2.plot(t, z_T1[:,2], color=color)\n",
    "ax2.plot(t, z_T2[:,2], color=color)\n",
    "ax2.axis([0, t_rt, 0, 1000])\n",
    "ax2.tick_params(axis='y', labelcolor=color)\n",
    "ax2.tick_params(axis='both', which='major', labelsize=15)\n",
    "plt.rcParams['axes.spines.top'] = False\n",
    "\n",
    "fig.tight_layout() # otherwise the right y-label is slightly clipped\n",
    "plt.show()\n",
    "\n",
    "fig = plt.figure(figsize=(12,5.4))\n",
    "\n",
    "plt.rcParams['axes.spines.right'] = False\n",
    "#plt.rcParams['axes.spines.top'] = False\n",
    "plt.subplot(2,2,1)\n",
    "plt.title(\"D\", fontdict = {'fontsize': 20}, loc = \"left\")\n",
    "plt.plot(t,z_T1[:,3])\n",
    "plt.plot(t,z_T1[:,4])\n",
    "plt.plot(t,z_T1[:,5])\n",
    "plt.plot(t,z_T1[:,6])\n",
    "plt.xlabel(r'Time [$h$]', fontsize=15)\n",
    "plt.ylabel(r'Disolved gas [$mM$]', fontsize=15)\n",
    "plt.axis([0, t_rt, 0, 2.9])\n",
    "plt.tick_params(axis='both', which='major', labelsize=15)\n",
    "#plt.legend(['CO2','CO',\"H2\",\"N2\"],bbox_to_anchor=(0.82, 0.6))\n",
    "\n",
    "plt.subplot(2,2,3)\n",
    "plt.title(\"E\", fontdict = {'fontsize': 20}, loc = \"left\")\n",
    "plt.plot(t,z_T1[:,7])\n",
    "plt.plot(t,z_T1[:,8])\n",
    "plt.plot(t,z_T1[:,9])\n",
    "plt.plot(t,z_T1[:,10])\n",
    "plt.xlabel(r'Time [$h$]', fontsize=15)\n",
    "plt.ylabel(r'Undisolved gas [$mM$]', fontsize=15)\n",
    "plt.axis([0, t_rt, 0, 40])\n",
    "plt.tick_params(axis='both', which='major', labelsize=15)\n",
    "\n",
    "fig.tight_layout()\n",
    "\n",
    "plt.subplot(2,2,2)\n",
    "plt.title(\"G\", fontdict = {'fontsize': 20}, loc = \"left\")\n",
    "plt.plot(t,z_T2[:,3])\n",
    "plt.plot(t,z_T2[:,4])\n",
    "plt.plot(t,z_T2[:,5])\n",
    "plt.plot(t,z_T2[:,6])\n",
    "plt.xlabel(r'Time [$h$]', fontsize=15)\n",
    "plt.ylabel(r'Disolved gas [$mM$]', fontsize=15)\n",
    "plt.axis([0, t_rt, 0, 2.9])\n",
    "plt.tick_params(axis='both', which='major', labelsize=15)\n",
    "plt.legend(['CO2','CO',\"H2\",\"N2\"],bbox_to_anchor=(0.82, 0.6))\n",
    "\n",
    "plt.subplot(2,2,4)\n",
    "plt.title(\"H\", fontdict = {'fontsize': 20}, loc = \"left\")\n",
    "plt.plot(t,z_T2[:,7])\n",
    "plt.plot(t,z_T2[:,8])\n",
    "plt.plot(t,z_T2[:,9])\n",
    "plt.plot(t,z_T2[:,10])\n",
    "plt.xlabel(r'Time [$h$]', fontsize=15)\n",
    "plt.ylabel(r'Undisolved gas [$mM$]', fontsize=15)\n",
    "plt.axis([0, t_rt, 0, 40])\n",
    "plt.tick_params(axis='both', which='major', labelsize=15)\n",
    "fig.tight_layout()"
   ]
  }
 ],
 "metadata": {
  "kernelspec": {
   "display_name": "dFBACoCultivation",
   "language": "python",
   "name": "dfbacocultivation"
  },
  "language_info": {
   "codemirror_mode": {
    "name": "ipython",
    "version": 3
   },
   "file_extension": ".py",
   "mimetype": "text/x-python",
   "name": "python",
   "nbconvert_exporter": "python",
   "pygments_lexer": "ipython3",
   "version": "3.6.12"
  }
 },
 "nbformat": 4,
 "nbformat_minor": 4
}
