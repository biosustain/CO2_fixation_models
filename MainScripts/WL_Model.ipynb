{
 "cells": [
  {
   "cell_type": "markdown",
   "metadata": {},
   "source": [
    "# Stoichiometric model of WL-Pathway"
   ]
  },
  {
   "cell_type": "markdown",
   "metadata": {},
   "source": [
    "In this notebook, a stoichiometric model of the Wood-Ljungdahl pathway is created, using an existing Genome-Scale Metabolic Model of Clostridium ljungdahlii"
   ]
  },
  {
   "cell_type": "code",
   "execution_count": 1,
   "metadata": {},
   "outputs": [],
   "source": [
    "import cobra.io\n",
    "import escher\n",
    "from escher import Builder\n",
    "from cobra import Model, Reaction, Metabolite\n",
    "from os.path import join"
   ]
  },
  {
   "cell_type": "code",
   "execution_count": 2,
   "metadata": {},
   "outputs": [],
   "source": [
    "data_dir = \"/Users/phivri/Documents/GitHub/Biosustain/MoGeoModel\"\n",
    "\n",
    "Cljung_Model = cobra.io.read_sbml_model(join(data_dir,'Models/C-ljungdahlii_iHN637.xml'))"
   ]
  },
  {
   "cell_type": "markdown",
   "metadata": {},
   "source": [
    "To simplify the model, 3 changes are made:\n",
    "\n",
    "The ATP maintenance reaction is unconstrained, so that a flux is not forced for non-growth associated maintenance\n",
    "\n",
    "Acetate transport is dependent on a symporter, since only the core metabolism is investigated here, the reaction is replaced by a more simple transporter.\n",
    "\n",
    "The reaction MTHFD2 uses NADPH as a cofactor, to simplify the model, this cofactor is replaced by NADH. This way there is only one"
   ]
  },
  {
   "cell_type": "code",
   "execution_count": 5,
   "metadata": {},
   "outputs": [
    {
     "name": "stdout",
     "output_type": "stream",
     "text": [
      "{}\n",
      "(-1000.0, 1000.0)\n",
      "mlthf_c + nad_c <=> methf_c + nadh_c\n"
     ]
    }
   ],
   "source": [
    "Cljung_Model.reactions.ATPM.bounds = 0, 1000\n",
    "\n",
    "#Cljung_Model.reactions.ACt2r.knock_out()\n",
    "\n",
    "acT = Reaction(\"ACt\")\n",
    "acT.name = \"Acetate transporter\"\n",
    "acT.add_metabolites({ \n",
    "    Cljung_Model.metabolites.ac_c: -1.0,\n",
    "    Cljung_Model.metabolites.ac_e: 1.0\n",
    "})\n",
    "\n",
    "mthfd2 = Reaction(\"MTHFD2\")\n",
    "mthfd2.name = \"Methylenetetrahydrofolate dehydrogenase (NAD)\"\n",
    "\n",
    "mthfd2.add_metabolites({\n",
    "    Cljung_Model.metabolites.mlthf_c: -1.0,\n",
    "    Cljung_Model.metabolites.nad_c: -1.0,\n",
    "    Cljung_Model.metabolites.methf_c: 1.0,\n",
    "    Cljung_Model.metabolites.nadh_c: 1.0,\n",
    "})\n",
    "mthfd2.bounds = -1000.0, 1000.0\n",
    "print(mthfd2.check_mass_balance())    #ensure correct mass balance\n",
    "print(mthfd2.bounds)                  #Ensure correct bounds\n",
    "print(mthfd2.reaction)\n",
    "\n",
    "Cljung_Model.add_reactions([acT, mthfd2])\n",
    "#Cljung_Model.add_reactions([mthfd2])\n"
   ]
  },
  {
   "cell_type": "markdown",
   "metadata": {},
   "source": [
    "Unconstrain reactions that have been diasbled in the C.ljungdahlii model"
   ]
  },
  {
   "cell_type": "code",
   "execution_count": 6,
   "metadata": {},
   "outputs": [],
   "source": [
    "Cljung_Model.reactions.ACACT1r.bounds = 0,1000.0\n",
    "Cljung_Model.reactions.HACD1.bounds = 0,1000.0\n",
    "Cljung_Model.reactions.ECOAH1.bounds = 0,1000.0\n",
    "Cljung_Model.reactions.ACOAD1z.bounds = 0,1000.0\n",
    "Cljung_Model.reactions.PBUTT.bounds = 0,1000.0\n",
    "Cljung_Model.reactions.BUTKr.bounds = -1000.0,0\n",
    "Cljung_Model.reactions.BTCOARx.bounds = 0,1000.0\n",
    "Cljung_Model.reactions.ALCD4.bounds = -1000.0,0\n",
    "Cljung_Model.reactions.BTOHt.bounds = -1000.0, 1000.0\n",
    "Cljung_Model.reactions.BUTt.bounds = -1000.0, 1000.0"
   ]
  },
  {
   "cell_type": "code",
   "execution_count": 7,
   "metadata": {},
   "outputs": [
    {
     "data": {
      "text/html": [
       "\n",
       "        <table>\n",
       "            <tr>\n",
       "                <td><strong>Reaction identifier</strong></td><td>H2td</td>\n",
       "            </tr><tr>\n",
       "                <td><strong>Name</strong></td><td>Hydrogen transport</td>\n",
       "            </tr><tr>\n",
       "                <td><strong>Memory address</strong></td>\n",
       "                <td>0x07fe2fbb8b940</td>\n",
       "            </tr><tr>\n",
       "                <td><strong>Stoichiometry</strong></td>\n",
       "                <td>\n",
       "                    <p style='text-align:right'>h2_c <=> h2_e</p>\n",
       "                    <p style='text-align:right'>Hydrogen <=> Hydrogen</p>\n",
       "                </td>\n",
       "            </tr><tr>\n",
       "                <td><strong>GPR</strong></td><td></td>\n",
       "            </tr><tr>\n",
       "                <td><strong>Lower bound</strong></td><td>-1000.0</td>\n",
       "            </tr><tr>\n",
       "                <td><strong>Upper bound</strong></td><td>1000.0</td>\n",
       "            </tr>\n",
       "        </table>\n",
       "        "
      ],
      "text/plain": [
       "<Reaction H2td at 0x7fe2fbb8b940>"
      ]
     },
     "execution_count": 7,
     "metadata": {},
     "output_type": "execute_result"
    }
   ],
   "source": [
    "Cljung_Model.reactions.H2td"
   ]
  },
  {
   "cell_type": "code",
   "execution_count": 8,
   "metadata": {},
   "outputs": [
    {
     "data": {
      "text/plain": [
       "[<Reaction H2td at 0x7fe2fbb8b940>,\n",
       " <Reaction H2Ot at 0x7fe2fbb7bbe0>,\n",
       " <Reaction CO2t at 0x7fe2fba56be0>,\n",
       " <Reaction COt at 0x7fe2fba64160>,\n",
       " <Reaction ACt at 0x7fe2fa284438>,\n",
       " <Reaction ETOHt at 0x7fe2fbb0bda0>,\n",
       " <Reaction BTDt_RR at 0x7fe2fb9a8978>,\n",
       " <Reaction BUTt at 0x7fe2fb9cce80>,\n",
       " <Reaction BTOHt at 0x7fe2fb9a1d30>,\n",
       " <Reaction FDH7 at 0x7fe2fbb95550>,\n",
       " <Reaction FTHFLi at 0x7fe2fbbd0e48>,\n",
       " <Reaction MTHFC at 0x7fe2fbd37ef0>,\n",
       " <Reaction MTHFD2 at 0x7fe2fa284470>,\n",
       " <Reaction MTHFR5 at 0x7fe2fbd43048>,\n",
       " <Reaction METR at 0x7fe2fbc31eb8>,\n",
       " <Reaction CODH4 at 0x7fe2fbaea898>,\n",
       " <Reaction CODH_ACS at 0x7fe2fbaf0358>,\n",
       " <Reaction PTAr at 0x7fe2fbde1fd0>,\n",
       " <Reaction ACKr at 0x7fe2fb9fae10>,\n",
       " <Reaction ACAFDOR at 0x7fe2fba90908>,\n",
       " <Reaction ALCD2x at 0x7fe2fbf49b38>,\n",
       " <Reaction POR at 0x7fe2fbed26d8>,\n",
       " <Reaction ACLS at 0x7fe2fb9f3390>,\n",
       " <Reaction ACLDC at 0x7fe2fba07470>,\n",
       " <Reaction BTDD_RR at 0x7fe2fbaa76a0>,\n",
       " <Reaction ACACT1r at 0x7fe2fb977fd0>,\n",
       " <Reaction HACD1 at 0x7fe2fbb8bfd0>,\n",
       " <Reaction ECOAH1 at 0x7fe2fbb03630>,\n",
       " <Reaction ACOAD1z at 0x7fe2f6b52128>,\n",
       " <Reaction BTCOARx at 0x7fe2fbf164a8>,\n",
       " <Reaction ALCD4 at 0x7fe2fbf02f98>,\n",
       " <Reaction PBUTT at 0x7fe2fbccae10>,\n",
       " <Reaction BUTKr at 0x7fe2fb9b8710>,\n",
       " <Reaction EX_h2_e at 0x7fe2fbd37b00>,\n",
       " <Reaction EX_h2o_e at 0x7fe2fc01b128>,\n",
       " <Reaction EX_co2_e at 0x7fe2fbcf0198>,\n",
       " <Reaction EX_co_e at 0x7fe2fbce79b0>,\n",
       " <Reaction EX_ac_e at 0x7fe2fbce7630>,\n",
       " <Reaction EX_etoh_e at 0x7fe2fbce7048>,\n",
       " <Reaction EX_btd_RR_e at 0x7fe2fbce7390>,\n",
       " <Reaction EX_but_e at 0x7fe2fbce7b38>,\n",
       " <Reaction EX_btoh_e at 0x7fe2fbce76a0>,\n",
       " <Reaction SK_atp_c at 0x7fe2fbce7fd0>,\n",
       " <Reaction SK_adp_c at 0x7fe2fbcdf208>,\n",
       " <Reaction SK_nadh_c at 0x7fe2fbcdfba8>,\n",
       " <Reaction SK_nad_c at 0x7fe2fbcd4a58>,\n",
       " <Reaction SK_fdxo_42_c at 0x7fe2fbcdfb00>,\n",
       " <Reaction SK_fdxr_42_c at 0x7fe2fbcd46d8>,\n",
       " <Reaction SK_coa_c at 0x7fe2fbcdfb70>,\n",
       " <Reaction SK_h_c at 0x7fe2fbcd4eb8>,\n",
       " <Reaction SK_pi_c at 0x7fe2fbcd49e8>]"
      ]
     },
     "execution_count": 8,
     "metadata": {},
     "output_type": "execute_result"
    }
   ],
   "source": [
    "WLmodel = Model('Wood_Ljungdahl_Core')\n",
    "\n",
    "WLmodel.add_reactions([\n",
    "#Transport:\n",
    "Cljung_Model.reactions.H2td,\n",
    "Cljung_Model.reactions.H2Ot,\n",
    "Cljung_Model.reactions.CO2t,\n",
    "Cljung_Model.reactions.COt,\n",
    "Cljung_Model.reactions.ACt,\n",
    "Cljung_Model.reactions.ETOHt,\n",
    "Cljung_Model.reactions.BTDt_RR,\n",
    "Cljung_Model.reactions.BUTt,\n",
    "Cljung_Model.reactions.BTOHt,\n",
    "    \n",
    "#Carbon fixation to acetyl-CoA\n",
    "Cljung_Model.reactions.FDH7,\n",
    "Cljung_Model.reactions.FTHFLi,\n",
    "Cljung_Model.reactions.MTHFC,\n",
    "Cljung_Model.reactions.MTHFD2,\n",
    "Cljung_Model.reactions.MTHFR5,\n",
    "Cljung_Model.reactions.METR,\n",
    "Cljung_Model.reactions.CODH4,\n",
    "Cljung_Model.reactions.CODH_ACS,\n",
    "\n",
    "#Product formation from acetyl-CoA\n",
    "Cljung_Model.reactions.PTAr,\n",
    "Cljung_Model.reactions.ACKr,\n",
    "Cljung_Model.reactions.ACAFDOR,\n",
    "Cljung_Model.reactions.ALCD2x,\n",
    "    \n",
    "Cljung_Model.reactions.POR,\n",
    "Cljung_Model.reactions.ACLS,\n",
    "Cljung_Model.reactions.ACLDC,\n",
    "Cljung_Model.reactions.BTDD_RR,\n",
    "\n",
    "Cljung_Model.reactions.ACACT1r,\n",
    "Cljung_Model.reactions.HACD1,\n",
    "Cljung_Model.reactions.ECOAH1,\n",
    "Cljung_Model.reactions.ACOAD1z,\n",
    "Cljung_Model.reactions.BTCOARx,\n",
    "Cljung_Model.reactions.ALCD4,\n",
    "Cljung_Model.reactions.PBUTT,\n",
    "Cljung_Model.reactions.BUTKr])\n",
    "\n",
    "#Exchanges and sinks\n",
    "WLmodel.add_boundary(WLmodel.metabolites.get_by_id(\"h2_e\"), type=\"exchange\")\n",
    "WLmodel.add_boundary(WLmodel.metabolites.get_by_id(\"h2o_e\"), type=\"exchange\")\n",
    "WLmodel.add_boundary(WLmodel.metabolites.get_by_id(\"co2_e\"), type=\"exchange\")\n",
    "WLmodel.add_boundary(WLmodel.metabolites.get_by_id(\"co_e\"), type=\"exchange\")\n",
    "WLmodel.add_boundary(WLmodel.metabolites.get_by_id(\"ac_e\"), type=\"exchange\")\n",
    "WLmodel.add_boundary(WLmodel.metabolites.get_by_id(\"etoh_e\"), type=\"exchange\")\n",
    "WLmodel.add_boundary(WLmodel.metabolites.get_by_id(\"btd_RR_e\"), type=\"exchange\")\n",
    "WLmodel.add_boundary(WLmodel.metabolites.get_by_id(\"but_e\"), type=\"exchange\")\n",
    "WLmodel.add_boundary(WLmodel.metabolites.get_by_id(\"btoh_e\"), type=\"exchange\")\n",
    "\n",
    "WLmodel.add_boundary(WLmodel.metabolites.get_by_id(\"atp_c\"), type=\"sink\")\n",
    "WLmodel.add_boundary(WLmodel.metabolites.get_by_id(\"adp_c\"), type=\"sink\")\n",
    "WLmodel.add_boundary(WLmodel.metabolites.get_by_id(\"nadh_c\"), type=\"sink\")\n",
    "WLmodel.add_boundary(WLmodel.metabolites.get_by_id(\"nad_c\"), type=\"sink\")\n",
    "WLmodel.add_boundary(WLmodel.metabolites.get_by_id(\"fdxo_42_c\"), type=\"sink\")\n",
    "WLmodel.add_boundary(WLmodel.metabolites.get_by_id(\"fdxr_42_c\"), type=\"sink\")\n",
    "WLmodel.add_boundary(WLmodel.metabolites.get_by_id(\"coa_c\"), type=\"sink\")\n",
    "WLmodel.add_boundary(WLmodel.metabolites.get_by_id(\"h_c\"), type=\"sink\")\n",
    "WLmodel.add_boundary(WLmodel.metabolites.get_by_id(\"pi_c\"), type=\"sink\")\n",
    "\n",
    "WLmodel.reactions"
   ]
  },
  {
   "cell_type": "markdown",
   "metadata": {},
   "source": [
    "## Add Acetone production pathway"
   ]
  },
  {
   "cell_type": "code",
   "execution_count": 9,
   "metadata": {},
   "outputs": [],
   "source": [
    "WLmodelActn = WLmodel\n",
    "\n",
    "WLmodelActn.add_metabolites(Metabolite(id='acac_c',formula = 'C4H6O3', name = 'Acetoacetate', compartment = 'c' ))\n",
    "WLmodelActn.add_metabolites(Metabolite(id='act_c',formula = 'C3H6O', name = 'Acetone', compartment = 'c' ))\n",
    "WLmodelActn.add_metabolites(Metabolite(id='act_e', formula = 'C3H6O', name = 'Acetone', compartment = 'e'))"
   ]
  },
  {
   "cell_type": "code",
   "execution_count": 10,
   "metadata": {},
   "outputs": [
    {
     "name": "stdout",
     "output_type": "stream",
     "text": [
      "{}\n",
      "(0.0, 1000.0)\n",
      "aacoa_c + ac_c + h_c --> acac_c + accoa_c\n"
     ]
    }
   ],
   "source": [
    "ctfAB_ac = Reaction(\"ctfAB_ac\")\n",
    "ctfAB_ac.name = \"Acetate-acetoacetate CoA-transferase\"\n",
    "\n",
    "ctfAB_ac.add_metabolites({\n",
    "    WLmodelActn.metabolites.ac_c: -1.0,      #Acetate\n",
    "    WLmodelActn.metabolites.aacoa_c: -1.0,   #Acetoacetyl-CoA\n",
    "    WLmodelActn.metabolites.acac_c: 1.0,     #Acetoacetate\n",
    "    WLmodelActn.metabolites.accoa_c: 1.0,    #Acetyl-CoA\n",
    "    WLmodelActn.metabolites.h_c: -1.0\n",
    "})\n",
    "print(ctfAB_ac.check_mass_balance())    #ensure correct mass balance\n",
    "print(ctfAB_ac.bounds)                  #Ensure correct bounds\n",
    "print(ctfAB_ac.reaction)                #Ensure correct reaction"
   ]
  },
  {
   "cell_type": "code",
   "execution_count": 11,
   "metadata": {},
   "outputs": [
    {
     "name": "stdout",
     "output_type": "stream",
     "text": [
      "{}\n",
      "acac_c --> act_c + co2_c\n"
     ]
    }
   ],
   "source": [
    "adc = Reaction(\"ADC\")\n",
    "adc.name = \"acetoacetate decarboxylase\"\n",
    "\n",
    "adc.add_metabolites({\n",
    "    WLmodelActn.metabolites.acac_c: -1.0,     #Acetoacetate\n",
    "    #WLmodelActn.metabolites.h_c: -1.0, \n",
    "    WLmodelActn.metabolites.act_c: 1.0,\n",
    "    WLmodelActn.metabolites.co2_c: 1.0\n",
    "})\n",
    "print(adc.check_mass_balance())    #ensure correct mass balance\n",
    "print(adc.reaction)                #Ensure correct reaction"
   ]
  },
  {
   "cell_type": "code",
   "execution_count": 12,
   "metadata": {},
   "outputs": [
    {
     "data": {
      "text/html": [
       "\n",
       "        <table>\n",
       "            <tr>\n",
       "                <td><strong>Reaction identifier</strong></td><td>ACTt</td>\n",
       "            </tr><tr>\n",
       "                <td><strong>Name</strong></td><td>Acetone transporter</td>\n",
       "            </tr><tr>\n",
       "                <td><strong>Memory address</strong></td>\n",
       "                <td>0x07fe2fbd9b908</td>\n",
       "            </tr><tr>\n",
       "                <td><strong>Stoichiometry</strong></td>\n",
       "                <td>\n",
       "                    <p style='text-align:right'>act_c --> act_e</p>\n",
       "                    <p style='text-align:right'>Acetone --> Acetone</p>\n",
       "                </td>\n",
       "            </tr><tr>\n",
       "                <td><strong>GPR</strong></td><td></td>\n",
       "            </tr><tr>\n",
       "                <td><strong>Lower bound</strong></td><td>0.0</td>\n",
       "            </tr><tr>\n",
       "                <td><strong>Upper bound</strong></td><td>1000.0</td>\n",
       "            </tr>\n",
       "        </table>\n",
       "        "
      ],
      "text/plain": [
       "<Reaction ACTt at 0x7fe2fbd9b908>"
      ]
     },
     "execution_count": 12,
     "metadata": {},
     "output_type": "execute_result"
    }
   ],
   "source": [
    "actT = Reaction(\"ACTt\")\n",
    "actT.name = \"Acetone transporter\"\n",
    "actT.add_metabolites({ \n",
    "    WLmodelActn.metabolites.act_c: -1.0,\n",
    "    WLmodelActn.metabolites.act_e: 1.0\n",
    "})\n",
    "actT"
   ]
  },
  {
   "cell_type": "code",
   "execution_count": 13,
   "metadata": {},
   "outputs": [
    {
     "data": {
      "text/html": [
       "\n",
       "        <table>\n",
       "            <tr>\n",
       "                <td><strong>Reaction identifier</strong></td><td>EX_act_e</td>\n",
       "            </tr><tr>\n",
       "                <td><strong>Name</strong></td><td>Acetone exchange</td>\n",
       "            </tr><tr>\n",
       "                <td><strong>Memory address</strong></td>\n",
       "                <td>0x07fe2fbd907f0</td>\n",
       "            </tr><tr>\n",
       "                <td><strong>Stoichiometry</strong></td>\n",
       "                <td>\n",
       "                    <p style='text-align:right'>act_e --></p>\n",
       "                    <p style='text-align:right'>Acetone --></p>\n",
       "                </td>\n",
       "            </tr><tr>\n",
       "                <td><strong>GPR</strong></td><td></td>\n",
       "            </tr><tr>\n",
       "                <td><strong>Lower bound</strong></td><td>0.0</td>\n",
       "            </tr><tr>\n",
       "                <td><strong>Upper bound</strong></td><td>1000.0</td>\n",
       "            </tr>\n",
       "        </table>\n",
       "        "
      ],
      "text/plain": [
       "<Reaction EX_act_e at 0x7fe2fbd907f0>"
      ]
     },
     "execution_count": 13,
     "metadata": {},
     "output_type": "execute_result"
    }
   ],
   "source": [
    "act_ex = Reaction(\"EX_act_e\")\n",
    "act_ex.name = \"Acetone exchange\"\n",
    "act_ex.add_metabolites({ \n",
    "    WLmodelActn.metabolites.act_e: -1.0,\n",
    "})\n",
    "act_ex"
   ]
  },
  {
   "cell_type": "code",
   "execution_count": 14,
   "metadata": {},
   "outputs": [],
   "source": [
    "WLmodelActn.add_reactions([ctfAB_ac, adc, actT, act_ex])"
   ]
  },
  {
   "cell_type": "markdown",
   "metadata": {},
   "source": [
    "## Change medium, run FBA, and visualize in Escher"
   ]
  },
  {
   "cell_type": "code",
   "execution_count": 15,
   "metadata": {},
   "outputs": [],
   "source": [
    "medium = WLmodel.medium\n",
    "\n",
    "medium['EX_co2_e'] = 10\n",
    "medium['EX_h2_e'] = 0\n",
    "medium['EX_co_e'] = 0\n",
    "\n",
    "WLmodel.medium = medium"
   ]
  },
  {
   "cell_type": "code",
   "execution_count": 16,
   "metadata": {},
   "outputs": [
    {
     "data": {
      "text/html": [
       "<strong><em>Optimal</em> solution with objective value 1.000</strong><br><div>\n",
       "<style scoped>\n",
       "    .dataframe tbody tr th:only-of-type {\n",
       "        vertical-align: middle;\n",
       "    }\n",
       "\n",
       "    .dataframe tbody tr th {\n",
       "        vertical-align: top;\n",
       "    }\n",
       "\n",
       "    .dataframe thead th {\n",
       "        text-align: right;\n",
       "    }\n",
       "</style>\n",
       "<table border=\"1\" class=\"dataframe\">\n",
       "  <thead>\n",
       "    <tr style=\"text-align: right;\">\n",
       "      <th></th>\n",
       "      <th>fluxes</th>\n",
       "      <th>reduced_costs</th>\n",
       "    </tr>\n",
       "  </thead>\n",
       "  <tbody>\n",
       "    <tr>\n",
       "      <th>H2td</th>\n",
       "      <td>0.0</td>\n",
       "      <td>-0.0</td>\n",
       "    </tr>\n",
       "    <tr>\n",
       "      <th>H2Ot</th>\n",
       "      <td>-2.0</td>\n",
       "      <td>-0.0</td>\n",
       "    </tr>\n",
       "    <tr>\n",
       "      <th>CO2t</th>\n",
       "      <td>2.0</td>\n",
       "      <td>0.0</td>\n",
       "    </tr>\n",
       "    <tr>\n",
       "      <th>COt</th>\n",
       "      <td>0.0</td>\n",
       "      <td>-0.0</td>\n",
       "    </tr>\n",
       "    <tr>\n",
       "      <th>ACt</th>\n",
       "      <td>1.0</td>\n",
       "      <td>0.0</td>\n",
       "    </tr>\n",
       "    <tr>\n",
       "      <th>...</th>\n",
       "      <td>...</td>\n",
       "      <td>...</td>\n",
       "    </tr>\n",
       "    <tr>\n",
       "      <th>SK_pi_c</th>\n",
       "      <td>0.0</td>\n",
       "      <td>0.0</td>\n",
       "    </tr>\n",
       "    <tr>\n",
       "      <th>ctfAB_ac</th>\n",
       "      <td>0.0</td>\n",
       "      <td>0.0</td>\n",
       "    </tr>\n",
       "    <tr>\n",
       "      <th>ADC</th>\n",
       "      <td>0.0</td>\n",
       "      <td>0.0</td>\n",
       "    </tr>\n",
       "    <tr>\n",
       "      <th>ACTt</th>\n",
       "      <td>0.0</td>\n",
       "      <td>0.0</td>\n",
       "    </tr>\n",
       "    <tr>\n",
       "      <th>EX_act_e</th>\n",
       "      <td>0.0</td>\n",
       "      <td>0.0</td>\n",
       "    </tr>\n",
       "  </tbody>\n",
       "</table>\n",
       "<p>55 rows × 2 columns</p>\n",
       "</div>"
      ],
      "text/plain": [
       "<Solution 1.000 at 0x7fe2fbd82320>"
      ]
     },
     "execution_count": 16,
     "metadata": {},
     "output_type": "execute_result"
    }
   ],
   "source": [
    "WLmodelActn.reactions.CODH_ACS.bounds = 1,1\n",
    "WLmodelActn.objective = \"EX_ac_e\"\n",
    "solution = WLmodelActn.optimize()\n",
    "WLmodelActn.optimize()"
   ]
  },
  {
   "cell_type": "code",
   "execution_count": 17,
   "metadata": {},
   "outputs": [
    {
     "data": {
      "application/vnd.jupyter.widget-view+json": {
       "model_id": "3223e2632ad84bde8c60582242c35934",
       "version_major": 2,
       "version_minor": 0
      },
      "text/plain": [
       "Builder(reaction_data={'H2td': 0.0, 'H2Ot': -2.0, 'CO2t': 2.0, 'COt': 0.0, 'ACt': 1.0, 'ETOHt': 0.0, 'BTDt_RR'…"
      ]
     },
     "metadata": {},
     "output_type": "display_data"
    }
   ],
   "source": [
    "Builder(model = WLmodelActn, map_json = join(data_dir,'Models/EscherMaps/WL_core_Actn_SK.json'), reaction_data = solution.fluxes.to_dict())\n"
   ]
  },
  {
   "cell_type": "code",
   "execution_count": 18,
   "metadata": {},
   "outputs": [],
   "source": [
    "cobra.io.write_sbml_model(WLmodelActn, join(data_dir,\"Models/WLPathway_sink.xml\"))#, use_fbc_package=False)"
   ]
  }
 ],
 "metadata": {
  "kernelspec": {
   "display_name": "dFBACoCultivation",
   "language": "python",
   "name": "dfbacocultivation"
  },
  "language_info": {
   "codemirror_mode": {
    "name": "ipython",
    "version": 3
   },
   "file_extension": ".py",
   "mimetype": "text/x-python",
   "name": "python",
   "nbconvert_exporter": "python",
   "pygments_lexer": "ipython3",
   "version": "3.6.12"
  }
 },
 "nbformat": 4,
 "nbformat_minor": 4
}
