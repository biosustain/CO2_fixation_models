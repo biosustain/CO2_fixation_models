{
 "cells": [
  {
   "cell_type": "markdown",
   "metadata": {},
   "source": [
    "# Notebook 03: Simulation of Acetogenic Fermentation in Bubble Column at 30 and 60°C\n",
    "\n",
    "This notebook is part of the research paper titled:\n",
    "\n",
    "Optimizing acetogenic CO(2) utilization through metabolic and process engineering highlights the potential of thermophilic bioproduction\n",
    "\n",
    "This notebook simulates the fermentation of acetogenic growth in a large scale bubble column reactor at two given temperatures, using mass balances as defined in notebook 01, and a thermodynaminc-based black box model of acetogenic growth, building on notebook 02.\n",
    "\n",
    "Notebook author: Philip J. Gorter de Vries"
   ]
  },
  {
   "cell_type": "code",
   "execution_count": 1,
   "metadata": {},
   "outputs": [],
   "source": [
    "import numpy as np\n",
    "import pandas as pd\n",
    "import matplotlib.pyplot as plt\n",
    "import math\n",
    "from scipy.integrate import odeint"
   ]
  },
  {
   "cell_type": "markdown",
   "metadata": {},
   "source": [
    "# Define parameters"
   ]
  },
  {
   "cell_type": "code",
   "execution_count": 2,
   "metadata": {},
   "outputs": [],
   "source": [
    "Tc1 = 30 #Temperature in Celsius\n",
    "Tc2 = 60 #Temperature in Celsius\n",
    "\n",
    "#Reaction time\n",
    "t_rt = 50\n",
    "t = np.linspace(0,t_rt,1000)\n",
    "\n",
    "#mol fraction of incoming gas\n",
    "y_co = 0.4 #[mol/mol]\n",
    "y_co2 = 0.2 #[mol/mol]\n",
    "y_h2 = 0.38 #[mol/mol]\n",
    "y_o2 = 0.01 #[mol/mol]\n",
    "y_n2 = 0.01 #[mol/mol]\n",
    "\n",
    "#Universal constants:\n",
    "R = 8.314 # [m^3*Pa/K/mol]\n",
    "\n",
    "def Kelvin_Celsius(t):\n",
    "    \"\"\"\n",
    "    This function converts Temperature values from Kelvin to degrees Celsius\n",
    "    \"\"\"\n",
    "    return t-273.15\n",
    "\n",
    "def Celsius_Kelvin(t):\n",
    "    \"\"\"\n",
    "    This function converts Temperature values from degrees Celsius to Kelvin\n",
    "    \"\"\"\n",
    "    return t+273.15\n",
    "\n",
    "T1 = Celsius_Kelvin(Tc1)\n",
    "T2 = Celsius_Kelvin(Tc2)"
   ]
  },
  {
   "cell_type": "markdown",
   "metadata": {},
   "source": [
    "# Biological Parameters"
   ]
  },
  {
   "cell_type": "code",
   "execution_count": 3,
   "metadata": {},
   "outputs": [
    {
     "name": "stdout",
     "output_type": "stream",
     "text": [
      "at Temperature = 30°C\n",
      "m_NGAM = 1.76 [kJ/h/CmolX]\n",
      "µ_max = 0.2 [/h]\n",
      "m_GAM = 1000 [kJ/CmolX] \n",
      "\n",
      "at Temperature = 60°C\n",
      "m_NGAM = 33.39 [kJ/h/CmolX]\n",
      "µ_max = 0.6 [/h]\n",
      "m_GAM = 1000 [kJ/CmolX]\n"
     ]
    }
   ],
   "source": [
    "# for details, view 02_AcetogenYieldTempDependency.ipynb\n",
    "\n",
    "def µ_max(T): #not used here\n",
    "    return 46.35 * T * np.exp(-28127.1/(R*T))\n",
    "\n",
    "def m_NGAM(T):\n",
    "    return 3.3**(69000/R*(1/298-1/T)) #[kJ/h/CmolX]\n",
    "\n",
    "m_GAM = 1000 #kJ/CmolX\n",
    "\n",
    "# Michaelis-Menten and inhibtion parameters:\n",
    "Ks_h2 =  0.0002950 # [mM] https://doi.org/10.1016/j.jece.2022.107281\n",
    "Ks_co2 =  0.0002950 # [mM] taken from H2\n",
    "Ks_co = 0.0002950 # [mM] taken from H2\n",
    "Ki_actt = 800 #mM Inhibition constant for acetone\n",
    "\n",
    "print(f\"at Temperature = {Tc1}°C\")\n",
    "print(f\"m_NGAM = {round(m_NGAM(T1),2)} [kJ/h/CmolX]\")\n",
    "print(f\"µ_max = {round(µ_max(T1),2)} [/h]\")\n",
    "print(f\"m_GAM = {m_GAM} [kJ/CmolX] \\n\")\n",
    "\n",
    "print(f\"at Temperature = {Tc2}°C\")\n",
    "print(f\"m_NGAM = {round(m_NGAM(T2),2)} [kJ/h/CmolX]\")\n",
    "print(f\"µ_max = {round(µ_max(T2),2)} [/h]\")\n",
    "print(f\"m_GAM = {m_GAM} [kJ/CmolX]\")"
   ]
  },
  {
   "cell_type": "markdown",
   "metadata": {},
   "source": [
    "# Calculate Gibbs free energy and Enthalpy of Catabolic reaction"
   ]
  },
  {
   "cell_type": "markdown",
   "metadata": {},
   "source": [
    "<p>Given the reaction stoichiometries:</p>\n",
    "<p>$ -2 CO_2 - 4 H_2 + CH_3COOH + 2 H_2O $</p>\n",
    "<p>$ -4 CO - 2 H_2O + CH_3COOH + 2 CO_2 $</p>"
   ]
  },
  {
   "cell_type": "code",
   "execution_count": 4,
   "metadata": {},
   "outputs": [
    {
     "data": {
      "text/html": [
       "<div>\n",
       "<style scoped>\n",
       "    .dataframe tbody tr th:only-of-type {\n",
       "        vertical-align: middle;\n",
       "    }\n",
       "\n",
       "    .dataframe tbody tr th {\n",
       "        vertical-align: top;\n",
       "    }\n",
       "\n",
       "    .dataframe thead th {\n",
       "        text-align: right;\n",
       "    }\n",
       "</style>\n",
       "<table border=\"1\" class=\"dataframe\">\n",
       "  <thead>\n",
       "    <tr style=\"text-align: right;\">\n",
       "      <th></th>\n",
       "      <th>HomCata</th>\n",
       "      <th>CarbCata</th>\n",
       "      <th>HomAna</th>\n",
       "      <th>CarbAna</th>\n",
       "    </tr>\n",
       "  </thead>\n",
       "  <tbody>\n",
       "    <tr>\n",
       "      <th>CO</th>\n",
       "      <td>0</td>\n",
       "      <td>-4</td>\n",
       "      <td>0.0</td>\n",
       "      <td>-2.1</td>\n",
       "    </tr>\n",
       "    <tr>\n",
       "      <th>H2</th>\n",
       "      <td>-4</td>\n",
       "      <td>0</td>\n",
       "      <td>-2.1</td>\n",
       "      <td>0.0</td>\n",
       "    </tr>\n",
       "    <tr>\n",
       "      <th>NH3</th>\n",
       "      <td>0</td>\n",
       "      <td>0</td>\n",
       "      <td>-0.2</td>\n",
       "      <td>-0.2</td>\n",
       "    </tr>\n",
       "    <tr>\n",
       "      <th>CO2</th>\n",
       "      <td>-2</td>\n",
       "      <td>2</td>\n",
       "      <td>-1.0</td>\n",
       "      <td>1.1</td>\n",
       "    </tr>\n",
       "    <tr>\n",
       "      <th>H2O</th>\n",
       "      <td>2</td>\n",
       "      <td>-2</td>\n",
       "      <td>1.5</td>\n",
       "      <td>-0.6</td>\n",
       "    </tr>\n",
       "    <tr>\n",
       "      <th>X</th>\n",
       "      <td>0</td>\n",
       "      <td>0</td>\n",
       "      <td>1.0</td>\n",
       "      <td>1.0</td>\n",
       "    </tr>\n",
       "    <tr>\n",
       "      <th>P</th>\n",
       "      <td>1</td>\n",
       "      <td>1</td>\n",
       "      <td>0.0</td>\n",
       "      <td>0.0</td>\n",
       "    </tr>\n",
       "  </tbody>\n",
       "</table>\n",
       "</div>"
      ],
      "text/plain": [
       "     HomCata  CarbCata  HomAna  CarbAna\n",
       "CO         0        -4     0.0     -2.1\n",
       "H2        -4         0    -2.1      0.0\n",
       "NH3        0         0    -0.2     -0.2\n",
       "CO2       -2         2    -1.0      1.1\n",
       "H2O        2        -2     1.5     -0.6\n",
       "X          0         0     1.0      1.0\n",
       "P          1         1     0.0      0.0"
      ]
     },
     "execution_count": 4,
     "metadata": {},
     "output_type": "execute_result"
    }
   ],
   "source": [
    "S = pd.DataFrame({\n",
    "    'HomCata':  [0,    -4,  0,    -2,  2,    0,1],\n",
    "    'CarbCata': [-4,   0,   0,    2,   -2,   0,1],\n",
    "    'HomAna':   [0,   -2.1, -0.2, -1,  1.5,  1,0],\n",
    "    'CarbAna':  [-2.1, 0,   -0.2, 1.1, -0.6, 1,0]},\n",
    "    index=pd.Index([\"CO\",\"H2\",\"NH3\",\"CO2\",\"H2O\",\"X\",\"P\"]))\n",
    "\n",
    "S"
   ]
  },
  {
   "cell_type": "code",
   "execution_count": 20,
   "metadata": {},
   "outputs": [
    {
     "name": "stdout",
     "output_type": "stream",
     "text": [
      "-231.42360724467554 -150.81437699144718\n",
      "-232.82525071272858 -140.64063894013074\n"
     ]
    }
   ],
   "source": [
    "dfGR = pd.read_csv(\"../Data/EnthalpyGibbs.csv\", encoding= 'unicode_escape', header=0, index_col=\"Compound\", dtype = {\"dfGR\": float, \"dfGR\": float})[\"dfGR\"]\n",
    "dfHR = pd.read_csv(\"../Data/EnthalpyGibbs.csv\", encoding= 'unicode_escape', header=0, index_col=\"Compound\", dtype = {\"dfGR\": float, \"dfGR\": float})[\"dfHR\"]\n",
    "\n",
    "#Hess's law:\n",
    "DrGR_carb = S.CarbCata[\"CO\"]*dfGR[\"CO\"] + S.CarbCata[\"H2O\"]*dfGR[\"Water\"] + S.CarbCata[\"P\"]*dfGR[\"Acetate\"] + S.CarbCata[\"CO2\"]*dfGR[\"CO2\"]\n",
    "DrGR_hom = S.HomCata[\"H2\"]*dfGR[\"H2\"] + S.HomCata[\"CO2\"]*dfGR[\"CO2\"] + S.HomCata[\"P\"]*dfGR[\"Acetate\"] + S.HomCata[\"H2O\"]*dfGR[\"Water\"]\n",
    "\n",
    "DrHR_carb = S.CarbCata[\"CO\"]*dfHR[\"CO\"] + S.CarbCata[\"H2O\"]*dfHR[\"Water\"] + S.CarbCata[\"P\"]*dfHR[\"Acetate\"] + S.CarbCata[\"CO2\"]*dfHR[\"CO2\"]\n",
    "DrHR_hom = S.HomCata[\"H2\"]*dfHR[\"H2\"] + S.HomCata[\"CO2\"]*dfHR[\"CO2\"] + S.HomCata[\"P\"]*dfHR[\"Acetate\"] + S.HomCata[\"H2O\"]*dfHR[\"Water\"]\n",
    "\n",
    "#Gibbs–Helmholtz equation for temperature correction\n",
    "def DrGT_carb(T):\n",
    "    return DrGR_carb * (T/298.15) + DrHR_carb * (1-T/298.15)\n",
    "def DrGT_hom(T):\n",
    "    return DrGR_hom * (T/298.15) + DrHR_hom * (1-T/298.15)\n",
    "\n",
    "print(DrGT_carb(T1),DrGT_hom(T1))\n",
    "print(DrGT_carb(T2),DrGT_hom(T2))"
   ]
  },
  {
   "cell_type": "markdown",
   "metadata": {},
   "source": [
    "# Determine anabolic reaction and balance reactions including GAM\n",
    "\n",
    "<p>Catabolic reaction stoichiometries:</p>\n",
    "\n",
    "<p>$ 2 CO_2 + 4 H_2 <=> CH_3COOH + 2 H_2O $ \n",
    "    <span style=\"float:right;\">(eq. 19)</span> </p>\n",
    "<p>$ 4 CO + 2 H_2O <=> CH_3COOH + 2 CO_2 $\n",
    "    <span style=\"float:right;\">(eq. 20)</span> </p>\n",
    "\n",
    "<p>Anabolic reaction stoichiometries: With an approximated biomass composition of $ CH_{1.8}O_{0.5}N_{0.2} $ and ammonia, $ NH_3 $ as carbon source, a prediction of the stoichiometry for the biomass formation reaction can be made by balancing out all elements in each of the reactions:</p>\n",
    "\n",
    "<p>With an apporximated biomass composition of $ CH_{1.8}O_{0.5}N_{0.2} $ and ammonia, $ NH_3 $ as carbon source, a prediction of the stoichiometry for the biomass formation reaction can be made by balancing out all elements in each of the reactions:</p>\n",
    "\n",
    "<p>$ -r_{CO2} CO_2 - r_{H} H_2 - r_{Am} NH_3 + CH_{1.8}O_{0.5}N_{0.2} + r_{W} H_2O = 0$ </p>\n",
    "<p>$ -r_{CO} CO - r_{W} H_2O - r_{Am} NH_3 + CH_{1.8}O_{0.5}N_{0.2} + r_{CO2} CO_2 = 0$</p>\n",
    "\n",
    "Which results in:\n",
    "\n",
    "<p>$ CO_2 + 2.1 H_2 + 0.2 NH_3 <=> CH_{1.8}O_{0.5}N_{0.2} + 1.5 H_2O$\n",
    "    <span style=\"float:right;\">(eq. 21)</span>  </p>\n",
    "<p>$ 2.1 CO + 0.6 H_2O + 0.2 NH_3 <=> CH_{1.8}O_{0.5}N_{0.2} + 1.1 CO_2$\n",
    "    <span style=\"float:right;\">(eq. 22)</span> </p>"
   ]
  },
  {
   "cell_type": "markdown",
   "metadata": {},
   "source": [
    "<div style=\"text-align: center\">  $ m_{GAM,i} = Y_{IS}\n",
    "\\displaystyle \\frac{m_{GAM}}{\\Delta _r G^T/q_i}$ [$h^{-1}$]\n",
    "    <span style=\"float:right;\">(eq. 30)</span>\n",
    "</div>"
   ]
  },
  {
   "cell_type": "code",
   "execution_count": 7,
   "metadata": {},
   "outputs": [
    {
     "data": {
      "text/plain": [
       "-14.261335158473797"
      ]
     },
     "execution_count": 7,
     "metadata": {},
     "output_type": "execute_result"
    }
   ],
   "source": [
    "def r_carb(C,T):\n",
    "    return S.CarbAna[C] - S.CarbCata[C]/S.CarbCata[\"CO\"] * m_GAM/(DrGT_carb(T)/S.CarbCata[\"CO\"])\n",
    "\n",
    "def r_hom(C,T):\n",
    "    return S.HomAna[C] - S.HomCata[C]/S.HomCata[\"H2\"] * m_GAM/(DrGT_hom(T)/S.HomCata[\"H2\"])"
   ]
  },
  {
   "cell_type": "code",
   "execution_count": 8,
   "metadata": {},
   "outputs": [
    {
     "name": "stdout",
     "output_type": "stream",
     "text": [
      "Overall Carboxydotrophic stoichiometry at 30°C: \n",
      " -19.38 CO -9.24 H20 -0.2 NH3 + 1.0 biomass + 4.32 CH3COOH + 9.74 CO2 = 0 \n",
      "\n",
      "Overall Homoacetogenic stoichiometry at 30°C: \n",
      " -14.26 CO2 -28.62 H2 -0.2 NH3 + 1.0 biomass + 6.63 CH3COOH + 14.76 H2O = 0 \n",
      "\n",
      "Overall Carboxydotrophic stoichiometry at 60°C: \n",
      " -19.28 CO -9.19 H20 -0.2 NH3 + 1.0 biomass + 4.3 CH3COOH + 9.69 CO2 = 0 \n",
      "\n",
      "Overall Homoacetogenic stoichiometry at 60°C: \n",
      " -15.22 CO2 -30.54 H2 -0.2 NH3 + 1.0 biomass + 7.11 CH3COOH + 15.72 H2O = 0 \n",
      "\n"
     ]
    }
   ],
   "source": [
    "print(f'Overall Carboxydotrophic stoichiometry at {Tc1}°C: \\n {round(r_carb(\"CO\",T1),2)} CO {round(r_carb(\"H2O\",T1),2)} H20 {round(r_carb(\"NH3\",T1),2)} NH3 + {round(r_carb(\"X\",T1),2)} biomass + {round(r_carb(\"P\",T1),2)} CH3COOH + {round(r_carb(\"CO2\",T1),2)} CO2 = 0 \\n')\n",
    "print(f'Overall Homoacetogenic stoichiometry at {Tc1}°C: \\n {round(r_hom(\"CO2\",T1),2)} CO2 {round(r_hom(\"H2\",T1),2)} H2 {round(r_hom(\"NH3\",T1),2)} NH3 + {round(r_hom(\"X\",T1),2)} biomass + {round(r_hom(\"P\",T1),2)} CH3COOH + {round(r_hom(\"H2O\",T1),2)} H2O = 0 \\n')\n",
    "print(f'Overall Carboxydotrophic stoichiometry at {Tc2}°C: \\n {round(r_carb(\"CO\",T2),2)} CO {round(r_carb(\"H2O\",T2),2)} H20 {round(r_carb(\"NH3\",T2),2)} NH3 + {round(r_carb(\"X\",T2),2)} biomass + {round(r_carb(\"P\",T2),2)} CH3COOH + {round(r_carb(\"CO2\",T2),2)} CO2 = 0 \\n')\n",
    "print(f'Overall Homoacetogenic stoichiometry at {Tc2}°C: \\n {round(r_hom(\"CO2\",T2),2)} CO2 {round(r_hom(\"H2\",T2),2)} H2 {round(r_hom(\"NH3\",T2),2)} NH3 + {round(r_hom(\"X\",T2),2)} biomass + {round(r_hom(\"P\",T2),2)} CH3COOH + {round(r_hom(\"H2O\",T2),2)} H2O = 0 \\n')"
   ]
  },
  {
   "cell_type": "markdown",
   "metadata": {},
   "source": [
    "# Construct Black Box models of Moorella"
   ]
  },
  {
   "cell_type": "markdown",
   "metadata": {},
   "source": [
    "<p>Monod Equation, specific growth rate: </p>\n",
    "<div style=\"text-align: center\">  $ µ = µ_{max} * \n",
    "\\displaystyle \\frac{c_s}{K_s + c_s} * (1-c_p/K_{ip})$ [$h^{-1}$]\n",
    "    <span style=\"float:right;\">(eq. 27)</span>\n",
    "</div>\n",
    "\n",
    "<p>Pirt kinetics, specific consumption and production rate: </p>\n",
    "<br>\n",
    "<div style=\"text-align: center\">  $ q_i = \\displaystyle \\frac{µ}{Y_{Xi}} + m_{NGAM,i} $ [$h^{-1}$]\n",
    "    <span style=\"float:right;\">(eq. 28)</span>\n",
    "</div>\n",
    "<br>\n",
    "<div style=\"text-align: center\">  $ m_{NGAM,i} = \n",
    "\\displaystyle \\frac{m_{NGAM}}{\\Delta _r G^T/q_i}$ [$h^{-1}$]\n",
    "    <span style=\"float:right;\">(eq. 29)</span>\n",
    "</div>"
   ]
  },
  {
   "cell_type": "code",
   "execution_count": 9,
   "metadata": {},
   "outputs": [],
   "source": [
    "# Homoacetogenic:\n",
    "def µ_hom(C_h2, C_co2, C_actt, T):\n",
    "    return µ_max(T) * C_h2/(Ks_h2+C_h2) * (1-C_actt/Ki_actt)\n",
    "\n",
    "def q_hom_CO2(C_h2, C_co2, C_actt, T):\n",
    "    m_NGAM_Hom_CO2 = S.HomCata[\"CO2\"]/S.HomCata[\"H2\"] * m_NGAM(T)/(DrGT_hom(T)/S.HomCata[\"H2\"])\n",
    "    return µ_hom(C_h2, C_co2, C_actt, T)/(r_hom(\"X\",T)/r_hom(\"CO2\",T)) - m_NGAM_Hom_CO2\n",
    "\n",
    "def q_hom_H2(C_h2, C_co2, C_actt, T):\n",
    "    m_NGAM_Hom_H2 = S.HomCata[\"H2\"]/S.HomCata[\"H2\"] * m_NGAM(T)/(DrGT_hom(T)/S.HomCata[\"H2\"])\n",
    "    return µ_hom(C_h2, C_co2, C_actt, T)/(r_hom(\"X\",T)/r_hom(\"H2\",T)) - m_NGAM_Hom_H2\n",
    "\n",
    "def q_hom_actt(C_h2, C_co2, C_actt, T):\n",
    "    m_NGAM_Hom_Actt = S.HomCata[\"P\"]/S.HomCata[\"H2\"] * m_NGAM(T)/(DrGT_hom(T)/S.HomCata[\"H2\"])\n",
    "    return µ_hom(C_h2, C_co2, C_actt, T)/(r_hom(\"X\",T)/r_hom(\"P\",T)) - m_NGAM_Hom_Actt\n",
    "\n",
    "# Carboxydotrophic:\n",
    "def µ_carb(C_co, C_actt, T):\n",
    "    return µ_max(T) * C_co/(Ks_co+C_co) * (1-C_actt/Ki_actt)\n",
    "\n",
    "def q_carb_CO(C_co, C_actt, T):\n",
    "    m_NGAM_Carb_CO = S.CarbCata[\"CO\"]/S.CarbCata[\"CO\"] * m_NGAM(T)/(DrGT_carb(T)/S.CarbCata[\"CO\"])\n",
    "    return µ_carb(C_co, C_actt, T)/(r_carb(\"X\",T)/r_carb(\"CO\",T)) - m_NGAM_Carb_CO\n",
    "\n",
    "def q_carb_actt(C_co, C_actt, T):\n",
    "    m_NGAM_Carb_Actt = S.CarbCata[\"P\"]/S.CarbCata[\"CO\"] * m_NGAM(T)/(DrGT_carb(T)/S.CarbCata[\"CO\"])\n",
    "    return µ_carb(C_co, C_actt, T)/(r_carb(\"X\",T)/r_carb(\"P\",T)) - m_NGAM_Carb_Actt\n",
    "\n",
    "def q_carb_CO2(C_co, C_actt, T):\n",
    "    m_NGAM_Carb_CO2 = S.CarbCata[\"CO2\"]/S.CarbCata[\"CO\"] * m_NGAM(T)/(DrGT_carb(T)/S.CarbCata[\"CO\"])\n",
    "    return µ_carb(C_co, C_actt, T)/(r_carb(\"X\",T)/r_carb(\"CO2\",T)) - m_NGAM_Carb_CO2"
   ]
  },
  {
   "cell_type": "markdown",
   "metadata": {},
   "source": [
    "## Bubble column setup parameters:"
   ]
  },
  {
   "cell_type": "code",
   "execution_count": 11,
   "metadata": {},
   "outputs": [],
   "source": [
    "F_G = 1*10**4 #gas inflow rate (from Steph: (8*10**5 * 8.314 * T)/p_m) [m^3/h]\n",
    "r = 3 # radius of the reactor [m]\n",
    "h = 30 # height of the reactor [m]\n",
    "\n",
    "#deduceable constants\n",
    "A = math.pi * r**2 #reactor cross-sectional area [m^2]\n",
    "V_L = A * h * 2/3 #reactor volume, assuming it is 2/3 filled [m^3]\n",
    "v_gas = F_G/A/3600 #average gas velocity [m/s]\n",
    "Gas_holdup = 0.6*(v_gas)**0.7 #from Stephanie's paper\n",
    "V_G = V_L*Gas_holdup\n",
    "\n",
    "p_t = 101325 # pressure at the top of the reactor [Pa]\n",
    "p_b = p_t + h * 1000 * 9.81 # pressure at the bottom of the reactor [Pa]\n",
    "p_m = (p_b-p_t)/math.log(p_b/p_t) # logarithmic mean pressure [Pa]"
   ]
  },
  {
   "cell_type": "markdown",
   "metadata": {},
   "source": [
    "## Define gas transfer rates as functions"
   ]
  },
  {
   "cell_type": "code",
   "execution_count": 21,
   "metadata": {},
   "outputs": [],
   "source": [
    "# Load Henry's Law values\n",
    "DR = pd.read_csv(\"../Data/HenrysLawData.csv\", index_col = \"Compound\")[\"DR\"]\n",
    "HR = pd.read_csv(\"../Data/HenrysLawData.csv\", index_col = \"Compound\")[\"HR\"]\n",
    "kh = pd.read_csv(\"../Data/HenrysLawData.csv\", index_col = \"Compound\")[\"k\"]\n",
    "theta = 1.022 # temperature correction factor\n",
    "\n",
    "# Kla Temperature correction:\n",
    "def KLa_CO2(t):\n",
    "    return 0.32 * (DR[\"CO2\"]/DR[\"O2\"])**0.5 * v_gas**0.7 * theta**(t-293.15) * 3600 #[1/s]\n",
    "\n",
    "def KLa_CO(t):\n",
    "    return 0.32 * (DR[\"CO\"]/DR[\"O2\"])**0.5 * v_gas**0.7 * theta**(t-293.15) * 3600 #[1/s]\n",
    "\n",
    "def KLa_H2(t):\n",
    "    return 0.32 * (DR[\"H2\"]/DR[\"O2\"])**0.5 * v_gas**0.7 * theta**(t-293.15) * 3600 #[1/s]\n",
    "\n",
    "def KLa_N2(t):\n",
    "    return 0.32 * (DR[\"N2\"]/DR[\"O2\"])**0.5 * v_gas**0.7 * theta**(t-293.15) * 3600 #[1/s]\n",
    "\n",
    "# Saturation concentration\n",
    "def CO2_sat(t):\n",
    "    return HR[\"CO2\"] * math.e**(kh[\"CO2\"]*(1/t-1/298.15)) * 10**(-5) * p_m\n",
    "\n",
    "def CO_sat(t):\n",
    "    return HR[\"CO\"] * math.e**(kh[\"CO\"]*(1/t-1/298.15)) * 10**(-5) * p_m\n",
    "\n",
    "def H2_sat(t):\n",
    "    return HR[\"H2\"] * math.e**(kh[\"H2\"]*(1/t-1/298.15)) * 10**(-5) * p_m\n",
    "\n",
    "def N2_sat(t):\n",
    "    return HR[\"N2\"] * math.e**(kh[\"N2\"]*(1/t-1/298.15)) * 10**(-5) * p_m\n",
    "\n",
    "# Combine as transfer rate:\n",
    "def R_CO2(c_co2,cG_co2,cG_Gas,t):\n",
    "    return KLa_CO2(t) * (CO2_sat(t) - c_co2)\n",
    "\n",
    "def R_CO(c_co,cG_co,cG_Gas,t):\n",
    "    return KLa_CO(t) * (CO_sat(t) - c_co)\n",
    "\n",
    "def R_H2(c_h2,cG_h2,cG_Gas,t):\n",
    "    return KLa_H2(t) * (H2_sat(t) - c_h2)\n",
    "\n",
    "def R_N2(c_n2,cG_n2,cG_Gas,t):\n",
    "    return KLa_N2(t) * (N2_sat(t) - c_n2)"
   ]
  },
  {
   "cell_type": "markdown",
   "metadata": {},
   "source": [
    "## Define mass balances\n",
    "\n",
    "<br>\n",
    "<div><b>Box 1:</b> Mass Balances; Accumulation = In - Out + Production - Consumption</div>\n",
    "<br>\n",
    "<div>Biomass: &emsp; &emsp; &emsp; &ensp; $ \\displaystyle \\frac{dc_X}{dt} = µ * c_X $\n",
    "<div>Acetate: &emsp; &emsp; &emsp; &emsp; $ \\displaystyle \\frac{dc_{Actt}}{dt} = q_{actt} * c_X$\n",
    "<div>CO<sub>2</sub>, dissolved:&emsp;&nbsp; $ \\displaystyle \\frac{dc_{CO_2}}{dt} = q_{CO_2} * c_X + R_{CO_2} $\n",
    "<div>CO, dissolved: &emsp; &nbsp; $ \\displaystyle \\frac{dc_{CO}}{dt} = q_{CO} * c_X + R_{CO}$\n",
    "<div>H<sub>2</sub>, dissolved:&emsp;&emsp;&ensp;&nbsp;$ \\displaystyle \\frac{dc_{H_2}}{dt} = q_{H_2} * c_X + R_{H_2} $\n",
    "<div>CO<sub>2</sub>, gas:&emsp;&emsp;&emsp;&emsp;&emsp;$ \\displaystyle \\frac{dc_{G,CO_{2}}}{dt}=\\frac{F_G}{V_G}*(c_{G,CO_2,in}-c_{G,CO_2})-R_{CO_2}*\\frac{V_L}{V_G}$\n",
    "<div>CO, gas:&emsp;&emsp;&emsp;&emsp;&emsp;&ensp;$ \\displaystyle \\frac{dc_{G,CO}}{dt}=\\frac{F_G}{V_G}*(c_{G,CO,in}-c_{G,CO})-R_{CO}*\\frac{V_L}{V_G} $\n",
    "<div>H<sub>2</sub>, gas:&emsp;&emsp;&emsp;&emsp;&emsp;&ensp;&nbsp;$ \\displaystyle \\frac{dc_{G,H_{2}}}{dt}=\\frac{F_G}{V_G}*(c_{G,H_2,in}-c_{G,H_2})-R_{H_2}*\\frac{V_L}{V_G}$"
   ]
  },
  {
   "cell_type": "code",
   "execution_count": 14,
   "metadata": {},
   "outputs": [],
   "source": [
    "def model(z,t):\n",
    "    X_carb = max(0,z[0])\n",
    "    X_hom = max(0,z[1])\n",
    "    c_actt = max(0,z[2])\n",
    "    c_co2 = max(0,z[3])\n",
    "    c_co = max(0,z[4])\n",
    "    c_h2 = max(0,z[5])\n",
    "    c_n2 = max(0,z[6])\n",
    "    cG_co2 = max(0,z[7])\n",
    "    cG_co = max(0,z[8])\n",
    "    cG_h2 = max(0,z[9])\n",
    "    cG_n2 = max(0,z[10])\n",
    "    \n",
    "    cG_Gas = cG_co2+cG_co+cG_h2+cG_n2\n",
    "\n",
    "    dXcdt = µ_carb(c_co, c_actt,T) * X_carb\n",
    "    dXhdt = µ_hom(c_h2, c_co2, c_actt,T) * X_hom\n",
    "    dacttdt = q_hom_actt(c_h2, c_co2, c_actt,T) * X_hom + q_carb_actt(c_co, c_actt,T) * X_carb\n",
    "    dCO2dt = q_hom_CO2(c_h2, c_co2, c_actt,T) * X_hom + q_carb_CO2(c_co, c_actt,T) * X_carb + R_CO2(c_co2,cG_co2,cG_Gas,T)\n",
    "    dCOdt = q_carb_CO(c_co, c_actt,T) * X_carb + R_CO(c_co,cG_co,cG_Gas,T)\n",
    "    dH2dt = q_hom_H2(c_h2, c_co2, c_actt,T) * X_hom + R_H2(c_h2,cG_h2,cG_Gas,T)\n",
    "    dN2dt = R_N2(c_n2,cG_n2,cG_Gas,T)\n",
    "    dCO2Gdt = F_G/V_G * (cG_co2_in-cG_co2) - R_CO2(c_co2,cG_co2,cG_Gas,T) * V_L/V_G\n",
    "    dCOGdt = F_G/V_G * (cG_co_in-cG_co) - R_CO(c_co,cG_co,cG_Gas,T) * V_L/V_G\n",
    "    dH2Gdt = F_G/V_G * (cG_h2_in-cG_h2) - R_H2(c_h2,cG_h2,cG_Gas,T) * V_L/V_G\n",
    "    dN2Gdt = F_G/V_G * (cG_n2_in-cG_n2) - R_N2(c_n2,cG_n2,cG_Gas,T) * V_L/V_G\n",
    "    \n",
    "    return [dXcdt,dXhdt,dacttdt,dCO2dt,dCOdt,dH2dt,dN2dt,dCO2Gdt,dCOGdt,dH2Gdt,dN2Gdt]"
   ]
  },
  {
   "cell_type": "markdown",
   "metadata": {},
   "source": [
    "## Define initial conditions & run simulations\n",
    "\n",
    "Initialize and run at both temperatures defined at the top of the notebook\n",
    "\n",
    "Initial gas concentrations: \n",
    " - in the liquid, one can assume that they have reached saturation before starting the experiment\n",
    " - in the gas, one can take the inlet concentrations"
   ]
  },
  {
   "cell_type": "code",
   "execution_count": 15,
   "metadata": {
    "scrolled": false
   },
   "outputs": [],
   "source": [
    "#initial conditions at T1\n",
    "T = T1\n",
    "\n",
    "cG_co2_in = y_co2 * p_m/(R*T)\n",
    "cG_co_in = y_co * p_m/(R*T)\n",
    "cG_h2_in = y_h2 * p_m/(R*T)\n",
    "cG_n2_in = y_n2 * p_m/(R*T)\n",
    "\n",
    "c_co2_0 = CO2_sat(T)\n",
    "c_co_0 =  CO_sat(T)\n",
    "c_h2_0 =  H2_sat(T)\n",
    "c_n2_0 =  N2_sat(T)\n",
    "\n",
    "cG_Gas_0 = cG_co2_in+cG_co_in+cG_h2_in+cG_n2_in\n",
    "\n",
    "#z0=[c_n2_0,cG_n2_in]\n",
    "z0=[0.1,0.1,0,c_co2_0,c_co_0,c_h2_0,c_n2_0,cG_co2_in,cG_co_in,cG_h2_in,cG_n2_in]\n",
    "\n",
    "#solve ODE\n",
    "z_T1 = odeint(model,z0,t)"
   ]
  },
  {
   "cell_type": "code",
   "execution_count": 16,
   "metadata": {},
   "outputs": [],
   "source": [
    "#initial conditions at T2\n",
    "T = T2\n",
    "\n",
    "cG_co2_in = y_co2 * p_m/(R*T)\n",
    "cG_co_in = y_co * p_m/(R*T)\n",
    "cG_h2_in = y_h2 * p_m/(R*T)\n",
    "cG_n2_in = y_n2 * p_m/(R*T)\n",
    "\n",
    "c_co2_0 = CO2_sat(T)\n",
    "c_co_0 =  CO_sat(T)\n",
    "c_h2_0 =  H2_sat(T)\n",
    "c_n2_0 =  N2_sat(T)\n",
    "\n",
    "cG_Gas_0 = cG_co2_in+cG_co_in+cG_h2_in+cG_n2_in\n",
    "\n",
    "#z0=[c_n2_0,cG_n2_in]\n",
    "z0=[0.1,0.1,0,c_co2_0,c_co_0,c_h2_0,c_n2_0,cG_co2_in,cG_co_in,cG_h2_in,cG_n2_in]\n",
    "\n",
    "#solve ODE\n",
    "z_T2 = odeint(model,z0,t)"
   ]
  },
  {
   "cell_type": "markdown",
   "metadata": {},
   "source": [
    "# Plot the simulations"
   ]
  },
  {
   "cell_type": "code",
   "execution_count": 24,
   "metadata": {},
   "outputs": [
    {
     "data": {
      "image/png": "[encoded data removed]",
      "text/plain": [
       "<Figure size 756x216 with 4 Axes>"
      ]
     },
     "metadata": {
      "needs_background": "light"
     },
     "output_type": "display_data"
    },
    {
     "data": {
      "image/png": "[encoded data removed]",
      "text/plain": [
       "<Figure size 720x432 with 4 Axes>"
      ]
     },
     "metadata": {
      "needs_background": "light"
     },
     "output_type": "display_data"
    }
   ],
   "source": [
    "plt.rcParams['axes.spines.right'] = True\n",
    "plt.rcParams['axes.spines.top'] = False\n",
    "\n",
    "def two_scales(ax1, time, data1, data2, c1, c2):\n",
    "    ax2 = ax1.twinx()\n",
    "    ax1.plot(time, data1, color=c1)\n",
    "    ax1.set_xlabel('time (h)', fontsize=15)\n",
    "    ax1.set_ylabel('Biomass [$gDW/l$]', fontsize=15)\n",
    "    ax1.axis([0, t_rt, 0, 3.5])\n",
    "    ax1.tick_params(axis='both', which='major', labelsize=15)\n",
    "    ax2.plot(time, data2, color=c2)\n",
    "    ax2.set_ylabel('Acetate [$mM$]', fontsize=15)\n",
    "    ax2.axis([0, t_rt, 0, 900])\n",
    "    ax2.tick_params(axis='both', which='major', labelsize=15)\n",
    "    return ax1, ax2\n",
    "\n",
    "# Create axes\n",
    "fig, (ax1, ax2) = plt.subplots(1,2, figsize=(10.5,3))\n",
    "ax1, ax1a = two_scales(ax1, t, (z_T1[:,0]+z_T1[:,1])*24.6/1000, z_T1[:,2], 'r', 'b')\n",
    "plt.title(\"C\", fontdict = {'fontsize': 20}, loc = \"left\")\n",
    "plt.title(f\"{Tc1}°C\", fontdict = {'fontsize': 20}, loc = \"center\")\n",
    "ax2, ax2a = two_scales(ax2, t, (z_T2[:,0]+z_T2[:,1])*24.6/1000, z_T2[:,2], 'r', 'b')\n",
    "plt.title(\"F\", fontdict = {'fontsize': 20}, loc = \"left\")\n",
    "plt.title(f\"{Tc2}°C\", fontdict = {'fontsize': 20}, loc = \"center\")\n",
    "\n",
    "# Change color of each axis\n",
    "def color_y_axis(ax, color):\n",
    "    \"\"\"Color your axes.\"\"\"\n",
    "    for t in ax.get_yticklabels():\n",
    "        t.set_color(color)\n",
    "\n",
    "color_y_axis(ax1, 'r')\n",
    "color_y_axis(ax1a, 'b')\n",
    "color_y_axis(ax2, 'r')\n",
    "color_y_axis(ax2a, 'b')\n",
    "\n",
    "plt.tight_layout()\n",
    "plt.show()\n",
    "\n",
    "plt.rcParams['axes.spines.right'] = False\n",
    "plt.rcParams['axes.spines.top'] = False\n",
    "\n",
    "fig = plt.figure(figsize=(10,6))\n",
    "\n",
    "plt.subplot(2,2,1)\n",
    "plt.title(\"D\", fontdict = {'fontsize': 20}, loc = \"left\")\n",
    "plt.plot(t,z_T1[:,3])\n",
    "plt.plot(t,z_T1[:,4])\n",
    "plt.plot(t,z_T1[:,5])\n",
    "plt.plot(t,z_T1[:,6])\n",
    "plt.xlabel(r'Time [$h$]', fontsize=15)\n",
    "plt.ylabel(r'Disolved gas [$mM$]', fontsize=15)\n",
    "plt.axis([0, t_rt, 0, 2.9])\n",
    "plt.tick_params(axis='both', which='major', labelsize=15)\n",
    "#plt.legend(['CO2','CO',\"H2\",\"N2\"],bbox_to_anchor=(0.82, 0.6))\n",
    "\n",
    "plt.subplot(2,2,3)\n",
    "plt.title(\"E\", fontdict = {'fontsize': 20}, loc = \"left\")\n",
    "plt.plot(t,z_T1[:,7])\n",
    "plt.plot(t,z_T1[:,8])\n",
    "plt.plot(t,z_T1[:,9])\n",
    "plt.plot(t,z_T1[:,10])\n",
    "plt.xlabel(r'Time [$h$]', fontsize=15)\n",
    "plt.ylabel(r'Undisolved gas [$mM$]', fontsize=15)\n",
    "plt.axis([0, t_rt, 0, 40])\n",
    "plt.tick_params(axis='both', which='major', labelsize=15)\n",
    "\n",
    "plt.subplot(2,2,2)\n",
    "plt.title(\"G\", fontdict = {'fontsize': 20}, loc = \"left\")\n",
    "plt.plot(t,z_T2[:,3])\n",
    "plt.plot(t,z_T2[:,4])\n",
    "plt.plot(t,z_T2[:,5])\n",
    "plt.plot(t,z_T2[:,6])\n",
    "plt.xlabel(r'Time [$h$]', fontsize=15)\n",
    "plt.ylabel(r'Disolved gas [$mM$]', fontsize=15)\n",
    "plt.axis([0, t_rt, 0, 2.9])\n",
    "plt.tick_params(axis='both', which='major', labelsize=15)\n",
    "plt.legend(['CO2','CO',\"H2\",\"N2\"],bbox_to_anchor=(0.82, 0.6))\n",
    "\n",
    "plt.subplot(2,2,4)\n",
    "plt.title(\"H\", fontdict = {'fontsize': 20}, loc = \"left\")\n",
    "plt.plot(t,z_T2[:,7])\n",
    "plt.plot(t,z_T2[:,8])\n",
    "plt.plot(t,z_T2[:,9])\n",
    "plt.plot(t,z_T2[:,10])\n",
    "plt.xlabel(r'Time [$h$]', fontsize=15)\n",
    "plt.ylabel(r'Undisolved gas [$mM$]', fontsize=15)\n",
    "plt.axis([0, t_rt, 0, 40])\n",
    "plt.tick_params(axis='both', which='major', labelsize=15)\n",
    "\n",
    "fig.tight_layout()\n",
    "plt.show()"
   ]
  }
 ],
 "metadata": {
  "kernelspec": {
   "display_name": "dFBACoCultivation",
   "language": "python",
   "name": "dfbacocultivation"
  },
  "language_info": {
   "codemirror_mode": {
    "name": "ipython",
    "version": 3
   },
   "file_extension": ".py",
   "mimetype": "text/x-python",
   "name": "python",
   "nbconvert_exporter": "python",
   "pygments_lexer": "ipython3",
   "version": "3.6.12"
  }
 },
 "nbformat": 4,
 "nbformat_minor": 4
}
