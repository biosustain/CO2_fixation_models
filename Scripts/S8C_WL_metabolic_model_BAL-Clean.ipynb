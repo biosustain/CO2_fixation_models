{
 "cells": [
  {
   "cell_type": "code",
   "execution_count": 1,
   "metadata": {},
   "outputs": [],
   "source": [
    "import cobra.io\n",
    "import escher\n",
    "from escher import Builder\n",
    "from cobra import Model, Reaction, Metabolite\n",
    "from os.path import join"
   ]
  },
  {
   "cell_type": "code",
   "execution_count": 2,
   "metadata": {},
   "outputs": [],
   "source": [
    "data_dir = \"/Users/phivri/Documents/GitHub/Biosustain/MoGeoModel\""
   ]
  },
  {
   "cell_type": "code",
   "execution_count": 3,
   "metadata": {},
   "outputs": [
    {
     "name": "stdout",
     "output_type": "stream",
     "text": [
      "Using license file /Users/phivri/gurobi.lic\n",
      "Academic license - for non-commercial use only - expires 2022-07-23\n"
     ]
    }
   ],
   "source": [
    "Cljung_Model = cobra.io.read_sbml_model(join(data_dir,'Models/C-ljungdahlii_iHN637.xml'))\n",
    "\n",
    "medium = Cljung_Model.medium\n",
    "medium['EX_h2_e'] = 1000\n",
    "medium['EX_h2o_e'] = 1000\n",
    "medium['EX_k_e'] = 0\n",
    "medium['EX_fru_e'] = 0\n",
    "medium['EX_mg2_e'] = 0\n",
    "medium['EX_mn2_e'] = 0\n",
    "medium['EX_na1_e'] = 0\n",
    "medium['EX_nh4_e'] = 0\n",
    "medium['EX_ni2_e'] = 0\n",
    "medium['EX_pi_e'] = 0\n",
    "medium['EX_mobd_e'] = 0\n",
    "medium['EX_zn2_e'] = 0\n",
    "medium['EX_ribflv_e'] = 0\n",
    "medium['EX_btn_e'] = 0\n",
    "medium['EX_so4_e'] = 0\n",
    "medium['EX_thm_e'] = 0\n",
    "medium['EX_ca2_e'] = 0\n",
    "medium['EX_cl_e'] = 0\n",
    "medium['EX_co2_e'] = 10\n",
    "medium['EX_cobalt2_e'] = 0\n",
    "medium['EX_cu2_e'] = 0\n",
    "medium['EX_fe2_e'] = 0\n",
    "medium['EX_fol_e'] = 0\n",
    "medium['EX_h_e'] = 1000\n",
    "Cljung_Model.medium = medium"
   ]
  },
  {
   "cell_type": "code",
   "execution_count": 4,
   "metadata": {},
   "outputs": [
    {
     "name": "stdout",
     "output_type": "stream",
     "text": [
      "{}\n",
      "(0.0, 1000.0)\n",
      "mlthf_c + nad_c --> methf_c + nadh_c\n"
     ]
    }
   ],
   "source": [
    "Cljung_Model.reactions.ATPM.bounds = 0, 1000\n",
    "\n",
    "Cljung_Model.reactions.ACt2r.knock_out()\n",
    "\n",
    "acT = Reaction(\"ACt\")\n",
    "acT.name = \"Acetate transporter\"\n",
    "acT.add_metabolites({ \n",
    "    Cljung_Model.metabolites.ac_c: -1.0,\n",
    "    Cljung_Model.metabolites.ac_e: 1.0\n",
    "})\n",
    "\n",
    "mthfd2 = Reaction(\"MTHFD2\")\n",
    "mthfd2.name = \"Methylenetetrahydrofolate dehydrogenase (NAD)\"\n",
    "\n",
    "mthfd2.add_metabolites({\n",
    "    Cljung_Model.metabolites.mlthf_c: -1.0,\n",
    "    Cljung_Model.metabolites.nad_c: -1.0,\n",
    "    Cljung_Model.metabolites.methf_c: 1.0,\n",
    "    Cljung_Model.metabolites.nadh_c: 1.0,\n",
    "})\n",
    "print(mthfd2.check_mass_balance())    #ensure correct mass balance\n",
    "print(mthfd2.bounds)                  #Ensure correct bounds\n",
    "print(mthfd2.reaction)\n",
    "\n",
    "Cljung_Model.add_reactions([acT, mthfd2])\n",
    "Cljung_Model.reactions.MTHFD2.bounds = -1000.0, 1000.0\n"
   ]
  },
  {
   "cell_type": "code",
   "execution_count": 5,
   "metadata": {},
   "outputs": [],
   "source": [
    "Cljung_Model.reactions.ACACT1r.bounds = 0,1000.0\n",
    "Cljung_Model.reactions.HACD1.bounds = 0,1000.0\n",
    "Cljung_Model.reactions.ECOAH1.bounds = 0,1000.0\n",
    "Cljung_Model.reactions.ACOAD1z.bounds = 0,1000.0\n",
    "Cljung_Model.reactions.PBUTT.bounds = 0,1000.0\n",
    "Cljung_Model.reactions.BUTKr.bounds = -1000.0,0\n",
    "Cljung_Model.reactions.BTCOARx.bounds = 0,1000.0\n",
    "Cljung_Model.reactions.ALCD4.bounds = -1000.0,0\n",
    "Cljung_Model.reactions.BTOHt.bounds = -1000.0, 1000.0\n",
    "Cljung_Model.reactions.BUTt.bounds = -1000.0, 1000.0\n",
    "Cljung_Model.reactions.HYDFDN.bounds = -1000.0, 1000.0"
   ]
  },
  {
   "cell_type": "markdown",
   "metadata": {},
   "source": [
    "# Find core reactions manually"
   ]
  },
  {
   "cell_type": "code",
   "execution_count": 6,
   "metadata": {},
   "outputs": [
    {
     "data": {
      "text/plain": [
       "Index(['EX_h2_e', 'EX_h2o_e', 'EX_co2_e', 'EX_etoh_e', 'ACKr', 'CO2t',\n",
       "       'ALCD2y', 'ACAFDOR', 'CODH_ACS', 'ETOHt', 'H2Ot', 'H2td', 'FDH7',\n",
       "       'FRNDPR2r', 'FTHFLi', 'METR', 'MTHFD', 'MTHFC', 'MTHFR5', 'PTAr',\n",
       "       'HYDFDN'],\n",
       "      dtype='object')"
      ]
     },
     "execution_count": 6,
     "metadata": {},
     "output_type": "execute_result"
    }
   ],
   "source": [
    "#Cljung_Model.objective = \"ATPM\"\n",
    "#Cljung_Model.objective = \"EX_ac_e\"\n",
    "Cljung_Model.objective = \"EX_etoh_e\"\n",
    "#Cljung_Model.objective = \"EX_but_e\"\n",
    "#Cljung_Model.objective = \"EX_btoh_e\"\n",
    "#Cljung_Model.objective = \"EX_btd_RR_e\"\n",
    "#print(Cljung_Model.slim_optimize())\n",
    "#solution = Cljung_Model.optimize()\n",
    "#Cljung_Model.pfba()\n",
    "#solution.fluxes[solution.fluxes != 0].index\n",
    "\n",
    "solution = cobra.flux_analysis.pfba(Cljung_Model)\n",
    "solution.fluxes[solution.fluxes != 0].index"
   ]
  },
  {
   "cell_type": "code",
   "execution_count": 7,
   "metadata": {},
   "outputs": [],
   "source": [
    "WLmodel = Model('Wood_Ljungdahl_Core')\n",
    "\n",
    "WLmodel.add_reactions([\n",
    "#Transport & Exchange:\n",
    "Cljung_Model.reactions.EX_h2_e,\n",
    "Cljung_Model.reactions.EX_h2o_e,\n",
    "Cljung_Model.reactions.EX_co2_e,\n",
    "Cljung_Model.reactions.EX_co_e,\n",
    "Cljung_Model.reactions.EX_pi_e,\n",
    "Cljung_Model.reactions.EX_h_e,\n",
    "Cljung_Model.reactions.EX_ac_e,\n",
    "Cljung_Model.reactions.EX_etoh_e,\n",
    "Cljung_Model.reactions.EX_btd_RR_e,\n",
    "Cljung_Model.reactions.EX_but_e,\n",
    "Cljung_Model.reactions.EX_btoh_e,\n",
    "Cljung_Model.reactions.H2td,\n",
    "Cljung_Model.reactions.H2Ot,\n",
    "Cljung_Model.reactions.CO2t,\n",
    "Cljung_Model.reactions.COt,\n",
    "Cljung_Model.reactions.ACt,\n",
    "Cljung_Model.reactions.ETOHt,\n",
    "Cljung_Model.reactions.BTDt_RR,\n",
    "Cljung_Model.reactions.BUTt,\n",
    "Cljung_Model.reactions.BTOHt,\n",
    "Cljung_Model.reactions.FDH7,\n",
    "Cljung_Model.reactions.FTHFLi,\n",
    "Cljung_Model.reactions.MTHFC,\n",
    "Cljung_Model.reactions.MTHFD2,\n",
    "Cljung_Model.reactions.MTHFR5,\n",
    "Cljung_Model.reactions.METR,\n",
    "Cljung_Model.reactions.CODH4,\n",
    "Cljung_Model.reactions.CODH_ACS,\n",
    "Cljung_Model.reactions.PTAr,\n",
    "Cljung_Model.reactions.ACKr,\n",
    "Cljung_Model.reactions.ACAFDOR,\n",
    "Cljung_Model.reactions.ALCD2x,\n",
    "\n",
    "Cljung_Model.reactions.HYDFDN,\n",
    "Cljung_Model.reactions.RNF,\n",
    "    \n",
    "Cljung_Model.reactions.POR,\n",
    "Cljung_Model.reactions.ACLS,\n",
    "Cljung_Model.reactions.ACLDC,\n",
    "Cljung_Model.reactions.BTDD_RR,\n",
    "    \n",
    "Cljung_Model.reactions.ACACT1r,\n",
    "Cljung_Model.reactions.HACD1,\n",
    "Cljung_Model.reactions.ECOAH1,\n",
    "Cljung_Model.reactions.ACOAD1z,\n",
    "Cljung_Model.reactions.BTCOARx,\n",
    "Cljung_Model.reactions.ALCD4,\n",
    "Cljung_Model.reactions.PBUTT,\n",
    "Cljung_Model.reactions.BUTKr])"
   ]
  },
  {
   "cell_type": "markdown",
   "metadata": {},
   "source": [
    "# Add Acetone Pathway"
   ]
  },
  {
   "cell_type": "code",
   "execution_count": 8,
   "metadata": {},
   "outputs": [],
   "source": [
    "WLmodelActn = WLmodel\n",
    "\n",
    "WLmodelActn.add_metabolites(Metabolite(id='acac_c',formula = 'C4H6O3', name = 'Acetoacetate', compartment = 'c' ))\n",
    "WLmodelActn.add_metabolites(Metabolite(id='act_c',formula = 'C3H6O', name = 'Acetone', compartment = 'c' ))\n",
    "WLmodelActn.add_metabolites(Metabolite(id='act_e', formula = 'C3H6O', name = 'Acetone', compartment = 'e'))"
   ]
  },
  {
   "cell_type": "code",
   "execution_count": 9,
   "metadata": {},
   "outputs": [
    {
     "name": "stdout",
     "output_type": "stream",
     "text": [
      "{}\n",
      "(0.0, 1000.0)\n",
      "aacoa_c + ac_c + h_c --> acac_c + accoa_c\n"
     ]
    }
   ],
   "source": [
    "ctfAB_ac = Reaction(\"ctfAB_ac\")\n",
    "ctfAB_ac.name = \"Acetate-acetoacetate CoA-transferase\"\n",
    "\n",
    "ctfAB_ac.add_metabolites({\n",
    "    WLmodelActn.metabolites.ac_c: -1.0,      #Acetate\n",
    "    WLmodelActn.metabolites.aacoa_c: -1.0,   #Acetoacetyl-CoA\n",
    "    WLmodelActn.metabolites.acac_c: 1.0,     #Acetoacetate\n",
    "    WLmodelActn.metabolites.accoa_c: 1.0,    #Acetyl-CoA\n",
    "    WLmodelActn.metabolites.h_c: -1.0\n",
    "})\n",
    "print(ctfAB_ac.check_mass_balance())    #ensure correct mass balance\n",
    "print(ctfAB_ac.bounds)                  #Ensure correct bounds\n",
    "print(ctfAB_ac.reaction)                #Ensure correct reaction"
   ]
  },
  {
   "cell_type": "code",
   "execution_count": 10,
   "metadata": {},
   "outputs": [
    {
     "name": "stdout",
     "output_type": "stream",
     "text": [
      "{}\n",
      "acac_c --> act_c + co2_c\n"
     ]
    }
   ],
   "source": [
    "adc = Reaction(\"ADC\")\n",
    "adc.name = \"acetoacetate decarboxylase\"\n",
    "\n",
    "adc.add_metabolites({\n",
    "    WLmodelActn.metabolites.acac_c: -1.0,     #Acetoacetate\n",
    "#    WLmodelActn.metabolites.h_c: -1.0, \n",
    "    WLmodelActn.metabolites.act_c: 1.0,\n",
    "    WLmodelActn.metabolites.co2_c: 1.0\n",
    "})\n",
    "print(adc.check_mass_balance())    #ensure correct mass balance\n",
    "print(adc.reaction)                #Ensure correct reaction"
   ]
  },
  {
   "cell_type": "code",
   "execution_count": 11,
   "metadata": {},
   "outputs": [
    {
     "data": {
      "text/html": [
       "\n",
       "        <table>\n",
       "            <tr>\n",
       "                <td><strong>Reaction identifier</strong></td><td>ACTt</td>\n",
       "            </tr><tr>\n",
       "                <td><strong>Name</strong></td><td>Acetone transporter</td>\n",
       "            </tr><tr>\n",
       "                <td><strong>Memory address</strong></td>\n",
       "                <td>0x07f89ae5d1710</td>\n",
       "            </tr><tr>\n",
       "                <td><strong>Stoichiometry</strong></td>\n",
       "                <td>\n",
       "                    <p style='text-align:right'>act_c --> act_e</p>\n",
       "                    <p style='text-align:right'>Acetone --> Acetone</p>\n",
       "                </td>\n",
       "            </tr><tr>\n",
       "                <td><strong>GPR</strong></td><td></td>\n",
       "            </tr><tr>\n",
       "                <td><strong>Lower bound</strong></td><td>0.0</td>\n",
       "            </tr><tr>\n",
       "                <td><strong>Upper bound</strong></td><td>1000.0</td>\n",
       "            </tr>\n",
       "        </table>\n",
       "        "
      ],
      "text/plain": [
       "<Reaction ACTt at 0x7f89ae5d1710>"
      ]
     },
     "execution_count": 11,
     "metadata": {},
     "output_type": "execute_result"
    }
   ],
   "source": [
    "actT = Reaction(\"ACTt\")\n",
    "actT.name = \"Acetone transporter\"\n",
    "actT.add_metabolites({ \n",
    "    WLmodelActn.metabolites.act_c: -1.0,\n",
    "    WLmodelActn.metabolites.act_e: 1.0\n",
    "})\n",
    "actT"
   ]
  },
  {
   "cell_type": "code",
   "execution_count": 12,
   "metadata": {},
   "outputs": [
    {
     "data": {
      "text/html": [
       "\n",
       "        <table>\n",
       "            <tr>\n",
       "                <td><strong>Reaction identifier</strong></td><td>EX_act_e</td>\n",
       "            </tr><tr>\n",
       "                <td><strong>Name</strong></td><td>Acetone exchange</td>\n",
       "            </tr><tr>\n",
       "                <td><strong>Memory address</strong></td>\n",
       "                <td>0x07f89ae5c4a20</td>\n",
       "            </tr><tr>\n",
       "                <td><strong>Stoichiometry</strong></td>\n",
       "                <td>\n",
       "                    <p style='text-align:right'>act_e --></p>\n",
       "                    <p style='text-align:right'>Acetone --></p>\n",
       "                </td>\n",
       "            </tr><tr>\n",
       "                <td><strong>GPR</strong></td><td></td>\n",
       "            </tr><tr>\n",
       "                <td><strong>Lower bound</strong></td><td>0.0</td>\n",
       "            </tr><tr>\n",
       "                <td><strong>Upper bound</strong></td><td>1000.0</td>\n",
       "            </tr>\n",
       "        </table>\n",
       "        "
      ],
      "text/plain": [
       "<Reaction EX_act_e at 0x7f89ae5c4a20>"
      ]
     },
     "execution_count": 12,
     "metadata": {},
     "output_type": "execute_result"
    }
   ],
   "source": [
    "act_ex = Reaction(\"EX_act_e\")\n",
    "act_ex.name = \"Acetone exchange\"\n",
    "act_ex.add_metabolites({ \n",
    "    WLmodelActn.metabolites.act_e: -1.0,\n",
    "})\n",
    "act_ex"
   ]
  },
  {
   "cell_type": "code",
   "execution_count": 13,
   "metadata": {},
   "outputs": [],
   "source": [
    "WLmodelActn.add_reactions([ctfAB_ac, adc, actT, act_ex])"
   ]
  },
  {
   "cell_type": "code",
   "execution_count": 14,
   "metadata": {},
   "outputs": [
    {
     "data": {
      "text/html": [
       "\n",
       "        <table>\n",
       "            <tr>\n",
       "                <td><strong>Reaction identifier</strong></td><td>SK_pi_c</td>\n",
       "            </tr><tr>\n",
       "                <td><strong>Name</strong></td><td>Phosphate sink</td>\n",
       "            </tr><tr>\n",
       "                <td><strong>Memory address</strong></td>\n",
       "                <td>0x07f89ae54bdd8</td>\n",
       "            </tr><tr>\n",
       "                <td><strong>Stoichiometry</strong></td>\n",
       "                <td>\n",
       "                    <p style='text-align:right'>pi_c <=></p>\n",
       "                    <p style='text-align:right'>Phosphate <=></p>\n",
       "                </td>\n",
       "            </tr><tr>\n",
       "                <td><strong>GPR</strong></td><td></td>\n",
       "            </tr><tr>\n",
       "                <td><strong>Lower bound</strong></td><td>-1000.0</td>\n",
       "            </tr><tr>\n",
       "                <td><strong>Upper bound</strong></td><td>1000.0</td>\n",
       "            </tr>\n",
       "        </table>\n",
       "        "
      ],
      "text/plain": [
       "<Reaction SK_pi_c at 0x7f89ae54bdd8>"
      ]
     },
     "execution_count": 14,
     "metadata": {},
     "output_type": "execute_result"
    }
   ],
   "source": [
    "WLmodelActn.add_boundary(WLmodelActn.metabolites.get_by_id(\"atp_c\"), type=\"sink\")\n",
    "WLmodelActn.add_boundary(WLmodelActn.metabolites.get_by_id(\"adp_c\"), type=\"sink\")\n",
    "WLmodelActn.add_boundary(WLmodelActn.metabolites.get_by_id(\"nadh_c\"), type=\"sink\")\n",
    "WLmodelActn.add_boundary(WLmodelActn.metabolites.get_by_id(\"nad_c\"), type=\"sink\")\n",
    "WLmodelActn.add_boundary(WLmodelActn.metabolites.get_by_id(\"fdxo_42_c\"), type=\"sink\")\n",
    "WLmodelActn.add_boundary(WLmodelActn.metabolites.get_by_id(\"fdxr_42_c\"), type=\"sink\")\n",
    "#WLmodelActn.add_boundary(WLmodelActn.metabolites.get_by_id(\"coa_c\"), type=\"sink\")\n",
    "WLmodelActn.add_boundary(WLmodelActn.metabolites.get_by_id(\"h_c\"), type=\"sink\")\n",
    "WLmodelActn.add_boundary(WLmodelActn.metabolites.get_by_id(\"pi_c\"), type=\"sink\")"
   ]
  },
  {
   "cell_type": "markdown",
   "metadata": {},
   "source": [
    "Use this instead:\n",
    "https://www.frontiersin.org/articles/10.3389/fbioe.2020.621166/full"
   ]
  },
  {
   "cell_type": "code",
   "execution_count": 15,
   "metadata": {},
   "outputs": [],
   "source": [
    "medium = WLmodelActn.medium\n",
    "\n",
    "medium['EX_co2_e'] = 10\n",
    "medium['EX_h2_e'] = 1000\n",
    "medium['EX_co_e'] = 0\n",
    "\n",
    "WLmodelActn.medium = medium"
   ]
  },
  {
   "cell_type": "code",
   "execution_count": 16,
   "metadata": {},
   "outputs": [],
   "source": [
    "WLmodelActn.reactions.CODH_ACS.bounds = 1,1"
   ]
  },
  {
   "cell_type": "code",
   "execution_count": 17,
   "metadata": {},
   "outputs": [
    {
     "name": "stdout",
     "output_type": "stream",
     "text": [
      "Product:  0.5\n",
      "ATP:  -1.0\n",
      "NADH:  -3.5\n",
      "Ferredoxin:  2.0\n",
      "H+:  -6.5\n"
     ]
    },
    {
     "data": {
      "text/html": [
       "<strong><em>Optimal</em> solution with objective value 0.500</strong><br><div>\n",
       "<style scoped>\n",
       "    .dataframe tbody tr th:only-of-type {\n",
       "        vertical-align: middle;\n",
       "    }\n",
       "\n",
       "    .dataframe tbody tr th {\n",
       "        vertical-align: top;\n",
       "    }\n",
       "\n",
       "    .dataframe thead th {\n",
       "        text-align: right;\n",
       "    }\n",
       "</style>\n",
       "<table border=\"1\" class=\"dataframe\">\n",
       "  <thead>\n",
       "    <tr style=\"text-align: right;\">\n",
       "      <th></th>\n",
       "      <th>fluxes</th>\n",
       "      <th>reduced_costs</th>\n",
       "    </tr>\n",
       "  </thead>\n",
       "  <tbody>\n",
       "    <tr>\n",
       "      <th>EX_h2_e</th>\n",
       "      <td>0.0</td>\n",
       "      <td>-0.0</td>\n",
       "    </tr>\n",
       "    <tr>\n",
       "      <th>EX_h2o_e</th>\n",
       "      <td>2.0</td>\n",
       "      <td>0.0</td>\n",
       "    </tr>\n",
       "    <tr>\n",
       "      <th>EX_co2_e</th>\n",
       "      <td>-2.0</td>\n",
       "      <td>-0.0</td>\n",
       "    </tr>\n",
       "    <tr>\n",
       "      <th>EX_co_e</th>\n",
       "      <td>0.0</td>\n",
       "      <td>0.0</td>\n",
       "    </tr>\n",
       "    <tr>\n",
       "      <th>EX_pi_e</th>\n",
       "      <td>0.0</td>\n",
       "      <td>0.0</td>\n",
       "    </tr>\n",
       "    <tr>\n",
       "      <th>...</th>\n",
       "      <td>...</td>\n",
       "      <td>...</td>\n",
       "    </tr>\n",
       "    <tr>\n",
       "      <th>SK_nad_c</th>\n",
       "      <td>3.5</td>\n",
       "      <td>0.0</td>\n",
       "    </tr>\n",
       "    <tr>\n",
       "      <th>SK_fdxo_42_c</th>\n",
       "      <td>2.0</td>\n",
       "      <td>0.0</td>\n",
       "    </tr>\n",
       "    <tr>\n",
       "      <th>SK_fdxr_42_c</th>\n",
       "      <td>-2.0</td>\n",
       "      <td>-0.0</td>\n",
       "    </tr>\n",
       "    <tr>\n",
       "      <th>SK_h_c</th>\n",
       "      <td>-6.5</td>\n",
       "      <td>-0.0</td>\n",
       "    </tr>\n",
       "    <tr>\n",
       "      <th>SK_pi_c</th>\n",
       "      <td>1.0</td>\n",
       "      <td>0.0</td>\n",
       "    </tr>\n",
       "  </tbody>\n",
       "</table>\n",
       "<p>58 rows × 2 columns</p>\n",
       "</div>"
      ],
      "text/plain": [
       "<Solution 0.500 at 0x7f89ae54bbe0>"
      ]
     },
     "execution_count": 17,
     "metadata": {},
     "output_type": "execute_result"
    }
   ],
   "source": [
    "WLmodelActn.objective = \"EX_ac_e\"\n",
    "WLmodelActn.objective = \"EX_etoh_e\"\n",
    "WLmodelActn.objective = \"EX_act_e\"\n",
    "WLmodelActn.objective = \"EX_but_e\"\n",
    "WLmodelActn.objective = \"EX_btoh_e\"\n",
    "WLmodelActn.objective = \"EX_btd_RR_e\"\n",
    "\n",
    "solution = WLmodelActn.optimize()\n",
    "\n",
    "print(\"Product: \",WLmodelActn.slim_optimize())\n",
    "print(\"ATP: \",WLmodelActn.reactions.SK_atp_c.flux)\n",
    "print(\"NADH: \",WLmodelActn.reactions.SK_nadh_c.flux)\n",
    "print(\"Ferredoxin: \",WLmodelActn.reactions.SK_fdxo_42_c.flux)\n",
    "print(\"H+: \",WLmodelActn.reactions.SK_h_c.flux)\n",
    "\n",
    "WLmodelActn.optimize()"
   ]
  },
  {
   "cell_type": "code",
   "execution_count": 18,
   "metadata": {},
   "outputs": [
    {
     "data": {
      "application/vnd.jupyter.widget-view+json": {
       "model_id": "c642941a30f8469d88b11c21be3016fa",
       "version_major": 2,
       "version_minor": 0
      },
      "text/plain": [
       "Builder()"
      ]
     },
     "metadata": {},
     "output_type": "display_data"
    }
   ],
   "source": [
    "Builder(model = WLmodelActn, map_json = join(data_dir,'Models/EscherMaps/WL_core_Actn_SK.json'))#, reaction_data = solution.fluxes.to_dict())"
   ]
  },
  {
   "cell_type": "code",
   "execution_count": 19,
   "metadata": {},
   "outputs": [],
   "source": [
    "cobra.io.write_sbml_model(WLmodelActn, join(data_dir, \"Models/WLmodelActn.xml\"))#, use_fbc_package=False)"
   ]
  },
  {
   "cell_type": "markdown",
   "metadata": {},
   "source": [
    "## Add synthetic Acetone pathway of LanzaTech\n",
    "https://info.ornl.gov/sites/publications/Files/Pub127156.pdf"
   ]
  },
  {
   "cell_type": "code",
   "execution_count": 20,
   "metadata": {},
   "outputs": [],
   "source": [
    "WLmodelActn2 = WLmodel\n",
    "\n",
    "WLmodelActn2.add_metabolites(Metabolite(id='acac_c',formula = 'C4H6O3', name = 'Acetoacetate', compartment = 'c' ))\n",
    "WLmodelActn2.add_metabolites(Metabolite(id='aap_c',formula = 'C4H5O6P', name = 'Acetoacetyl-P', compartment = 'c' ))\n",
    "WLmodelActn2.add_metabolites(Metabolite(id='act_c',formula = 'C3H6O', name = 'Acetone', compartment = 'c' ))\n",
    "WLmodelActn2.add_metabolites(Metabolite(id='act_e', formula = 'C3H6O', name = 'Acetone', compartment = 'e'))"
   ]
  },
  {
   "cell_type": "code",
   "execution_count": 21,
   "metadata": {},
   "outputs": [
    {
     "name": "stdout",
     "output_type": "stream",
     "text": [
      "{}\n",
      "(0.0, 1000.0)\n",
      "aacoa_c + pi_c --> aap_c + coa_c\n"
     ]
    }
   ],
   "source": [
    "ptb = Reaction(\"Ptb\")\n",
    "ptb.name = \"Phosphate butyryl transferase\"\n",
    "\n",
    "ptb.add_metabolites({\n",
    "    WLmodelActn2.metabolites.aacoa_c: -1.0,   #Acetoacetyl-CoA\n",
    "    WLmodelActn2.metabolites.pi_c: -1.0,      #Phosphate\n",
    "    WLmodelActn2.metabolites.coa_c: 1.0,      #Coenzyme A\n",
    "    WLmodelActn2.metabolites.aap_c: 1.0,      #Acetoacetyl-P\n",
    "})\n",
    "print(ptb.check_mass_balance())    #Ensure correct mass balance\n",
    "print(ptb.bounds)                  #Ensure correct bounds\n",
    "print(ptb.reaction)                #Ensure correct reaction"
   ]
  },
  {
   "cell_type": "code",
   "execution_count": 22,
   "metadata": {},
   "outputs": [
    {
     "name": "stdout",
     "output_type": "stream",
     "text": [
      "{}\n",
      "(0.0, 1000.0)\n",
      "aap_c + adp_c + h_c --> acac_c + atp_c\n"
     ]
    }
   ],
   "source": [
    "buk = Reaction(\"Buk\")\n",
    "buk.name = \"Butyrate kinase\"\n",
    "\n",
    "buk.add_metabolites({\n",
    "    WLmodelActn2.metabolites.aap_c: -1.0,     #Acetoacetyl-P\n",
    "    WLmodelActn2.metabolites.h_c: -1.0,       #hydrogen, not mentioned, required for balancing\n",
    "    WLmodelActn2.metabolites.adp_c: -1.0,     #adp\n",
    "    WLmodelActn2.metabolites.atp_c: 1.0,      #atp\n",
    "    WLmodelActn2.metabolites.acac_c: 1.0,     #Acetyl-CoA\n",
    "})\n",
    "print(buk.check_mass_balance())    #Ensure correct mass balance\n",
    "print(buk.bounds)                  #Ensure correct bounds\n",
    "print(buk.reaction)                #Ensure correct reaction"
   ]
  },
  {
   "cell_type": "code",
   "execution_count": 23,
   "metadata": {},
   "outputs": [
    {
     "name": "stderr",
     "output_type": "stream",
     "text": [
      "Ignoring reaction 'ACTt' since it already exists.\n",
      "Ignoring reaction 'EX_act_e' since it already exists.\n"
     ]
    }
   ],
   "source": [
    "actT = Reaction(\"ACTt\")\n",
    "actT.name = \"Acetone transporter\"\n",
    "actT.add_metabolites({ \n",
    "    WLmodelActn2.metabolites.act_c: -1.0,\n",
    "    WLmodelActn2.metabolites.act_e: 1.0\n",
    "})\n",
    "\n",
    "act_ex = Reaction(\"EX_act_e\")\n",
    "act_ex.name = \"Acetone exchange\"\n",
    "act_ex.add_metabolites({ \n",
    "    WLmodelActn2.metabolites.act_e: -1.0,\n",
    "})\n",
    "\n",
    "WLmodelActn2.add_reactions([ptb, buk, actT, act_ex])"
   ]
  },
  {
   "cell_type": "code",
   "execution_count": 24,
   "metadata": {},
   "outputs": [
    {
     "data": {
      "text/html": [
       "<h3>Objective</h3><p>1.0 EX_act_e = 0.5</p><h4>Uptake</h4><table border=\"1\" class=\"dataframe\">\n",
       "  <thead>\n",
       "    <tr style=\"text-align: right;\">\n",
       "      <th>Metabolite</th>\n",
       "      <th>Reaction</th>\n",
       "      <th>Flux</th>\n",
       "      <th>C-Number</th>\n",
       "      <th>C-Flux</th>\n",
       "    </tr>\n",
       "  </thead>\n",
       "  <tbody>\n",
       "    <tr>\n",
       "      <td>co2_e</td>\n",
       "      <td>EX_co2_e</td>\n",
       "      <td>1.5</td>\n",
       "      <td>1</td>\n",
       "      <td>3.09%</td>\n",
       "    </tr>\n",
       "    <tr>\n",
       "      <td>h2_e</td>\n",
       "      <td>EX_h2_e</td>\n",
       "      <td>2</td>\n",
       "      <td>0</td>\n",
       "      <td>0.00%</td>\n",
       "    </tr>\n",
       "    <tr>\n",
       "      <td>atp_c</td>\n",
       "      <td>SK_atp_c</td>\n",
       "      <td>0.5</td>\n",
       "      <td>10</td>\n",
       "      <td>10.31%</td>\n",
       "    </tr>\n",
       "    <tr>\n",
       "      <td>h_c</td>\n",
       "      <td>SK_h_c</td>\n",
       "      <td>1.5</td>\n",
       "      <td>0</td>\n",
       "      <td>0.00%</td>\n",
       "    </tr>\n",
       "    <tr>\n",
       "      <td>nadh_c</td>\n",
       "      <td>SK_nadh_c</td>\n",
       "      <td>2</td>\n",
       "      <td>21</td>\n",
       "      <td>86.60%</td>\n",
       "    </tr>\n",
       "  </tbody>\n",
       "</table><h4>Secretion</h4><table border=\"1\" class=\"dataframe\">\n",
       "  <thead>\n",
       "    <tr style=\"text-align: right;\">\n",
       "      <th>Metabolite</th>\n",
       "      <th>Reaction</th>\n",
       "      <th>Flux</th>\n",
       "      <th>C-Number</th>\n",
       "      <th>C-Flux</th>\n",
       "    </tr>\n",
       "  </thead>\n",
       "  <tbody>\n",
       "    <tr>\n",
       "      <td>act_e</td>\n",
       "      <td>EX_act_e</td>\n",
       "      <td>-0.5</td>\n",
       "      <td>3</td>\n",
       "      <td>3.09%</td>\n",
       "    </tr>\n",
       "    <tr>\n",
       "      <td>h2o_e</td>\n",
       "      <td>EX_h2o_e</td>\n",
       "      <td>-2</td>\n",
       "      <td>0</td>\n",
       "      <td>0.00%</td>\n",
       "    </tr>\n",
       "    <tr>\n",
       "      <td>adp_c</td>\n",
       "      <td>SK_adp_c</td>\n",
       "      <td>-0.5</td>\n",
       "      <td>10</td>\n",
       "      <td>10.31%</td>\n",
       "    </tr>\n",
       "    <tr>\n",
       "      <td>nad_c</td>\n",
       "      <td>SK_nad_c</td>\n",
       "      <td>-2</td>\n",
       "      <td>21</td>\n",
       "      <td>86.60%</td>\n",
       "    </tr>\n",
       "    <tr>\n",
       "      <td>pi_c</td>\n",
       "      <td>SK_pi_c</td>\n",
       "      <td>-0.5</td>\n",
       "      <td>0</td>\n",
       "      <td>0.00%</td>\n",
       "    </tr>\n",
       "  </tbody>\n",
       "</table>"
      ],
      "text/plain": [
       "<cobra.summary.model_summary.ModelSummary at 0x7f89ae5dbeb8>"
      ]
     },
     "execution_count": 24,
     "metadata": {},
     "output_type": "execute_result"
    }
   ],
   "source": [
    "WLmodelActn.objective = \"EX_act_e\"\n",
    "WLmodelActn.optimize()\n",
    "#solution = WLmodel.optimize()\n",
    "WLmodelActn.summary()"
   ]
  },
  {
   "cell_type": "code",
   "execution_count": 27,
   "metadata": {
    "scrolled": false
   },
   "outputs": [
    {
     "data": {
      "text/html": [
       "<h3>Objective</h3><p>1.0 EX_act_e = 0.5</p><h4>Uptake</h4><table border=\"1\" class=\"dataframe\">\n",
       "  <thead>\n",
       "    <tr style=\"text-align: right;\">\n",
       "      <th>Metabolite</th>\n",
       "      <th>Reaction</th>\n",
       "      <th>Flux</th>\n",
       "      <th>C-Number</th>\n",
       "      <th>C-Flux</th>\n",
       "    </tr>\n",
       "  </thead>\n",
       "  <tbody>\n",
       "    <tr>\n",
       "      <td>co2_e</td>\n",
       "      <td>EX_co2_e</td>\n",
       "      <td>1.5</td>\n",
       "      <td>1</td>\n",
       "      <td>3.09%</td>\n",
       "    </tr>\n",
       "    <tr>\n",
       "      <td>h2_e</td>\n",
       "      <td>EX_h2_e</td>\n",
       "      <td>2</td>\n",
       "      <td>0</td>\n",
       "      <td>0.00%</td>\n",
       "    </tr>\n",
       "    <tr>\n",
       "      <td>atp_c</td>\n",
       "      <td>SK_atp_c</td>\n",
       "      <td>0.5</td>\n",
       "      <td>10</td>\n",
       "      <td>10.31%</td>\n",
       "    </tr>\n",
       "    <tr>\n",
       "      <td>h_c</td>\n",
       "      <td>SK_h_c</td>\n",
       "      <td>1.5</td>\n",
       "      <td>0</td>\n",
       "      <td>0.00%</td>\n",
       "    </tr>\n",
       "    <tr>\n",
       "      <td>nadh_c</td>\n",
       "      <td>SK_nadh_c</td>\n",
       "      <td>2</td>\n",
       "      <td>21</td>\n",
       "      <td>86.60%</td>\n",
       "    </tr>\n",
       "  </tbody>\n",
       "</table><h4>Secretion</h4><table border=\"1\" class=\"dataframe\">\n",
       "  <thead>\n",
       "    <tr style=\"text-align: right;\">\n",
       "      <th>Metabolite</th>\n",
       "      <th>Reaction</th>\n",
       "      <th>Flux</th>\n",
       "      <th>C-Number</th>\n",
       "      <th>C-Flux</th>\n",
       "    </tr>\n",
       "  </thead>\n",
       "  <tbody>\n",
       "    <tr>\n",
       "      <td>act_e</td>\n",
       "      <td>EX_act_e</td>\n",
       "      <td>-0.5</td>\n",
       "      <td>3</td>\n",
       "      <td>3.09%</td>\n",
       "    </tr>\n",
       "    <tr>\n",
       "      <td>h2o_e</td>\n",
       "      <td>EX_h2o_e</td>\n",
       "      <td>-2</td>\n",
       "      <td>0</td>\n",
       "      <td>0.00%</td>\n",
       "    </tr>\n",
       "    <tr>\n",
       "      <td>adp_c</td>\n",
       "      <td>SK_adp_c</td>\n",
       "      <td>-0.5</td>\n",
       "      <td>10</td>\n",
       "      <td>10.31%</td>\n",
       "    </tr>\n",
       "    <tr>\n",
       "      <td>nad_c</td>\n",
       "      <td>SK_nad_c</td>\n",
       "      <td>-2</td>\n",
       "      <td>21</td>\n",
       "      <td>86.60%</td>\n",
       "    </tr>\n",
       "    <tr>\n",
       "      <td>pi_c</td>\n",
       "      <td>SK_pi_c</td>\n",
       "      <td>-0.5</td>\n",
       "      <td>0</td>\n",
       "      <td>0.00%</td>\n",
       "    </tr>\n",
       "  </tbody>\n",
       "</table>"
      ],
      "text/plain": [
       "<cobra.summary.model_summary.ModelSummary at 0x7f89a545ff98>"
      ]
     },
     "execution_count": 27,
     "metadata": {},
     "output_type": "execute_result"
    }
   ],
   "source": [
    "WLmodelActn2.objective = \"EX_act_e\"\n",
    "WLmodelActn2.optimize()\n",
    "solutionWLActn2 = WLmodel.optimize()\n",
    "WLmodelActn2.summary()"
   ]
  },
  {
   "cell_type": "code",
   "execution_count": 28,
   "metadata": {},
   "outputs": [
    {
     "data": {
      "application/vnd.jupyter.widget-view+json": {
       "model_id": "29037afc9da84424b6d8672cb15c5ba1",
       "version_major": 2,
       "version_minor": 0
      },
      "text/plain": [
       "Builder(reaction_data={'EX_h2_e': -2.0, 'EX_h2o_e': 2.0, 'EX_co2_e': -1.5, 'EX_co_e': 0.0, 'EX_pi_e': 0.0, 'EX…"
      ]
     },
     "metadata": {},
     "output_type": "display_data"
    }
   ],
   "source": [
    "Builder(model = WLmodelActn2, map_json = join(data_dir,'Models/EscherMaps/WL_core_Actn_SK.json'), reaction_data = solutionWLActn2.fluxes.to_dict())"
   ]
  },
  {
   "cell_type": "markdown",
   "metadata": {},
   "source": [
    "The proposed synthetic Acetone pathway is not an improvement compared to the ABE one. Emphasizes the importances of using stoichiometric models."
   ]
  }
 ],
 "metadata": {
  "kernelspec": {
   "display_name": "dFBACoCultivation",
   "language": "python",
   "name": "dfbacocultivation"
  },
  "language_info": {
   "codemirror_mode": {
    "name": "ipython",
    "version": 3
   },
   "file_extension": ".py",
   "mimetype": "text/x-python",
   "name": "python",
   "nbconvert_exporter": "python",
   "pygments_lexer": "ipython3",
   "version": "3.6.12"
  }
 },
 "nbformat": 4,
 "nbformat_minor": 4
}
