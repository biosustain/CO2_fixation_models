{
 "cells": [
  {
   "cell_type": "markdown",
   "metadata": {},
   "source": [
    "# Notebook 05: Up- and Downstream Wood Ljungdahl Metabolism\n",
    "\n",
    "This notebook is part of the research paper titled:\n",
    "\n",
    "Optimizing acetogenic CO(2) utilization through metabolic and process engineering highlights the potential of thermophilic bioproduction\n",
    "\n",
    "This notebook uses a stoichiometric constraint-based model of the Wood-Ljungdahl pathway and its products to determine the sotichiometry of the energy and redox co-factors needed or produced both up- and downstream of the core metabolite, acetyl-CoA. The model was built using the genome-scale metabolic model of Clostridium ljungdahlii as a template (notebook S05).\n",
    "\n",
    "Notebook author: Philip J. Gorter de Vries"
   ]
  },
  {
   "cell_type": "code",
   "execution_count": 10,
   "metadata": {},
   "outputs": [],
   "source": [
    "import cobra.io\n",
    "import escher\n",
    "from escher import Builder\n",
    "from cobra import Model, Reaction, Metabolite"
   ]
  },
  {
   "cell_type": "code",
   "execution_count": 11,
   "metadata": {},
   "outputs": [
    {
     "data": {
      "text/html": [
       "\n",
       "        <table>\n",
       "            <tr>\n",
       "                <td><strong>Reaction identifier</strong></td><td>SK_accoa_c</td>\n",
       "            </tr><tr>\n",
       "                <td><strong>Name</strong></td><td>Acetyl-CoA sink</td>\n",
       "            </tr><tr>\n",
       "                <td><strong>Memory address</strong></td>\n",
       "                <td>0x07f8386d2b0f0</td>\n",
       "            </tr><tr>\n",
       "                <td><strong>Stoichiometry</strong></td>\n",
       "                <td>\n",
       "                    <p style='text-align:right'>accoa_c <=></p>\n",
       "                    <p style='text-align:right'>Acetyl-CoA <=></p>\n",
       "                </td>\n",
       "            </tr><tr>\n",
       "                <td><strong>GPR</strong></td><td></td>\n",
       "            </tr><tr>\n",
       "                <td><strong>Lower bound</strong></td><td>-1000.0</td>\n",
       "            </tr><tr>\n",
       "                <td><strong>Upper bound</strong></td><td>1000.0</td>\n",
       "            </tr>\n",
       "        </table>\n",
       "        "
      ],
      "text/plain": [
       "<Reaction SK_accoa_c at 0x7f8386d2b0f0>"
      ]
     },
     "execution_count": 11,
     "metadata": {},
     "output_type": "execute_result"
    }
   ],
   "source": [
    "WLmodel = cobra.io.read_sbml_model('../Models/WLPathway_sink.xml')\n",
    "\n",
    "WLmodel.add_boundary(WLmodel.metabolites.get_by_id(\"accoa_c\"), type=\"sink\")"
   ]
  },
  {
   "cell_type": "markdown",
   "metadata": {},
   "source": [
    "# First forcus on the upstream metabolism, towards acetyl-CoA\n",
    "\n",
    "Set acetyl-CoA exchange as the objective function and change the medium for carboxydotrophic growth"
   ]
  },
  {
   "cell_type": "code",
   "execution_count": 14,
   "metadata": {},
   "outputs": [
    {
     "data": {
      "text/html": [
       "<strong><em>Optimal</em> solution with objective value 1.000</strong><br><div>\n",
       "<style scoped>\n",
       "    .dataframe tbody tr th:only-of-type {\n",
       "        vertical-align: middle;\n",
       "    }\n",
       "\n",
       "    .dataframe tbody tr th {\n",
       "        vertical-align: top;\n",
       "    }\n",
       "\n",
       "    .dataframe thead th {\n",
       "        text-align: right;\n",
       "    }\n",
       "</style>\n",
       "<table border=\"1\" class=\"dataframe\">\n",
       "  <thead>\n",
       "    <tr style=\"text-align: right;\">\n",
       "      <th></th>\n",
       "      <th>fluxes</th>\n",
       "      <th>reduced_costs</th>\n",
       "    </tr>\n",
       "  </thead>\n",
       "  <tbody>\n",
       "    <tr>\n",
       "      <th>H2td</th>\n",
       "      <td>0.0</td>\n",
       "      <td>-0.0</td>\n",
       "    </tr>\n",
       "    <tr>\n",
       "      <th>H2Ot</th>\n",
       "      <td>0.0</td>\n",
       "      <td>-0.0</td>\n",
       "    </tr>\n",
       "    <tr>\n",
       "      <th>CO2t</th>\n",
       "      <td>0.0</td>\n",
       "      <td>0.0</td>\n",
       "    </tr>\n",
       "    <tr>\n",
       "      <th>COt</th>\n",
       "      <td>-2.0</td>\n",
       "      <td>-0.0</td>\n",
       "    </tr>\n",
       "    <tr>\n",
       "      <th>ACt</th>\n",
       "      <td>0.0</td>\n",
       "      <td>0.0</td>\n",
       "    </tr>\n",
       "    <tr>\n",
       "      <th>...</th>\n",
       "      <td>...</td>\n",
       "      <td>...</td>\n",
       "    </tr>\n",
       "    <tr>\n",
       "      <th>ctfAB_ac</th>\n",
       "      <td>0.0</td>\n",
       "      <td>0.0</td>\n",
       "    </tr>\n",
       "    <tr>\n",
       "      <th>ADC</th>\n",
       "      <td>0.0</td>\n",
       "      <td>0.0</td>\n",
       "    </tr>\n",
       "    <tr>\n",
       "      <th>ACTt</th>\n",
       "      <td>0.0</td>\n",
       "      <td>0.0</td>\n",
       "    </tr>\n",
       "    <tr>\n",
       "      <th>EX_act_e</th>\n",
       "      <td>0.0</td>\n",
       "      <td>0.0</td>\n",
       "    </tr>\n",
       "    <tr>\n",
       "      <th>SK_accoa_c</th>\n",
       "      <td>1.0</td>\n",
       "      <td>0.0</td>\n",
       "    </tr>\n",
       "  </tbody>\n",
       "</table>\n",
       "<p>58 rows × 2 columns</p>\n",
       "</div>"
      ],
      "text/plain": [
       "<Solution 1.000 at 0x7f8386dd5358>"
      ]
     },
     "execution_count": 14,
     "metadata": {},
     "output_type": "execute_result"
    }
   ],
   "source": [
    "WLmodel.objective = \"SK_accoa_c\"\n",
    "\n",
    "medium_carboxydotrophic = WLmodel.medium\n",
    "medium_carboxydotrophic['EX_co2_e'] = 0\n",
    "medium_carboxydotrophic['EX_co_e'] = 2\n",
    "WLmodel.medium = medium_carboxydotrophic\n",
    "\n",
    "solution_carboxydotrophic = WLmodel.optimize()\n",
    "WLmodel.optimize()"
   ]
  },
  {
   "cell_type": "code",
   "execution_count": 16,
   "metadata": {},
   "outputs": [
    {
     "name": "stdout",
     "output_type": "stream",
     "text": [
      "Acetyl-CoA:  1.0\n",
      "ATP:  -1.0\n",
      "NADH:  -2.0\n",
      "NADPH:  -1.0\n",
      "Ferredoxin:  -1.0\n",
      "H+:  0.0\n"
     ]
    },
    {
     "data": {
      "application/vnd.jupyter.widget-view+json": {
       "model_id": "44598edf07e74ac5a3ac87df3a53b83d",
       "version_major": 2,
       "version_minor": 0
      },
      "text/plain": [
       "Builder(reaction_data={'H2td': 0.0, 'H2Ot': 0.0, 'CO2t': 0.0, 'COt': -2.0, 'ACt': 0.0, 'ETOHt': 0.0, 'BTDt_RR'…"
      ]
     },
     "metadata": {},
     "output_type": "display_data"
    }
   ],
   "source": [
    "print(\"Acetyl-CoA: \",WLmodel.slim_optimize())\n",
    "print(\"ATP: \",WLmodel.reactions.SK_atp_c.flux)\n",
    "print(\"NADH: \",WLmodel.reactions.SK_nadh_c.flux)\n",
    "print(\"NADPH: \",WLmodel.reactions.SK_nadph_c.flux)\n",
    "print(\"Ferredoxin: \",WLmodel.reactions.SK_fdxo_42_c.flux)\n",
    "print(\"H+: \",WLmodel.reactions.SK_h_c.flux)\n",
    "\n",
    "Builder(model = WLmodel, map_json = '../Models/EscherMaps/WL_Upstream.json', reaction_data = solution_carboxydotrophic.fluxes.to_dict())"
   ]
  },
  {
   "cell_type": "code",
   "execution_count": 17,
   "metadata": {},
   "outputs": [
    {
     "data": {
      "text/html": [
       "<strong><em>Optimal</em> solution with objective value 1.000</strong><br><div>\n",
       "<style scoped>\n",
       "    .dataframe tbody tr th:only-of-type {\n",
       "        vertical-align: middle;\n",
       "    }\n",
       "\n",
       "    .dataframe tbody tr th {\n",
       "        vertical-align: top;\n",
       "    }\n",
       "\n",
       "    .dataframe thead th {\n",
       "        text-align: right;\n",
       "    }\n",
       "</style>\n",
       "<table border=\"1\" class=\"dataframe\">\n",
       "  <thead>\n",
       "    <tr style=\"text-align: right;\">\n",
       "      <th></th>\n",
       "      <th>fluxes</th>\n",
       "      <th>reduced_costs</th>\n",
       "    </tr>\n",
       "  </thead>\n",
       "  <tbody>\n",
       "    <tr>\n",
       "      <th>H2td</th>\n",
       "      <td>0.0</td>\n",
       "      <td>-0.0</td>\n",
       "    </tr>\n",
       "    <tr>\n",
       "      <th>H2Ot</th>\n",
       "      <td>-2.0</td>\n",
       "      <td>-0.0</td>\n",
       "    </tr>\n",
       "    <tr>\n",
       "      <th>CO2t</th>\n",
       "      <td>2.0</td>\n",
       "      <td>0.0</td>\n",
       "    </tr>\n",
       "    <tr>\n",
       "      <th>COt</th>\n",
       "      <td>0.0</td>\n",
       "      <td>-0.0</td>\n",
       "    </tr>\n",
       "    <tr>\n",
       "      <th>ACt</th>\n",
       "      <td>0.0</td>\n",
       "      <td>0.0</td>\n",
       "    </tr>\n",
       "    <tr>\n",
       "      <th>...</th>\n",
       "      <td>...</td>\n",
       "      <td>...</td>\n",
       "    </tr>\n",
       "    <tr>\n",
       "      <th>ctfAB_ac</th>\n",
       "      <td>0.0</td>\n",
       "      <td>0.0</td>\n",
       "    </tr>\n",
       "    <tr>\n",
       "      <th>ADC</th>\n",
       "      <td>0.0</td>\n",
       "      <td>0.0</td>\n",
       "    </tr>\n",
       "    <tr>\n",
       "      <th>ACTt</th>\n",
       "      <td>0.0</td>\n",
       "      <td>0.0</td>\n",
       "    </tr>\n",
       "    <tr>\n",
       "      <th>EX_act_e</th>\n",
       "      <td>0.0</td>\n",
       "      <td>0.0</td>\n",
       "    </tr>\n",
       "    <tr>\n",
       "      <th>SK_accoa_c</th>\n",
       "      <td>1.0</td>\n",
       "      <td>0.0</td>\n",
       "    </tr>\n",
       "  </tbody>\n",
       "</table>\n",
       "<p>58 rows × 2 columns</p>\n",
       "</div>"
      ],
      "text/plain": [
       "<Solution 1.000 at 0x7f8386e7b1d0>"
      ]
     },
     "execution_count": 17,
     "metadata": {},
     "output_type": "execute_result"
    }
   ],
   "source": [
    "medium_homoacetegonic = WLmodel.medium\n",
    "medium_homoacetegonic['EX_co2_e'] = 2\n",
    "medium_homoacetegonic['EX_co_e'] = 0\n",
    "WLmodel.medium = medium_homoacetegonic\n",
    "\n",
    "solution_homoacetegonic = WLmodel.optimize()\n",
    "WLmodel.optimize()"
   ]
  },
  {
   "cell_type": "code",
   "execution_count": 19,
   "metadata": {
    "scrolled": false
   },
   "outputs": [
    {
     "name": "stdout",
     "output_type": "stream",
     "text": [
      "Acetyl-CoA:  1.0\n",
      "ATP:  -1.0\n",
      "NADH:  -2.0\n",
      "NADPH:  -1.0\n",
      "Ferredoxin:  1.0\n",
      "H+:  -4.0\n"
     ]
    },
    {
     "data": {
      "application/vnd.jupyter.widget-view+json": {
       "model_id": "a6c8ec5c7199456d828e3a8cad2fbdad",
       "version_major": 2,
       "version_minor": 0
      },
      "text/plain": [
       "Builder(reaction_data={'H2td': 0.0, 'H2Ot': -2.0, 'CO2t': 2.0, 'COt': 0.0, 'ACt': 0.0, 'ETOHt': 0.0, 'BTDt_RR'…"
      ]
     },
     "metadata": {},
     "output_type": "display_data"
    }
   ],
   "source": [
    "print(\"Acetyl-CoA: \",WLmodel.slim_optimize())\n",
    "print(\"ATP: \",WLmodel.reactions.SK_atp_c.flux)\n",
    "print(\"NADH: \",WLmodel.reactions.SK_nadh_c.flux)\n",
    "print(\"NADPH: \",WLmodel.reactions.SK_nadph_c.flux)\n",
    "print(\"Ferredoxin: \",WLmodel.reactions.SK_fdxo_42_c.flux)\n",
    "print(\"H+: \",WLmodel.reactions.SK_h_c.flux)\n",
    "\n",
    "Builder(model = WLmodel, map_json = '../Models/EscherMaps/WL_Upstream.json', reaction_data = solution_homoacetegonic.fluxes.to_dict())"
   ]
  },
  {
   "cell_type": "markdown",
   "metadata": {},
   "source": [
    "# Now forcus on the downstream metabolism, product formation from acetyl-CoA\n",
    "\n",
    "Extract data manually"
   ]
  },
  {
   "cell_type": "code",
   "execution_count": 20,
   "metadata": {},
   "outputs": [],
   "source": [
    "medium = WLmodel.medium\n",
    "\n",
    "medium['EX_co2_e'] = 1000\n",
    "medium['EX_h2_e'] = 10\n",
    "medium['EX_co_e'] = 0\n",
    "\n",
    "WLmodel.medium = medium"
   ]
  },
  {
   "cell_type": "code",
   "execution_count": 21,
   "metadata": {},
   "outputs": [
    {
     "data": {
      "text/html": [
       "\n",
       "        <table>\n",
       "            <tr>\n",
       "                <td><strong>Reaction identifier</strong></td><td>SK_accoa_c</td>\n",
       "            </tr><tr>\n",
       "                <td><strong>Name</strong></td><td>Acetyl-CoA sink</td>\n",
       "            </tr><tr>\n",
       "                <td><strong>Memory address</strong></td>\n",
       "                <td>0x07f8386d2b0f0</td>\n",
       "            </tr><tr>\n",
       "                <td><strong>Stoichiometry</strong></td>\n",
       "                <td>\n",
       "                    <p style='text-align:right'>accoa_c <=></p>\n",
       "                    <p style='text-align:right'>Acetyl-CoA <=></p>\n",
       "                </td>\n",
       "            </tr><tr>\n",
       "                <td><strong>GPR</strong></td><td></td>\n",
       "            </tr><tr>\n",
       "                <td><strong>Lower bound</strong></td><td>-1</td>\n",
       "            </tr><tr>\n",
       "                <td><strong>Upper bound</strong></td><td>1</td>\n",
       "            </tr>\n",
       "        </table>\n",
       "        "
      ],
      "text/plain": [
       "<Reaction SK_accoa_c at 0x7f8386d2b0f0>"
      ]
     },
     "execution_count": 21,
     "metadata": {},
     "output_type": "execute_result"
    }
   ],
   "source": [
    "WLmodel.reactions.CODH_ACS.bounds = 0,0 # cut off the upstream pathway\n",
    "WLmodel.reactions.SK_accoa_c.bounds = -1,1\n",
    "\n",
    "WLmodel.reactions.SK_accoa_c"
   ]
  },
  {
   "cell_type": "code",
   "execution_count": 22,
   "metadata": {},
   "outputs": [
    {
     "name": "stdout",
     "output_type": "stream",
     "text": [
      "Acetate exchange\n",
      "  Product:  1.0\n",
      "  ATP:  1.0\n",
      "  NADH:  0.0\n",
      "  NADPH:  0.0\n",
      "  Ferredoxin:  0.0\n",
      "  H+:  0.0 \n",
      "\n",
      "Ethanol exchange\n",
      "  Product:  1.0\n",
      "  ATP:  1.0\n",
      "  NADH:  -1.0\n",
      "  NADPH:  0.0\n",
      "  Ferredoxin:  1.0\n",
      "  H+:  -4.0 \n",
      "\n",
      "Acetone exchange\n",
      "  Product:  0.5\n",
      "  ATP:  0.5\n",
      "  NADH:  0.0\n",
      "  NADPH:  0.0\n",
      "  Ferredoxin:  0.0\n",
      "  H+:  -0.5 \n",
      "\n",
      "Butyrate (n-C4:0) exchange\n",
      "  Product:  0.5\n",
      "  ATP:  0.5\n",
      "  NADH:  -1.5\n",
      "  NADPH:  0.0\n",
      "  Ferredoxin:  -0.5\n",
      "  H+:  -0.5 \n",
      "\n",
      "Butanol exchange\n",
      "  Product:  0.5\n",
      "  ATP:  0.0\n",
      "  NADH:  -2.5\n",
      "  NADPH:  0.0\n",
      "  Ferredoxin:  -0.5\n",
      "  H+:  -1.5 \n",
      "\n",
      " R R  2 3 Butanediol C4H10O2 exchange\n",
      "  Product:  0.5\n",
      "  ATP:  0.0\n",
      "  NADH:  -0.5\n",
      "  NADPH:  0.0\n",
      "  Ferredoxin:  1.0\n",
      "  H+:  -2.5 \n",
      "\n"
     ]
    }
   ],
   "source": [
    "objectives = [\"EX_ac_e\",\"EX_etoh_e\",\"EX_act_e\",\"EX_but_e\",\"EX_btoh_e\",\"EX_btd_RR_e\"]\n",
    "\n",
    "for x in objectives:\n",
    "    WLmodel.objective = x\n",
    "    WLmodel.optimize()\n",
    "    print(WLmodel.reactions.get_by_id(x).name)\n",
    "    print(\"  Product: \",WLmodel.slim_optimize())\n",
    "    print(\"  ATP: \",WLmodel.reactions.SK_atp_c.flux)\n",
    "    print(\"  NADH: \",WLmodel.reactions.SK_nadh_c.flux)\n",
    "    print(\"  NADPH: \",WLmodel.reactions.SK_nadph_c.flux)\n",
    "    print(\"  Ferredoxin: \",WLmodel.reactions.SK_fdxo_42_c.flux)\n",
    "    print(\"  H+: \",WLmodel.reactions.SK_h_c.flux,\"\\n\")"
   ]
  },
  {
   "cell_type": "markdown",
   "metadata": {},
   "source": [
    "## Closer look, change x within [0:5] to view different product"
   ]
  },
  {
   "cell_type": "code",
   "execution_count": 24,
   "metadata": {},
   "outputs": [
    {
     "data": {
      "application/vnd.jupyter.widget-view+json": {
       "model_id": "97e10fc82c684a379e6d911e60edf5bb",
       "version_major": 2,
       "version_minor": 0
      },
      "text/plain": [
       "Builder(reaction_data={'H2td': 0.0, 'H2Ot': -1.0, 'CO2t': 0.0, 'COt': 0.0, 'ACt': 0.0, 'ETOHt': -1.0, 'BTDt_RR…"
      ]
     },
     "metadata": {},
     "output_type": "display_data"
    }
   ],
   "source": [
    "x = 1\n",
    "\n",
    "WLmodel.objective = objectives[x]\n",
    "\n",
    "solution = WLmodel.optimize()\n",
    "\n",
    "Builder(model = WLmodel, map_json = '../Models/EscherMaps/WL_Downstream.json', reaction_data = solution.fluxes.to_dict())"
   ]
  }
 ],
 "metadata": {
  "kernelspec": {
   "display_name": "dFBACoCultivation",
   "language": "python",
   "name": "dfbacocultivation"
  },
  "language_info": {
   "codemirror_mode": {
    "name": "ipython",
    "version": 3
   },
   "file_extension": ".py",
   "mimetype": "text/x-python",
   "name": "python",
   "nbconvert_exporter": "python",
   "pygments_lexer": "ipython3",
   "version": "3.6.12"
  }
 },
 "nbformat": 4,
 "nbformat_minor": 4
}
