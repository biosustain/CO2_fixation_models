{
 "cells": [
  {
   "cell_type": "code",
   "execution_count": 1,
   "metadata": {},
   "outputs": [],
   "source": [
    "from os.path import dirname, join, pardir\n",
    "from cobra.io import read_sbml_model\n",
    "from dfba import DfbaModel, ExchangeFlux, KineticVariable\n",
    "from dfba.plot.matplotlib import *\n",
    "from escher import Builder\n",
    "import numpy as np\n",
    "import math"
   ]
  },
  {
   "cell_type": "code",
   "execution_count": 2,
   "metadata": {},
   "outputs": [],
   "source": [
    "data_dir = \"/Users/phivri/Documents/GitHub/MoGeoModel\""
   ]
  },
  {
   "cell_type": "code",
   "execution_count": 3,
   "metadata": {},
   "outputs": [
    {
     "name": "stdout",
     "output_type": "stream",
     "text": [
      "Using license file /Users/phivri/gurobi.lic\n",
      "Academic license - for non-commercial use only - expires 2022-07-23\n"
     ]
    }
   ],
   "source": [
    "model = read_sbml_model(join(data_dir,'Models/p-thermo_acetone_anaerobic.xml'))\n",
    "\n",
    "medium = model.medium\n",
    "medium[\"EX_o2_e\"] = 1000.0\n",
    "medium[\"EX_ac_e\"] = 10.0\n",
    "medium[\"EX_glc__D_e\"] = 0.0\n",
    "model.medium = medium"
   ]
  },
  {
   "cell_type": "code",
   "execution_count": 4,
   "metadata": {},
   "outputs": [
    {
     "data": {
      "application/vnd.jupyter.widget-view+json": {
       "model_id": "0e16261b733a4d8193328adf4e187769",
       "version_major": 2,
       "version_minor": 0
      },
      "text/plain": [
       "Builder(reaction_data={'IDPh': 8.237433427614356, 'CAT': -5.141076463187653e-09, 'PDHam1hi': 0.0, 'HYDA': 0.0,…"
      ]
     },
     "metadata": {},
     "output_type": "display_data"
    }
   ],
   "source": [
    "#Desired ratio of max growth, chosen from PPP:\n",
    "ratio = 0.5\n",
    "\n",
    "XFlux = model.slim_optimize()*ratio\n",
    "\n",
    "with model:\n",
    "    model.reactions.get_by_id(\"EX_Biomass_e\").bounds = XFlux, XFlux\n",
    "    model.objective = \"EX_act_e\"\n",
    "    PFlux = model.slim_optimize()\n",
    "\n",
    "set_flux = model.problem.Constraint(\n",
    "    XFlux * model.reactions.EX_act_e.flux_expression - PFlux * model.reactions.EX_Biomass_e.flux_expression,\n",
    "    lb=0,\n",
    "    ub=0)\n",
    "model.add_cons_vars(set_flux)\n",
    "\n",
    "model.objective = \"EX_act_e\"\n",
    "\n",
    "solution = model.optimize()\n",
    "Builder(model = model, map_json = join(data_dir,'Models/AcetonePathway.json'), reaction_data = solution.fluxes.to_dict())"
   ]
  },
  {
   "cell_type": "code",
   "execution_count": 5,
   "metadata": {},
   "outputs": [],
   "source": [
    "model.solver = \"glpk\"\n",
    "dfba_model = DfbaModel(model)"
   ]
  },
  {
   "cell_type": "code",
   "execution_count": 6,
   "metadata": {},
   "outputs": [],
   "source": [
    "X = KineticVariable(\"Biomass\")#, initial_condition=C2_X_het_0)\n",
    "Actt = KineticVariable(\"Acetate\")#, initial_condition=C2_Actt_0)\n",
    "Actn = KineticVariable(\"Acetone\")#, initial_condition=C2_Actn_0)\n",
    "O2 = KineticVariable(\"Oxygen\")#, initial_condition=C2_O2_0)\n",
    "CO2 = KineticVariable(\"CarbonDioxide\")#, initial_condition=C2_CO2_0)\n",
    "\n",
    "# add kinetic variables to dfba_model\n",
    "dfba_model.add_kinetic_variables([X, Actt, Actn, O2, CO2])\n",
    "\n",
    "# instances of ExchangeFlux\n",
    "µ_het = ExchangeFlux(\"EX_Biomass_e\")\n",
    "q_het_Actt = ExchangeFlux(\"EX_ac_e\")\n",
    "q_het_Actn = ExchangeFlux(\"EX_act_e\")\n",
    "q_het_O2 = ExchangeFlux(\"EX_o2_e\")\n",
    "q_het_CO2 = ExchangeFlux(\"EX_co2_e\")\n",
    "\n",
    "dfba_model.add_initial_conditions(\n",
    "    {\n",
    "        \"Biomass\": 1,\n",
    "        \"Acetate\": 10,\n",
    "        \"Acetone\": 0,\n",
    "        \"Oxygen\": 10,\n",
    "        \"CarbonDioxide\": 0,\n",
    "    }\n",
    ")\n",
    "\n",
    "# add exchange fluxes to dfba_model\n",
    "dfba_model.add_exchange_fluxes([µ_het,q_het_Actt,q_het_Actn,q_het_O2,q_het_CO2])\n",
    "\n",
    "# add rhs expressions for kinetic variables in dfba_model\n",
    "dfba_model.add_rhs_expression(\"Biomass\", µ_het * X)\n",
    "dfba_model.add_rhs_expression(\"Acetate\", q_het_Actt * X)# 60 * X / 1000.0)\n",
    "dfba_model.add_rhs_expression(\"Acetone\", q_het_Actn * X)# * 58 * X / 1000.0)\n",
    "dfba_model.add_rhs_expression(\"Oxygen\", q_het_O2 * X + 10)# * 32 * X / 1000.0 + 10)\n",
    "dfba_model.add_rhs_expression(\"CarbonDioxide\", q_het_O2 * X)# * 44 * X / 1000.0)\n",
    "\n",
    "# add lower/upper bound expressions for exchange fluxes in dfba_model together\n",
    "# with expression that must be non-negative for correct evaluation of bounds\n",
    "dfba_model.add_exchange_flux_lb(\"EX_ac_e\", 10.5 * (Actt / (0.0027 + Actt)), Actt)\n",
    "dfba_model.add_exchange_flux_lb(\"EX_o2_e\", 15.0 * (O2 / (0.024 + O2)), O2)\n",
    "\n",
    "# simulate model across interval t = [0.0,25.0](hours) with outputs for plotting\n",
    "# every 0.1h and optional list of fluxes\n",
    "concentrations, trajectories = dfba_model.simulate(\n",
    "    0.0, 25.0, 0.1, [\"EX_Biomass_e\",\"EX_o2_e\",\"EX_co2_e\",\"EX_ac_e\", \"EX_act_e\"]#, \"EX_etoh(e)\"]\n",
    ")"
   ]
  },
  {
   "cell_type": "code",
   "execution_count": 7,
   "metadata": {},
   "outputs": [
    {
     "data": {
      "text/html": [
       "\n",
       "        <table>\n",
       "            <tr>\n",
       "                <td><strong>Reaction identifier</strong></td><td>biomass</td>\n",
       "            </tr><tr>\n",
       "                <td><strong>Name</strong></td><td>biomass</td>\n",
       "            </tr><tr>\n",
       "                <td><strong>Memory address</strong></td>\n",
       "                <td>0x07fb391cb64a8</td>\n",
       "            </tr><tr>\n",
       "                <td><strong>Stoichiometry</strong></td>\n",
       "                <td>\n",
       "                    <p style='text-align:right'>0.000357142857142857 10fthf_c + 0.000249107142857144 accoa_c + 0.000199107142857143 adocbl_c + 0.514187446428571 ala__L_c + 0.000199107142857143 amet_c + 0.119274155357143 amp_c + 0.183080357142857...</p>\n",
       "                    <p style='text-align:right'>0.000357142857142857 10-Formyltetrahydrofolate + 0.000249107142857144 Acetyl-CoA + 0.000199107142857143 Cobamide coenzyme + 0.514187446428571 L-Alanine + 0.000199107142857143 S-Adenosyl-L-...</p>\n",
       "                </td>\n",
       "            </tr><tr>\n",
       "                <td><strong>GPR</strong></td><td>RTMO05969</td>\n",
       "            </tr><tr>\n",
       "                <td><strong>Lower bound</strong></td><td>0.0</td>\n",
       "            </tr><tr>\n",
       "                <td><strong>Upper bound</strong></td><td>1000.0</td>\n",
       "            </tr>\n",
       "        </table>\n",
       "        "
      ],
      "text/plain": [
       "<Reaction biomass at 0x7fb391cb64a8>"
      ]
     },
     "execution_count": 7,
     "metadata": {},
     "output_type": "execute_result"
    }
   ],
   "source": [
    "dfba_model.reactions.biomass"
   ]
  },
  {
   "cell_type": "code",
   "execution_count": 8,
   "metadata": {},
   "outputs": [
    {
     "data": {
      "text/html": [
       "<div>\n",
       "<style scoped>\n",
       "    .dataframe tbody tr th:only-of-type {\n",
       "        vertical-align: middle;\n",
       "    }\n",
       "\n",
       "    .dataframe tbody tr th {\n",
       "        vertical-align: top;\n",
       "    }\n",
       "\n",
       "    .dataframe thead th {\n",
       "        text-align: right;\n",
       "    }\n",
       "</style>\n",
       "<table border=\"1\" class=\"dataframe\">\n",
       "  <thead>\n",
       "    <tr style=\"text-align: right;\">\n",
       "      <th></th>\n",
       "      <th>time</th>\n",
       "      <th>Acetate</th>\n",
       "      <th>Acetone</th>\n",
       "      <th>Biomass</th>\n",
       "      <th>CarbonDioxide</th>\n",
       "      <th>Oxygen</th>\n",
       "    </tr>\n",
       "  </thead>\n",
       "  <tbody>\n",
       "    <tr>\n",
       "      <th>0</th>\n",
       "      <td>0.0</td>\n",
       "      <td>10.000000</td>\n",
       "      <td>0.000000</td>\n",
       "      <td>1.000000</td>\n",
       "      <td>0.000000</td>\n",
       "      <td>10.000000</td>\n",
       "    </tr>\n",
       "    <tr>\n",
       "      <th>1</th>\n",
       "      <td>0.1</td>\n",
       "      <td>8.950567</td>\n",
       "      <td>-0.015318</td>\n",
       "      <td>0.999490</td>\n",
       "      <td>-0.080459</td>\n",
       "      <td>10.919541</td>\n",
       "    </tr>\n",
       "    <tr>\n",
       "      <th>2</th>\n",
       "      <td>0.2</td>\n",
       "      <td>7.901709</td>\n",
       "      <td>-0.030628</td>\n",
       "      <td>0.998980</td>\n",
       "      <td>-0.160878</td>\n",
       "      <td>11.839122</td>\n",
       "    </tr>\n",
       "    <tr>\n",
       "      <th>3</th>\n",
       "      <td>0.3</td>\n",
       "      <td>6.853448</td>\n",
       "      <td>-0.045931</td>\n",
       "      <td>0.998471</td>\n",
       "      <td>-0.241255</td>\n",
       "      <td>12.758745</td>\n",
       "    </tr>\n",
       "    <tr>\n",
       "      <th>4</th>\n",
       "      <td>0.4</td>\n",
       "      <td>5.805784</td>\n",
       "      <td>-0.061225</td>\n",
       "      <td>0.997961</td>\n",
       "      <td>-0.321592</td>\n",
       "      <td>13.678408</td>\n",
       "    </tr>\n",
       "    <tr>\n",
       "      <th>...</th>\n",
       "      <td>...</td>\n",
       "      <td>...</td>\n",
       "      <td>...</td>\n",
       "      <td>...</td>\n",
       "      <td>...</td>\n",
       "      <td>...</td>\n",
       "    </tr>\n",
       "    <tr>\n",
       "      <th>245</th>\n",
       "      <td>24.5</td>\n",
       "      <td>-0.002842</td>\n",
       "      <td>-3.527858</td>\n",
       "      <td>0.882537</td>\n",
       "      <td>-18.530394</td>\n",
       "      <td>236.469606</td>\n",
       "    </tr>\n",
       "    <tr>\n",
       "      <th>246</th>\n",
       "      <td>24.6</td>\n",
       "      <td>-0.002842</td>\n",
       "      <td>-3.541378</td>\n",
       "      <td>0.882087</td>\n",
       "      <td>-18.601406</td>\n",
       "      <td>237.398594</td>\n",
       "    </tr>\n",
       "    <tr>\n",
       "      <th>247</th>\n",
       "      <td>24.7</td>\n",
       "      <td>-0.002842</td>\n",
       "      <td>-3.554890</td>\n",
       "      <td>0.881637</td>\n",
       "      <td>-18.672382</td>\n",
       "      <td>238.327618</td>\n",
       "    </tr>\n",
       "    <tr>\n",
       "      <th>248</th>\n",
       "      <td>24.8</td>\n",
       "      <td>-0.002842</td>\n",
       "      <td>-3.568396</td>\n",
       "      <td>0.881187</td>\n",
       "      <td>-18.743319</td>\n",
       "      <td>239.256681</td>\n",
       "    </tr>\n",
       "    <tr>\n",
       "      <th>249</th>\n",
       "      <td>24.9</td>\n",
       "      <td>-0.002842</td>\n",
       "      <td>-3.581894</td>\n",
       "      <td>0.880738</td>\n",
       "      <td>-18.814220</td>\n",
       "      <td>240.185780</td>\n",
       "    </tr>\n",
       "  </tbody>\n",
       "</table>\n",
       "<p>250 rows × 6 columns</p>\n",
       "</div>"
      ],
      "text/plain": [
       "     time    Acetate   Acetone   Biomass  CarbonDioxide      Oxygen\n",
       "0     0.0  10.000000  0.000000  1.000000       0.000000   10.000000\n",
       "1     0.1   8.950567 -0.015318  0.999490      -0.080459   10.919541\n",
       "2     0.2   7.901709 -0.030628  0.998980      -0.160878   11.839122\n",
       "3     0.3   6.853448 -0.045931  0.998471      -0.241255   12.758745\n",
       "4     0.4   5.805784 -0.061225  0.997961      -0.321592   13.678408\n",
       "..    ...        ...       ...       ...            ...         ...\n",
       "245  24.5  -0.002842 -3.527858  0.882537     -18.530394  236.469606\n",
       "246  24.6  -0.002842 -3.541378  0.882087     -18.601406  237.398594\n",
       "247  24.7  -0.002842 -3.554890  0.881637     -18.672382  238.327618\n",
       "248  24.8  -0.002842 -3.568396  0.881187     -18.743319  239.256681\n",
       "249  24.9  -0.002842 -3.581894  0.880738     -18.814220  240.185780\n",
       "\n",
       "[250 rows x 6 columns]"
      ]
     },
     "execution_count": 8,
     "metadata": {},
     "output_type": "execute_result"
    }
   ],
   "source": [
    "concentrations"
   ]
  },
  {
   "cell_type": "code",
   "execution_count": 9,
   "metadata": {},
   "outputs": [
    {
     "data": {
      "text/html": [
       "<div>\n",
       "<style scoped>\n",
       "    .dataframe tbody tr th:only-of-type {\n",
       "        vertical-align: middle;\n",
       "    }\n",
       "\n",
       "    .dataframe tbody tr th {\n",
       "        vertical-align: top;\n",
       "    }\n",
       "\n",
       "    .dataframe thead th {\n",
       "        text-align: right;\n",
       "    }\n",
       "</style>\n",
       "<table border=\"1\" class=\"dataframe\">\n",
       "  <thead>\n",
       "    <tr style=\"text-align: right;\">\n",
       "      <th></th>\n",
       "      <th>time</th>\n",
       "      <th>EX_Biomass_e</th>\n",
       "      <th>EX_o2_e</th>\n",
       "      <th>EX_co2_e</th>\n",
       "      <th>EX_ac_e</th>\n",
       "      <th>EX_act_e</th>\n",
       "    </tr>\n",
       "  </thead>\n",
       "  <tbody>\n",
       "    <tr>\n",
       "      <th>0</th>\n",
       "      <td>0.0</td>\n",
       "      <td>0.000000</td>\n",
       "      <td>0.000000</td>\n",
       "      <td>0.000000</td>\n",
       "      <td>0.000000</td>\n",
       "      <td>0.00000</td>\n",
       "    </tr>\n",
       "    <tr>\n",
       "      <th>1</th>\n",
       "      <td>0.1</td>\n",
       "      <td>-0.005102</td>\n",
       "      <td>-0.804799</td>\n",
       "      <td>0.642874</td>\n",
       "      <td>-10.496834</td>\n",
       "      <td>-0.15322</td>\n",
       "    </tr>\n",
       "    <tr>\n",
       "      <th>2</th>\n",
       "      <td>0.2</td>\n",
       "      <td>-0.005102</td>\n",
       "      <td>-0.804799</td>\n",
       "      <td>0.642874</td>\n",
       "      <td>-10.496413</td>\n",
       "      <td>-0.15322</td>\n",
       "    </tr>\n",
       "    <tr>\n",
       "      <th>3</th>\n",
       "      <td>0.3</td>\n",
       "      <td>-0.005102</td>\n",
       "      <td>-0.804799</td>\n",
       "      <td>0.642874</td>\n",
       "      <td>-10.495865</td>\n",
       "      <td>-0.15322</td>\n",
       "    </tr>\n",
       "    <tr>\n",
       "      <th>4</th>\n",
       "      <td>0.4</td>\n",
       "      <td>-0.005102</td>\n",
       "      <td>-0.804799</td>\n",
       "      <td>0.642874</td>\n",
       "      <td>-10.495119</td>\n",
       "      <td>-0.15322</td>\n",
       "    </tr>\n",
       "    <tr>\n",
       "      <th>...</th>\n",
       "      <td>...</td>\n",
       "      <td>...</td>\n",
       "      <td>...</td>\n",
       "      <td>...</td>\n",
       "      <td>...</td>\n",
       "      <td>...</td>\n",
       "    </tr>\n",
       "    <tr>\n",
       "      <th>245</th>\n",
       "      <td>24.5</td>\n",
       "      <td>-0.005102</td>\n",
       "      <td>-0.804799</td>\n",
       "      <td>0.642874</td>\n",
       "      <td>0.000000</td>\n",
       "      <td>-0.15322</td>\n",
       "    </tr>\n",
       "    <tr>\n",
       "      <th>246</th>\n",
       "      <td>24.6</td>\n",
       "      <td>-0.005102</td>\n",
       "      <td>-0.804799</td>\n",
       "      <td>0.642874</td>\n",
       "      <td>0.000000</td>\n",
       "      <td>-0.15322</td>\n",
       "    </tr>\n",
       "    <tr>\n",
       "      <th>247</th>\n",
       "      <td>24.7</td>\n",
       "      <td>-0.005102</td>\n",
       "      <td>-0.804799</td>\n",
       "      <td>0.642874</td>\n",
       "      <td>0.000000</td>\n",
       "      <td>-0.15322</td>\n",
       "    </tr>\n",
       "    <tr>\n",
       "      <th>248</th>\n",
       "      <td>24.8</td>\n",
       "      <td>-0.005102</td>\n",
       "      <td>-0.804799</td>\n",
       "      <td>0.642874</td>\n",
       "      <td>0.000000</td>\n",
       "      <td>-0.15322</td>\n",
       "    </tr>\n",
       "    <tr>\n",
       "      <th>249</th>\n",
       "      <td>24.9</td>\n",
       "      <td>-0.005102</td>\n",
       "      <td>-0.804799</td>\n",
       "      <td>0.642874</td>\n",
       "      <td>0.000000</td>\n",
       "      <td>-0.15322</td>\n",
       "    </tr>\n",
       "  </tbody>\n",
       "</table>\n",
       "<p>250 rows × 6 columns</p>\n",
       "</div>"
      ],
      "text/plain": [
       "     time  EX_Biomass_e   EX_o2_e  EX_co2_e    EX_ac_e  EX_act_e\n",
       "0     0.0      0.000000  0.000000  0.000000   0.000000   0.00000\n",
       "1     0.1     -0.005102 -0.804799  0.642874 -10.496834  -0.15322\n",
       "2     0.2     -0.005102 -0.804799  0.642874 -10.496413  -0.15322\n",
       "3     0.3     -0.005102 -0.804799  0.642874 -10.495865  -0.15322\n",
       "4     0.4     -0.005102 -0.804799  0.642874 -10.495119  -0.15322\n",
       "..    ...           ...       ...       ...        ...       ...\n",
       "245  24.5     -0.005102 -0.804799  0.642874   0.000000  -0.15322\n",
       "246  24.6     -0.005102 -0.804799  0.642874   0.000000  -0.15322\n",
       "247  24.7     -0.005102 -0.804799  0.642874   0.000000  -0.15322\n",
       "248  24.8     -0.005102 -0.804799  0.642874   0.000000  -0.15322\n",
       "249  24.9     -0.005102 -0.804799  0.642874   0.000000  -0.15322\n",
       "\n",
       "[250 rows x 6 columns]"
      ]
     },
     "execution_count": 9,
     "metadata": {},
     "output_type": "execute_result"
    }
   ],
   "source": [
    "trajectories"
   ]
  },
  {
   "cell_type": "code",
   "execution_count": 10,
   "metadata": {},
   "outputs": [
    {
     "data": {
      "image/png": "[encoded data removed]",
      "text/plain": [
       "<Figure size 432x288 with 1 Axes>"
      ]
     },
     "metadata": {
      "needs_background": "light"
     },
     "output_type": "display_data"
    }
   ],
   "source": [
    "plot_trajectories(trajectories)"
   ]
  },
  {
   "cell_type": "code",
   "execution_count": 11,
   "metadata": {},
   "outputs": [
    {
     "name": "stdout",
     "output_type": "stream",
     "text": [
      "Object `plot_trajectories()` not found.\n"
     ]
    }
   ],
   "source": [
    "?plot_trajectories()"
   ]
  }
 ],
 "metadata": {
  "kernelspec": {
   "display_name": "dFBACoCultivation",
   "language": "python",
   "name": "dfbacocultivation"
  },
  "language_info": {
   "codemirror_mode": {
    "name": "ipython",
    "version": 3
   },
   "file_extension": ".py",
   "mimetype": "text/x-python",
   "name": "python",
   "nbconvert_exporter": "python",
   "pygments_lexer": "ipython3",
   "version": "3.6.12"
  }
 },
 "nbformat": 4,
 "nbformat_minor": 4
}
