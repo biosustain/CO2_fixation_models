{
 "cells": [
  {
   "cell_type": "code",
   "execution_count": 1,
   "metadata": {},
   "outputs": [],
   "source": [
    "from os.path import dirname, join, pardir\n",
    "from cobra.io import read_sbml_model\n",
    "from dfba import DfbaModel, ExchangeFlux, KineticVariable\n",
    "from dfba.plot.matplotlib import *\n",
    "from escher import Builder\n",
    "import numpy as np\n",
    "import math"
   ]
  },
  {
   "cell_type": "code",
   "execution_count": 2,
   "metadata": {},
   "outputs": [],
   "source": [
    "data_dir = \"/Users/phivri/Documents/GitHub/MoGeoModel\""
   ]
  },
  {
   "cell_type": "code",
   "execution_count": 3,
   "metadata": {},
   "outputs": [
    {
     "name": "stdout",
     "output_type": "stream",
     "text": [
      "Using license file /Users/phivri/gurobi.lic\n",
      "Academic license - for non-commercial use only - expires 2022-07-23\n"
     ]
    }
   ],
   "source": [
    "model = read_sbml_model(join(data_dir,'Models/p-thermo_acetone_anaerobic.xml'))\n",
    "\n",
    "medium = model.medium\n",
    "medium[\"EX_o2_e\"] = 1000.0\n",
    "medium[\"EX_ac_e\"] = 10.0\n",
    "medium[\"EX_glc__D_e\"] = 0.0\n",
    "model.medium = medium"
   ]
  },
  {
   "cell_type": "code",
   "execution_count": 11,
   "metadata": {},
   "outputs": [
    {
     "data": {
      "application/vnd.jupyter.widget-view+json": {
<<<<<<< HEAD
       "model_id": "0e16261b733a4d8193328adf4e187769",
=======
       "model_id": "ed17e5bf23444c8b876a15f2ab4fb147",
>>>>>>> parent of 80cf67d (troubleshooting done)
       "version_major": 2,
       "version_minor": 0
      },
      "text/plain": [
       "Builder(reaction_data={'IDPh': 8.237433559589485, 'CAT': -5.141076771694057e-09, 'PDHam1hi': 0.0, 'HYDA': 0.0,…"
      ]
     },
     "metadata": {},
     "output_type": "display_data"
    }
   ],
   "source": [
    "#Desired ratio of max growth, chosen from PPP:\n",
    "ratio = 0.5\n",
    "\n",
    "XFlux = model.slim_optimize()*ratio\n",
    "\n",
    "with model:\n",
    "    model.reactions.get_by_id(\"EX_Biomass_e\").bounds = XFlux, XFlux\n",
    "    model.objective = \"EX_act_e\"\n",
    "    PFlux = model.slim_optimize()\n",
    "\n",
    "set_flux = model.problem.Constraint(\n",
    "    XFlux * model.reactions.EX_act_e.flux_expression - PFlux * model.reactions.EX_Biomass_e.flux_expression,\n",
    "    lb=0,\n",
    "    ub=0)\n",
    "model.add_cons_vars(set_flux)\n",
    "\n",
    "model.objective = \"EX_act_e\"\n",
    "\n",
    "solution = model.optimize()\n",
    "Builder(model = model, map_json = join(data_dir,'Models/AcetonePathway.json'), reaction_data = solution.fluxes.to_dict())"
   ]
  },
  {
   "cell_type": "code",
   "execution_count": 4,
   "metadata": {},
   "outputs": [],
   "source": [
    "model.solver = \"glpk\"\n",
    "dfba_model = DfbaModel(model)"
   ]
  },
  {
   "cell_type": "code",
   "execution_count": 5,
   "metadata": {},
   "outputs": [],
   "source": [
    "X = KineticVariable(\"Biomass\")#, initial_condition=C2_X_het_0)\n",
    "Actt = KineticVariable(\"Acetate\")#, initial_condition=C2_Actt_0)\n",
    "Actn = KineticVariable(\"Acetone\")#, initial_condition=C2_Actn_0)\n",
    "O2 = KineticVariable(\"Oxygen\")#, initial_condition=C2_O2_0)\n",
    "CO2 = KineticVariable(\"CarbonDioxide\")#, initial_condition=C2_CO2_0)\n",
    "\n",
    "# add kinetic variables to dfba_model\n",
    "dfba_model.add_kinetic_variables([X, Actt, Actn, O2, CO2])\n",
    "\n",
    "# instances of ExchangeFlux\n",
    "µ_het = ExchangeFlux(\"EX_Biomass_e\")\n",
    "q_het_Actt = ExchangeFlux(\"EX_ac_e\")\n",
    "q_het_Actn = ExchangeFlux(\"EX_act_e\")\n",
    "q_het_O2 = ExchangeFlux(\"EX_o2_e\")\n",
    "q_het_CO2 = ExchangeFlux(\"EX_co2_e\")\n",
    "\n",
    "dfba_model.add_initial_conditions(\n",
    "    {\n",
    "        \"Biomass\": 1,\n",
    "        \"Acetate\": 10,\n",
    "        \"Acetone\": 0,\n",
    "        \"Oxygen\": 10,\n",
    "        \"CarbonDioxide\": 0,\n",
    "    }\n",
    ")\n",
    "\n",
    "# add exchange fluxes to dfba_model\n",
    "dfba_model.add_exchange_fluxes([µ_het,q_het_Actt,q_het_Actn,q_het_O2,q_het_CO2])\n",
    "\n",
    "# add rhs expressions for kinetic variables in dfba_model\n",
    "dfba_model.add_rhs_expression(\"Biomass\", µ_het * X)\n",
    "dfba_model.add_rhs_expression(\"Acetate\", q_het_Actt * X)# 60 * X / 1000.0)\n",
    "dfba_model.add_rhs_expression(\"Acetone\", q_het_Actn * X)# * 58 * X / 1000.0)\n",
    "dfba_model.add_rhs_expression(\"Oxygen\", q_het_O2 * X + 10)# * 32 * X / 1000.0 + 10)\n",
    "dfba_model.add_rhs_expression(\"CarbonDioxide\", q_het_O2 * X)# * 44 * X / 1000.0)\n",
    "\n",
    "# add lower/upper bound expressions for exchange fluxes in dfba_model together\n",
    "# with expression that must be non-negative for correct evaluation of bounds\n",
    "dfba_model.add_exchange_flux_lb(\"EX_ac_e\", 10.5 * (Actt / (0.0027 + Actt)), Actt)\n",
    "dfba_model.add_exchange_flux_lb(\"EX_o2_e\", 15.0 * (O2 / (0.024 + O2)), O2)\n",
    "\n",
    "# simulate model across interval t = [0.0,25.0](hours) with outputs for plotting\n",
    "# every 0.1h and optional list of fluxes\n",
    "concentrations, trajectories = dfba_model.simulate(\n",
    "    0.0, 25.0, 0.1, [\"EX_Biomass_e\",\"EX_o2_e\",\"EX_co2_e\",\"EX_ac_e\", \"EX_act_e\"]#, \"EX_etoh(e)\"]\n",
    ")"
   ]
  },
  {
   "cell_type": "code",
   "execution_count": 6,
   "metadata": {},
   "outputs": [
    {
     "data": {
      "text/html": [
       "\n",
       "        <table>\n",
       "            <tr>\n",
       "                <td><strong>Reaction identifier</strong></td><td>biomass</td>\n",
       "            </tr><tr>\n",
       "                <td><strong>Name</strong></td><td>biomass</td>\n",
       "            </tr><tr>\n",
       "                <td><strong>Memory address</strong></td>\n",
       "                <td>0x07fb391cb64a8</td>\n",
       "            </tr><tr>\n",
       "                <td><strong>Stoichiometry</strong></td>\n",
       "                <td>\n",
       "                    <p style='text-align:right'>0.000357142857142857 10fthf_c + 0.000249107142857144 accoa_c + 0.000199107142857143 adocbl_c + 0.514187446428571 ala__L_c + 0.000199107142857143 amet_c + 0.119274155357143 amp_c + 0.183080357142857...</p>\n",
       "                    <p style='text-align:right'>0.000357142857142857 10-Formyltetrahydrofolate + 0.000249107142857144 Acetyl-CoA + 0.000199107142857143 Cobamide coenzyme + 0.514187446428571 L-Alanine + 0.000199107142857143 S-Adenosyl-L-...</p>\n",
       "                </td>\n",
       "            </tr><tr>\n",
       "                <td><strong>GPR</strong></td><td>RTMO05969</td>\n",
       "            </tr><tr>\n",
       "                <td><strong>Lower bound</strong></td><td>0.0</td>\n",
       "            </tr><tr>\n",
       "                <td><strong>Upper bound</strong></td><td>1000.0</td>\n",
       "            </tr>\n",
       "        </table>\n",
       "        "
      ],
      "text/plain": [
       "<Reaction biomass at 0x7fb391cb64a8>"
      ]
     },
     "execution_count": 7,
     "metadata": {},
     "output_type": "execute_result"
    }
   ],
   "source": [
    "dfba_model.reactions.biomass"
   ]
  },
  {
   "cell_type": "code",
   "execution_count": 8,
   "metadata": {},
   "outputs": [
    {
     "data": {
      "text/html": [
       "<div>\n",
       "<style scoped>\n",
       "    .dataframe tbody tr th:only-of-type {\n",
       "        vertical-align: middle;\n",
       "    }\n",
       "\n",
       "    .dataframe tbody tr th {\n",
       "        vertical-align: top;\n",
       "    }\n",
       "\n",
       "    .dataframe thead th {\n",
       "        text-align: right;\n",
       "    }\n",
       "</style>\n",
       "<table border=\"1\" class=\"dataframe\">\n",
       "  <thead>\n",
       "    <tr style=\"text-align: right;\">\n",
       "      <th></th>\n",
       "      <th>time</th>\n",
       "      <th>Acetate</th>\n",
       "      <th>Acetone</th>\n",
       "      <th>Biomass</th>\n",
       "      <th>CarbonDioxide</th>\n",
       "      <th>Oxygen</th>\n",
       "    </tr>\n",
       "  </thead>\n",
       "  <tbody>\n",
       "    <tr>\n",
       "      <th>0</th>\n",
       "      <td>0.0</td>\n",
       "      <td>10.000000</td>\n",
       "      <td>0.0</td>\n",
       "      <td>1.000000</td>\n",
       "      <td>0.000000</td>\n",
       "      <td>10.000000</td>\n",
       "    </tr>\n",
       "    <tr>\n",
       "      <th>1</th>\n",
       "      <td>0.1</td>\n",
       "      <td>10.026176</td>\n",
       "      <td>0.0</td>\n",
       "      <td>0.998608</td>\n",
       "      <td>-1.495275</td>\n",
       "      <td>9.504725</td>\n",
       "    </tr>\n",
       "    <tr>\n",
       "      <th>2</th>\n",
       "      <td>0.2</td>\n",
       "      <td>10.052316</td>\n",
       "      <td>0.0</td>\n",
       "      <td>0.997219</td>\n",
       "      <td>-2.988270</td>\n",
       "      <td>9.011730</td>\n",
       "    </tr>\n",
       "    <tr>\n",
       "      <th>3</th>\n",
       "      <td>0.3</td>\n",
       "      <td>10.078420</td>\n",
       "      <td>0.0</td>\n",
       "      <td>0.995831</td>\n",
       "      <td>-4.478954</td>\n",
       "      <td>8.521046</td>\n",
       "    </tr>\n",
       "    <tr>\n",
       "      <th>4</th>\n",
       "      <td>0.4</td>\n",
       "      <td>10.104487</td>\n",
       "      <td>0.0</td>\n",
       "      <td>0.994445</td>\n",
       "      <td>-5.967324</td>\n",
       "      <td>8.032676</td>\n",
       "    </tr>\n",
       "    <tr>\n",
       "      <th>...</th>\n",
       "      <td>...</td>\n",
       "      <td>...</td>\n",
       "      <td>...</td>\n",
       "      <td>...</td>\n",
       "      <td>...</td>\n",
       "      <td>...</td>\n",
       "    </tr>\n",
       "    <tr>\n",
       "      <th>245</th>\n",
       "      <td>24.5</td>\n",
       "      <td>15.408633</td>\n",
       "      <td>0.0</td>\n",
       "      <td>0.712460</td>\n",
       "      <td>-254.679530</td>\n",
       "      <td>0.320470</td>\n",
       "    </tr>\n",
       "    <tr>\n",
       "      <th>246</th>\n",
       "      <td>24.6</td>\n",
       "      <td>15.427283</td>\n",
       "      <td>0.0</td>\n",
       "      <td>0.711469</td>\n",
       "      <td>-255.673546</td>\n",
       "      <td>0.326454</td>\n",
       "    </tr>\n",
       "    <tr>\n",
       "      <th>247</th>\n",
       "      <td>24.7</td>\n",
       "      <td>15.445907</td>\n",
       "      <td>0.0</td>\n",
       "      <td>0.710479</td>\n",
       "      <td>-256.667440</td>\n",
       "      <td>0.332560</td>\n",
       "    </tr>\n",
       "    <tr>\n",
       "      <th>248</th>\n",
       "      <td>24.8</td>\n",
       "      <td>15.464505</td>\n",
       "      <td>0.0</td>\n",
       "      <td>0.709490</td>\n",
       "      <td>-257.661213</td>\n",
       "      <td>0.338787</td>\n",
       "    </tr>\n",
       "    <tr>\n",
       "      <th>249</th>\n",
       "      <td>24.9</td>\n",
       "      <td>15.483077</td>\n",
       "      <td>0.0</td>\n",
       "      <td>0.708503</td>\n",
       "      <td>-258.654862</td>\n",
       "      <td>0.345138</td>\n",
       "    </tr>\n",
       "  </tbody>\n",
       "</table>\n",
       "<p>250 rows × 6 columns</p>\n",
       "</div>"
      ],
      "text/plain": [
       "     time    Acetate  Acetone   Biomass  CarbonDioxide     Oxygen\n",
       "0     0.0  10.000000      0.0  1.000000       0.000000  10.000000\n",
       "1     0.1  10.026176      0.0  0.998608      -1.495275   9.504725\n",
       "2     0.2  10.052316      0.0  0.997219      -2.988270   9.011730\n",
       "3     0.3  10.078420      0.0  0.995831      -4.478954   8.521046\n",
       "4     0.4  10.104487      0.0  0.994445      -5.967324   8.032676\n",
       "..    ...        ...      ...       ...            ...        ...\n",
       "245  24.5  15.408633      0.0  0.712460    -254.679530   0.320470\n",
       "246  24.6  15.427283      0.0  0.711469    -255.673546   0.326454\n",
       "247  24.7  15.445907      0.0  0.710479    -256.667440   0.332560\n",
       "248  24.8  15.464505      0.0  0.709490    -257.661213   0.338787\n",
       "249  24.9  15.483077      0.0  0.708503    -258.654862   0.345138\n",
       "\n",
       "[250 rows x 6 columns]"
      ]
     },
<<<<<<< HEAD
     "execution_count": 8,
=======
     "execution_count": 6,
>>>>>>> parent of 80cf67d (troubleshooting done)
     "metadata": {},
     "output_type": "execute_result"
    }
   ],
   "source": [
    "concentrations"
   ]
  },
  {
   "cell_type": "code",
<<<<<<< HEAD
   "execution_count": 9,
=======
   "execution_count": 7,
>>>>>>> parent of 80cf67d (troubleshooting done)
   "metadata": {},
   "outputs": [
    {
     "data": {
      "text/html": [
       "<div>\n",
       "<style scoped>\n",
       "    .dataframe tbody tr th:only-of-type {\n",
       "        vertical-align: middle;\n",
       "    }\n",
       "\n",
       "    .dataframe tbody tr th {\n",
       "        vertical-align: top;\n",
       "    }\n",
       "\n",
       "    .dataframe thead th {\n",
       "        text-align: right;\n",
       "    }\n",
       "</style>\n",
       "<table border=\"1\" class=\"dataframe\">\n",
       "  <thead>\n",
       "    <tr style=\"text-align: right;\">\n",
       "      <th></th>\n",
       "      <th>time</th>\n",
       "      <th>EX_Biomass_e</th>\n",
       "      <th>EX_o2_e</th>\n",
       "      <th>EX_co2_e</th>\n",
       "      <th>EX_ac_e</th>\n",
       "      <th>EX_act_e</th>\n",
       "    </tr>\n",
       "  </thead>\n",
       "  <tbody>\n",
       "    <tr>\n",
       "      <th>0</th>\n",
       "      <td>0.0</td>\n",
       "      <td>0.000000</td>\n",
       "      <td>0.000000</td>\n",
       "      <td>0.000000</td>\n",
       "      <td>0.000000</td>\n",
       "      <td>0.0</td>\n",
       "    </tr>\n",
       "    <tr>\n",
       "      <th>1</th>\n",
       "      <td>0.1</td>\n",
       "      <td>-0.013926</td>\n",
       "      <td>-14.962219</td>\n",
       "      <td>-0.023764</td>\n",
       "      <td>0.261945</td>\n",
       "      <td>0.0</td>\n",
       "    </tr>\n",
       "    <tr>\n",
       "      <th>2</th>\n",
       "      <td>0.2</td>\n",
       "      <td>-0.013926</td>\n",
       "      <td>-14.960158</td>\n",
       "      <td>-0.023764</td>\n",
       "      <td>0.261945</td>\n",
       "      <td>0.0</td>\n",
       "    </tr>\n",
       "    <tr>\n",
       "      <th>3</th>\n",
       "      <td>0.3</td>\n",
       "      <td>-0.013926</td>\n",
       "      <td>-14.957870</td>\n",
       "      <td>-0.023764</td>\n",
       "      <td>0.261945</td>\n",
       "      <td>0.0</td>\n",
       "    </tr>\n",
       "    <tr>\n",
       "      <th>4</th>\n",
       "      <td>0.4</td>\n",
       "      <td>-0.013926</td>\n",
       "      <td>-14.955317</td>\n",
       "      <td>-0.023764</td>\n",
       "      <td>0.261945</td>\n",
       "      <td>0.0</td>\n",
       "    </tr>\n",
       "    <tr>\n",
       "      <th>...</th>\n",
       "      <td>...</td>\n",
       "      <td>...</td>\n",
       "      <td>...</td>\n",
       "      <td>...</td>\n",
       "      <td>...</td>\n",
       "      <td>...</td>\n",
       "    </tr>\n",
       "    <tr>\n",
       "      <th>245</th>\n",
       "      <td>24.5</td>\n",
       "      <td>-0.013926</td>\n",
       "      <td>-13.954916</td>\n",
       "      <td>-0.023764</td>\n",
       "      <td>0.261945</td>\n",
       "      <td>0.0</td>\n",
       "    </tr>\n",
       "    <tr>\n",
       "      <th>246</th>\n",
       "      <td>24.6</td>\n",
       "      <td>-0.013926</td>\n",
       "      <td>-13.972761</td>\n",
       "      <td>-0.023764</td>\n",
       "      <td>0.261945</td>\n",
       "      <td>0.0</td>\n",
       "    </tr>\n",
       "    <tr>\n",
       "      <th>247</th>\n",
       "      <td>24.7</td>\n",
       "      <td>-0.013926</td>\n",
       "      <td>-13.990351</td>\n",
       "      <td>-0.023764</td>\n",
       "      <td>0.261945</td>\n",
       "      <td>0.0</td>\n",
       "    </tr>\n",
       "    <tr>\n",
       "      <th>248</th>\n",
       "      <td>24.8</td>\n",
       "      <td>-0.013926</td>\n",
       "      <td>-14.007682</td>\n",
       "      <td>-0.023764</td>\n",
       "      <td>0.261945</td>\n",
       "      <td>0.0</td>\n",
       "    </tr>\n",
       "    <tr>\n",
       "      <th>249</th>\n",
       "      <td>24.9</td>\n",
       "      <td>-0.013926</td>\n",
       "      <td>-14.024754</td>\n",
       "      <td>-0.023764</td>\n",
       "      <td>0.261945</td>\n",
       "      <td>0.0</td>\n",
       "    </tr>\n",
       "  </tbody>\n",
       "</table>\n",
       "<p>250 rows × 6 columns</p>\n",
       "</div>"
      ],
      "text/plain": [
       "     time  EX_Biomass_e    EX_o2_e  EX_co2_e   EX_ac_e  EX_act_e\n",
       "0     0.0      0.000000   0.000000  0.000000  0.000000       0.0\n",
       "1     0.1     -0.013926 -14.962219 -0.023764  0.261945       0.0\n",
       "2     0.2     -0.013926 -14.960158 -0.023764  0.261945       0.0\n",
       "3     0.3     -0.013926 -14.957870 -0.023764  0.261945       0.0\n",
       "4     0.4     -0.013926 -14.955317 -0.023764  0.261945       0.0\n",
       "..    ...           ...        ...       ...       ...       ...\n",
       "245  24.5     -0.013926 -13.954916 -0.023764  0.261945       0.0\n",
       "246  24.6     -0.013926 -13.972761 -0.023764  0.261945       0.0\n",
       "247  24.7     -0.013926 -13.990351 -0.023764  0.261945       0.0\n",
       "248  24.8     -0.013926 -14.007682 -0.023764  0.261945       0.0\n",
       "249  24.9     -0.013926 -14.024754 -0.023764  0.261945       0.0\n",
       "\n",
       "[250 rows x 6 columns]"
      ]
     },
<<<<<<< HEAD
     "execution_count": 9,
=======
     "execution_count": 7,
>>>>>>> parent of 80cf67d (troubleshooting done)
     "metadata": {},
     "output_type": "execute_result"
    }
   ],
   "source": [
    "trajectories"
   ]
  },
  {
   "cell_type": "code",
<<<<<<< HEAD
   "execution_count": 10,
=======
   "execution_count": 8,
>>>>>>> parent of 80cf67d (troubleshooting done)
   "metadata": {},
   "outputs": [
    {
     "data": {
      "image/png": "iVBORw0KGgoAAAANSUhEUgAAAbgAAAEKCAYAAABgyEDNAAAAOXRFWHRTb2Z0d2FyZQBNYXRwbG90bGliIHZlcnNpb24zLjMuMiwgaHR0cHM6Ly9tYXRwbG90bGliLm9yZy8vihELAAAACXBIWXMAAAsTAAALEwEAmpwYAAAwBUlEQVR4nO3dd3zV5fn/8dd1EvaSvUNAiGEXiIA4ABEUW7WKW7scaP3a2qqtP4vb2kq/4sBVkVJH9SuKs1qLE6iiIKBCgIhSUIYs2StkXL8/zkk8xAQyPuGcfHw/feRBzrrPlfOAvL3H577N3REREQmbSKILEBERqQ4KOBERCSUFnIiIhJICTkREQkkBJyIioaSAExGRUEpNdAHVrUWLFp6enp7oMkSkmsyfP3+Tu7dMdB2SfEIfcOnp6cybNy/RZYhINTGzLxNdgyQnDVGKiEgoKeBERCSUFHAiIhJKCjgREQklBZyIiISSAk5EREIp9JcJVIQ7LPkYcvcmuhKR77fMPlC/YaKrkJquRgacmZ0E3AekAJPd/c4g2l36Kdx3cxAtiUhV3DhRASdVV+MCzsxSgAeBkcBq4CMze8Xdl1S17SULIDUVrvtfSEmpamsiUlmt2iW6AgmDGhdwwEDgC3f/L4CZPQOcBlQ94D5xunQ3OnWtaksiIpJoNTHg2gOr4m6vBgZVtdGPvlxEr1nTaZH6CXPe21PV5kSkkja0b0v/u6+lfdv0RJciNVxNDDgr5T7f7wlmY4GxAGlpaeVqdM8+Z0ebTTTckcIea1TlIkWkclZHWnFEfmn/zEUqpiYG3GqgY9ztDsDa+Ce4+yRgEkBWVtZ+4VeWw7s14rf/Hs/N/J1T+XlApYqISKLUxOvgPgK6mVlnM6sNnAu8UtVGrbhjWK48FBGRJFfjenDunm9mVwLTiV4mMMXdF1e13aKAcwWciEgo1LiAA3D3fwH/CrJNi3VmFXAiIuFQE4coq0VRD66QwgRXIiIiQVDAxWgOTkQkXBRwMZqDExEJFwVcMQWciEiYKOBiIlpkIiISKgq4mG+HKLXIREQkDBRwMZqDExEJFwVcMQWciEiYKOBi1IMTEQkXBVyMFpmIiISLAi5Gi0xERMJFAVdMQ5QiImGigIvRHJyISLgo4GIUcCIi4aKAi9FmyyIi4aKAi9F5cCIi4aKAi9F5cCIi4VKjAs7M/tfMcsxsoZm9aGaHBda25uBEREKlRgUc8CbQy937AMuA64NqWHNwIiLhUqMCzt3fcPf82M0PgQ5Bta0enIhIuNSogCvhIuD1oBrTIhMRkXBJTXQBJZnZW0CbUh4a5+4vx54zDsgHniqjjbHAWIC0tLTyva8WmYiIhErSBZy7n3Cgx83sZ8CPgBHuXmp3y90nAZMAsrKyytUl0xyciEi4JF3AHYiZnQRcBwx1992Btq05OBGRUKlpc3APAI2AN83sEzP7a1ANK+BERMKlRvXg3L1rdbZvmAJORCQkaloPrlpFA06LTEREwkABF0c9OBGR8FDA7UcBJyISFgq4OOrBiYiEhwIuToSIAk5EJCQUcHG0yEREJDwUcPvREKWISFgo4OJoDk5EJDwUcHEUcCIi4aGAixMhgjZbFhEJBwXcfkzH5YiIhIQCLo6GKEVEwkMBF0cBJyISHgq4ONEjcxRwIiJhoICLY9rJREQkNBRwcUyLTEREQkMBF0dzcCIi4VEjA87MrjUzN7MWgbarOTgRkdBIPdgTzOy3wHGU/zd/trvfVKWqDlxPR2Ak8FXgbasHJyISGgcNOOATd7+nvA2a2XFVqKc87gF+D7wcdMNaZCIiEh4HHaJ093cr0qC7z6p8OQdmZqcCa9z902ppX4tMRERCozw9uP2Y2XXuPr46iom1/xbQppSHxgF/AEaVo42xwFiAtLS08r+35uBEREKjPHNwz8bfBH4AVFvAufsJZdTRG+gMfGpmAB2ABWY20N3XlWhjEjAJICsrq9yJpTk4EZHwKE8Pbru7X1J0w8wersZ6yuTui4BWcXWsBLLcfVNw76KAExEJi/JcJnBHidvjqqOQZKAenIhIeJRnkckKgKJrztx9c3UXVR7unh5s7y16HpwCTkQkHCpyofeUaqsiSUR7cFpFKSISBhUJOKu2KpKGhihFRMKiIgEX+t/8moMTEQkP9eDiKOBERMKjIgF3fbVVkSQiRPgedFRFRL4Xyr2TibtnA5hZHWAMkB7/ene/LejiDj1t1SUiEhYV3qqL6CbH24D5QG6w5SSWhihFRMKjMgHXwd1PCrySJKCAExEJj8oceDo7ti9k6GizZRGR8Ch3D87MFhH97Z8K/MLM/kt0iNIAd/c+1VPioaPz4EREwqMiQ5Q/qrYqkoTOgxMRCY+KrKL8sjoLSQaagxMRCY/KzMGFlubgRETCo8oBZ2YTzOyHZtYoiIISST04EZHwqMxlAiVNBI4H7jOzJsBn7v6HANo95LTIREQOZP78+a1SU1MnA73QCFgyKwSyKxxwZnadu4+Pu2sVsBRoHfuqF0x9h54WmYjIgaSmpk5u06ZN95YtW26JRCL6v+EkVVhYaBs3buxx0IAzs2fjbwI/AOIDbg3wHHCnu68NtMpDTHNwInIQvRRuyS8SiXjLli23lacHt93dLym6YWYPl3j8CGAocKWZ1QO+cfc/BljrfszsV8CVQD7wmrv/PrC2NQcnIgcWUbjVDJFIxMsTcHeUuD2uZDuxr3pEN2CuX/XSSmdmw4HTgD7unmtmrQJ+BwWciEhIHDTg3H0FgJm1cPdN7r65xFPuBWYA97j7V4FXuL9fEh0KzY3VtiHIxiNaZCIiEhoVWQU0pYz7bwWGA382s7+bWaeql1WmDOBYM5tjZjPN7MggG48OUWqRiYgkr5SUlAGZmZk9ir7+8Ic/tMnPz6dnz57dX3/99YZFzzv66KO7TZkypWlZ7bRv3753RkZGj8zMzB4ZGRk9/vGPfxxW9Fi/fv0yq/nHOCQqsoqyrBO9xwG/dffNZtYc+AtwcWULMrO3gDZlvE8q0BQYDBwJPGtmXdx9v26XmY0FxgKkpaWV/701RCkiSa5OnTqFOTk5S0ref//99391+eWXdzr++OOXPvbYY03NjIsuumjLgdqaOXPmsrZt2+Z/+umndUaPHp1x4YUXbgX4+OOPc6qp/EOqIgFX1m/+HUXDlu7+jZltr0pB7n5CWY+Z2S+BF2KBNtfMCoEWwMYSbUwCJgFkZWVVILEUcCJSTi9d1JEN2cGuOWjVazc/nrKqMi89/vjjd2VlZe269tpr273wwgvNpk+fvqy8r926dWtK48aNC4pu169fv9/u3bs/Liws5Je//GWHd955p4mZ+e9+97uvL7300i2vvvpqo1tvvbVdy5Yt85YsWVL/5JNP3tK7d+89Dz30UOvc3Fx78cUXl/fs2TP36aefbnLnnXe2zcvLizRt2jR/6tSp/+3YsWP+a6+91vCaa65JAzAzZs+enbN9+/aUMWPGdNm5c2dKQUGB3X///V+edNJJO0ur94UXXmh82223tdu3b5916tQp95lnnlnZpEmT7wy/BdGD62pmJ8c95/AKtFlRLxG9qHyGmWUAtYFNQTWuHpyIJLvc3NxIZmZmj6Lb11xzzdeXXnrpFoB77rlndXp6ep9LLrlkQ69evQ56IPXQoUMz3N1Wr15de8qUKf8t+fgTTzxx2KJFi+otXbp08ddff506cODA7qNGjdoJkJOTU2/atGn/bdWqVX6nTp1616lTZ9OiRYuW3n777a0mTJjQasqUKatGjhy589xzz82JRCLcfffdLW677bY2jz766OoJEya0mThx4pejRo3atW3btkj9+vUL77333pYjRozYNn78+HX5+fns2LGj1Cm0r7/+OvVPf/pT21mzZi1r3Lhx4bhx49rcfvvtre+6666vSz63IgF3fRn3TwNaxt1+vgJtVtQUYIqZZQP7gJ+VHJ6sCi0yEZFyq2RPq6rKGqIEeOONNxo1atSoYMmSJXXL01bREOXixYvrjBo1KuPkk09eHN8T+s9//tPo7LPP3pyamkrHjh3zBw0atPO9996r36RJk8LevXvv6tSpUx5AWlpa7ujRo7cB9O3bd8/MmTMbAaxYsaL2j3/84w4bN26stW/fvkjHjh1zAQYPHrzz2muv7Xj22WdvPu+887YcfvjhhYMHD9512WWXpefl5UXOPPPMLUOGDNlTWs0zZsxosHz58roDBw7MBMjLy7MBAwaU2tMr9yITd88u4/7HS36Vt82Kcvd97n6hu/dy9/7u/k6Q7WuRiYjUVNu3b4/ceOONHaZPn75s8+bNtaZOndqkvK/t2bNnbvPmzfMWLFiwXzAeqP9Qp06d4gcjkQh169b1ou8LCgoM4Morr0y74oorNixbtmzJAw888GVubm4E4E9/+tO6yZMnf7lnz57IkCFDun/88cd1R48evXPWrFmftW/fft/Pf/7zzg888EDz0t7X3TnmmGO25+TkLMnJyVmyfPnyxc8++2ypp91UeC81M7u6lK+LzewHFW0r+WiIUkRqpuuuu67tqaeeurlfv357H3zwwS+vu+66jrt37y5ramk/a9asSV29enWdrl277ou/f+jQoTumTZvWLD8/n7Vr16bOnTu34bHHHrurvDXt2LEjJS0tLQ/gscceKw6sxYsX1xk4cOCeO+64Y13v3r13ZWdn1122bFnt9u3b511zzTWbLrzwwk0LFiwodX5z2LBhu+bNm9cwOzu7Tuw9IgsXLqxT2nMrs9lyVuzrn7HbPwQ+Ai43s+fc/S+VaDMpaA5ORJJdyTm4448/ftvFF1/8zeuvv940Ozt7McCQIUP2DBs2bNuNN97YZsKECd+ZmyoydOjQjEgkQn5+vt10002rO3bsmB//+E9+8pOts2fPbti9e/eeZua33nrr6rS0tPyFCxeWq9Zx48atPe+88w5v3br1vqysrF1fffVVHYC//OUvrWbPnt04Eol4RkbGnjPPPHPb5MmTm02cOLFNamqq169fv+Cpp55aUVqb7dq1y3/kkUdWnnvuuV327dtnADfffPOaPn36fGfO0So6hWVm04Ex7r4zdrsh0Xm404H57t7jQK8/1LKysnzevHnleu7ljGAfuUzhvWquSkSCYmbz3T3rULzXp59+urJv376BLWyT6lWZ4x7SiC7wKJIHdHL3PcBBV+0kswgRtNmyiEg4VGaI8mngQzN7OXb7FOD/zKwBUOrKnppDx+WISLj06dMnc9++fft1Zp544okVAwcOLHWVYjKpau0VDjh3v93M/gUcQ/S6t8vdvWgM8IKKtpdMNAcnImGzcOHCGrsrSVVrr9SJ3u4+H5hflTdORgo4EZHw0JHrcXTgqYhIeJS7B2dmO/j2t3/Jayvc3RsHVlWCmHYyEREJjXIHnLs3qs5CkoGGKEVEwqNSQ5Rm1tfMrox99Qm6qEQxraIUkSQX1HlwpdmxY0dk2LBhXTt37tyza9euPa+44or2wf8Eh06FF5mY2VXApcALsbueMrNJ7n5/oJUlgObgRCTZBXkeXGmuueaa9aeccsqOvXv32tFHH53x7LPPNj777LOrdAxaolRmFeXFwCB33wVgZuOBD4BQBJyGKEWkPG7loo7LCfY8uMPptftmDs15cI888kizCRMmtHF3O+GEE7Y+/PDDaxo1alR4yimn7ACoW7eu9+nTZ/eqVatql9XG2rVrU3/xi190WrNmTW2Au++++6tRo0aVe6/K6laZIUoDCuJuF1D2WXE1jAJORJJb0V6URV+PPvpo8TDkPffcs3ry5MmtzjjjjM0HOg9u5cqVtW655Zb2M2bMWLZkyZLFH3/8cYMnn3zysPjnbNq0KeXNN988bPTo0WX23i677LKOV1999frs7OylL7744vLLL788PYifMSiV6cH9HZhjZi/Gbv8Y+FtgFSWQzoMTkfKqbE+rqoI4D+69995rMHjw4B3t2rXLBzjnnHM2z5w5s+FPfvKTrQB5eXmcccYZXcaOHbu+R48e+8pq5/3332/8+eef1yu6vXPnzpQtW7ZEmjZtmhSLGSrcg3P3u4GLgM3AFuAX7n5vwHUlhM6DE5GaqiLnwR1sk/3zzz8/vUuXLntvuummDQd6nrszb968pUVns23YsGFhsoQbVHIVpbvPd/eJ7n6fu38cdFGJojk4EampKnIe3HHHHbdrzpw5jb7++uvU/Px8nnvuuWbDhg3bCfDrX/+63fbt21P+9re/HbSHeswxx2wfP358q6Lbs2fPrneg5x9qlVlFmQWMAzrFXm9EL/Su9ssFYoeq/hWoC+QDV7j73ADfQQEnIkktiPPgOnXqlHfTTTetGTp0aIa724gRI7ZdeOGFW5cvX17r/vvvb9u5c+e9PXv27AEwduzYDVdffXWpRwRNmjRp1SWXXJKWkZHRo6CgwAYNGrRjyJAhX1XXz15RlTkP7jPgd8Ai+HY8z91LPTI8SGb2BnCPu79uZicDv3f3YQd6TUXOg7uOs/mCRTzP0qoXKyKHhM6Dk7JUZpHJRnd/JfBKyseBoi3BmgBrg2xci0xERMKjMgF3s5lNBt4m7oBTd3+h7JcE5jfAdDO7i+j84ZAgG9ciExEJmyDOg7vuuuvavPzyy83i7zvttNM2jx8/fl1QdVaHygTcL4BMoBbfDlE63+5sUiVm9hbQppSHxgEjgN+6+/NmdjbRyxNOKKWNscBYgLS0tIq8u3pwIhIqQZwHN378+HXJHmalqUzA9XX33oFXEuPu3wmsImb2BHBV7OZzwOQy2pgETILoHFx531urKEVEwqMylwl8aGY9Dv60arEWGBr7/njg8yAbV8CJiIRHZXpwxwA/M7MVROfgDtllAkQ3eb7PzFKBvcSGIYMSIYI2WxYRCYfKBNxJgVdRTu7+HjCg+t5Bx+WIiIRFZbbq+rK0r+oo7lDTEKWIJLvqPA+uLA8//HCzjIyMHhkZGT369euX+cEHHyTVjiVlqVE7mVQ3BZyIJLvqPg+uNF27ds19//33P2vZsmXBs88+2/iyyy7rFMTqzOpWmSHKpyhlJ5Mw0IGnIlJeV39Cx5wdBHoeXGYjdt/9Aw7JeXDTpk1rfNNNN7UvKCiwZs2a5X/wwQfL1q9fn3LBBRekf/XVV3Xq1atXOGnSpC8HDRq0Z+TIkcVnvA0fPnzXlVdeWeYZcQAPPfRQs4cffrh1Xl6e9e/ff9cTTzzxZWpqZeKmaiqzinKju7/i7ivCN0SpnUxEJLkFcR7c2rVrU6+88sr0F154Yflnn3225KWXXloO8Pvf/75d3759dy9btmzJ7bffvuZnP/tZ55Kvvf/++1sMHz58W1ltL1iwoO60adOazZs3LycnJ2dJJBLxv/71r82r+nNXRk3byaRamRaZiEg5VbanVVVBnAc3Y8aMBgMHDtyRmZm5D6B169YFAHPnzm30/PPPfwFw6qmn7hg7dmzqN998k9K8efMCgH/+85+N/vGPf7SYPXt2mcOT//73vxtlZ2fX79u3b3eAvXv3Rlq1apVfuZ+2apJuJ5NE0hyciNRU8efBXXTRRelTp05tcs4555Ta03J3zL57kk5pm++bmQPMmTOn3hVXXNHptdde+7xNmzYFZdXh7nbWWWd98+CDD66p/E8TjMoMUfZ19yx3/5m7/yL2dVHglSWA5uBEpKaqyHlww4cP3zVnzpxGOTk5tQHWr1+fAjB48OAdf//735sDvPrqq42aNm2a36xZs8LPP/+89llnnXX4lClTVvTp06fMoU+Ak046afurr77adM2aNalFbS9btuyAc3bVpTI9uA/NrIe7l9pFrsnUgxORZBfEeXDt2rXLnzhx4srTTz+9a2FhIc2bN8+bPXv25+PHj197/vnnp2dkZPSoV69e4WOPPbYC4IYbbmi7devW1F/96ledAFJTUz07O7vUc8UGDBiw94YbblgzYsSIjMLCQmrVquUTJ078KiMjY1/1fCJlq8x5cEuBw4FE7GRSYRU5D+7PXMHbTOMtDnhKu4gkEZ0HJ2WpUTuZVDctMhERCY+DBpyZ9XH3hUW3D3ZJgJn1cvfsIIo71DQHJyJhE8R5cKVZt25dyrBhw44oef+MGTM+O9AilEOpPD24o8ysIr22PKDGBpzm4EQkTKprx5E2bdoUlHW5QrIoT8D9C6jIqaE17lC8byngRETC4qAB5+6rIDEXNB5qEe1kIiISGpW5Di60okOUWmQiIhIGCrg4moMTEQkPBdx+FHAiktwScR5cTVWZ8+C+s4uJmQ1z9xlBFGRmZwG3AN2Bge4+L+6x64GLgQLg1+4+PYj3LG5fASciSS4R58HVVJW50PtZM3sS+AtQN/ZnFnBUQDVlA2cAj8TfaWY9gHOBnkA74C0zy3D3wK630CITESmvx+6j49ovgz0Prl0ndv/8qkNzHtwFF1yQ9umnnzbYu3dv5JRTTtlyzz33rAWYOXNm/d/85jdpu3fvjtSuXdtnzZr1WdOmTb+zOCE/P5//+Z//6fD+++832rdvn1166aUbfve73yXVLi+VCbhBwHhgNtCI6AGoRwdVkLsvBUrb6fo04Bl3zwVWmNkXwEDgg6DeWxd6i0iyK7kX5TXXXPP1pZdeugWi58Glp6f3ueSSSzYc6Dw4gLvvvntN69atC/Lz8xkyZMgRc+bMqde3b9+9F1xwweFPPfXU8qFDh+7evHlzpGHDhqWuvLv33ntbNGnSpCA7O3vpnj177Mgjj8w85ZRTthcdwZMMKhNwecAeoB7RHtwKdz8USw/bAx/G3V4duy9A2qpLRMqnsj2tqgriPDiAxx9/vNljjz3WIj8/3zZu3Fjr008/rWtmtGrVKm/o0KG7AZo1a1bmL8S33nqrcU5OTv1XXnmlKcCOHTtSlixZUjeZAq4yi0w+IhpwRwLHAOeZ2bSKNGBmb5lZdilfpx3oZaXcV2p3y8zGmtk8M5u3cePG8telOTgRqaHiz4PbvHlzralTpzYp67k5OTm1H3jggdYzZ85ctmzZsiXHH3/8tr1790Zi58SV65egu9uECRO+ysnJWZKTk7NkzZo1i84444ztwf1EVVeZgLvY3W9y9zx3X+fupwEvV6QBdz/B3XuV8nWgdlYDHeNudwDWltH+pNiZdVktW7Ysd10KOBGpqSpyHtyWLVtS6tWrV9isWbOCVatWpc6YMaMJQN++ffeuX7++9syZM+vHnhfJy8sr9f1Gjhy57eGHH26Zm5trAAsXLqyzffv2pFqZX5khypPN7OTAKzm4V4CnzexuootMugFzg3yD6piDy2UvdTjoaIGISLkEcR7cUUcdtadXr167u3Xr1jMtLS13wIABOwHq1q3rTz311PJf//rXaXv37o3UrVu3cNasWcuaNGnynaHK3/72t5tWrlxZp3fv3t3d3Zo1a5b3r3/9a3l1/uwVVZnz4K6Ju1kX+BGwNKhTvc3sdOB+oCWwFfjE3U+MPTYOuAjIB37j7q8frL2KnAf3EDfyd/7ERwSzMHMpC7iQAXRnAMfyI3oykJ4cSVPK36sUkQPTeXBSlgr34Nx9QvxtM7uLaO8qEO7+IvBiGY/dAdwR1HuVFPR5cEuJBusqvmAytxe33Y70WNgNpBcDyaQ/9WgQ2PuKiEjlhihLqg90CaCdhLNS17FU3hpWkEot3uEbctlDDgvIZi6LmUs2c3iTZ4Ho9XeH04teDIqF3iC60IMUUgKtR0S+f6p6Htzzzz/feNy4cR3i7+vYsWPum2++mVTDkaWpzE4mi/h2oiqF6FDibUEWlShFAed4IGG3hv/Slk6kkEJ9GtKf4+jPccWPf8N6FjOXxXxENnN4i+d4kUcBqEcDepC1X+i1on3gISwi4VbV8+DGjBmzfcyYMUl97ltZKtOD+1Hc9/nAenfPD6iehAo64NaygnZ0LvPx5rTmOE7hOE4BoJBCVvEF2cwp7uU9xT3kE13F1IK2+wVeD7JoSOMq1ykiEkaVmYP7sjoKSQYWu2oiqEsF1rCC4zmj3M+PEKETGXQigx/yEwD2kctnfFIceIuZywxeitVrdKZ7ceD1ZCBd6U0tagVSv4hITVbugDOzHXw7NGklv3f3Gt+VKOq1FVJY5fmvXexgK5toX8XpydrUoTeD6M0g4FcAbGNz8bDmYubyH17lnzwGQB3qkUl/ejGIXrHga0snDW2KyPdORXpwvcLce4P4RSZV78Gt4ysA2tKpym2V1IRmDOFEhnAiEO1xrmFFcS8vmzk8x4M8xd0ANKNVcS8v2tM7kkYcFnhdIiLJpCIB9yLQH8DMnnf3MdVTUuLEz8FV1V52A1CfRlVu62AMowNd6EAXTuRcAPLYxxcsYlEs8Ip6ekU6ccR+vbxu9KEWtau9VhGpmpSUlAHdunUrXgF5xhlnbL7tttvW9e3bt/tdd921avTo0Tsheh7cxRdfvCmII3Nmz55db9WqVbXPOeecbVVt61CqSMDFj3GF4rKA7wou4PKI7jeaqNCoRW26xy4yP5srANjBVhbzUXFP7wP+zWs8Ufz8I+hXPJfXm0F04HANbYokmUScBzdv3rz68+bNaxDmgPMyvg+NSICLTBIdcKVpxGEMZiSDGQlEf851rCru4S1mLi8xmWeYCEBjmu63gKUXA7ULi0jMlqtv7ZifszzQ8+BSMw/f3fTum5PqPLgZM2Ys+/Of/9xu7969kczMzIbxx/PE2759e+Tiiy9OW7p0ab2CggIbN27c2gsvvHBrZX6WoFQk4Pqa2Xai3Zx6se8hhItMPIDdTPKIHsWUTAFXkmG0JY22pDGSswDIJ58VLNnvgvS/8cfiXVja03m/0DuCftQL9sxHETmAQ30eXKNGjQqvv/76tfPmzWvwxBNPfFVWe3/4wx/aDh8+fPtzzz23ctOmTSlZWVndTz311O2NGzdO2Blk5Q44dw/9thpBzsElYw+uPFJJpRt96EYfTucSAPawi6XMLw69hXzAG0wFIIUUutK7OPB6MpDOdNcuLBJ6le1pVVWynAdX0owZMxpPnz79sIkTJ7YByM3NtS+++KJ2//7995a3jaAFsVVXiAQfcKk1LOBKU48G39mFZRPrWBK7VCGbuUznGZ7nEQDq05DuZNErFng9GUhrOmg+T6QaxZ8Hd9FFF6VPnTq1SVlzZkXnwc2fP39py5YtC8aMGZNe0fPgSnJ3pk2b9kXfvn0P2HM8lJLq7J5EUw+u/FrQhuM4hSv4Iw/xBu+ymefJ4VYe5xR+zl528zT38nvO5IekcSLtuJrT+Bt38CFvsoOtif4RREKlOs+Da9y4ccHOnTsPmBfDhw/fPmHChNaFhdFO3/vvv18v4B+xwtSDixP2RSbVKUKEdI4gnSP4ET8ForuwfM7C2FxedHhzZtzBE+lk0otB9GYwvRnM4fQiVX8lRQ4oEefBjR49esddd93VNjMzs0dZi0zuvPPOtWPHjk3LzMzs4e7WoUOH3HffffeL6vwsDqbC58HVNBU5D+5p7mUCv+VdNtOYplV63xeYxB1cxuusphXtq9RWmOxgK0uZzyI+JJs5LOJDtrARgLrUL95gujeDizeYFjkQnQcnZdH/Lu+nOoYo61S5rTBpxGEMZAQDGQFEP+u1rNwv8P6P+3iC/wWgFe2Ld2DpxSC6M4D6NEzkjyAiNYQCLo7m4A49w2hPZ9rTmZM4D/h2g+lo6H1INnN5hxeA6FBoF3ruF3o6O0+kbFU9D66k++67r/nDDz/cOv6+I488cueTTz5Z5iUEiZJ0AWdmZwG3AN2Bge4+L3b/SOBOoDawD/idu78T6Hsr4JLC/htMXwXAFjbud23eOzzPS0wG9j87Lzq8eRQtaZvAn0BCrLCwsNAikUiNmdup6nlwJV111VXfXHXVVd8E2WZ1KCwstKQLOCAbOANia86/tQk4xd3XmlkvYDoEO0ETKV5UGuRlAjq6JghNacmx/JBj+SEQ/Z+QorPzir7iz85Loxv9GcoAhtKfobShYyLLl/DI3rhxY4+WLVtuq0kh931TWFhoGzdubJJ0AefuSwHMrOT9H8fdXAzUNbM67h7gNRffHpdTVXnkkhL7T4JnGGl0I41unMyFwLdDmx/zHxYwk7d4rriX157O9I+FXRbDaEd6AquXmio/P/+SdevWTV63bl0vdJlVMisEspMu4MppDPBxsOEW/BBlGC7yrknihzZ/yrUUUMDnLGQBM5nPTGbxSvG5eW1IK+7dDWCoNpaWchkwYMAG4NRE1yHlk5CAM7O3gDalPDTO3V8+yGt7AuOBUQd4zlhgLEBaWlr56wo44DT/llgppJBJPzLpx/n8hkIKWc7i4sCbzb95jScBaEm7/YY00zlCgSdSwyUk4Nz9hMq8zsw6ED2X7qfuvvwA7U8CJkH0Orhytx/ggacKuOQTIUI3etON3pzDlTjOSnKYz8xY6M1gOv8HQHNa04/jigOvCz3i5mhFpCaoMUOUZnYY8Bpwvbu/Xy3vEeBOJvkKuKRnGJ3pTme6cyaXFy9cmR8Lu6J5PIAmNI/txxmdw+tKbwWeSJJLuoAzs9OB+4GWwGtm9om7nwhcCXQFbjSzG2NPH+XuGwJ770AXmSjgapr4hSuncwmOs4YVxUOaC5jJu7wIQBOaxcJuOAMYxuH0VOCJJJmkCzh3fxFiv0X2v/+PwB+r872Dn4PTLiY1mWF0oAsd6MKp/AKAr/mS+cxkHu8ynxnFgXcYLRjAUAYwjCyG04UemsMTSbCkC7hE0hycHExbOvEjflq8ofRaVjKPGcxnBvN4l7d5Hohet1fUw8tiGJ3prsATOcQUcHG0ilIqqh3pnMrPOZWfF++rWRR20cCbBkAzWjGAYcU9PK3SFKl+Crg4QS4yySNXAfc9E7+v5qn8ongOr2g4cx7v8ibPAtFVmkVhN4BhdCJDgScSMAVcHF3oLUGKn8P7MRfjOKtZvt+Q5htMBaAFbWOBFw29jnRV4IlUkQIuzrcBF8wqyoY0qXI7Eh6G0ZGudKRr8SrNVXwRG86MBl7RdXit6Vh8rNCRHE9L2iW4epGaRwEXR3NwcijFX5ZwBmNxnC9Zxke8w0e8vd/WYulkxsJuBFkMq/KBvCLfBwq4/QQXcLrQWyrKMNI5gnSO4Cx+SSGFfMYnxYH3Cn/nWR4kQoRM+nNkrIfXl6OpR/1Ely+SdBRwcSKBLjJRwEnVRIjQnf50pz8/5Vry2Ec2c5jL28zlbf7BBB5nPLWoTR+OKg68HhxJLR3TJKKAi6dFJpLMalGbfhxLP47lMm5hNzv5mP8wl7f5iLf5KzfxV26iPg3pz1CO5HiO5Hi60Ue7rMj3kgIuTtCLTGprJxOpRvVpyNGM5mhGA7CFTcxnRnHgvcdrADTiMPpxbOw8vOM4gn6k6p++fA/ob/l+tMhEaq6mtOAEzuQEzgRgHauYz4zifTRn8U8AGtCIvhxdHHg9yNLfVQklBVycIIcotchEEq0NHfkhP+GH/ASAjaxlAbOYz0w+ZhYPcD0AdalPH44qDrxeDKIOdRNZukggFHBxggy4feRqDk6SSkvacSLnciLnArCZDXzMf4oD7xFuxnFqU4deDCoOvD4cRT0aJLh6kYpTwMX5diK+agHnuIYoJek1oxUjGMMIxgCwjc18wnssYBYLmMkU7mAyt5NCKj05svjE874cTQMaJbh6kYNTwO0nmPPg8skHUMBJjdKEZgzlVIZyKgA72c6nvF88h/ckd/EYd5JCCpn0j/XwhtKPY2jEYYktXqQUCrg4QQ1R5rMPUMBJzdaQxvut0tzDLj5lNguYyQJm8QwTeZK7iBChG30ZEAu8/hxHE5oluHoRBdx+ggq4PAWchFA9GjCYkQxmJAB72UM2c4pXaj7PX3maewHoSm8GMJQjY3tpNqRxAiuX76ukCzgzOwu4BegODHT3eSUeTwOWALe4+12BvndAB57mshdAJ3pLqNWlXuz0g2FAdGHVYj5iATOZz0xeZgpTeYAUUunDURzFiQxmFN0ZoAvP5ZBIuoADsoEzgEfKePwe4PXqeOOgzoPbwgYgOokv8n1Rmzr04xj6cQwXM4489rGQD/iA6XzIGzzEDTzEDTSheawneCJHMUonJUi1SbqAc/elAGbfPQvLzH4M/BfYVR3vbQEtMtnIWgD9w5XvtVrUZkBs5eWV/IktbORD3iwOvOk8A0AXesSddj6MprRMcOUSFkkXcGUxswbAdcBI4NpqeY+A5uAUcCLf1ZSWjOZ8RnM+jvM5C/mQN/iId3iVx3mOhwA4nJ7cwdN0o0+CK5aaLiEBZ2ZvAW1KeWicu79cxstuBe5x952l9e5KtD8WGAuQlpZW/roCmoMrCrjmpf6IImIYGfQlg778lN+RRx45zOcj3mU+M2hFh0SXKCGQkIBz9xMq8bJBwJlm9hfgMKDQzPa6+wOltD8JmASQlZVV7rQKsgd3GC202bJIOdWiFr0ZTG8Gc1FsCzGRqqoxQ5TufmzR92Z2C7CztHCriqAWmWxiLS1oG0RJIiJSSUm3VtfMTjez1cBRwGtmNv2QvXeAi0w0/yYiklhJ14Nz9xeBFw/ynFuq472DnIPrSu+qFyQiIpWWdD24RApiDm4XO9jMelrSPqiyRESkEhRw+6l6wP2HVymggKMYFVRRIiJSCQq4OJEAFpm8wVRa0o6+HB1UWSIiUgkKuDhVXWQyl7eZxSuczIXaa09EJMH0WzhOZReZ5JHHS/yNa/gx6WRyKTcFX5yIiFRI0q2iTKSDLTIppJBtbGYz61nPalawhGzm8AHT2cFW+nI0f+YZ6tHgUJYtIiKlUMDtJxpwD3EDf+fP7GEXe9kd+3MXW/mGgthp3UVa0JbhnM4IzuRoRsf1AkVEJJEUcHE6kUEPstjHXlJIoQGNaUFb6tGAejSgCc1pThua04aWtCWdTO18LiKSpBRwcZrRiif5KNFliIhIALTIREREQkkBJyIioaSAExGRUFLAiYhIKCngREQklBRwIiISSgo4EREJJQWciIiEkrlX7fTqZGdmG4EvK/CSFsCmaiqnuqjmQ6cm1h32mju5u7YUku8IfcBVlJnNc/esRNdREar50KmJdatm+b7SEKWIiISSAk5EREJJAfddkxJdQCWo5kOnJtatmuV7SXNwIiISSurBiYhIKCngREQklBRwMWZ2kpl9ZmZfmNn/S3Q95WVmK81skZl9YmbzEl1PacxsipltMLPsuPuamdmbZvZ57M+miayxpDJqvsXM1sQ+60/M7ORE1liSmXU0s3fNbKmZLTazq2L3J/tnXVbdSf15S/LTHBxgZinAMmAksBr4CDjP3ZcktLByMLOVQJa7J+2FvGZ2HLATeMLde8Xu+wuw2d3vjP0PRVN3vy6RdcYro+ZbgJ3uflciayuLmbUF2rr7AjNrBMwHfgz8nOT+rMuq+2yS+POW5KceXNRA4At3/6+77wOeAU5LcE2h4e6zgM0l7j4NeDz2/eNEf6EljTJqTmru/rW7L4h9vwNYCrQn+T/rsuoWqRIFXFR7YFXc7dXUnH9gDrxhZvPNbGyii6mA1u7+NUR/wQGtElxPeV1pZgtjQ5hJNdQXz8zSgX7AHGrQZ12ibqghn7ckJwVclJVyX00Zuz3a3fsDo4H/iQ2tSfV4GDgc+AHwNTAhodWUwcwaAs8Dv3H37Ymup7xKqbtGfN6SvBRwUauBjnG3OwBrE1RLhbj72tifG4AXiQ631gTrY3MvRXMwGxJcz0G5+3p3L3D3QuBRkvCzNrNaREPiKXd/IXZ30n/WpdVdEz5vSW4KuKiPgG5m1tnMagPnAq8kuKaDMrMGsUl5zKwBMArIPvCrksYrwM9i3/8MeDmBtZRLUUjEnE6SfdZmZsDfgKXufnfcQ0n9WZdVd7J/3pL8tIoyJrYE+V4gBZji7ncktqKDM7MuRHttAKnA08lYt5n9HzCM6BEo64GbgZeAZ4E04CvgLHdPmkUdZdQ8jOhwmQMrgcuK5raSgZkdA/wHWAQUxu7+A9H5rGT+rMuq+zyS+POW5KeAExGRUNIQpYiIhJICTkREQkkBJyIioaSAExGRUFLAiYhIKCngREQklBRwkjBm1jzuKJR1JY5GqW1ms6vhPdPNbE/sPdLjj8Mp8bx6sefsM7MWQdchItUvNdEFyPeXu39D9ELeso6iGVJNb73c3X8Q29i3rNr2AD+IHUckIjWQenCStMxsZ6yXlWNmk80s28yeMrMTzOz92AGeA+Oef6GZzY31vB6JnfN3MClm9mjsoM03zKxeNf5IInIIKeCkJugK3Af0ATKB84FjgGuJbumEmXUHziF6usIPgALggnK03Q140N17AluBMQHXLiIJoiFKqQlWuPsiADNbDLzt7m5mi4D02HNGAAOAj6J791KP8u2av8LdP4l9Pz+uPRGp4RRwUhPkxn1fGHe7kG//DhvwuLtfX4W2C4gGo4iEgIYoJSzeBs40s1YAZtbMzDoluCYRSSAFnISCuy8BbgDeMLOFwJtA2wO/SkTCTMflyPdK7NKAV929VzmfvxLIcvdN1VmXiARPPTj5vikAmpjZJwd6UtGF3kAtvj2EU0RqEPXgREQklNSDExGRUFLAiYhIKCngREQklBRwIiISSgo4EREJJQWciIiEkgJORERCSQEnIiKh9P8BF8fPdZf/fBQAAAAASUVORK5CYII=\n",
      "text/plain": [
       "<Figure size 432x288 with 1 Axes>"
      ]
     },
     "metadata": {
      "needs_background": "light"
     },
     "output_type": "display_data"
    }
   ],
   "source": [
    "plot_trajectories(trajectories)"
   ]
<<<<<<< HEAD
  },
  {
   "cell_type": "code",
   "execution_count": 11,
   "metadata": {},
   "outputs": [
    {
     "name": "stdout",
     "output_type": "stream",
     "text": [
      "Object `plot_trajectories()` not found.\n"
     ]
    }
   ],
   "source": [
    "?plot_trajectories()"
   ]
=======
>>>>>>> parent of 80cf67d (troubleshooting done)
  }
 ],
 "metadata": {
  "kernelspec": {
   "display_name": "dFBACoCultivation",
   "language": "python",
   "name": "dfbacocultivation"
  },
  "language_info": {
   "codemirror_mode": {
    "name": "ipython",
    "version": 3
   },
   "file_extension": ".py",
   "mimetype": "text/x-python",
   "name": "python",
   "nbconvert_exporter": "python",
   "pygments_lexer": "ipython3",
   "version": "3.6.12"
  }
 },
 "nbformat": 4,
 "nbformat_minor": 4
}
