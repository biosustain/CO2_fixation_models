{
 "cells": [
  {
   "cell_type": "markdown",
   "metadata": {},
   "source": [
    "# Notebook 03: Simulation of Acetogenic Fermentation in Bubble Column at 30 and 60°C\n",
    "\n",
    "This notebook is part of the research paper titled:\n",
    "\n",
    "Optimizing acetogenic CO(2) utilization through metabolic and process engineering highlights the potential of thermophilic bioproduction\n",
    "\n",
    "This notebook simulates the fermentation of acetogenic growth in a large scale bubble column reactor at two given temperatures, using mass balances as defined in notebook 01, and a thermodynaminc-based black box model of acetogenic growth, building on notebook 02.\n",
    "\n",
    "Notebook author: Philip J. Gorter de Vries"
   ]
  },
  {
   "cell_type": "code",
   "execution_count": 1,
   "metadata": {},
   "outputs": [],
   "source": [
    "import numpy as np\n",
    "import pandas as pd\n",
    "import matplotlib.pyplot as plt\n",
    "import math\n",
    "from scipy.integrate import odeint"
   ]
  },
  {
   "cell_type": "markdown",
   "metadata": {},
   "source": [
    "# Define parameters"
   ]
  },
  {
   "cell_type": "code",
   "execution_count": 2,
   "metadata": {},
   "outputs": [],
   "source": [
    "Tc1 = 30 #Temperature in Celsius\n",
    "Tc2 = 60 #Temperature in Celsius\n",
    "\n",
    "SameGrowthRates = False #For the sake of comparisson, the maximum growth rates can be forced to be equal. Otherwise, they are temperature dependant \n",
    "\n",
    "#Reaction time\n",
    "t_rt = 50\n",
    "\n",
    "#mol fraction of incoming gas\n",
    "y_co = 0.01 #[mol/mol]\n",
    "y_co2 = 0.2 #[mol/mol]\n",
    "y_h2 = 0.38 #[mol/mol]\n",
    "y_o2 = 0.01 #[mol/mol]\n",
    "y_n2 = 0.04 #[mol/mol]\n",
    "\n",
    "#Universal constants:\n",
    "R = 8.314 # [m^3*Pa/K/mol]\n",
    "\n",
    "def Kelvin_Celsius(t):\n",
    "    \"\"\"\n",
    "    This function converts Temperature values from Kelvin to degrees Celsius\n",
    "    \"\"\"\n",
    "    return t-273.15\n",
    "\n",
    "def Celsius_Kelvin(t):\n",
    "    \"\"\"\n",
    "    This function converts Temperature values from degrees Celsius to Kelvin\n",
    "    \"\"\"\n",
    "    return t+273.15\n",
    "\n",
    "T1 = Celsius_Kelvin(Tc1)\n",
    "T2 = Celsius_Kelvin(Tc2)\n",
    "t = np.linspace(0,t_rt,1000)"
   ]
  },
  {
   "cell_type": "markdown",
   "metadata": {},
   "source": [
    "# Biological Parameters"
   ]
  },
  {
   "cell_type": "code",
   "execution_count": 3,
   "metadata": {},
   "outputs": [
    {
     "name": "stdout",
     "output_type": "stream",
     "text": [
      "at Temperature = 30°C\n",
      "m_NGAM = 1.76 [kJ/h/CmolX]\n",
      "µ_max = 0.2 [/h]\n",
      "m_GAM = 1000 [kJ/CmolX] \n",
      "\n",
      "at Temperature = 60°C\n",
      "m_NGAM = 33.39 [kJ/h/CmolX]\n",
      "µ_max = 0.6 [/h]\n",
      "m_GAM = 1000 [kJ/CmolX]\n"
     ]
    }
   ],
   "source": [
    "# for details, view 02_AcetogenYieldTempDependency.ipynb\n",
    "\n",
    "def µ_max(T):\n",
    "    if SameGrowthRates == True:\n",
    "        return 0.4\n",
    "    else:\n",
    "        return 46.35 * T * np.exp(-28127.1/(R*T))\n",
    "\n",
    "def m_NGAM(T):\n",
    "    return 3.3**(69000/R*(1/298-1/T)) #[kJ/h/CmolX]\n",
    "\n",
    "m_GAM = 1000 #kJ/CmolX\n",
    "\n",
    "# Monod substrate saturation constants and inhibtion parameters:\n",
    "Ks_h2 =  0.0002950 # [mM] https://doi.org/10.1016/j.jece.2022.107281\n",
    "Ks_co2 =  0.0002950 # [mM] taken from H2\n",
    "Ks_co = 0.0002950 # [mM] taken from H2\n",
    "Ki_actt = 800 #mM Inhibition constant for acetone\n",
    "\n",
    "print(f\"at Temperature = {Tc1}°C\")\n",
    "print(f\"m_NGAM = {round(m_NGAM(T1),2)} [kJ/h/CmolX]\")\n",
    "print(f\"µ_max = {round(µ_max(T1),2)} [/h]\")\n",
    "print(f\"m_GAM = {m_GAM} [kJ/CmolX] \\n\")\n",
    "\n",
    "print(f\"at Temperature = {Tc2}°C\")\n",
    "print(f\"m_NGAM = {round(m_NGAM(T2),2)} [kJ/h/CmolX]\")\n",
    "print(f\"µ_max = {round(µ_max(T2),2)} [/h]\")\n",
    "print(f\"m_GAM = {m_GAM} [kJ/CmolX]\")"
   ]
  },
  {
   "cell_type": "markdown",
   "metadata": {},
   "source": [
    "# Calculate Gibbs free energy and Enthalpy of Catabolic reaction"
   ]
  },
  {
   "cell_type": "markdown",
   "metadata": {},
   "source": [
    "<p>Given the reaction stoichiometries:</p>\n",
    "<p>$ -2 CO_2 - 4 H_2 + CH_3COOH + 2 H_2O $</p>\n",
    "<p>$ -4 CO - 2 H_2O + CH_3COOH + 2 CO_2 $</p>"
   ]
  },
  {
   "cell_type": "code",
   "execution_count": 4,
   "metadata": {},
   "outputs": [
    {
     "data": {
      "text/html": [
       "<div>\n",
       "<style scoped>\n",
       "    .dataframe tbody tr th:only-of-type {\n",
       "        vertical-align: middle;\n",
       "    }\n",
       "\n",
       "    .dataframe tbody tr th {\n",
       "        vertical-align: top;\n",
       "    }\n",
       "\n",
       "    .dataframe thead th {\n",
       "        text-align: right;\n",
       "    }\n",
       "</style>\n",
       "<table border=\"1\" class=\"dataframe\">\n",
       "  <thead>\n",
       "    <tr style=\"text-align: right;\">\n",
       "      <th></th>\n",
       "      <th>HomCata</th>\n",
       "      <th>CarbCata</th>\n",
       "      <th>HomAna</th>\n",
       "      <th>CarbAna</th>\n",
       "    </tr>\n",
       "  </thead>\n",
       "  <tbody>\n",
       "    <tr>\n",
       "      <th>CO</th>\n",
       "      <td>0</td>\n",
       "      <td>-4</td>\n",
       "      <td>0.0</td>\n",
       "      <td>-2.1</td>\n",
       "    </tr>\n",
       "    <tr>\n",
       "      <th>H2</th>\n",
       "      <td>-4</td>\n",
       "      <td>0</td>\n",
       "      <td>-2.1</td>\n",
       "      <td>0.0</td>\n",
       "    </tr>\n",
       "    <tr>\n",
       "      <th>NH3</th>\n",
       "      <td>0</td>\n",
       "      <td>0</td>\n",
       "      <td>-0.2</td>\n",
       "      <td>-0.2</td>\n",
       "    </tr>\n",
       "    <tr>\n",
       "      <th>CO2</th>\n",
       "      <td>-2</td>\n",
       "      <td>2</td>\n",
       "      <td>-1.0</td>\n",
       "      <td>1.1</td>\n",
       "    </tr>\n",
       "    <tr>\n",
       "      <th>Water</th>\n",
       "      <td>2</td>\n",
       "      <td>-2</td>\n",
       "      <td>1.5</td>\n",
       "      <td>-0.6</td>\n",
       "    </tr>\n",
       "    <tr>\n",
       "      <th>X</th>\n",
       "      <td>0</td>\n",
       "      <td>0</td>\n",
       "      <td>1.0</td>\n",
       "      <td>1.0</td>\n",
       "    </tr>\n",
       "    <tr>\n",
       "      <th>Acetate</th>\n",
       "      <td>1</td>\n",
       "      <td>1</td>\n",
       "      <td>0.0</td>\n",
       "      <td>0.0</td>\n",
       "    </tr>\n",
       "  </tbody>\n",
       "</table>\n",
       "</div>"
      ],
      "text/plain": [
       "         HomCata  CarbCata  HomAna  CarbAna\n",
       "CO             0        -4     0.0     -2.1\n",
       "H2            -4         0    -2.1      0.0\n",
       "NH3            0         0    -0.2     -0.2\n",
       "CO2           -2         2    -1.0      1.1\n",
       "Water          2        -2     1.5     -0.6\n",
       "X              0         0     1.0      1.0\n",
       "Acetate        1         1     0.0      0.0"
      ]
     },
     "execution_count": 4,
     "metadata": {},
     "output_type": "execute_result"
    }
   ],
   "source": [
    "S = pd.DataFrame({\n",
    "    'HomCata':  [0,    -4,  0,    -2,  2,    0,1],\n",
    "    'CarbCata': [-4,   0,   0,    2,   -2,   0,1],\n",
    "    'HomAna':   [0,   -2.1, -0.2, -1,  1.5,  1,0],\n",
    "    'CarbAna':  [-2.1, 0,   -0.2, 1.1, -0.6, 1,0]},\n",
    "    index=pd.Index([\"CO\",\"H2\",\"NH3\",\"CO2\",\"Water\",\"X\",\"Acetate\"]))\n",
    "\n",
    "S"
   ]
  },
  {
   "cell_type": "code",
   "execution_count": 5,
   "metadata": {},
   "outputs": [
    {
     "name": "stdout",
     "output_type": "stream",
     "text": [
      "-231.42360724467548 -150.81437699144723\n",
      "-232.8252507127285 -140.6406389401308\n"
     ]
    }
   ],
   "source": [
    "dfGR = pd.read_csv(\"../Data/EnthalpyGibbs.csv\", index_col=\"Compound\")[\"dfGR\"]\n",
    "dfHR = pd.read_csv(\"../Data/EnthalpyGibbs.csv\", index_col=\"Compound\")[\"dfHR\"]\n",
    "\n",
    "#Hess's law, as vector multiplication:\n",
    "DrGR_carb = np.nansum(S.CarbCata * dfGR)\n",
    "DrGR_hom = np.nansum(S.HomCata * dfGR)\n",
    "DrHR_carb = np.nansum(S.CarbCata * dfHR)\n",
    "DrHR_hom = np.nansum(S.HomCata * dfHR)\n",
    "\n",
    "#Gibbs–Helmholtz equation for temperature correction\n",
    "def DrGT_carb(T):\n",
    "    return DrGR_carb * (T/298.15) + DrHR_carb * (1-T/298.15)\n",
    "def DrGT_hom(T):\n",
    "    return DrGR_hom * (T/298.15) + DrHR_hom * (1-T/298.15)\n",
    "\n",
    "print(DrGT_carb(T1),DrGT_hom(T1))\n",
    "print(DrGT_carb(T2),DrGT_hom(T2))"
   ]
  },
  {
   "cell_type": "markdown",
   "metadata": {},
   "source": [
    "# Determine anabolic reaction and balance reactions including GAM\n",
    "\n",
    "<p>Catabolic reaction stoichiometries:</p>\n",
    "\n",
    "<p>$ 2 CO_2 + 4 H_2 <=> CH_3COOH + 2 H_2O $ \n",
    "    <span style=\"float:right;\">(eq. 19)</span> </p>\n",
    "<p>$ 4 CO + 2 H_2O <=> CH_3COOH + 2 CO_2 $\n",
    "    <span style=\"float:right;\">(eq. 20)</span> </p>\n",
    "\n",
    "<p>Anabolic reaction stoichiometries: With an approximated biomass composition of $ CH_{1.8}O_{0.5}N_{0.2} $ and ammonia, $ NH_3 $ as carbon source, a prediction of the stoichiometry for the biomass formation reaction can be made by balancing out all elements in each of the reactions:</p>\n",
    "\n",
    "<p>With an apporximated biomass composition of $ CH_{1.8}O_{0.5}N_{0.2} $ and ammonia, $ NH_3 $ as carbon source, a prediction of the stoichiometry for the biomass formation reaction can be made by balancing out all elements in each of the reactions:</p>\n",
    "\n",
    "<p>$ -r_{CO2} CO_2 - r_{H} H_2 - r_{Am} NH_3 + CH_{1.8}O_{0.5}N_{0.2} + r_{W} H_2O = 0$ </p>\n",
    "<p>$ -r_{CO} CO - r_{W} H_2O - r_{Am} NH_3 + CH_{1.8}O_{0.5}N_{0.2} + r_{CO2} CO_2 = 0$</p>\n",
    "\n",
    "Which results in:\n",
    "\n",
    "<p>$ CO_2 + 2.1 H_2 + 0.2 NH_3 <=> CH_{1.8}O_{0.5}N_{0.2} + 1.5 H_2O$\n",
    "    <span style=\"float:right;\">(eq. 21)</span>  </p>\n",
    "<p>$ 2.1 CO + 0.6 H_2O + 0.2 NH_3 <=> CH_{1.8}O_{0.5}N_{0.2} + 1.1 CO_2$\n",
    "    <span style=\"float:right;\">(eq. 22)</span> </p>\n",
    "    \n",
    "    \n",
    "With the corrected Gibbs energy of reaction and the the growth-associated maintenance requirement being determined, the next step is to express the overall reaction stoichiometry. This is done by balancing the catabolic and anabolic reactions, so that the Gibbs free energy of the anabolic reactions ($\\Delta _r G$) satifies the energy needs of the catabolic reaction ($m_{GAM}$). $\\Delta _r G$ is expressed per mol acetate produced, while $m_{GAM}$ is expressed per mol biomass produced. Therefore both terms are multiplied by the corresponding stoichiometries, which are both 1. The stoichiometry in the overall reaction (S) is calculated for each compound by adding the stoichiometries of the anabolic and catabolic reaction, as balanced with the balancing factor.\n",
    "\n",
    "<br>\n",
    "<div style=\"text-align: center\">  $ S_I = \\displaystyle S_{I,ana} + \\frac{m_{GAM}(T) * S_{X,ana}} {-\\Delta _r G(T) * S_{P,cata}} * S_{I,cata} $\n",
    "</div>"
   ]
  },
  {
   "cell_type": "code",
   "execution_count": 6,
   "metadata": {},
   "outputs": [],
   "source": [
    "def S_carb(C,T):\n",
    "    f_m = m_GAM*S.CarbAna[\"X\"]/(-DrGT_carb(T)*S.CarbCata[\"Acetate\"])#*S.CarbCata[\"Acetate\"]/S.CarbCata[\"CO\"])\n",
    "    return S.CarbAna[C] + S.CarbCata[C] * f_m\n",
    "\n",
    "def S_hom(C,T):\n",
    "    f_m = m_GAM*S.HomAna[\"X\"]/(-DrGT_hom(T)*S.CarbCata[\"Acetate\"])#*S.HomCata[\"Acetate\"]/S.HomCata[\"H2\"])\n",
    "    return S.HomAna[C] + S.HomCata[C] * f_m"
   ]
  },
  {
   "cell_type": "code",
   "execution_count": 7,
   "metadata": {},
   "outputs": [
    {
     "name": "stdout",
     "output_type": "stream",
     "text": [
      "Overall Carboxydotrophic stoichiometry at 30°C: \n",
      " -19.38 CO -9.24 H20 -0.2 NH3 + 1.0 biomass + 4.32 CH3COOH + 9.74 CO2 = 0 \n",
      "\n",
      "Overall Homoacetogenic stoichiometry at 30°C: \n",
      " -14.26 CO2 -28.62 H2 -0.2 NH3 + 1.0 biomass + 6.63 CH3COOH + 14.76 H2O = 0 \n",
      "\n",
      "Overall Carboxydotrophic stoichiometry at 60°C: \n",
      " -19.28 CO -9.19 H20 -0.2 NH3 + 1.0 biomass + 4.3 CH3COOH + 9.69 CO2 = 0 \n",
      "\n",
      "Overall Homoacetogenic stoichiometry at 60°C: \n",
      " -15.22 CO2 -30.54 H2 -0.2 NH3 + 1.0 biomass + 7.11 CH3COOH + 15.72 H2O = 0 \n",
      "\n"
     ]
    }
   ],
   "source": [
    "print(f'Overall Carboxydotrophic stoichiometry at {Tc1}°C: \\n {round(S_carb(\"CO\",T1),2)} CO {round(S_carb(\"Water\",T1),2)} H20 {round(S_carb(\"NH3\",T1),2)} NH3 + {round(S_carb(\"X\",T1),2)} biomass + {round(S_carb(\"Acetate\",T1),2)} CH3COOH + {round(S_carb(\"CO2\",T1),2)} CO2 = 0 \\n')\n",
    "print(f'Overall Homoacetogenic stoichiometry at {Tc1}°C: \\n {round(S_hom(\"CO2\",T1),2)} CO2 {round(S_hom(\"H2\",T1),2)} H2 {round(S_hom(\"NH3\",T1),2)} NH3 + {round(S_hom(\"X\",T1),2)} biomass + {round(S_hom(\"Acetate\",T1),2)} CH3COOH + {round(S_hom(\"Water\",T1),2)} H2O = 0 \\n')\n",
    "print(f'Overall Carboxydotrophic stoichiometry at {Tc2}°C: \\n {round(S_carb(\"CO\",T2),2)} CO {round(S_carb(\"Water\",T2),2)} H20 {round(S_carb(\"NH3\",T2),2)} NH3 + {round(S_carb(\"X\",T2),2)} biomass + {round(S_carb(\"Acetate\",T2),2)} CH3COOH + {round(S_carb(\"CO2\",T2),2)} CO2 = 0 \\n')\n",
    "print(f'Overall Homoacetogenic stoichiometry at {Tc2}°C: \\n {round(S_hom(\"CO2\",T2),2)} CO2 {round(S_hom(\"H2\",T2),2)} H2 {round(S_hom(\"NH3\",T2),2)} NH3 + {round(S_hom(\"X\",T2),2)} biomass + {round(S_hom(\"Acetate\",T2),2)} CH3COOH + {round(S_hom(\"Water\",T2),2)} H2O = 0 \\n')"
   ]
  },
  {
   "cell_type": "markdown",
   "metadata": {},
   "source": [
    "# Construct Black Box models of Moorella"
   ]
  },
  {
   "cell_type": "markdown",
   "metadata": {},
   "source": [
    "<p>Monod Equation, specific growth rate: </p>\n",
    "<div style=\"text-align: center\">  $ µ = µ_{max} * \n",
    "\\displaystyle \\frac{c_S}{K_S + c_S} * (1-c_P/c_P^*)$ [$h^{-1}$]\n",
    "    <span style=\"float:right;\">(eq. 28)</span>\n",
    "</div>\n",
    "\n",
    "<p>Pirt kinetics, specific consumption and production rate: </p>\n",
    "<br>\n",
    "<div style=\"text-align: center\">  $ q_i = \\displaystyle \\frac{µ}{Y_{Xi}} + m_{NGAM,i} $ [$h^{-1}$]\n",
    "    <span style=\"float:right;\">(eq. 29)</span>\n",
    "</div>\n",
    "<br>\n",
    "<div style=\"text-align: center\">  $ m_{NGAM,i} = \n",
    "\\displaystyle \\frac{m_{NGAM}}{-\\Delta _r G^T * Y_{PS,cata}}$ [$h^{-1}$]\n",
    "    <span style=\"float:right;\">(eq. 30)</span>\n",
    "</div>\n",
    "\n",
    "Where:\n",
    "- $Y_{IJ}$: Yield of compound I on J\n",
    "- $µ$: growth rate (/h)\n",
    "- $c_I$: concentration of compound I (mM)\n",
    "- $K_S$: Monod substrate saturation constant (mM)\n",
    "- $K_{iP}$: Product inhibition constant (mM)\n",
    "- $m_{NGAM}(T)$: temperature-dependent non-growth-associated maintenance energy requirement ($kJ/h/Cmol_{biomass}$)\n",
    "- $\\Delta _r G(T)$: temperature-dependent Gibbs free energy of reaction per mol product ($kJ/mol$)\n",
    "\n",
    "subscripts:\n",
    " - S: of substrate, electron donor CO or H2\n",
    " - X: of biomass \n",
    " - P: of product, acetate\n",
    " - ana: in anabolic reaction\n",
    " - cata: in catabolic reaction"
   ]
  },
  {
   "cell_type": "code",
   "execution_count": 8,
   "metadata": {},
   "outputs": [],
   "source": [
    "# Homoacetogenic:\n",
    "def µ_hom(C_h2, C_co2, C_actt, T):\n",
    "    return µ_max(T) * C_h2/(Ks_h2+C_h2) * (1-C_actt/Ki_actt)\n",
    "\n",
    "def q_hom(C, C_h2, C_co2, C_actt, T):\n",
    "    m_NGAM_Hom = S.HomCata[C]/S.HomCata[\"H2\"] * m_NGAM(T)/(-DrGT_hom(T)*S.HomCata[\"Acetate\"]/S.HomCata[\"H2\"])\n",
    "    return µ_hom(C_h2, C_co2, C_actt, T)/(S_hom(\"X\",T)/S_hom(C,T)) + m_NGAM_Hom\n",
    "\n",
    "# Carboxydotrophic:\n",
    "def µ_carb(C_co, C_actt, T):\n",
    "    return µ_max(T) * C_co/(Ks_co+C_co) * (1-C_actt/Ki_actt)\n",
    "\n",
    "def q_carb(C, C_co, C_actt, T):\n",
    "    m_NGAM_Carb = S.CarbCata[C]/S.CarbCata[\"CO\"] * m_NGAM(T)/(-DrGT_carb(T)*S.CarbCata[\"Acetate\"]/S.CarbCata[\"CO\"])\n",
    "    return µ_carb(C_co, C_actt, T)/(S_carb(\"X\",T)/S_carb(C,T)) + m_NGAM_Carb"
   ]
  },
  {
   "cell_type": "markdown",
   "metadata": {},
   "source": [
    "## Bubble column setup parameters:"
   ]
  },
  {
   "cell_type": "code",
   "execution_count": 9,
   "metadata": {},
   "outputs": [],
   "source": [
    "v_gas = 0.3 # average gas velocity [m/s]\n",
    "h_r = 30 # height of the reactor [m]\n",
    "ar = 5 # aspect ratio: height to diameter"
   ]
  },
  {
   "cell_type": "code",
   "execution_count": 10,
   "metadata": {},
   "outputs": [
    {
     "data": {
      "text/plain": [
       "(20.0,\n",
       " 3.0,\n",
       " 28.274333882308138,\n",
       " 565.4866776461628,\n",
       " 146.06915149392105,\n",
       " 8.482300164692441)"
      ]
     },
     "execution_count": 10,
     "metadata": {},
     "output_type": "execute_result"
    }
   ],
   "source": [
    "r = h_r/(ar * 2)\n",
    "h = 2/3 * h_r # initial height of broth  assuming it is 2/3 filled [m]\n",
    "A = math.pi * r**2 #reactor cross-sectional area [m^2]\n",
    "V_L = A * h #reactor volume [m^3]\n",
    "F_G = v_gas * A\n",
    "Gas_holdup = 0.6*(v_gas)**0.7 #from Stephanie's paper\n",
    "V_G = V_L*Gas_holdup\n",
    "\n",
    "p_t = 101325 # pressure at the top of the reactor [Pa]\n",
    "p_b = p_t + h * 1000 * 9.81 # pressure at the bottom of the reactor [Pa]\n",
    "p_m = (p_b-p_t)/math.log(p_b/p_t) # logarithmic mean pressure [Pa]\n",
    "\n",
    "h,r,A,V_L,V_G,F_G"
   ]
  },
  {
   "cell_type": "markdown",
   "metadata": {},
   "source": [
    "## Define gas transfer rates as functions"
   ]
  },
  {
   "cell_type": "code",
   "execution_count": 11,
   "metadata": {},
   "outputs": [],
   "source": [
    "# Load Henry's Law values\n",
    "DR = pd.read_csv(\"../Data/HenrysLawData.csv\", index_col = \"Compound\")[\"DR\"]\n",
    "HR = pd.read_csv(\"../Data/HenrysLawData.csv\", index_col = \"Compound\")[\"HR\"]\n",
    "kh = pd.read_csv(\"../Data/HenrysLawData.csv\", index_col = \"Compound\")[\"k\"]\n",
    "theta = 1.022 # temperature correction factor\n",
    "\n",
    "# Kla Temperature correction:\n",
    "def KLa(C,T):\n",
    "    return 0.32 * (DR[C]/DR[\"O2\"])**0.5 * v_gas**0.7 * theta**(T-293.15) * 3600 #[1/s]\n",
    "\n",
    "# Saturation concentration\n",
    "def Csat(C, T, y):\n",
    "    return HR[C] * math.e**(kh[C]*(1/T-1/298.15)) * 10**(-5) * p_m * y\n",
    "\n",
    "# Combine as transfer rate:\n",
    "def RT(C,T,c,y):\n",
    "    return KLa(C,T) * (Csat(C,T, y) - c)"
   ]
  },
  {
   "cell_type": "markdown",
   "metadata": {},
   "source": [
    "## Define mass balances\n",
    "\n",
    "<br>\n",
    "<div><b>Box 1:</b> Mass Balances; Accumulation = In - Out + Production - Consumption</div>\n",
    "<br>\n",
    "<div>Biomass: &emsp; &emsp; &emsp; &ensp; $ \\displaystyle \\frac{dc_X}{dt} = µ * c_X $\n",
    "<div>Acetate: &emsp; &emsp; &emsp; &emsp; $ \\displaystyle \\frac{dc_{Actt}}{dt} = q_{actt} * c_X$\n",
    "<div>CO<sub>2</sub>, dissolved:&emsp;&nbsp; $ \\displaystyle \\frac{dc_{CO_2}}{dt} = q_{CO_2} * c_X + R_{CO_2} $\n",
    "<div>CO, dissolved: &emsp; &nbsp; $ \\displaystyle \\frac{dc_{CO}}{dt} = q_{CO} * c_X + R_{CO}$\n",
    "<div>H<sub>2</sub>, dissolved:&emsp;&emsp;&ensp;&nbsp;$ \\displaystyle \\frac{dc_{H_2}}{dt} = q_{H_2} * c_X + R_{H_2} $\n",
    "<div>CO<sub>2</sub>, gas:&emsp;&emsp;&emsp;&emsp;&emsp;$ \\displaystyle \\frac{dc_{G,CO_{2}}}{dt}=\\frac{F_G}{V_G}*(c_{G,CO_2,in}-c_{G,CO_2})-R_{CO_2}*\\frac{V_L}{V_G}$\n",
    "<div>CO, gas:&emsp;&emsp;&emsp;&emsp;&emsp;&ensp;$ \\displaystyle \\frac{dc_{G,CO}}{dt}=\\frac{F_G}{V_G}*(c_{G,CO,in}-c_{G,CO})-R_{CO}*\\frac{V_L}{V_G} $\n",
    "<div>H<sub>2</sub>, gas:&emsp;&emsp;&emsp;&emsp;&emsp;&ensp;&nbsp;$ \\displaystyle \\frac{dc_{G,H_{2}}}{dt}=\\frac{F_G}{V_G}*(c_{G,H_2,in}-c_{G,H_2})-R_{H_2}*\\frac{V_L}{V_G}$"
   ]
  },
  {
   "cell_type": "code",
   "execution_count": 12,
   "metadata": {},
   "outputs": [],
   "source": [
    "def model(z,t):\n",
    "    X_carb = max(0,z[0])\n",
    "    X_hom = max(0,z[1])\n",
    "    c_actt = max(0,z[2])\n",
    "    c_co2 = max(0,z[3])\n",
    "    c_co = max(0,z[4])\n",
    "    c_h2 = max(0,z[5])\n",
    "    c_n2 = max(0,z[6])\n",
    "    cG_co2 = max(0,z[7])\n",
    "    cG_co = max(0,z[8])\n",
    "    cG_h2 = max(0,z[9])\n",
    "    cG_n2 = max(0,z[10])\n",
    "    Acc_P = max(0,z[11])\n",
    "    \n",
    "    cG_Gas = cG_co2+cG_co+cG_h2+cG_n2\n",
    "\n",
    "    dXcdt = µ_carb(c_co, c_actt,T) * X_carb\n",
    "    dXhdt = µ_hom(c_h2, c_co2, c_actt,T) * X_hom\n",
    "    dacttdt = q_hom(\"Acetate\",c_h2, c_co2, c_actt,T) * X_hom + q_carb(\"Acetate\",c_co, c_actt,T) * X_carb - q_hom(\"Acetate\",c_h2, c_co2, c_actt,T) * X_hom - q_carb(\"Acetate\",c_co, c_actt,T) * X_carb\n",
    "    dCO2dt = q_hom(\"CO2\",c_h2, c_co2, c_actt,T) * X_hom + q_carb(\"CO2\",c_co, c_actt,T) * X_carb + RT(\"CO2\",T,c_co2,cG_co2/cG_Gas)\n",
    "    dCOdt = q_carb(\"CO\",c_co, c_actt,T) * X_carb + RT(\"CO\",T,c_co,cG_co/cG_Gas)\n",
    "    dH2dt = q_hom(\"H2\",c_h2, c_co2, c_actt,T) * X_hom + RT(\"H2\",T,c_h2,cG_h2/cG_Gas)\n",
    "    dN2dt = RT(\"N2\",T,c_n2,cG_n2/cG_Gas)\n",
    "    dCO2Gdt = F_G/V_G * (cG_co2_in-cG_co2) - RT(\"CO2\",T,c_co2,cG_co2/cG_Gas) * V_L/V_G\n",
    "    dCOGdt = F_G/V_G * (cG_co_in-cG_co) - RT(\"CO\",T,c_co,cG_co/cG_Gas) * V_L/V_G\n",
    "    dH2Gdt = F_G/V_G * (cG_h2_in-cG_h2) - RT(\"H2\",T,c_h2,cG_h2/cG_Gas) * V_L/V_G\n",
    "    dN2Gdt = F_G/V_G * (cG_n2_in-cG_n2) - RT(\"N2\",T,c_n2,cG_n2/cG_Gas) * V_L/V_G\n",
    "    Acc = (q_hom(\"Acetate\",c_h2, c_co2, c_actt,T) * X_hom + q_carb(\"Acetate\",c_co, c_actt,T) * X_carb)*V_L\n",
    "    \n",
    "    return [dXcdt,dXhdt,dacttdt,dCO2dt,dCOdt,dH2dt,dN2dt,dCO2Gdt,dCOGdt,dH2Gdt,dN2Gdt,Acc]"
   ]
  },
  {
   "cell_type": "markdown",
   "metadata": {},
   "source": [
    "## Define initial conditions & run simulations\n",
    "\n",
    "Initialize and run at both temperatures defined at the top of the notebook\n",
    "\n",
    "Initial gas concentrations: \n",
    " - in the liquid, one can assume that they have reached saturation before starting the experiment\n",
    " - in the gas, one can take the inlet concentrations"
   ]
  },
  {
   "cell_type": "code",
   "execution_count": 13,
   "metadata": {
    "scrolled": false
   },
   "outputs": [],
   "source": [
    "#initial conditions at T1\n",
    "T = T1\n",
    "\n",
    "cG_co2_in = y_co2 * p_m/(R*T)\n",
    "cG_co_in = y_co * p_m/(R*T)\n",
    "cG_h2_in = y_h2 * p_m/(R*T)\n",
    "cG_n2_in = y_n2 * p_m/(R*T)\n",
    "\n",
    "cG_Gas_0 = cG_co2_in+cG_co_in+cG_h2_in+cG_n2_in\n",
    "\n",
    "c_co2_0 = Csat(\"CO2\",T,cG_co2_in/cG_Gas_0)\n",
    "c_co_0 =  Csat(\"CO\",T,cG_co_in/cG_Gas_0)\n",
    "c_h2_0 =  Csat(\"H2\",T,cG_h2_in/cG_Gas_0)\n",
    "c_n2_0 =  Csat(\"N2\",T,cG_n2_in/cG_Gas_0)\n",
    "\n",
    "#z0=[c_n2_0,cG_n2_in]\n",
    "z0=[1,1,0,c_co2_0,c_co_0,c_h2_0,c_n2_0,cG_co2_in,cG_co_in,cG_h2_in,cG_n2_in,0]\n",
    "\n",
    "#solve ODE\n",
    "z_T1 = odeint(model,z0,t)"
   ]
  },
  {
   "cell_type": "code",
   "execution_count": 14,
   "metadata": {},
   "outputs": [],
   "source": [
    "#initial conditions at T2\n",
    "T = T2\n",
    "\n",
    "cG_co2_in = y_co2 * p_m/(R*T)\n",
    "cG_co_in = y_co * p_m/(R*T)\n",
    "cG_h2_in = y_h2 * p_m/(R*T)\n",
    "cG_n2_in = y_n2 * p_m/(R*T)\n",
    "\n",
    "cG_Gas_0 = cG_co2_in+cG_co_in+cG_h2_in+cG_n2_in\n",
    "\n",
    "c_co2_0 = Csat(\"CO2\",T,cG_co2_in/cG_Gas_0)\n",
    "c_co_0 =  Csat(\"CO\",T,cG_co_in/cG_Gas_0)\n",
    "c_h2_0 =  Csat(\"H2\",T,cG_h2_in/cG_Gas_0)\n",
    "c_n2_0 =  Csat(\"N2\",T,cG_n2_in/cG_Gas_0)\n",
    "\n",
    "#z0=[c_n2_0,cG_n2_in]\n",
    "z0=[1,1,0,c_co2_0,c_co_0,c_h2_0,c_n2_0,cG_co2_in,cG_co_in,cG_h2_in,cG_n2_in,0]\n",
    "\n",
    "#solve ODE\n",
    "z_T2 = odeint(model,z0,t)"
   ]
  },
  {
   "cell_type": "markdown",
   "metadata": {},
   "source": [
    "# Plot the simulations"
   ]
  },
  {
   "cell_type": "markdown",
   "metadata": {},
   "source": [
    "# Plot separately for publication"
   ]
  },
  {
   "cell_type": "code",
   "execution_count": 15,
   "metadata": {},
   "outputs": [],
   "source": [
    "plt.rcParams['axes.spines.right'] = False\n",
    "plt.rcParams['axes.spines.top'] = False\n",
    "plt.rcParams['font.size'] = \"14\"\n",
    "plt.rcParams['xtick.major.size'] = 5\n",
    "plt.rcParams['ytick.major.size'] = 5\n",
    "plt.rcParams['ytick.minor.size'] = 4"
   ]
  },
  {
   "cell_type": "code",
   "execution_count": 16,
   "metadata": {
    "scrolled": false
   },
   "outputs": [
    {
     "data": {
      "image/png": "[encoded data removed]",
      "text/plain": [
       "<Figure size 360x216 with 1 Axes>"
      ]
     },
     "metadata": {
      "needs_background": "light"
     },
     "output_type": "display_data"
    },
    {
     "data": {
      "image/png": "[encoded data removed]",
      "text/plain": [
       "<Figure size 360x216 with 1 Axes>"
      ]
     },
     "metadata": {
      "needs_background": "light"
     },
     "output_type": "display_data"
    },
    {
     "data": {
      "image/png": "[encoded data removed]",
      "text/plain": [
       "<Figure size 360x216 with 1 Axes>"
      ]
     },
     "metadata": {
      "needs_background": "light"
     },
     "output_type": "display_data"
    },
    {
     "data": {
      "image/png": "[encoded data removed]",
      "text/plain": [
       "<Figure size 360x216 with 1 Axes>"
      ]
     },
     "metadata": {
      "needs_background": "light"
     },
     "output_type": "display_data"
    },
    {
     "data": {
      "image/png": "[encoded data removed]",
      "text/plain": [
       "<Figure size 216x216 with 1 Axes>"
      ]
     },
     "metadata": {
      "needs_background": "light"
     },
     "output_type": "display_data"
    }
   ],
   "source": [
    "fig = plt.figure(figsize=(5,3))\n",
    "plt.plot(np.NaN, np.NaN, 'r')\n",
    "plt.plot(np.NaN, np.NaN)\n",
    "plt.plot(t,z_T1[:,3], \"dimgray\")\n",
    "plt.plot(t,z_T1[:,4], \"red\")\n",
    "plt.plot(t,z_T1[:,5], 'royalblue')\n",
    "plt.plot(t,z_T1[:,6], 'deepskyblue')\n",
    "plt.xlabel(r'Time [$h$]')\n",
    "plt.ylabel(r'Disolved gas [$mM$]')\n",
    "plt.axis([0, t_rt, 0, 1])\n",
    "plt.savefig('../Figures/Simulation/30_disolved')\n",
    "plt.show()\n",
    "\n",
    "fig = plt.figure(figsize=(5,3))\n",
    "plt.plot(np.NaN, np.NaN, 'r')\n",
    "plt.plot(np.NaN, np.NaN)\n",
    "plt.plot(t,z_T1[:,7], 'dimgray')\n",
    "plt.plot(t,z_T1[:,8], \"red\")\n",
    "plt.plot(t,z_T1[:,9], 'royalblue')\n",
    "plt.plot(t,z_T1[:,10], 'deepskyblue')\n",
    "plt.xlabel(r'Time [$h$]')\n",
    "plt.ylabel(r'Undisolved gas [$mM$]')\n",
    "plt.axis([0, t_rt, 0, 40])\n",
    "plt.savefig('../Figures/Simulation/30_gas')\n",
    "plt.show()\n",
    "\n",
    "fig = plt.figure(figsize=(5,3))\n",
    "plt.plot(np.NaN, np.NaN, 'r')\n",
    "plt.plot(np.NaN, np.NaN)\n",
    "plt.plot(t,z_T2[:,3], 'dimgray')\n",
    "plt.plot(t,z_T2[:,4], 'red')\n",
    "plt.plot(t,z_T2[:,5], 'royalblue')\n",
    "plt.plot(t,z_T2[:,6], 'deepskyblue')\n",
    "plt.xlabel(r'Time [$h$]')\n",
    "plt.ylabel(r'Disolved gas [$mM$]')\n",
    "plt.axis([0, t_rt, 0, 1])\n",
    "plt.savefig('../Figures/Simulation/60_disolved')\n",
    "plt.show()\n",
    "\n",
    "fig = plt.figure(figsize=(5,3))\n",
    "\n",
    "plt.plot(np.NaN, np.NaN, 'r')\n",
    "plt.plot(np.NaN, np.NaN)\n",
    "plt.plot(t,z_T2[:,7], 'dimgray')\n",
    "plt.plot(t,z_T2[:,8], 'red')\n",
    "plt.plot(t,z_T2[:,9], 'royalblue')\n",
    "plt.plot(t,z_T2[:,10], 'deepskyblue')\n",
    "plt.xlabel(r'Time [$h$]')\n",
    "plt.ylabel(r'Undisolved gas [$mM$]')\n",
    "plt.axis([0, t_rt, 0, 40])\n",
    "plt.savefig('../Figures/Simulation/60_gas')\n",
    "plt.show()\n",
    "\n",
    "fig = plt.figure(figsize=(3,3))\n",
    "plt.axis('off')\n",
    "#plt.plot(np.NaN, np.NaN, 'saddlebrown')\n",
    "#plt.plot(np.NaN, np.NaN, \"orange\")\n",
    "plt.plot(np.NaN, np.NaN, \"dimgray\")\n",
    "plt.plot(np.NaN, np.NaN, 'red')\n",
    "plt.plot(np.NaN, np.NaN, 'royalblue')\n",
    "plt.plot(np.NaN, np.NaN, 'deepskyblue')\n",
    "plt.legend(['CO2','CO',\"H2\",\"N2\"])\n",
    "plt.savefig('../Figures/Simulation/Legend.svg')\n",
    "plt.show()"
   ]
  },
  {
   "cell_type": "code",
   "execution_count": 17,
   "metadata": {},
   "outputs": [],
   "source": [
    "plt.rcParams['axes.spines.right'] = True\n",
    "plt.rcParams['axes.spines.top'] = False\n",
    "plt.rcParams['font.size'] = \"14\"\n",
    "plt.rcParams['xtick.major.size'] = 5\n",
    "plt.rcParams['ytick.major.size'] = 5\n",
    "plt.rcParams['ytick.minor.size'] = 4"
   ]
  },
  {
   "cell_type": "code",
   "execution_count": 18,
   "metadata": {},
   "outputs": [
    {
     "data": {
      "text/plain": [
       "0.07063185297029245"
      ]
     },
     "execution_count": 18,
     "metadata": {},
     "output_type": "execute_result"
    }
   ],
   "source": [
    "max(max(z_T1[:,0]+z_T1[:,1]),max(z_T2[:,0]+z_T2[:,1]))*24.6/1000"
   ]
  },
  {
   "cell_type": "code",
   "execution_count": 19,
   "metadata": {},
   "outputs": [
    {
     "data": {
      "image/png": "[encoded data removed]",
      "text/plain": [
       "<Figure size 432x288 with 2 Axes>"
      ]
     },
     "metadata": {
      "needs_background": "light"
     },
     "output_type": "display_data"
    }
   ],
   "source": [
    "plt.plot(t,(z_T1[:,0]+z_T1[:,1]), \"orange\")\n",
    "#plt.plot(t,t*slopeT1, \"dimgray\")\n",
    "plt.plot(t,(z_T2[:,0]+z_T2[:,1]), \"saddlebrown\")\n",
    "#plt.plot(t,t*slopeT2, \"red\")\n",
    "plt.xlabel(r'Time [$h$]')\n",
    "plt.ylabel(r'Biomass concentration [$mM$]')\n",
    "plt.axis([0, t_rt, 0, max(max(z_T1[:,0]+z_T1[:,1]),max(z_T2[:,0]+z_T2[:,1]))])\n",
    "#plt.yscale('log')\n",
    "\n",
    "ax2 = plt.twinx()\n",
    "ax2.set_ylabel(r'Biomass concentration [$gDW/l$]')\n",
    "ax2.axis([0, t_rt, 0, max(max(z_T1[:,0]+z_T1[:,1]),max(z_T2[:,0]+z_T2[:,1]))*24.6/1000])\n",
    "plt.savefig('../Figures/Simulation/Biomass')\n",
    "plt.show()"
   ]
  },
  {
   "cell_type": "code",
   "execution_count": 20,
   "metadata": {},
   "outputs": [
    {
     "data": {
      "image/png": "[encoded data removed]",
      "text/plain": [
       "<Figure size 432x288 with 2 Axes>"
      ]
     },
     "metadata": {
      "needs_background": "light"
     },
     "output_type": "display_data"
    }
   ],
   "source": [
    "plt.plot(t,(z_T1[:,0]+z_T1[:,1]), \"orange\")\n",
    "#plt.plot(t,t*slopeT1, \"dimgray\")\n",
    "plt.plot(t,(z_T2[:,0]+z_T2[:,1]), \"saddlebrown\")\n",
    "#plt.plot(t,t*slopeT2, \"red\")\n",
    "plt.xlabel(r'Time [$h$]')\n",
    "plt.ylabel(r'Biomass concentration [$mM$]')\n",
    "plt.yscale('log')\n",
    "plt.axis([0, t_rt, 1, max(max(z_T1[:,0]+z_T1[:,1]),max(z_T2[:,0]+z_T2[:,1]))])\n",
    "\n",
    "\n",
    "ax2 = plt.twinx()\n",
    "ax2.set_ylabel(r'Biomass concentration [$gDW/l$]')\n",
    "ax2.set_yscale('log')\n",
    "ax2.axis([0, t_rt, 1*24.6/1000, max(max(z_T1[:,0]+z_T1[:,1]),max(z_T2[:,0]+z_T2[:,1]))*24.6/1000])\n",
    "plt.savefig('../Figures/Simulation/Biomass')\n",
    "plt.show()"
   ]
  },
  {
   "cell_type": "code",
   "execution_count": 21,
   "metadata": {},
   "outputs": [
    {
     "data": {
      "image/png": "[encoded data removed]",
      "text/plain": [
       "<Figure size 432x288 with 2 Axes>"
      ]
     },
     "metadata": {
      "needs_background": "light"
     },
     "output_type": "display_data"
    }
   ],
   "source": [
    "plt.plot(t,z_T1[:,11]/10**6, \"orange\")\n",
    "plt.plot(t,z_T2[:,11]/10**6, \"saddlebrown\")\n",
    "plt.xlabel(r'Time [$h$]')\n",
    "plt.ylabel(r'Accumulated Acetate [$10^6 mol$]')\n",
    "plt.axis([0, t_rt, 0, max(max(z_T2[:,11]),max(z_T1[:,11]))/10**6])\n",
    "\n",
    "ax2 = plt.twinx()\n",
    "ax2.set_ylabel(r'Accumulated Acetate [$10^3 kg$]')\n",
    "ax2.axis([0, t_rt, 0, max(max(z_T2[:,11]),max(z_T1[:,11]))*0.06/1000])\n",
    "plt.savefig('../Figures/Simulation/ProdAccumulation')\n",
    "plt.show()"
   ]
  },
  {
   "cell_type": "code",
   "execution_count": 22,
   "metadata": {},
   "outputs": [],
   "source": [
    "plt.rcParams['axes.spines.right'] = False\n",
    "plt.rcParams['axes.spines.top'] = False\n",
    "plt.rcParams['font.size'] = \"14\"\n",
    "plt.rcParams['xtick.major.size'] = 5\n",
    "plt.rcParams['ytick.major.size'] = 5\n",
    "plt.rcParams['ytick.minor.size'] = 4"
   ]
  },
  {
   "cell_type": "code",
   "execution_count": 23,
   "metadata": {},
   "outputs": [
    {
     "data": {
      "image/png": "[encoded data removed]",
      "text/plain": [
       "<Figure size 576x216 with 2 Axes>"
      ]
     },
     "metadata": {
      "needs_background": "light"
     },
     "output_type": "display_data"
    }
   ],
   "source": [
    "fig, axs = plt.subplots(nrows = 1, ncols = 2, constrained_layout=True, figsize=(8,3))\n",
    "\n",
    "axs[0].plot(t,(z_T1[:,0]+z_T1[:,1])*24.6/1000, \"orange\")\n",
    "axs[0].plot(t,(z_T2[:,0]+z_T2[:,1])*24.6/1000, \"saddlebrown\")\n",
    "axs[0].set_ylabel(r'Biomass [$gDW/l$]')\n",
    "axs[0].set(yscale = 'log')\n",
    "\n",
    "axs[1].plot(t,z_T1[:,11]*0.06/1000, \"orange\")\n",
    "axs[1].plot(t,z_T2[:,11]*0.06/1000, \"saddlebrown\")\n",
    "axs[1].set_ylabel(r'Acetate acc. [$10^3 kg$]')\n",
    "axs[1].legend(['30°C','60°C'])\n",
    "\n",
    "for a in axs: a.set(\n",
    "    xticks = [0,20,40],\n",
    "    xlabel = 'Time [h]', \n",
    "    xlim = [0, t_rt])"
   ]
  },
  {
   "cell_type": "code",
   "execution_count": 24,
   "metadata": {},
   "outputs": [
    {
     "data": {
      "image/png": "[encoded data removed]",
      "text/plain": [
       "<Figure size 216x216 with 1 Axes>"
      ]
     },
     "metadata": {
      "needs_background": "light"
     },
     "output_type": "display_data"
    }
   ],
   "source": [
    "fig = plt.figure(figsize=(3,3))\n",
    "plt.axis('off')\n",
    "plt.plot(np.NaN, np.NaN, \"orange\")\n",
    "plt.plot(np.NaN, np.NaN, 'saddlebrown')\n",
    "plt.legend(['30°C','60°C'])\n",
    "plt.savefig('../Figures/Simulation/Legend2.svg')\n",
    "plt.show()"
   ]
  },
  {
   "cell_type": "markdown",
   "metadata": {},
   "source": [
    "Manually input a time after the steady state has been reached"
   ]
  },
  {
   "cell_type": "code",
   "execution_count": 25,
   "metadata": {},
   "outputs": [],
   "source": [
    "T_SteadyState = 20"
   ]
  },
  {
   "cell_type": "code",
   "execution_count": 26,
   "metadata": {},
   "outputs": [
    {
     "name": "stdout",
     "output_type": "stream",
     "text": [
      "0.0035473169691531523 ton/h\n",
      "0.01477718400691432 ton/h\n",
      "0.0062730336706053845 kg/h/m3\n",
      "0.02613179866309905 kg/h/m3\n"
     ]
    }
   ],
   "source": [
    "slopeT1, intercept = np.polyfit(t[t>T_SteadyState],z_T1[t>T_SteadyState,11],1)\n",
    "slopeT2, intercept = np.polyfit(t[t>T_SteadyState],z_T2[t>T_SteadyState,11],1)\n",
    "print(slopeT1*0.06/1000, \"ton/h\")\n",
    "print(slopeT2*0.06/1000, \"ton/h\")\n",
    "\n",
    "print(slopeT1*0.06/(V_L), \"kg/h/m3\")\n",
    "print(slopeT2*0.06/(V_L), \"kg/h/m3\")"
   ]
  }
 ],
 "metadata": {
  "kernelspec": {
   "display_name": "dFBACoCultivation",
   "language": "python",
   "name": "dfbacocultivation"
  },
  "language_info": {
   "codemirror_mode": {
    "name": "ipython",
    "version": 3
   },
   "file_extension": ".py",
   "mimetype": "text/x-python",
   "name": "python",
   "nbconvert_exporter": "python",
   "pygments_lexer": "ipython3",
   "version": "3.6.13"
  }
 },
 "nbformat": 4,
 "nbformat_minor": 4
}
