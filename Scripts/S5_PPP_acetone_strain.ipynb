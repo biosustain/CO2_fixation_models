{
 "cells": [
  {
   "cell_type": "markdown",
   "metadata": {},
   "source": [
    "## Phenotypic Phase Plane\n",
    "\n",
    "Adapted from D. Bavnhøj\n",
    "\n",
    "This notebook contains a Phenotypic Phase Plane analysis of the <i>Geobacillus</i> Acetone-producing model.\n",
    "\n",
    "Phenotypic Phase Planes (PPP) are a modeling approach to model a production envelope, which visualizes the tradeoff between a product of interest and cellular growth."
   ]
  },
  {
   "cell_type": "code",
   "execution_count": 9,
   "metadata": {},
   "outputs": [],
   "source": [
    "from cobra.io import read_sbml_model\n",
    "from cameo import phenotypic_phase_plane\n",
    "import matplotlib.pyplot as plt\n",
    "from os.path import dirname, join, pardir\n",
    "import pandas as pd"
   ]
  },
  {
   "cell_type": "markdown",
   "metadata": {},
   "source": [
    "Reading the <i>Geobacillus</i> acetone model."
   ]
  },
  {
   "cell_type": "code",
   "execution_count": 12,
   "metadata": {},
   "outputs": [],
   "source": [
    "data_dir = \"/Users/phivri/Documents/GitHub/MoGeoModel\"\n",
    "model = read_sbml_model(join(data_dir,'Models/p-thermo_acetone_anaerobic.xml'))"
   ]
  },
  {
   "cell_type": "markdown",
   "metadata": {},
   "source": [
    "First, I will try with the initial conditions given in the model, but constrainting the oxygen exchange"
   ]
  },
  {
   "cell_type": "code",
   "execution_count": 17,
   "metadata": {},
   "outputs": [
    {
     "data": {
      "text/plain": [
       "{'EX_cl_e': 1000.0,\n",
       " 'EX_nh4_e': 1000.0,\n",
       " 'EX_fe2_e': 1000.0,\n",
       " 'EX_h2o_e': 1000.0,\n",
       " 'EX_o2_e': 1000.0,\n",
       " 'EX_co2_e': 1000.0,\n",
       " 'EX_h_e': 1000.0,\n",
       " 'EX_cobalt2_e': 1000.0,\n",
       " 'EX_ac_e': 10.0,\n",
       " 'EX_pi_e': 1000.0,\n",
       " 'EX_so4_e': 1000.0,\n",
       " 'EX_k_e': 1000.0,\n",
       " 'EX_mg2_e': 1000.0,\n",
       " 'EX_ca2_e': 1000.0,\n",
       " 'EX_btn_e': 1.0,\n",
       " 'EX_thmpp_e': 1.0,\n",
       " 'EX_sprm_e': 1.0,\n",
       " 'EX_spmd_e': 1.0,\n",
       " 'EX_adocbl_e': 1.0,\n",
       " 'EX_10fthf_e': 1.0,\n",
       " 'EX_fe3_e': 1.0,\n",
       " 'EX_pheme_e': 1.0}"
      ]
     },
     "execution_count": 17,
     "metadata": {},
     "output_type": "execute_result"
    }
   ],
   "source": [
    "medium = model.medium\n",
    "medium[\"EX_o2_e\"] = 1000.0\n",
    "medium[\"EX_ac_e\"] = 10.0\n",
    "medium[\"EX_sucr_e\"] = 0.0\n",
    "medium[\"EX_glc__D_e\"] = 0.0\n",
    "model.medium = medium\n",
    "\n",
    "model.medium"
   ]
  },
  {
   "cell_type": "code",
   "execution_count": 18,
   "metadata": {},
   "outputs": [
    {
     "data": {
      "text/html": [
       "<h3>Objective</h3><p>1.0 biomass = 0.131913073053153</p><h4>Uptake</h4><table border=\"1\" class=\"dataframe\">\n",
       "  <thead>\n",
       "    <tr style=\"text-align: right;\">\n",
       "      <th>Metabolite</th>\n",
       "      <th>Reaction</th>\n",
       "      <th>Flux</th>\n",
       "      <th>C-Number</th>\n",
       "      <th>C-Flux</th>\n",
       "    </tr>\n",
       "  </thead>\n",
       "  <tbody>\n",
       "    <tr>\n",
       "      <td>10fthf_e</td>\n",
       "      <td>EX_10fthf_e</td>\n",
       "      <td>4.711E-05</td>\n",
       "      <td>20</td>\n",
       "      <td>0.00%</td>\n",
       "    </tr>\n",
       "    <tr>\n",
       "      <td>ac_e</td>\n",
       "      <td>EX_ac_e</td>\n",
       "      <td>10</td>\n",
       "      <td>2</td>\n",
       "      <td>99.95%</td>\n",
       "    </tr>\n",
       "    <tr>\n",
       "      <td>adocbl_e</td>\n",
       "      <td>EX_adocbl_e</td>\n",
       "      <td>2.626E-05</td>\n",
       "      <td>72</td>\n",
       "      <td>0.01%</td>\n",
       "    </tr>\n",
       "    <tr>\n",
       "      <td>btn_e</td>\n",
       "      <td>EX_btn_e</td>\n",
       "      <td>2.356E-07</td>\n",
       "      <td>10</td>\n",
       "      <td>0.00%</td>\n",
       "    </tr>\n",
       "    <tr>\n",
       "      <td>ca2_e</td>\n",
       "      <td>EX_ca2_e</td>\n",
       "      <td>0.000371</td>\n",
       "      <td>0</td>\n",
       "      <td>0.00%</td>\n",
       "    </tr>\n",
       "    <tr>\n",
       "      <td>fe2_e</td>\n",
       "      <td>EX_fe2_e</td>\n",
       "      <td>2.626E-05</td>\n",
       "      <td>0</td>\n",
       "      <td>0.00%</td>\n",
       "    </tr>\n",
       "    <tr>\n",
       "      <td>fe3_e</td>\n",
       "      <td>EX_fe3_e</td>\n",
       "      <td>0.004005</td>\n",
       "      <td>0</td>\n",
       "      <td>0.00%</td>\n",
       "    </tr>\n",
       "    <tr>\n",
       "      <td>h_e</td>\n",
       "      <td>EX_h_e</td>\n",
       "      <td>9.046</td>\n",
       "      <td>0</td>\n",
       "      <td>0.00%</td>\n",
       "    </tr>\n",
       "    <tr>\n",
       "      <td>k_e</td>\n",
       "      <td>EX_k_e</td>\n",
       "      <td>0.08341</td>\n",
       "      <td>0</td>\n",
       "      <td>0.00%</td>\n",
       "    </tr>\n",
       "    <tr>\n",
       "      <td>mg2_e</td>\n",
       "      <td>EX_mg2_e</td>\n",
       "      <td>0.01154</td>\n",
       "      <td>0</td>\n",
       "      <td>0.00%</td>\n",
       "    </tr>\n",
       "    <tr>\n",
       "      <td>nh4_e</td>\n",
       "      <td>EX_nh4_e</td>\n",
       "      <td>1.136</td>\n",
       "      <td>0</td>\n",
       "      <td>0.00%</td>\n",
       "    </tr>\n",
       "    <tr>\n",
       "      <td>o2_e</td>\n",
       "      <td>EX_o2_e</td>\n",
       "      <td>15.04</td>\n",
       "      <td>0</td>\n",
       "      <td>0.00%</td>\n",
       "    </tr>\n",
       "    <tr>\n",
       "      <td>pheme_e</td>\n",
       "      <td>EX_pheme_e</td>\n",
       "      <td>5.253E-05</td>\n",
       "      <td>34</td>\n",
       "      <td>0.01%</td>\n",
       "    </tr>\n",
       "    <tr>\n",
       "      <td>pi_e</td>\n",
       "      <td>EX_pi_e</td>\n",
       "      <td>0.102</td>\n",
       "      <td>0</td>\n",
       "      <td>0.00%</td>\n",
       "    </tr>\n",
       "    <tr>\n",
       "      <td>so4_e</td>\n",
       "      <td>EX_so4_e</td>\n",
       "      <td>0.0253</td>\n",
       "      <td>0</td>\n",
       "      <td>0.00%</td>\n",
       "    </tr>\n",
       "    <tr>\n",
       "      <td>spmd_e</td>\n",
       "      <td>EX_spmd_e</td>\n",
       "      <td>0.0001413</td>\n",
       "      <td>7</td>\n",
       "      <td>0.00%</td>\n",
       "    </tr>\n",
       "    <tr>\n",
       "      <td>sprm_e</td>\n",
       "      <td>EX_sprm_e</td>\n",
       "      <td>0.0003298</td>\n",
       "      <td>10</td>\n",
       "      <td>0.02%</td>\n",
       "    </tr>\n",
       "    <tr>\n",
       "      <td>thmpp_e</td>\n",
       "      <td>EX_thmpp_e</td>\n",
       "      <td>2.626E-05</td>\n",
       "      <td>12</td>\n",
       "      <td>0.00%</td>\n",
       "    </tr>\n",
       "  </tbody>\n",
       "</table><h4>Secretion</h4><table border=\"1\" class=\"dataframe\">\n",
       "  <thead>\n",
       "    <tr style=\"text-align: right;\">\n",
       "      <th>Metabolite</th>\n",
       "      <th>Reaction</th>\n",
       "      <th>Flux</th>\n",
       "      <th>C-Number</th>\n",
       "      <th>C-Flux</th>\n",
       "    </tr>\n",
       "  </thead>\n",
       "  <tbody>\n",
       "    <tr>\n",
       "      <td>Biomass_e</td>\n",
       "      <td>EX_Biomass_e</td>\n",
       "      <td>-0.1319</td>\n",
       "      <td>10</td>\n",
       "      <td>7.96%</td>\n",
       "    </tr>\n",
       "    <tr>\n",
       "      <td>co2_e</td>\n",
       "      <td>EX_co2_e</td>\n",
       "      <td>-15.26</td>\n",
       "      <td>1</td>\n",
       "      <td>92.04%</td>\n",
       "    </tr>\n",
       "    <tr>\n",
       "      <td>h2o_e</td>\n",
       "      <td>EX_h2o_e</td>\n",
       "      <td>-17.43</td>\n",
       "      <td>0</td>\n",
       "      <td>0.00%</td>\n",
       "    </tr>\n",
       "  </tbody>\n",
       "</table>"
      ],
      "text/plain": [
       "<cobra.summary.model_summary.ModelSummary at 0x7f8426fba240>"
      ]
     },
     "execution_count": 18,
     "metadata": {},
     "output_type": "execute_result"
    }
   ],
   "source": [
    "model.summary()"
   ]
  },
  {
   "cell_type": "code",
   "execution_count": 25,
   "metadata": {},
   "outputs": [],
   "source": [
    "result = phenotypic_phase_plane(model,\n",
    "                                variables=[model.reactions.biomass],\n",
    "                                objective=model.reactions.EX_act_e)"
   ]
  },
  {
   "cell_type": "code",
   "execution_count": 27,
   "metadata": {
    "scrolled": false
   },
   "outputs": [
    {
     "data": {
      "text/plain": [
       "[<matplotlib.lines.Line2D at 0x7f8426b7d198>]"
      ]
     },
     "execution_count": 27,
     "metadata": {},
     "output_type": "execute_result"
    },
    {
     "data": {
      "image/png": "[encoded data removed]",
      "text/plain": [
       "<Figure size 432x288 with 1 Axes>"
      ]
     },
     "metadata": {
      "needs_background": "light"
     },
     "output_type": "display_data"
    }
   ],
   "source": [
    "result = result.data_frame\n",
    "growth_glu = result[\"biomass\"]\n",
    "product_glu = result[\"objective_upper_bound\"]\n",
    "\n",
    "plt.title(\"Phenotypic phase plane: Acetate\", size = 14)\n",
    "plt.xlabel(\"Growth  [$h^{-1}$]\")\n",
    "plt.ylabel(\"Acetone flux [$mmol*gDW^{-1}*h^{-1}$]\")\n",
    "plt.plot(growth_glu, product_glu)"
   ]
  },
  {
   "cell_type": "markdown",
   "metadata": {},
   "source": [
    "The plot above shows, cellular growth and the acetone flux. Decreasing celullar growth (towards 0 on the x axis) increases the flux of acetone."
   ]
  }
 ],
 "metadata": {
  "kernelspec": {
   "display_name": "dFBACoCultivation",
   "language": "python",
   "name": "dfbacocultivation"
  }
 },
 "nbformat": 4,
 "nbformat_minor": 5
}
