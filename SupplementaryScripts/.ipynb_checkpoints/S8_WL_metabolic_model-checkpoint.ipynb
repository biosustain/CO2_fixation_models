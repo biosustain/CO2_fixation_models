{
 "cells": [
  {
   "cell_type": "code",
   "execution_count": null,
   "metadata": {},
   "outputs": [],
   "source": [
    "import cobra.io\n",
    "import escher\n",
    "from escher import Builder\n",
    "from cobra import Model, Reaction, Metabolite\n",
    "from os.path import join"
   ]
  },
  {
   "cell_type": "code",
   "execution_count": 2,
   "metadata": {},
   "outputs": [],
   "source": [
    "data_dir = \"/Users/phivri/Documents/GitHub/Biosustain/MoGeoModel\""
   ]
  },
  {
   "cell_type": "code",
   "execution_count": 3,
   "metadata": {},
   "outputs": [
    {
     "name": "stdout",
     "output_type": "stream",
     "text": [
      "Using license file /Users/phivri/gurobi.lic\n",
      "Academic license - for non-commercial use only - expires 2022-07-23\n"
     ]
    }
   ],
   "source": [
    "Cljung_Model = cobra.io.read_sbml_model(join(data_dir,'Models/C-ljungdahlii_iHN637.xml'))\n",
    "\n",
    "medium = Cljung_Model.medium\n",
    "medium[\"EX_fru_e\"]= 0\n",
    "medium[\"EX_co2_e\"]= 1000\n",
    "medium[\"EX_co_e\"]= 0\n",
    "medium[\"EX_h2_e\"]= 10\n",
    "Cljung_Model.medium = medium\n",
    "#solution = Cljung_Model.optimize()"
   ]
  },
  {
   "cell_type": "markdown",
   "metadata": {},
   "source": [
    "# Determine minimal set of reactions for acetogenesis:"
   ]
  },
  {
   "cell_type": "code",
   "execution_count": 90,
   "metadata": {},
   "outputs": [
    {
     "name": "stdout",
     "output_type": "stream",
     "text": [
      "2.5\n"
     ]
    },
    {
     "data": {
      "text/plain": [
       "Index(['EX_h2o_e', 'EX_ac_e', 'EX_co_e', 'EX_co2_e', 'ACKr', 'ATPM', 'EX_h_e',\n",
       "       'CO2t', 'COt', 'ALCD4y', 'CODH4', 'CODH_ACS', 'H2Ot', 'FDH7', 'FTHFLi',\n",
       "       'METR', 'MTHFD', 'MTHFC', 'MTHFR5', 'PTAr', 'RNF', 'ALCD4', 'ATPS4r',\n",
       "       'ACt'],\n",
       "      dtype='object')"
      ]
     },
     "execution_count": 90,
     "metadata": {},
     "output_type": "execute_result"
    }
   ],
   "source": [
    "Cljung_Model = cobra.io.read_sbml_model(join(data_dir,'Models/C-ljungdahlii_iHN637.xml'))\n",
    "\n",
    "medium = Cljung_Model.medium\n",
    "medium[\"EX_fru_e\"]= 0\n",
    "medium[\"EX_co2_e\"]= 1000\n",
    "medium[\"EX_co_e\"]= 10\n",
    "medium[\"EX_h2_e\"]= 0\n",
    "Cljung_Model.medium = medium\n",
    "\n",
    "Cljung_Model.reactions.ATPM.bounds = 0, 1000\n",
    "\n",
    "Cljung_Model.reactions.ACACT1r.bounds = 0,1000.0\n",
    "Cljung_Model.reactions.HACD1.bounds = 0,1000.0\n",
    "Cljung_Model.reactions.ECOAH1.bounds = 0,1000.0\n",
    "Cljung_Model.reactions.ACOAD1z.bounds = 0,1000.0\n",
    "Cljung_Model.reactions.PBUTT.bounds = 0,1000.0\n",
    "Cljung_Model.reactions.BUTKr.bounds = -1000.0,0\n",
    "Cljung_Model.reactions.BTCOARx.bounds = 0,1000.0\n",
    "Cljung_Model.reactions.ALCD4.bounds = -1000.0,0\n",
    "Cljung_Model.reactions.BTOHt.bounds = -1000.0, 1000.0\n",
    "Cljung_Model.reactions.BUTt.bounds = -1000.0, 1000.0\n",
    "\n",
    "Cljung_Model.reactions.ACt2r.knock_out()\n",
    "\n",
    "acT = Reaction(\"ACt\")\n",
    "acT.name = \"Acetate transporter\"\n",
    "acT.add_metabolites({ \n",
    "    Cljung_Model.metabolites.ac_c: -1.0,\n",
    "    Cljung_Model.metabolites.ac_e: 1.0\n",
    "})\n",
    "acT\n",
    "\n",
    "#Cljung_Model.reactions.ACACT1r.knock_out()\n",
    "\n",
    "Cljung_Model.add_reaction(acT)\n",
    "\n",
    "#Cljung_Model.objective = \"ATPS4r\"\n",
    "Cljung_Model.objective = \"EX_ac_e\"\n",
    "#Cljung_Model.objective = \"EX_etoh_e\"\n",
    "#Cljung_Model.objective = \"EX_but_e\"\n",
    "#Cljung_Model.objective = \"EX_btoh_e\"\n",
    "#Cljung_Model.objective = \"EX_btd_RR_e\"\n",
    "print(Cljung_Model.slim_optimize())\n",
    "solution = Cljung_Model.optimize()\n",
    "\n",
    "solution.fluxes[solution.fluxes != 0].index"
   ]
  },
  {
   "cell_type": "code",
   "execution_count": 91,
   "metadata": {},
   "outputs": [
    {
     "data": {
      "application/vnd.jupyter.widget-view+json": {
       "model_id": "f0bafb24c88e4cf5bbddc3c2686bcf1b",
       "version_major": 2,
       "version_minor": 0
      },
      "text/plain": [
       "Builder(reaction_data={'EX_h2_e': 0.0, 'EX_h2o_e': -5.0, 'EX_his__L_e': 0.0, 'EX_ile__L_e': 0.0, 'EX_lac__D_e'…"
      ]
     },
     "metadata": {},
     "output_type": "display_data"
    }
   ],
   "source": [
    "Builder(model = Cljung_Model, map_json = join(data_dir,'Models/EscherMaps/WL_core_clean.json'), reaction_data = solution.fluxes.to_dict())"
   ]
  },
  {
   "cell_type": "code",
   "execution_count": 80,
   "metadata": {},
   "outputs": [
    {
     "name": "stdout",
     "output_type": "stream",
     "text": [
      "2.5\n"
     ]
    },
    {
     "data": {
      "application/vnd.jupyter.widget-view+json": {
       "model_id": "cd27e6fe2b4042878ba8355a624626aa",
       "version_major": 2,
       "version_minor": 0
      },
      "text/plain": [
       "Builder(reaction_data={'EX_h2_e': 0.0, 'EX_h2o_e': -5.0, 'EX_ac_e': 2.5, 'EX_co2_e': 5.0, 'EX_co_e': -10.0, 'E…"
      ]
     },
     "metadata": {},
     "output_type": "display_data"
    }
   ],
   "source": [
    "WLmodel = Model('Wood_Ljungdahl_Core')\n",
    "\n",
    "WLmodel.add_reactions([\n",
    "Cljung_Model.reactions.EX_h2_e,\n",
    "Cljung_Model.reactions.EX_h2o_e,\n",
    "Cljung_Model.reactions.EX_ac_e,\n",
    "Cljung_Model.reactions.EX_co2_e,\n",
    "Cljung_Model.reactions.EX_co_e,\n",
    "Cljung_Model.reactions.EX_h_e,\n",
    "Cljung_Model.reactions.CO2t,\n",
    "Cljung_Model.reactions.COt,\n",
    "Cljung_Model.reactions.ACt,\n",
    "\n",
    "Cljung_Model.reactions.ACKr,\n",
    "Cljung_Model.reactions.ADK1,\n",
    "Cljung_Model.reactions.H2Ot,\n",
    "Cljung_Model.reactions.H2td,\n",
    "\n",
    "Cljung_Model.reactions.ASPT,\n",
    "Cljung_Model.reactions.CODH4,\n",
    "Cljung_Model.reactions.CODH_ACS,\n",
    "\n",
    "Cljung_Model.reactions.FRNDPR2r,\n",
    "Cljung_Model.reactions.POR,\n",
    "Cljung_Model.reactions.PFL,\n",
    "    \n",
    "Cljung_Model.reactions.FDH7,\n",
    "Cljung_Model.reactions.FUM,\n",
    "Cljung_Model.reactions.FTHFLi,\n",
    "Cljung_Model.reactions.GLUDy,\n",
    "Cljung_Model.reactions.METR,\n",
    "Cljung_Model.reactions.HYDFDN2r,\n",
    "Cljung_Model.reactions.MDH,\n",
    "Cljung_Model.reactions.MTHFD,\n",
    "Cljung_Model.reactions.MTHFC,\n",
    "Cljung_Model.reactions.MTHFR5,\n",
    "Cljung_Model.reactions.PTAr,\n",
    "Cljung_Model.reactions.RNF,\n",
    "Cljung_Model.reactions.PPA,\n",
    "Cljung_Model.reactions.ASPTA,\n",
    "Cljung_Model.reactions.ATPS4r,\n",
    "Cljung_Model.reactions.NTPP6])\n",
    "\n",
    "WLmodel.objective = \"EX_ac_e\"\n",
    "print(WLmodel.slim_optimize())\n",
    "solution = WLmodel.optimize()\n",
    "Builder(model = WLmodel, map_json = join(data_dir,'Models/EscherMaps/WL_core.json'), reaction_data = solution.fluxes.to_dict())"
   ]
  },
  {
   "cell_type": "code",
   "execution_count": 62,
   "metadata": {},
   "outputs": [],
   "source": []
  },
  {
   "cell_type": "code",
   "execution_count": 57,
   "metadata": {},
   "outputs": [
    {
     "name": "stdout",
     "output_type": "stream",
     "text": [
      "ATPM\n",
      "BTOHt\n",
      "BUTt\n",
      "HYDFDi\n",
      "HYDFDN\n"
     ]
    }
   ],
   "source": [
    "for x in Cljung_Model.reactions:\n",
    "    if x.bounds == (0, 0):{\n",
    "        print(x.id)\n",
    "    }"
   ]
  },
  {
   "cell_type": "code",
   "execution_count": 92,
   "metadata": {},
   "outputs": [
    {
     "name": "stdout",
     "output_type": "stream",
     "text": [
      "Acetate production\n",
      "Product flux 2.5\n",
      "ATP flux 2.5\n",
      "CO2 flux -5.0\n",
      "Ethanol production\n",
      "Product flux 1.666666666666666\n",
      "ATP flux 2.9166666666666665\n",
      "CO2 flux -6.666666666666668\n",
      "Butyrate production\n",
      "Product flux 1.0\n",
      "ATP flux 3.75\n",
      "CO2 flux -6.0\n",
      "Butanol production\n",
      "Product flux 0.8333333333333335\n",
      "ATP flux 4.166666666666669\n",
      "CO2 flux -6.666666666666668\n",
      "Butanediol production\n",
      "Product flux 0.9090909090909091\n",
      "ATP flux 2.7272727272727266\n",
      "CO2 flux -6.3636363636363615\n"
     ]
    }
   ],
   "source": [
    "with Cljung_Model:\n",
    "    Cljung_Model.objective = \"EX_ac_e\"\n",
    "    Cljung_Model.reactions.ATPM.bounds = 0, 0\n",
    "    print(\"Acetate production\")\n",
    "    print(\"Product flux\", Cljung_Model.slim_optimize())\n",
    "    print(\"ATP flux\", Cljung_Model.reactions.ATPS4r.flux)\n",
    "    print(\"CO2 flux\", Cljung_Model.reactions.CO2t.flux)\n",
    "    \n",
    "with Cljung_Model:\n",
    "    Cljung_Model.objective = \"EX_etoh_e\"\n",
    "    Cljung_Model.reactions.ATPM.bounds = 0, 0\n",
    "    print(\"Ethanol production\")\n",
    "    print(\"Product flux\", Cljung_Model.slim_optimize())\n",
    "    print(\"ATP flux\", Cljung_Model.reactions.ATPS4r.flux)\n",
    "    print(\"CO2 flux\", Cljung_Model.reactions.CO2t.flux)\n",
    "\n",
    "with Cljung_Model:\n",
    "    Cljung_Model.objective = \"EX_but_e\"\n",
    "    Cljung_Model.reactions.ATPM.bounds = 0, 0\n",
    "    Cljung_Model.reactions.BUTt.bounds = -1000.0, 1000.0\n",
    "    Cljung_Model.reactions.BUTKr.bounds = -1000.0, 1000.0\n",
    "    Cljung_Model.reactions.PBUTT.bounds = -1000.0, 1000.0\n",
    "    Cljung_Model.reactions.ACOAD1z.bounds = -1000.0, 1000.0\n",
    "    Cljung_Model.reactions.ECOAH1.bounds = -1000.0, 1000.0\n",
    "    Cljung_Model.reactions.HACD1.bounds = -1000.0, 1000.0\n",
    "    Cljung_Model.reactions.ACACT1r.bounds = -1000.0, 1000.0\n",
    "    print(\"Butyrate production\")\n",
    "    print(\"Product flux\", Cljung_Model.slim_optimize())\n",
    "    print(\"ATP flux\", Cljung_Model.reactions.ATPS4r.flux)\n",
    "    print(\"CO2 flux\", Cljung_Model.reactions.CO2t.flux)\n",
    "    \n",
    "with Cljung_Model:\n",
    "    Cljung_Model.objective = \"EX_btoh_e\"\n",
    "    Cljung_Model.reactions.ATPM.bounds = 0, 0\n",
    "    Cljung_Model.reactions.BTOHt.bounds = -1000.0, 1000.0\n",
    "    Cljung_Model.reactions.ALCD4.bounds = -1000.0, 1000.0\n",
    "    Cljung_Model.reactions.BTCOARx.bounds = -1000.0, 1000.0\n",
    "    Cljung_Model.reactions.ACOAD1z.bounds = -1000.0, 1000.0\n",
    "    Cljung_Model.reactions.ECOAH1.bounds = -1000.0, 1000.0\n",
    "    Cljung_Model.reactions.HACD1.bounds = -1000.0, 1000.0\n",
    "    Cljung_Model.reactions.ACACT1r.bounds = -1000.0, 1000.0\n",
    "    print(\"Butanol production\")\n",
    "    print(\"Product flux\", Cljung_Model.slim_optimize())\n",
    "    print(\"ATP flux\", Cljung_Model.reactions.ATPS4r.flux)\n",
    "    print(\"CO2 flux\", Cljung_Model.reactions.CO2t.flux)\n",
    "    \n",
    "with Cljung_Model:\n",
    "    Cljung_Model.objective = \"EX_btd_RR_e\"\n",
    "    Cljung_Model.reactions.ATPM.bounds = 0, 0\n",
    "    Cljung_Model.reactions.BTDD_RR.bounds = -1000.0, 1000.0\n",
    "    Cljung_Model.reactions.BTDt_RR.bounds = -1000.0, 1000.0\n",
    "    Cljung_Model.reactions.ACLDC.bounds = -1000.0, 1000.0\n",
    "    Cljung_Model.reactions.ACLS.bounds = -1000.0, 1000.0\n",
    "    Cljung_Model.reactions.POR.bounds = -1000.0, 1000.0\n",
    "    print(\"Butanediol production\")\n",
    "    print(\"Product flux\", Cljung_Model.slim_optimize())\n",
    "    print(\"ATP flux\", Cljung_Model.reactions.ATPS4r.flux)\n",
    "    print(\"CO2 flux\", Cljung_Model.reactions.CO2t.flux)"
   ]
  },
  {
   "cell_type": "code",
   "execution_count": null,
   "metadata": {},
   "outputs": [],
   "source": []
  },
  {
   "cell_type": "code",
   "execution_count": null,
   "metadata": {},
   "outputs": [],
   "source": []
  },
  {
   "cell_type": "code",
   "execution_count": null,
   "metadata": {},
   "outputs": [],
   "source": [
    "Builder(model = Cljung_Model, map_json = join(data_dir,'Models/EscherMaps/WL_core.json'), reaction_data = solution.fluxes.to_dict())"
   ]
  },
  {
   "cell_type": "code",
   "execution_count": null,
   "metadata": {},
   "outputs": [],
   "source": [
    "Cljung_Model.reactions.EX_h2_e\n",
    "Cljung_Model.reactions.EX_h2o_e\n",
    "Cljung_Model.reactions.EX_ac_e\n",
    "Cljung_Model.reactions.EX_co2_e\n",
    "Cljung_Model.reactions.ACt2r\n",
    "Cljung_Model.reactions.ACKr\n",
    "Cljung_Model.reactions.ADK1\n",
    "Cljung_Model.reactions.ATPM\n",
    "Cljung_Model.reactions.EX_h_e\n",
    "Cljung_Model.reactions.CO2t\n",
    "Cljung_Model.reactions.CODH_ACS\n",
    "Cljung_Model.reactions.H2Ot\n",
    "Cljung_Model.reactions.H2td\n",
    "Cljung_Model.reactions.FDH7\n",
    "Cljung_Model.reactions.FRNDPR2r\n",
    "Cljung_Model.reactions.FTHFLi\n",
    "Cljung_Model.reactions.METR\n",
    "Cljung_Model.reactions.HYDFDN2r\n",
    "Cljung_Model.reactions.MTHFD\n",
    "Cljung_Model.reactions.MTHFC\n",
    "Cljung_Model.reactions.MTHFR5\n",
    "Cljung_Model.reactions.PTAr\n",
    "Cljung_Model.reactions.RNF\n",
    "Cljung_Model.reactions.PPA\n",
    "Cljung_Model.reactions.ATPS4r\n",
    "Cljung_Model.reactions.NTPP6"
   ]
  },
  {
   "cell_type": "code",
   "execution_count": null,
   "metadata": {},
   "outputs": [],
   "source": []
  },
  {
   "cell_type": "code",
   "execution_count": 9,
   "metadata": {},
   "outputs": [],
   "source": [
    "WLmodel = Model('Wood_Ljungdahl_Core')\n",
    "\n",
    "WLmodel.add_reactions([\n",
    "#Transport & Exchange:\n",
    "Cljung_Model.reactions.EX_h2_e,\n",
    "Cljung_Model.reactions.EX_h2o_e,\n",
    "Cljung_Model.reactions.EX_co2_e,\n",
    "Cljung_Model.reactions.EX_co_e,\n",
    "Cljung_Model.reactions.EX_ac_e,\n",
    "Cljung_Model.reactions.EX_etoh_e,\n",
    "Cljung_Model.reactions.EX_btd_RR_e,\n",
    "Cljung_Model.reactions.EX_but_e,\n",
    "Cljung_Model.reactions.EX_btoh_e,\n",
    "Cljung_Model.reactions.H2td,\n",
    "Cljung_Model.reactions.H2Ot,\n",
    "Cljung_Model.reactions.CO2t,\n",
    "Cljung_Model.reactions.COt,\n",
    "#Cljung_Model.reactions.ACt2r,\n",
    "Cljung_Model.reactions.ETOHt,\n",
    "Cljung_Model.reactions.BTDt_RR,\n",
    "Cljung_Model.reactions.BUTt,\n",
    "Cljung_Model.reactions.BTOHt,\n",
    "#Energy:\n",
    "Cljung_Model.reactions.HYDFDN,\n",
    "Cljung_Model.reactions.HYDFDi,\n",
    "Cljung_Model.reactions.HYDFDN2r,\n",
    "Cljung_Model.reactions.ATPS4r,\n",
    "Cljung_Model.reactions.ATPM,\n",
    "Cljung_Model.reactions.RNF,#Add this reaction in Escher\n",
    "Cljung_Model.reactions.NTPP6,#Add this reaction in Escher\n",
    "Cljung_Model.reactions.PPA,#Add this reaction in Escher\n",
    "Cljung_Model.reactions.ADK1,#Add this reaction in Escher\n",
    "Cljung_Model.reactions.FRNDPR2r,#Add this reaction in Escher\n",
    "#WL pathway\n",
    "Cljung_Model.reactions.FDH7,\n",
    "Cljung_Model.reactions.FTHFLi,\n",
    "Cljung_Model.reactions.MTHFC,\n",
    "Cljung_Model.reactions.MTHFD,\n",
    "Cljung_Model.reactions.MTHFR5,\n",
    "Cljung_Model.reactions.METR,\n",
    "Cljung_Model.reactions.CODH4,\n",
    "Cljung_Model.reactions.CODH_ACS,\n",
    "Cljung_Model.reactions.PTAr,\n",
    "Cljung_Model.reactions.ACKr,\n",
    "Cljung_Model.reactions.ACAFDOR,\n",
    "Cljung_Model.reactions.ALCD2y,\n",
    "Cljung_Model.reactions.ALCD2x,\n",
    "Cljung_Model.reactions.POR,\n",
    "Cljung_Model.reactions.ACLS,\n",
    "Cljung_Model.reactions.ACLDC,\n",
    "Cljung_Model.reactions.BTDD_RR,\n",
    "Cljung_Model.reactions.ACACT1r,\n",
    "Cljung_Model.reactions.HACD1,\n",
    "Cljung_Model.reactions.ECOAH1,\n",
    "Cljung_Model.reactions.ACOAD1z,\n",
    "Cljung_Model.reactions.BTCOARx,\n",
    "Cljung_Model.reactions.ALCD4,\n",
    "Cljung_Model.reactions.PBUTT,\n",
    "Cljung_Model.reactions.BUTKr])"
   ]
  },
  {
   "cell_type": "code",
   "execution_count": 10,
   "metadata": {},
   "outputs": [
    {
     "name": "stdout",
     "output_type": "stream",
     "text": [
      "BUTt\n",
      "BTOHt\n",
      "HYDFDN\n",
      "HYDFDi\n",
      "ATPM\n",
      "ACACT1r\n",
      "HACD1\n",
      "ECOAH1\n",
      "ACOAD1z\n",
      "BTCOARx\n",
      "ALCD4\n",
      "PBUTT\n",
      "BUTKr\n"
     ]
    }
   ],
   "source": [
    "for x in WLmodel.reactions:\n",
    "    if x.bounds == (0, 0):{\n",
    "        print(x.id)\n",
    "    }"
   ]
  },
  {
   "cell_type": "code",
   "execution_count": 11,
   "metadata": {},
   "outputs": [
    {
     "data": {
      "text/html": [
       "<strong><em>Optimal</em> solution with objective value 1.667</strong><br><div>\n",
       "<style scoped>\n",
       "    .dataframe tbody tr th:only-of-type {\n",
       "        vertical-align: middle;\n",
       "    }\n",
       "\n",
       "    .dataframe tbody tr th {\n",
       "        vertical-align: top;\n",
       "    }\n",
       "\n",
       "    .dataframe thead th {\n",
       "        text-align: right;\n",
       "    }\n",
       "</style>\n",
       "<table border=\"1\" class=\"dataframe\">\n",
       "  <thead>\n",
       "    <tr style=\"text-align: right;\">\n",
       "      <th></th>\n",
       "      <th>fluxes</th>\n",
       "      <th>reduced_costs</th>\n",
       "    </tr>\n",
       "  </thead>\n",
       "  <tbody>\n",
       "    <tr>\n",
       "      <th>EX_h2_e</th>\n",
       "      <td>-10.000000</td>\n",
       "      <td>-0.333333</td>\n",
       "    </tr>\n",
       "    <tr>\n",
       "      <th>EX_h2o_e</th>\n",
       "      <td>5.000000</td>\n",
       "      <td>0.000000</td>\n",
       "    </tr>\n",
       "    <tr>\n",
       "      <th>EX_co2_e</th>\n",
       "      <td>-3.333333</td>\n",
       "      <td>-0.000000</td>\n",
       "    </tr>\n",
       "    <tr>\n",
       "      <th>EX_co_e</th>\n",
       "      <td>0.000000</td>\n",
       "      <td>-0.333333</td>\n",
       "    </tr>\n",
       "    <tr>\n",
       "      <th>EX_ac_e</th>\n",
       "      <td>0.000000</td>\n",
       "      <td>-2.333333</td>\n",
       "    </tr>\n",
       "    <tr>\n",
       "      <th>...</th>\n",
       "      <td>...</td>\n",
       "      <td>...</td>\n",
       "    </tr>\n",
       "    <tr>\n",
       "      <th>ACOAD1z</th>\n",
       "      <td>0.000000</td>\n",
       "      <td>-0.333333</td>\n",
       "    </tr>\n",
       "    <tr>\n",
       "      <th>BTCOARx</th>\n",
       "      <td>0.000000</td>\n",
       "      <td>-1.666667</td>\n",
       "    </tr>\n",
       "    <tr>\n",
       "      <th>ALCD4</th>\n",
       "      <td>0.000000</td>\n",
       "      <td>0.333333</td>\n",
       "    </tr>\n",
       "    <tr>\n",
       "      <th>PBUTT</th>\n",
       "      <td>0.000000</td>\n",
       "      <td>-2.333333</td>\n",
       "    </tr>\n",
       "    <tr>\n",
       "      <th>BUTKr</th>\n",
       "      <td>0.000000</td>\n",
       "      <td>0.000000</td>\n",
       "    </tr>\n",
       "  </tbody>\n",
       "</table>\n",
       "<p>53 rows × 2 columns</p>\n",
       "</div>"
      ],
      "text/plain": [
       "<Solution 1.667 at 0x7fe1aa220860>"
      ]
     },
     "execution_count": 11,
     "metadata": {},
     "output_type": "execute_result"
    }
   ],
   "source": [
    "WLmodel.objective = \"EX_etoh_e\"\n",
    "WLmodel.optimize()"
   ]
  },
  {
   "cell_type": "code",
   "execution_count": 13,
   "metadata": {},
   "outputs": [
    {
     "data": {
      "text/html": [
       "\n",
       "        <table>\n",
       "            <tr>\n",
       "                <td><strong>Reaction identifier</strong></td><td>ACt2r</td>\n",
       "            </tr><tr>\n",
       "                <td><strong>Name</strong></td><td>Acetate reversible transport via proton symport</td>\n",
       "            </tr><tr>\n",
       "                <td><strong>Memory address</strong></td>\n",
       "                <td>0x07fe190decfd0</td>\n",
       "            </tr><tr>\n",
       "                <td><strong>Stoichiometry</strong></td>\n",
       "                <td>\n",
       "                    <p style='text-align:right'>ac_e + h_e <=> ac_c + h_c</p>\n",
       "                    <p style='text-align:right'>Acetate + H+ <=> Acetate + H+</p>\n",
       "                </td>\n",
       "            </tr><tr>\n",
       "                <td><strong>GPR</strong></td><td></td>\n",
       "            </tr><tr>\n",
       "                <td><strong>Lower bound</strong></td><td>-1000.0</td>\n",
       "            </tr><tr>\n",
       "                <td><strong>Upper bound</strong></td><td>1000.0</td>\n",
       "            </tr>\n",
       "        </table>\n",
       "        "
      ],
      "text/plain": [
       "<Reaction ACt2r at 0x7fe190decfd0>"
      ]
     },
     "execution_count": 13,
     "metadata": {},
     "output_type": "execute_result"
    }
   ],
   "source": [
    "WLmodel.reactions.ACt2r"
   ]
  },
  {
   "cell_type": "code",
   "execution_count": 12,
   "metadata": {},
   "outputs": [
    {
     "data": {
      "text/html": [
       "<h3>Objective</h3><p>1.0 EX_ac_e = 0.0</p><h4>Uptake</h4><table border=\"1\" class=\"dataframe\">\n",
       "  <thead>\n",
       "    <tr style=\"text-align: right;\">\n",
       "      <th>Metabolite</th>\n",
       "      <th>Reaction</th>\n",
       "      <th>Flux</th>\n",
       "      <th>C-Number</th>\n",
       "      <th>C-Flux</th>\n",
       "    </tr>\n",
       "  </thead>\n",
       "  <tbody>\n",
       "  </tbody>\n",
       "</table><h4>Secretion</h4><table border=\"1\" class=\"dataframe\">\n",
       "  <thead>\n",
       "    <tr style=\"text-align: right;\">\n",
       "      <th>Metabolite</th>\n",
       "      <th>Reaction</th>\n",
       "      <th>Flux</th>\n",
       "      <th>C-Number</th>\n",
       "      <th>C-Flux</th>\n",
       "    </tr>\n",
       "  </thead>\n",
       "  <tbody>\n",
       "  </tbody>\n",
       "</table>"
      ],
      "text/plain": [
       "<cobra.summary.model_summary.ModelSummary at 0x7fe1b0389cc0>"
      ]
     },
     "execution_count": 12,
     "metadata": {},
     "output_type": "execute_result"
    }
   ],
   "source": [
    "WLmodel.objective = \"EX_ac_e\"\n",
    "WLmodel.optimize()\n",
    "#solution = WLmodel.optimize()\n",
    "WLmodel.summary()\n",
    "#print(\"Flux through objective function: \",WLmodel.objective.expression, \" = \",round(WLmodel.slim_optimize(),1))\n",
    "#Builder(model = WLmodel, map_json = join(data_dir,'Models/EscherMaps/WL_core.json'), reaction_data = solution.fluxes.to_dict())"
   ]
  },
  {
   "cell_type": "markdown",
   "metadata": {},
   "source": [
    "# Add Acetone production pathway"
   ]
  },
  {
   "cell_type": "code",
   "execution_count": 14,
   "metadata": {},
   "outputs": [],
   "source": [
    "WLmodelActn = WLmodel\n",
    "\n",
    "WLmodelActn.add_metabolites(Metabolite(id='acac_c',formula = 'C4H6O3', name = 'Acetoacetate', compartment = 'c' ))\n",
    "WLmodelActn.add_metabolites(Metabolite(id='act_c',formula = 'C3H6O', name = 'Acetone', compartment = 'c' ))\n",
    "WLmodelActn.add_metabolites(Metabolite(id='act_e', formula = 'C3H6O', name = 'Acetone', compartment = 'e'))"
   ]
  },
  {
   "cell_type": "code",
   "execution_count": 15,
   "metadata": {},
   "outputs": [
    {
     "name": "stdout",
     "output_type": "stream",
     "text": [
      "{'H': 2.0}\n",
      "(0.0, 1000.0)\n",
      "aacoa_c + ac_c --> acac_c + accoa_c + h_c\n"
     ]
    }
   ],
   "source": [
    "ctfAB_ac = Reaction(\"ctfAB_ac\")\n",
    "ctfAB_ac.name = \"Acetate-acetoacetate CoA-transferase\"\n",
    "\n",
    "ctfAB_ac.add_metabolites({\n",
    "    WLmodelActn.metabolites.ac_c: -1.0,      #Acetate\n",
    "    WLmodelActn.metabolites.aacoa_c: -1.0,   #Acetoacetyl-CoA\n",
    "    WLmodelActn.metabolites.acac_c: 1.0,     #Acetoacetate\n",
    "    WLmodelActn.metabolites.accoa_c: 1.0,    #Acetyl-CoA\n",
    "    WLmodelActn.metabolites.h_c: 1.0\n",
    "})\n",
    "print(ctfAB_ac.check_mass_balance())    #ensure correct mass balance\n",
    "print(ctfAB_ac.bounds)                  #Ensure correct bounds\n",
    "print(ctfAB_ac.reaction)                #Ensure correct reaction"
   ]
  },
  {
   "cell_type": "code",
   "execution_count": 16,
   "metadata": {},
   "outputs": [
    {
     "name": "stdout",
     "output_type": "stream",
     "text": [
      "{'H': -1.0}\n",
      "acac_c + h_c --> act_c + co2_c\n"
     ]
    }
   ],
   "source": [
    "adc = Reaction(\"ADC\")\n",
    "adc.name = \"acetoacetate decarboxylase\"\n",
    "\n",
    "adc.add_metabolites({\n",
    "    WLmodelActn.metabolites.acac_c: -1.0,     #Acetoacetate\n",
    "    WLmodelActn.metabolites.h_c: -1.0, \n",
    "    WLmodelActn.metabolites.act_c: 1.0,\n",
    "    WLmodelActn.metabolites.co2_c: 1.0\n",
    "})\n",
    "print(adc.check_mass_balance())    #ensure correct mass balance\n",
    "print(adc.reaction)                #Ensure correct reaction"
   ]
  },
  {
   "cell_type": "code",
   "execution_count": 17,
   "metadata": {},
   "outputs": [
    {
     "data": {
      "text/html": [
       "\n",
       "        <table>\n",
       "            <tr>\n",
       "                <td><strong>Reaction identifier</strong></td><td>ACt</td>\n",
       "            </tr><tr>\n",
       "                <td><strong>Name</strong></td><td>Acetate transporter</td>\n",
       "            </tr><tr>\n",
       "                <td><strong>Memory address</strong></td>\n",
       "                <td>0x07fe1904bba20</td>\n",
       "            </tr><tr>\n",
       "                <td><strong>Stoichiometry</strong></td>\n",
       "                <td>\n",
       "                    <p style='text-align:right'>ac_c --> ac_e</p>\n",
       "                    <p style='text-align:right'>Acetate --> Acetate</p>\n",
       "                </td>\n",
       "            </tr><tr>\n",
       "                <td><strong>GPR</strong></td><td></td>\n",
       "            </tr><tr>\n",
       "                <td><strong>Lower bound</strong></td><td>0.0</td>\n",
       "            </tr><tr>\n",
       "                <td><strong>Upper bound</strong></td><td>1000.0</td>\n",
       "            </tr>\n",
       "        </table>\n",
       "        "
      ],
      "text/plain": [
       "<Reaction ACt at 0x7fe1904bba20>"
      ]
     },
     "execution_count": 17,
     "metadata": {},
     "output_type": "execute_result"
    }
   ],
   "source": [
    "acT = Reaction(\"ACt\")\n",
    "acT.name = \"Acetate transporter\"\n",
    "acT.add_metabolites({ \n",
    "    WLmodelActn.metabolites.ac_c: -1.0,\n",
    "    WLmodelActn.metabolites.ac_e: 1.0\n",
    "})\n",
    "acT"
   ]
  },
  {
   "cell_type": "code",
   "execution_count": 18,
   "metadata": {},
   "outputs": [
    {
     "data": {
      "text/html": [
       "\n",
       "        <table>\n",
       "            <tr>\n",
       "                <td><strong>Reaction identifier</strong></td><td>ACTt</td>\n",
       "            </tr><tr>\n",
       "                <td><strong>Name</strong></td><td>Acetone transporter</td>\n",
       "            </tr><tr>\n",
       "                <td><strong>Memory address</strong></td>\n",
       "                <td>0x07fe190496e48</td>\n",
       "            </tr><tr>\n",
       "                <td><strong>Stoichiometry</strong></td>\n",
       "                <td>\n",
       "                    <p style='text-align:right'>act_c --> act_e</p>\n",
       "                    <p style='text-align:right'>Acetone --> Acetone</p>\n",
       "                </td>\n",
       "            </tr><tr>\n",
       "                <td><strong>GPR</strong></td><td></td>\n",
       "            </tr><tr>\n",
       "                <td><strong>Lower bound</strong></td><td>0.0</td>\n",
       "            </tr><tr>\n",
       "                <td><strong>Upper bound</strong></td><td>1000.0</td>\n",
       "            </tr>\n",
       "        </table>\n",
       "        "
      ],
      "text/plain": [
       "<Reaction ACTt at 0x7fe190496e48>"
      ]
     },
     "execution_count": 18,
     "metadata": {},
     "output_type": "execute_result"
    }
   ],
   "source": [
    "actT = Reaction(\"ACTt\")\n",
    "actT.name = \"Acetone transporter\"\n",
    "actT.add_metabolites({ \n",
    "    WLmodelActn.metabolites.act_c: -1.0,\n",
    "    WLmodelActn.metabolites.act_e: 1.0\n",
    "})\n",
    "actT"
   ]
  },
  {
   "cell_type": "code",
   "execution_count": 19,
   "metadata": {},
   "outputs": [
    {
     "data": {
      "text/html": [
       "\n",
       "        <table>\n",
       "            <tr>\n",
       "                <td><strong>Reaction identifier</strong></td><td>EX_act_e</td>\n",
       "            </tr><tr>\n",
       "                <td><strong>Name</strong></td><td>Acetone exchange</td>\n",
       "            </tr><tr>\n",
       "                <td><strong>Memory address</strong></td>\n",
       "                <td>0x07fe190492a90</td>\n",
       "            </tr><tr>\n",
       "                <td><strong>Stoichiometry</strong></td>\n",
       "                <td>\n",
       "                    <p style='text-align:right'>act_e --></p>\n",
       "                    <p style='text-align:right'>Acetone --></p>\n",
       "                </td>\n",
       "            </tr><tr>\n",
       "                <td><strong>GPR</strong></td><td></td>\n",
       "            </tr><tr>\n",
       "                <td><strong>Lower bound</strong></td><td>0.0</td>\n",
       "            </tr><tr>\n",
       "                <td><strong>Upper bound</strong></td><td>1000.0</td>\n",
       "            </tr>\n",
       "        </table>\n",
       "        "
      ],
      "text/plain": [
       "<Reaction EX_act_e at 0x7fe190492a90>"
      ]
     },
     "execution_count": 19,
     "metadata": {},
     "output_type": "execute_result"
    }
   ],
   "source": [
    "act_ex = Reaction(\"EX_act_e\")\n",
    "act_ex.name = \"Acetone exchange\"\n",
    "act_ex.add_metabolites({ \n",
    "    WLmodelActn.metabolites.act_e: -1.0,\n",
    "})\n",
    "act_ex"
   ]
  },
  {
   "cell_type": "code",
   "execution_count": 20,
   "metadata": {},
   "outputs": [],
   "source": [
    "WLmodelActn.add_reactions([ctfAB_ac, adc, acT, actT, act_ex])"
   ]
  },
  {
   "cell_type": "code",
   "execution_count": 21,
   "metadata": {},
   "outputs": [
    {
     "data": {
      "text/html": [
       "<strong><em>Optimal</em> solution with objective value 1.667</strong><br><div>\n",
       "<style scoped>\n",
       "    .dataframe tbody tr th:only-of-type {\n",
       "        vertical-align: middle;\n",
       "    }\n",
       "\n",
       "    .dataframe tbody tr th {\n",
       "        vertical-align: top;\n",
       "    }\n",
       "\n",
       "    .dataframe thead th {\n",
       "        text-align: right;\n",
       "    }\n",
       "</style>\n",
       "<table border=\"1\" class=\"dataframe\">\n",
       "  <thead>\n",
       "    <tr style=\"text-align: right;\">\n",
       "      <th></th>\n",
       "      <th>fluxes</th>\n",
       "      <th>reduced_costs</th>\n",
       "    </tr>\n",
       "  </thead>\n",
       "  <tbody>\n",
       "    <tr>\n",
       "      <th>EX_h2_e</th>\n",
       "      <td>-10.000000</td>\n",
       "      <td>-0.333333</td>\n",
       "    </tr>\n",
       "    <tr>\n",
       "      <th>EX_h2o_e</th>\n",
       "      <td>5.000000</td>\n",
       "      <td>0.000000</td>\n",
       "    </tr>\n",
       "    <tr>\n",
       "      <th>EX_co2_e</th>\n",
       "      <td>-3.333333</td>\n",
       "      <td>-0.000000</td>\n",
       "    </tr>\n",
       "    <tr>\n",
       "      <th>EX_co_e</th>\n",
       "      <td>0.000000</td>\n",
       "      <td>-0.333333</td>\n",
       "    </tr>\n",
       "    <tr>\n",
       "      <th>EX_ac_e</th>\n",
       "      <td>0.000000</td>\n",
       "      <td>0.000000</td>\n",
       "    </tr>\n",
       "    <tr>\n",
       "      <th>...</th>\n",
       "      <td>...</td>\n",
       "      <td>...</td>\n",
       "    </tr>\n",
       "    <tr>\n",
       "      <th>ctfAB_ac</th>\n",
       "      <td>0.000000</td>\n",
       "      <td>0.000000</td>\n",
       "    </tr>\n",
       "    <tr>\n",
       "      <th>ADC</th>\n",
       "      <td>0.000000</td>\n",
       "      <td>0.000000</td>\n",
       "    </tr>\n",
       "    <tr>\n",
       "      <th>ACt</th>\n",
       "      <td>0.000000</td>\n",
       "      <td>0.000000</td>\n",
       "    </tr>\n",
       "    <tr>\n",
       "      <th>ACTt</th>\n",
       "      <td>0.000000</td>\n",
       "      <td>0.000000</td>\n",
       "    </tr>\n",
       "    <tr>\n",
       "      <th>EX_act_e</th>\n",
       "      <td>0.000000</td>\n",
       "      <td>0.000000</td>\n",
       "    </tr>\n",
       "  </tbody>\n",
       "</table>\n",
       "<p>58 rows × 2 columns</p>\n",
       "</div>"
      ],
      "text/plain": [
       "<Solution 1.667 at 0x7fe1acd8ae10>"
      ]
     },
     "execution_count": 21,
     "metadata": {},
     "output_type": "execute_result"
    }
   ],
   "source": [
    "WLmodelActn.objective = \"EX_etoh_e\"\n",
    "WLmodelActn.optimize()"
   ]
  },
  {
   "cell_type": "markdown",
   "metadata": {},
   "source": [
    "# Test model and visualize in Escher"
   ]
  },
  {
   "cell_type": "code",
   "execution_count": 24,
   "metadata": {},
   "outputs": [
    {
     "data": {
      "text/html": [
       "<strong><em>Optimal</em> solution with objective value 0.000</strong><br><div>\n",
       "<style scoped>\n",
       "    .dataframe tbody tr th:only-of-type {\n",
       "        vertical-align: middle;\n",
       "    }\n",
       "\n",
       "    .dataframe tbody tr th {\n",
       "        vertical-align: top;\n",
       "    }\n",
       "\n",
       "    .dataframe thead th {\n",
       "        text-align: right;\n",
       "    }\n",
       "</style>\n",
       "<table border=\"1\" class=\"dataframe\">\n",
       "  <thead>\n",
       "    <tr style=\"text-align: right;\">\n",
       "      <th></th>\n",
       "      <th>fluxes</th>\n",
       "      <th>reduced_costs</th>\n",
       "    </tr>\n",
       "  </thead>\n",
       "  <tbody>\n",
       "    <tr>\n",
       "      <th>EX_h2_e</th>\n",
       "      <td>-10.000000</td>\n",
       "      <td>-0.0</td>\n",
       "    </tr>\n",
       "    <tr>\n",
       "      <th>EX_h2o_e</th>\n",
       "      <td>5.000000</td>\n",
       "      <td>0.0</td>\n",
       "    </tr>\n",
       "    <tr>\n",
       "      <th>EX_co2_e</th>\n",
       "      <td>-3.333333</td>\n",
       "      <td>-0.0</td>\n",
       "    </tr>\n",
       "    <tr>\n",
       "      <th>EX_co_e</th>\n",
       "      <td>0.000000</td>\n",
       "      <td>-0.0</td>\n",
       "    </tr>\n",
       "    <tr>\n",
       "      <th>EX_ac_e</th>\n",
       "      <td>0.000000</td>\n",
       "      <td>0.0</td>\n",
       "    </tr>\n",
       "    <tr>\n",
       "      <th>...</th>\n",
       "      <td>...</td>\n",
       "      <td>...</td>\n",
       "    </tr>\n",
       "    <tr>\n",
       "      <th>ctfAB_ac</th>\n",
       "      <td>0.000000</td>\n",
       "      <td>0.0</td>\n",
       "    </tr>\n",
       "    <tr>\n",
       "      <th>ADC</th>\n",
       "      <td>0.000000</td>\n",
       "      <td>0.0</td>\n",
       "    </tr>\n",
       "    <tr>\n",
       "      <th>ACt</th>\n",
       "      <td>0.000000</td>\n",
       "      <td>0.0</td>\n",
       "    </tr>\n",
       "    <tr>\n",
       "      <th>ACTt</th>\n",
       "      <td>0.000000</td>\n",
       "      <td>0.0</td>\n",
       "    </tr>\n",
       "    <tr>\n",
       "      <th>EX_act_e</th>\n",
       "      <td>0.000000</td>\n",
       "      <td>0.0</td>\n",
       "    </tr>\n",
       "  </tbody>\n",
       "</table>\n",
       "<p>58 rows × 2 columns</p>\n",
       "</div>"
      ],
      "text/plain": [
       "<Solution 0.000 at 0x7fe19046f780>"
      ]
     },
     "execution_count": 24,
     "metadata": {},
     "output_type": "execute_result"
    }
   ],
   "source": [
    "WLmodelActn.objective = \"EX_ac_e\"\n",
    "WLmodelActn.optimize()\n",
    "#Builder(model = WLmodelActn, map_json = join(data_dir,'Models/AcetonePathway2.json'), reaction_data = solution.fluxes.to_dict())"
   ]
  },
  {
   "cell_type": "code",
   "execution_count": null,
   "metadata": {},
   "outputs": [],
   "source": []
  },
  {
   "cell_type": "code",
   "execution_count": null,
   "metadata": {},
   "outputs": [],
   "source": [
    "#Builder(model = WLmodelActn, map_json = join(data_dir,'Models/WL_core_clean.json'), reaction_data = solution.fluxes.to_dict())#\n",
    "#Builder(model = , map_json = join(data_dir,'Models/AcetonePathway.json'), reaction_data = solution.fluxes.to_dict())"
   ]
  },
  {
   "cell_type": "code",
   "execution_count": null,
   "metadata": {
    "scrolled": false
   },
   "outputs": [],
   "source": [
    "Builder(model = WLmodelActn, map_json = join(data_dir,'Models/EscherMaps/AcetonePathway.json'), reaction_data = solution.fluxes.to_dict())"
   ]
  },
  {
   "cell_type": "code",
   "execution_count": null,
   "metadata": {
    "scrolled": false
   },
   "outputs": [],
   "source": [
    "#Builder(model = WLmodelActn)"
   ]
  },
  {
   "cell_type": "code",
   "execution_count": null,
   "metadata": {},
   "outputs": [],
   "source": [
    "Builder(model = WLmodelActn, map_json = join(data_dir,'Models/EscherMaps/WL_core_Actn.json'), reaction_data = solution.fluxes.to_dict())"
   ]
  },
  {
   "cell_type": "code",
   "execution_count": null,
   "metadata": {},
   "outputs": [],
   "source": [
    "WLmodelActn.reactions"
   ]
  },
  {
   "cell_type": "code",
   "execution_count": null,
   "metadata": {},
   "outputs": [],
   "source": [
    "WLmodelActn.reactions.EX_etoh_e"
   ]
  },
  {
   "cell_type": "code",
   "execution_count": null,
   "metadata": {},
   "outputs": [],
   "source": [
    "WLmodelActn.reactions.EX_ac_e"
   ]
  },
  {
   "cell_type": "code",
   "execution_count": null,
   "metadata": {},
   "outputs": [],
   "source": [
    "WLmodelActn.reactions.ATPM.knock_out()"
   ]
  },
  {
   "cell_type": "code",
   "execution_count": null,
   "metadata": {},
   "outputs": [],
   "source": [
    "for x in WLmodelActn.reactions:\n",
    "    if x.bounds == (0, 0):{\n",
    "        print(x.id)\n",
    "    }"
   ]
  },
  {
   "cell_type": "code",
   "execution_count": null,
   "metadata": {},
   "outputs": [],
   "source": [
    "WLmodelActn.reactions.BTOHt.bounds = -1000.0, 1000.0\n",
    "WLmodelActn.reactions.HYDFDN.bounds = -1000.0, 1000.0\n",
    "WLmodelActn.reactions.HYDFDi.bounds = -1000.0, 1000.0\n",
    "WLmodelActn.reactions.ACACT1r.bounds = -1000.0, 1000.0\n",
    "WLmodelActn.reactions.HACD1.bounds = -1000.0, 1000.0\n",
    "WLmodelActn.reactions.ECOAH1.bounds = -1000.0, 1000.0\n",
    "WLmodelActn.reactions.ACOAD1z.bounds = -1000.0, 1000.0\n",
    "WLmodelActn.reactions.BTCOARx.bounds = -1000.0, 1000.0\n",
    "WLmodelActn.reactions.ALCD4.bounds = -1000.0, 1000.0\n",
    "WLmodelActn.reactions.PBUTT.bounds = -1000.0, 1000.0\n",
    "WLmodelActn.reactions.BUTKr.bounds = -1000.0, 1000.0\n",
    "\n",
    "solution = WLmodelActn.optimize()\n",
    "WLmodelActn.optimize()"
   ]
  },
  {
   "cell_type": "code",
   "execution_count": null,
   "metadata": {},
   "outputs": [],
   "source": [
    "WLmodelActn.objective = \"EX_etoh_e\"\n",
    "WLmodelActn.optimize()\n",
    "#WLmodelActn.summary()\n",
    "#Builder(model = WLmodelActn, map_json = join(data_dir,'Models/EscherMaps/WL_core_Actn.json'), reaction_data = solution.fluxes.to_dict())"
   ]
  },
  {
   "cell_type": "markdown",
   "metadata": {},
   "source": [
    "# Alternative: build from Moorella model"
   ]
  },
  {
   "cell_type": "markdown",
   "metadata": {},
   "source": [
    "Builder(model = Moorella_Model)#, map_json = join(data_dir,'Models/p-thermo_acetone_map.json'))"
   ]
  },
  {
   "cell_type": "markdown",
   "metadata": {},
   "source": [
    "Moorella_Model.metabolites.get_by_id(\"10fthf_c\")"
   ]
  },
  {
   "cell_type": "markdown",
   "metadata": {},
   "source": [
    "Moorella_Model.metabolites.methf_c"
   ]
  },
  {
   "cell_type": "markdown",
   "metadata": {},
   "source": [
    "Moorella_Model.metabolites.mlthf_c"
   ]
  },
  {
   "cell_type": "markdown",
   "metadata": {},
   "source": [
    "Moorella_Model.reactions.TMDS"
   ]
  },
  {
   "cell_type": "markdown",
   "metadata": {},
   "source": [
    "CO2t\n",
    "CODH_ACS\n",
    "PFOR\n",
    "Moorella_Model.reactions.CODH\n",
    "\n",
    "#Transport & Exchange:\n",
    "Moorella_Model.reactions.EX_co_LPAREN_e_RPAREN\n",
    "Moorella_Model.reactions.EX_co2_LPAREN_e_RPAREN\n",
    "Moorella_Model.reactions.EX_h2_LPAREN_e_RPAREN\n",
    "Moorella_Model.reactions.EX_ac_LPAREN_e_RPAREN\n",
    "Moorella_Model.reactions.COt\n",
    "Moorella_Model.reactions.CO2t\n",
    "Moorella_Model.reactions.H2td\n",
    "Moorella_Model.reactions.ACt2r\n",
    "\n",
    "#Energy:\n",
    "Moorella_Model.reactions.HYDFDN\n",
    "Moorella_Model.reactions.CODH\n",
    "\n",
    "#Eastern branch:\n",
    "Moorella_Model.reactions.FDH\n",
    "\n",
    "#Western branch:\n",
    "Moorella_Model.reactions.CODH_ACS\n"
   ]
  },
  {
   "cell_type": "markdown",
   "metadata": {},
   "source": [
    "WLmodel = Model('Wood_Ljungdahl_Core')\n",
    "\n",
    "WLmodel.add_reactions([Moorella_Model.reactions.CODH])"
   ]
  },
  {
   "cell_type": "markdown",
   "metadata": {},
   "source": []
  },
  {
   "cell_type": "markdown",
   "metadata": {},
   "source": [
    "WLmodel = Model('Wood_Ljungdahl_Core')\n",
    "\n",
    "reaction = Reaction('R_3OAS140')\n",
    "reaction.name = '3 oxoacyl acyl carrier protein synthase n C140 '\n",
    "reaction.subsystem = 'Cell Envelope Biosynthesis'\n",
    "reaction.lower_bound = 0.  # This is the default\n",
    "reaction.upper_bound = 1000.  # This is the default"
   ]
  }
 ],
 "metadata": {
  "kernelspec": {
   "display_name": "dFBACoCultivation",
   "language": "python",
   "name": "dfbacocultivation"
  },
  "language_info": {
   "codemirror_mode": {
    "name": "ipython",
    "version": 3
   },
   "file_extension": ".py",
   "mimetype": "text/x-python",
   "name": "python",
   "nbconvert_exporter": "python",
   "pygments_lexer": "ipython3",
   "version": "3.6.12"
  }
 },
 "nbformat": 4,
 "nbformat_minor": 4
}
