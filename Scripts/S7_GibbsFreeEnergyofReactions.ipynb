{
 "cells": [
  {
   "cell_type": "code",
   "execution_count": null,
   "metadata": {},
   "outputs": [],
   "source": [
    "import numpy as np\n",
    "import math"
   ]
  },
  {
   "cell_type": "code",
   "execution_count": null,
   "metadata": {},
   "outputs": [],
   "source": [
    "#Gibbs energy of Formation at 298.15\n",
    "DfG0_actn = -159.7 #[kJ/mol]\n",
    "DfG0_actt = -389.9 #[kJ/mol]\n",
    "DfG0_co2 = -394.4 #[kJ/mol]\n",
    "DfG0_co = -137.2 #[kJ/mol]\n",
    "DfG0_h2o = -237.1 #[kJ/mol]\n",
    "DfG0_h2 = 0 #[kJ/mol]\n",
    "DfG0_ch4 = -50.53 #[kJ/mol]\n",
    "\n",
    "#standard molar enthalpy\n",
    "DfH0_actn = -249.4 #[KJ/mol]\n",
    "DfH0_actt = -483.5 #[KJ/mol]\n",
    "DfH0_co2 = -394.4 #[KJ/mol]\n",
    "DfH0_co = -110.5 #[KJ/mol]\n",
    "DfH0_h2o = -285.8 #[KJ/mol]\n",
    "DfH0_h2 = 0 #[KJ/mol]\n",
    "DfH0_ch4 = -74.8 #[KJ/mol]\n",
    "\n",
    "#Hess's law:\n",
    "DrG0_carb = -4*DfG0_co - 2*DfG0_h2o + DfG0_actt + 2*DfG0_co2\n",
    "DrG0_hom = -4*DfG0_h2 - 2*DfG0_co2 + DfG0_actt + 2*DfG0_h2o \n",
    "\n",
    "print(\"Gibbs energy:\\n\",\n",
    "      \" DrG0_carb =\",round(DrG0_carb,1),\"[kJ/mol]\\n\",\n",
    "      \" DrG0_hom =\",round(DrG0_hom,1),\"[kJ/mol]\\n\")\n",
    "\n",
    "DrH0_carb = -4*DfH0_co - 2*DfH0_h2o + DfH0_actt + 2*DfH0_co2\n",
    "DrH0_hom = -4*DfH0_h2 - 2*DfH0_co2 + DfH0_actt + 2*DfH0_h2o\n",
    "\n",
    "print(\"Enthalpy:\\n\",\n",
    "      \" DrH0_carb =\", round(DrH0_carb,1),\"[kJ/mol]\\n\",\n",
    "      \" DrH0_hom =\", round(DrH0_hom,1),\"[kJ/mol]\\n\")\n",
    "\n",
    "#Gibbs–Helmholtz equation for temperature correction\n",
    "DrGT_carb = DrG0_carb * (T/298.15) + DrH0_carb * (1-T/298.15)\n",
    "DrGT_hom = DrG0_hom * (T/298.15) + DrH0_hom * (1-T/298.15)\n",
    "\n",
    "print(\"Temperature corrected Gibbs energy:\\n\",\n",
    "      \" DrGT_carb =\",round(DrGT_carb,1),\"[kJ/mol]\\n\",\n",
    "      \" DrGT_hom =\",round(DrGT_hom,1),\"[kJ/mol]\")\n",
    "\n",
    "#dropped concentration correction, in accordance with book"
   ]
  }
 ],
 "metadata": {
  "kernelspec": {
   "display_name": "dFBACoCultivation",
   "language": "python",
   "name": "dfbacocultivation"
  },
  "language_info": {
   "codemirror_mode": {
    "name": "ipython",
    "version": 3
   },
   "file_extension": ".py",
   "mimetype": "text/x-python",
   "name": "python",
   "nbconvert_exporter": "python",
   "pygments_lexer": "ipython3",
   "version": "3.6.12"
  }
 },
 "nbformat": 4,
 "nbformat_minor": 4
}
