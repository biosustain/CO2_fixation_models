{
 "cells": [
  {
   "cell_type": "markdown",
   "metadata": {},
   "source": [
    "# Supplementary Notebook S07: Making the acetate producing <i>G. Thermo</i> GEM\n",
    "\n",
    "This notebook is supplementary to the the research paper titled:\n",
    "\n",
    "Optimizing acetogenic CO(2) utilization through metabolic and process engineering highlights the potential of thermophilic bioproduction\n",
    "\n",
    "The purpose of this notebook is to add the pathways and delete genes in the <i>Geobacillus thermoglucosidasius</i> GEM, to make it resemble the acetate producing strain.\n",
    "\n",
    "Written by Daniel Bavnhøj"
   ]
  },
  {
   "cell_type": "code",
   "execution_count": 1,
   "metadata": {},
   "outputs": [],
   "source": [
    "import cobra\n",
    "from cobra.io import read_sbml_model\n",
    "from cobra import Model, Reaction, Metabolite\n",
    "from IPython.display import Image"
   ]
  },
  {
   "cell_type": "code",
   "execution_count": 2,
   "metadata": {},
   "outputs": [
    {
     "name": "stdout",
     "output_type": "stream",
     "text": [
      "Using license file /Users/phivri/gurobi.lic\n",
      "Academic license - for non-commercial use only - expires 2022-07-23\n"
     ]
    }
   ],
   "source": [
    "pth = read_sbml_model(\"../../Models/PublishedModels/p-thermo.xml\")"
   ]
  },
  {
   "cell_type": "markdown",
   "metadata": {},
   "source": [
    "First, I will take a look at the growth (aerobicly and anaerobicly) without manipulating the model."
   ]
  },
  {
   "cell_type": "code",
   "execution_count": 3,
   "metadata": {},
   "outputs": [
    {
     "name": "stdout",
     "output_type": "stream",
     "text": [
      "Aerobic growth: 0.666 h^-1\n",
      "Anaerobic growth: 0.0 h^-1\n"
     ]
    }
   ],
   "source": [
    "with pth:\n",
    "    WT_growth = pth.optimize()\n",
    "    print(\"Aerobic growth:\", round(WT_growth.objective_value,3), \"h^-1\")\n",
    "\n",
    "with pth:\n",
    "    medium = pth.medium\n",
    "    medium[\"EX_o2_e\"] = 0.0\n",
    "    pth.medium = medium\n",
    "    WT_growth_ana = pth.optimize()\n",
    "    print(\"Anaerobic growth:\", round(WT_growth_ana.objective_value,3), \"h^-1\")\n",
    "    #This does not compare to the p-thermo.xml publication"
   ]
  },
  {
   "cell_type": "markdown",
   "metadata": {},
   "source": [
    "Vivienne mentioned that some extra metabolites need to be added to the model for it to grow anaerobically (they can only be synthesized when oxygen is presnt). Vivienne also mentioned that adding trace amounts of oxygen (Value > 0.005) would result in growth of the model."
   ]
  },
  {
   "cell_type": "code",
   "execution_count": 4,
   "metadata": {},
   "outputs": [
    {
     "name": "stdout",
     "output_type": "stream",
     "text": [
      "Growth rate: 0.124 h^-1\n"
     ]
    }
   ],
   "source": [
    "with pth:\n",
    "    medium = pth.medium\n",
    "    medium[\"EX_o2_e\"] = 0.005\n",
    "    pth.medium = medium\n",
    "    WT_growth_ana = pth.optimize()\n",
    "    print(\"Growth rate:\", round(WT_growth_ana.objective_value,3), \"h^-1\")"
   ]
  },
  {
   "cell_type": "markdown",
   "metadata": {},
   "source": [
    "However, the trace elements will be added, to make the model resemble the medium in reality, so it can actually grow anaerobically. <br><br>\n",
    "\n",
    "<center><i>\n",
    "This analysis highlighted a complex combination of components that cannot be synthesized anaerobically: thiamine, biotin, folate, vitamin B12, spermine, spermidine and hemin. Additionally, iron(III) must be available in the medium to allow porphyrin biosynthesis [1].\n",
    "</i></center>\n",
    "\n",
    "Cobamide coenzyme is also needed, which is seen in the 54. Minimum oxygen requirement.ipynb notebook pusblished with the model paper [1]. The code below has adapted from that notebook.\n",
    "\n",
    "Therefore, these reactions will be added as sink reactions (to make the model take up these metabolites) to make the model able to grow anaerobically."
   ]
  },
  {
   "cell_type": "code",
   "execution_count": 5,
   "metadata": {},
   "outputs": [
    {
     "name": "stdout",
     "output_type": "stream",
     "text": [
      "Growth rate: 0.666 h^-1\n",
      "Growth rate: 0.124 h^-1\n"
     ]
    }
   ],
   "source": [
    "with pth:\n",
    "    #Add Biotine\n",
    "    pth.add_boundary(pth.metabolites.btn_c, type = 'sink', reaction_id = 'sink_btn')\n",
    "    #Add thiamine - as this sink\n",
    "    pth.add_boundary(pth.metabolites.thmpp_c , type = 'sink', reaction_id = 'sink_thmpp')\n",
    "    #Add spermine\n",
    "    pth.add_boundary(pth.metabolites.sprm_c, type = 'sink', reaction_id = 'sink_sprm')\n",
    "    #add spermidine\n",
    "    pth.add_boundary(pth.metabolites.spmd_c, type = 'sink', reaction_id = 'sink_spmd')\n",
    "    #Add Cobamide coenzyme\n",
    "    pth.add_boundary(pth.metabolites.adocbl_c, type = 'sink', reaction_id = 'sink_adocbl')\n",
    "    #Add folate\n",
    "    pth.add_boundary(pth.metabolites.get_by_id('10fthf_c') , type = 'sink', reaction_id = 'sink_10fthf')\n",
    "    #Add iron(III)\n",
    "    pth.add_boundary(pth.metabolites.fe3_c , type = 'sink', reaction_id = 'sink_fe3')\n",
    "    #Add protoheme\n",
    "    pth.add_boundary(pth.metabolites.pheme_c , type = 'sink', reaction_id = 'sink_pheme')\n",
    "    #set to anaerobic\n",
    "    with pth:\n",
    "        WT_growth = pth.optimize()\n",
    "        print(\"Growth rate:\", round(WT_growth.objective_value,3), \"h^-1\")\n",
    "        medium = pth.medium\n",
    "        medium[\"EX_o2_e\"] = 0.0\n",
    "        pth.medium = medium\n",
    "        WT_growth_ana = pth.optimize()\n",
    "        print(\"Growth rate:\", round(WT_growth_ana.objective_value,3), \"h^-1\")"
   ]
  },
  {
   "cell_type": "markdown",
   "metadata": {},
   "source": [
    "Now, the model grows anaerobically and the aerobic growth wasn't broken!"
   ]
  },
  {
   "cell_type": "code",
   "execution_count": 6,
   "metadata": {},
   "outputs": [],
   "source": [
    "cobra.io.write_sbml_model(pth, \"../../Models/p-thermo_anaerob.xml\")"
   ]
  },
  {
   "cell_type": "markdown",
   "metadata": {},
   "source": [
    "## Making the acetone producing strain"
   ]
  },
  {
   "cell_type": "markdown",
   "metadata": {},
   "source": [
    "The acetone producing <i>G. thermoglucosidasius</i> strain has been made by Ivan Pogrebnyakov. The pathway is shown below. LDH has been knocked out, whereas the aldh has not been knocked out, but could be an interesting K/O target, as all acetyl-CoA would then be funneled to acetone.\n",
    "\n",
    "Therefore, I will K/O (remove) the LDH reaction from the model, and also try to remove the ALDH (ACALD in the model) reaction, to see if it interferes with the growht and give a better picture the actual organism."
   ]
  },
  {
   "cell_type": "code",
   "execution_count": 7,
   "metadata": {},
   "outputs": [
    {
     "data": {
      "image/png": "[encoded data removed]",
      "text/plain": [
       "<IPython.core.display.Image object>"
      ]
     },
     "execution_count": 7,
     "metadata": {},
     "output_type": "execute_result"
    }
   ],
   "source": [
    "Image(\"../../Figures/acetone_pathway.png\")"
   ]
  },
  {
   "cell_type": "code",
   "execution_count": 8,
   "metadata": {},
   "outputs": [
    {
     "data": {
      "text/html": [
       "\n",
       "        <table>\n",
       "            <tr>\n",
       "                <td><strong>Reaction identifier</strong></td><td>LDH_L</td>\n",
       "            </tr><tr>\n",
       "                <td><strong>Name</strong></td><td>(S)-Lactate:NAD+ oxidoreductase</td>\n",
       "            </tr><tr>\n",
       "                <td><strong>Memory address</strong></td>\n",
       "                <td>0x07f96ec75fbe0</td>\n",
       "            </tr><tr>\n",
       "                <td><strong>Stoichiometry</strong></td>\n",
       "                <td>\n",
       "                    <p style='text-align:right'>lac__L_c + nad_c <=> h_c + nadh_c + pyr_c</p>\n",
       "                    <p style='text-align:right'>(S)-Lactate + NAD+ <=> H+ + NADH + Pyruvate</p>\n",
       "                </td>\n",
       "            </tr><tr>\n",
       "                <td><strong>GPR</strong></td><td>RTMO04782 or RTMO04783</td>\n",
       "            </tr><tr>\n",
       "                <td><strong>Lower bound</strong></td><td>-1000.0</td>\n",
       "            </tr><tr>\n",
       "                <td><strong>Upper bound</strong></td><td>1000.0</td>\n",
       "            </tr>\n",
       "        </table>\n",
       "        "
      ],
      "text/plain": [
       "<Reaction LDH_L at 0x7f96ec75fbe0>"
      ]
     },
     "execution_count": 8,
     "metadata": {},
     "output_type": "execute_result"
    }
   ],
   "source": [
    "pth.reactions.LDH_L"
   ]
  },
  {
   "cell_type": "code",
   "execution_count": 9,
   "metadata": {
    "scrolled": true
   },
   "outputs": [
    {
     "name": "stderr",
     "output_type": "stream",
     "text": [
      "/Users/phivri/opt/anaconda3/envs/dFBACoCultivation/lib/python3.6/site-packages/cobra/core/group.py:107: UserWarning: need to pass in a list\n",
      "  warn(\"need to pass in a list\")\n"
     ]
    }
   ],
   "source": [
    "pth.remove_reactions([\"LDH_L\"])"
   ]
  },
  {
   "cell_type": "code",
   "execution_count": 10,
   "metadata": {
    "scrolled": true
   },
   "outputs": [
    {
     "name": "stdout",
     "output_type": "stream",
     "text": [
      "The LDH reaction has been removed successfully.\n"
     ]
    }
   ],
   "source": [
    "try:\n",
    "    pth.reactions.LDH_L\n",
    "except AttributeError:\n",
    "    print(\"The LDH reaction has been removed successfully.\")"
   ]
  },
  {
   "cell_type": "markdown",
   "metadata": {},
   "source": [
    "See if theres any any growth differences between the wt and LDH KO. This will be done in both aerobic and anaerobic medium."
   ]
  },
  {
   "cell_type": "code",
   "execution_count": 11,
   "metadata": {
    "scrolled": true
   },
   "outputs": [
    {
     "name": "stdout",
     "output_type": "stream",
     "text": [
      "Aerobic growth: 0.666 h^-1\n",
      "Anaerobic growth: 0.0 h^-1\n",
      "Growth difference after LDH K/O: -0.001 h^-1\n",
      "Anaerobic growth difference after LDH K/O: -0.124 h^-1\n"
     ]
    }
   ],
   "source": [
    "with pth:\n",
    "    LDH_KO_growth = pth.optimize()\n",
    "    print(\"Aerobic growth:\", round(LDH_KO_growth.objective_value,3), \"h^-1\")\n",
    "    \n",
    "    medium = pth.medium\n",
    "    medium[\"EX_o2_e\"] = 0.0\n",
    "    pth.medium = medium\n",
    "    LDH_KO_growth_ana = pth.optimize()\n",
    "    print(\"Anaerobic growth:\", round(LDH_KO_growth_ana.objective_value,3), \"h^-1\")\n",
    "    \n",
    "   \n",
    "print(\"Growth difference after LDH K/O:\", round(LDH_KO_growth.objective_value - WT_growth.objective_value,3), \"h^-1\")\n",
    "print(\"Anaerobic growth difference after LDH K/O:\", round(LDH_KO_growth_ana.objective_value - WT_growth_ana.objective_value,3), \"h^-1\")"
   ]
  },
  {
   "cell_type": "markdown",
   "metadata": {},
   "source": [
    "As seen form above, introducing the LDH K/O, does not affect the growth of Geobacillus. \n",
    "\n",
    "## Other genes worth knocking out\n",
    "\n",
    "### ACALD K/O\n",
    "I will try to remove ACALD, to see if it causes any growth defects. It could also be interesting to see if the model with this K/O would produce more acetone than the one with only the LDH K/O."
   ]
  },
  {
   "cell_type": "code",
   "execution_count": 12,
   "metadata": {},
   "outputs": [
    {
     "data": {
      "text/html": [
       "\n",
       "        <table>\n",
       "            <tr>\n",
       "                <td><strong>Reaction identifier</strong></td><td>ACALD</td>\n",
       "            </tr><tr>\n",
       "                <td><strong>Name</strong></td><td>acetaldehyde:NAD+ oxidoreductase (CoA-acetylating)</td>\n",
       "            </tr><tr>\n",
       "                <td><strong>Memory address</strong></td>\n",
       "                <td>0x07f96ec682f98</td>\n",
       "            </tr><tr>\n",
       "                <td><strong>Stoichiometry</strong></td>\n",
       "                <td>\n",
       "                    <p style='text-align:right'>acald_c + coa_c + nad_c <=> accoa_c + h_c + nadh_c</p>\n",
       "                    <p style='text-align:right'>Acetaldehyde + CoA + NAD+ <=> Acetyl-CoA + H+ + NADH</p>\n",
       "                </td>\n",
       "            </tr><tr>\n",
       "                <td><strong>GPR</strong></td><td>RTMO01253 or RTMO02838 or RTMO03546 or RTMO04740 or RTMO01888</td>\n",
       "            </tr><tr>\n",
       "                <td><strong>Lower bound</strong></td><td>-1000.0</td>\n",
       "            </tr><tr>\n",
       "                <td><strong>Upper bound</strong></td><td>1000.0</td>\n",
       "            </tr>\n",
       "        </table>\n",
       "        "
      ],
      "text/plain": [
       "<Reaction ACALD at 0x7f96ec682f98>"
      ]
     },
     "execution_count": 12,
     "metadata": {},
     "output_type": "execute_result"
    }
   ],
   "source": [
    "pth.reactions.ACALD"
   ]
  },
  {
   "cell_type": "code",
   "execution_count": 13,
   "metadata": {},
   "outputs": [
    {
     "name": "stdout",
     "output_type": "stream",
     "text": [
      "Aerobic growth: 0.666 h^-1\n",
      "Anaerobic growth: 0.0 h^-1\n",
      "Growth difference after ACALD and LDH K/O: -0.0 h^-1\n",
      "Anaerobic growth difference after ACALD and LDH K/O: 0.0 h^-1\n"
     ]
    }
   ],
   "source": [
    "with pth:\n",
    "    pth.remove_reactions([\"ACALD\"])\n",
    "    ACALD_KO_growth = pth.optimize()\n",
    "    print(\"Aerobic growth:\", round(ACALD_KO_growth.objective_value,3), \"h^-1\")\n",
    "\n",
    "    medium = pth.medium\n",
    "    medium[\"EX_o2_e\"] = 0.0\n",
    "    pth.medium = medium\n",
    "    \n",
    "    ACALD_KO_growth_ana = pth.optimize()\n",
    "    print(\"Anaerobic growth:\", round(ACALD_KO_growth_ana.objective_value,3), \"h^-1\")\n",
    "    \n",
    "print(\"Growth difference after ACALD and LDH K/O:\", round(ACALD_KO_growth.objective_value - LDH_KO_growth.objective_value,3), \"h^-1\")\n",
    "print(\"Anaerobic growth difference after ACALD and LDH K/O:\", round(ACALD_KO_growth_ana.objective_value - LDH_KO_growth_ana.objective_value,3), \"h^-1\")"
   ]
  },
  {
   "cell_type": "markdown",
   "metadata": {},
   "source": [
    "There's a difference in anaerobic growth after removal of the ACALD reaction.\n",
    "\n",
    "However, as growth doesn't go to 0, it could still be worth pursuing, if the strain predicts higher acetone yields."
   ]
  },
  {
   "cell_type": "markdown",
   "metadata": {},
   "source": [
    "### PTA K/O\n",
    "ACALD proved to be a possible target for K/O. However, it would also be very interesting to knock out PTA, as this is the first reaction in the conversion of Acetyl-CoA -> Acetate. Therefore, I will also see what K/O of PTA predicts."
   ]
  },
  {
   "cell_type": "code",
   "execution_count": 14,
   "metadata": {},
   "outputs": [
    {
     "name": "stdout",
     "output_type": "stream",
     "text": [
      "Aerobic growth: 0.666 h^-1\n",
      "Anaerobic growth: 0.0 h^-1\n",
      "Growth difference after PTA and LDH K/O: 0.0 h^-1\n",
      "Anaerobic growth difference after PTA and LDH K/O: 0.0 h^-1\n"
     ]
    }
   ],
   "source": [
    "with pth:\n",
    "    pth.remove_reactions([\"PTAr\"])\n",
    "    PTA_KO_growth = pth.optimize()\n",
    "    print(\"Aerobic growth:\", round(PTA_KO_growth.objective_value,3), \"h^-1\")\n",
    "\n",
    "    medium = pth.medium\n",
    "    medium[\"EX_o2_e\"] = 0.0\n",
    "    pth.medium = medium\n",
    "    \n",
    "    PTA_KO_growth_ana = pth.optimize()\n",
    "    print(\"Anaerobic growth:\", round(PTA_KO_growth_ana.objective_value,3), \"h^-1\")\n",
    "    \n",
    "print(\"Growth difference after PTA and LDH K/O:\", round(PTA_KO_growth.objective_value - LDH_KO_growth.objective_value,3), \"h^-1\")\n",
    "print(\"Anaerobic growth difference after PTA and LDH K/O:\", round(PTA_KO_growth_ana.objective_value - LDH_KO_growth_ana.objective_value,3), \"h^-1\")"
   ]
  },
  {
   "cell_type": "markdown",
   "metadata": {},
   "source": [
    "This shows that the PTA reaction could also be worth pursuing as a knock out. However, it would also be nice to see if both ACALD and PTA could be knocked out simutaniously.\n",
    "\n",
    "### K/O of both ACALD and PTA"
   ]
  },
  {
   "cell_type": "code",
   "execution_count": 15,
   "metadata": {},
   "outputs": [
    {
     "name": "stdout",
     "output_type": "stream",
     "text": [
      "Aerobic growth: 0.666 h^-1\n",
      "Anaerobic growth: 0.0 h^-1\n",
      "Growth difference after ACALD and PTA K/O compared to only LDH K/O: -0.0 h^-1\n",
      "Anaerobic growth difference after ACALD and PTA K/O compared to only LDH K/O: 0.0 h^-1\n"
     ]
    }
   ],
   "source": [
    "with pth:\n",
    "    pth.remove_reactions([\"ACALD\",\"PTAr\"])\n",
    "    ACALD_PTA_KO_growth = pth.optimize()\n",
    "    print(\"Aerobic growth:\", round(ACALD_PTA_KO_growth.objective_value,3), \"h^-1\")\n",
    "\n",
    "    medium = pth.medium\n",
    "    medium[\"EX_o2_e\"] = 0.0\n",
    "    pth.medium = medium\n",
    "    \n",
    "    ACALD_PTA_KO_growth_ana = pth.optimize()\n",
    "    print(\"Anaerobic growth:\", round(PTA_KO_growth_ana.objective_value,3), \"h^-1\")\n",
    "    \n",
    "print(\"Growth difference after ACALD and PTA K/O compared to only LDH K/O:\", round(ACALD_PTA_KO_growth.objective_value - LDH_KO_growth.objective_value,3), \"h^-1\")\n",
    "print(\"Anaerobic growth difference after ACALD and PTA K/O compared to only LDH K/O:\", round(ACALD_PTA_KO_growth_ana.objective_value - LDH_KO_growth_ana.objective_value,3), \"h^-1\")"
   ]
  },
  {
   "cell_type": "markdown",
   "metadata": {},
   "source": [
    "Overall the model predicts worse anaerobic growth after knocking out acetate related genes."
   ]
  },
  {
   "cell_type": "markdown",
   "metadata": {},
   "source": [
    "## Introducing the Acetone pathway\n",
    "\n",
    "The 3 reactions in green need to be added to the GSM:\n",
    "\n",
    "\\begin{align}\n",
    "ctfAB-ac&: Acetate + Acetoacetyl-CoA => Acetyl-CoA + Acetoacetate \\tag{1.1} \\\\\n",
    "ctfAB-bu&: Butyrate + Acetoacetyl-CoA => Butyryl-CoA + Acetoacetate \\tag{1.2} \\\\\n",
    "thl&: 2Acetyl-CoA => Acetoacetyl-CoA + CoA \\tag{2}\\\\\n",
    "adc&: Acetoacetate => Acetone + CO2 \\tag{3}\\\\\n",
    "\\end{align}\n",
    "\n",
    "All reactions are irriversible as it requires much energy to reattach CoA or cleave the molecules created by hydrolysis hydrolysis of CoA.\n",
    "\n",
    "As ctfAB can catalyze two reactions, with Acetate/Butyrate and Acetoacetyl-CoA as reactants (eq 1.1-1.2), both should be added to the model [2].\n",
    "\n",
    "I'll start by making the acetone metabolites and adding them to the model."
   ]
  },
  {
   "cell_type": "code",
   "execution_count": 16,
   "metadata": {},
   "outputs": [],
   "source": [
    "Acetone = Metabolite(\n",
    "    'act_c',\n",
    "    formula='C3H6O',\n",
    "    name='Acetone',\n",
    "    compartment='c')\n",
    "Acetone_out = Metabolite(\n",
    "    'act_e',\n",
    "    formula='C3H6O',\n",
    "    name='Acetone',\n",
    "    compartment='e')\n",
    "pth.add_metabolites([Acetone, Acetone_out])"
   ]
  },
  {
   "cell_type": "markdown",
   "metadata": {},
   "source": [
    "Next, I'll make the 4 reactions described above.\n",
    "\n",
    "As the reactions are supposed to be irriversible, the bounds are not changed, as the default is 0, 1000 (lower, upper)."
   ]
  },
  {
   "cell_type": "code",
   "execution_count": 17,
   "metadata": {},
   "outputs": [
    {
     "name": "stdout",
     "output_type": "stream",
     "text": [
      "{}\n",
      "(0.0, 1000.0)\n",
      "aacoa_c + ac_c --> acac_c + accoa_c + h_c\n"
     ]
    }
   ],
   "source": [
    "ctfAB_ac = Reaction(\"ctfAB_ac\")\n",
    "ctfAB_ac.name = \"Acetate-acetoacetate CoA-transferase\"\n",
    "\n",
    "ctfAB_ac.add_metabolites({\n",
    "    pth.metabolites.ac_c: -1.0,      #Acetate\n",
    "    pth.metabolites.aacoa_c: -1.0,   #Acetoacetyl-CoA\n",
    "    pth.metabolites.acac_c: 1.0,     #Acetoacetate\n",
    "    pth.metabolites.accoa_c: 1.0,    #Acetyl-CoA\n",
    "    pth.metabolites.h_c: 1.0\n",
    "})\n",
    "print(ctfAB_ac.check_mass_balance())    #ensure correct mass balance\n",
    "print(ctfAB_ac.bounds)                  #Ensure correct bounds\n",
    "print(ctfAB_ac.reaction)                #Ensure correct reaction"
   ]
  },
  {
   "cell_type": "code",
   "execution_count": 18,
   "metadata": {},
   "outputs": [
    {
     "name": "stdout",
     "output_type": "stream",
     "text": [
      "{}\n",
      "aacoa_c + but_c --> acac_c + btcoa_c + h_c\n"
     ]
    }
   ],
   "source": [
    "ctfAB_bu = Reaction(\"ctfAB_bu\")\n",
    "ctfAB_bu.name = \"Butyrate-acetoacetate CoA-transferase\"\n",
    "\n",
    "ctfAB_bu.add_metabolites({\n",
    "    pth.metabolites.but_c: -1.0,     #Butyrate\n",
    "    pth.metabolites.aacoa_c: -1.0,   #Acetoacetyl-CoA\n",
    "    pth.metabolites.acac_c: 1.0,     #Acetoacetate    \n",
    "    pth.metabolites.btcoa_c: 1.0,    #Butyryl-CoA\n",
    "    pth.metabolites.h_c: 1.0\n",
    "})\n",
    "print(ctfAB_bu.check_mass_balance())    #ensure correct mass balance\n",
    "print(ctfAB_bu.reaction)                #Ensure correct reaction"
   ]
  },
  {
   "cell_type": "code",
   "execution_count": 19,
   "metadata": {},
   "outputs": [
    {
     "name": "stdout",
     "output_type": "stream",
     "text": [
      "{}\n",
      "2.0 accoa_c + h_c --> aacoa_c + coa_c\n"
     ]
    }
   ],
   "source": [
    "thl = Reaction(\"THL\")\n",
    "thl.name = \"acetyl-CoA C-acetyltransferase\"\n",
    "\n",
    "thl.add_metabolites({\n",
    "    pth.metabolites.accoa_c: -2.0,     #Acetyl-coa\n",
    "    pth.metabolites.h_c: -1.0,\n",
    "    pth.metabolites.aacoa_c: 1.0,     #Acetoacetyl-CoA\n",
    "    pth.metabolites.coa_c: 1.0\n",
    "})\n",
    "print(thl.check_mass_balance())    #ensure correct mass balance\n",
    "print(thl.reaction)                #Ensure correct reaction"
   ]
  },
  {
   "cell_type": "code",
   "execution_count": 20,
   "metadata": {},
   "outputs": [
    {
     "name": "stdout",
     "output_type": "stream",
     "text": [
      "{}\n",
      "acac_c + h_c --> act_c + co2_c\n"
     ]
    }
   ],
   "source": [
    "adc = Reaction(\"ADC\")\n",
    "adc.name = \"acetoacetate decarboxylase\"\n",
    "\n",
    "adc.add_metabolites({\n",
    "    pth.metabolites.acac_c: -1.0,     #Acetoacetate\n",
    "    pth.metabolites.h_c: -1.0, \n",
    "    pth.metabolites.act_c: 1.0,\n",
    "    pth.metabolites.co2_c: 1.0\n",
    "})\n",
    "print(adc.check_mass_balance())    #ensure correct mass balance\n",
    "print(adc.reaction)                #Ensure correct reaction"
   ]
  },
  {
   "cell_type": "markdown",
   "metadata": {},
   "source": [
    "Lastly, I will make the acetone Acetone transporter and exchange to enable transport of acetone (as per recomendation of Vivienne instead of just adding a sink reaction). The reaction is supposed to be irreiversible, as the expectation is that acetone is volatile and will exit the fermentation broth quickly after coming out of the cell."
   ]
  },
  {
   "cell_type": "code",
   "execution_count": 21,
   "metadata": {},
   "outputs": [
    {
     "data": {
      "text/html": [
       "\n",
       "        <table>\n",
       "            <tr>\n",
       "                <td><strong>Reaction identifier</strong></td><td>actT</td>\n",
       "            </tr><tr>\n",
       "                <td><strong>Name</strong></td><td>Acetone transporter</td>\n",
       "            </tr><tr>\n",
       "                <td><strong>Memory address</strong></td>\n",
       "                <td>0x07f96ed929780</td>\n",
       "            </tr><tr>\n",
       "                <td><strong>Stoichiometry</strong></td>\n",
       "                <td>\n",
       "                    <p style='text-align:right'>act_c --> act_e</p>\n",
       "                    <p style='text-align:right'>Acetone --> Acetone</p>\n",
       "                </td>\n",
       "            </tr><tr>\n",
       "                <td><strong>GPR</strong></td><td></td>\n",
       "            </tr><tr>\n",
       "                <td><strong>Lower bound</strong></td><td>0.0</td>\n",
       "            </tr><tr>\n",
       "                <td><strong>Upper bound</strong></td><td>1000.0</td>\n",
       "            </tr>\n",
       "        </table>\n",
       "        "
      ],
      "text/plain": [
       "<Reaction actT at 0x7f96ed929780>"
      ]
     },
     "execution_count": 21,
     "metadata": {},
     "output_type": "execute_result"
    }
   ],
   "source": [
    "actT = Reaction(\"actT\")\n",
    "actT.name = \"Acetone transporter\"\n",
    "actT.add_metabolites({ \n",
    "    pth.metabolites.act_c: -1.0,\n",
    "    pth.metabolites.act_e: 1.0,\n",
    "})\n",
    "actT"
   ]
  },
  {
   "cell_type": "code",
   "execution_count": 22,
   "metadata": {},
   "outputs": [
    {
     "data": {
      "text/html": [
       "\n",
       "        <table>\n",
       "            <tr>\n",
       "                <td><strong>Reaction identifier</strong></td><td>EX_act_e</td>\n",
       "            </tr><tr>\n",
       "                <td><strong>Name</strong></td><td>Acetone exchange</td>\n",
       "            </tr><tr>\n",
       "                <td><strong>Memory address</strong></td>\n",
       "                <td>0x07f96edc465f8</td>\n",
       "            </tr><tr>\n",
       "                <td><strong>Stoichiometry</strong></td>\n",
       "                <td>\n",
       "                    <p style='text-align:right'>act_e --></p>\n",
       "                    <p style='text-align:right'>Acetone --></p>\n",
       "                </td>\n",
       "            </tr><tr>\n",
       "                <td><strong>GPR</strong></td><td></td>\n",
       "            </tr><tr>\n",
       "                <td><strong>Lower bound</strong></td><td>0.0</td>\n",
       "            </tr><tr>\n",
       "                <td><strong>Upper bound</strong></td><td>1000.0</td>\n",
       "            </tr>\n",
       "        </table>\n",
       "        "
      ],
      "text/plain": [
       "<Reaction EX_act_e at 0x7f96edc465f8>"
      ]
     },
     "execution_count": 22,
     "metadata": {},
     "output_type": "execute_result"
    }
   ],
   "source": [
    "act_ex = Reaction(\"EX_act_e\")\n",
    "act_ex.name = \"Acetone exchange\"\n",
    "act_ex.add_metabolites({ \n",
    "    pth.metabolites.act_e: -1.0,\n",
    "})\n",
    "act_ex"
   ]
  },
  {
   "cell_type": "markdown",
   "metadata": {},
   "source": [
    "Adding all the reactions to the model."
   ]
  },
  {
   "cell_type": "code",
   "execution_count": 23,
   "metadata": {},
   "outputs": [],
   "source": [
    "pth.add_reactions([ctfAB_ac, ctfAB_bu, thl, adc, actT, act_ex])"
   ]
  },
  {
   "cell_type": "markdown",
   "metadata": {},
   "source": [
    "Checking if the acetone exchange has been added properly. If this is added properly, I assume that all of the reactions will be added correctly."
   ]
  },
  {
   "cell_type": "code",
   "execution_count": 24,
   "metadata": {},
   "outputs": [
    {
     "data": {
      "text/html": [
       "\n",
       "        <table>\n",
       "            <tr>\n",
       "                <td><strong>Reaction identifier</strong></td><td>EX_act_e</td>\n",
       "            </tr><tr>\n",
       "                <td><strong>Name</strong></td><td>Acetone exchange</td>\n",
       "            </tr><tr>\n",
       "                <td><strong>Memory address</strong></td>\n",
       "                <td>0x07f96edc465f8</td>\n",
       "            </tr><tr>\n",
       "                <td><strong>Stoichiometry</strong></td>\n",
       "                <td>\n",
       "                    <p style='text-align:right'>act_e --></p>\n",
       "                    <p style='text-align:right'>Acetone --></p>\n",
       "                </td>\n",
       "            </tr><tr>\n",
       "                <td><strong>GPR</strong></td><td></td>\n",
       "            </tr><tr>\n",
       "                <td><strong>Lower bound</strong></td><td>0.0</td>\n",
       "            </tr><tr>\n",
       "                <td><strong>Upper bound</strong></td><td>1000.0</td>\n",
       "            </tr>\n",
       "        </table>\n",
       "        "
      ],
      "text/plain": [
       "<Reaction EX_act_e at 0x7f96edc465f8>"
      ]
     },
     "execution_count": 24,
     "metadata": {},
     "output_type": "execute_result"
    }
   ],
   "source": [
    "pth.exchanges.EX_act_e"
   ]
  },
  {
   "cell_type": "markdown",
   "metadata": {},
   "source": [
    "Checking if this disables model growth and/or enables production of acetone."
   ]
  },
  {
   "cell_type": "code",
   "execution_count": 25,
   "metadata": {
    "scrolled": true
   },
   "outputs": [
    {
     "name": "stdout",
     "output_type": "stream",
     "text": [
      "Objective\n",
      "=========\n",
      "1.0 actT = 14.136142857142866\n",
      "\n",
      "Uptake\n",
      "------\n",
      "Metabolite     Reaction  Flux  C-Number   C-Flux\n",
      "  glc__D_e  EX_glc__D_e    10         6  100.00%\n",
      "      o2_e      EX_o2_e 3.455         0    0.00%\n",
      "\n",
      "Secretion\n",
      "---------\n",
      "Metabolite  Reaction   Flux  C-Number  C-Flux\n",
      "     act_e  EX_act_e -14.14         3  70.68%\n",
      "     co2_e  EX_co2_e -17.59         1  29.32%\n",
      "     h2o_e  EX_h2o_e -17.59         0   0.00%\n",
      "\n"
     ]
    }
   ],
   "source": [
    "with pth:\n",
    "    pth.objective = \"actT\"\n",
    "    print(pth.summary())"
   ]
  },
  {
   "cell_type": "markdown",
   "metadata": {},
   "source": [
    "The model is now able to produce acetone and secrete it! This was only a test, to show that it works, and it will not be implemented like this, as ALL carbon flux goes to the acetone pathway, i.e. no c-flux to biomass - which won't be the case in reality.\n",
    "\n",
    "I will save this model, as it will be used for dFBA."
   ]
  },
  {
   "cell_type": "code",
   "execution_count": 26,
   "metadata": {},
   "outputs": [],
   "source": [
    "cobra.io.write_sbml_model(pth, \"../../Models/p-thermo_anaerob_actn.xml\")"
   ]
  },
  {
   "cell_type": "markdown",
   "metadata": {},
   "source": [
    "## Conclusion\n",
    "The acetone pathway has now been included in the model, as well as enabled production and secretion of acetone. Now, it can now be used for dFBA!"
   ]
  },
  {
   "cell_type": "markdown",
   "metadata": {},
   "source": [
    "[1] Viviënne Mol et al., “Genome-Scale Metabolic Modelling of P. Thermoglucosidasius NCIMB 11955 Reveals Metabolic Bottlenecks in Anaerobic Metabolism,” BioRxiv, February 1, 2021, 2021.02.01.429138, https://doi.org/10.1101/2021.02.01.429138.\n",
    "\n",
    "[2] Le Yu et al., “Metabolic Engineering of Clostridium Tyrobutyricum for N-Butanol Production: Effects of CoA Transferase,” Applied Microbiology and Biotechnology 99, no. 11 (June 1, 2015): 4917–30, https://doi.org/10.1007/s00253-015-6566-5."
   ]
  }
 ],
 "metadata": {
  "kernelspec": {
   "display_name": "dFBACoCultivation",
   "language": "python",
   "name": "dfbacocultivation"
  },
  "language_info": {
   "codemirror_mode": {
    "name": "ipython",
    "version": 3
   },
   "file_extension": ".py",
   "mimetype": "text/x-python",
   "name": "python",
   "nbconvert_exporter": "python",
   "pygments_lexer": "ipython3",
   "version": "3.6.12"
  }
 },
 "nbformat": 4,
 "nbformat_minor": 4
}
