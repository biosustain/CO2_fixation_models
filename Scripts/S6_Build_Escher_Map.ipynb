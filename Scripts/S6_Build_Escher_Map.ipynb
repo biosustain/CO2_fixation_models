{
 "cells": [
  {
   "cell_type": "markdown",
   "metadata": {},
   "source": [
    "# Introduction\n",
    "Building on the model visualization of Mol et al., the acetone production pathway is added "
   ]
  },
  {
   "cell_type": "code",
   "execution_count": 3,
   "metadata": {},
   "outputs": [],
   "source": [
    "import cameo\n",
    "import pandas as pd\n",
    "import cobra.io\n",
    "import escher\n",
    "from escher import Builder\n",
    "from cobra import Reaction, Metabolite\n",
    "from os.path import dirname, join, pardir\n",
    "\n",
    "data_dir = \"/Users/phivri/Documents/GitHub/MoGeoModel\""
   ]
  },
  {
   "cell_type": "code",
   "execution_count": 2,
   "metadata": {},
   "outputs": [
    {
     "data": {
      "application/vnd.jupyter.widget-view+json": {
       "model_id": "24ea1d50dc5844209fb4e36e3338dd3b",
       "version_major": 2,
       "version_minor": 0
      },
      "text/plain": [
       "Builder(reaction_data={'IDPh': 10.436720375457611, 'CAT': 0.0, 'PDHam1hi': 0.0, 'HYDA': 0.0, 'MALHYDRO': 0.0, …"
      ]
     },
     "metadata": {},
     "output_type": "display_data"
    }
   ],
   "source": [
    "model = cobra.io.read_sbml_model(join(data_dir,'Models/p-thermo_acetone_anaerobic.xml'))\n",
    "\n",
    "medium = model.medium\n",
    "medium[\"EX_o2_e\"] = 1000.0\n",
    "medium[\"EX_ac_e\"] = 10.0\n",
    "medium[\"EX_glc__D_e\"] = 0.0\n",
    "model.medium = medium\n",
    "\n",
    "solution = model.optimize()\n",
    "Builder(model = model, map_json = join(data_dir,'Models/p-thermo_acetone_map.json'), reaction_data = solution.fluxes.to_dict())"
   ]
  },
  {
   "cell_type": "code",
   "execution_count": null,
   "metadata": {},
   "outputs": [],
   "source": [
    "model.reactions.get_by_id(\"EX_Biomass_e\")"
   ]
  },
  {
   "cell_type": "code",
   "execution_count": 8,
   "metadata": {},
   "outputs": [
    {
     "name": "stdout",
     "output_type": "stream",
     "text": [
      "0.032978270242252763\n",
      "0.990463355198281\n"
     ]
    },
    {
     "data": {
      "application/vnd.jupyter.widget-view+json": {
       "model_id": "dd43553e6c7b407c876714c449384694",
       "version_major": 2,
       "version_minor": 0
      },
      "text/plain": [
       "Builder(reaction_data={'IDPh': 8.237433559589501, 'CAT': -5.141076088614215e-09, 'PDHam1hi': 0.0, 'HYDA': 0.0,…"
      ]
     },
     "metadata": {},
     "output_type": "display_data"
    }
   ],
   "source": [
    "#Desired ratio of max growth, chosen from PPP:\n",
    "ratio = 0.5\n",
    "\n",
    "XFlux = model.slim_optimize()*ratio\n",
    "\n",
    "with model:\n",
    "    model.reactions.get_by_id(\"EX_Biomass_e\").bounds = XFlux, XFlux\n",
    "    model.objective = \"EX_act_e\"\n",
    "    PFlux = model.slim_optimize()\n",
    "\n",
    "set_flux = model.problem.Constraint(\n",
    "    XFlux * model.reactions.EX_act_e.flux_expression - PFlux * model.reactions.EX_Biomass_e.flux_expression,\n",
    "    lb=0,\n",
    "    ub=0)\n",
    "model.add_cons_vars(set_flux)\n",
    "\n",
    "solution = model.optimize()\n",
    "\n",
    "Builder(model = model, map_json = join(data_dir,'Models/AcetonePathway.json'), reaction_data = solution.fluxes.to_dict())"
   ]
  },
  {
   "cell_type": "code",
   "execution_count": null,
   "metadata": {},
   "outputs": [],
   "source": [
    "model = cobra.io.read_sbml_model(join(data_dir,'Models/p-thermo_acetone_anaerobic.xml'))\n",
    "\n",
    "medium = model.medium\n",
    "medium[\"EX_o2_e\"] = 1000.0\n",
    "medium[\"EX_ac_e\"] = 10.0\n",
    "medium[\"EX_glc__D_e\"] = 0.0\n",
    "model.medium = medium\n",
    "\n",
    "set_flux = model.problem.Constraint(\n",
    "    model.reactions.EX_act_e.flux_expression - model.reactions.EX_Biomass_e.flux_expression,\n",
    "    lb=0,\n",
    "    ub=0)\n",
    "model.add_cons_vars(set_flux)\n",
    "\n",
    "model.objective = \"EX_Biomass_e\"\n",
    "model.summary()"
   ]
  },
  {
   "cell_type": "code",
   "execution_count": null,
   "metadata": {},
   "outputs": [],
   "source": [
    "model = cobra.io.read_sbml_model(join(data_dir,'Models/p-thermo_acetone_anaerobic.xml'))\n",
    "\n",
    "medium = model.medium\n",
    "medium[\"EX_o2_e\"] = 1000.0\n",
    "medium[\"EX_ac_e\"] = 10.0\n",
    "medium[\"EX_glc__D_e\"] = 0.0\n",
    "model.medium = medium\n",
    "\n",
    "with model:\n",
    "    model.objective = \"EX_Biomass_e\"\n",
    "    print(model.summary())\n",
    "\n",
    "with model:\n",
    "    model.objective = \"EX_act_e\"\n",
    "    print(model.summary())"
   ]
  },
  {
   "cell_type": "code",
   "execution_count": null,
   "metadata": {},
   "outputs": [],
   "source": [
    "model = cobra.io.read_sbml_model(join(data_dir,'Models/p-thermo_acetone_anaerobic.xml'))\n",
    "\n",
    "medium = model.medium\n",
    "medium[\"EX_o2_e\"] = 1000.0\n",
    "medium[\"EX_ac_e\"] = 10.0\n",
    "medium[\"EX_glc__D_e\"] = 0.0\n",
    "model.medium = medium"
   ]
  },
  {
   "cell_type": "code",
   "execution_count": null,
   "metadata": {},
   "outputs": [],
   "source": [
    "acetone_exchange = model.reactions.get_by_id(\"EX_act_e\")\n",
    "biomass = model.reactions.get_by_id(\"EX_Biomass_e\")"
   ]
  },
  {
   "cell_type": "code",
   "execution_count": null,
   "metadata": {},
   "outputs": [],
   "source": [
    "biomass80 = model.problem.Constraint(\n",
    "    0.2 * acetone_exchange.flux_expression + 0.08 * biomass.flux_expression,\n",
    "    lb=1,\n",
    "    ub=1,\n",
    ")"
   ]
  },
  {
   "cell_type": "code",
   "execution_count": null,
   "metadata": {
    "scrolled": false
   },
   "outputs": [],
   "source": [
    "at_least_biomass80 = model.problem.Constraint(\n",
    "    0.8 * acetone_exchange.flux_expression - 0.2 * biomass.flux_expression,\n",
    "    lb=-1000,\n",
    "    ub=0,\n",
    ")\n",
    "model.add_cons_vars(at_least_biomass80)\n",
    "\n",
    "print(f\"Growth after custom constraint: {model.slim_optimize()}\")\n",
    "\n",
    "changed_objective = model.problem.Objective(\n",
    "    0.2 * acetone_exchange.flux_expression + 0.8 * biomass.flux_expression,\n",
    "    direction=\"max\",\n",
    ")\n",
    "\n",
    "model.objective = changed_objective\n",
    "print(f\"Changed objective: {model.slim_optimize()}\")\n",
    "print(f\"Gluconate exchange: {acetone_exchange.flux}, Biomass value: {biomass.flux}\")\n",
    "\n",
    "solution = model.optimize()\n",
    "\n",
    "Builder(model = model, map_json = join(data_dir,'Models/AcetonePathway.json'), reaction_data = solution.fluxes.to_dict())"
   ]
  },
  {
   "cell_type": "code",
   "execution_count": null,
   "metadata": {},
   "outputs": [],
   "source": [
    "model.summary()"
   ]
  },
  {
   "cell_type": "code",
   "execution_count": null,
   "metadata": {},
   "outputs": [],
   "source": [
    "#with model:\n",
    "#    model.add_cons_vars(biomass80)\n",
    "#    print(model.summary())"
   ]
  },
  {
   "cell_type": "code",
   "execution_count": null,
   "metadata": {},
   "outputs": [],
   "source": [
    "at_least_biomass80 = model.problem.Constraint(\n",
    "    0.5 * acetone_exchange.flux_expression - 0.5 * biomass.flux_expression,\n",
    "    lb=-1000,\n",
    "    ub=0,\n",
    ")\n",
    "\n",
    "changed_objective = model.problem.Objective(\n",
    "    0.5 * acetone_exchange.flux_expression + 0.5 * biomass.flux_expression,\n",
    "    direction=\"max\",\n",
    ")"
   ]
  },
  {
   "cell_type": "code",
   "execution_count": null,
   "metadata": {},
   "outputs": [],
   "source": [
    "#with model:\n",
    "model.add_cons_vars(at_least_biomass80)\n",
    "model.objective = changed_objective\n",
    "#print(model.summary())\n",
    "solution = model.optimize()\n",
    "Builder(model = model, map_json = join(data_dir,'Models/AcetonePathway.json'), reaction_data = solution.fluxes.to_dict())"
   ]
  },
  {
   "cell_type": "code",
   "execution_count": null,
   "metadata": {},
   "outputs": [],
   "source": [
    "model = cobra.io.read_sbml_model(join(data_dir,'Models/p-thermo_acetone_anaerobic.xml'))\n",
    "\n",
    "Y_XP_max = solution.fluxes.EX_Biomass_e/solution.fluxes.EX_acta_e\n",
    "\n",
    "print(f\"The maximum yield on acetate is {Y_XP_max}\")\n",
    "\n",
    "ratio = 0.8\n",
    "\n",
    "print(f\"The acetone producing strain is expected to grow to a minimum of {ratio*100}% of its maximum Biomass yield\")"
   ]
  },
  {
   "cell_type": "code",
   "execution_count": null,
   "metadata": {},
   "outputs": [],
   "source": [
    "MaxGrowth = model.problem.Constraint(\n",
    "    model.reactions.EX_Biomass_e.flux_expression - Y_XP_max * ratio * model.reactions.EX_act_e.flux_expression,\n",
    "    lb=0,\n",
    "    ub=1000)\n",
    "model.add_cons_vars(MaxGrowth)\n",
    "\n",
    "model.objective = 'EX_act_e'\n",
    "\n",
    "solution = model.optimize()\n",
    "\n",
    "model.summary()"
   ]
  },
  {
   "cell_type": "code",
   "execution_count": null,
   "metadata": {},
   "outputs": [],
   "source": [
    "Builder(model = model, map_json = join(data_dir,'Models/p-thermo_acetone_map.json'), reaction_data = solution.fluxes.to_dict())"
   ]
  },
  {
   "cell_type": "code",
   "execution_count": null,
   "metadata": {},
   "outputs": [],
   "source": [
    "Builder(model = model, map_json = join(data_dir,'Models/AcetonePathway.json'), reaction_data = solution.fluxes.to_dict())"
   ]
  }
 ],
 "metadata": {
  "kernelspec": {
   "display_name": "cobrapy",
   "language": "python",
   "name": "cobrapy"
  },
  "language_info": {
   "codemirror_mode": {
    "name": "ipython",
    "version": 3
   },
   "file_extension": ".py",
   "mimetype": "text/x-python",
   "name": "python",
   "nbconvert_exporter": "python",
   "pygments_lexer": "ipython3",
   "version": "3.6.13"
  }
 },
 "nbformat": 4,
 "nbformat_minor": 2
}
