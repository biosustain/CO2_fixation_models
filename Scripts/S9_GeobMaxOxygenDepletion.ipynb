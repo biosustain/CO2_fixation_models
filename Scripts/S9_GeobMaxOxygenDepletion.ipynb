{
 "cells": [
  {
   "cell_type": "code",
   "execution_count": 1,
   "metadata": {},
   "outputs": [],
   "source": [
    "from cobra.io import read_sbml_model\n",
    "from os.path import dirname, join, pardir\n",
    "import pandas as pd\n",
    "import numpy as np\n",
    "import matplotlib.pyplot as plt\n",
    "import math\n",
    "from scipy.integrate import odeint"
   ]
  },
  {
   "cell_type": "markdown",
   "metadata": {},
   "source": [
    "## Create Black Box Model from GEM "
   ]
  },
  {
   "cell_type": "code",
   "execution_count": 2,
   "metadata": {},
   "outputs": [],
   "source": [
    "data_dir = \"/Users/phivri/Documents/GitHub/Biosustain/MoGeoModel\"\n",
    "model = read_sbml_model(join(data_dir,'Models/p-thermo_acetone_anaerobic.xml'))"
   ]
  },
  {
   "cell_type": "code",
   "execution_count": 3,
   "metadata": {},
   "outputs": [
    {
     "data": {
      "text/plain": [
       "{'EX_cl_e': 1000.0,\n",
       " 'EX_nh4_e': 1000.0,\n",
       " 'EX_fe2_e': 1000.0,\n",
       " 'EX_h2o_e': 1000.0,\n",
       " 'EX_o2_e': 1000.0,\n",
       " 'EX_co2_e': 1000.0,\n",
       " 'EX_h_e': 1000.0,\n",
       " 'EX_cobalt2_e': 1000.0,\n",
       " 'EX_ac_e': 10.0,\n",
       " 'EX_pi_e': 1000.0,\n",
       " 'EX_so4_e': 1000.0,\n",
       " 'EX_k_e': 1000.0,\n",
       " 'EX_mg2_e': 1000.0,\n",
       " 'EX_ca2_e': 1000.0,\n",
       " 'EX_btn_e': 1.0,\n",
       " 'EX_thmpp_e': 1.0,\n",
       " 'EX_sprm_e': 1.0,\n",
       " 'EX_spmd_e': 1.0,\n",
       " 'EX_adocbl_e': 1.0,\n",
       " 'EX_10fthf_e': 1.0,\n",
       " 'EX_fe3_e': 1.0,\n",
       " 'EX_pheme_e': 1.0}"
      ]
     },
     "execution_count": 3,
     "metadata": {},
     "output_type": "execute_result"
    }
   ],
   "source": [
    "medium = model.medium\n",
    "medium[\"EX_o2_e\"] = 1000.0\n",
    "medium[\"EX_ac_e\"] = 10.0\n",
    "medium[\"EX_sucr_e\"] = 0.0\n",
    "medium[\"EX_glc__D_e\"] = 0.0\n",
    "model.medium = medium\n",
    "\n",
    "model.medium"
   ]
  },
  {
   "cell_type": "code",
   "execution_count": 4,
   "metadata": {},
   "outputs": [
    {
     "data": {
      "text/html": [
       "<h3>Objective</h3><p>1.0 biomass = 0.13191308096901144</p><h4>Uptake</h4><table border=\"1\" class=\"dataframe\">\n",
       "  <thead>\n",
       "    <tr style=\"text-align: right;\">\n",
       "      <th>Metabolite</th>\n",
       "      <th>Reaction</th>\n",
       "      <th>Flux</th>\n",
       "      <th>C-Number</th>\n",
       "      <th>C-Flux</th>\n",
       "    </tr>\n",
       "  </thead>\n",
       "  <tbody>\n",
       "    <tr>\n",
       "      <td>10fthf_e</td>\n",
       "      <td>EX_10fthf_e</td>\n",
       "      <td>4.711E-05</td>\n",
       "      <td>20</td>\n",
       "      <td>0.00%</td>\n",
       "    </tr>\n",
       "    <tr>\n",
       "      <td>ac_e</td>\n",
       "      <td>EX_ac_e</td>\n",
       "      <td>10</td>\n",
       "      <td>2</td>\n",
       "      <td>99.95%</td>\n",
       "    </tr>\n",
       "    <tr>\n",
       "      <td>adocbl_e</td>\n",
       "      <td>EX_adocbl_e</td>\n",
       "      <td>2.626E-05</td>\n",
       "      <td>72</td>\n",
       "      <td>0.01%</td>\n",
       "    </tr>\n",
       "    <tr>\n",
       "      <td>btn_e</td>\n",
       "      <td>EX_btn_e</td>\n",
       "      <td>2.356E-07</td>\n",
       "      <td>10</td>\n",
       "      <td>0.00%</td>\n",
       "    </tr>\n",
       "    <tr>\n",
       "      <td>ca2_e</td>\n",
       "      <td>EX_ca2_e</td>\n",
       "      <td>0.000371</td>\n",
       "      <td>0</td>\n",
       "      <td>0.00%</td>\n",
       "    </tr>\n",
       "    <tr>\n",
       "      <td>fe2_e</td>\n",
       "      <td>EX_fe2_e</td>\n",
       "      <td>2.626E-05</td>\n",
       "      <td>0</td>\n",
       "      <td>0.00%</td>\n",
       "    </tr>\n",
       "    <tr>\n",
       "      <td>fe3_e</td>\n",
       "      <td>EX_fe3_e</td>\n",
       "      <td>0.004005</td>\n",
       "      <td>0</td>\n",
       "      <td>0.00%</td>\n",
       "    </tr>\n",
       "    <tr>\n",
       "      <td>h_e</td>\n",
       "      <td>EX_h_e</td>\n",
       "      <td>9.046</td>\n",
       "      <td>0</td>\n",
       "      <td>0.00%</td>\n",
       "    </tr>\n",
       "    <tr>\n",
       "      <td>k_e</td>\n",
       "      <td>EX_k_e</td>\n",
       "      <td>0.08341</td>\n",
       "      <td>0</td>\n",
       "      <td>0.00%</td>\n",
       "    </tr>\n",
       "    <tr>\n",
       "      <td>mg2_e</td>\n",
       "      <td>EX_mg2_e</td>\n",
       "      <td>0.01154</td>\n",
       "      <td>0</td>\n",
       "      <td>0.00%</td>\n",
       "    </tr>\n",
       "    <tr>\n",
       "      <td>nh4_e</td>\n",
       "      <td>EX_nh4_e</td>\n",
       "      <td>1.136</td>\n",
       "      <td>0</td>\n",
       "      <td>0.00%</td>\n",
       "    </tr>\n",
       "    <tr>\n",
       "      <td>o2_e</td>\n",
       "      <td>EX_o2_e</td>\n",
       "      <td>15.04</td>\n",
       "      <td>0</td>\n",
       "      <td>0.00%</td>\n",
       "    </tr>\n",
       "    <tr>\n",
       "      <td>pheme_e</td>\n",
       "      <td>EX_pheme_e</td>\n",
       "      <td>5.253E-05</td>\n",
       "      <td>34</td>\n",
       "      <td>0.01%</td>\n",
       "    </tr>\n",
       "    <tr>\n",
       "      <td>pi_e</td>\n",
       "      <td>EX_pi_e</td>\n",
       "      <td>0.102</td>\n",
       "      <td>0</td>\n",
       "      <td>0.00%</td>\n",
       "    </tr>\n",
       "    <tr>\n",
       "      <td>so4_e</td>\n",
       "      <td>EX_so4_e</td>\n",
       "      <td>0.0253</td>\n",
       "      <td>0</td>\n",
       "      <td>0.00%</td>\n",
       "    </tr>\n",
       "    <tr>\n",
       "      <td>spmd_e</td>\n",
       "      <td>EX_spmd_e</td>\n",
       "      <td>0.0001413</td>\n",
       "      <td>7</td>\n",
       "      <td>0.00%</td>\n",
       "    </tr>\n",
       "    <tr>\n",
       "      <td>sprm_e</td>\n",
       "      <td>EX_sprm_e</td>\n",
       "      <td>0.0003298</td>\n",
       "      <td>10</td>\n",
       "      <td>0.02%</td>\n",
       "    </tr>\n",
       "    <tr>\n",
       "      <td>thmpp_e</td>\n",
       "      <td>EX_thmpp_e</td>\n",
       "      <td>2.626E-05</td>\n",
       "      <td>12</td>\n",
       "      <td>0.00%</td>\n",
       "    </tr>\n",
       "  </tbody>\n",
       "</table><h4>Secretion</h4><table border=\"1\" class=\"dataframe\">\n",
       "  <thead>\n",
       "    <tr style=\"text-align: right;\">\n",
       "      <th>Metabolite</th>\n",
       "      <th>Reaction</th>\n",
       "      <th>Flux</th>\n",
       "      <th>C-Number</th>\n",
       "      <th>C-Flux</th>\n",
       "    </tr>\n",
       "  </thead>\n",
       "  <tbody>\n",
       "    <tr>\n",
       "      <td>Biomass_e</td>\n",
       "      <td>EX_Biomass_e</td>\n",
       "      <td>-0.1319</td>\n",
       "      <td>10</td>\n",
       "      <td>7.96%</td>\n",
       "    </tr>\n",
       "    <tr>\n",
       "      <td>co2_e</td>\n",
       "      <td>EX_co2_e</td>\n",
       "      <td>-15.26</td>\n",
       "      <td>1</td>\n",
       "      <td>92.04%</td>\n",
       "    </tr>\n",
       "    <tr>\n",
       "      <td>h2o_e</td>\n",
       "      <td>EX_h2o_e</td>\n",
       "      <td>-17.43</td>\n",
       "      <td>0</td>\n",
       "      <td>0.00%</td>\n",
       "    </tr>\n",
       "  </tbody>\n",
       "</table>"
      ],
      "text/plain": [
       "<cobra.summary.model_summary.ModelSummary at 0x7fd14dd35278>"
      ]
     },
     "execution_count": 4,
     "metadata": {},
     "output_type": "execute_result"
    }
   ],
   "source": [
    "solution = model.optimize()\n",
    "model.summary()"
   ]
  },
  {
   "cell_type": "markdown",
   "metadata": {},
   "source": [
    "Lisowska, Beata. Genomic analysis and metabolic modelling of Geobacillus thermoglucosidasius NCIMB 11955. Diss. University of Bath, 2016.\n",
    "\n",
    "growth rate around 0.3"
   ]
  },
  {
   "cell_type": "code",
   "execution_count": 5,
   "metadata": {},
   "outputs": [
    {
     "data": {
      "text/plain": [
       "(0.1319130809690115, -10.0, 15.262528289111026, -15.037420958165503)"
      ]
     },
     "execution_count": 5,
     "metadata": {},
     "output_type": "execute_result"
    }
   ],
   "source": [
    "X = solution.fluxes.EX_Biomass_e\n",
    "Actt = solution.fluxes.EX_ac_e\n",
    "CO2 = solution.fluxes.EX_co2_e\n",
    "O2 = solution.fluxes.EX_o2_e\n",
    "\n",
    "X, Actt, CO2, O2"
   ]
  },
  {
   "cell_type": "code",
   "execution_count": 6,
   "metadata": {},
   "outputs": [],
   "source": [
    "Ks_O2 = 0.022 # [mM] from glucose in E.coli 10.1007/s00253-006-0717-7\n",
    "\n",
    "#Ki_actt = 16.7 # [mM] Inhibition constant for acetate, measured in Daniel's project around 1g/L, 1/60*1000\n",
    "\n",
    "µ_max = 0.3 # [/h]"
   ]
  },
  {
   "cell_type": "code",
   "execution_count": 7,
   "metadata": {},
   "outputs": [],
   "source": [
    "def µ(C_O2):\n",
    "    return µ_max * C_O2/(0.022+C_O2)\n",
    "\n",
    "def q_CO2(C_O2):\n",
    "    return µ(C_O2)/(X/CO2)\n",
    "\n",
    "def q_O2(C_O2):\n",
    "    return µ(C_O2)/(X/O2)\n",
    "\n",
    "def q_actt(C_O2):\n",
    "    return µ(C_O2)/(X/Actt)"
   ]
  },
  {
   "cell_type": "markdown",
   "metadata": {},
   "source": [
    "## Run simulation "
   ]
  },
  {
   "cell_type": "code",
   "execution_count": 8,
   "metadata": {},
   "outputs": [
    {
     "name": "stdout",
     "output_type": "stream",
     "text": [
      "Reactor 2 is a CSTR of 15.71m^3, of which the broth occupies 10.47m^3, and the gas 0.23m^3.\n",
      "The mean logarithmic pressure in the tank is 124240.44[Pa]\n"
     ]
    }
   ],
   "source": [
    "T = 333.15 #Temperature in Celsius\n",
    "R = 8.314 # [m^3*Pa/K/mol]\n",
    "t_rn = 100.0 # Run time [h]\n",
    "\n",
    "#Reactor 2\n",
    "F2_L = 100 #Fluid inflow rate with C-source supplement [m^3/h]\n",
    "F2_G = 1 * 10**2 #gas inflow rate [m^3/h]\n",
    "r2 = 1 # radius of the reactor [m]\n",
    "h2 = 5 # height of the reactor [m]\n",
    "\n",
    "A2 = math.pi * r2**2 #reactor cross-sectional area [m^2]\n",
    "V2_L = A2 * h2 * 2/3 #reactor volume, assuming it is 2/3 filled [m^3]\n",
    "v2_gas = F2_G/A2/3600 #average gas velocity [m/s]\n",
    "Gas_holdup2 = 0.6*(v2_gas)**0.7 #from Stephanie's paper\n",
    "V2_G = V2_L*Gas_holdup2\n",
    "\n",
    "p2_t = 101325 # pressure at the top of the reactor [Pa]\n",
    "p2_b = p2_t + h2 * 1000 * 9.81 # pressure at the bottom of the reactor [Pa]\n",
    "p2_m = (p2_b-p2_t)/math.log(p2_b/p2_t) # logarithmic mean pressure [Pa]\n",
    "\n",
    "c_Actt_in = 10\n",
    "\n",
    "print(f\"Reactor 2 is a CSTR of {round(A2 * h2,2)}m^3, of which the broth occupies {round(V2_L,2)}m^3, and the gas {round(V2_G,2)}m^3.\")\n",
    "\n",
    "print(f\"The mean logarithmic pressure in the tank is {round(p2_m,2)}[Pa]\")\n"
   ]
  },
  {
   "cell_type": "code",
   "execution_count": 9,
   "metadata": {},
   "outputs": [],
   "source": [
    "#mol fraction of incoming gas\n",
    "y2_co = 0.0 #[mol/mol]\n",
    "y2_co2 = 0.0 #[mol/mol]\n",
    "y2_h2 = 0.0 #[mol/mol]\n",
    "y2_o2 = 0.2 #[mol/mol]\n",
    "y2_n2 = 0.8 #[mol/mol]\n",
    "\n",
    "cG2_CO2_in = y2_co2 * p2_m/(R*T)\n",
    "cG2_CO_in = y2_co * p2_m/(R*T)\n",
    "cG2_H2_in = y2_h2 * p2_m/(R*T)\n",
    "cG2_O2_in = y2_o2 * p2_m/(R*T)\n",
    "cG2_N2_in = y2_n2 * p2_m/(R*T)\n",
    "cG2_Actn_in = 0.0\n",
    "\n",
    "cG2_Gas_0 = cG2_CO2_in+cG2_CO_in+cG2_H2_in+cG2_O2_in+cG2_N2_in"
   ]
  },
  {
   "cell_type": "code",
   "execution_count": 10,
   "metadata": {},
   "outputs": [],
   "source": [
    "# Constants:\n",
    "# Diffusivity coefficient:\n",
    "# E.L. Cussler, Diffusion - Mass Transfer in Fluid Systems, 2nd edition - Table 5.2-1\n",
    "D0_CO = 2.03*10**(-5) #[cm2/s]\n",
    "D0_CO2 = 1.92*10**(-5) #[cm2/s]\n",
    "D0_H2 = 4.50*10**(-5) #[cm2/s]\n",
    "D0_O2 = 2.10*10**(-5) #[cm2/s]\n",
    "D0_N2 = 1.88*10**(-5) #[cm2/s]\n",
    "\n",
    "# NIST Chemistry WebBook: https://webbook.nist.gov\n",
    "theta = 1.022 # temperature correction factor\n",
    "#Henry's law constant for solubility in water at 298.15 K\n",
    "H0_CO = 0.00099 # mol/kg*bar]\n",
    "H0_CO2 = 0.035 # [mol/kg*bar]\n",
    "H0_H2 = 0.00078 # [mol/kg*bar]\n",
    "H0_O2 = 0.0013 # [mol/kg*bar]\n",
    "H0_N2 = 0.0006 # [mol/kg*bar]\n",
    "#temepratute correction factor k \n",
    "k_CO = 1300 # [K]\n",
    "k_CO2 = 2400 # [K]\n",
    "k_H2 = 500 # [K]\n",
    "k_O2 = 1500 # [K]\n",
    "k_N2 = 1300 # [K]\n",
    "#Temperature-corrected Henry’s law constant, HT:\n",
    "HT_CO2 = H0_CO2 * math.e**(k_CO2*(1/T-1/298.15)) * 10**3 * 10**(-5) #[mol/m^3*Pa]\n",
    "HT_CO = H0_CO * math.e**(k_CO*(1/T-1/298.15)) * 10**3 * 10**(-5) #[mol/m^3*Pa]\n",
    "HT_H2 = H0_H2 * math.e**(k_H2*(1/T-1/298.15)) * 10**3 * 10**(-5) #[mol/m^3*Pa]\n",
    "HT_O2 = H0_O2 * math.e**(k_O2*(1/T-1/298.15)) * 10**3 * 10**(-5) #[mol/m^3*Pa]\n",
    "HT_N2 = H0_N2 * math.e**(k_N2*(1/T-1/298.15)) * 10**3 * 10**(-5) #[mol/m^3*Pa]"
   ]
  },
  {
   "cell_type": "code",
   "execution_count": 11,
   "metadata": {},
   "outputs": [],
   "source": [
    "def R_O2(c_O2, cG_O2,cG_CO2,cG_N2):\n",
    "    cG_Gas = cG_O2 + cG_CO2 + cG_N2\n",
    "    KLa_O2 = 3.5 * v2_gas * theta**(T-293.15) * 3600 #[1/s]\n",
    "    return KLa_O2*(HT_O2 * cG_O2/(cG_Gas) * p2_m * cG_Gas/cG2_Gas_0 - c_O2)\n",
    "\n",
    "def R_CO2(c_CO2, cG_O2,cG_CO2,cG_N2):\n",
    "    cG_Gas = cG_O2 + cG_CO2 + cG_N2\n",
    "    KLa_CO2 = 3.5 * (D0_CO2/D0_O2)**0.5 * v2_gas * theta**(T-293.15) * 3600 #[1/s]\n",
    "    return KLa_CO2*(HT_CO2 * cG_O2/(cG_Gas) * p2_m * cG_Gas/cG2_Gas_0 - c_CO2)"
   ]
  },
  {
   "cell_type": "code",
   "execution_count": 12,
   "metadata": {},
   "outputs": [],
   "source": [
    "cG_N2 = 0\n",
    "def model(z,t):\n",
    "    c_X = max(0,z[0])\n",
    "    c_Actt = max(0,z[1])\n",
    "    c_O2 = max(0,z[2])\n",
    "    c_CO2 = max(0,z[3])\n",
    "    cG_O2 = max(0,z[4])\n",
    "    cG_CO2 = max(0,z[5])\n",
    "\n",
    "    dXdt    = µ(c_O2) * c_X\n",
    "    dActtdt = q_actt(c_O2) * c_X + (c_Actt_in - c_Actt) * F2_L\n",
    "    dO2dt   = q_O2(c_O2) * c_X + c_Actt_in + R_O2(c_O2, cG_O2,cG_CO2,cG_N2)\n",
    "    dCO2dt  = q_CO2(c_O2) * c_X + R_CO2(c_CO2, cG_O2,cG_CO2,cG_N2)\n",
    "    dO2Gdt  = F2_G/V2_G * (cG2_O2_in-cG_O2) - R_O2(c_O2, cG_O2,cG_CO2,cG_N2) * V2_L/V2_G\n",
    "    dCO2Gdt = F2_G/V2_G * (cG2_CO2_in-cG_CO2) - R_CO2(c_CO2, cG_O2,cG_CO2,cG_N2) * V2_L/V2_G\n",
    "    \n",
    "    return [dXdt,dActtdt,dO2dt,dCO2dt,dO2Gdt,dCO2Gdt]\n",
    "\n",
    "z0=[0.1,1,1,0,1,1]\n",
    "\n",
    "#step function\n",
    "t_rt = 15\n",
    "t = np.linspace(0,t_rt,1000)\n",
    "\n",
    "#solve ODE\n",
    "z = odeint(model,z0,t)"
   ]
  },
  {
   "cell_type": "code",
   "execution_count": 13,
   "metadata": {},
   "outputs": [
    {
     "data": {
      "image/png": "[encoded data removed]",
      "text/plain": [
       "<Figure size 1080x720 with 4 Axes>"
      ]
     },
     "metadata": {
      "needs_background": "light"
     },
     "output_type": "display_data"
    }
   ],
   "source": [
    "# plot results\n",
    "fig = plt.figure(figsize=(15,10))\n",
    "plt.subplot(2,2,1)\n",
    "plt.title(\"Biomass\")\n",
    "plt.plot(t,z[:,0])\n",
    "plt.xlabel('time[h]')\n",
    "plt.ylabel('y(t)')\n",
    "\n",
    "plt.subplot(2,2,2)\n",
    "plt.title(\"Acetate\")\n",
    "plt.plot(t,z[:,1])\n",
    "plt.xlabel('time[h]')\n",
    "plt.ylabel('y(t)')\n",
    "\n",
    "plt.subplot(2,2,3)\n",
    "plt.title(\"Disolved gasses\")\n",
    "plt.plot(t,z[:,2])\n",
    "plt.plot(t,z[:,3])\n",
    "plt.legend(['O2',\"CO2\"])\n",
    "plt.xlabel('time[h]')\n",
    "plt.ylabel('y(t)')\n",
    "\n",
    "plt.subplot(2,2,4)\n",
    "plt.title(\"Off-Gas\")\n",
    "plt.plot(t,z[:,4])\n",
    "plt.plot(t,z[:,5])\n",
    "plt.legend(['O2',\"CO2\"])\n",
    "plt.xlabel('time[h]')\n",
    "plt.ylabel('y(t)')\n",
    "\n",
    "plt.show()"
   ]
  },
  {
   "cell_type": "markdown",
   "metadata": {},
   "source": [
    "## Plot Oxygen consumption by growth rate"
   ]
  },
  {
   "cell_type": "markdown",
   "metadata": {},
   "source": [
    "NGAM: 3.141 mmolATP/gDW/h, in ATPM reaction\n",
    "\n",
    "GAM: 152.3 mmolATP/gDW, in biomass pseudoreaction"
   ]
  },
  {
   "cell_type": "code",
   "execution_count": 14,
   "metadata": {},
   "outputs": [
    {
     "data": {
      "text/html": [
       "\n",
       "        <table>\n",
       "            <tr>\n",
       "                <td><strong>Reaction identifier</strong></td><td>ATPM</td>\n",
       "            </tr><tr>\n",
       "                <td><strong>Name</strong></td><td>ATP phosphohydrolase</td>\n",
       "            </tr><tr>\n",
       "                <td><strong>Memory address</strong></td>\n",
       "                <td>0x07fd13a018fd0</td>\n",
       "            </tr><tr>\n",
       "                <td><strong>Stoichiometry</strong></td>\n",
       "                <td>\n",
       "                    <p style='text-align:right'>atp_c + h2o_c --> adp_c + h_c + pi_c</p>\n",
       "                    <p style='text-align:right'>ATP + Water --> ADP + H+ + Orthophosphate</p>\n",
       "                </td>\n",
       "            </tr><tr>\n",
       "                <td><strong>GPR</strong></td><td>RTMO00197 or RTMO00196 or RTMO00193 or RTMO00194 or RTMO04075 or RTMO00373 or RTMO03395 or...</td>\n",
       "            </tr><tr>\n",
       "                <td><strong>Lower bound</strong></td><td>3.141</td>\n",
       "            </tr><tr>\n",
       "                <td><strong>Upper bound</strong></td><td>1000.0</td>\n",
       "            </tr>\n",
       "        </table>\n",
       "        "
      ],
      "text/plain": [
       "<Reaction ATPM at 0x7fd13a018fd0>"
      ]
     },
     "execution_count": 14,
     "metadata": {},
     "output_type": "execute_result"
    }
   ],
   "source": [
    "model = read_sbml_model(join(data_dir,'Models/p-thermo_acetone_anaerobic.xml'))\n",
    "model.reactions.ATPM"
   ]
  },
  {
   "cell_type": "code",
   "execution_count": 15,
   "metadata": {},
   "outputs": [
    {
     "data": {
      "text/html": [
       "\n",
       "        <table>\n",
       "            <tr>\n",
       "                <td><strong>Reaction identifier</strong></td><td>biomass</td>\n",
       "            </tr><tr>\n",
       "                <td><strong>Name</strong></td><td>biomass</td>\n",
       "            </tr><tr>\n",
       "                <td><strong>Memory address</strong></td>\n",
       "                <td>0x07fd1389e5fd0</td>\n",
       "            </tr><tr>\n",
       "                <td><strong>Stoichiometry</strong></td>\n",
       "                <td>\n",
       "                    <p style='text-align:right'>0.000357142857142857 10fthf_c + 0.000249107142857144 accoa_c + 0.000199107142857143 adocbl_c + 0.514187446428571 ala__L_c + 0.000199107142857143 amet_c + 0.119274155357143 amp_c + 0.183080357142857...</p>\n",
       "                    <p style='text-align:right'>0.000357142857142857 10-Formyltetrahydrofolate + 0.000249107142857144 Acetyl-CoA + 0.000199107142857143 Cobamide coenzyme + 0.514187446428571 L-Alanine + 0.000199107142857143 S-Adenosyl-L-...</p>\n",
       "                </td>\n",
       "            </tr><tr>\n",
       "                <td><strong>GPR</strong></td><td>RTMO05969</td>\n",
       "            </tr><tr>\n",
       "                <td><strong>Lower bound</strong></td><td>0.0</td>\n",
       "            </tr><tr>\n",
       "                <td><strong>Upper bound</strong></td><td>1000.0</td>\n",
       "            </tr>\n",
       "        </table>\n",
       "        "
      ],
      "text/plain": [
       "<Reaction biomass at 0x7fd1389e5fd0>"
      ]
     },
     "execution_count": 15,
     "metadata": {},
     "output_type": "execute_result"
    }
   ],
   "source": [
    "model.reactions.biomass"
   ]
  },
  {
   "cell_type": "code",
   "execution_count": 16,
   "metadata": {},
   "outputs": [
    {
     "data": {
      "text/html": [
       "<h3>Objective</h3><p>1.0 biomass = 0.9559138145590422</p><h4>Uptake</h4><table border=\"1\" class=\"dataframe\">\n",
       "  <thead>\n",
       "    <tr style=\"text-align: right;\">\n",
       "      <th>Metabolite</th>\n",
       "      <th>Reaction</th>\n",
       "      <th>Flux</th>\n",
       "      <th>C-Number</th>\n",
       "      <th>C-Flux</th>\n",
       "    </tr>\n",
       "  </thead>\n",
       "  <tbody>\n",
       "    <tr>\n",
       "      <td>10fthf_e</td>\n",
       "      <td>EX_10fthf_e</td>\n",
       "      <td>0.0003414</td>\n",
       "      <td>20</td>\n",
       "      <td>0.01%</td>\n",
       "    </tr>\n",
       "    <tr>\n",
       "      <td>ac_e</td>\n",
       "      <td>EX_ac_e</td>\n",
       "      <td>67.98</td>\n",
       "      <td>2</td>\n",
       "      <td>99.95%</td>\n",
       "    </tr>\n",
       "    <tr>\n",
       "      <td>adocbl_e</td>\n",
       "      <td>EX_adocbl_e</td>\n",
       "      <td>0.0001903</td>\n",
       "      <td>72</td>\n",
       "      <td>0.01%</td>\n",
       "    </tr>\n",
       "    <tr>\n",
       "      <td>btn_e</td>\n",
       "      <td>EX_btn_e</td>\n",
       "      <td>1.707E-06</td>\n",
       "      <td>10</td>\n",
       "      <td>0.00%</td>\n",
       "    </tr>\n",
       "    <tr>\n",
       "      <td>ca2_e</td>\n",
       "      <td>EX_ca2_e</td>\n",
       "      <td>0.002689</td>\n",
       "      <td>0</td>\n",
       "      <td>0.00%</td>\n",
       "    </tr>\n",
       "    <tr>\n",
       "      <td>fe2_e</td>\n",
       "      <td>EX_fe2_e</td>\n",
       "      <td>0.0001903</td>\n",
       "      <td>0</td>\n",
       "      <td>0.00%</td>\n",
       "    </tr>\n",
       "    <tr>\n",
       "      <td>fe3_e</td>\n",
       "      <td>EX_fe3_e</td>\n",
       "      <td>0.02902</td>\n",
       "      <td>0</td>\n",
       "      <td>0.00%</td>\n",
       "    </tr>\n",
       "    <tr>\n",
       "      <td>h_e</td>\n",
       "      <td>EX_h_e</td>\n",
       "      <td>61.07</td>\n",
       "      <td>0</td>\n",
       "      <td>0.00%</td>\n",
       "    </tr>\n",
       "    <tr>\n",
       "      <td>k_e</td>\n",
       "      <td>EX_k_e</td>\n",
       "      <td>0.6044</td>\n",
       "      <td>0</td>\n",
       "      <td>0.00%</td>\n",
       "    </tr>\n",
       "    <tr>\n",
       "      <td>mg2_e</td>\n",
       "      <td>EX_mg2_e</td>\n",
       "      <td>0.08364</td>\n",
       "      <td>0</td>\n",
       "      <td>0.00%</td>\n",
       "    </tr>\n",
       "    <tr>\n",
       "      <td>nh4_e</td>\n",
       "      <td>EX_nh4_e</td>\n",
       "      <td>8.235</td>\n",
       "      <td>0</td>\n",
       "      <td>0.00%</td>\n",
       "    </tr>\n",
       "    <tr>\n",
       "      <td>o2_e</td>\n",
       "      <td>EX_o2_e</td>\n",
       "      <td>100</td>\n",
       "      <td>0</td>\n",
       "      <td>0.00%</td>\n",
       "    </tr>\n",
       "    <tr>\n",
       "      <td>pheme_e</td>\n",
       "      <td>EX_pheme_e</td>\n",
       "      <td>0.0003807</td>\n",
       "      <td>34</td>\n",
       "      <td>0.01%</td>\n",
       "    </tr>\n",
       "    <tr>\n",
       "      <td>pi_e</td>\n",
       "      <td>EX_pi_e</td>\n",
       "      <td>0.7395</td>\n",
       "      <td>0</td>\n",
       "      <td>0.00%</td>\n",
       "    </tr>\n",
       "    <tr>\n",
       "      <td>so4_e</td>\n",
       "      <td>EX_so4_e</td>\n",
       "      <td>0.1833</td>\n",
       "      <td>0</td>\n",
       "      <td>0.00%</td>\n",
       "    </tr>\n",
       "    <tr>\n",
       "      <td>spmd_e</td>\n",
       "      <td>EX_spmd_e</td>\n",
       "      <td>0.001024</td>\n",
       "      <td>7</td>\n",
       "      <td>0.01%</td>\n",
       "    </tr>\n",
       "    <tr>\n",
       "      <td>sprm_e</td>\n",
       "      <td>EX_sprm_e</td>\n",
       "      <td>0.00239</td>\n",
       "      <td>10</td>\n",
       "      <td>0.02%</td>\n",
       "    </tr>\n",
       "    <tr>\n",
       "      <td>thmpp_e</td>\n",
       "      <td>EX_thmpp_e</td>\n",
       "      <td>0.0001903</td>\n",
       "      <td>12</td>\n",
       "      <td>0.00%</td>\n",
       "    </tr>\n",
       "  </tbody>\n",
       "</table><h4>Secretion</h4><table border=\"1\" class=\"dataframe\">\n",
       "  <thead>\n",
       "    <tr style=\"text-align: right;\">\n",
       "      <th>Metabolite</th>\n",
       "      <th>Reaction</th>\n",
       "      <th>Flux</th>\n",
       "      <th>C-Number</th>\n",
       "      <th>C-Flux</th>\n",
       "    </tr>\n",
       "  </thead>\n",
       "  <tbody>\n",
       "    <tr>\n",
       "      <td>Biomass_e</td>\n",
       "      <td>EX_Biomass_e</td>\n",
       "      <td>-0.9559</td>\n",
       "      <td>10</td>\n",
       "      <td>8.60%</td>\n",
       "    </tr>\n",
       "    <tr>\n",
       "      <td>co2_e</td>\n",
       "      <td>EX_co2_e</td>\n",
       "      <td>-101.6</td>\n",
       "      <td>1</td>\n",
       "      <td>91.40%</td>\n",
       "    </tr>\n",
       "    <tr>\n",
       "      <td>h2o_e</td>\n",
       "      <td>EX_h2o_e</td>\n",
       "      <td>-117.3</td>\n",
       "      <td>0</td>\n",
       "      <td>0.00%</td>\n",
       "    </tr>\n",
       "  </tbody>\n",
       "</table>"
      ],
      "text/plain": [
       "<cobra.summary.model_summary.ModelSummary at 0x7fd138996c88>"
      ]
     },
     "execution_count": 16,
     "metadata": {},
     "output_type": "execute_result"
    }
   ],
   "source": [
    "medium = model.medium\n",
    "medium[\"EX_glc__D_e\"] = 0\n",
    "medium[\"EX_o2_e\"] = 100.0\n",
    "model.medium = medium\n",
    "\n",
    "model.optimize()\n",
    "model.summary()"
   ]
  },
  {
   "cell_type": "code",
   "execution_count": 17,
   "metadata": {
    "scrolled": false
   },
   "outputs": [
    {
     "name": "stderr",
     "output_type": "stream",
     "text": [
      "/Users/phivri/opt/anaconda3/envs/cobrapy/lib/python3.6/site-packages/cobra/core/metabolite.py:104: UserWarning: 38.14 is not an integer (in formula C38.14H75.28O10P)\n",
      "  % (count, self.formula)\n",
      "/Users/phivri/opt/anaconda3/envs/cobrapy/lib/python3.6/site-packages/cobra/core/metabolite.py:104: UserWarning: 75.28 is not an integer (in formula C38.14H75.28O10P)\n",
      "  % (count, self.formula)\n",
      "/Users/phivri/opt/anaconda3/envs/cobrapy/lib/python3.6/site-packages/cobra/core/metabolite.py:104: UserWarning: 37.14 is not an integer (in formula C37.14H74.28NO8P)\n",
      "  % (count, self.formula)\n",
      "/Users/phivri/opt/anaconda3/envs/cobrapy/lib/python3.6/site-packages/cobra/core/metabolite.py:104: UserWarning: 74.28 is not an integer (in formula C37.14H74.28NO8P)\n",
      "  % (count, self.formula)\n",
      "/Users/phivri/opt/anaconda3/envs/cobrapy/lib/python3.6/site-packages/cobra/core/metabolite.py:104: UserWarning: 73.28 is not an integer (in formula C73.28H142.56O17P2)\n",
      "  % (count, self.formula)\n",
      "/Users/phivri/opt/anaconda3/envs/cobrapy/lib/python3.6/site-packages/cobra/core/metabolite.py:104: UserWarning: 142.56 is not an integer (in formula C73.28H142.56O17P2)\n",
      "  % (count, self.formula)\n"
     ]
    },
    {
     "data": {
      "text/plain": [
       "(0.0, 0.3, 0.0, 40.0)"
      ]
     },
     "execution_count": 17,
     "metadata": {},
     "output_type": "execute_result"
    },
    {
     "data": {
      "image/png": "[encoded data removed]",
      "text/plain": [
       "<Figure size 432x288 with 1 Axes>"
      ]
     },
     "metadata": {
      "needs_background": "light"
     },
     "output_type": "display_data"
    }
   ],
   "source": [
    "import cobra.test\n",
    "from cobra.flux_analysis import production_envelope\n",
    "\n",
    "prod_env = production_envelope(model, [\"EX_o2_e\"], objective=\"biomass\", carbon_sources=\"EX_ac_e\")\n",
    "\n",
    "plt.plot(prod_env.flux_maximum,-prod_env.EX_o2_e)\n",
    "plt.xlabel('growth rate [h-1]')\n",
    "plt.ylabel('Oxygen uptake [mmol/gDW/h]')\n",
    "plt.axis([0, 0.3, 0, 40])"
   ]
  }
 ],
 "metadata": {
  "kernelspec": {
   "display_name": "cobrapy",
   "language": "python",
   "name": "cobrapy"
  },
  "language_info": {
   "codemirror_mode": {
    "name": "ipython",
    "version": 3
   },
   "file_extension": ".py",
   "mimetype": "text/x-python",
   "name": "python",
   "nbconvert_exporter": "python",
   "pygments_lexer": "ipython3",
   "version": "3.6.13"
  }
 },
 "nbformat": 4,
 "nbformat_minor": 4
}
