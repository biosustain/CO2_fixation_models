{
 "cells": [
  {
   "cell_type": "code",
   "execution_count": 1,
   "metadata": {},
   "outputs": [],
   "source": [
    "import numpy as np\n",
    "import pandas as pd\n",
    "import cobra.io\n",
    "import escher\n",
    "from escher import Builder\n",
    "from cobra import Model, Reaction, Metabolite\n",
    "from os.path import join"
   ]
  },
  {
   "cell_type": "code",
   "execution_count": 2,
   "metadata": {},
   "outputs": [
    {
     "name": "stdout",
     "output_type": "stream",
     "text": [
      "Using license file /Users/phivri/gurobi.lic\n",
      "Academic license - for non-commercial use only - expires 2022-07-23\n"
     ]
    }
   ],
   "source": [
    "data_dir = \"/Users/phivri/Documents/GitHub/Biosustain/MoGeoModel\"\n",
    "\n",
    "WLmodel = cobra.io.read_sbml_model(join(data_dir,'Models/WLPathway_bifurcating.xml'))"
   ]
  },
  {
   "cell_type": "markdown",
   "metadata": {},
   "source": [
    "To properly compare all results for the different substrate and product combinations, the model is constrained by the flux through CODH_ACS, so to equal Acetyl-CoA."
   ]
  },
  {
   "cell_type": "code",
   "execution_count": 3,
   "metadata": {},
   "outputs": [],
   "source": [
    "WLmodel.reactions.CODH_ACS.bounds = 1,1"
   ]
  },
  {
   "cell_type": "markdown",
   "metadata": {},
   "source": [
    "Define carboxydotrophic and homoacetogenic media, Acetyl-CoA is constrained, so substrates are only absent or present and uptake rates are unconstrained"
   ]
  },
  {
   "cell_type": "code",
   "execution_count": 4,
   "metadata": {},
   "outputs": [],
   "source": [
    "medium_carb = WLmodel.medium\n",
    "medium_carb['EX_co_e'] = 1000\n",
    "medium_carb['EX_co2_e'] = 0\n",
    "medium_carb['EX_h2_e'] = 0\n",
    "\n",
    "medium_hom = WLmodel.medium\n",
    "medium_hom['EX_co_e'] = 0\n",
    "medium_hom['EX_co2_e'] = 1000\n",
    "medium_hom['EX_h2_e'] = 1000"
   ]
  },
  {
   "cell_type": "code",
   "execution_count": 5,
   "metadata": {
    "scrolled": false
   },
   "outputs": [
    {
     "name": "stdout",
     "output_type": "stream",
     "text": [
      "Acetate exchange\n",
      " carb: -4.0 CO + 0.0 H2O + 2.0 CO2 + 1.0 CH3COOH + -1.0 H+ + 2.0 ATP\n",
      "   ATP/Electron donor:  0.5\n",
      "   Product/Electron donor:  0.5\n",
      " hom: -2.0 CO2 + -4.0 H2 + 2.67 H2O + 1.0 CH3COOH + 0.33 H+ + 0.67 ATP\n",
      "   ATP/Electron donor:  0.17\n",
      "   Product/Electron donor:  0.5 \n",
      "\n",
      "Ethanol exchange\n",
      " carb: -6.0 CO + -0.33 H2O + 4.0 CO2 + 1.0 C2H5OH + -2.67 H+ + 2.67 ATP\n",
      "   ATP/Electron donor:  0.44\n",
      "   Product/Electron donor:  0.33\n",
      " hom: -2.0 CO2 + -6.0 H2 + 3.67 H2O + 1.0 C2H5OH + -0.67 H+ + 0.67 ATP\n",
      "   ATP/Electron donor:  0.11\n",
      "   Product/Electron donor:  0.33 \n",
      "\n",
      "Acetone exchange\n",
      " carb: -4.0 CO + -0.17 H2O + 2.5 CO2 + 0.5 C3H6O + -1.33 H+ + 1.33 ATP\n",
      "   ATP/Electron donor:  0.33\n",
      "   Product/Electron donor:  0.38\n",
      " hom: -1.5 CO2 + -4.0 H2 + 2.5 H2O + 0.5 C3H6O + 0.0 H+ + 0.0 ATP\n",
      "   ATP/Electron donor:  0.0\n",
      "   Product/Electron donor:  0.38 \n",
      "\n",
      "Butyrate (n-C4:0) exchange\n",
      " carb: -5.0 CO + 0.17 H2O + 3.0 CO2 + 0.5 C4H7O2 + -1.67 H+ + 2.17 ATP\n",
      "   ATP/Electron donor:  0.43\n",
      "   Product/Electron donor:  0.4\n",
      " hom: -2.0 CO2 + -5.0 H2 + 3.5 H2O + 0.5 C4H7O2 + 0.0 H+ + 0.5 ATP\n",
      "   ATP/Electron donor:  0.1\n",
      "   Product/Electron donor:  0.4 \n",
      "\n",
      "Butanol exchange\n",
      " carb: -6.0 CO + -0.17 H2O + 4.0 CO2 + 0.5 C4H9OH + -2.33 H+ + 2.33 ATP\n",
      "   ATP/Electron donor:  0.39\n",
      "   Product/Electron donor:  0.33\n",
      " hom: -2.0 CO2 + -6.0 H2 + 3.83 H2O + 0.5 C4H9OH + -0.33 H+ + 0.33 ATP\n",
      "   ATP/Electron donor:  0.06\n",
      "   Product/Electron donor:  0.33 \n",
      "\n",
      " R R  2 3 Butanediol exchange\n",
      " carb: -5.5 CO + -1.5 H2O + 3.5 CO2 + 0.5 C4H10O2 + -1.0 H+ + 1.0 ATP\n",
      "   ATP/Electron donor:  0.18\n",
      "   Product/Electron donor:  0.36\n",
      " hom: -2.0 CO2 + -5.5 H2 + 2.17 H2O + 0.5 C4H10O2 + 0.83 H+ + -0.83 ATP\n",
      "   ATP/Electron donor:  -0.15\n",
      "   Product/Electron donor:  0.36 \n",
      "\n"
     ]
    }
   ],
   "source": [
    "objectives = pd.Series([\"EX_ac_e\",\"EX_etoh_e\",\"EX_act_e\",\"EX_but_e\",\"EX_btoh_e\",\"EX_btd_RR_e\"])\n",
    "formulas = pd.Series([\"CH3COOH\",\"C2H5OH\",\"C3H6O\",\"C4H7O2\",\"C4H9OH\",\"C4H10O2\"], index=objectives)\n",
    "Cmol =  pd.Series([2,2,3,4,4,4], index=objectives)\n",
    "\n",
    "for x in objectives:\n",
    "    print(WLmodel.reactions.get_by_id(x).name)\n",
    "    WLmodel.objective = x\n",
    "    with WLmodel:\n",
    "        WLmodel.medium = medium_carb\n",
    "        WLmodel.optimize()\n",
    "        print(f\" carb: {round(WLmodel.reactions.EX_co_e.flux,2)} CO + {round(WLmodel.reactions.EX_h2o_e.flux,2)} H2O + {round(WLmodel.reactions.EX_co2_e.flux,2)} CO2 + {round(WLmodel.slim_optimize(),2)} {formulas[x]} + {round(WLmodel.reactions.EX_h_e.flux,2)} H+ + {round(WLmodel.reactions.SK_atp_c.flux,2)} ATP\")\n",
    "        print(\"   ATP/Electron donor: \", round(-WLmodel.reactions.SK_atp_c.flux/WLmodel.reactions.EX_co_e.flux,2))\n",
    "        print(\"   Product/Electron donor: \", round(-WLmodel.slim_optimize()*Cmol[x]/WLmodel.reactions.EX_co_e.flux,2))\n",
    "\n",
    "    with WLmodel:\n",
    "        WLmodel.medium = medium_hom\n",
    "        WLmodel.optimize()\n",
    "        print(f\" hom: {round(WLmodel.reactions.EX_co2_e.flux,2)} CO2 + {round(WLmodel.reactions.EX_h2_e.flux,2)} H2 + {round(WLmodel.reactions.EX_h2o_e.flux,2)} H2O + {round(WLmodel.slim_optimize(),2)} {formulas[x]} + {round(WLmodel.reactions.EX_h_e.flux,2)} H+ + {round(WLmodel.reactions.SK_atp_c.flux,2)} ATP\")\n",
    "        print(\"   ATP/Electron donor: \", round(-WLmodel.reactions.SK_atp_c.flux/WLmodel.reactions.EX_h2_e.flux,2))\n",
    "        print(\"   Product/Electron donor: \", round(-WLmodel.slim_optimize()*Cmol[x]/WLmodel.reactions.EX_h2_e.flux,2), \"\\n\")"
   ]
  },
  {
   "cell_type": "markdown",
   "metadata": {},
   "source": [
    "## Closer look, change x within [0:5] to view different product"
   ]
  },
  {
   "cell_type": "code",
   "execution_count": 6,
   "metadata": {},
   "outputs": [
    {
     "data": {
      "application/vnd.jupyter.widget-view+json": {
       "model_id": "b8033b715ecb4013abb4f1578621a2df",
       "version_major": 2,
       "version_minor": 0
      },
      "text/plain": [
       "Builder(reaction_data={'EX_h2_e': -4.0, 'EX_h2o_e': 2.6666666666666665, 'EX_co2_e': -2.0, 'EX_co_e': 0.0, 'EX_…"
      ]
     },
     "metadata": {},
     "output_type": "display_data"
    }
   ],
   "source": [
    "x = 0\n",
    "\n",
    "WLmodel.objective = objectives[x]\n",
    "\n",
    "solution = WLmodel.optimize()\n",
    "\n",
    "Builder(model = WLmodel, map_json = join(data_dir,'Models/EscherMaps/WLPathway_Bifurcating.json'), reaction_data = solution.fluxes.to_dict())"
   ]
  }
 ],
 "metadata": {
  "kernelspec": {
   "display_name": "dFBACoCultivation",
   "language": "python",
   "name": "dfbacocultivation"
  },
  "language_info": {
   "codemirror_mode": {
    "name": "ipython",
    "version": 3
   },
   "file_extension": ".py",
   "mimetype": "text/x-python",
   "name": "python",
   "nbconvert_exporter": "python",
   "pygments_lexer": "ipython3",
   "version": "3.6.12"
  }
 },
 "nbformat": 4,
 "nbformat_minor": 4
}
