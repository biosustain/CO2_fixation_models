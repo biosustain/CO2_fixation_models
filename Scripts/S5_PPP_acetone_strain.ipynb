{
 "cells": [
  {
   "cell_type": "markdown",
   "metadata": {},
   "source": [
    "## Phenotypic Phase Plane\n",
    "\n",
    "Adapted from D. Bavnhøj\n",
    "\n",
    "This notebook contains a Phenotypic Phase Plane analysis of the <i>Geobacillus</i> Acetone-producing model.\n",
    "\n",
    "Phenotypic Phase Planes (PPP) are a modeling approach to model a production envelope, which visualizes the tradeoff between a product of interest and cellular growth."
   ]
  },
  {
   "cell_type": "code",
   "execution_count": 1,
   "metadata": {},
   "outputs": [],
   "source": [
    "from cobra.io import read_sbml_model\n",
    "from cameo import phenotypic_phase_plane\n",
    "import matplotlib.pyplot as plt\n",
    "from os.path import dirname, join, pardir\n",
    "import pandas as pd"
   ]
  },
  {
   "cell_type": "markdown",
   "metadata": {},
   "source": [
    "Reading the <i>Geobacillus</i> acetone model."
   ]
  },
  {
   "cell_type": "code",
   "execution_count": 2,
   "metadata": {},
   "outputs": [
    {
     "name": "stdout",
     "output_type": "stream",
     "text": [
      "Using license file /Users/phivri/gurobi.lic\n",
      "Academic license - for non-commercial use only - expires 2022-07-23\n"
     ]
    }
   ],
   "source": [
    "data_dir = \"/Users/phivri/Documents/GitHub/MoGeoModel\"\n",
    "model = read_sbml_model(join(data_dir,'Models/p-thermo_acetone_anaerobic.xml'))"
   ]
  },
  {
   "cell_type": "markdown",
   "metadata": {},
   "source": [
    "First, I will try with the initial conditions given in the model, but constrainting the oxygen exchange"
   ]
  },
  {
   "cell_type": "code",
   "execution_count": 3,
   "metadata": {},
   "outputs": [
    {
     "data": {
      "text/plain": [
       "{'EX_cl_e': 1000.0,\n",
       " 'EX_nh4_e': 1000.0,\n",
       " 'EX_fe2_e': 1000.0,\n",
       " 'EX_h2o_e': 1000.0,\n",
       " 'EX_o2_e': 1000.0,\n",
       " 'EX_co2_e': 1000.0,\n",
       " 'EX_h_e': 1000.0,\n",
       " 'EX_cobalt2_e': 1000.0,\n",
       " 'EX_ac_e': 10.0,\n",
       " 'EX_pi_e': 1000.0,\n",
       " 'EX_so4_e': 1000.0,\n",
       " 'EX_k_e': 1000.0,\n",
       " 'EX_mg2_e': 1000.0,\n",
       " 'EX_ca2_e': 1000.0,\n",
       " 'EX_btn_e': 1.0,\n",
       " 'EX_thmpp_e': 1.0,\n",
       " 'EX_sprm_e': 1.0,\n",
       " 'EX_spmd_e': 1.0,\n",
       " 'EX_adocbl_e': 1.0,\n",
       " 'EX_10fthf_e': 1.0,\n",
       " 'EX_fe3_e': 1.0,\n",
       " 'EX_pheme_e': 1.0}"
      ]
     },
     "execution_count": 3,
     "metadata": {},
     "output_type": "execute_result"
    }
   ],
   "source": [
    "medium = model.medium\n",
    "medium[\"EX_o2_e\"] = 1000.0\n",
    "medium[\"EX_ac_e\"] = 10.0\n",
    "medium[\"EX_sucr_e\"] = 0.0\n",
    "medium[\"EX_glc__D_e\"] = 0.0\n",
    "model.medium = medium\n",
    "\n",
    "model.medium"
   ]
  },
  {
   "cell_type": "code",
   "execution_count": 4,
   "metadata": {},
   "outputs": [
    {
     "data": {
      "text/html": [
       "<h3>Objective</h3><p>1.0 biomass = 0.131913073053153</p><h4>Uptake</h4><table border=\"1\" class=\"dataframe\">\n",
       "  <thead>\n",
       "    <tr style=\"text-align: right;\">\n",
       "      <th>Metabolite</th>\n",
       "      <th>Reaction</th>\n",
       "      <th>Flux</th>\n",
       "      <th>C-Number</th>\n",
       "      <th>C-Flux</th>\n",
       "    </tr>\n",
       "  </thead>\n",
       "  <tbody>\n",
       "    <tr>\n",
       "      <td>10fthf_e</td>\n",
       "      <td>EX_10fthf_e</td>\n",
       "      <td>4.711E-05</td>\n",
       "      <td>20</td>\n",
       "      <td>0.00%</td>\n",
       "    </tr>\n",
       "    <tr>\n",
       "      <td>ac_e</td>\n",
       "      <td>EX_ac_e</td>\n",
       "      <td>10</td>\n",
       "      <td>2</td>\n",
       "      <td>99.95%</td>\n",
       "    </tr>\n",
       "    <tr>\n",
       "      <td>adocbl_e</td>\n",
       "      <td>EX_adocbl_e</td>\n",
       "      <td>2.626E-05</td>\n",
       "      <td>72</td>\n",
       "      <td>0.01%</td>\n",
       "    </tr>\n",
       "    <tr>\n",
       "      <td>btn_e</td>\n",
       "      <td>EX_btn_e</td>\n",
       "      <td>2.356E-07</td>\n",
       "      <td>10</td>\n",
       "      <td>0.00%</td>\n",
       "    </tr>\n",
       "    <tr>\n",
       "      <td>ca2_e</td>\n",
       "      <td>EX_ca2_e</td>\n",
       "      <td>0.000371</td>\n",
       "      <td>0</td>\n",
       "      <td>0.00%</td>\n",
       "    </tr>\n",
       "    <tr>\n",
       "      <td>fe2_e</td>\n",
       "      <td>EX_fe2_e</td>\n",
       "      <td>2.626E-05</td>\n",
       "      <td>0</td>\n",
       "      <td>0.00%</td>\n",
       "    </tr>\n",
       "    <tr>\n",
       "      <td>fe3_e</td>\n",
       "      <td>EX_fe3_e</td>\n",
       "      <td>0.004005</td>\n",
       "      <td>0</td>\n",
       "      <td>0.00%</td>\n",
       "    </tr>\n",
       "    <tr>\n",
       "      <td>h_e</td>\n",
       "      <td>EX_h_e</td>\n",
       "      <td>9.046</td>\n",
       "      <td>0</td>\n",
       "      <td>0.00%</td>\n",
       "    </tr>\n",
       "    <tr>\n",
       "      <td>k_e</td>\n",
       "      <td>EX_k_e</td>\n",
       "      <td>0.08341</td>\n",
       "      <td>0</td>\n",
       "      <td>0.00%</td>\n",
       "    </tr>\n",
       "    <tr>\n",
       "      <td>mg2_e</td>\n",
       "      <td>EX_mg2_e</td>\n",
       "      <td>0.01154</td>\n",
       "      <td>0</td>\n",
       "      <td>0.00%</td>\n",
       "    </tr>\n",
       "    <tr>\n",
       "      <td>nh4_e</td>\n",
       "      <td>EX_nh4_e</td>\n",
       "      <td>1.136</td>\n",
       "      <td>0</td>\n",
       "      <td>0.00%</td>\n",
       "    </tr>\n",
       "    <tr>\n",
       "      <td>o2_e</td>\n",
       "      <td>EX_o2_e</td>\n",
       "      <td>15.04</td>\n",
       "      <td>0</td>\n",
       "      <td>0.00%</td>\n",
       "    </tr>\n",
       "    <tr>\n",
       "      <td>pheme_e</td>\n",
       "      <td>EX_pheme_e</td>\n",
       "      <td>5.253E-05</td>\n",
       "      <td>34</td>\n",
       "      <td>0.01%</td>\n",
       "    </tr>\n",
       "    <tr>\n",
       "      <td>pi_e</td>\n",
       "      <td>EX_pi_e</td>\n",
       "      <td>0.102</td>\n",
       "      <td>0</td>\n",
       "      <td>0.00%</td>\n",
       "    </tr>\n",
       "    <tr>\n",
       "      <td>so4_e</td>\n",
       "      <td>EX_so4_e</td>\n",
       "      <td>0.0253</td>\n",
       "      <td>0</td>\n",
       "      <td>0.00%</td>\n",
       "    </tr>\n",
       "    <tr>\n",
       "      <td>spmd_e</td>\n",
       "      <td>EX_spmd_e</td>\n",
       "      <td>0.0001413</td>\n",
       "      <td>7</td>\n",
       "      <td>0.00%</td>\n",
       "    </tr>\n",
       "    <tr>\n",
       "      <td>sprm_e</td>\n",
       "      <td>EX_sprm_e</td>\n",
       "      <td>0.0003298</td>\n",
       "      <td>10</td>\n",
       "      <td>0.02%</td>\n",
       "    </tr>\n",
       "    <tr>\n",
       "      <td>thmpp_e</td>\n",
       "      <td>EX_thmpp_e</td>\n",
       "      <td>2.626E-05</td>\n",
       "      <td>12</td>\n",
       "      <td>0.00%</td>\n",
       "    </tr>\n",
       "  </tbody>\n",
       "</table><h4>Secretion</h4><table border=\"1\" class=\"dataframe\">\n",
       "  <thead>\n",
       "    <tr style=\"text-align: right;\">\n",
       "      <th>Metabolite</th>\n",
       "      <th>Reaction</th>\n",
       "      <th>Flux</th>\n",
       "      <th>C-Number</th>\n",
       "      <th>C-Flux</th>\n",
       "    </tr>\n",
       "  </thead>\n",
       "  <tbody>\n",
       "    <tr>\n",
       "      <td>Biomass_e</td>\n",
       "      <td>EX_Biomass_e</td>\n",
       "      <td>-0.1319</td>\n",
       "      <td>10</td>\n",
       "      <td>7.96%</td>\n",
       "    </tr>\n",
       "    <tr>\n",
       "      <td>co2_e</td>\n",
       "      <td>EX_co2_e</td>\n",
       "      <td>-15.26</td>\n",
       "      <td>1</td>\n",
       "      <td>92.04%</td>\n",
       "    </tr>\n",
       "    <tr>\n",
       "      <td>h2o_e</td>\n",
       "      <td>EX_h2o_e</td>\n",
       "      <td>-17.43</td>\n",
       "      <td>0</td>\n",
       "      <td>0.00%</td>\n",
       "    </tr>\n",
       "  </tbody>\n",
       "</table>"
      ],
      "text/plain": [
       "<cobra.summary.model_summary.ModelSummary at 0x7f969fe24b38>"
      ]
     },
     "execution_count": 4,
     "metadata": {},
     "output_type": "execute_result"
    }
   ],
   "source": [
    "model.summary()"
   ]
  },
  {
   "cell_type": "code",
   "execution_count": 5,
   "metadata": {},
   "outputs": [],
   "source": [
    "result = phenotypic_phase_plane(model,\n",
    "                                variables=[model.reactions.biomass],\n",
    "                                objective=model.reactions.EX_act_e)"
   ]
  },
  {
   "cell_type": "code",
   "execution_count": 6,
   "metadata": {
    "scrolled": false
   },
   "outputs": [
    {
     "data": {
      "text/plain": [
       "[<matplotlib.lines.Line2D at 0x7f96a0111390>]"
      ]
     },
     "execution_count": 6,
     "metadata": {},
     "output_type": "execute_result"
    },
    {
     "data": {
      "image/png": "[encoded data removed]",
      "text/plain": [
       "<Figure size 432x288 with 1 Axes>"
      ]
     },
     "metadata": {
      "needs_background": "light"
     },
     "output_type": "display_data"
    }
   ],
   "source": [
    "result = result.data_frame\n",
    "growth_glu = result[\"biomass\"]\n",
    "product_glu = result[\"objective_upper_bound\"]\n",
    "\n",
    "plt.title(\"Phenotypic phase plane: Acetate\", size = 14)\n",
    "plt.xlabel(\"Growth  [$h^{-1}$]\")\n",
    "plt.ylabel(\"Acetone flux [$mmol*gDW^{-1}*h^{-1}$]\")\n",
    "plt.plot(growth_glu, product_glu)"
   ]
  },
  {
   "cell_type": "code",
   "execution_count": 8,
   "metadata": {},
   "outputs": [
    {
     "data": {
      "text/plain": [
       "(0     0.000000\n",
       " 1     0.006943\n",
       " 2     0.013886\n",
       " 3     0.020828\n",
       " 4     0.027771\n",
       " 5     0.034714\n",
       " 6     0.041657\n",
       " 7     0.048600\n",
       " 8     0.055542\n",
       " 9     0.062485\n",
       " 10    0.069428\n",
       " 11    0.076371\n",
       " 12    0.083314\n",
       " 13    0.090256\n",
       " 14    0.097199\n",
       " 15    0.104142\n",
       " 16    0.111085\n",
       " 17    0.118027\n",
       " 18    0.124970\n",
       " 19    0.131913\n",
       " Name: biomass, dtype: float64,\n",
       " 0     3.961854\n",
       " 1     3.753335\n",
       " 2     3.544816\n",
       " 3     3.336298\n",
       " 4     3.127779\n",
       " 5     2.919261\n",
       " 6     2.710742\n",
       " 7     2.502223\n",
       " 8     2.293705\n",
       " 9     2.085186\n",
       " 10    1.876668\n",
       " 11    1.668149\n",
       " 12    1.459630\n",
       " 13    1.251112\n",
       " 14    1.042593\n",
       " 15    0.834074\n",
       " 16    0.625556\n",
       " 17    0.417037\n",
       " 18    0.208519\n",
       " 19    0.000000\n",
       " Name: objective_upper_bound, dtype: float64)"
      ]
     },
     "execution_count": 8,
     "metadata": {},
     "output_type": "execute_result"
    }
   ],
   "source": [
    "growth_glu,product_glu"
   ]
  },
  {
   "cell_type": "markdown",
   "metadata": {},
   "source": [
    "The plot above shows, cellular growth and the acetone flux. Decreasing celullar growth (towards 0 on the x axis) increases the flux of acetone."
   ]
  }
 ],
 "metadata": {
  "kernelspec": {
   "display_name": "dFBACoCultivation",
   "language": "python",
   "name": "dfbacocultivation"
  },
  "language_info": {
   "codemirror_mode": {
    "name": "ipython",
    "version": 3
   },
   "file_extension": ".py",
   "mimetype": "text/x-python",
   "name": "python",
   "nbconvert_exporter": "python",
   "pygments_lexer": "ipython3",
   "version": "3.6.12"
  }
 },
 "nbformat": 4,
 "nbformat_minor": 5
}
