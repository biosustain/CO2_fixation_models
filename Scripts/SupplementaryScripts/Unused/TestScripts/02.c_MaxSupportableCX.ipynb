{
 "cells": [
  {
   "cell_type": "code",
   "execution_count": 1,
   "metadata": {},
   "outputs": [],
   "source": [
    "import numpy as np\n",
    "import pandas as pd\n",
    "import matplotlib.pyplot as plt\n",
    "import math"
   ]
  },
  {
   "cell_type": "code",
   "execution_count": 27,
   "metadata": {},
   "outputs": [],
   "source": [
    "# Define temperature range\n",
    "T0 = 273.15\n",
    "dt = 80\n",
    "\n",
    "T = np.arange(T0, T0+dt+1, 1)\n",
    "R = 8.314 # [m^3*Pa/K/mol]\n",
    "\n",
    "# Define temperature conversion functions\n",
    "def Kelvin_Celsius(t):\n",
    "    \"\"\"\n",
    "    This function converts Temperature values from Kelvin to degrees Celsius\n",
    "    \"\"\"\n",
    "    return t-273.15\n",
    "\n",
    "def Celsius_Kelvin(t):\n",
    "    \"\"\"\n",
    "    This function converts Temperature values from degrees Celsius to Kelvin\n",
    "    \"\"\"\n",
    "    return t+273.15\n",
    "\n",
    "# Load Henry's Law Constants:\n",
    "DR = pd.read_csv(\"../Data/HenrysLawData.csv\", index_col = \"Compound\")[\"DR\"]\n",
    "HR = pd.read_csv(\"../Data/HenrysLawData.csv\", index_col = \"Compound\")[\"HR\"]\n",
    "kh = pd.read_csv(\"../Data/HenrysLawData.csv\", index_col = \"Compound\")[\"k\"]\n",
    "theta = 1.022 # temperature correction factor"
   ]
  },
  {
   "cell_type": "code",
   "execution_count": 4,
   "metadata": {},
   "outputs": [
    {
     "data": {
      "text/plain": [
       "(20.0, 3.0, 28.274333882308138, 565.4866776461628)"
      ]
     },
     "execution_count": 4,
     "metadata": {},
     "output_type": "execute_result"
    }
   ],
   "source": [
    "h_r = 30 # height of the reactor [m]\n",
    "ar = 5 # aspect ratio: height to diameter\n",
    "\n",
    "r = h_r/(ar * 2)\n",
    "h = 2/3 * h_r # initial height of broth  assuming it is 2/3 filled [m]\n",
    "A = math.pi * r**2 #reactor cross-sectional area [m^2]\n",
    "V_L = A * h #reactor volume [m^3]\n",
    "\n",
    "p_t = 101325 # pressure at the top of the reactor [Pa]\n",
    "p_b = p_t + h * 1000 * 9.81 # pressure at the bottom of the reactor [Pa]\n",
    "p_m = (p_b-p_t)/math.log(p_b/p_t) # logarithmic mean pressure [Pa]\n",
    "\n",
    "h,r,A,V_L"
   ]
  },
  {
   "cell_type": "code",
   "execution_count": 5,
   "metadata": {},
   "outputs": [],
   "source": [
    "#v_gas = np.arange(0, 0.5, 0.001)\n",
    "\n",
    "# Kla Temperature correction:\n",
    "def KLa(C,T,v_gas):\n",
    "    return 0.32 * (DR[C]/DR[\"O2\"])**0.5 * v_gas**0.7 * theta**(T-293.15)# * 3600 #[1/s]\n",
    "\n",
    "# Saturation concentration\n",
    "def Csat(C, T, y):\n",
    "    return HR[C] * math.e**(kh[C]*(1/T-1/298.15)) * 10**(-5) * p_m * y\n",
    "\n",
    "# Combine as transfer rate:\n",
    "def RT(C,T,v_gas,c,y):\n",
    "    return KLa(C,T,v_gas) * (Csat(C,T, y) - c)"
   ]
  },
  {
   "cell_type": "markdown",
   "metadata": {},
   "source": [
    "# Maximum supportable cell concentration\n",
    "\n",
    "assuming a hydrogen limitation, what is the maximum possible cell consentration in the reactor, as determined by the transfer rate.\n",
    "\n",
    "Using the disolved hydrogen mass balance:\n",
    "\n",
    "<div style=\"text-align: center\">  $ \\displaystyle \\frac{dc_{H_2}}{dt} = q_{H_2} * c_X + R_{H_2} $</div>\n",
    "    \n",
    "<p>Including Pirt kinetics, specific consumption and production rate and the mass transfer rate </p>\n",
    "<br>\n",
    "<div style=\"text-align: center\">  $ q_i = \\displaystyle \\frac{µ}{Y_{Xi}} + m_{NGAM,i} $ [$h^{-1}$]</div>\n",
    "<br>\n",
    "<div style=\"text-align: center\">  $ m_{NGAM,i} = \\displaystyle \\frac{m_{NGAM}}{-\\Delta _r G^T * Y_{PS,cata}}$ [$h^{-1}$]</div>\n",
    "<p> Transfer rate for compound i: </p>\n",
    "<div style=\"text-align: center\">  $ R_{T,i} = k_La_{T,i}*(c^*_{T,i} - c_{l,i}) $ [$mol/m^3/s$]</div>\n",
    "<br>\n",
    "    \n",
    "<div style=\"text-align: center\"> $ \\displaystyle \\frac{dc_{H_2}}{dt} = (\\frac{\\mu}{Y_{X,H_2}} + \\frac{m_{NGAM}}{-\\Delta _r G^T * Y_{PS,cata}}) * c_x +  k_La_{T,H_2}*(c^*_{T,H_2} - c_{l,H_2})$ <div>\n",
    "\n",
    "We are interested in finding c_x at the steady state condition where, with a maximum transfer rate, all substrate is used for maintenance, leaving nothing for additional growth. Thus $ \\frac{dc_{H_2}}{dt} = 0 $,  µ = 0, $c_{l,H_2} = 0$\n",
    "\n",
    "<div style=\"text-align: center\"> $ \\displaystyle 0 = \\frac{m_{NGAM}}{-\\Delta _r G^T * Y_{PS,cata}} * c_x +  k_La_{T,H_2} * c^*_{T,H_2}$ <div><br>\n",
    "\n",
    "\n",
    "<div style=\"text-align: center\"> $ \\displaystyle c_x  = \\frac {k_La_{T,H_2}*c^*_{T,H_2}*\\Delta _r G^T * Y_{PS,cata}}{m_{NGAM}}$ <div>\n"
   ]
  },
  {
   "cell_type": "code",
   "execution_count": 72,
   "metadata": {},
   "outputs": [
    {
     "name": "stdout",
     "output_type": "stream",
     "text": [
      "m_NGAM(300) = 1.25 [kJ/h/CmolX]\n"
     ]
    }
   ],
   "source": [
    "# Load the thermodynamic data of the compounds\n",
    "dfGR = pd.read_csv(\"../Data/EnthalpyGibbs.csv\", index_col=\"Compound\")[\"dfGR\"]\n",
    "dfHR = pd.read_csv(\"../Data/EnthalpyGibbs.csv\", index_col=\"Compound\")[\"dfHR\"]\n",
    "\n",
    "# Calculate the Gibbs free energy of reaction from the reaction stoichiometry and Gibbs free energy of formation (eq.24), here as vector multiplication.\n",
    "DrGR = np.nansum(S.Cata * dfGR)\n",
    "\n",
    "# Calculate the Enthalpy of reaction from the reaction stoichiometry and Enthalpy of the compounds (eq.25)\n",
    "DrHR = np.nansum(S.Cata * dfHR)\n",
    "\n",
    "#Gibbs–Helmholtz equation for temperature correction (eq.26)\n",
    "def DrGT(T):\n",
    "    return DrGR * (T/298.15) + DrHR * (1-T/298.15)\n",
    "\n",
    "def m_NGAM(T):\n",
    "    \"\"\"\n",
    "    This function is the Arrhenius equation, as fit by Tijsen et al.\n",
    "    \"\"\"\n",
    "    return 3.3**(69000/R*(1/298-1/T)) #[kJ/h/CmolX]\n",
    "\n",
    "print(\"m_NGAM(300) =\", round(m_NGAM(300),2), \"[kJ/h/CmolX]\")"
   ]
  },
  {
   "cell_type": "code",
   "execution_count": 40,
   "metadata": {},
   "outputs": [
    {
     "data": {
      "text/plain": [
       "0.7251369114731472"
      ]
     },
     "execution_count": 40,
     "metadata": {},
     "output_type": "execute_result"
    }
   ],
   "source": [
    "KLa(\"H2\",Celsius_Kelvin(60),0.5)/(m_NGAM(Celsius_Kelvin(60))/(DrGT(Celsius_Kelvin(60))*(-1/4)))"
   ]
  },
  {
   "cell_type": "code",
   "execution_count": 55,
   "metadata": {},
   "outputs": [
    {
     "name": "stdout",
     "output_type": "stream",
     "text": [
      "7.007129580386928\n"
     ]
    },
    {
     "data": {
      "text/plain": [
       "[<matplotlib.lines.Line2D at 0x7febb1801f28>]"
      ]
     },
     "execution_count": 55,
     "metadata": {},
     "output_type": "execute_result"
    },
    {
     "data": {
      "image/png": "[encoded data removed]",
      "text/plain": [
       "<Figure size 360x360 with 1 Axes>"
      ]
     },
     "metadata": {
      "needs_background": "light"
     },
     "output_type": "display_data"
    }
   ],
   "source": [
    "def c_xmax(T,c_Gas,v_gas):\n",
    "    return KLa(\"H2\",T,v_gas) * HR[\"H2\"] * math.e**(kh[\"H2\"]*(1/T-1/298.15)) * 10**(-5) * p_m * y * DrGT(T)*(-1/4)/m_NGAM(T)\n",
    "\n",
    "print(c_xmax(Celsius_Kelvin(30),0.66,0.5))\n",
    "\n",
    "y = np.arange(0,1,0.001)\n",
    "\n",
    "fig = plt.figure(figsize=(5,5))\n",
    "plt.title(f\"test\")\n",
    "plt.plot(y,c_xmax(Celsius_Kelvin(30),y,0.5))"
   ]
  },
  {
   "cell_type": "code",
   "execution_count": null,
   "metadata": {},
   "outputs": [],
   "source": [
    "import matplotlib.pyplot as plt\n",
    "from mpl_toolkits.mplot3d import Axes3D\n",
    "\n",
    "b = np.arange(0, 0.5, 0.001)\n",
    "d = np.arange(0, 100, 0.1)\n",
    "\n",
    "B, D = np.meshgrid(T, d)\n",
    "KLa_mesh = (DR[\"H2\"]/DR[\"O2\"])**0.5 *0.042 * B**0.82*(5.38*10**(-5)*D+0.00062)**(-0.39)*theta**(T-293.15)\n",
    "#v_gas_mesh = b**2.564*(5.38*10**(-5)*b+0.00062) * m_NGAM(T)/(math.sqrt(DR.H2/DR.O2)*0.042*theta**(T-293.15)*DrGT(T)*(-1/4))\n",
    "\n",
    "fig = plt.figure()\n",
    "ax = Axes3D(fig)\n",
    "ax.plot_surface(B, D, KLa_mesh)\n",
    "plt.xlabel('b')\n",
    "plt.ylabel('d')\n",
    "plt.show()\n",
    "\n",
    "plt.contourf(B, D, KLa_mesh)\n",
    "plt.colorbar()\n",
    "plt.xlabel('v_gas [m/s]')\n",
    "plt.ylabel('c_x [gDW/l]')\n",
    "plt.show()"
   ]
  },
  {
   "cell_type": "code",
   "execution_count": 39,
   "metadata": {},
   "outputs": [
    {
     "data": {
      "image/png": "[encoded data removed]",
      "text/plain": [
       "<Figure size 360x360 with 2 Axes>"
      ]
     },
     "metadata": {
      "needs_background": "light"
     },
     "output_type": "display_data"
    }
   ],
   "source": [
    "fig = plt.figure(figsize=(5,5))\n",
    "plt.title(f\"Volumetric mass transfer coefficient $K_La$ as a function of gas velocity \\n\")\n",
    "plt.plot(Kelvin_Celsius(T), KLa(\"H2\",T,0.5)/(m_NGAM(T)/(DrGT(T)*(-1/4))))\n",
    "plt.axis([Kelvin_Celsius(T0), Kelvin_Celsius(T0)+dt, 0, 15])\n",
    "plt.axvline(x = 25, color = 'black', linestyle = '--', linewidth = 1)\n",
    "plt.axvline(x = 70, color = 'black', linestyle = '--', linewidth = 1)\n",
    "plt.xlabel('Temperature [°C]')\n",
    "plt.ylabel('Maximum cell concentration [mM]')\n",
    "\n",
    "ax2 = plt.twinx()\n",
    "ax2.set_ylabel(r'Maximum cell concentration [$gDW/l$]')\n",
    "ax2.axis([Kelvin_Celsius(T0), Kelvin_Celsius(T0)+dt, 0, 15*24.6/1000])\n",
    "plt.show()\n",
    "\n",
    "plt.show()"
   ]
  },
  {
   "cell_type": "code",
   "execution_count": 42,
   "metadata": {},
   "outputs": [
    {
     "data": {
      "text/plain": [
       "7.68240739359845"
      ]
     },
     "execution_count": 42,
     "metadata": {},
     "output_type": "execute_result"
    }
   ],
   "source": [
    "KLa(\"H2\",Celsius_Kelvin(30),0.5)/(m_NGAM(Celsius_Kelvin(30))/(DrGT(Celsius_Kelvin(30))*(-1/4)))"
   ]
  },
  {
   "cell_type": "markdown",
   "metadata": {},
   "source": []
  },
  {
   "cell_type": "code",
   "execution_count": 58,
   "metadata": {},
   "outputs": [
    {
     "data": {
      "text/plain": [
       "Compound\n",
       "CO      0.99\n",
       "CO2    35.00\n",
       "H2      0.78\n",
       "O2      1.30\n",
       "N2      0.60\n",
       "Name: HR, dtype: float64"
      ]
     },
     "execution_count": 58,
     "metadata": {},
     "output_type": "execute_result"
    }
   ],
   "source": [
    "HR"
   ]
  },
  {
   "cell_type": "code",
   "execution_count": 70,
   "metadata": {},
   "outputs": [
    {
     "data": {
      "text/plain": [
       "44.54005469286444"
      ]
     },
     "execution_count": 70,
     "metadata": {},
     "output_type": "execute_result"
    }
   ],
   "source": [
    "T = Celsius_Kelvin(60)\n",
    "\n",
    "math.sqrt(DR.H2/DR.O2)*0.32*0.5**0.7*theta**(T-293.15)*HR.H2*math.e**(1/T-1/296.15)*R*T/m_NGAM(T)"
   ]
  },
  {
   "cell_type": "code",
   "execution_count": 71,
   "metadata": {},
   "outputs": [
    {
     "data": {
      "text/plain": [
       "33.388141837745856"
      ]
     },
     "execution_count": 71,
     "metadata": {},
     "output_type": "execute_result"
    }
   ],
   "source": [
    "m_NGAM(T)"
   ]
  },
  {
   "cell_type": "code",
   "execution_count": 61,
   "metadata": {},
   "outputs": [
    {
     "name": "stdout",
     "output_type": "stream",
     "text": [
      "44613.28990638946\n"
     ]
    },
    {
     "data": {
      "text/plain": [
       "[<matplotlib.lines.Line2D at 0x7febb2187f60>]"
      ]
     },
     "execution_count": 61,
     "metadata": {},
     "output_type": "execute_result"
    },
    {
     "data": {
      "image/png": "[encoded data removed]",
      "text/plain": [
       "<Figure size 360x360 with 1 Axes>"
      ]
     },
     "metadata": {
      "needs_background": "light"
     },
     "output_type": "display_data"
    }
   ],
   "source": [
    "def c_xmax(T,c_Gas,v_gas):\n",
    "    return math.sqrt(DR.H2/DR.O2)*0.32*v_gas**0.7*theta**(T-293.15)*HR.H2*math.e**(1/T-1/296.15)*c_Gas*R*T\n",
    "\n",
    "print(c_xmax(Celsius_Kelvin(60),30,0.5))\n",
    "\n",
    "y = np.arange(0,30,0.01)\n",
    "\n",
    "fig = plt.figure(figsize=(5,5))\n",
    "#plt.title(f\"test\")\n",
    "plt.plot(y,c_xmax(Celsius_Kelvin(30),y,0.5))"
   ]
  },
  {
   "cell_type": "code",
   "execution_count": null,
   "metadata": {},
   "outputs": [],
   "source": []
  }
 ],
 "metadata": {
  "kernelspec": {
   "display_name": "dFBACoCultivation",
   "language": "python",
   "name": "dfbacocultivation"
  },
  "language_info": {
   "codemirror_mode": {
    "name": "ipython",
    "version": 3
   },
   "file_extension": ".py",
   "mimetype": "text/x-python",
   "name": "python",
   "nbconvert_exporter": "python",
   "pygments_lexer": "ipython3",
   "version": "3.6.13"
  }
 },
 "nbformat": 4,
 "nbformat_minor": 4
}
