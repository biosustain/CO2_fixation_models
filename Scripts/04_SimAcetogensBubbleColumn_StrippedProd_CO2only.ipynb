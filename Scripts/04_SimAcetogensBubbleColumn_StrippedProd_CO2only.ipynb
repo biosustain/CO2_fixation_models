{
 "cells": [
  {
   "cell_type": "markdown",
   "metadata": {},
   "source": [
    "# Notebook 03: Simulation of Acetogenic Fermentation in Bubble Column at 30 and 60°C\n",
    "\n",
    "This notebook is part of the research paper titled:\n",
    "\n",
    "Optimizing acetogenic CO(2) utilization through metabolic and process engineering highlights the potential of thermophilic bioproduction\n",
    "\n",
    "This notebook simulates the fermentation of acetogenic growth in a large scale bubble column reactor at two given temperatures, using mass balances as defined in notebook 01, and a thermodynaminc-based black box model of acetogenic growth, building on notebook 02.\n",
    "\n",
    "Notebook author: Philip J. Gorter de Vries"
   ]
  },
  {
   "cell_type": "code",
   "execution_count": 1,
   "metadata": {},
   "outputs": [],
   "source": [
    "import numpy as np\n",
    "import pandas as pd\n",
    "import matplotlib.pyplot as plt\n",
    "import math\n",
    "from scipy.integrate import odeint"
   ]
  },
  {
   "cell_type": "markdown",
   "metadata": {},
   "source": [
    "# Define parameters"
   ]
  },
  {
   "cell_type": "code",
   "execution_count": 2,
   "metadata": {},
   "outputs": [],
   "source": [
    "Tc1 = 30 #Temperature in Celsius\n",
    "Tc2 = 60 #Temperature in Celsius\n",
    "\n",
    "SameGrowthRates = False #For the sake of comparisson, the maximum growth rates can be forced to be equal. Otherwise, they are temperature dependant \n",
    "\n",
    "#Reaction time\n",
    "t_rt = 100 # [h]\n",
    "t_rt = t_rt*3600 # [s]\n",
    "inoc = 1\n",
    "\n",
    "#Universal constants:\n",
    "R = 8.314 # [m^3*Pa/K/mol]\n",
    "\n",
    "def Kelvin_Celsius(t):\n",
    "    \"\"\"\n",
    "    This function converts Temperature values from Kelvin to degrees Celsius\n",
    "    \"\"\"\n",
    "    return t-273.15\n",
    "\n",
    "def Celsius_Kelvin(t):\n",
    "    \"\"\"\n",
    "    This function converts Temperature values from degrees Celsius to Kelvin\n",
    "    \"\"\"\n",
    "    return t+273.15\n",
    "\n",
    "T1 = Celsius_Kelvin(Tc1)\n",
    "T2 = Celsius_Kelvin(Tc2)\n",
    "t = np.linspace(0,t_rt,1000)"
   ]
  },
  {
   "cell_type": "markdown",
   "metadata": {},
   "source": [
    "## Bubble column setup parameters:"
   ]
  },
  {
   "cell_type": "code",
   "execution_count": 3,
   "metadata": {},
   "outputs": [],
   "source": [
    "v_gas = 0.3 # average gas velocity [m/s]\n",
    "h_r = 30 # height of the reactor [m]\n",
    "ar = 5 # aspect ratio: height to diameter"
   ]
  },
  {
   "cell_type": "code",
   "execution_count": 4,
   "metadata": {},
   "outputs": [
    {
     "data": {
      "text/plain": [
       "(20.0,\n",
       " 3.0,\n",
       " 28.274333882308138,\n",
       " 565.4866776461628,\n",
       " 146.06915149392105,\n",
       " 8.482300164692441)"
      ]
     },
     "execution_count": 4,
     "metadata": {},
     "output_type": "execute_result"
    }
   ],
   "source": [
    "r = h_r/(ar * 2)\n",
    "h = 2/3 * h_r # initial height of broth  assuming it is 2/3 filled [m]\n",
    "A = math.pi * r**2 #reactor cross-sectional area [m^2]\n",
    "V_L = A * h #reactor volume [m^3]\n",
    "F_G = v_gas * A\n",
    "Gas_holdup = 0.6*(v_gas)**0.7 #from Stephanie's paper\n",
    "V_G = V_L*Gas_holdup\n",
    "\n",
    "p_t = 101325 # pressure at the top of the reactor [Pa]\n",
    "p_b = p_t + h * 1000 * 9.81 # pressure at the bottom of the reactor [Pa]\n",
    "p_m = (p_b-p_t)/math.log(p_b/p_t) # logarithmic mean pressure [Pa]\n",
    "\n",
    "h,r,A,V_L,V_G,F_G"
   ]
  },
  {
   "cell_type": "code",
   "execution_count": 5,
   "metadata": {},
   "outputs": [],
   "source": [
    "# Gas feed composition, CO2/H2 ratio, from notebook 2.5, adding 0.5 mol/mol N2 as a driver gas\n",
    "\n",
    "r_co2h2_T1 = (1-0.89)/0.89\n",
    "r_co2h2_T2 = (1-0.84)/0.84"
   ]
  },
  {
   "cell_type": "code",
   "execution_count": 6,
   "metadata": {},
   "outputs": [],
   "source": [
    "#Gas feed composition at T1\n",
    "y_co2_T1 = r_co2h2_T1/(1 + r_co2h2_T1)\n",
    "y_h2_T1 = (1 - r_co2h2_T1/(1 + r_co2h2_T1))\n",
    "y_n2_T1 = 0.01\n",
    "\n",
    "cG_co2_in_T1 = y_co2_T1 * p_m/(R*T1)\n",
    "cG_h2_in_T1 = y_h2_T1 * p_m/(R*T1)\n",
    "cG_n2_in_T1 = y_n2_T1 * p_m/(R*T1)\n",
    "\n",
    "#Gas feed composition at T2\n",
    "y_co2_T2 = r_co2h2_T2/(1 + r_co2h2_T2)\n",
    "y_h2_T2 = (1 - r_co2h2_T2/(1 + r_co2h2_T2))\n",
    "y_n2_T2 = 0.01\n",
    "\n",
    "cG_co2_in_T2 = y_co2_T2 * p_m/(R*T1)\n",
    "cG_h2_in_T2 = y_h2_T2 * p_m/(R*T1)\n",
    "cG_n2_in_T2 = y_n2_T2 * p_m/(R*T1)"
   ]
  },
  {
   "cell_type": "markdown",
   "metadata": {},
   "source": [
    "# Biological Parameters"
   ]
  },
  {
   "cell_type": "code",
   "execution_count": 7,
   "metadata": {},
   "outputs": [
    {
     "name": "stdout",
     "output_type": "stream",
     "text": [
      "at Temperature = 30°C\n",
      "m_NGAM = 0.00049 [kJ/s/CmolX]\n",
      "µ_max = 6e-05 [/s]\n",
      "m_GAM = 1000 [kJ/CmolX] \n",
      "\n",
      "at Temperature = 60°C\n",
      "m_NGAM = 0.00927 [kJ/s/CmolX]\n",
      "µ_max = 0.00017 [/s]\n",
      "m_GAM = 1000 [kJ/CmolX]\n"
     ]
    }
   ],
   "source": [
    "# for details, view 02_AcetogenYieldTempDependency.ipynb\n",
    "\n",
    "def µ_max(T):\n",
    "    if SameGrowthRates == True:\n",
    "        return 0.4/3600 #[/s]\n",
    "    else:\n",
    "        return 46.35 * T * np.exp(-28127.1/(R*T))/3600 #[/s]\n",
    "\n",
    "def m_NGAM(T):\n",
    "    return 3.3**(69000/R*(1/298-1/T))/3600 #[kJ/s/CmolX]\n",
    "\n",
    "m_GAM = 1000 #kJ/CmolX\n",
    "\n",
    "# Monod substrate saturation constants and inhibtion parameters:\n",
    "Ks_h2 =  0.0002950 # [mM] https://doi.org/10.1016/j.jece.2022.107281\n",
    "Ks_co2 =  0.0002950 # [mM] taken from H2\n",
    "Ki_actt = 800 #mM Inhibition constant for acetone\n",
    "\n",
    "print(f\"at Temperature = {Tc1}°C\")\n",
    "print(f\"m_NGAM = {round(m_NGAM(T1),5)} [kJ/s/CmolX]\")\n",
    "print(f\"µ_max = {round(µ_max(T1),5)} [/s]\")\n",
    "print(f\"m_GAM = {m_GAM} [kJ/CmolX] \\n\")\n",
    "\n",
    "print(f\"at Temperature = {Tc2}°C\")\n",
    "print(f\"m_NGAM = {round(m_NGAM(T2),5)} [kJ/s/CmolX]\")\n",
    "print(f\"µ_max = {round(µ_max(T2),5)} [/s]\")\n",
    "print(f\"m_GAM = {m_GAM} [kJ/CmolX]\")"
   ]
  },
  {
   "cell_type": "markdown",
   "metadata": {},
   "source": [
    "# Calculate Gibbs free energy and Enthalpy of Catabolic reaction"
   ]
  },
  {
   "cell_type": "markdown",
   "metadata": {},
   "source": [
    "<p>Given the reaction stoichiometries:</p>\n",
    "<p>$ -2 CO_2 - 4 H_2 + CH_3COOH + 2 H_2O $</p>"
   ]
  },
  {
   "cell_type": "code",
   "execution_count": 8,
   "metadata": {},
   "outputs": [
    {
     "data": {
      "text/html": [
       "<div>\n",
       "<style scoped>\n",
       "    .dataframe tbody tr th:only-of-type {\n",
       "        vertical-align: middle;\n",
       "    }\n",
       "\n",
       "    .dataframe tbody tr th {\n",
       "        vertical-align: top;\n",
       "    }\n",
       "\n",
       "    .dataframe thead th {\n",
       "        text-align: right;\n",
       "    }\n",
       "</style>\n",
       "<table border=\"1\" class=\"dataframe\">\n",
       "  <thead>\n",
       "    <tr style=\"text-align: right;\">\n",
       "      <th></th>\n",
       "      <th>Cata</th>\n",
       "      <th>Ana</th>\n",
       "    </tr>\n",
       "  </thead>\n",
       "  <tbody>\n",
       "    <tr>\n",
       "      <th>H2</th>\n",
       "      <td>-4</td>\n",
       "      <td>-2.1</td>\n",
       "    </tr>\n",
       "    <tr>\n",
       "      <th>NH3</th>\n",
       "      <td>0</td>\n",
       "      <td>-0.2</td>\n",
       "    </tr>\n",
       "    <tr>\n",
       "      <th>CO2</th>\n",
       "      <td>-2</td>\n",
       "      <td>-1.0</td>\n",
       "    </tr>\n",
       "    <tr>\n",
       "      <th>Water</th>\n",
       "      <td>2</td>\n",
       "      <td>1.5</td>\n",
       "    </tr>\n",
       "    <tr>\n",
       "      <th>X</th>\n",
       "      <td>0</td>\n",
       "      <td>1.0</td>\n",
       "    </tr>\n",
       "    <tr>\n",
       "      <th>Acetate</th>\n",
       "      <td>1</td>\n",
       "      <td>0.0</td>\n",
       "    </tr>\n",
       "  </tbody>\n",
       "</table>\n",
       "</div>"
      ],
      "text/plain": [
       "         Cata  Ana\n",
       "H2         -4 -2.1\n",
       "NH3         0 -0.2\n",
       "CO2        -2 -1.0\n",
       "Water       2  1.5\n",
       "X           0  1.0\n",
       "Acetate     1  0.0"
      ]
     },
     "execution_count": 8,
     "metadata": {},
     "output_type": "execute_result"
    }
   ],
   "source": [
    "S = pd.DataFrame({\n",
    "    'Cata':  [-4,  0,    -2,  2,    0,1],\n",
    "    'Ana':   [-2.1, -0.2, -1,  1.5,  1,0]},\n",
    "    index=pd.Index([\"H2\",\"NH3\",\"CO2\",\"Water\",\"X\",\"Acetate\"]))\n",
    "\n",
    "S"
   ]
  },
  {
   "cell_type": "code",
   "execution_count": 9,
   "metadata": {},
   "outputs": [
    {
     "name": "stdout",
     "output_type": "stream",
     "text": [
      "DrGT at 30°C:  -150.81437699144723\n",
      "DrGT at 60°C:  -140.6406389401308\n"
     ]
    }
   ],
   "source": [
    "dfGR = pd.read_csv(\"../Data/EnthalpyGibbs.csv\", index_col=\"Compound\")[\"dfGR\"]\n",
    "dfHR = pd.read_csv(\"../Data/EnthalpyGibbs.csv\", index_col=\"Compound\")[\"dfHR\"]\n",
    "\n",
    "#Hess's law, as vector multiplication:\n",
    "DrGR = np.nansum(S.Cata * dfGR)\n",
    "DrHR = np.nansum(S.Cata * dfHR)\n",
    "\n",
    "#Gibbs–Helmholtz equation for temperature correction\n",
    "def DrGT(T):\n",
    "    return DrGR * (T/298.15) + DrHR * (1-T/298.15)\n",
    "\n",
    "print(\"DrGT at 30°C: \",DrGT(T1))\n",
    "print(\"DrGT at 60°C: \",DrGT(T2))"
   ]
  },
  {
   "cell_type": "markdown",
   "metadata": {},
   "source": [
    "# Determine anabolic reaction and balance reactions including GAM\n",
    "\n",
    "<p>Catabolic reaction stoichiometries:</p>\n",
    "\n",
    "<p>$ 2 CO_2 + 4 H_2 <=> CH_3COOH + 2 H_2O $ \n",
    "    <span style=\"float:right;\">(eq. 19)</span> </p>\n",
    "\n",
    "<p>Anabolic reaction stoichiometries: With an apporximated biomass composition of $ CH_{1.8}O_{0.5}N_{0.2} $ and ammonia, $ NH_3 $ as carbon source, a prediction of the stoichiometry for the biomass formation reaction can be made by balancing out all elements in each of the reactions:</p>\n",
    "\n",
    "<p>$ -r_{CO2} CO_2 - r_{H} H_2 - r_{Am} NH_3 + CH_{1.8}O_{0.5}N_{0.2} + r_{W} H_2O = 0$ </p>\n",
    "\n",
    "Which results in:\n",
    "\n",
    "<p>$ CO_2 + 2.1 H_2 + 0.2 NH_3 <=> CH_{1.8}O_{0.5}N_{0.2} + 1.5 H_2O$\n",
    "    <span style=\"float:right;\">(eq. 21)</span>  </p>\n",
    "    \n",
    "With the corrected Gibbs energy of reaction and the the growth-associated maintenance requirement being determined, the next step is to express the overall reaction stoichiometry. This is done by balancing the catabolic and anabolic reactions, so that the Gibbs free energy of the anabolic reactions ($\\Delta _r G$) satifies the energy needs of the catabolic reaction ($m_{GAM}$). $\\Delta _r G$ is expressed per mol acetate produced, while $m_{GAM}$ is expressed per mol biomass produced. Therefore both terms are multiplied by the corresponding stoichiometries, which are both 1. The stoichiometry in the overall reaction (S) is calculated for each compound by adding the stoichiometries of the anabolic and catabolic reaction, as balanced with the balancing factor.\n",
    "\n",
    "<br>\n",
    "<div style=\"text-align: center\">  $ S_I = \\displaystyle S_{I,ana} + \\frac{m_{GAM}(T) * S_{X,ana}} {-\\Delta _r G(T) * S_{P,cata}} * S_{I,cata} $\n",
    "</div>"
   ]
  },
  {
   "cell_type": "code",
   "execution_count": 10,
   "metadata": {},
   "outputs": [],
   "source": [
    "def St(C,T):\n",
    "    f_m = m_GAM*S.Ana[\"X\"]/(-DrGT(T)*S.Cata[\"Acetate\"])#*S.HomCata[\"Acetate\"]/S.HomCata[\"H2\"])\n",
    "    return S.Ana[C] + S.Cata[C] * f_m"
   ]
  },
  {
   "cell_type": "code",
   "execution_count": 11,
   "metadata": {},
   "outputs": [
    {
     "name": "stdout",
     "output_type": "stream",
     "text": [
      "Overall Hydrogenotrophic stoichiometry at 30°C: \n",
      " -14.26 CO2 -28.62 H2 -0.2 NH3 + 1.0 biomass + 6.63 CH3COOH + 14.76 H2O = 0 \n",
      "\n",
      "Overall Hydrogenotrophic stoichiometry at 60°C: \n",
      " -15.22 CO2 -30.54 H2 -0.2 NH3 + 1.0 biomass + 7.11 CH3COOH + 15.72 H2O = 0 \n",
      "\n"
     ]
    }
   ],
   "source": [
    "print(f'Overall Hydrogenotrophic stoichiometry at {Tc1}°C: \\n {round(St(\"CO2\",T1),2)} CO2 {round(St(\"H2\",T1),2)} H2 {round(St(\"NH3\",T1),2)} NH3 + {round(St(\"X\",T1),2)} biomass + {round(St(\"Acetate\",T1),2)} CH3COOH + {round(St(\"Water\",T1),2)} H2O = 0 \\n')\n",
    "print(f'Overall Hydrogenotrophic stoichiometry at {Tc2}°C: \\n {round(St(\"CO2\",T2),2)} CO2 {round(St(\"H2\",T2),2)} H2 {round(St(\"NH3\",T2),2)} NH3 + {round(St(\"X\",T2),2)} biomass + {round(St(\"Acetate\",T2),2)} CH3COOH + {round(St(\"Water\",T2),2)} H2O = 0 \\n')"
   ]
  },
  {
   "cell_type": "markdown",
   "metadata": {},
   "source": [
    "# Construct Black Box models of Moorella"
   ]
  },
  {
   "cell_type": "markdown",
   "metadata": {},
   "source": [
    "<p>Monod Equation, specific growth rate: </p>\n",
    "<div style=\"text-align: center\">  $ µ = µ_{max} * \n",
    "\\displaystyle \\frac{c_S}{K_S + c_S} * (1-c_P/c_P^*)$ [$h^{-1}$]\n",
    "    <span style=\"float:right;\">(eq. 28)</span>\n",
    "</div>\n",
    "\n",
    "<p>Pirt kinetics, specific consumption and production rate: </p>\n",
    "<br>\n",
    "<div style=\"text-align: center\">  $ q_i = \\displaystyle \\frac{µ}{Y_{Xi}} + m_{NGAM,i} $ [$h^{-1}$]\n",
    "    <span style=\"float:right;\">(eq. 29)</span>\n",
    "</div>\n",
    "<br>\n",
    "<div style=\"text-align: center\">  $ m_{NGAM,i} = \n",
    "\\displaystyle \\frac{m_{NGAM}}{-\\Delta _r G^T * Y_{PS,cata}}$ [$h^{-1}$]\n",
    "    <span style=\"float:right;\">(eq. 30)</span>\n",
    "</div>\n",
    "\n",
    "Where:\n",
    "- $Y_{IJ}$: Yield of compound I on J\n",
    "- $µ$: growth rate (/h)\n",
    "- $c_I$: concentration of compound I (mM)\n",
    "- $K_S$: Monod substrate saturation constant (mM)\n",
    "- $K_{iP}$: Product inhibition constant (mM)\n",
    "- $m_{NGAM}(T)$: temperature-dependent non-growth-associated maintenance energy requirement ($kJ/h/Cmol_{biomass}$)\n",
    "- $\\Delta _r G(T)$: temperature-dependent Gibbs free energy of reaction per mol product ($kJ/mol$)\n",
    "\n",
    "subscripts:\n",
    " - S: of substrate, electron donor CO or H2\n",
    " - X: of biomass \n",
    " - P: of product, acetate\n",
    " - ana: in anabolic reaction\n",
    " - cata: in catabolic reaction"
   ]
  },
  {
   "cell_type": "code",
   "execution_count": 12,
   "metadata": {},
   "outputs": [],
   "source": [
    "def µ(C_h2, C_co2, C_actt, T):\n",
    "    return µ_max(T) * C_h2/(Ks_h2+C_h2) * C_co2/(Ks_co2+C_co2) * (1-C_actt/Ki_actt)\n",
    "\n",
    "def q(C, C_h2, C_co2, C_actt, T):\n",
    "    m_NGAM_C = S.Cata[C]/S.Cata[\"H2\"] * m_NGAM(T)/(-DrGT(T)*S.Cata[\"Acetate\"]/S.Cata[\"H2\"])\n",
    "    return µ(C_h2, C_co2, C_actt, T)/(St(\"X\",T)/St(C,T)) + m_NGAM_C"
   ]
  },
  {
   "cell_type": "markdown",
   "metadata": {},
   "source": [
    "F_G = 1*10**3 #gas inflow rate (from Steph: (8*10**5 * 8.314 * T)/p_m) [m^3/h]\n",
    "r = 3 # radius of the reactor [m]\n",
    "h = 30 # height of the reactor [m]\n",
    "\n",
    "#deduceable constants\n",
    "A = math.pi * r**2 #reactor cross-sectional area [m^2]\n",
    "V_L = A * h * 2/3 #reactor volume, assuming it is 2/3 filled [m^3]\n",
    "v_gas = F_G/A/3600 #average gas velocity [m/s]\n",
    "Gas_holdup = 0.6*(v_gas)**0.7 #from Stephanie's paper\n",
    "V_G = V_L*Gas_holdup\n",
    "\n",
    "p_t = 101325 # pressure at the top of the reactor [Pa]\n",
    "p_b = p_t + h * 1000 * 9.81 # pressure at the bottom of the reactor [Pa]\n",
    "p_m = (p_b-p_t)/math.log(p_b/p_t) # logarithmic mean pressure [Pa]"
   ]
  },
  {
   "cell_type": "markdown",
   "metadata": {},
   "source": [
    "## Define gas transfer rates as functions"
   ]
  },
  {
   "cell_type": "markdown",
   "metadata": {},
   "source": [
    "<p> Transfer rate for compound i: </p>\n",
    "<div style=\"text-align: center\">  $ R_{T,i} = k_La_{T,i}*(c^*_{T,i} - c_{l,i}) $ [$mol/m^3/s$]\n",
    "</div>\n",
    "\n",
    "<p> with: <br></p>\n",
    "<div style=\"text-align: center\"> \n",
    "    $ k_La_{O_2,20} = 0.32 * (v^c_{gs})^{0.7} $ [$1/s$] <br><br>\n",
    "    $ k_La_{i} = \\sqrt{D_i/D_{O_2}} * k_La_{O_2} $ [$1/s$] <br><br>\n",
    "    $ k_La_T = k_La_{20} * \\theta ^{T-293.15} $ [$1/s$]    <br><br>\n",
    "    $ c^*_{L,i,T} = H_{0,i}*e^{[k_{H,i}*(1/T-1/298.15)]}*c_{G,i}*R*T $ [$mol/m^3$] <br>\n",
    "</div>"
   ]
  },
  {
   "cell_type": "code",
   "execution_count": 13,
   "metadata": {},
   "outputs": [],
   "source": [
    "# Load Henry's Law values\n",
    "DR = pd.read_csv(\"../Data/HenrysLawData.csv\", index_col = \"Compound\")[\"DR\"]\n",
    "HR = pd.read_csv(\"../Data/HenrysLawData.csv\", index_col = \"Compound\")[\"HR\"]\n",
    "kh = pd.read_csv(\"../Data/HenrysLawData.csv\", index_col = \"Compound\")[\"k\"]\n",
    "theta = 1.022 # temperature correction factor\n",
    "\n",
    "# Kla Temperature correction:\n",
    "def KLa(C,T):\n",
    "    return 0.32 * (DR[C]/DR[\"O2\"])**0.5 * v_gas**0.7 * theta**(T-293.15)# * 3600 #[1/s]\n",
    "\n",
    "# Saturation concentration\n",
    "def Csat(C, T, c_G):\n",
    "    return HR[C] * math.e**(kh[C]*(1/T-1/298.15)) * 10**(-5) * c_G * R * T\n",
    "\n",
    "# Combine as transfer rate:\n",
    "def RT(C,T,c_L,c_G):\n",
    "    return KLa(C,T) * (Csat(C,T,c_G) - c_L)"
   ]
  },
  {
   "cell_type": "markdown",
   "metadata": {},
   "source": [
    "## Define mass balances\n",
    "\n",
    "<br>\n",
    "<div><b>Box 1:</b> Mass Balances; Accumulation = In - Out + Production - Consumption</div>\n",
    "<br>\n",
    "<div>Biomass: &emsp; &emsp; &emsp; &ensp; $ \\displaystyle \\frac{dc_X}{dt} = µ * c_X $\n",
    "<div>Acetate: &emsp; &emsp; &emsp; &emsp; $ \\displaystyle \\frac{dc_{Actt}}{dt} = q_{actt} * c_X$\n",
    "<div>CO<sub>2</sub>, dissolved:&emsp;&nbsp; $ \\displaystyle \\frac{dc_{CO_2}}{dt} = q_{CO_2} * c_X + R_{CO_2} $\n",
    "<div>H<sub>2</sub>, dissolved:&emsp;&emsp;&ensp;&nbsp;$ \\displaystyle \\frac{dc_{H_2}}{dt} = q_{H_2} * c_X + R_{H_2} $\n",
    "<div>CO<sub>2</sub>, gas:&emsp;&emsp;&emsp;&emsp;&emsp;$ \\displaystyle \\frac{dc_{G,CO_{2}}}{dt}=\\frac{F_G}{V_G}*(c_{G,CO_2,in}-c_{G,CO_2})-R_{CO_2}*\\frac{V_L}{V_G}$\n",
    "<div>H<sub>2</sub>, gas:&emsp;&emsp;&emsp;&emsp;&emsp;&ensp;&nbsp;$ \\displaystyle \\frac{dc_{G,H_{2}}}{dt}=\\frac{F_G}{V_G}*(c_{G,H_2,in}-c_{G,H_2})-R_{H_2}*\\frac{V_L}{V_G}$"
   ]
  },
  {
   "cell_type": "code",
   "execution_count": 14,
   "metadata": {},
   "outputs": [],
   "source": [
    "def model(z,t):\n",
    "    X = max(0,z[0])\n",
    "    c_actt = max(0,z[1])\n",
    "    c_co2 = max(0,z[2])\n",
    "    c_h2 = max(0,z[3])\n",
    "    cG_co2 = max(0,z[4])\n",
    "    cG_h2 = max(0,z[5])\n",
    "    Acc_P = max(0,z[6])\n",
    "    \n",
    "    #cG_Gas = cG_co2+cG_h2+0.1 # add 0.1 as a driver gas so that the sum of gasses does not reach 0, in practice it would be nitrogen.\n",
    "\n",
    "    dXdt    = µ(c_h2, c_co2, c_actt,T) * X\n",
    "    dacttdt = 0\n",
    "    dCO2dt  = q(\"CO2\",c_h2, c_co2, c_actt,T) * X  + RT(\"CO2\",T,c_co2,cG_co2)\n",
    "    dH2dt   = q(\"H2\",c_h2, c_co2, c_actt,T) * X + RT(\"H2\",T,c_h2,cG_h2)\n",
    "    dCO2Gdt = F_G/V_G * (cG_co2_in-cG_co2) - RT(\"CO2\",T,c_co2,cG_co2) * V_L/V_G\n",
    "    dH2Gdt  = F_G/V_G * (cG_h2_in-cG_h2) - RT(\"H2\",T,c_h2,cG_h2) * V_L/V_G\n",
    "    Acc     = q(\"Acetate\",c_h2, c_co2, c_actt,T) * X * V_L\n",
    "    \n",
    "    return [dXdt,dacttdt,dCO2dt,dH2dt,dCO2Gdt,dH2Gdt,Acc]"
   ]
  },
  {
   "cell_type": "markdown",
   "metadata": {},
   "source": [
    "## Define initial conditions & run simulations\n",
    "\n",
    "Initialize and run at both temperatures defined at the top of the notebook\n",
    "\n",
    "Initial gas concentrations: \n",
    " - in the liquid, one can assume that they have reached saturation before starting the experiment\n",
    " - in the gas, one can take the inlet concentrations"
   ]
  },
  {
   "cell_type": "code",
   "execution_count": 15,
   "metadata": {},
   "outputs": [],
   "source": [
    "#initial conditions at T1 and T2\n",
    "#cG_Gas_0_T1 = cG_co2_in_T1+cG_h2_in_T1+cG_n2_in_T1\n",
    "\n",
    "c_co2_0_T1 = Csat(\"CO2\",T1,cG_co2_in_T1)\n",
    "c_h2_0_T1 =  Csat(\"H2\",T1,cG_h2_in_T1)\n",
    "c_n2_0_T1 =  Csat(\"N2\",T1,cG_n2_in_T1)\n",
    "\n",
    "#cG_Gas_0_T2 = cG_co2_in_T2+cG_h2_in_T2+cG_n2_in_T2\n",
    "\n",
    "c_co2_0_T2 = Csat(\"CO2\",T2,cG_co2_in_T2)\n",
    "c_h2_0_T2 =  Csat(\"H2\",T2,cG_h2_in_T2)\n",
    "c_n2_0_T2 =  Csat(\"N2\",T2,cG_n2_in_T2)"
   ]
  },
  {
   "cell_type": "code",
   "execution_count": 16,
   "metadata": {
    "scrolled": false
   },
   "outputs": [],
   "source": [
    "#z0=[c_n2_0,cG_n2_in]\n",
    "T = T1\n",
    "z0_T1=[inoc,0,c_co2_0_T1,c_h2_0_T1,cG_co2_in_T1,cG_h2_in_T1,0]\n",
    "\n",
    "cG_co2_in,cG_h2_in,cG_n2_in = cG_co2_in_T1,cG_h2_in_T1,cG_n2_in_T1\n",
    "\n",
    "#solve ODE\n",
    "z_T1 = odeint(model,z0_T1,t)"
   ]
  },
  {
   "cell_type": "code",
   "execution_count": 17,
   "metadata": {},
   "outputs": [],
   "source": [
    "#z0=[c_n2_0,cG_n2_in]\n",
    "T = T2\n",
    "z0_T2=[inoc,0,c_co2_0_T2,c_h2_0_T2,cG_co2_in_T2,cG_h2_in_T2,0]\n",
    "\n",
    "cG_co2_in,cG_h2_in,cG_n2_in = cG_co2_in_T2,cG_h2_in_T2,cG_n2_in_T2\n",
    "\n",
    "#solve ODE\n",
    "z_T2 = odeint(model,z0_T2,t)"
   ]
  },
  {
   "cell_type": "markdown",
   "metadata": {},
   "source": [
    "# Plot the simulations"
   ]
  },
  {
   "cell_type": "code",
   "execution_count": 18,
   "metadata": {},
   "outputs": [],
   "source": [
    "plt.rcParams['axes.spines.right'] = False\n",
    "plt.rcParams['axes.spines.top'] = False\n",
    "plt.rcParams['font.size'] = \"14\"\n",
    "plt.rcParams['xtick.major.size'] = 5\n",
    "plt.rcParams['ytick.major.size'] = 5\n",
    "plt.rcParams['ytick.minor.size'] = 4"
   ]
  },
  {
   "cell_type": "code",
   "execution_count": 34,
   "metadata": {
    "scrolled": false
   },
   "outputs": [
    {
     "data": {
      "image/png": "[encoded data removed]",
      "text/plain": [
       "<Figure size 432x288 with 1 Axes>"
      ]
     },
     "metadata": {
      "needs_background": "light"
     },
     "output_type": "display_data"
    },
    {
     "data": {
      "image/png": "[encoded data removed]",
      "text/plain": [
       "<Figure size 432x288 with 1 Axes>"
      ]
     },
     "metadata": {
      "needs_background": "light"
     },
     "output_type": "display_data"
    },
    {
     "data": {
      "image/png": "[encoded data removed]",
      "text/plain": [
       "<Figure size 216x216 with 1 Axes>"
      ]
     },
     "metadata": {
      "needs_background": "light"
     },
     "output_type": "display_data"
    }
   ],
   "source": [
    "#fig = plt.figure(figsize=(5,3))\n",
    "plt.plot(np.NaN, np.NaN, 'r')\n",
    "plt.plot(np.NaN, np.NaN)\n",
    "plt.plot(t/3600,z_T1[:,2], color='dimgray', linestyle =\"--\")\n",
    "plt.plot(t/3600,z_T1[:,3], color='royalblue', linestyle =\"--\")\n",
    "plt.plot(t/3600,z_T2[:,2], color='dimgray', linestyle =\"-\")\n",
    "plt.plot(t/3600,z_T2[:,3], color='royalblue', linestyle =\"-\")\n",
    "plt.xlabel(r'Time [$h$]')\n",
    "plt.ylabel(r'Disolved gas [$mM$]')\n",
    "plt.axis([0, t_rt/3600, 0, 8.5])\n",
    "plt.savefig('../Figures/Simulation/30_disolved')\n",
    "plt.show()\n",
    "\n",
    "#fig = plt.figure(figsize=(5,3))\n",
    "plt.plot(np.NaN, np.NaN, 'r')\n",
    "plt.plot(np.NaN, np.NaN)\n",
    "plt.plot(t/3600,z_T1[:,4], color='dimgray', linestyle =\"--\")\n",
    "plt.plot(t/3600,z_T1[:,5], color='royalblue', linestyle =\"--\")\n",
    "plt.plot(t/3600,z_T2[:,4], color='dimgray', linestyle =\"-\")\n",
    "plt.plot(t/3600,z_T2[:,5], color='royalblue', linestyle =\"-\")\n",
    "plt.xlabel(r'Time [$h$]')\n",
    "plt.ylabel(r'Undisolved gas [$mM$]')\n",
    "plt.axis([0, t_rt/3600, 0, 70])\n",
    "plt.savefig('../Figures/Simulation/30_gas')\n",
    "plt.show()\n",
    "\n",
    "fig = plt.figure(figsize=(3,3))\n",
    "plt.axis('off')\n",
    "plt.plot(np.NaN, np.NaN, \"dimgray\")\n",
    "plt.plot(np.NaN, np.NaN, 'royalblue')\n",
    "plt.plot(np.NaN, np.NaN, 'saddlebrown')\n",
    "plt.plot(np.NaN, np.NaN, 'orange')\n",
    "plt.plot(np.NaN, np.NaN, \"k--\")\n",
    "plt.plot(np.NaN, np.NaN, 'k-')\n",
    "plt.legend([f'$CO_2$',f'$H_2$','biomass','acetate',\"30°C\",\"60°C\"])\n",
    "plt.savefig('../Figures/Simulation/Legend.svg')\n",
    "plt.show()"
   ]
  },
  {
   "cell_type": "code",
   "execution_count": 20,
   "metadata": {},
   "outputs": [],
   "source": [
    "plt.rcParams['axes.spines.right'] = True\n",
    "plt.rcParams['axes.spines.top'] = False\n",
    "plt.rcParams['font.size'] = \"14\"\n",
    "plt.rcParams['xtick.major.size'] = 5\n",
    "plt.rcParams['ytick.major.size'] = 5\n",
    "plt.rcParams['ytick.minor.size'] = 4"
   ]
  },
  {
   "cell_type": "code",
   "execution_count": 21,
   "metadata": {},
   "outputs": [
    {
     "data": {
      "text/plain": [
       "49.92888542828113"
      ]
     },
     "execution_count": 21,
     "metadata": {},
     "output_type": "execute_result"
    }
   ],
   "source": [
    "max(max(z_T1[:,0]),max(z_T2[:,0]))*24.6/1000"
   ]
  },
  {
   "cell_type": "code",
   "execution_count": 22,
   "metadata": {},
   "outputs": [
    {
     "data": {
      "image/png": "[encoded data removed]",
      "text/plain": [
       "<Figure size 432x288 with 2 Axes>"
      ]
     },
     "metadata": {
      "needs_background": "light"
     },
     "output_type": "display_data"
    }
   ],
   "source": [
    "plt.plot(t/3600,(z_T1[:,0])/1000, color='saddlebrown', linestyle ='--')\n",
    "plt.plot(t/3600,(z_T2[:,0])/1000, color='saddlebrown', linestyle =\"-\")\n",
    "plt.xlabel(r'Time [$h$]')\n",
    "plt.ylabel(r'Biomass concentration [$M$]')\n",
    "plt.axis([0, t_rt, inoc/1000, max(max(z_T1[:,0]),max(z_T2[:,0]))/1000])\n",
    "plt.yscale('log')\n",
    "\n",
    "ax2 = plt.twinx()\n",
    "ax2.set_ylabel(r'Biomass concentration [$gDW/l$]')\n",
    "ax2.axis([0, t_rt/3600, inoc, max(max(z_T1[:,0]),max(z_T2[:,0]))*24.6/1000])\n",
    "plt.savefig('../Figures/Simulation/Biomass')\n",
    "plt.yscale('log')\n",
    "plt.show()"
   ]
  },
  {
   "cell_type": "code",
   "execution_count": 23,
   "metadata": {},
   "outputs": [
    {
     "data": {
      "image/png": "[encoded data removed]",
      "text/plain": [
       "<Figure size 432x288 with 2 Axes>"
      ]
     },
     "metadata": {
      "needs_background": "light"
     },
     "output_type": "display_data"
    }
   ],
   "source": [
    "plt.plot(t/3600,z_T1[:,6]/10**6, color='orange', linestyle =\"--\")\n",
    "plt.plot(t/3600,z_T2[:,6]/10**6, color='orange', linestyle =\"-\")\n",
    "plt.xlabel(r'Time [$h$]')\n",
    "plt.ylabel(r'Accumulated Acetate [$10^6 mol$]')\n",
    "plt.axis([0, t_rt/3600, 0, max(max(z_T2[:,6]),max(z_T1[:,6]))/10**6])\n",
    "\n",
    "ax2 = plt.twinx()\n",
    "ax2.set_ylabel(r'Accumulated Acetate [$10^6 kg$]')\n",
    "ax2.axis([0, t_rt/3600, 0, max(max(z_T2[:,6]),max(z_T1[:,6]))*0.06/10**6])\n",
    "plt.savefig('../Figures/Simulation/ProdAccumulation')\n",
    "\n",
    "plt.show()"
   ]
  },
  {
   "cell_type": "code",
   "execution_count": 24,
   "metadata": {},
   "outputs": [],
   "source": [
    "plt.rcParams['axes.spines.right'] = False\n",
    "plt.rcParams['axes.spines.top'] = False\n",
    "plt.rcParams['font.size'] = \"14\"\n",
    "plt.rcParams['xtick.major.size'] = 5\n",
    "plt.rcParams['ytick.major.size'] = 5\n",
    "plt.rcParams['ytick.minor.size'] = 4"
   ]
  },
  {
   "cell_type": "code",
   "execution_count": 25,
   "metadata": {},
   "outputs": [
    {
     "data": {
      "image/png": "[encoded data removed]",
      "text/plain": [
       "<Figure size 576x216 with 2 Axes>"
      ]
     },
     "metadata": {
      "needs_background": "light"
     },
     "output_type": "display_data"
    }
   ],
   "source": [
    "fig, axs = plt.subplots(nrows = 1, ncols = 2, constrained_layout=True, figsize=(8,3))\n",
    "\n",
    "axs[0].plot(t/3600,(z_T1[:,0])*24.6/1000, color='saddlebrown', linestyle ='--')\n",
    "axs[0].plot(t/3600,(z_T2[:,0])*24.6/1000, color='saddlebrown', linestyle ='-')\n",
    "axs[0].set_ylabel(r'Biomass [$gDW/l$]')\n",
    "axs[0].set(yscale = 'log')\n",
    "\n",
    "axs[1].plot(t/3600,z_T1[:,6]*0.06/1000, color='orange', linestyle ='--')\n",
    "axs[1].plot(t/3600,z_T2[:,6]*0.06/1000, color='orange', linestyle ='-')\n",
    "axs[1].set_ylabel(r'Acetate acc. [$10^3 kg$]')\n",
    "#axs[1].legend(['30°C','60°C'])\n",
    "\n",
    "for a in axs: a.set(\n",
    "    #xticks = np.arange(0,t_rt/3600,t_rt/3600/3),\n",
    "    xlabel = 'Time [h]', \n",
    "    xlim = [0, t_rt/3600])"
   ]
  },
  {
   "cell_type": "markdown",
   "metadata": {},
   "source": [
    "Manually input a time after the pseudo steady state has been reached"
   ]
  },
  {
   "cell_type": "code",
   "execution_count": 26,
   "metadata": {},
   "outputs": [],
   "source": [
    "T_SteadyState = t_rt-1"
   ]
  },
  {
   "cell_type": "code",
   "execution_count": 27,
   "metadata": {},
   "outputs": [
    {
     "data": {
      "text/plain": [
       "(2029.6294889545175, 1118.663197180599)"
      ]
     },
     "execution_count": 27,
     "metadata": {},
     "output_type": "execute_result"
    }
   ],
   "source": [
    "max(z_T1[:,0]),max(z_T2[:,0])"
   ]
  },
  {
   "cell_type": "code",
   "execution_count": 28,
   "metadata": {},
   "outputs": [
    {
     "name": "stdout",
     "output_type": "stream",
     "text": [
      "11.332395638726311 mol/s\n",
      "20.430132644177004 mol/s\n",
      "2.408632698637445 ton/h\n",
      "4.3423021127239565 ton/h\n",
      "0.020040075366403655 mol/s/m3\n",
      "0.03612840664826516 mol/s/m3\n",
      "4.259397778676898 kg/h/m3\n",
      "7.678876062648869 kg/h/m3\n"
     ]
    },
    {
     "name": "stderr",
     "output_type": "stream",
     "text": [
      "/Users/phivri/opt/anaconda3/envs/dFBACoCultivation/lib/python3.6/site-packages/ipykernel_launcher.py:1: RankWarning: Polyfit may be poorly conditioned\n",
      "  \"\"\"Entry point for launching an IPython kernel.\n",
      "/Users/phivri/opt/anaconda3/envs/dFBACoCultivation/lib/python3.6/site-packages/ipykernel_launcher.py:2: RankWarning: Polyfit may be poorly conditioned\n",
      "  \n"
     ]
    },
    {
     "data": {
      "text/plain": [
       "1.8028079230097565"
      ]
     },
     "execution_count": 28,
     "metadata": {},
     "output_type": "execute_result"
    }
   ],
   "source": [
    "slopeT1, intercept = np.polyfit(t[t>T_SteadyState],z_T1[t>T_SteadyState,6],1)\n",
    "slopeT2, intercept = np.polyfit(t[t>T_SteadyState],z_T2[t>T_SteadyState,6],1)\n",
    "print(slopeT1, \"mol/s\")\n",
    "print(slopeT2, \"mol/s\")\n",
    "\n",
    "print(slopeT1*59.04*3600/10**6, \"ton/h\")\n",
    "print(slopeT2*59.04*3600/10**6, \"ton/h\")\n",
    "\n",
    "print(slopeT1/(V_L), \"mol/s/m3\")\n",
    "print(slopeT2/(V_L), \"mol/s/m3\")\n",
    "\n",
    "print(slopeT1/(V_L)*59.04*3600/1000, \"kg/h/m3\")\n",
    "print(slopeT2/(V_L)*59.04*3600/1000, \"kg/h/m3\")\n",
    "\n",
    "slopeT2/slopeT1"
   ]
  },
  {
   "cell_type": "code",
   "execution_count": 29,
   "metadata": {},
   "outputs": [
    {
     "data": {
      "text/plain": [
       "0.020040075366403655"
      ]
     },
     "execution_count": 29,
     "metadata": {},
     "output_type": "execute_result"
    }
   ],
   "source": [
    "slopeT1/(V_L)"
   ]
  },
  {
   "cell_type": "code",
   "execution_count": 30,
   "metadata": {},
   "outputs": [
    {
     "data": {
      "text/plain": [
       "(48.14276821747937, 25.204081775812718, '[Pmol/Smol]')"
      ]
     },
     "execution_count": 30,
     "metadata": {},
     "output_type": "execute_result"
    }
   ],
   "source": [
    "F_G*cG_h2_in_T1/slopeT1,F_G*cG_h2_in_T2/slopeT2,\"[Pmol/Smol]\""
   ]
  }
 ],
 "metadata": {
  "kernelspec": {
   "display_name": "dFBACoCultivation",
   "language": "python",
   "name": "dfbacocultivation"
  },
  "language_info": {
   "codemirror_mode": {
    "name": "ipython",
    "version": 3
   },
   "file_extension": ".py",
   "mimetype": "text/x-python",
   "name": "python",
   "nbconvert_exporter": "python",
   "pygments_lexer": "ipython3",
   "version": "3.6.13"
  }
 },
 "nbformat": 4,
 "nbformat_minor": 4
}
