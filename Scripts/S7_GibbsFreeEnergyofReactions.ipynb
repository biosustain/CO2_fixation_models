{
 "cells": [
  {
   "cell_type": "code",
   "execution_count": 1,
   "metadata": {},
   "outputs": [],
   "source": [
    "import numpy as np\n",
    "import math"
   ]
  },
  {
   "cell_type": "code",
   "execution_count": 2,
   "metadata": {},
   "outputs": [],
   "source": [
    "#Gibbs energy of Formation and standard molar enthalpy from table of Robert A. Alberty, Thermodynamics of Biochemical Reactions, DOI: 10.1002/0471332607\n",
    "DfG0_Actn, DfH0_Actn = -159.70, -221.71 #[kJ/mol]\n",
    "DfG0_Actt, DfH0_Actt = -396.45, -485.76 #[kJ/mol]\n",
    "DfG0_CO2, DfH0_CO2 = -394.36, -393.50 #[kJ/mol]\n",
    "DfG0_CO, DfH0_CO = -119.90, -120.96 #[kJ/mol]\n",
    "DfG0_H2O, DfH0_H2O = -237.19, -285.83 #[kJ/mol]\n",
    "DfG0_H2, DfH0_H2 = 17.60, -4.20 #[kJ/mol]\n",
    "DfG0_O2, DfH0_O2 = 16.40, -11.70 #[kJ/mol]\n",
    "DfG0_CH4, DfH0_CH4 = -34.33, - -89.04 #[kJ/mol]\n",
    "\n",
    "DfG0_MetOH, DFH0_MetOH = -175.31, -24.93 #[kJ/mol]\n",
    "DfG0_EtOH, DFH0_EtOH = -181.64, -288.30 #[kJ/mol]\n",
    "DfG0_PropOH, DFH0_PropOH = -185.23, -330.83 #[kJ/mol]\n",
    "DfG0_ButOH, DFH0_ButOH = -171.84, \"NA\" #[kJ/mol]\n",
    "DfG0_Butyrt, DFH0_Butyrt = -352.63, \"NA\" #[kJ/mol] !! -1 ion\n",
    "DfG0_Butdiol, DFH0_Butdiol = \"NA\", \"NA\" #[kJ/mol]"
   ]
  },
  {
   "cell_type": "markdown",
   "metadata": {},
   "source": [
    "Write quick functions to balance out elements with carboxydotrophic or homoacetogenic specific substrates and by products."
   ]
  },
  {
   "cell_type": "code",
   "execution_count": 3,
   "metadata": {},
   "outputs": [],
   "source": [
    "def elementbal_carb(C,H,O):\n",
    "    r_W = H/2\n",
    "    r_CO2 = O - C - H/2\n",
    "    r_CO = C - O + C + H/2\n",
    "    return print(f'Carboxydotrophic: {int(r_CO)} CO + {int(r_W)} H2O - C{C}H{H}O{O} {int(r_CO2)} CO2 = 0')\n",
    "\n",
    "def elementbal_hom(C,H,O):\n",
    "    r_CO2 = C\n",
    "    r_H2 = H/2 - O + 2 * C\n",
    "    r_W = O - 2 * C\n",
    "    return print(f'Homoacetogenic: {int(r_H2)} H2 + {int(r_CO2)} CO2 - C{C}H{H}O{O} {int(r_W)} H2O = 0')"
   ]
  },
  {
   "cell_type": "code",
   "execution_count": 4,
   "metadata": {},
   "outputs": [
    {
     "name": "stdout",
     "output_type": "stream",
     "text": [
      "Carboxydotrophic: 10 CO + 4 H2O - C4H8O2 -6 CO2 = 0\n",
      "Homoacetogenic: 10 H2 + 4 CO2 - C4H8O2 -6 H2O = 0\n"
     ]
    }
   ],
   "source": [
    "elementbal_carb(4,8,2)\n",
    "elementbal_hom(4,8,2)"
   ]
  },
  {
   "cell_type": "markdown",
   "metadata": {},
   "source": [
    "<p>Given the reaction stoichiometries:</p>\n",
    "<p>Methanogen: $ 4 H_2 + CO_2  <=> CH_4 + 2 H_2O $</p>\n",
    "\n",
    "Homoacetogenic, different products:\n",
    "<p>Acetate: $ 4 H_2 + 2 CO_2 <=> C_2H_4O_2 + 2 H_2O $</p>\n",
    "<p>Acetone: $ 8 H_2 + 3 CO_2 <=> C_3H_6O + 5 H_2O $</p>\n",
    "<p>Ethanol: $ 6 H_2 + 2 CO_2 <=> C_2H_6O + 3 H_2O $</p>\n",
    "<p>Propanol: $ 9 H_2 + 3 CO_2 <=> C_3H_8O + 5 H_2O $</p>\n",
    "<p>Butanol: $ 12 H_2 + 4 CO_2 <=> C_4H_{10}O + 7 H_2O $</p>\n",
    "<p>Butyrate: $ 10 H_2 + 4 CO_2 <=> C_4H_8O_2 + 6 H_2O $</p>\n",
    "\n",
    "Carboxydotrophic, different products:\n",
    "<p>Acetate: $ 4 CO + 2 H_2O <=> C_2H_4O_2 + 2 CO_2 $</p>\n",
    "<p>Acetone: $ 8 CO + 3 H_2O <=> C_3H_6O + 5 CO_2 $</p>\n",
    "<p>Ethanol: $ 6 CO + 3 H_2O <=> C_2H_6O + 4 CO_2 $</p>\n",
    "<p>Propanol: $ 9 CO + 4 H_2O <=> C_3H_8O + 6 CO_2 $</p>\n",
    "<p>Butanol: $ 12 CO + 5 H_2O <=> C_4H_{10}O + 8 CO_2 $</p>\n",
    "<p>Butyrate: $ 10 CO + 4 H_2O <=> C_4H_8O_2 + 6 CO_2 $</p>"
   ]
  },
  {
   "cell_type": "code",
   "execution_count": 6,
   "metadata": {
    "scrolled": true
   },
   "outputs": [
    {
     "name": "stdout",
     "output_type": "stream",
     "text": [
      "Gibbs energy per mol electron donor:\n",
      "  DrG0_met/S = -46.2 [kJ/mol]\n",
      "  DrG0_carb_Actt/S = -57.8 [kJ/mol]\n",
      "  DrG0_carb_Actn/S = -57.6 [kJ/mol]\n",
      "  DrG0_carb_EtOH/S = -54.7 [kJ/mol]\n",
      "  DrG0_carb_PropOH/S = -58.2 [kJ/mol]\n",
      "  DrG0_carb_ButOH/S = -58.5 [kJ/mol]\n",
      "  DrG0_carb_Butyrt/S = -57.1 [kJ/mol]\n",
      "  DrG0_hom_Actt/S = -38.1 [kJ/mol]\n",
      "  DrG0_hom_Actn/S = -37.9 [kJ/mol]\n",
      "  DrG0_hom_EtOH/S = -35.0 [kJ/mol]\n",
      "  DrG0_hom_PropOH/S = -38.5 [kJ/mol]\n",
      "  DrG0_hom_ButOH/S = -38.8 [kJ/mol]\n",
      "  DrG0_hom_Butyrt/S = -37.4 [kJ/mol]\n",
      "\n"
     ]
    }
   ],
   "source": [
    "#Hess's law on element balance reactions:\n",
    "DrG0_carb_Actt = -4*DfG0_CO - 2*DfG0_H2O + DfG0_Actt + 2*DfG0_CO2\n",
    "DrG0_carb_Actn = -8*DfG0_CO - 3*DfG0_H2O + DfG0_Actn + 5*DfG0_CO2\n",
    "DrG0_carb_EtOH = -6*DfG0_CO - 3*DfG0_H2O + DfG0_EtOH + 4*DfG0_CO2\n",
    "DrG0_carb_PropOH = -9*DfG0_CO - 4*DfG0_H2O + DfG0_PropOH + 6*DfG0_CO2\n",
    "DrG0_carb_ButOH = -12*DfG0_CO - 5*DfG0_H2O + DfG0_ButOH + 8*DfG0_CO2\n",
    "DrG0_carb_Butyrt = -10*DfG0_CO - 4*DfG0_H2O + DfG0_Butyrt + 6*DfG0_CO2\n",
    "\n",
    "DrG0_met = - 4*DfG0_H2 - 1*DfG0_CO2 + DfG0_CH4 + 2*DfG0_H2O\n",
    "DrG0_hom_Actt = -4*DfG0_H2 - 2*DfG0_CO2 + DfG0_Actt + 2*DfG0_H2O\n",
    "DrG0_hom_Actn = -8*DfG0_H2 - 3*DfG0_CO2 + DfG0_Actn + 5*DfG0_H2O\n",
    "DrG0_hom_EtOH = -6*DfG0_H2 - 2*DfG0_CO2 + DfG0_EtOH + 3*DfG0_H2O\n",
    "DrG0_hom_PropOH = -9*DfG0_H2 - 3*DfG0_CO2 + DfG0_PropOH + 5*DfG0_H2O\n",
    "DrG0_hom_ButOH = -12*DfG0_H2 - 4*DfG0_CO2 + DfG0_ButOH + 7*DfG0_H2O\n",
    "DrG0_hom_Butyrt = -10*DfG0_H2 - 4*DfG0_CO2 + DfG0_Butyrt + 6*DfG0_H2O\n",
    "\n",
    "print(\"Gibbs energy per mol electron donor:\\n\",\n",
    "      \" DrG0_met/S =\",round(DrG0_met/4,1),\"[kJ/mol]\\n\",\n",
    "      \" DrG0_carb_Actt/S =\",round(DrG0_carb_Actt/4,1),\"[kJ/mol]\\n\",\n",
    "      \" DrG0_carb_Actn/S =\",round(DrG0_carb_Actn/8,1),\"[kJ/mol]\\n\",\n",
    "      \" DrG0_carb_EtOH/S =\",round(DrG0_carb_EtOH/6,1),\"[kJ/mol]\\n\",\n",
    "      \" DrG0_carb_PropOH/S =\",round(DrG0_carb_PropOH/9,1),\"[kJ/mol]\\n\",\n",
    "      \" DrG0_carb_ButOH/S =\",round(DrG0_carb_ButOH/12,1),\"[kJ/mol]\\n\",\n",
    "      \" DrG0_carb_Butyrt/S =\",round(DrG0_carb_Butyrt/10,1),\"[kJ/mol]\\n\",\n",
    "      \" DrG0_hom_Actt/S =\",round(DrG0_hom_Actt/4,1),\"[kJ/mol]\\n\",\n",
    "      \" DrG0_hom_Actn/S =\",round(DrG0_hom_Actn/8,1),\"[kJ/mol]\\n\",\n",
    "      \" DrG0_hom_EtOH/S =\",round(DrG0_hom_EtOH/6,1),\"[kJ/mol]\\n\",\n",
    "      \" DrG0_hom_PropOH/S =\",round(DrG0_hom_PropOH/9,1),\"[kJ/mol]\\n\",\n",
    "      \" DrG0_hom_ButOH/S =\",round(DrG0_hom_ButOH/12,1),\"[kJ/mol]\\n\",\n",
    "      \" DrG0_hom_Butyrt/S =\",round(DrG0_hom_Butyrt/10,1),\"[kJ/mol]\\n\",)"
   ]
  },
  {
   "cell_type": "markdown",
   "metadata": {},
   "source": [
    "<p>Given the reaction stoichiometries:</p>\n",
    "<p>$ 2 Acetate <=> Acetone + CO_2 + H_2O $</p>\n",
    "<p>$ Acetate <=> CH_4 + CO_2$</p>\n",
    "<p>$ Acetate + 2 O_2 <=> 2 CO_2 + 2 H_2O$</p>"
   ]
  },
  {
   "cell_type": "code",
   "execution_count": null,
   "metadata": {},
   "outputs": [],
   "source": [
    "DrG0_Actt_Actn = -2*DfG0_Actt + DfG0_Actn + DfG0_CO2 + DfG0_H2O\n",
    "DrG0_Actt_Anaer = -DfG0_Actt + DfG0_MetOH + DfG0_CO2\n",
    "DrG0_Actt_Aerob = -DfG0_Actt - 2*DfG0_O2 + 2*DfG0_CO2 + 2*DfG0_H2O\n",
    "\n",
    "print(\"Gibbs energy per mol substrate:\\n\",\n",
    "      \" DrG0_Actt_Actn/S =\",round(DrG0_Actt_Actn/2,1),\"[kJ/mol]\\n\",\n",
    "      \" DrG0_Actt_Anaer/S =\",round(DrG0_Actt_Anaer,1),\"[kJ/mol]\\n\",\n",
    "      \" DrG0_Actt_Aerob/S =\",round(DrG0_Actt_Aerob,1),\"[kJ/mol]\\n\")"
   ]
  }
 ],
 "metadata": {
  "kernelspec": {
   "display_name": "dFBACoCultivation",
   "language": "python",
   "name": "dfbacocultivation"
  },
  "language_info": {
   "codemirror_mode": {
    "name": "ipython",
    "version": 3
   },
   "file_extension": ".py",
   "mimetype": "text/x-python",
   "name": "python",
   "nbconvert_exporter": "python",
   "pygments_lexer": "ipython3",
   "version": "3.6.12"
  }
 },
 "nbformat": 4,
 "nbformat_minor": 4
}
