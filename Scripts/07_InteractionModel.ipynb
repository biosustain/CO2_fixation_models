{
 "cells": [
  {
   "cell_type": "markdown",
   "metadata": {},
   "source": [
    "# Notebook 07: Acetogenic Interaction Model\n",
    "\n",
    "This notebook is part of the research paper titled:\n",
    "\n",
    "Optimizing acetogenic CO(2) utilization through metabolic and process engineering highlights the potential of thermophilic bioproduction\n",
    "\n",
    "This notebook uses a stoichiometric constraint-based model of the Wood-Ljungdahl pathway jointly with a genome-scale model of Paragoebacillus thermoglucosidasius, to model a joint cultivation of both organisms symbiotically fermenting syngas to produce acetone, through acetate as an exchange metabolite.\n",
    "\n",
    "Notebook author: Philip J. Gorter de Vries"
   ]
  },
  {
   "cell_type": "code",
   "execution_count": 1,
   "metadata": {},
   "outputs": [],
   "source": [
    "import numpy as np\n",
    "import pandas as pd\n",
    "import cobra.io\n",
    "import escher\n",
    "from escher import Builder\n",
    "from cobra import Model, Reaction, Metabolite"
   ]
  },
  {
   "cell_type": "markdown",
   "metadata": {},
   "source": [
    "# Load Acetogen Model and Predict Theoretical Yields"
   ]
  },
  {
   "cell_type": "code",
   "execution_count": 2,
   "metadata": {},
   "outputs": [
    {
     "name": "stdout",
     "output_type": "stream",
     "text": [
      "\n",
      "--------------------------------------------\n",
      "Warning: your license will expire in 9 days\n",
      "--------------------------------------------\n",
      "\n",
      "Using license file /Users/phivri/gurobi.lic\n",
      "Academic license - for non-commercial use only - expires 2022-07-23\n"
     ]
    }
   ],
   "source": [
    "WLModel = cobra.io.read_sbml_model('../Models/WLPathway_bifurcating.xml')\n",
    "\n",
    "medium_carb = WLModel.medium\n",
    "medium_carb['EX_co_e'] = 1000\n",
    "medium_carb['EX_co2_e'] = 0\n",
    "medium_carb['EX_h2_e'] = 0\n",
    "\n",
    "medium_hom = WLModel.medium\n",
    "medium_hom['EX_co_e'] = 0\n",
    "medium_hom['EX_co2_e'] = 1000\n",
    "medium_hom['EX_h2_e'] = 1000"
   ]
  },
  {
   "cell_type": "code",
   "execution_count": 3,
   "metadata": {},
   "outputs": [
    {
     "name": "stdout",
     "output_type": "stream",
     "text": [
      "Carboxydotrophic acetate production flux:  1.0 \n",
      "\n",
      "Homoacetogenic acetate production flux:  1.0 \n",
      "\n",
      "Carboxydotroph: 4.0 CO + 0.33 H2O => 2.0 CO2 + 1 acetate\n",
      "Homoacetogen: 2.0 CO2 + 4.0 H2 => 2.33 H2O + 1 acetate\n",
      "Carboxydotrophic acetate yield: 0.5 [Cmol/emol]\n",
      "Homoacetogenic acetate yield: 0.5 [Cmol/emol]\n"
     ]
    }
   ],
   "source": [
    "WLModel.objective = \"EX_ac_e\"\n",
    "\n",
    "with WLModel:\n",
    "    WLModel.medium = medium_carb\n",
    "    print(\"Carboxydotrophic acetate production flux: \", WLModel.slim_optimize(), \"\\n\")\n",
    "    Acetate_ex_carb = WLModel.slim_optimize()\n",
    "    CO2_exc_carb = WLModel.reactions.EX_co2_e.flux/Acetate_ex_carb\n",
    "    H2_exc_carb = WLModel.reactions.EX_h2_e.flux/Acetate_ex_carb\n",
    "    CO_exc_carb = WLModel.reactions.EX_co_e.flux/Acetate_ex_carb\n",
    "    H2O_exc_carb = WLModel.reactions.EX_h2o_e.flux/Acetate_ex_carb\n",
    "\n",
    "with WLModel:\n",
    "    WLModel.medium = medium_hom\n",
    "    print(\"Homoacetogenic acetate production flux: \", WLModel.slim_optimize(), \"\\n\")\n",
    "    Acetate_ex_hom = WLModel.slim_optimize()\n",
    "    CO2_exc_hom = WLModel.reactions.EX_co2_e.flux/Acetate_ex_carb\n",
    "    H2_exc_hom = WLModel.reactions.EX_h2_e.flux/Acetate_ex_carb\n",
    "    CO_exc_hom = WLModel.reactions.EX_co_e.flux/Acetate_ex_carb\n",
    "    H2O_exc_hom = WLModel.reactions.EX_h2o_e.flux/Acetate_ex_carb\n",
    "    \n",
    "print(f\"Carboxydotroph: {-CO_exc_carb} CO + {round(-H2O_exc_carb,2)} H2O => {CO2_exc_carb} CO2 + {1} acetate\")\n",
    "print(f\"Homoacetogen: {-CO2_exc_hom} CO2 + {-H2_exc_hom} H2 => {round(H2O_exc_hom,2)} H2O + {1} acetate\")\n",
    "\n",
    "Y_IE_carb = -1/CO_exc_carb*2\n",
    "Y_IE_hom = -1/H2_exc_hom*2\n",
    "print(f\"Carboxydotrophic acetate yield: {Y_IE_carb} [Cmol/emol]\")\n",
    "print(f\"Homoacetogenic acetate yield: {Y_IE_hom} [Cmol/emol]\")"
   ]
  },
  {
   "cell_type": "markdown",
   "metadata": {},
   "source": [
    "# Add Heterotroph GEM"
   ]
  },
  {
   "cell_type": "code",
   "execution_count": 4,
   "metadata": {},
   "outputs": [],
   "source": [
    "#Bsubt = cobra.io.read_sbml_model(join(data_dir,'Models/iJO1366.xml'))\n",
    "Geob = cobra.io.read_sbml_model('../Models/p-thermo_anaerob_actn.xml')\n",
    "\n",
    "Geob.reactions.GAPDH.bounds = 0,1000 #Futile cycle discovered, due to error in bounds\n",
    "\n",
    "#Fix bounds for acetate uptake\n",
    "Geob.reactions.PTAr.bounds = -1000,1000\n",
    "Geob.reactions.ACKr.bounds = -1000,1000"
   ]
  },
  {
   "cell_type": "markdown",
   "metadata": {},
   "source": [
    "Change objective function and remove constraints for ATP uptake for maintenance. This allows to ignore both GAM and NGAM"
   ]
  },
  {
   "cell_type": "code",
   "execution_count": 5,
   "metadata": {},
   "outputs": [
    {
     "name": "stdout",
     "output_type": "stream",
     "text": [
      "aerobic acetate for growth\n",
      "Substrate to oxygen ratio: 0.27 [Cmol/mol]\n"
     ]
    },
    {
     "data": {
      "text/html": [
       "<h3>Objective</h3><p>1.0 biomass = 0.0047826437955476595</p><h4>Uptake</h4><table border=\"1\" class=\"dataframe\">\n",
       "  <thead>\n",
       "    <tr style=\"text-align: right;\">\n",
       "      <th>Metabolite</th>\n",
       "      <th>Reaction</th>\n",
       "      <th>Flux</th>\n",
       "      <th>C-Number</th>\n",
       "      <th>C-Flux</th>\n",
       "    </tr>\n",
       "  </thead>\n",
       "  <tbody>\n",
       "    <tr>\n",
       "      <td>ac_e</td>\n",
       "      <td>EX_ac_e</td>\n",
       "      <td>1</td>\n",
       "      <td>2</td>\n",
       "      <td>100.00%</td>\n",
       "    </tr>\n",
       "    <tr>\n",
       "      <td>ca2_e</td>\n",
       "      <td>EX_ca2_e</td>\n",
       "      <td>1.345E-05</td>\n",
       "      <td>0</td>\n",
       "      <td>0.00%</td>\n",
       "    </tr>\n",
       "    <tr>\n",
       "      <td>cobalt2_e</td>\n",
       "      <td>EX_cobalt2_e</td>\n",
       "      <td>9.523E-07</td>\n",
       "      <td>0</td>\n",
       "      <td>0.00%</td>\n",
       "    </tr>\n",
       "    <tr>\n",
       "      <td>fe2_e</td>\n",
       "      <td>EX_fe2_e</td>\n",
       "      <td>0.0001481</td>\n",
       "      <td>0</td>\n",
       "      <td>0.00%</td>\n",
       "    </tr>\n",
       "    <tr>\n",
       "      <td>h_e</td>\n",
       "      <td>EX_h_e</td>\n",
       "      <td>0.9655</td>\n",
       "      <td>0</td>\n",
       "      <td>0.00%</td>\n",
       "    </tr>\n",
       "    <tr>\n",
       "      <td>k_e</td>\n",
       "      <td>EX_k_e</td>\n",
       "      <td>0.003024</td>\n",
       "      <td>0</td>\n",
       "      <td>0.00%</td>\n",
       "    </tr>\n",
       "    <tr>\n",
       "      <td>mg2_e</td>\n",
       "      <td>EX_mg2_e</td>\n",
       "      <td>0.0004185</td>\n",
       "      <td>0</td>\n",
       "      <td>0.00%</td>\n",
       "    </tr>\n",
       "    <tr>\n",
       "      <td>nh4_e</td>\n",
       "      <td>EX_nh4_e</td>\n",
       "      <td>0.04131</td>\n",
       "      <td>0</td>\n",
       "      <td>0.00%</td>\n",
       "    </tr>\n",
       "    <tr>\n",
       "      <td>o2_e</td>\n",
       "      <td>EX_o2_e</td>\n",
       "      <td>1.82</td>\n",
       "      <td>0</td>\n",
       "      <td>0.00%</td>\n",
       "    </tr>\n",
       "    <tr>\n",
       "      <td>pi_e</td>\n",
       "      <td>EX_pi_e</td>\n",
       "      <td>0.003703</td>\n",
       "      <td>0</td>\n",
       "      <td>0.00%</td>\n",
       "    </tr>\n",
       "    <tr>\n",
       "      <td>so4_e</td>\n",
       "      <td>EX_so4_e</td>\n",
       "      <td>0.0009183</td>\n",
       "      <td>0</td>\n",
       "      <td>0.00%</td>\n",
       "    </tr>\n",
       "  </tbody>\n",
       "</table><h4>Secretion</h4><table border=\"1\" class=\"dataframe\">\n",
       "  <thead>\n",
       "    <tr style=\"text-align: right;\">\n",
       "      <th>Metabolite</th>\n",
       "      <th>Reaction</th>\n",
       "      <th>Flux</th>\n",
       "      <th>C-Number</th>\n",
       "      <th>C-Flux</th>\n",
       "    </tr>\n",
       "  </thead>\n",
       "  <tbody>\n",
       "    <tr>\n",
       "      <td>diur_c</td>\n",
       "      <td>DM_diur_c</td>\n",
       "      <td>-9.523E-07</td>\n",
       "      <td>4</td>\n",
       "      <td>0.00%</td>\n",
       "    </tr>\n",
       "    <tr>\n",
       "      <td>Biomass_e</td>\n",
       "      <td>EX_Biomass_e</td>\n",
       "      <td>-0.004783</td>\n",
       "      <td>10</td>\n",
       "      <td>2.55%</td>\n",
       "    </tr>\n",
       "    <tr>\n",
       "      <td>co2_e</td>\n",
       "      <td>EX_co2_e</td>\n",
       "      <td>-1.828</td>\n",
       "      <td>1</td>\n",
       "      <td>97.45%</td>\n",
       "    </tr>\n",
       "    <tr>\n",
       "      <td>h2o_e</td>\n",
       "      <td>EX_h2o_e</td>\n",
       "      <td>-1.907</td>\n",
       "      <td>0</td>\n",
       "      <td>0.00%</td>\n",
       "    </tr>\n",
       "  </tbody>\n",
       "</table>"
      ],
      "text/plain": [
       "<cobra.summary.model_summary.ModelSummary at 0x7fde14ebcb70>"
      ]
     },
     "execution_count": 5,
     "metadata": {},
     "output_type": "execute_result"
    }
   ],
   "source": [
    "medium = Geob.medium\n",
    "medium[\"EX_glc__D_e\"] = 0\n",
    "medium[\"EX_o2_e\"] = 1000\n",
    "medium[\"EX_ac_e\"] = 1\n",
    "Geob.medium = medium\n",
    "\n",
    "solution1 = cobra.flux_analysis.pfba(Geob)\n",
    "#Y_PI_1 = -(solution1.fluxes.EX_act_e*3)/(solution1.fluxes.EX_ac_e*2)\n",
    "Y_SO_1 = solution1.fluxes.EX_ac_e/2/solution1.fluxes.EX_o2_e\n",
    "\n",
    "#print(f\"Heterotrophic acetone yield on acetate: {round(Y_PI_1,2)} [Cmol/Cmol]\")\n",
    "\n",
    "print(\"aerobic acetate for growth\")\n",
    "print(f\"Substrate to oxygen ratio: {round(Y_SO_1,2)} [Cmol/mol]\")\n",
    "Geob.summary()"
   ]
  },
  {
   "cell_type": "code",
   "execution_count": 6,
   "metadata": {},
   "outputs": [
    {
     "data": {
      "application/vnd.jupyter.widget-view+json": {
       "model_id": "ba131de3de6b47acaee94fce3e473e16",
       "version_major": 2,
       "version_minor": 0
      },
      "text/plain": [
       "Builder(reaction_data={'IDPh': 0.011012510828839774, 'CAT': 4.186575639938549e-06, 'PDHam1hi': 0.0, 'HYDA': 0.…"
      ]
     },
     "metadata": {},
     "output_type": "display_data"
    }
   ],
   "source": [
    "Builder(model = Geob, map_json = '../Models/EscherMaps/P-thermo_ReversibleAcetateMet.json', reaction_data = solution1.fluxes.to_dict())"
   ]
  },
  {
   "cell_type": "code",
   "execution_count": 7,
   "metadata": {},
   "outputs": [
    {
     "data": {
      "text/plain": [
       "(0, 1000)"
      ]
     },
     "execution_count": 7,
     "metadata": {},
     "output_type": "execute_result"
    }
   ],
   "source": [
    "Geob.objective = \"EX_act_e\" #don't force growth\n",
    "\n",
    "Geob.reactions.ATPM.bounds = 0,1000 #Ignore NGAM\n",
    "Geob.reactions.ATPM.bounds"
   ]
  },
  {
   "cell_type": "code",
   "execution_count": 8,
   "metadata": {},
   "outputs": [
    {
     "name": "stdout",
     "output_type": "stream",
     "text": [
      "Heterotrophic acetone yield on acetate: 0.71 [Cmol/Cmol]\n",
      "Substrate to oxygen ratio: 4.69\n"
     ]
    },
    {
     "data": {
      "text/html": [
       "<h3>Objective</h3><p>1.0 EX_act_e = 0.4733333333333334</p><h4>Uptake</h4><table border=\"1\" class=\"dataframe\">\n",
       "  <thead>\n",
       "    <tr style=\"text-align: right;\">\n",
       "      <th>Metabolite</th>\n",
       "      <th>Reaction</th>\n",
       "      <th>Flux</th>\n",
       "      <th>C-Number</th>\n",
       "      <th>C-Flux</th>\n",
       "    </tr>\n",
       "  </thead>\n",
       "  <tbody>\n",
       "    <tr>\n",
       "      <td>ac_e</td>\n",
       "      <td>EX_ac_e</td>\n",
       "      <td>1</td>\n",
       "      <td>2</td>\n",
       "      <td>100.00%</td>\n",
       "    </tr>\n",
       "    <tr>\n",
       "      <td>h_e</td>\n",
       "      <td>EX_h_e</td>\n",
       "      <td>1</td>\n",
       "      <td>0</td>\n",
       "      <td>0.00%</td>\n",
       "    </tr>\n",
       "    <tr>\n",
       "      <td>o2_e</td>\n",
       "      <td>EX_o2_e</td>\n",
       "      <td>0.1067</td>\n",
       "      <td>0</td>\n",
       "      <td>0.00%</td>\n",
       "    </tr>\n",
       "  </tbody>\n",
       "</table><h4>Secretion</h4><table border=\"1\" class=\"dataframe\">\n",
       "  <thead>\n",
       "    <tr style=\"text-align: right;\">\n",
       "      <th>Metabolite</th>\n",
       "      <th>Reaction</th>\n",
       "      <th>Flux</th>\n",
       "      <th>C-Number</th>\n",
       "      <th>C-Flux</th>\n",
       "    </tr>\n",
       "  </thead>\n",
       "  <tbody>\n",
       "    <tr>\n",
       "      <td>act_e</td>\n",
       "      <td>EX_act_e</td>\n",
       "      <td>-0.4733</td>\n",
       "      <td>3</td>\n",
       "      <td>71.00%</td>\n",
       "    </tr>\n",
       "    <tr>\n",
       "      <td>co2_e</td>\n",
       "      <td>EX_co2_e</td>\n",
       "      <td>-0.58</td>\n",
       "      <td>1</td>\n",
       "      <td>29.00%</td>\n",
       "    </tr>\n",
       "    <tr>\n",
       "      <td>h2o_e</td>\n",
       "      <td>EX_h2o_e</td>\n",
       "      <td>-0.58</td>\n",
       "      <td>0</td>\n",
       "      <td>0.00%</td>\n",
       "    </tr>\n",
       "  </tbody>\n",
       "</table>"
      ],
      "text/plain": [
       "<cobra.summary.model_summary.ModelSummary at 0x7fde14dfa748>"
      ]
     },
     "execution_count": 8,
     "metadata": {},
     "output_type": "execute_result"
    }
   ],
   "source": [
    "solution2 = cobra.flux_analysis.pfba(Geob)\n",
    "\n",
    "Y_PI_2 = -(solution2.fluxes.EX_act_e*3)/(solution2.fluxes.EX_ac_e*2)\n",
    "Y_SO_2 = (solution2.fluxes.EX_ac_e/2)/solution2.fluxes.EX_o2_e\n",
    "\n",
    "print(f\"Heterotrophic acetone yield on acetate: {round(Y_PI_2,2)} [Cmol/Cmol]\")\n",
    "print(f\"Substrate to oxygen ratio: {round(Y_SO_2,2)}\")\n",
    "\n",
    "Geob.summary()"
   ]
  },
  {
   "cell_type": "code",
   "execution_count": 9,
   "metadata": {},
   "outputs": [
    {
     "data": {
      "application/vnd.jupyter.widget-view+json": {
       "model_id": "2560c82ec74442848c59cfa6ad06f404",
       "version_major": 2,
       "version_minor": 0
      },
      "text/plain": [
       "Builder(reaction_data={'IDPh': 0.0, 'CAT': 0.0, 'PDHam1hi': 0.0, 'HYDA': 0.0, 'MALHYDRO': 0.0, 'PPBNGS': 0.0, …"
      ]
     },
     "metadata": {},
     "output_type": "display_data"
    }
   ],
   "source": [
    "Builder(model = Geob, map_json = '../Models/EscherMaps/P-thermo_AcetateDegrad.json', reaction_data = solution2.fluxes.to_dict())"
   ]
  },
  {
   "cell_type": "markdown",
   "metadata": {},
   "source": [
    "More or less in accordance with:  10.3390/ijms21228777\n",
    "Check and compare critically though"
   ]
  },
  {
   "cell_type": "code",
   "execution_count": 10,
   "metadata": {},
   "outputs": [
    {
     "data": {
      "application/vnd.jupyter.widget-view+json": {
       "model_id": "ae5f20ea358e4be28760a4edb99c1858",
       "version_major": 2,
       "version_minor": 0
      },
      "text/plain": [
       "Builder(reaction_data={'IDPh': 0.0, 'CAT': 0.0, 'PDHam1hi': 0.0, 'HYDA': 0.0, 'MALHYDRO': 0.0, 'PPBNGS': 0.0, …"
      ]
     },
     "metadata": {},
     "output_type": "display_data"
    }
   ],
   "source": [
    "Builder(model = Geob, map_json = '../Models/EscherMaps/AcetonePathway.json', reaction_data = solution2.fluxes.to_dict())"
   ]
  },
  {
   "cell_type": "markdown",
   "metadata": {},
   "source": [
    "# Combine into Yields"
   ]
  },
  {
   "cell_type": "code",
   "execution_count": 11,
   "metadata": {},
   "outputs": [
    {
     "name": "stdout",
     "output_type": "stream",
     "text": [
      "Succesive carboxydotrophic acetone yield: 0.36 [Cmol/emol]\n",
      "Succesive homoacetogenic acetone yield: 0.36 [Cmol/emol]\n"
     ]
    }
   ],
   "source": [
    "print(f\"Succesive carboxydotrophic acetone yield: {round(Y_IE_carb*Y_PI_2,2)} [Cmol/emol]\")\n",
    "print(f\"Succesive homoacetogenic acetone yield: {round(Y_IE_hom*Y_PI_2,2)} [Cmol/emol]\")"
   ]
  }
 ],
 "metadata": {
  "kernelspec": {
   "display_name": "dFBACoCultivation",
   "language": "python",
   "name": "dfbacocultivation"
  },
  "language_info": {
   "codemirror_mode": {
    "name": "ipython",
    "version": 3
   },
   "file_extension": ".py",
   "mimetype": "text/x-python",
   "name": "python",
   "nbconvert_exporter": "python",
   "pygments_lexer": "ipython3",
   "version": "3.6.12"
  }
 },
 "nbformat": 4,
 "nbformat_minor": 4
}
