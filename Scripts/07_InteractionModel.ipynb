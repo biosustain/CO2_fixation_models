{
 "cells": [
  {
   "cell_type": "code",
   "execution_count": 1,
   "metadata": {},
   "outputs": [
    {
     "name": "stdout",
     "output_type": "stream",
     "text": [
      "Using license file /Users/phivri/gurobi.lic\n",
      "Academic license - for non-commercial use only - expires 2022-07-23\n"
     ]
    }
   ],
   "source": [
    "import numpy as np\n",
    "import pandas as pd\n",
    "import cobra.io\n",
    "import escher\n",
    "from escher import Builder\n",
    "from cobra import Model, Reaction, Metabolite\n",
    "from os.path import join\n",
    "\n",
    "data_dir = \"/Users/phivri/Documents/GitHub/Biosustain/MoGeoModel\"\n",
    "\n",
    "WLModel = cobra.io.read_sbml_model(join(data_dir,'Models/WLPathway_bifurcating.xml'))"
   ]
  },
  {
   "cell_type": "code",
   "execution_count": 2,
   "metadata": {},
   "outputs": [],
   "source": [
    "medium_carb = WLModel.medium\n",
    "medium_carb['EX_co_e'] = 1000\n",
    "medium_carb['EX_co2_e'] = 0\n",
    "medium_carb['EX_h2_e'] = 0\n",
    "\n",
    "medium_hom = WLModel.medium\n",
    "medium_hom['EX_co_e'] = 0\n",
    "medium_hom['EX_co2_e'] = 1000\n",
    "medium_hom['EX_h2_e'] = 1000"
   ]
  },
  {
   "cell_type": "code",
   "execution_count": 3,
   "metadata": {},
   "outputs": [
    {
     "name": "stdout",
     "output_type": "stream",
     "text": [
      "Carboxydotrophic acetate production flux:  1.0 \n",
      "\n",
      "Homoacetogenic acetate production flux:  1.0 \n",
      "\n",
      "Carboxydotroph: 4.0 CO + 0.33 H2O => 2.0 CO2 + 1 acetate\n",
      "Homoacetogen: 2.0 CO2 + 4.0 H2 => 2.33 H2O + 1 acetate\n",
      "Carboxydotrophic acetate yield: 0.5 [Cmol/emol]\n",
      "Homoacetogenic acetate yield: 0.5 [Cmol/emol]\n"
     ]
    }
   ],
   "source": [
    "WLModel.objective = \"EX_ac_e\"\n",
    "\n",
    "with WLModel:\n",
    "    WLModel.medium = medium_carb\n",
    "    print(\"Carboxydotrophic acetate production flux: \", WLModel.slim_optimize(), \"\\n\")\n",
    "    Acetate_ex_carb = WLModel.slim_optimize()\n",
    "    CO2_exc_carb = WLModel.reactions.EX_co2_e.flux/Acetate_ex_carb\n",
    "    H2_exc_carb = WLModel.reactions.EX_h2_e.flux/Acetate_ex_carb\n",
    "    CO_exc_carb = WLModel.reactions.EX_co_e.flux/Acetate_ex_carb\n",
    "    H2O_exc_carb = WLModel.reactions.EX_h2o_e.flux/Acetate_ex_carb\n",
    "\n",
    "with WLModel:\n",
    "    WLModel.medium = medium_hom\n",
    "    print(\"Homoacetogenic acetate production flux: \", WLModel.slim_optimize(), \"\\n\")\n",
    "    Acetate_ex_hom = WLModel.slim_optimize()\n",
    "    CO2_exc_hom = WLModel.reactions.EX_co2_e.flux/Acetate_ex_carb\n",
    "    H2_exc_hom = WLModel.reactions.EX_h2_e.flux/Acetate_ex_carb\n",
    "    CO_exc_hom = WLModel.reactions.EX_co_e.flux/Acetate_ex_carb\n",
    "    H2O_exc_hom = WLModel.reactions.EX_h2o_e.flux/Acetate_ex_carb\n",
    "    \n",
    "print(f\"Carboxydotroph: {-CO_exc_carb} CO + {round(-H2O_exc_carb,2)} H2O => {CO2_exc_carb} CO2 + {1} acetate\")\n",
    "print(f\"Homoacetogen: {-CO2_exc_hom} CO2 + {-H2_exc_hom} H2 => {round(H2O_exc_hom,2)} H2O + {1} acetate\")\n",
    "\n",
    "Y_IE_carb = -1/CO_exc_carb*2\n",
    "Y_IE_hom = -1/H2_exc_hom*2\n",
    "print(f\"Carboxydotrophic acetate yield: {Y_IE_carb} [Cmol/emol]\")\n",
    "print(f\"Homoacetogenic acetate yield: {Y_IE_hom} [Cmol/emol]\")"
   ]
  },
  {
   "cell_type": "markdown",
   "metadata": {},
   "source": [
    "# Add Heterotroph"
   ]
  },
  {
   "cell_type": "code",
   "execution_count": 5,
   "metadata": {},
   "outputs": [],
   "source": [
    "#Bsubt = cobra.io.read_sbml_model(join(data_dir,'Models/iJO1366.xml'))\n",
    "Geob = cobra.io.read_sbml_model(join(data_dir,'Models/p-thermo_anaerob_actn.xml'))"
   ]
  },
  {
   "cell_type": "markdown",
   "metadata": {},
   "source": [
    "Change objective function and remove constraints for ATP uptake for maintenance. This allows to ignore both GAM and NGAM"
   ]
  },
  {
   "cell_type": "code",
   "execution_count": 6,
   "metadata": {},
   "outputs": [
    {
     "data": {
      "text/plain": [
       "(0, 1000)"
      ]
     },
     "execution_count": 6,
     "metadata": {},
     "output_type": "execute_result"
    }
   ],
   "source": [
    "Geob.objective = \"EX_act_e\" #don't force growth\n",
    "\n",
    "Geob.reactions.ATPM.bounds = 0,1000 #Ignore NGAM\n",
    "Geob.reactions.GAPDH.bounds = 0,1000 #Futile cycle discovered, due to error in bounds\n",
    "Geob.reactions.ATPM.bounds"
   ]
  },
  {
   "cell_type": "code",
   "execution_count": 7,
   "metadata": {},
   "outputs": [
    {
     "name": "stdout",
     "output_type": "stream",
     "text": [
      "Heterotrophic acetone yield on acetate:  0.62 [Cmol/Cmol]\n"
     ]
    },
    {
     "data": {
      "text/html": [
       "<h3>Objective</h3><p>1.0 EX_act_e = 0.4104477611940298</p><h4>Uptake</h4><table border=\"1\" class=\"dataframe\">\n",
       "  <thead>\n",
       "    <tr style=\"text-align: right;\">\n",
       "      <th>Metabolite</th>\n",
       "      <th>Reaction</th>\n",
       "      <th>Flux</th>\n",
       "      <th>C-Number</th>\n",
       "      <th>C-Flux</th>\n",
       "    </tr>\n",
       "  </thead>\n",
       "  <tbody>\n",
       "    <tr>\n",
       "      <td>ac_e</td>\n",
       "      <td>EX_ac_e</td>\n",
       "      <td>1</td>\n",
       "      <td>2</td>\n",
       "      <td>100.00%</td>\n",
       "    </tr>\n",
       "    <tr>\n",
       "      <td>h_e</td>\n",
       "      <td>EX_h_e</td>\n",
       "      <td>1</td>\n",
       "      <td>0</td>\n",
       "      <td>0.00%</td>\n",
       "    </tr>\n",
       "    <tr>\n",
       "      <td>o2_e</td>\n",
       "      <td>EX_o2_e</td>\n",
       "      <td>0.3582</td>\n",
       "      <td>0</td>\n",
       "      <td>0.00%</td>\n",
       "    </tr>\n",
       "  </tbody>\n",
       "</table><h4>Secretion</h4><table border=\"1\" class=\"dataframe\">\n",
       "  <thead>\n",
       "    <tr style=\"text-align: right;\">\n",
       "      <th>Metabolite</th>\n",
       "      <th>Reaction</th>\n",
       "      <th>Flux</th>\n",
       "      <th>C-Number</th>\n",
       "      <th>C-Flux</th>\n",
       "    </tr>\n",
       "  </thead>\n",
       "  <tbody>\n",
       "    <tr>\n",
       "      <td>act_e</td>\n",
       "      <td>EX_act_e</td>\n",
       "      <td>-0.4104</td>\n",
       "      <td>3</td>\n",
       "      <td>61.57%</td>\n",
       "    </tr>\n",
       "    <tr>\n",
       "      <td>co2_e</td>\n",
       "      <td>EX_co2_e</td>\n",
       "      <td>-0.7687</td>\n",
       "      <td>1</td>\n",
       "      <td>38.43%</td>\n",
       "    </tr>\n",
       "    <tr>\n",
       "      <td>h2o_e</td>\n",
       "      <td>EX_h2o_e</td>\n",
       "      <td>-0.7687</td>\n",
       "      <td>0</td>\n",
       "      <td>0.00%</td>\n",
       "    </tr>\n",
       "  </tbody>\n",
       "</table>"
      ],
      "text/plain": [
       "<cobra.summary.model_summary.ModelSummary at 0x7fd73d99ac88>"
      ]
     },
     "execution_count": 7,
     "metadata": {},
     "output_type": "execute_result"
    }
   ],
   "source": [
    "medium = Geob.medium\n",
    "medium[\"EX_glc__D_e\"] = 0\n",
    "medium[\"EX_o2_e\"] = 1000\n",
    "medium[\"EX_ac_e\"] = 1\n",
    "Geob.medium = medium\n",
    "\n",
    "solution = cobra.flux_analysis.pfba(Geob)\n",
    "Y_PI = Geob.slim_optimize()*3/(1*2)\n",
    "\n",
    "print(\"Heterotrophic acetone yield on acetate: \", round(Y_PI,2), \"[Cmol/Cmol]\")\n",
    "\n",
    "Geob.summary()"
   ]
  },
  {
   "cell_type": "code",
   "execution_count": 8,
   "metadata": {},
   "outputs": [
    {
     "data": {
      "application/vnd.jupyter.widget-view+json": {
       "model_id": "99878ec2ee354c6ab7b6fc472aaa4dfa",
       "version_major": 2,
       "version_minor": 0
      },
      "text/plain": [
       "Builder(reaction_data={'IDPh': 0.5895522388059702, 'CAT': 0.0, 'PDHam1hi': 0.0, 'HYDA': 0.0, 'MALHYDRO': 0.0, …"
      ]
     },
     "metadata": {},
     "output_type": "display_data"
    }
   ],
   "source": [
    "Builder(model = Geob, map_json = join(data_dir,'Models/EscherMaps/P-thermo_AcetateDegrad.json'), reaction_data = solution.fluxes.to_dict())"
   ]
  },
  {
   "cell_type": "markdown",
   "metadata": {},
   "source": [
    "More or less in accordance with:  10.3390/ijms21228777\n",
    "Check and compare critically though"
   ]
  },
  {
   "cell_type": "code",
   "execution_count": 9,
   "metadata": {},
   "outputs": [
    {
     "name": "stdout",
     "output_type": "stream",
     "text": [
      "Succesive carboxydotrophic acetone yield: 0.31 [Cmol/emol]\n",
      "Succesive homoacetogenic acetone yield: 0.31 [Cmol/emol]\n"
     ]
    }
   ],
   "source": [
    "print(f\"Succesive carboxydotrophic acetone yield: {round(Y_IE_carb*Y_PI,2)} [Cmol/emol]\")\n",
    "print(f\"Succesive homoacetogenic acetone yield: {round(Y_IE_hom*Y_PI,2)} [Cmol/emol]\")"
   ]
  },
  {
   "cell_type": "code",
   "execution_count": 12,
   "metadata": {},
   "outputs": [
    {
     "data": {
      "application/vnd.jupyter.widget-view+json": {
       "model_id": "5d9b11e95ea74bfa94c3819771e486f6",
       "version_major": 2,
       "version_minor": 0
      },
      "text/plain": [
       "Builder(reaction_data={'IDPh': 0.5895522388059702, 'CAT': 0.0, 'PDHam1hi': 0.0, 'HYDA': 0.0, 'MALHYDRO': 0.0, …"
      ]
     },
     "metadata": {},
     "output_type": "display_data"
    }
   ],
   "source": [
    "Builder(model = Geob, map_json = join(data_dir,'Models/EscherMaps/PublishedMaps/iJO1366.CentralMetabolism.json'), reaction_data = solution.fluxes.to_dict())"
   ]
  },
  {
   "cell_type": "code",
   "execution_count": 14,
   "metadata": {},
   "outputs": [
    {
     "data": {
      "application/vnd.jupyter.widget-view+json": {
       "model_id": "a2d9c5c2ffe940b098421c8d433f6aac",
       "version_major": 2,
       "version_minor": 0
      },
      "text/plain": [
       "Builder(reaction_data={'IDPh': 0.5895522388059702, 'CAT': 0.0, 'PDHam1hi': 0.0, 'HYDA': 0.0, 'MALHYDRO': 0.0, …"
      ]
     },
     "metadata": {},
     "output_type": "display_data"
    }
   ],
   "source": [
    "Builder(model = Geob, map_json = join(data_dir,'Models/EscherMaps/AcetonePathway.json'), reaction_data = solution.fluxes.to_dict())"
   ]
  }
 ],
 "metadata": {
  "kernelspec": {
   "display_name": "dFBACoCultivation",
   "language": "python",
   "name": "dfbacocultivation"
  },
  "language_info": {
   "codemirror_mode": {
    "name": "ipython",
    "version": 3
   },
   "file_extension": ".py",
   "mimetype": "text/x-python",
   "name": "python",
   "nbconvert_exporter": "python",
   "pygments_lexer": "ipython3",
   "version": "3.6.12"
  }
 },
 "nbformat": 4,
 "nbformat_minor": 4
}
