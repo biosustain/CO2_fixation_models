{
 "cells": [
  {
   "cell_type": "markdown",
   "metadata": {},
   "source": [
    "# Supplementary Notebook S02: Gibbs Free Energies of Acetogenic Products\n",
    "\n",
    "This notebook is supplementary to the the research paper titled:\n",
    "\n",
    "Optimizing acetogenic CO(2) utilization through metabolic and process engineering highlights the potential of thermophilic bioproduction\n",
    "\n",
    "It contains functions to balance the stoichiometries of overall reactions of acetogenesis for different main products, to calculate the gibbs free energies of reaction."
   ]
  },
  {
   "cell_type": "code",
   "execution_count": 3,
   "metadata": {},
   "outputs": [],
   "source": [
    "import numpy as np\n",
    "import pandas as pd\n",
    "import matplotlib.pyplot as plt\n",
    "import math"
   ]
  },
  {
   "cell_type": "code",
   "execution_count": 194,
   "metadata": {},
   "outputs": [
    {
     "data": {
      "text/html": [
       "<div>\n",
       "<style scoped>\n",
       "    .dataframe tbody tr th:only-of-type {\n",
       "        vertical-align: middle;\n",
       "    }\n",
       "\n",
       "    .dataframe tbody tr th {\n",
       "        vertical-align: top;\n",
       "    }\n",
       "\n",
       "    .dataframe thead th {\n",
       "        text-align: right;\n",
       "    }\n",
       "</style>\n",
       "<table border=\"1\" class=\"dataframe\">\n",
       "  <thead>\n",
       "    <tr style=\"text-align: right;\">\n",
       "      <th></th>\n",
       "      <th>C</th>\n",
       "      <th>H</th>\n",
       "      <th>O</th>\n",
       "      <th>form</th>\n",
       "    </tr>\n",
       "  </thead>\n",
       "  <tbody>\n",
       "    <tr>\n",
       "      <th>Methane</th>\n",
       "      <td>1</td>\n",
       "      <td>4</td>\n",
       "      <td>0</td>\n",
       "      <td>C1H4O0</td>\n",
       "    </tr>\n",
       "    <tr>\n",
       "      <th>Acetate</th>\n",
       "      <td>2</td>\n",
       "      <td>4</td>\n",
       "      <td>2</td>\n",
       "      <td>C2H4O2</td>\n",
       "    </tr>\n",
       "    <tr>\n",
       "      <th>Acetone</th>\n",
       "      <td>3</td>\n",
       "      <td>6</td>\n",
       "      <td>1</td>\n",
       "      <td>C3H6O1</td>\n",
       "    </tr>\n",
       "    <tr>\n",
       "      <th>Ethanol</th>\n",
       "      <td>2</td>\n",
       "      <td>6</td>\n",
       "      <td>1</td>\n",
       "      <td>C2H6O1</td>\n",
       "    </tr>\n",
       "    <tr>\n",
       "      <th>Propanol</th>\n",
       "      <td>3</td>\n",
       "      <td>8</td>\n",
       "      <td>1</td>\n",
       "      <td>C3H8O1</td>\n",
       "    </tr>\n",
       "    <tr>\n",
       "      <th>Butanol</th>\n",
       "      <td>4</td>\n",
       "      <td>10</td>\n",
       "      <td>1</td>\n",
       "      <td>C4H10O1</td>\n",
       "    </tr>\n",
       "    <tr>\n",
       "      <th>Butyrate</th>\n",
       "      <td>4</td>\n",
       "      <td>8</td>\n",
       "      <td>2</td>\n",
       "      <td>C4H8O2</td>\n",
       "    </tr>\n",
       "    <tr>\n",
       "      <th>Butanediol</th>\n",
       "      <td>4</td>\n",
       "      <td>10</td>\n",
       "      <td>2</td>\n",
       "      <td>C4H10O2</td>\n",
       "    </tr>\n",
       "  </tbody>\n",
       "</table>\n",
       "</div>"
      ],
      "text/plain": [
       "            C   H  O     form\n",
       "Methane     1   4  0   C1H4O0\n",
       "Acetate     2   4  2   C2H4O2\n",
       "Acetone     3   6  1   C3H6O1\n",
       "Ethanol     2   6  1   C2H6O1\n",
       "Propanol    3   8  1   C3H8O1\n",
       "Butanol     4  10  1  C4H10O1\n",
       "Butyrate    4   8  2   C4H8O2\n",
       "Butanediol  4  10  2  C4H10O2"
      ]
     },
     "execution_count": 194,
     "metadata": {},
     "output_type": "execute_result"
    }
   ],
   "source": [
    "ElemFormulae = pd.DataFrame({\n",
    "    \"Methane\": [1,4,0],\n",
    "    \"Acetate\": [2,4,2],\n",
    "    \"Acetone\": [3,6,1],\n",
    "    \"Ethanol\": [2,6,1],\n",
    "    \"Propanol\": [3,8,1],\n",
    "    \"Butanol\": [4,10,1],\n",
    "    \"Butyrate\": [4,8,2],\n",
    "    \"Butanediol\": [4,10,2]},\n",
    "    index=pd.Index([\"C\",\"H\",\"O\"])).T\n",
    "\n",
    "ElemFormulae[\"form\"] = \"C\" + ElemFormulae[\"C\"].astype(str) + \"H\" + ElemFormulae[\"H\"].astype(str) + \"O\" + ElemFormulae[\"O\"].astype(str)\n",
    "ElemFormulae"
   ]
  },
  {
   "cell_type": "markdown",
   "metadata": {},
   "source": [
    "Write quick functions to balance out elements with carboxydotrophic or homoacetogenic specific substrates and by products."
   ]
  },
  {
   "cell_type": "code",
   "execution_count": 195,
   "metadata": {},
   "outputs": [
    {
     "data": {
      "text/html": [
       "<div>\n",
       "<style scoped>\n",
       "    .dataframe tbody tr th:only-of-type {\n",
       "        vertical-align: middle;\n",
       "    }\n",
       "\n",
       "    .dataframe tbody tr th {\n",
       "        vertical-align: top;\n",
       "    }\n",
       "\n",
       "    .dataframe thead th {\n",
       "        text-align: right;\n",
       "    }\n",
       "</style>\n",
       "<table border=\"1\" class=\"dataframe\">\n",
       "  <thead>\n",
       "    <tr style=\"text-align: right;\">\n",
       "      <th></th>\n",
       "      <th>CO</th>\n",
       "      <th>Water</th>\n",
       "      <th>CO2</th>\n",
       "    </tr>\n",
       "  </thead>\n",
       "  <tbody>\n",
       "    <tr>\n",
       "      <th>Methane</th>\n",
       "      <td>-4</td>\n",
       "      <td>-2</td>\n",
       "      <td>3</td>\n",
       "    </tr>\n",
       "    <tr>\n",
       "      <th>Acetate</th>\n",
       "      <td>-4</td>\n",
       "      <td>-2</td>\n",
       "      <td>2</td>\n",
       "    </tr>\n",
       "    <tr>\n",
       "      <th>Acetone</th>\n",
       "      <td>-8</td>\n",
       "      <td>-3</td>\n",
       "      <td>5</td>\n",
       "    </tr>\n",
       "    <tr>\n",
       "      <th>Ethanol</th>\n",
       "      <td>-6</td>\n",
       "      <td>-3</td>\n",
       "      <td>4</td>\n",
       "    </tr>\n",
       "    <tr>\n",
       "      <th>Propanol</th>\n",
       "      <td>-9</td>\n",
       "      <td>-4</td>\n",
       "      <td>6</td>\n",
       "    </tr>\n",
       "    <tr>\n",
       "      <th>Butanol</th>\n",
       "      <td>-12</td>\n",
       "      <td>-5</td>\n",
       "      <td>8</td>\n",
       "    </tr>\n",
       "    <tr>\n",
       "      <th>Butyrate</th>\n",
       "      <td>-10</td>\n",
       "      <td>-4</td>\n",
       "      <td>6</td>\n",
       "    </tr>\n",
       "    <tr>\n",
       "      <th>Butanediol</th>\n",
       "      <td>-11</td>\n",
       "      <td>-5</td>\n",
       "      <td>7</td>\n",
       "    </tr>\n",
       "  </tbody>\n",
       "</table>\n",
       "</div>"
      ],
      "text/plain": [
       "            CO  Water  CO2\n",
       "Methane     -4     -2    3\n",
       "Acetate     -4     -2    2\n",
       "Acetone     -8     -3    5\n",
       "Ethanol     -6     -3    4\n",
       "Propanol    -9     -4    6\n",
       "Butanol    -12     -5    8\n",
       "Butyrate   -10     -4    6\n",
       "Butanediol -11     -5    7"
      ]
     },
     "execution_count": 195,
     "metadata": {},
     "output_type": "execute_result"
    }
   ],
   "source": [
    "S_carb = pd.DataFrame()\n",
    "\n",
    "S_carb[\"CO\"] = -ElemFormulae[\"C\"] + ElemFormulae[\"O\"] - ElemFormulae[\"C\"] - ElemFormulae[\"H\"]/2\n",
    "S_carb[\"Water\"] = -ElemFormulae[\"H\"]/2\n",
    "S_carb[\"CO2\"] = -ElemFormulae[\"O\"] + ElemFormulae[\"C\"] + ElemFormulae[\"H\"]/2\n",
    "\n",
    "S_carb = S_carb.astype(int)\n",
    "S_carb"
   ]
  },
  {
   "cell_type": "code",
   "execution_count": 196,
   "metadata": {},
   "outputs": [
    {
     "data": {
      "text/html": [
       "<div>\n",
       "<style scoped>\n",
       "    .dataframe tbody tr th:only-of-type {\n",
       "        vertical-align: middle;\n",
       "    }\n",
       "\n",
       "    .dataframe tbody tr th {\n",
       "        vertical-align: top;\n",
       "    }\n",
       "\n",
       "    .dataframe thead th {\n",
       "        text-align: right;\n",
       "    }\n",
       "</style>\n",
       "<table border=\"1\" class=\"dataframe\">\n",
       "  <thead>\n",
       "    <tr style=\"text-align: right;\">\n",
       "      <th></th>\n",
       "      <th>H2</th>\n",
       "      <th>CO2</th>\n",
       "      <th>Water</th>\n",
       "    </tr>\n",
       "  </thead>\n",
       "  <tbody>\n",
       "    <tr>\n",
       "      <th>Methane</th>\n",
       "      <td>-4</td>\n",
       "      <td>-1</td>\n",
       "      <td>2</td>\n",
       "    </tr>\n",
       "    <tr>\n",
       "      <th>Acetate</th>\n",
       "      <td>-4</td>\n",
       "      <td>-2</td>\n",
       "      <td>2</td>\n",
       "    </tr>\n",
       "    <tr>\n",
       "      <th>Acetone</th>\n",
       "      <td>-8</td>\n",
       "      <td>-3</td>\n",
       "      <td>5</td>\n",
       "    </tr>\n",
       "    <tr>\n",
       "      <th>Ethanol</th>\n",
       "      <td>-6</td>\n",
       "      <td>-2</td>\n",
       "      <td>3</td>\n",
       "    </tr>\n",
       "    <tr>\n",
       "      <th>Propanol</th>\n",
       "      <td>-9</td>\n",
       "      <td>-3</td>\n",
       "      <td>5</td>\n",
       "    </tr>\n",
       "    <tr>\n",
       "      <th>Butanol</th>\n",
       "      <td>-12</td>\n",
       "      <td>-4</td>\n",
       "      <td>7</td>\n",
       "    </tr>\n",
       "    <tr>\n",
       "      <th>Butyrate</th>\n",
       "      <td>-10</td>\n",
       "      <td>-4</td>\n",
       "      <td>6</td>\n",
       "    </tr>\n",
       "    <tr>\n",
       "      <th>Butanediol</th>\n",
       "      <td>-11</td>\n",
       "      <td>-4</td>\n",
       "      <td>6</td>\n",
       "    </tr>\n",
       "  </tbody>\n",
       "</table>\n",
       "</div>"
      ],
      "text/plain": [
       "            H2  CO2  Water\n",
       "Methane     -4   -1      2\n",
       "Acetate     -4   -2      2\n",
       "Acetone     -8   -3      5\n",
       "Ethanol     -6   -2      3\n",
       "Propanol    -9   -3      5\n",
       "Butanol    -12   -4      7\n",
       "Butyrate   -10   -4      6\n",
       "Butanediol -11   -4      6"
      ]
     },
     "execution_count": 196,
     "metadata": {},
     "output_type": "execute_result"
    }
   ],
   "source": [
    "S_hom = pd.DataFrame()\n",
    "\n",
    "S_hom[\"H2\"] = -ElemFormulae[\"H\"]/2 + ElemFormulae[\"O\"] - 2*ElemFormulae[\"C\"]\n",
    "S_hom[\"CO2\"] = -ElemFormulae[\"C\"]\n",
    "S_hom[\"Water\"] = -ElemFormulae[\"O\"] + 2*ElemFormulae[\"C\"] \n",
    "\n",
    "\n",
    "S_hom = S_hom.astype(int)\n",
    "S_hom"
   ]
  },
  {
   "cell_type": "code",
   "execution_count": 203,
   "metadata": {},
   "outputs": [
    {
     "data": {
      "text/plain": [
       "Methane       1.227086\n",
       "Acetate       1.012952\n",
       "Acetone       1.007472\n",
       "Ethanol       0.930260\n",
       "Propanol      1.022848\n",
       "Butanol       1.031549\n",
       "Butyrate      0.994501\n",
       "Butanediol    0.797363\n",
       "dtype: float64"
      ]
     },
     "execution_count": 203,
     "metadata": {},
     "output_type": "execute_result"
    }
   ],
   "source": [
    "dG_hom = (pd.DataFrame.sum(S_hom*dfGR,axis = 1, skipna = True) + dfGR[S_hom.index])/S_hom[\"H2\"]\n",
    "dG_hom\n",
    "ATP_hom = dG_hom/37.64\n",
    "ATP_hom"
   ]
  },
  {
   "cell_type": "code",
   "execution_count": 204,
   "metadata": {},
   "outputs": [
    {
     "data": {
      "text/plain": [
       "Methane       1.749668\n",
       "Acetate       1.535534\n",
       "Acetone       1.530054\n",
       "Ethanol       1.452843\n",
       "Propanol      1.545430\n",
       "Butanol       1.554131\n",
       "Butyrate      1.517083\n",
       "Butanediol    1.319945\n",
       "dtype: float64"
      ]
     },
     "execution_count": 204,
     "metadata": {},
     "output_type": "execute_result"
    }
   ],
   "source": [
    "dG_carb = (pd.DataFrame.sum(S_carb*dfGR,axis = 1, skipna = True) + dfGR[S_carb.index])/S_carb[\"CO\"]\n",
    "dG_carb\n",
    "ATP_carb = dG_carb/37.64\n",
    "ATP_carb"
   ]
  },
  {
   "cell_type": "code",
   "execution_count": 201,
   "metadata": {},
   "outputs": [
    {
     "name": "stdout",
     "output_type": "stream",
     "text": [
      "Methane\n",
      " 4 H_2 + 1 CO_2 = 1 C1H4O0 + 2 H_2O            dGr = 46.19 [kJ/mol]\n",
      " 4 CO + 2 H_2O = 1 C1H4O0 + 3 CO_2             dGr = 65.86 [kJ/mol] \n",
      "\n",
      "Acetate\n",
      " 4 H_2 + 2 CO_2 = 1 C2H4O2 + 2 H_2O            dGr = 38.13 [kJ/mol]\n",
      " 4 CO + 2 H_2O = 1 C2H4O2 + 2 CO_2              dGr = 57.8 [kJ/mol] \n",
      "\n",
      "Acetone\n",
      " 8 H_2 + 3 CO_2 = 1 C3H6O1 + 5 H_2O            dGr = 37.92 [kJ/mol]\n",
      " 8 CO + 3 H_2O = 1 C3H6O1 + 5 CO_2             dGr = 57.59 [kJ/mol] \n",
      "\n",
      "Ethanol\n",
      " 6 H_2 + 2 CO_2 = 1 C2H6O1 + 3 H_2O            dGr = 35.01 [kJ/mol]\n",
      " 6 CO + 3 H_2O = 1 C2H6O1 + 4 CO_2             dGr = 54.68 [kJ/mol] \n",
      "\n",
      "Propanol\n",
      " 9 H_2 + 3 CO_2 = 1 C3H8O1 + 5 H_2O             dGr = 38.5 [kJ/mol]\n",
      " 9 CO + 4 H_2O = 1 C3H8O1 + 6 CO_2             dGr = 58.17 [kJ/mol] \n",
      "\n",
      "Butanol\n",
      " 12 H_2 + 4 CO_2 = 1 C4H10O1 + 7 H_2O            dGr = 38.83 [kJ/mol]\n",
      " 12 CO + 5 H_2O = 1 C4H10O1 + 8 CO_2              dGr = 58.5 [kJ/mol] \n",
      "\n",
      "Butyrate\n",
      " 10 H_2 + 4 CO_2 = 1 C4H8O2 + 6 H_2O            dGr = 37.43 [kJ/mol]\n",
      " 10 CO + 4 H_2O = 1 C4H8O2 + 6 CO_2              dGr = 57.1 [kJ/mol] \n",
      "\n",
      "Butanediol\n",
      " 11 H_2 + 4 CO_2 = 1 C4H10O2 + 6 H_2O            dGr = 30.01 [kJ/mol]\n",
      " 11 CO + 5 H_2O = 1 C4H10O2 + 7 CO_2             dGr = 49.68 [kJ/mol] \n",
      "\n"
     ]
    }
   ],
   "source": [
    "for P in S_hom.index:\n",
    "    print(P)\n",
    "    print('{:>2}  {:>30}'.format(f' {-S_hom.H2[P]} H_2 + {-S_hom.CO2[P]} CO_2 = 1 {ElemFormulae.loc[P][\"form\"]} + {S_hom.Water[P]} H_2O' , f'dGr = {round(dG_hom[P],2)} [kJ/mol]'))\n",
    "    print('{:>2}  {:>33}'.format(f' {-S_carb.CO[P]} CO + {-S_carb.Water[P]} H_2O = 1 {ElemFormulae.loc[P][\"form\"]} + {S_carb.CO2[P]} CO_2' , f'dGr = {round(dG_carb[P],2)} [kJ/mol] \\n'))"
   ]
  },
  {
   "cell_type": "code",
   "execution_count": 255,
   "metadata": {},
   "outputs": [
    {
     "data": {
      "image/png": "[encoded data removed]",
      "text/plain": [
       "<Figure size 432x288 with 1 Axes>"
      ]
     },
     "metadata": {
      "needs_background": "light"
     },
     "output_type": "display_data"
    }
   ],
   "source": [
    "X = ATP_carb.index\n",
    "X_axis = np.arange(len(X))\n",
    "  \n",
    "plt.bar(X_axis - 0.2, ATP_carb, 0.4, label = 'Carboxydotrophic')\n",
    "plt.bar(X_axis + 0.2, ATP_hom, 0.4, label = 'Homoacetogenic')\n",
    "plt.xticks(X_axis, X)\n",
    "plt.legend()\n",
    "plt.show()"
   ]
  },
  {
   "cell_type": "markdown",
   "metadata": {},
   "source": [
    "<p>Given the reaction stoichiometries:</p>\n",
    "\n",
    "Homoacetogenic, different products:\n",
    "<p>Methane: $ 4 H_2 + CO_2  <=> CH_4 + 2 H_2O $</p>\n",
    "<p>Acetate: $ 4 H_2 + 2 CO_2 <=> C_2H_4O_2 + 2 H_2O $</p>\n",
    "<p>Acetone: $ 8 H_2 + 3 CO_2 <=> C_3H_6O + 5 H_2O $</p>\n",
    "<p>Ethanol: $ 6 H_2 + 2 CO_2 <=> C_2H_6O + 3 H_2O $</p>\n",
    "<p>Propanol: $ 9 H_2 + 3 CO_2 <=> C_3H_8O + 5 H_2O $</p>\n",
    "<p>Butanol: $ 12 H_2 + 4 CO_2 <=> C_4H_{10}O + 7 H_2O $</p>\n",
    "<p>Butyrate: $ 10 H_2 + 4 CO_2 <=> C_4H_8O_2 + 6 H_2O $</p>\n",
    "<p>Butanediol: $ 11 H_2 + 4 CO_2 <=> C_4H_{10}O_2 + 6 H_2O $</p>\n",
    "\n",
    "Carboxydotrophic, different products:\n",
    "<p>Methane: $ 4 CO + 2 H_2O  <=> CH_4 + 3 CO_2 $</p>\n",
    "<p>Acetate: $ 4 CO + 2 H_2O <=> C_2H_4O_2 + 2 CO_2 $</p>\n",
    "<p>Acetone: $ 8 CO + 3 H_2O <=> C_3H_6O + 5 CO_2 $</p>\n",
    "<p>Ethanol: $ 6 CO + 3 H_2O <=> C_2H_6O + 4 CO_2 $</p>\n",
    "<p>Propanol: $ 9 CO + 4 H_2O <=> C_3H_8O + 6 CO_2 $</p>\n",
    "<p>Butanol: $ 12 CO + 5 H_2O <=> C_4H_{10}O + 8 CO_2 $</p>\n",
    "<p>Butyrate: $ 10 CO + 4 H_2O <=> C_4H_8O_2 + 6 CO_2 $</p>\n",
    "<p>Butanediol: $ 11 CO + 5 H_2O <=> C_4H_{10}O_2 + 7 CO_2 $</p>"
   ]
  },
  {
   "cell_type": "code",
   "execution_count": 15,
   "metadata": {
    "scrolled": true
   },
   "outputs": [
    {
     "name": "stdout",
     "output_type": "stream",
     "text": [
      "Gibbs energy per mol electron donor:\n",
      "  DrG0_met/S = -46.2 [kJ/mol]\n",
      "  DrG0_carb_Actt/S = -57.8 [kJ/mol]\n",
      "  DrG0_carb_Actn/S = -57.6 [kJ/mol]\n",
      "  DrG0_carb_EtOH/S = -54.7 [kJ/mol]\n",
      "  DrG0_carb_PropOH/S = -58.2 [kJ/mol]\n",
      "  DrG0_carb_ButOH/S = -58.5 [kJ/mol]\n",
      "  DrG0_carb_Butyrt/S = -57.1 [kJ/mol]\n",
      "  DrG0_carb_Butdiol/S = -49.7 [kJ/mol]\n",
      "  DrG0_hom_Actt/S = -38.1 [kJ/mol]\n",
      "  DrG0_hom_Actn/S = -37.9 [kJ/mol]\n",
      "  DrG0_hom_EtOH/S = -35.0 [kJ/mol]\n",
      "  DrG0_hom_PropOH/S = -38.5 [kJ/mol]\n",
      "  DrG0_hom_ButOH/S = -38.8 [kJ/mol]\n",
      "  DrG0_hom_Butyrt/S = -37.4 [kJ/mol]\n",
      "  DrG0_hom_Butdiol/S = -30.0 [kJ/mol]\n",
      "\n"
     ]
    }
   ],
   "source": [
    "#Hess's law on element balance reactions:\n",
    "DrG0_met = - 4*DfG0_H2 - 1*DfG0_CO2 + DfG0_CH4 + 2*DfG0_H2O\n",
    "DrG0_hom_Actt = -4*DfG0_H2 - 2*DfG0_CO2 + DfG0_Actt + 2*DfG0_H2O\n",
    "DrG0_hom_Actn = -8*DfG0_H2 - 3*DfG0_CO2 + DfG0_Actn + 5*DfG0_H2O\n",
    "DrG0_hom_EtOH = -6*DfG0_H2 - 2*DfG0_CO2 + DfG0_EtOH + 3*DfG0_H2O\n",
    "DrG0_hom_PropOH = -9*DfG0_H2 - 3*DfG0_CO2 + DfG0_PropOH + 5*DfG0_H2O\n",
    "DrG0_hom_ButOH = -12*DfG0_H2 - 4*DfG0_CO2 + DfG0_ButOH + 7*DfG0_H2O\n",
    "DrG0_hom_Butyrt = -10*DfG0_H2 - 4*DfG0_CO2 + DfG0_Butyrt + 6*DfG0_H2O\n",
    "DrG0_hom_Butdiol = -11*DfG0_H2 - 4*DfG0_CO2 + DfG0_Butdiol + 6*DfG0_H2O\n",
    "\n",
    "DrG0_carb_Actt = -4*DfG0_CO - 2*DfG0_H2O + DfG0_Actt + 2*DfG0_CO2\n",
    "DrG0_carb_Actn = -8*DfG0_CO - 3*DfG0_H2O + DfG0_Actn + 5*DfG0_CO2\n",
    "DrG0_carb_EtOH = -6*DfG0_CO - 3*DfG0_H2O + DfG0_EtOH + 4*DfG0_CO2\n",
    "DrG0_carb_PropOH = -9*DfG0_CO - 4*DfG0_H2O + DfG0_PropOH + 6*DfG0_CO2\n",
    "DrG0_carb_ButOH = -12*DfG0_CO - 5*DfG0_H2O + DfG0_ButOH + 8*DfG0_CO2\n",
    "DrG0_carb_Butyrt = -10*DfG0_CO - 4*DfG0_H2O + DfG0_Butyrt + 6*DfG0_CO2\n",
    "DrG0_carb_Butdiol = -11*DfG0_CO - 5*DfG0_H2O + DfG0_Butdiol + 7*DfG0_CO2\n",
    "\n",
    "print(\"Gibbs energy per mol electron donor:\\n\",\n",
    "      \" DrG0_met/S =\",round(DrG0_met/4,1),\"[kJ/mol]\\n\",\n",
    "      \" DrG0_carb_Actt/S =\",round(DrG0_carb_Actt/4,1),\"[kJ/mol]\\n\",\n",
    "      \" DrG0_carb_Actn/S =\",round(DrG0_carb_Actn/8,1),\"[kJ/mol]\\n\",\n",
    "      \" DrG0_carb_EtOH/S =\",round(DrG0_carb_EtOH/6,1),\"[kJ/mol]\\n\",\n",
    "      \" DrG0_carb_PropOH/S =\",round(DrG0_carb_PropOH/9,1),\"[kJ/mol]\\n\",\n",
    "      \" DrG0_carb_ButOH/S =\",round(DrG0_carb_ButOH/12,1),\"[kJ/mol]\\n\",\n",
    "      \" DrG0_carb_Butyrt/S =\",round(DrG0_carb_Butyrt/10,1),\"[kJ/mol]\\n\",\n",
    "      \" DrG0_carb_Butdiol/S =\",round(DrG0_carb_Butdiol/11,1),\"[kJ/mol]\\n\",\n",
    "      \" DrG0_hom_Actt/S =\",round(DrG0_hom_Actt/4,1),\"[kJ/mol]\\n\",\n",
    "      \" DrG0_hom_Actn/S =\",round(DrG0_hom_Actn/8,1),\"[kJ/mol]\\n\",\n",
    "      \" DrG0_hom_EtOH/S =\",round(DrG0_hom_EtOH/6,1),\"[kJ/mol]\\n\",\n",
    "      \" DrG0_hom_PropOH/S =\",round(DrG0_hom_PropOH/9,1),\"[kJ/mol]\\n\",\n",
    "      \" DrG0_hom_ButOH/S =\",round(DrG0_hom_ButOH/12,1),\"[kJ/mol]\\n\",\n",
    "      \" DrG0_hom_Butyrt/S =\",round(DrG0_hom_Butyrt/10,1),\"[kJ/mol]\\n\",\n",
    "      \" DrG0_hom_Butdiol/S =\",round(DrG0_hom_Butdiol/11,1),\"[kJ/mol]\\n\")"
   ]
  },
  {
   "cell_type": "markdown",
   "metadata": {},
   "source": [
    "<p>Given the reaction stoichiometries:</p>\n",
    "<p>$ 2 Acetate <=> Acetone + CO_2 + H_2O $</p>\n",
    "<p>$ Acetate <=> CH_4 + CO_2$</p>\n",
    "<p>$ Acetate + 2 O_2 <=> 2 CO_2 + 2 H_2O$</p>"
   ]
  },
  {
   "cell_type": "code",
   "execution_count": 6,
   "metadata": {},
   "outputs": [
    {
     "name": "stdout",
     "output_type": "stream",
     "text": [
      "Gibbs energy per mol substrate:\n",
      "  DrG0_Actt_Actn/S = 0.8 [kJ/mol]\n",
      "  DrG0_Actt_Anaer/S = -173.2 [kJ/mol]\n",
      "  DrG0_Actt_Aerob/S = -899.5 [kJ/mol]\n",
      "\n"
     ]
    }
   ],
   "source": [
    "DrG0_Actt_Actn = -2*DfG0_Actt + DfG0_Actn + DfG0_CO2 + DfG0_H2O\n",
    "DrG0_Actt_Anaer = -DfG0_Actt + DfG0_MetOH + DfG0_CO2\n",
    "DrG0_Actt_Aerob = -DfG0_Actt - 2*DfG0_O2 + 2*DfG0_CO2 + 2*DfG0_H2O\n",
    "\n",
    "print(\"Gibbs energy per mol substrate:\\n\",\n",
    "      \" DrG0_Actt_Actn/S =\",round(DrG0_Actt_Actn/2,1),\"[kJ/mol]\\n\",\n",
    "      \" DrG0_Actt_Anaer/S =\",round(DrG0_Actt_Anaer,1),\"[kJ/mol]\\n\",\n",
    "      \" DrG0_Actt_Aerob/S =\",round(DrG0_Actt_Aerob,1),\"[kJ/mol]\\n\")"
   ]
  }
 ],
 "metadata": {
  "kernelspec": {
   "display_name": "dFBACoCultivation",
   "language": "python",
   "name": "dfbacocultivation"
  },
  "language_info": {
   "codemirror_mode": {
    "name": "ipython",
    "version": 3
   },
   "file_extension": ".py",
   "mimetype": "text/x-python",
   "name": "python",
   "nbconvert_exporter": "python",
   "pygments_lexer": "ipython3",
   "version": "3.6.12"
  }
 },
 "nbformat": 4,
 "nbformat_minor": 4
}
