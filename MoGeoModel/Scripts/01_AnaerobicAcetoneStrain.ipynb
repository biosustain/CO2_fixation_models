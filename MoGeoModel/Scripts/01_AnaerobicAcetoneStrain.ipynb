{
 "cells": [
  {
   "cell_type": "markdown",
   "metadata": {},
   "source": [
    "# Introduction\n",
    "Here I will build the acetone strain, by inserting the acetone production pathways, as well as blocking the LDH reaction, as is done in the strain. \n",
    "\n",
    "Then I'll add transport and exchanges for the metabolites that the model cannot make anaerobically, and save the model for use in the further dynamic modeling project. "
   ]
  },
  {
   "cell_type": "code",
   "execution_count": 1,
   "metadata": {},
   "outputs": [],
   "source": [
    "import cameo\n",
    "import pandas as pd\n",
    "import cobra.io\n",
    "#import escher\n",
    "#from escher import Builder\n",
    "from cobra import Metabolite, Reaction\n",
    "import numpy as np\n",
    "from matplotlib import pyplot as plt\n",
    "from os.path import dirname, join, pardir"
   ]
  },
  {
   "cell_type": "code",
   "execution_count": 2,
   "metadata": {},
   "outputs": [
    {
     "name": "stdout",
     "output_type": "stream",
     "text": [
      "Using license file /Users/phivri/gurobi.lic\n",
      "Academic license - for non-commercial use only - expires 2022-07-23\n"
     ]
    }
   ],
   "source": [
    "data_dir = \"/Users/phivri/Documents/GitHubCleanup/MoGeoCoCult/Models\"\n",
    "pth = cobra.io.read_sbml_model(join(data_dir,'p-thermo.xml'))"
   ]
  },
  {
   "cell_type": "markdown",
   "metadata": {},
   "source": [
    "### Acetone pathway"
   ]
  },
  {
   "cell_type": "code",
   "execution_count": 3,
   "metadata": {},
   "outputs": [],
   "source": [
    "#add the acetone metabolite, both intracellular & extracellular\n",
    "pth.add_metabolites(Metabolite(id='act_c',formula = 'C3H6O', name = 'Acetone', compartment = 'c' ))"
   ]
  },
  {
   "cell_type": "code",
   "execution_count": 4,
   "metadata": {},
   "outputs": [],
   "source": [
    "pth.add_metabolites(Metabolite(id='act_e', formula = 'C3H6O', name = 'Acetone', compartment = 'e'))"
   ]
  },
  {
   "cell_type": "code",
   "execution_count": 5,
   "metadata": {},
   "outputs": [
    {
     "name": "stdout",
     "output_type": "stream",
     "text": [
      "{}\n",
      "(0.0, 1000.0)\n",
      "aacoa_c + ac_c --> acac_c + accoa_c + h_c\n"
     ]
    }
   ],
   "source": [
    "#then add the reactions one by one\n",
    "ctfAB_ac = Reaction(\"ctfAB_ac\")\n",
    "ctfAB_ac.name = \"Acetate-acetoacetate CoA-transferase\"\n",
    "\n",
    "ctfAB_ac.add_metabolites({\n",
    "    pth.metabolites.ac_c: -1.0,      #Acetate\n",
    "    pth.metabolites.aacoa_c: -1.0,   #Acetoacetyl-CoA\n",
    "    pth.metabolites.acac_c: 1.0,     #Acetoacetate\n",
    "    pth.metabolites.accoa_c: 1.0,    #Acetyl-CoA\n",
    "    pth.metabolites.h_c: 1.0\n",
    "})\n",
    "print(ctfAB_ac.check_mass_balance())    #ensure correct mass balance\n",
    "print(ctfAB_ac.bounds)                  #Ensure correct bounds\n",
    "print(ctfAB_ac.reaction)                #Ensure correct reaction"
   ]
  },
  {
   "cell_type": "code",
   "execution_count": 6,
   "metadata": {},
   "outputs": [
    {
     "name": "stdout",
     "output_type": "stream",
     "text": [
      "{}\n",
      "aacoa_c + but_c --> acac_c + btcoa_c + h_c\n"
     ]
    }
   ],
   "source": [
    "ctfAB_bu = Reaction(\"ctfAB_bu\")\n",
    "ctfAB_bu.name = \"Butyrate-acetoacetate CoA-transferase\"\n",
    "\n",
    "ctfAB_bu.add_metabolites({\n",
    "    pth.metabolites.but_c: -1.0,     #Butyrate\n",
    "    pth.metabolites.aacoa_c: -1.0,   #Acetoacetyl-CoA\n",
    "    pth.metabolites.acac_c: 1.0,     #Acetoacetate    \n",
    "    pth.metabolites.btcoa_c: 1.0,    #Butyryl-CoA\n",
    "    pth.metabolites.h_c: 1.0\n",
    "})\n",
    "print(ctfAB_bu.check_mass_balance())    #ensure correct mass balance\n",
    "print(ctfAB_bu.reaction)                #Ensure correct reaction"
   ]
  },
  {
   "cell_type": "code",
   "execution_count": 7,
   "metadata": {},
   "outputs": [
    {
     "name": "stdout",
     "output_type": "stream",
     "text": [
      "{}\n",
      "2.0 accoa_c + h_c --> aacoa_c + coa_c\n"
     ]
    }
   ],
   "source": [
    "thl = Reaction(\"THL\")\n",
    "thl.name = \"acetyl-CoA C-acetyltransferase\"\n",
    "\n",
    "thl.add_metabolites({\n",
    "    pth.metabolites.accoa_c: -2.0,     #Acetyl-coa\n",
    "    pth.metabolites.h_c: -1.0,\n",
    "    pth.metabolites.aacoa_c: 1.0,     #Acetoacetyl-CoA\n",
    "    pth.metabolites.coa_c: 1.0\n",
    "})\n",
    "print(thl.check_mass_balance())    #ensure correct mass balance\n",
    "print(thl.reaction)                #Ensure correct reaction"
   ]
  },
  {
   "cell_type": "code",
   "execution_count": 8,
   "metadata": {},
   "outputs": [
    {
     "name": "stdout",
     "output_type": "stream",
     "text": [
      "{}\n",
      "acac_c + h_c --> act_c + co2_c\n"
     ]
    }
   ],
   "source": [
    "adc = Reaction(\"ADC\")\n",
    "adc.name = \"acetoacetate decarboxylase\"\n",
    "\n",
    "adc.add_metabolites({\n",
    "    pth.metabolites.acac_c: -1.0,     #Acetoacetate\n",
    "    pth.metabolites.h_c: -1.0, \n",
    "    pth.metabolites.act_c: 1.0,\n",
    "    pth.metabolites.co2_c: 1.0\n",
    "})\n",
    "print(adc.check_mass_balance())    #ensure correct mass balance\n",
    "print(adc.reaction)                #Ensure correct reaction"
   ]
  },
  {
   "cell_type": "code",
   "execution_count": 9,
   "metadata": {},
   "outputs": [
    {
     "data": {
      "text/html": [
       "\n",
       "        <table>\n",
       "            <tr>\n",
       "                <td><strong>Reaction identifier</strong></td><td>actT</td>\n",
       "            </tr><tr>\n",
       "                <td><strong>Name</strong></td><td>Acetone transporter</td>\n",
       "            </tr><tr>\n",
       "                <td><strong>Memory address</strong></td>\n",
       "                <td>0x07ff511937be0</td>\n",
       "            </tr><tr>\n",
       "                <td><strong>Stoichiometry</strong></td>\n",
       "                <td>\n",
       "                    <p style='text-align:right'>act_c --> act_e</p>\n",
       "                    <p style='text-align:right'>Acetone --> Acetone</p>\n",
       "                </td>\n",
       "            </tr><tr>\n",
       "                <td><strong>GPR</strong></td><td></td>\n",
       "            </tr><tr>\n",
       "                <td><strong>Lower bound</strong></td><td>0.0</td>\n",
       "            </tr><tr>\n",
       "                <td><strong>Upper bound</strong></td><td>1000.0</td>\n",
       "            </tr>\n",
       "        </table>\n",
       "        "
      ],
      "text/plain": [
       "<Reaction actT at 0x7ff511937be0>"
      ]
     },
     "execution_count": 9,
     "metadata": {},
     "output_type": "execute_result"
    }
   ],
   "source": [
    "actT = Reaction(\"actT\")\n",
    "actT.name = \"Acetone transporter\"\n",
    "actT.add_metabolites({ \n",
    "    pth.metabolites.act_c: -1.0,\n",
    "    pth.metabolites.act_e: 1.0\n",
    "})\n",
    "actT"
   ]
  },
  {
   "cell_type": "code",
   "execution_count": 10,
   "metadata": {},
   "outputs": [
    {
     "data": {
      "text/html": [
       "\n",
       "        <table>\n",
       "            <tr>\n",
       "                <td><strong>Reaction identifier</strong></td><td>EX_act_e</td>\n",
       "            </tr><tr>\n",
       "                <td><strong>Name</strong></td><td>Acetone exchange</td>\n",
       "            </tr><tr>\n",
       "                <td><strong>Memory address</strong></td>\n",
       "                <td>0x07ff511937a90</td>\n",
       "            </tr><tr>\n",
       "                <td><strong>Stoichiometry</strong></td>\n",
       "                <td>\n",
       "                    <p style='text-align:right'>act_e --></p>\n",
       "                    <p style='text-align:right'>Acetone --></p>\n",
       "                </td>\n",
       "            </tr><tr>\n",
       "                <td><strong>GPR</strong></td><td></td>\n",
       "            </tr><tr>\n",
       "                <td><strong>Lower bound</strong></td><td>0.0</td>\n",
       "            </tr><tr>\n",
       "                <td><strong>Upper bound</strong></td><td>1000.0</td>\n",
       "            </tr>\n",
       "        </table>\n",
       "        "
      ],
      "text/plain": [
       "<Reaction EX_act_e at 0x7ff511937a90>"
      ]
     },
     "execution_count": 10,
     "metadata": {},
     "output_type": "execute_result"
    }
   ],
   "source": [
    "act_ex = Reaction(\"EX_act_e\")\n",
    "act_ex.name = \"Acetone exchange\"\n",
    "act_ex.add_metabolites({ \n",
    "    pth.metabolites.act_e: -1.0,\n",
    "})\n",
    "act_ex"
   ]
  },
  {
   "cell_type": "code",
   "execution_count": 11,
   "metadata": {},
   "outputs": [],
   "source": [
    "#add all the reactions to the model\n",
    "pth.add_reactions([ctfAB_ac, ctfAB_bu, thl, adc, actT, act_ex])"
   ]
  },
  {
   "cell_type": "code",
   "execution_count": 12,
   "metadata": {},
   "outputs": [],
   "source": [
    "#block LDH reaction\n",
    "pth.reactions.LDH_L.bounds = (0,0)"
   ]
  },
  {
   "cell_type": "markdown",
   "metadata": {},
   "source": [
    "### Anaerobic production of compounds of interest\n",
    "We saw in the GSMM paper of Mol et al., (2021, https://doi.org/10.1016/j.ymben.2021.03.002) that there are some metabolites the model cannot synthesize anaerobically, though experimental data proves they can. As we do not have enough information to fix this through adding correct pathways in the model, instead we will add these components to the model medium. This also puts the requirement of needing exhcanges and transports for these compounds that I will code in.\n",
    "\n",
    "As we do not have information about the way these metabolites are transported across the membrane, i will add them as passive transport. "
   ]
  },
  {
   "cell_type": "code",
   "execution_count": 13,
   "metadata": {},
   "outputs": [
    {
     "data": {
      "text/plain": [
       "0.12613059010111424"
      ]
     },
     "execution_count": 13,
     "metadata": {},
     "output_type": "execute_result"
    }
   ],
   "source": [
    "#optimize for growth with a little bit of oxygen\n",
    "#to check objective later is the same\n",
    "pth.reactions.EX_o2_e.bounds = (-0.1,1000)\n",
    "pth.optimize().objective_value"
   ]
  },
  {
   "cell_type": "code",
   "execution_count": 14,
   "metadata": {},
   "outputs": [],
   "source": [
    "#list of metabolites that need to be taken up\n",
    "mets=['btn','thmpp','sprm','spmd','adocbl','10fthf','fe3','pheme']"
   ]
  },
  {
   "cell_type": "code",
   "execution_count": 15,
   "metadata": {},
   "outputs": [],
   "source": [
    "for met in mets:\n",
    "    #create extracellular metabolite\n",
    "    emet = Metabolite(id=f\"{met}_e\", \n",
    "                      name = f\"extracellular {met}\", \n",
    "                      formula = pth.metabolites.get_by_id( f\"{met}_c\").formula, #copy formula & charge from intracell met\n",
    "                      charge = pth.metabolites.get_by_id( f\"{met}_c\").charge, \n",
    "                      compartment ='e')\n",
    "    pth.add_metabolites(emet)\n",
    "    #create transport reaction\n",
    "    rct = Reaction(id=f\"{met.upper()}t\", name = f\"{met} transport\")\n",
    "    #add intra and extra cellular metabolites\n",
    "    rct.add_metabolites({\n",
    "        pth.metabolites.get_by_id( f\"{met}_c\"):-1,\n",
    "        pth.metabolites.get_by_id( f\"{met}_e\"):1\n",
    "    })\n",
    "    #define transport bounds as irreversible\n",
    "    rct.bounds = (-1000,1000)\n",
    "    #Add transport reaction to the model\n",
    "    pth.add_reaction(rct)\n",
    "    #create exchange for the extracellular metabolite\n",
    "    pth.add_boundary(pth.metabolites.get_by_id(f\"{met}_e\"),\n",
    "                     type='exchange',\n",
    "                     reaction_id = f\"EX_{met}_e\",\n",
    "                     lb = -1, ub= 1000) #set lb to -1 mmol/gcdw/h to have some excess but not endless amounts"
   ]
  },
  {
   "cell_type": "code",
   "execution_count": 16,
   "metadata": {},
   "outputs": [
    {
     "data": {
      "text/plain": [
       "{'EX_cl_e': 1000.0,\n",
       " 'EX_nh4_e': 1000.0,\n",
       " 'EX_glc__D_e': 10.0,\n",
       " 'EX_fe2_e': 1000.0,\n",
       " 'EX_h2o_e': 1000.0,\n",
       " 'EX_o2_e': 0.1,\n",
       " 'EX_co2_e': 1000.0,\n",
       " 'EX_h_e': 1000.0,\n",
       " 'EX_cobalt2_e': 1000.0,\n",
       " 'EX_pi_e': 1000.0,\n",
       " 'EX_so4_e': 1000.0,\n",
       " 'EX_k_e': 1000.0,\n",
       " 'EX_mg2_e': 1000.0,\n",
       " 'EX_ca2_e': 1000.0,\n",
       " 'EX_btn_e': 1,\n",
       " 'EX_thmpp_e': 1,\n",
       " 'EX_sprm_e': 1,\n",
       " 'EX_spmd_e': 1,\n",
       " 'EX_adocbl_e': 1,\n",
       " 'EX_10fthf_e': 1,\n",
       " 'EX_fe3_e': 1,\n",
       " 'EX_pheme_e': 1}"
      ]
     },
     "execution_count": 16,
     "metadata": {},
     "output_type": "execute_result"
    }
   ],
   "source": [
    "#check the new compounds have been added to the defined medium\n",
    "pth.medium"
   ]
  },
  {
   "cell_type": "markdown",
   "metadata": {},
   "source": [
    "Add acetate"
   ]
  },
  {
   "cell_type": "code",
   "execution_count": 17,
   "metadata": {},
   "outputs": [
    {
     "data": {
      "text/plain": [
       "{'EX_cl_e': 1000.0,\n",
       " 'EX_nh4_e': 1000.0,\n",
       " 'EX_glc__D_e': 10.0,\n",
       " 'EX_fe2_e': 1000.0,\n",
       " 'EX_h2o_e': 1000.0,\n",
       " 'EX_o2_e': 0.1,\n",
       " 'EX_co2_e': 1000.0,\n",
       " 'EX_h_e': 1000.0,\n",
       " 'EX_cobalt2_e': 1000.0,\n",
       " 'EX_ac_e': 1000.0,\n",
       " 'EX_pi_e': 1000.0,\n",
       " 'EX_so4_e': 1000.0,\n",
       " 'EX_k_e': 1000.0,\n",
       " 'EX_mg2_e': 1000.0,\n",
       " 'EX_ca2_e': 1000.0,\n",
       " 'EX_btn_e': 1,\n",
       " 'EX_thmpp_e': 1,\n",
       " 'EX_sprm_e': 1,\n",
       " 'EX_spmd_e': 1,\n",
       " 'EX_adocbl_e': 1,\n",
       " 'EX_10fthf_e': 1,\n",
       " 'EX_fe3_e': 1,\n",
       " 'EX_pheme_e': 1}"
      ]
     },
     "execution_count": 17,
     "metadata": {},
     "output_type": "execute_result"
    }
   ],
   "source": [
    "medium = pth.medium\n",
    "medium[\"EX_ac_e\"] = 1000.0\n",
    "pth.medium = medium\n",
    "\n",
    "pth.medium"
   ]
  },
  {
   "cell_type": "code",
   "execution_count": 18,
   "metadata": {},
   "outputs": [],
   "source": [
    "#check the model can grow anaerobically\n",
    "pth.reactions.EX_o2_e.bounds=(0,1000)"
   ]
  },
  {
   "cell_type": "code",
   "execution_count": 19,
   "metadata": {},
   "outputs": [
    {
     "data": {
      "text/plain": [
       "0.12435311994048392"
      ]
     },
     "execution_count": 19,
     "metadata": {},
     "output_type": "execute_result"
    }
   ],
   "source": [
    "pth.optimize().objective_value"
   ]
  },
  {
   "cell_type": "code",
   "execution_count": 20,
   "metadata": {},
   "outputs": [
    {
     "data": {
      "text/html": [
       "<h3>Objective</h3><p>1.0 biomass = 0.12435311994048392</p><h4>Uptake</h4><table border=\"1\" class=\"dataframe\">\n",
       "  <thead>\n",
       "    <tr style=\"text-align: right;\">\n",
       "      <th>Metabolite</th>\n",
       "      <th>Reaction</th>\n",
       "      <th>Flux</th>\n",
       "      <th>C-Number</th>\n",
       "      <th>C-Flux</th>\n",
       "    </tr>\n",
       "  </thead>\n",
       "  <tbody>\n",
       "    <tr>\n",
       "      <td>10fthf_e</td>\n",
       "      <td>EX_10fthf_e</td>\n",
       "      <td>4.441E-05</td>\n",
       "      <td>20</td>\n",
       "      <td>0.00%</td>\n",
       "    </tr>\n",
       "    <tr>\n",
       "      <td>adocbl_e</td>\n",
       "      <td>EX_adocbl_e</td>\n",
       "      <td>2.476E-05</td>\n",
       "      <td>72</td>\n",
       "      <td>0.00%</td>\n",
       "    </tr>\n",
       "    <tr>\n",
       "      <td>btn_e</td>\n",
       "      <td>EX_btn_e</td>\n",
       "      <td>2.221E-07</td>\n",
       "      <td>10</td>\n",
       "      <td>0.00%</td>\n",
       "    </tr>\n",
       "    <tr>\n",
       "      <td>ca2_e</td>\n",
       "      <td>EX_ca2_e</td>\n",
       "      <td>0.0003497</td>\n",
       "      <td>0</td>\n",
       "      <td>0.00%</td>\n",
       "    </tr>\n",
       "    <tr>\n",
       "      <td>fe2_e</td>\n",
       "      <td>EX_fe2_e</td>\n",
       "      <td>2.476E-05</td>\n",
       "      <td>0</td>\n",
       "      <td>0.00%</td>\n",
       "    </tr>\n",
       "    <tr>\n",
       "      <td>fe3_e</td>\n",
       "      <td>EX_fe3_e</td>\n",
       "      <td>0.003775</td>\n",
       "      <td>0</td>\n",
       "      <td>0.00%</td>\n",
       "    </tr>\n",
       "    <tr>\n",
       "      <td>glc__D_e</td>\n",
       "      <td>EX_glc__D_e</td>\n",
       "      <td>10</td>\n",
       "      <td>6</td>\n",
       "      <td>99.99%</td>\n",
       "    </tr>\n",
       "    <tr>\n",
       "      <td>h2o_e</td>\n",
       "      <td>EX_h2o_e</td>\n",
       "      <td>6.989</td>\n",
       "      <td>0</td>\n",
       "      <td>0.00%</td>\n",
       "    </tr>\n",
       "    <tr>\n",
       "      <td>k_e</td>\n",
       "      <td>EX_k_e</td>\n",
       "      <td>0.07863</td>\n",
       "      <td>0</td>\n",
       "      <td>0.00%</td>\n",
       "    </tr>\n",
       "    <tr>\n",
       "      <td>mg2_e</td>\n",
       "      <td>EX_mg2_e</td>\n",
       "      <td>0.01088</td>\n",
       "      <td>0</td>\n",
       "      <td>0.00%</td>\n",
       "    </tr>\n",
       "    <tr>\n",
       "      <td>nh4_e</td>\n",
       "      <td>EX_nh4_e</td>\n",
       "      <td>1.071</td>\n",
       "      <td>0</td>\n",
       "      <td>0.00%</td>\n",
       "    </tr>\n",
       "    <tr>\n",
       "      <td>pheme_e</td>\n",
       "      <td>EX_pheme_e</td>\n",
       "      <td>4.952E-05</td>\n",
       "      <td>34</td>\n",
       "      <td>0.00%</td>\n",
       "    </tr>\n",
       "    <tr>\n",
       "      <td>pi_e</td>\n",
       "      <td>EX_pi_e</td>\n",
       "      <td>0.0962</td>\n",
       "      <td>0</td>\n",
       "      <td>0.00%</td>\n",
       "    </tr>\n",
       "    <tr>\n",
       "      <td>so4_e</td>\n",
       "      <td>EX_so4_e</td>\n",
       "      <td>0.02385</td>\n",
       "      <td>0</td>\n",
       "      <td>0.00%</td>\n",
       "    </tr>\n",
       "    <tr>\n",
       "      <td>spmd_e</td>\n",
       "      <td>EX_spmd_e</td>\n",
       "      <td>0.0001332</td>\n",
       "      <td>7</td>\n",
       "      <td>0.00%</td>\n",
       "    </tr>\n",
       "    <tr>\n",
       "      <td>sprm_e</td>\n",
       "      <td>EX_sprm_e</td>\n",
       "      <td>0.0003109</td>\n",
       "      <td>10</td>\n",
       "      <td>0.01%</td>\n",
       "    </tr>\n",
       "    <tr>\n",
       "      <td>thmpp_e</td>\n",
       "      <td>EX_thmpp_e</td>\n",
       "      <td>2.476E-05</td>\n",
       "      <td>12</td>\n",
       "      <td>0.00%</td>\n",
       "    </tr>\n",
       "  </tbody>\n",
       "</table><h4>Secretion</h4><table border=\"1\" class=\"dataframe\">\n",
       "  <thead>\n",
       "    <tr style=\"text-align: right;\">\n",
       "      <th>Metabolite</th>\n",
       "      <th>Reaction</th>\n",
       "      <th>Flux</th>\n",
       "      <th>C-Number</th>\n",
       "      <th>C-Flux</th>\n",
       "    </tr>\n",
       "  </thead>\n",
       "  <tbody>\n",
       "    <tr>\n",
       "      <td>Biomass_e</td>\n",
       "      <td>EX_Biomass_e</td>\n",
       "      <td>-0.1244</td>\n",
       "      <td>10</td>\n",
       "      <td>2.19%</td>\n",
       "    </tr>\n",
       "    <tr>\n",
       "      <td>ac_e</td>\n",
       "      <td>EX_ac_e</td>\n",
       "      <td>-8.322</td>\n",
       "      <td>2</td>\n",
       "      <td>29.31%</td>\n",
       "    </tr>\n",
       "    <tr>\n",
       "      <td>co2_e</td>\n",
       "      <td>EX_co2_e</td>\n",
       "      <td>-0.7714</td>\n",
       "      <td>1</td>\n",
       "      <td>1.36%</td>\n",
       "    </tr>\n",
       "    <tr>\n",
       "      <td>etoh_e</td>\n",
       "      <td>EX_etoh_e</td>\n",
       "      <td>-9.806</td>\n",
       "      <td>2</td>\n",
       "      <td>34.54%</td>\n",
       "    </tr>\n",
       "    <tr>\n",
       "      <td>for_e</td>\n",
       "      <td>EX_for_e</td>\n",
       "      <td>-18.49</td>\n",
       "      <td>1</td>\n",
       "      <td>32.56%</td>\n",
       "    </tr>\n",
       "    <tr>\n",
       "      <td>h_e</td>\n",
       "      <td>EX_h_e</td>\n",
       "      <td>-27.72</td>\n",
       "      <td>0</td>\n",
       "      <td>0.00%</td>\n",
       "    </tr>\n",
       "    <tr>\n",
       "      <td>succ_e</td>\n",
       "      <td>EX_succ_e</td>\n",
       "      <td>-0.004641</td>\n",
       "      <td>4</td>\n",
       "      <td>0.03%</td>\n",
       "    </tr>\n",
       "  </tbody>\n",
       "</table>"
      ],
      "text/plain": [
       "<cobra.summary.model_summary.ModelSummary at 0x7ff510fc34e0>"
      ]
     },
     "execution_count": 20,
     "metadata": {},
     "output_type": "execute_result"
    }
   ],
   "source": [
    "#confirm we only take up trace elements of the co-factors\n",
    "pth.summary()"
   ]
  },
  {
   "cell_type": "markdown",
   "metadata": {},
   "source": [
    "So we have now inserted the acetone pathway, as well as KO'ed the LDH reaction. we slso supplied the different cofactors and allowed their uptake. I will then save this model so we can use it in furhter dFBA. "
   ]
  },
  {
   "cell_type": "code",
   "execution_count": null,
   "metadata": {},
   "outputs": [],
   "source": []
  },
  {
   "cell_type": "code",
   "execution_count": null,
   "metadata": {},
   "outputs": [],
   "source": []
  },
  {
   "cell_type": "markdown",
   "metadata": {},
   "source": [
    "Save model"
   ]
  },
  {
   "cell_type": "code",
   "execution_count": 21,
   "metadata": {},
   "outputs": [],
   "source": [
    "cobra.io.write_sbml_model(pth,join(data_dir,\"p-thermo_acetone_anaerobic.xml\"))"
   ]
  }
 ],
 "metadata": {
  "kernelspec": {
   "display_name": "dFBACoCultivation",
   "language": "python",
   "name": "dfbacocultivation"
  },
  "language_info": {
   "codemirror_mode": {
    "name": "ipython",
    "version": 3
   },
   "file_extension": ".py",
   "mimetype": "text/x-python",
   "name": "python",
   "nbconvert_exporter": "python",
   "pygments_lexer": "ipython3",
   "version": "3.6.12"
  }
 },
 "nbformat": 4,
 "nbformat_minor": 5
}
