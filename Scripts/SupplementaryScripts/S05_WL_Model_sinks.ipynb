{
 "cells": [
  {
   "cell_type": "markdown",
   "metadata": {},
   "source": [
    "# Supplementary Notebook S05: Stoichiometric Model of WL-Pathway with Sinks\n",
    "\n",
    "This notebook is supplementary to the the research paper titled:\n",
    "\n",
    "Optimizing acetogenic CO(2) utilization through metabolic and process engineering highlights the potential of thermophilic bioproduction\n",
    "\n",
    "In this notebook, a stoichiometric model of the Wood-Ljungdahl pathway is created, using an existing Genome-Scale Metabolic Model of Clostridium ljungdahlii. Bifurcating enzymes restoring the energy and redox co-factors are not included, the co-factors are created or removed from the model using sink reactions."
   ]
  },
  {
   "cell_type": "code",
   "execution_count": 1,
   "metadata": {},
   "outputs": [],
   "source": [
    "import cobra.io\n",
    "import escher\n",
    "from escher import Builder\n",
    "from cobra import Model, Reaction, Metabolite"
   ]
  },
  {
   "cell_type": "code",
   "execution_count": 2,
   "metadata": {},
   "outputs": [
    {
     "name": "stdout",
     "output_type": "stream",
     "text": [
      "Using license file /Users/phivri/gurobi.lic\n",
      "Academic license - for non-commercial use only - expires 2022-07-23\n"
     ]
    }
   ],
   "source": [
    "Cljung_Model = cobra.io.read_sbml_model('../../Models/PublishedModels/C-ljungdahlii_iHN637.xml')"
   ]
  },
  {
   "cell_type": "markdown",
   "metadata": {},
   "source": [
    "To simplify the model, 3 changes are made:\n",
    "\n",
    "The ATP maintenance reaction is unconstrained, so that a flux is not forced for non-growth associated maintenance\n",
    "\n",
    "Acetate transport is dependent on a symporter, since only the core metabolism is investigated here, the reaction is replaced by a more simple transporter.\n",
    "\n",
    "The reaction MTHFD2 uses NADPH as a cofactor, to simplify the model, this cofactor is replaced by NADH. This way there is only one"
   ]
  },
  {
   "cell_type": "code",
   "execution_count": 3,
   "metadata": {},
   "outputs": [],
   "source": [
    "Cljung_Model.reactions.ATPM.bounds = 0, 1000\n",
    "\n",
    "acT = Reaction(\"ACt\")\n",
    "acT.name = \"Acetate transporter\"\n",
    "acT.add_metabolites({ \n",
    "    Cljung_Model.metabolites.ac_c: -1.0,\n",
    "    Cljung_Model.metabolites.ac_e: 1.0\n",
    "})"
   ]
  },
  {
   "cell_type": "markdown",
   "metadata": {},
   "source": [
    "Unconstrain reactions that have been diasbled in the C.ljungdahlii model"
   ]
  },
  {
   "cell_type": "code",
   "execution_count": 4,
   "metadata": {},
   "outputs": [],
   "source": [
    "Cljung_Model.reactions.ACACT1r.bounds = 0,1000.0\n",
    "Cljung_Model.reactions.HACD1.bounds = 0,1000.0\n",
    "Cljung_Model.reactions.ECOAH1.bounds = 0,1000.0\n",
    "Cljung_Model.reactions.ACOAD1z.bounds = 0,1000.0\n",
    "Cljung_Model.reactions.PBUTT.bounds = 0,1000.0\n",
    "Cljung_Model.reactions.BUTKr.bounds = -1000.0,0\n",
    "Cljung_Model.reactions.BTCOARx.bounds = 0,1000.0\n",
    "Cljung_Model.reactions.ALCD4.bounds = -1000.0,0\n",
    "Cljung_Model.reactions.BTOHt.bounds = -1000.0, 1000.0\n",
    "Cljung_Model.reactions.BUTt.bounds = -1000.0, 1000.0"
   ]
  },
  {
   "cell_type": "code",
   "execution_count": 5,
   "metadata": {},
   "outputs": [
    {
     "data": {
      "text/plain": [
       "[<Reaction H2td at 0x7fe1a12847f0>,\n",
       " <Reaction H2Ot at 0x7fe1a1272a90>,\n",
       " <Reaction CO2t at 0x7fe1a111b160>,\n",
       " <Reaction COt at 0x7fe1a1156fd0>,\n",
       " <Reaction ETOHt at 0x7fe1a1203c50>,\n",
       " <Reaction BTDt_RR at 0x7fe1a1057160>,\n",
       " <Reaction BUTt at 0x7fe1a1099780>,\n",
       " <Reaction BTOHt at 0x7fe1a1057cc0>,\n",
       " <Reaction FDH7 at 0x7fe1a128c400>,\n",
       " <Reaction FTHFLi at 0x7fe1a12c7cf8>,\n",
       " <Reaction MTHFC at 0x7fe1a1433be0>,\n",
       " <Reaction MTHFD at 0x7fe1a1433f60>,\n",
       " <Reaction MTHFR5 at 0x7fe1a143cb70>,\n",
       " <Reaction METR at 0x7fe1a13233c8>,\n",
       " <Reaction CODH4 at 0x7fe1a11e2748>,\n",
       " <Reaction CODH_ACS at 0x7fe1a11ea208>,\n",
       " <Reaction PTAr at 0x7fe1a14dacc0>,\n",
       " <Reaction ACKr at 0x7fe1a10f6b38>,\n",
       " <Reaction ACAFDOR at 0x7fe1a11887b8>,\n",
       " <Reaction ALCD2x at 0x7fe1a16486a0>,\n",
       " <Reaction POR at 0x7fe1a15bfbe0>,\n",
       " <Reaction ACLS at 0x7fe1a10e5128>,\n",
       " <Reaction ACLDC at 0x7fe1a1101198>,\n",
       " <Reaction BTDD_RR at 0x7fe1a119f550>,\n",
       " <Reaction ACACT1r at 0x7fe1a1071cf8>,\n",
       " <Reaction HACD1 at 0x7fe1a1284e80>,\n",
       " <Reaction ECOAH1 at 0x7fe1a11fa4e0>,\n",
       " <Reaction ACOAD1z at 0x7fe1a1114400>,\n",
       " <Reaction BTCOARx at 0x7fe1a1606fd0>,\n",
       " <Reaction ALCD4 at 0x7fe1a15fbb00>,\n",
       " <Reaction PBUTT at 0x7fe1a13c5978>,\n",
       " <Reaction BUTKr at 0x7fe1a10718d0>,\n",
       " <Reaction ACt at 0x7fe1a14a0898>,\n",
       " <Reaction EX_h2_e at 0x7fe198d57f28>,\n",
       " <Reaction EX_h2o_e at 0x7fe198d1e940>,\n",
       " <Reaction EX_co2_e at 0x7fe19ee0ad68>,\n",
       " <Reaction EX_co_e at 0x7fe1a13ba668>,\n",
       " <Reaction EX_ac_e at 0x7fe1a13ba470>,\n",
       " <Reaction EX_etoh_e at 0x7fe1a13bab38>,\n",
       " <Reaction EX_btd_RR_e at 0x7fe1a13ae588>,\n",
       " <Reaction EX_but_e at 0x7fe1a13ae6a0>,\n",
       " <Reaction EX_btoh_e at 0x7fe1a13ae128>,\n",
       " <Reaction SK_atp_c at 0x7fe1a13aeb38>,\n",
       " <Reaction SK_adp_c at 0x7fe1a13aee10>,\n",
       " <Reaction SK_nadh_c at 0x7fe1a13aef60>,\n",
       " <Reaction SK_nadp_c at 0x7fe1a13a5d68>,\n",
       " <Reaction SK_nadph_c at 0x7fe1a13a57b8>,\n",
       " <Reaction SK_nad_c at 0x7fe1a13a5b00>,\n",
       " <Reaction SK_fdxo_42_c at 0x7fe1a13a54a8>,\n",
       " <Reaction SK_fdxr_42_c at 0x7fe1a13a5b70>,\n",
       " <Reaction SK_coa_c at 0x7fe1a13a53c8>,\n",
       " <Reaction SK_h_c at 0x7fe1a139ac18>,\n",
       " <Reaction SK_pi_c at 0x7fe1a139a710>]"
      ]
     },
     "execution_count": 5,
     "metadata": {},
     "output_type": "execute_result"
    }
   ],
   "source": [
    "WLmodel = Model('Wood_Ljungdahl_Core')\n",
    "\n",
    "WLmodel.add_reactions([\n",
    "#Transport:\n",
    "Cljung_Model.reactions.H2td,\n",
    "Cljung_Model.reactions.H2Ot,\n",
    "Cljung_Model.reactions.CO2t,\n",
    "Cljung_Model.reactions.COt,\n",
    "Cljung_Model.reactions.ETOHt,\n",
    "Cljung_Model.reactions.BTDt_RR,\n",
    "Cljung_Model.reactions.BUTt,\n",
    "Cljung_Model.reactions.BTOHt,\n",
    "    \n",
    "#Carbon fixation to acetyl-CoA\n",
    "Cljung_Model.reactions.FDH7,\n",
    "Cljung_Model.reactions.FTHFLi,\n",
    "Cljung_Model.reactions.MTHFC,\n",
    "Cljung_Model.reactions.MTHFD,\n",
    "Cljung_Model.reactions.MTHFR5,\n",
    "Cljung_Model.reactions.METR,\n",
    "Cljung_Model.reactions.CODH4,\n",
    "Cljung_Model.reactions.CODH_ACS,\n",
    "\n",
    "#Product formation from acetyl-CoA\n",
    "Cljung_Model.reactions.PTAr,\n",
    "Cljung_Model.reactions.ACKr,\n",
    "Cljung_Model.reactions.ACAFDOR,\n",
    "Cljung_Model.reactions.ALCD2x,\n",
    "    \n",
    "Cljung_Model.reactions.POR,\n",
    "Cljung_Model.reactions.ACLS,\n",
    "Cljung_Model.reactions.ACLDC,\n",
    "Cljung_Model.reactions.BTDD_RR,\n",
    "\n",
    "Cljung_Model.reactions.ACACT1r,\n",
    "Cljung_Model.reactions.HACD1,\n",
    "Cljung_Model.reactions.ECOAH1,\n",
    "Cljung_Model.reactions.ACOAD1z,\n",
    "Cljung_Model.reactions.BTCOARx,\n",
    "Cljung_Model.reactions.ALCD4,\n",
    "Cljung_Model.reactions.PBUTT,\n",
    "Cljung_Model.reactions.BUTKr])\n",
    "\n",
    "#Exchanges and sinks\n",
    "WLmodel.add_reactions([acT])\n",
    "WLmodel.add_boundary(WLmodel.metabolites.get_by_id(\"h2_e\"), type=\"exchange\")\n",
    "WLmodel.add_boundary(WLmodel.metabolites.get_by_id(\"h2o_e\"), type=\"exchange\")\n",
    "WLmodel.add_boundary(WLmodel.metabolites.get_by_id(\"co2_e\"), type=\"exchange\")\n",
    "WLmodel.add_boundary(WLmodel.metabolites.get_by_id(\"co_e\"), type=\"exchange\")\n",
    "WLmodel.add_boundary(WLmodel.metabolites.get_by_id(\"ac_e\"), type=\"exchange\")\n",
    "WLmodel.add_boundary(WLmodel.metabolites.get_by_id(\"etoh_e\"), type=\"exchange\")\n",
    "WLmodel.add_boundary(WLmodel.metabolites.get_by_id(\"btd_RR_e\"), type=\"exchange\")\n",
    "WLmodel.add_boundary(WLmodel.metabolites.get_by_id(\"but_e\"), type=\"exchange\")\n",
    "WLmodel.add_boundary(WLmodel.metabolites.get_by_id(\"btoh_e\"), type=\"exchange\")\n",
    "\n",
    "WLmodel.add_boundary(WLmodel.metabolites.get_by_id(\"atp_c\"), type=\"sink\")\n",
    "WLmodel.add_boundary(WLmodel.metabolites.get_by_id(\"adp_c\"), type=\"sink\")\n",
    "WLmodel.add_boundary(WLmodel.metabolites.get_by_id(\"nadh_c\"), type=\"sink\")\n",
    "WLmodel.add_boundary(WLmodel.metabolites.get_by_id(\"nadp_c\"), type=\"sink\")\n",
    "WLmodel.add_boundary(WLmodel.metabolites.get_by_id(\"nadph_c\"), type=\"sink\")\n",
    "WLmodel.add_boundary(WLmodel.metabolites.get_by_id(\"nad_c\"), type=\"sink\")\n",
    "WLmodel.add_boundary(WLmodel.metabolites.get_by_id(\"fdxo_42_c\"), type=\"sink\")\n",
    "WLmodel.add_boundary(WLmodel.metabolites.get_by_id(\"fdxr_42_c\"), type=\"sink\")\n",
    "WLmodel.add_boundary(WLmodel.metabolites.get_by_id(\"coa_c\"), type=\"sink\")\n",
    "WLmodel.add_boundary(WLmodel.metabolites.get_by_id(\"h_c\"), type=\"sink\")\n",
    "WLmodel.add_boundary(WLmodel.metabolites.get_by_id(\"pi_c\"), type=\"sink\")\n",
    "\n",
    "WLmodel.reactions"
   ]
  },
  {
   "cell_type": "markdown",
   "metadata": {},
   "source": [
    "## Add Acetone production pathway from ABE"
   ]
  },
  {
   "cell_type": "code",
   "execution_count": 6,
   "metadata": {},
   "outputs": [],
   "source": [
    "WLmodelActn = WLmodel\n",
    "\n",
    "WLmodelActn.add_metabolites(Metabolite(id='acac_c',formula = 'C4H6O3', name = 'Acetoacetate', compartment = 'c' ))\n",
    "WLmodelActn.add_metabolites(Metabolite(id='act_c',formula = 'C3H6O', name = 'Acetone', compartment = 'c' ))\n",
    "WLmodelActn.add_metabolites(Metabolite(id='act_e', formula = 'C3H6O', name = 'Acetone', compartment = 'e'))"
   ]
  },
  {
   "cell_type": "code",
   "execution_count": 7,
   "metadata": {},
   "outputs": [
    {
     "name": "stdout",
     "output_type": "stream",
     "text": [
      "{}\n",
      "(0.0, 1000.0)\n",
      "aacoa_c + ac_c + h_c --> acac_c + accoa_c\n"
     ]
    }
   ],
   "source": [
    "ctfAB_ac = Reaction(\"ctfAB_ac\")\n",
    "ctfAB_ac.name = \"Acetate-acetoacetate CoA-transferase\"\n",
    "\n",
    "ctfAB_ac.add_metabolites({\n",
    "    WLmodelActn.metabolites.ac_c: -1.0,      #Acetate\n",
    "    WLmodelActn.metabolites.aacoa_c: -1.0,   #Acetoacetyl-CoA\n",
    "    WLmodelActn.metabolites.acac_c: 1.0,     #Acetoacetate\n",
    "    WLmodelActn.metabolites.accoa_c: 1.0,    #Acetyl-CoA\n",
    "    WLmodelActn.metabolites.h_c: -1.0\n",
    "})\n",
    "print(ctfAB_ac.check_mass_balance())    #ensure correct mass balance\n",
    "print(ctfAB_ac.bounds)                  #Ensure correct bounds\n",
    "print(ctfAB_ac.reaction)                #Ensure correct reaction"
   ]
  },
  {
   "cell_type": "code",
   "execution_count": 8,
   "metadata": {},
   "outputs": [
    {
     "name": "stdout",
     "output_type": "stream",
     "text": [
      "{}\n",
      "acac_c --> act_c + co2_c\n"
     ]
    }
   ],
   "source": [
    "adc = Reaction(\"ADC\")\n",
    "adc.name = \"acetoacetate decarboxylase\"\n",
    "\n",
    "adc.add_metabolites({\n",
    "    WLmodelActn.metabolites.acac_c: -1.0,     #Acetoacetate\n",
    "    #WLmodelActn.metabolites.h_c: -1.0, \n",
    "    WLmodelActn.metabolites.act_c: 1.0,\n",
    "    WLmodelActn.metabolites.co2_c: 1.0\n",
    "})\n",
    "print(adc.check_mass_balance())    #ensure correct mass balance\n",
    "print(adc.reaction)                #Ensure correct reaction"
   ]
  },
  {
   "cell_type": "code",
   "execution_count": 9,
   "metadata": {},
   "outputs": [
    {
     "data": {
      "text/html": [
       "\n",
       "        <table>\n",
       "            <tr>\n",
       "                <td><strong>Reaction identifier</strong></td><td>ACTt</td>\n",
       "            </tr><tr>\n",
       "                <td><strong>Name</strong></td><td>Acetone transporter</td>\n",
       "            </tr><tr>\n",
       "                <td><strong>Memory address</strong></td>\n",
       "                <td>0x07fe198d1e908</td>\n",
       "            </tr><tr>\n",
       "                <td><strong>Stoichiometry</strong></td>\n",
       "                <td>\n",
       "                    <p style='text-align:right'>act_c --> act_e</p>\n",
       "                    <p style='text-align:right'>Acetone --> Acetone</p>\n",
       "                </td>\n",
       "            </tr><tr>\n",
       "                <td><strong>GPR</strong></td><td></td>\n",
       "            </tr><tr>\n",
       "                <td><strong>Lower bound</strong></td><td>0.0</td>\n",
       "            </tr><tr>\n",
       "                <td><strong>Upper bound</strong></td><td>1000.0</td>\n",
       "            </tr>\n",
       "        </table>\n",
       "        "
      ],
      "text/plain": [
       "<Reaction ACTt at 0x7fe198d1e908>"
      ]
     },
     "execution_count": 9,
     "metadata": {},
     "output_type": "execute_result"
    }
   ],
   "source": [
    "actT = Reaction(\"ACTt\")\n",
    "actT.name = \"Acetone transporter\"\n",
    "actT.add_metabolites({ \n",
    "    WLmodelActn.metabolites.act_c: -1.0,\n",
    "    WLmodelActn.metabolites.act_e: 1.0\n",
    "})\n",
    "actT"
   ]
  },
  {
   "cell_type": "code",
   "execution_count": 10,
   "metadata": {},
   "outputs": [
    {
     "data": {
      "text/html": [
       "\n",
       "        <table>\n",
       "            <tr>\n",
       "                <td><strong>Reaction identifier</strong></td><td>EX_act_e</td>\n",
       "            </tr><tr>\n",
       "                <td><strong>Name</strong></td><td>Acetone exchange</td>\n",
       "            </tr><tr>\n",
       "                <td><strong>Memory address</strong></td>\n",
       "                <td>0x07fe1a1496358</td>\n",
       "            </tr><tr>\n",
       "                <td><strong>Stoichiometry</strong></td>\n",
       "                <td>\n",
       "                    <p style='text-align:right'>act_e --></p>\n",
       "                    <p style='text-align:right'>Acetone --></p>\n",
       "                </td>\n",
       "            </tr><tr>\n",
       "                <td><strong>GPR</strong></td><td></td>\n",
       "            </tr><tr>\n",
       "                <td><strong>Lower bound</strong></td><td>0.0</td>\n",
       "            </tr><tr>\n",
       "                <td><strong>Upper bound</strong></td><td>1000.0</td>\n",
       "            </tr>\n",
       "        </table>\n",
       "        "
      ],
      "text/plain": [
       "<Reaction EX_act_e at 0x7fe1a1496358>"
      ]
     },
     "execution_count": 10,
     "metadata": {},
     "output_type": "execute_result"
    }
   ],
   "source": [
    "act_ex = Reaction(\"EX_act_e\")\n",
    "act_ex.name = \"Acetone exchange\"\n",
    "act_ex.add_metabolites({ \n",
    "    WLmodelActn.metabolites.act_e: -1.0,\n",
    "})\n",
    "act_ex"
   ]
  },
  {
   "cell_type": "code",
   "execution_count": 11,
   "metadata": {},
   "outputs": [],
   "source": [
    "WLmodelActn.add_reactions([ctfAB_ac, adc, actT, act_ex])"
   ]
  },
  {
   "cell_type": "markdown",
   "metadata": {},
   "source": [
    "## Add alternative acetone production pathway, Lanzatech"
   ]
  },
  {
   "cell_type": "code",
   "execution_count": 12,
   "metadata": {},
   "outputs": [],
   "source": [
    "WLmodelActn.add_metabolites(Metabolite(id='aactp_c',formula = 'C4H5O6P', name = 'Acetoacetyl phosphate', compartment = 'c' ))"
   ]
  },
  {
   "cell_type": "code",
   "execution_count": 13,
   "metadata": {},
   "outputs": [
    {
     "name": "stdout",
     "output_type": "stream",
     "text": [
      "{}\n",
      "(0.0, 1000.0)\n",
      "aacoa_c + pi_c --> aactp_c + coa_c\n"
     ]
    }
   ],
   "source": [
    "ptacac = Reaction(\"ptacac\")\n",
    "ptacac.name = \"Phosphate acetoacetyltransferase\"\n",
    "\n",
    "ptacac.add_metabolites({\n",
    "    WLmodelActn.metabolites.aacoa_c: -1.0,   #Acetoacetyl_CoA\n",
    "    WLmodelActn.metabolites.pi_c: -1.0,      #Phosphate\n",
    "    WLmodelActn.metabolites.aactp_c: 1.0,    #Acetoacetyl_P\n",
    "    WLmodelActn.metabolites.coa_c: 1.0       #Coenzyme A\n",
    "})\n",
    "print(ptacac.check_mass_balance())    #ensure correct mass balance\n",
    "print(ptacac.bounds)                  #Ensure correct bounds\n",
    "print(ptacac.reaction)                #Ensure correct reaction"
   ]
  },
  {
   "cell_type": "code",
   "execution_count": 14,
   "metadata": {},
   "outputs": [
    {
     "name": "stdout",
     "output_type": "stream",
     "text": [
      "{}\n",
      "(0.0, 1000.0)\n",
      "aactp_c + adp_c + h_c --> acac_c + atp_c\n"
     ]
    }
   ],
   "source": [
    "acack = Reaction(\"acack\")\n",
    "acack.name = \"acetoacetate kinase\"\n",
    "\n",
    "acack.add_metabolites({\n",
    "    WLmodelActn.metabolites.aactp_c: -1.0,   #Acetoacetyl_P\n",
    "    WLmodelActn.metabolites.adp_c: -1.0,     #ADP C10H12N5O10P2\n",
    "    WLmodelActn.metabolites.h_c: -1.0,       #proton\n",
    "    WLmodelActn.metabolites.acac_c: 1.0,     #Acetoacetate\n",
    "    WLmodelActn.metabolites.atp_c: 1.0       #ATP C10H12N5O13P3\n",
    "})\n",
    "print(acack.check_mass_balance())    #ensure correct mass balance\n",
    "print(acack.bounds)                  #Ensure correct bounds\n",
    "print(acack.reaction)                #Ensure correct reaction"
   ]
  },
  {
   "cell_type": "code",
   "execution_count": 15,
   "metadata": {},
   "outputs": [],
   "source": [
    "WLmodelActn.add_reactions([ptacac, acack])"
   ]
  },
  {
   "cell_type": "markdown",
   "metadata": {},
   "source": [
    "## Change medium, run FBA, and visualize in Escher"
   ]
  },
  {
   "cell_type": "code",
   "execution_count": 16,
   "metadata": {},
   "outputs": [],
   "source": [
    "medium = WLmodel.medium\n",
    "\n",
    "medium['EX_co2_e'] = 10\n",
    "medium['EX_co_e'] = 0\n",
    "medium['EX_ac_e'] = 0\n",
    "medium['EX_etoh_e'] = 0\n",
    "medium['EX_btd_RR_e'] = 0\n",
    "medium['EX_but_e'] = 0\n",
    "medium['EX_btoh_e'] = 0\n",
    "medium['EX_h2_e'] = 1000\n",
    "\n",
    "WLmodel.medium = medium"
   ]
  },
  {
   "cell_type": "code",
   "execution_count": 17,
   "metadata": {},
   "outputs": [
    {
     "data": {
      "text/html": [
       "<strong><em>Optimal</em> solution with objective value 0.500</strong><br><div>\n",
       "<style scoped>\n",
       "    .dataframe tbody tr th:only-of-type {\n",
       "        vertical-align: middle;\n",
       "    }\n",
       "\n",
       "    .dataframe tbody tr th {\n",
       "        vertical-align: top;\n",
       "    }\n",
       "\n",
       "    .dataframe thead th {\n",
       "        text-align: right;\n",
       "    }\n",
       "</style>\n",
       "<table border=\"1\" class=\"dataframe\">\n",
       "  <thead>\n",
       "    <tr style=\"text-align: right;\">\n",
       "      <th></th>\n",
       "      <th>fluxes</th>\n",
       "      <th>reduced_costs</th>\n",
       "    </tr>\n",
       "  </thead>\n",
       "  <tbody>\n",
       "    <tr>\n",
       "      <th>H2td</th>\n",
       "      <td>0.0</td>\n",
       "      <td>-0.0</td>\n",
       "    </tr>\n",
       "    <tr>\n",
       "      <th>H2Ot</th>\n",
       "      <td>-2.0</td>\n",
       "      <td>-0.0</td>\n",
       "    </tr>\n",
       "    <tr>\n",
       "      <th>CO2t</th>\n",
       "      <td>1.5</td>\n",
       "      <td>0.0</td>\n",
       "    </tr>\n",
       "    <tr>\n",
       "      <th>COt</th>\n",
       "      <td>0.0</td>\n",
       "      <td>0.0</td>\n",
       "    </tr>\n",
       "    <tr>\n",
       "      <th>ETOHt</th>\n",
       "      <td>0.0</td>\n",
       "      <td>-0.0</td>\n",
       "    </tr>\n",
       "    <tr>\n",
       "      <th>...</th>\n",
       "      <td>...</td>\n",
       "      <td>...</td>\n",
       "    </tr>\n",
       "    <tr>\n",
       "      <th>ADC</th>\n",
       "      <td>0.5</td>\n",
       "      <td>0.0</td>\n",
       "    </tr>\n",
       "    <tr>\n",
       "      <th>ACTt</th>\n",
       "      <td>0.5</td>\n",
       "      <td>0.0</td>\n",
       "    </tr>\n",
       "    <tr>\n",
       "      <th>EX_act_e</th>\n",
       "      <td>0.5</td>\n",
       "      <td>0.0</td>\n",
       "    </tr>\n",
       "    <tr>\n",
       "      <th>ptacac</th>\n",
       "      <td>0.5</td>\n",
       "      <td>0.0</td>\n",
       "    </tr>\n",
       "    <tr>\n",
       "      <th>acack</th>\n",
       "      <td>0.5</td>\n",
       "      <td>0.0</td>\n",
       "    </tr>\n",
       "  </tbody>\n",
       "</table>\n",
       "<p>59 rows × 2 columns</p>\n",
       "</div>"
      ],
      "text/plain": [
       "<Solution 0.500 at 0x7fe1a144aef0>"
      ]
     },
     "execution_count": 17,
     "metadata": {},
     "output_type": "execute_result"
    }
   ],
   "source": [
    "WLmodelActn.reactions.CODH_ACS.bounds = 1,1\n",
    "WLmodelActn.objective = \"EX_act_e\"\n",
    "solution = WLmodelActn.optimize()\n",
    "WLmodelActn.optimize()"
   ]
  },
  {
   "cell_type": "code",
   "execution_count": 18,
   "metadata": {},
   "outputs": [
    {
     "data": {
      "application/vnd.jupyter.widget-view+json": {
       "model_id": "913030e6fa8b4f9a96e1ab93c2fd41d8",
       "version_major": 2,
       "version_minor": 0
      },
      "text/plain": [
       "Builder(reaction_data={'H2td': 0.0, 'H2Ot': -2.0, 'CO2t': 1.5, 'COt': 0.0, 'ETOHt': 0.0, 'BTDt_RR': 0.0, 'BUTt…"
      ]
     },
     "metadata": {},
     "output_type": "display_data"
    }
   ],
   "source": [
    "Builder(model = WLmodelActn, map_json = '../../Models/EscherMaps/WL_core_Actn_SK.json', reaction_data = solution.fluxes.to_dict())\n"
   ]
  },
  {
   "cell_type": "code",
   "execution_count": 19,
   "metadata": {},
   "outputs": [],
   "source": [
    "cobra.io.write_sbml_model(WLmodelActn, \"../../Models/WLPathway_sink.xml\")"
   ]
  }
 ],
 "metadata": {
  "kernelspec": {
   "display_name": "dFBACoCultivation",
   "language": "python",
   "name": "dfbacocultivation"
  },
  "language_info": {
   "codemirror_mode": {
    "name": "ipython",
    "version": 3
   },
   "file_extension": ".py",
   "mimetype": "text/x-python",
   "name": "python",
   "nbconvert_exporter": "python",
   "pygments_lexer": "ipython3",
   "version": "3.6.12"
  }
 },
 "nbformat": 4,
 "nbformat_minor": 4
}
