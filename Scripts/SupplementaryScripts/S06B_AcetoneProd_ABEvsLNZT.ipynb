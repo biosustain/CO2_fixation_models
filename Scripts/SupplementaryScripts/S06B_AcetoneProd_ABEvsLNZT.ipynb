{
 "cells": [
  {
   "cell_type": "markdown",
   "metadata": {},
   "source": [
    "# Notebook 05: Up- and Downstream Wood Ljungdahl Metabolism\n",
    "\n",
    "This notebook is meant to compare the acetone production route through Acetoacetyl-P proposed by Lanzatech (https://info.ornl.gov/sites/publications/Files/Pub127156.pdf) to the production by the route of ABE fermentation.\n",
    "\n",
    "Notebook author: Philip J. Gorter de Vries"
   ]
  },
  {
   "cell_type": "code",
   "execution_count": 1,
   "metadata": {},
   "outputs": [],
   "source": [
    "import cobra.io\n",
    "import escher\n",
    "from escher import Builder\n",
    "from cobra import Model, Reaction, Metabolite"
   ]
  },
  {
   "cell_type": "code",
   "execution_count": 6,
   "metadata": {},
   "outputs": [
    {
     "data": {
      "text/html": [
       "\n",
       "        <table>\n",
       "            <tr>\n",
       "                <td><strong>Reaction identifier</strong></td><td>SK_accoa_c</td>\n",
       "            </tr><tr>\n",
       "                <td><strong>Name</strong></td><td>Acetyl-CoA sink</td>\n",
       "            </tr><tr>\n",
       "                <td><strong>Memory address</strong></td>\n",
       "                <td>0x07fe0aadcfba8</td>\n",
       "            </tr><tr>\n",
       "                <td><strong>Stoichiometry</strong></td>\n",
       "                <td>\n",
       "                    <p style='text-align:right'>accoa_c <=></p>\n",
       "                    <p style='text-align:right'>Acetyl-CoA <=></p>\n",
       "                </td>\n",
       "            </tr><tr>\n",
       "                <td><strong>GPR</strong></td><td></td>\n",
       "            </tr><tr>\n",
       "                <td><strong>Lower bound</strong></td><td>-1</td>\n",
       "            </tr><tr>\n",
       "                <td><strong>Upper bound</strong></td><td>1</td>\n",
       "            </tr>\n",
       "        </table>\n",
       "        "
      ],
      "text/plain": [
       "<Reaction SK_accoa_c at 0x7fe0aadcfba8>"
      ]
     },
     "execution_count": 6,
     "metadata": {},
     "output_type": "execute_result"
    }
   ],
   "source": [
    "WLmodel = cobra.io.read_sbml_model('../../Models/WLPathway_sink.xml')\n",
    "\n",
    "WLmodel.add_boundary(WLmodel.metabolites.get_by_id(\"accoa_c\"), type=\"sink\")\n",
    "\n",
    "WLmodel.reactions.CODH_ACS.bounds = 0,0 # cut off the upstream pathway\n",
    "WLmodel.reactions.SK_accoa_c.bounds = -1,1\n",
    "\n",
    "WLmodel.reactions.SK_accoa_c"
   ]
  },
  {
   "cell_type": "code",
   "execution_count": 7,
   "metadata": {},
   "outputs": [
    {
     "name": "stdout",
     "output_type": "stream",
     "text": [
      "Acetone exchange\n",
      "  Acetone:  0.5\n",
      "  check flux:  0.5\n",
      "  ATP:  0.5\n",
      "  NADH:  0.0\n",
      "  NADPH:  0.0\n",
      "  Ferredoxin:  0.0\n",
      "  H+:  -0.5 \n",
      "\n"
     ]
    },
    {
     "data": {
      "application/vnd.jupyter.widget-view+json": {
       "model_id": "bb4f8ee4892044f8962cd51a7520b5ee",
       "version_major": 2,
       "version_minor": 0
      },
      "text/plain": [
       "Builder(reaction_data={'H2td': 0.0, 'H2Ot': 0.0, 'CO2t': -0.5, 'COt': 0.0, 'ETOHt': 0.0, 'BTDt_RR': 0.0, 'BUTt…"
      ]
     },
     "metadata": {},
     "output_type": "display_data"
    }
   ],
   "source": [
    "WLmodel.objective = \"EX_act_e\"\n",
    "WLmodel.reactions.ptacac.bounds = -1000,1000\n",
    "WLmodel.reactions.acack.bounds = -1000,1000\n",
    "WLmodel.reactions.ctfAB_ac.bounds = 0,0\n",
    "solution_Lanzatech = WLmodel.optimize()\n",
    "print(WLmodel.reactions.get_by_id(\"EX_act_e\").name)\n",
    "print(\"  Acetone: \",WLmodel.slim_optimize())\n",
    "print(\"  check flux: \",WLmodel.reactions.ptacac.flux)\n",
    "print(\"  ATP: \",WLmodel.reactions.SK_atp_c.flux)\n",
    "print(\"  NADH: \",WLmodel.reactions.SK_nadh_c.flux)\n",
    "print(\"  NADPH: \",WLmodel.reactions.SK_nadph_c.flux)\n",
    "print(\"  Ferredoxin: \",WLmodel.reactions.SK_fdxo_42_c.flux)\n",
    "print(\"  H+: \",WLmodel.reactions.SK_h_c.flux,\"\\n\")\n",
    "Builder(model = WLmodel, map_json = '../../Models/EscherMaps/Acetone_ABEvsLNZ.json', reaction_data = solution_Lanzatech.fluxes.to_dict())"
   ]
  },
  {
   "cell_type": "code",
   "execution_count": 8,
   "metadata": {},
   "outputs": [
    {
     "name": "stdout",
     "output_type": "stream",
     "text": [
      "Acetone exchange\n",
      "  Acetone:  0.5\n",
      "  check flux:  0.0\n",
      "  ATP:  0.5\n",
      "  NADH:  0.0\n",
      "  NADPH:  0.0\n",
      "  Ferredoxin:  0.0\n",
      "  H+:  -0.5 \n",
      "\n"
     ]
    },
    {
     "data": {
      "application/vnd.jupyter.widget-view+json": {
       "model_id": "4485348845d5412bb7f3d2ccf6055bc1",
       "version_major": 2,
       "version_minor": 0
      },
      "text/plain": [
       "Builder(reaction_data={'H2td': 0.0, 'H2Ot': 0.0, 'CO2t': -0.5, 'COt': 0.0, 'ETOHt': 0.0, 'BTDt_RR': 0.0, 'BUTt…"
      ]
     },
     "metadata": {},
     "output_type": "display_data"
    }
   ],
   "source": [
    "WLmodel.objective = \"EX_act_e\"\n",
    "WLmodel.reactions.ptacac.bounds = 0,0\n",
    "WLmodel.reactions.acack.bounds = 0,0\n",
    "WLmodel.reactions.ctfAB_ac.bounds = -1000,1000\n",
    "solution_ABE = WLmodel.optimize()\n",
    "print(WLmodel.reactions.get_by_id(\"EX_act_e\").name)\n",
    "print(\"  Acetone: \",WLmodel.slim_optimize())\n",
    "print(\"  check flux: \",WLmodel.reactions.ptacac.flux)\n",
    "print(\"  ATP: \",WLmodel.reactions.SK_atp_c.flux)\n",
    "print(\"  NADH: \",WLmodel.reactions.SK_nadh_c.flux)\n",
    "print(\"  NADPH: \",WLmodel.reactions.SK_nadph_c.flux)\n",
    "print(\"  Ferredoxin: \",WLmodel.reactions.SK_fdxo_42_c.flux)\n",
    "print(\"  H+: \",WLmodel.reactions.SK_h_c.flux,\"\\n\")\n",
    "\n",
    "\n",
    "Builder(model = WLmodel, map_json = '../../Models/EscherMaps/Acetone_ABEvsLNZ.json', reaction_data = solution_ABE.fluxes.to_dict())"
   ]
  }
 ],
 "metadata": {
  "kernelspec": {
   "display_name": "dFBACoCultivation",
   "language": "python",
   "name": "dfbacocultivation"
  },
  "language_info": {
   "codemirror_mode": {
    "name": "ipython",
    "version": 3
   },
   "file_extension": ".py",
   "mimetype": "text/x-python",
   "name": "python",
   "nbconvert_exporter": "python",
   "pygments_lexer": "ipython3",
   "version": "3.6.12"
  }
 },
 "nbformat": 4,
 "nbformat_minor": 4
}
