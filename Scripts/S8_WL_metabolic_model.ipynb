{
 "cells": [
  {
   "cell_type": "code",
   "execution_count": 1,
   "metadata": {},
   "outputs": [],
   "source": [
    "import cobra.io\n",
    "import escher\n",
    "from escher import Builder\n",
    "from cobra import Model, Reaction, Metabolite\n",
    "from os.path import join"
   ]
  },
  {
   "cell_type": "code",
   "execution_count": 2,
   "metadata": {},
   "outputs": [],
   "source": [
    "data_dir = \"/Users/phivri/Documents/GitHub/Biosustain/MoGeoModel\""
   ]
  },
  {
   "cell_type": "code",
   "execution_count": 3,
   "metadata": {},
   "outputs": [
    {
     "name": "stdout",
     "output_type": "stream",
     "text": [
      "Using license file /Users/phivri/gurobi.lic\n",
      "Academic license - for non-commercial use only - expires 2022-07-23\n"
     ]
    }
   ],
   "source": [
    "Cljung_Model = cobra.io.read_sbml_model(join(data_dir,'Models/C-ljungdahlii_iHN637.xml'))\n",
    "\n",
    "medium = Cljung_Model.medium\n",
    "medium[\"EX_fru_e\"]= 0\n",
    "medium[\"EX_co2_e\"]= 1000\n",
    "medium[\"EX_co_e\"]= 0\n",
    "medium[\"EX_h2_e\"]= 10\n",
    "Cljung_Model.medium = medium\n",
    "#solution = Cljung_Model.optimize()"
   ]
  },
  {
   "cell_type": "markdown",
   "metadata": {},
   "source": [
    "# Determine minimal set of reactions for acetogenesis:"
   ]
  },
  {
   "cell_type": "code",
   "execution_count": 4,
   "metadata": {},
   "outputs": [
    {
     "name": "stdout",
     "output_type": "stream",
     "text": [
      "2.5\n"
     ]
    },
    {
     "data": {
      "text/plain": [
       "Index(['EX_h2o_e', 'EX_ac_e', 'EX_co_e', 'EX_co2_e', 'ACKr', 'ATPM', 'EX_h_e',\n",
       "       'CO2t', 'COt', 'ALCD4y', 'CODH4', 'CODH_ACS', 'H2Ot', 'FDH7', 'FTHFLi',\n",
       "       'METR', 'MTHFD', 'MTHFC', 'MTHFR5', 'PTAr', 'RNF', 'ALCD4', 'ATPS4r',\n",
       "       'ACt'],\n",
       "      dtype='object')"
      ]
     },
     "execution_count": 4,
     "metadata": {},
     "output_type": "execute_result"
    }
   ],
   "source": [
    "Cljung_Model = cobra.io.read_sbml_model(join(data_dir,'Models/C-ljungdahlii_iHN637.xml'))\n",
    "\n",
    "medium = Cljung_Model.medium\n",
    "medium[\"EX_fru_e\"]= 0\n",
    "medium[\"EX_co2_e\"]= 1000\n",
    "medium[\"EX_co_e\"]= 10\n",
    "medium[\"EX_h2_e\"]= 0\n",
    "Cljung_Model.medium = medium\n",
    "\n",
    "Cljung_Model.reactions.ATPM.bounds = 0, 1000\n",
    "\n",
    "Cljung_Model.reactions.ACACT1r.bounds = 0,1000.0\n",
    "Cljung_Model.reactions.HACD1.bounds = 0,1000.0\n",
    "Cljung_Model.reactions.ECOAH1.bounds = 0,1000.0\n",
    "Cljung_Model.reactions.ACOAD1z.bounds = 0,1000.0\n",
    "Cljung_Model.reactions.PBUTT.bounds = 0,1000.0\n",
    "Cljung_Model.reactions.BUTKr.bounds = -1000.0,0\n",
    "Cljung_Model.reactions.BTCOARx.bounds = 0,1000.0\n",
    "Cljung_Model.reactions.ALCD4.bounds = -1000.0,0\n",
    "Cljung_Model.reactions.BTOHt.bounds = -1000.0, 1000.0\n",
    "Cljung_Model.reactions.BUTt.bounds = -1000.0, 1000.0\n",
    "\n",
    "Cljung_Model.reactions.ACt2r.knock_out()\n",
    "\n",
    "acT = Reaction(\"ACt\")\n",
    "acT.name = \"Acetate transporter\"\n",
    "acT.add_metabolites({ \n",
    "    Cljung_Model.metabolites.ac_c: -1.0,\n",
    "    Cljung_Model.metabolites.ac_e: 1.0\n",
    "})\n",
    "acT\n",
    "\n",
    "#Cljung_Model.reactions.ACACT1r.knock_out()\n",
    "\n",
    "Cljung_Model.add_reaction(acT)\n",
    "\n",
    "#Cljung_Model.objective = \"ATPS4r\"\n",
    "Cljung_Model.objective = \"EX_ac_e\"\n",
    "#Cljung_Model.objective = \"EX_etoh_e\"\n",
    "#Cljung_Model.objective = \"EX_but_e\"\n",
    "#Cljung_Model.objective = \"EX_btoh_e\"\n",
    "#Cljung_Model.objective = \"EX_btd_RR_e\"\n",
    "print(Cljung_Model.slim_optimize())\n",
    "solution = Cljung_Model.optimize()\n",
    "\n",
    "solution.fluxes[solution.fluxes != 0].index"
   ]
  },
  {
   "cell_type": "code",
   "execution_count": 5,
   "metadata": {},
   "outputs": [
    {
     "data": {
      "application/vnd.jupyter.widget-view+json": {
       "model_id": "b6956432dc234fdcae421d1d55b1c2c4",
       "version_major": 2,
       "version_minor": 0
      },
      "text/plain": [
       "Builder(reaction_data={'EX_h2_e': 0.0, 'EX_h2o_e': -5.0, 'EX_his__L_e': 0.0, 'EX_ile__L_e': 0.0, 'EX_lac__D_e'…"
      ]
     },
     "metadata": {},
     "output_type": "display_data"
    }
   ],
   "source": [
    "Builder(model = Cljung_Model, map_json = join(data_dir,'Models/EscherMaps/WL_core_clean.json'), reaction_data = solution.fluxes.to_dict())"
   ]
  },
  {
   "cell_type": "code",
   "execution_count": 6,
   "metadata": {},
   "outputs": [
    {
     "name": "stdout",
     "output_type": "stream",
     "text": [
      "2.5\n"
     ]
    },
    {
     "data": {
      "application/vnd.jupyter.widget-view+json": {
       "model_id": "830e3aedf495449a98cdb42bbf70f158",
       "version_major": 2,
       "version_minor": 0
      },
      "text/plain": [
       "Builder(reaction_data={'EX_h2_e': 0.0, 'EX_h2o_e': -5.0, 'EX_ac_e': 2.5, 'EX_co2_e': 5.0, 'EX_co_e': -10.0, 'E…"
      ]
     },
     "metadata": {},
     "output_type": "display_data"
    }
   ],
   "source": [
    "WLmodel = Model('Wood_Ljungdahl_Core')\n",
    "\n",
    "WLmodel.add_reactions([\n",
    "Cljung_Model.reactions.EX_h2_e,\n",
    "Cljung_Model.reactions.EX_h2o_e,\n",
    "Cljung_Model.reactions.EX_ac_e,\n",
    "Cljung_Model.reactions.EX_co2_e,\n",
    "Cljung_Model.reactions.EX_co_e,\n",
    "Cljung_Model.reactions.EX_h_e,\n",
    "Cljung_Model.reactions.CO2t,\n",
    "Cljung_Model.reactions.COt,\n",
    "Cljung_Model.reactions.ACt,\n",
    "\n",
    "Cljung_Model.reactions.ACKr,\n",
    "Cljung_Model.reactions.ADK1,\n",
    "Cljung_Model.reactions.H2Ot,\n",
    "Cljung_Model.reactions.H2td,\n",
    "\n",
    "Cljung_Model.reactions.ASPT,\n",
    "Cljung_Model.reactions.CODH4,\n",
    "Cljung_Model.reactions.CODH_ACS,\n",
    "\n",
    "Cljung_Model.reactions.FRNDPR2r,\n",
    "Cljung_Model.reactions.POR,\n",
    "Cljung_Model.reactions.PFL,\n",
    "    \n",
    "Cljung_Model.reactions.FDH7,\n",
    "Cljung_Model.reactions.FUM,\n",
    "Cljung_Model.reactions.FTHFLi,\n",
    "Cljung_Model.reactions.GLUDy,\n",
    "Cljung_Model.reactions.METR,\n",
    "Cljung_Model.reactions.HYDFDN2r,\n",
    "Cljung_Model.reactions.MDH,\n",
    "Cljung_Model.reactions.MTHFD,\n",
    "Cljung_Model.reactions.MTHFC,\n",
    "Cljung_Model.reactions.MTHFR5,\n",
    "Cljung_Model.reactions.PTAr,\n",
    "Cljung_Model.reactions.RNF,\n",
    "Cljung_Model.reactions.PPA,\n",
    "Cljung_Model.reactions.ASPTA,\n",
    "Cljung_Model.reactions.ATPS4r,\n",
    "Cljung_Model.reactions.NTPP6])\n",
    "\n",
    "WLmodel.objective = \"EX_ac_e\"\n",
    "print(WLmodel.slim_optimize())\n",
    "solution = WLmodel.optimize()\n",
    "Builder(model = WLmodel, map_json = join(data_dir,'Models/EscherMaps/WL_core.json'), reaction_data = solution.fluxes.to_dict())"
   ]
  },
  {
   "cell_type": "code",
   "execution_count": null,
   "metadata": {},
   "outputs": [],
   "source": []
  },
  {
   "cell_type": "code",
   "execution_count": 7,
   "metadata": {},
   "outputs": [
    {
     "name": "stdout",
     "output_type": "stream",
     "text": [
      "ACt2r\n",
      "HYDFDi\n",
      "HYDFDN\n"
     ]
    }
   ],
   "source": [
    "for x in Cljung_Model.reactions:\n",
    "    if x.bounds == (0, 0):{\n",
    "        print(x.id)\n",
    "    }"
   ]
  },
  {
   "cell_type": "code",
   "execution_count": 8,
   "metadata": {},
   "outputs": [
    {
     "name": "stdout",
     "output_type": "stream",
     "text": [
      "Acetate production\n",
      "Product flux 0.0\n"
     ]
    },
    {
     "ename": "RuntimeError",
     "evalue": "reaction 'ATPS4r' is not part of a model",
     "output_type": "error",
     "traceback": [
      "\u001b[0;31m---------------------------------------------------------------------------\u001b[0m",
      "\u001b[0;31mAttributeError\u001b[0m                            Traceback (most recent call last)",
      "\u001b[0;32m~/opt/anaconda3/envs/dFBACoCultivation/lib/python3.6/site-packages/cobra/core/reaction.py\u001b[0m in \u001b[0;36mflux\u001b[0;34m(self)\u001b[0m\n\u001b[1;32m    332\u001b[0m             \u001b[0mcheck_solver_status\u001b[0m\u001b[0;34m(\u001b[0m\u001b[0mself\u001b[0m\u001b[0;34m.\u001b[0m\u001b[0m_model\u001b[0m\u001b[0;34m.\u001b[0m\u001b[0msolver\u001b[0m\u001b[0;34m.\u001b[0m\u001b[0mstatus\u001b[0m\u001b[0;34m)\u001b[0m\u001b[0;34m\u001b[0m\u001b[0;34m\u001b[0m\u001b[0m\n\u001b[0;32m--> 333\u001b[0;31m             \u001b[0;32mreturn\u001b[0m \u001b[0mself\u001b[0m\u001b[0;34m.\u001b[0m\u001b[0mforward_variable\u001b[0m\u001b[0;34m.\u001b[0m\u001b[0mprimal\u001b[0m \u001b[0;34m-\u001b[0m \u001b[0mself\u001b[0m\u001b[0;34m.\u001b[0m\u001b[0mreverse_variable\u001b[0m\u001b[0;34m.\u001b[0m\u001b[0mprimal\u001b[0m\u001b[0;34m\u001b[0m\u001b[0;34m\u001b[0m\u001b[0m\n\u001b[0m\u001b[1;32m    334\u001b[0m         \u001b[0;32mexcept\u001b[0m \u001b[0mAttributeError\u001b[0m\u001b[0;34m:\u001b[0m\u001b[0;34m\u001b[0m\u001b[0;34m\u001b[0m\u001b[0m\n",
      "\u001b[0;32m~/opt/anaconda3/envs/dFBACoCultivation/lib/python3.6/site-packages/optlang/interface.py\u001b[0m in \u001b[0;36mprimal\u001b[0;34m(self)\u001b[0m\n\u001b[1;32m    279\u001b[0m         \u001b[0;32mif\u001b[0m \u001b[0mself\u001b[0m\u001b[0;34m.\u001b[0m\u001b[0mproblem\u001b[0m\u001b[0;34m:\u001b[0m\u001b[0;34m\u001b[0m\u001b[0;34m\u001b[0m\u001b[0m\n\u001b[0;32m--> 280\u001b[0;31m             \u001b[0;32mreturn\u001b[0m \u001b[0mself\u001b[0m\u001b[0;34m.\u001b[0m\u001b[0m_get_primal\u001b[0m\u001b[0;34m(\u001b[0m\u001b[0;34m)\u001b[0m\u001b[0;34m\u001b[0m\u001b[0;34m\u001b[0m\u001b[0m\n\u001b[0m\u001b[1;32m    281\u001b[0m         \u001b[0;32melse\u001b[0m\u001b[0;34m:\u001b[0m\u001b[0;34m\u001b[0m\u001b[0;34m\u001b[0m\u001b[0m\n",
      "\u001b[0;32m~/opt/anaconda3/envs/dFBACoCultivation/lib/python3.6/site-packages/optlang/gurobi_interface.py\u001b[0m in \u001b[0;36m_get_primal\u001b[0;34m(self)\u001b[0m\n\u001b[1;32m    157\u001b[0m     \u001b[0;32mdef\u001b[0m \u001b[0m_get_primal\u001b[0m\u001b[0;34m(\u001b[0m\u001b[0mself\u001b[0m\u001b[0;34m)\u001b[0m\u001b[0;34m:\u001b[0m\u001b[0;34m\u001b[0m\u001b[0;34m\u001b[0m\u001b[0m\n\u001b[0;32m--> 158\u001b[0;31m         \u001b[0;32mreturn\u001b[0m \u001b[0mself\u001b[0m\u001b[0;34m.\u001b[0m\u001b[0m_internal_variable\u001b[0m\u001b[0;34m.\u001b[0m\u001b[0mgetAttr\u001b[0m\u001b[0;34m(\u001b[0m\u001b[0;34m'X'\u001b[0m\u001b[0;34m)\u001b[0m\u001b[0;34m\u001b[0m\u001b[0;34m\u001b[0m\u001b[0m\n\u001b[0m\u001b[1;32m    159\u001b[0m \u001b[0;34m\u001b[0m\u001b[0m\n",
      "\u001b[0;32msrc/gurobipy/var.pxi\u001b[0m in \u001b[0;36mgurobipy.gurobipy.Var.getAttr\u001b[0;34m()\u001b[0m\n",
      "\u001b[0;32msrc/gurobipy/attrutil.pxi\u001b[0m in \u001b[0;36mgurobipy.gurobipy.__getattr\u001b[0;34m()\u001b[0m\n",
      "\u001b[0;31mAttributeError\u001b[0m: Unable to retrieve attribute 'X'",
      "\nDuring handling of the above exception, another exception occurred:\n",
      "\u001b[0;31mRuntimeError\u001b[0m                              Traceback (most recent call last)",
      "\u001b[0;32m<ipython-input-8-a7f3feb8299f>\u001b[0m in \u001b[0;36m<module>\u001b[0;34m\u001b[0m\n\u001b[1;32m      4\u001b[0m     \u001b[0mprint\u001b[0m\u001b[0;34m(\u001b[0m\u001b[0;34m\"Acetate production\"\u001b[0m\u001b[0;34m)\u001b[0m\u001b[0;34m\u001b[0m\u001b[0;34m\u001b[0m\u001b[0m\n\u001b[1;32m      5\u001b[0m     \u001b[0mprint\u001b[0m\u001b[0;34m(\u001b[0m\u001b[0;34m\"Product flux\"\u001b[0m\u001b[0;34m,\u001b[0m \u001b[0mCljung_Model\u001b[0m\u001b[0;34m.\u001b[0m\u001b[0mslim_optimize\u001b[0m\u001b[0;34m(\u001b[0m\u001b[0;34m)\u001b[0m\u001b[0;34m)\u001b[0m\u001b[0;34m\u001b[0m\u001b[0;34m\u001b[0m\u001b[0m\n\u001b[0;32m----> 6\u001b[0;31m     \u001b[0mprint\u001b[0m\u001b[0;34m(\u001b[0m\u001b[0;34m\"ATP flux\"\u001b[0m\u001b[0;34m,\u001b[0m \u001b[0mCljung_Model\u001b[0m\u001b[0;34m.\u001b[0m\u001b[0mreactions\u001b[0m\u001b[0;34m.\u001b[0m\u001b[0mATPS4r\u001b[0m\u001b[0;34m.\u001b[0m\u001b[0mflux\u001b[0m\u001b[0;34m)\u001b[0m\u001b[0;34m\u001b[0m\u001b[0;34m\u001b[0m\u001b[0m\n\u001b[0m\u001b[1;32m      7\u001b[0m     \u001b[0mprint\u001b[0m\u001b[0;34m(\u001b[0m\u001b[0;34m\"CO2 flux\"\u001b[0m\u001b[0;34m,\u001b[0m \u001b[0mCljung_Model\u001b[0m\u001b[0;34m.\u001b[0m\u001b[0mreactions\u001b[0m\u001b[0;34m.\u001b[0m\u001b[0mCO2t\u001b[0m\u001b[0;34m.\u001b[0m\u001b[0mflux\u001b[0m\u001b[0;34m)\u001b[0m\u001b[0;34m\u001b[0m\u001b[0;34m\u001b[0m\u001b[0m\n\u001b[1;32m      8\u001b[0m \u001b[0;34m\u001b[0m\u001b[0m\n",
      "\u001b[0;32m~/opt/anaconda3/envs/dFBACoCultivation/lib/python3.6/site-packages/cobra/core/reaction.py\u001b[0m in \u001b[0;36mflux\u001b[0;34m(self)\u001b[0m\n\u001b[1;32m    333\u001b[0m             \u001b[0;32mreturn\u001b[0m \u001b[0mself\u001b[0m\u001b[0;34m.\u001b[0m\u001b[0mforward_variable\u001b[0m\u001b[0;34m.\u001b[0m\u001b[0mprimal\u001b[0m \u001b[0;34m-\u001b[0m \u001b[0mself\u001b[0m\u001b[0;34m.\u001b[0m\u001b[0mreverse_variable\u001b[0m\u001b[0;34m.\u001b[0m\u001b[0mprimal\u001b[0m\u001b[0;34m\u001b[0m\u001b[0;34m\u001b[0m\u001b[0m\n\u001b[1;32m    334\u001b[0m         \u001b[0;32mexcept\u001b[0m \u001b[0mAttributeError\u001b[0m\u001b[0;34m:\u001b[0m\u001b[0;34m\u001b[0m\u001b[0;34m\u001b[0m\u001b[0m\n\u001b[0;32m--> 335\u001b[0;31m             \u001b[0;32mraise\u001b[0m \u001b[0mRuntimeError\u001b[0m\u001b[0;34m(\u001b[0m\u001b[0;34m\"reaction '{}' is not part of a model\"\u001b[0m\u001b[0;34m.\u001b[0m\u001b[0mformat\u001b[0m\u001b[0;34m(\u001b[0m\u001b[0mself\u001b[0m\u001b[0;34m.\u001b[0m\u001b[0mid\u001b[0m\u001b[0;34m)\u001b[0m\u001b[0;34m)\u001b[0m\u001b[0;34m\u001b[0m\u001b[0;34m\u001b[0m\u001b[0m\n\u001b[0m\u001b[1;32m    336\u001b[0m         \u001b[0;31m# Due to below all-catch, which sucks, need to reraise these.\u001b[0m\u001b[0;34m\u001b[0m\u001b[0;34m\u001b[0m\u001b[0;34m\u001b[0m\u001b[0m\n\u001b[1;32m    337\u001b[0m         \u001b[0;32mexcept\u001b[0m \u001b[0;34m(\u001b[0m\u001b[0mRuntimeError\u001b[0m\u001b[0;34m,\u001b[0m \u001b[0mOptimizationError\u001b[0m\u001b[0;34m)\u001b[0m \u001b[0;32mas\u001b[0m \u001b[0merr\u001b[0m\u001b[0;34m:\u001b[0m\u001b[0;34m\u001b[0m\u001b[0;34m\u001b[0m\u001b[0m\n",
      "\u001b[0;31mRuntimeError\u001b[0m: reaction 'ATPS4r' is not part of a model"
     ]
    }
   ],
   "source": [
    "with Cljung_Model:\n",
    "    Cljung_Model.objective = \"EX_ac_e\"\n",
    "    Cljung_Model.reactions.ATPM.bounds = 0, 0\n",
    "    print(\"Acetate production\")\n",
    "    print(\"Product flux\", Cljung_Model.slim_optimize())\n",
    "    print(\"ATP flux\", Cljung_Model.reactions.ATPS4r.flux)\n",
    "    print(\"CO2 flux\", Cljung_Model.reactions.CO2t.flux)\n",
    "    \n",
    "with Cljung_Model:\n",
    "    Cljung_Model.objective = \"EX_etoh_e\"\n",
    "    Cljung_Model.reactions.ATPM.bounds = 0, 0\n",
    "    print(\"Ethanol production\")\n",
    "    print(\"Product flux\", Cljung_Model.slim_optimize())\n",
    "    print(\"ATP flux\", Cljung_Model.reactions.ATPS4r.flux)\n",
    "    print(\"CO2 flux\", Cljung_Model.reactions.CO2t.flux)\n",
    "\n",
    "with Cljung_Model:\n",
    "    Cljung_Model.objective = \"EX_but_e\"\n",
    "    Cljung_Model.reactions.ATPM.bounds = 0, 0\n",
    "    Cljung_Model.reactions.BUTt.bounds = -1000.0, 1000.0\n",
    "    Cljung_Model.reactions.BUTKr.bounds = -1000.0, 1000.0\n",
    "    Cljung_Model.reactions.PBUTT.bounds = -1000.0, 1000.0\n",
    "    Cljung_Model.reactions.ACOAD1z.bounds = -1000.0, 1000.0\n",
    "    Cljung_Model.reactions.ECOAH1.bounds = -1000.0, 1000.0\n",
    "    Cljung_Model.reactions.HACD1.bounds = -1000.0, 1000.0\n",
    "    Cljung_Model.reactions.ACACT1r.bounds = -1000.0, 1000.0\n",
    "    print(\"Butyrate production\")\n",
    "    print(\"Product flux\", Cljung_Model.slim_optimize())\n",
    "    print(\"ATP flux\", Cljung_Model.reactions.ATPS4r.flux)\n",
    "    print(\"CO2 flux\", Cljung_Model.reactions.CO2t.flux)\n",
    "    \n",
    "with Cljung_Model:\n",
    "    Cljung_Model.objective = \"EX_btoh_e\"\n",
    "    Cljung_Model.reactions.ATPM.bounds = 0, 0\n",
    "    Cljung_Model.reactions.BTOHt.bounds = -1000.0, 1000.0\n",
    "    Cljung_Model.reactions.ALCD4.bounds = -1000.0, 1000.0\n",
    "    Cljung_Model.reactions.BTCOARx.bounds = -1000.0, 1000.0\n",
    "    Cljung_Model.reactions.ACOAD1z.bounds = -1000.0, 1000.0\n",
    "    Cljung_Model.reactions.ECOAH1.bounds = -1000.0, 1000.0\n",
    "    Cljung_Model.reactions.HACD1.bounds = -1000.0, 1000.0\n",
    "    Cljung_Model.reactions.ACACT1r.bounds = -1000.0, 1000.0\n",
    "    print(\"Butanol production\")\n",
    "    print(\"Product flux\", Cljung_Model.slim_optimize())\n",
    "    print(\"ATP flux\", Cljung_Model.reactions.ATPS4r.flux)\n",
    "    print(\"CO2 flux\", Cljung_Model.reactions.CO2t.flux)\n",
    "    \n",
    "with Cljung_Model:\n",
    "    Cljung_Model.objective = \"EX_btd_RR_e\"\n",
    "    Cljung_Model.reactions.ATPM.bounds = 0, 0\n",
    "    Cljung_Model.reactions.BTDD_RR.bounds = -1000.0, 1000.0\n",
    "    Cljung_Model.reactions.BTDt_RR.bounds = -1000.0, 1000.0\n",
    "    Cljung_Model.reactions.ACLDC.bounds = -1000.0, 1000.0\n",
    "    Cljung_Model.reactions.ACLS.bounds = -1000.0, 1000.0\n",
    "    Cljung_Model.reactions.POR.bounds = -1000.0, 1000.0\n",
    "    print(\"Butanediol production\")\n",
    "    print(\"Product flux\", Cljung_Model.slim_optimize())\n",
    "    print(\"ATP flux\", Cljung_Model.reactions.ATPS4r.flux)\n",
    "    print(\"CO2 flux\", Cljung_Model.reactions.CO2t.flux)"
   ]
  },
  {
   "cell_type": "code",
   "execution_count": null,
   "metadata": {},
   "outputs": [],
   "source": []
  },
  {
   "cell_type": "code",
   "execution_count": null,
   "metadata": {},
   "outputs": [],
   "source": []
  },
  {
   "cell_type": "code",
   "execution_count": null,
   "metadata": {},
   "outputs": [],
   "source": [
    "Builder(model = Cljung_Model, map_json = join(data_dir,'Models/EscherMaps/WL_core.json'), reaction_data = solution.fluxes.to_dict())"
   ]
  },
  {
   "cell_type": "code",
   "execution_count": null,
   "metadata": {},
   "outputs": [],
   "source": [
    "Cljung_Model.reactions.EX_h2_e\n",
    "Cljung_Model.reactions.EX_h2o_e\n",
    "Cljung_Model.reactions.EX_ac_e\n",
    "Cljung_Model.reactions.EX_co2_e\n",
    "Cljung_Model.reactions.ACt2r\n",
    "Cljung_Model.reactions.ACKr\n",
    "Cljung_Model.reactions.ADK1\n",
    "Cljung_Model.reactions.ATPM\n",
    "Cljung_Model.reactions.EX_h_e\n",
    "Cljung_Model.reactions.CO2t\n",
    "Cljung_Model.reactions.CODH_ACS\n",
    "Cljung_Model.reactions.H2Ot\n",
    "Cljung_Model.reactions.H2td\n",
    "Cljung_Model.reactions.FDH7\n",
    "Cljung_Model.reactions.FRNDPR2r\n",
    "Cljung_Model.reactions.FTHFLi\n",
    "Cljung_Model.reactions.METR\n",
    "Cljung_Model.reactions.HYDFDN2r\n",
    "Cljung_Model.reactions.MTHFD\n",
    "Cljung_Model.reactions.MTHFC\n",
    "Cljung_Model.reactions.MTHFR5\n",
    "Cljung_Model.reactions.PTAr\n",
    "Cljung_Model.reactions.RNF\n",
    "Cljung_Model.reactions.PPA\n",
    "Cljung_Model.reactions.ATPS4r\n",
    "Cljung_Model.reactions.NTPP6"
   ]
  },
  {
   "cell_type": "code",
   "execution_count": null,
   "metadata": {},
   "outputs": [],
   "source": []
  },
  {
   "cell_type": "code",
   "execution_count": null,
   "metadata": {},
   "outputs": [],
   "source": [
    "WLmodel = Model('Wood_Ljungdahl_Core')\n",
    "\n",
    "WLmodel.add_reactions([\n",
    "#Transport & Exchange:\n",
    "Cljung_Model.reactions.EX_h2_e,\n",
    "Cljung_Model.reactions.EX_h2o_e,\n",
    "Cljung_Model.reactions.EX_co2_e,\n",
    "Cljung_Model.reactions.EX_co_e,\n",
    "Cljung_Model.reactions.EX_pi_e,\n",
    "Cljung_Model.reactions.EX_ac_e,\n",
    "Cljung_Model.reactions.EX_etoh_e,\n",
    "Cljung_Model.reactions.EX_btd_RR_e,\n",
    "Cljung_Model.reactions.EX_but_e,\n",
    "Cljung_Model.reactions.EX_btoh_e,\n",
    "Cljung_Model.reactions.H2td,\n",
    "Cljung_Model.reactions.H2Ot,\n",
    "Cljung_Model.reactions.CO2t,\n",
    "Cljung_Model.reactions.COt,\n",
    "#Cljung_Model.reactions.ACt2r,\n",
    "Cljung_Model.reactions.ETOHt,\n",
    "Cljung_Model.reactions.BTDt_RR,\n",
    "Cljung_Model.reactions.BUTt,\n",
    "Cljung_Model.reactions.BTOHt,\n",
    "#Energy:\n",
    "Cljung_Model.reactions.HYDFDN,\n",
    "Cljung_Model.reactions.HYDFDi,\n",
    "Cljung_Model.reactions.HYDFDN2r,\n",
    "Cljung_Model.reactions.ATPS4r,\n",
    "Cljung_Model.reactions.ATPM,\n",
    "Cljung_Model.reactions.RNF,#Add this reaction in Escher\n",
    "Cljung_Model.reactions.NTPP6,#Add this reaction in Escher\n",
    "Cljung_Model.reactions.PPA,#Add this reaction in Escher\n",
    "Cljung_Model.reactions.ADK1,#Add this reaction in Escher\n",
    "Cljung_Model.reactions.FRNDPR2r,#Add this reaction in Escher\n",
    "#WL pathway\n",
    "Cljung_Model.reactions.FDH7,\n",
    "Cljung_Model.reactions.FTHFLi,\n",
    "Cljung_Model.reactions.MTHFC,\n",
    "Cljung_Model.reactions.MTHFD,\n",
    "Cljung_Model.reactions.MTHFR5,\n",
    "Cljung_Model.reactions.METR,\n",
    "Cljung_Model.reactions.CODH4,\n",
    "Cljung_Model.reactions.CODH_ACS,\n",
    "Cljung_Model.reactions.PTAr,\n",
    "Cljung_Model.reactions.ACKr,\n",
    "Cljung_Model.reactions.ACAFDOR,\n",
    "Cljung_Model.reactions.ALCD2y,\n",
    "Cljung_Model.reactions.ALCD2x,\n",
    "Cljung_Model.reactions.POR,\n",
    "Cljung_Model.reactions.ACLS,\n",
    "Cljung_Model.reactions.ACLDC,\n",
    "Cljung_Model.reactions.BTDD_RR,\n",
    "Cljung_Model.reactions.ACACT1r,\n",
    "Cljung_Model.reactions.HACD1,\n",
    "Cljung_Model.reactions.ECOAH1,\n",
    "Cljung_Model.reactions.ACOAD1z,\n",
    "Cljung_Model.reactions.BTCOARx,\n",
    "Cljung_Model.reactions.ALCD4,\n",
    "Cljung_Model.reactions.PBUTT,\n",
    "Cljung_Model.reactions.BUTKr])"
   ]
  },
  {
   "cell_type": "code",
   "execution_count": null,
   "metadata": {},
   "outputs": [],
   "source": [
    "for x in WLmodel.reactions:\n",
    "    if x.bounds == (0, 0):{\n",
    "        print(x.id)\n",
    "    }"
   ]
  },
  {
   "cell_type": "code",
   "execution_count": null,
   "metadata": {},
   "outputs": [],
   "source": [
    "WLmodel.objective = \"EX_etoh_e\"\n",
    "WLmodel.optimize()"
   ]
  },
  {
   "cell_type": "code",
   "execution_count": null,
   "metadata": {},
   "outputs": [],
   "source": [
    "WLmodel.reactions.ACt2r"
   ]
  },
  {
   "cell_type": "code",
   "execution_count": null,
   "metadata": {},
   "outputs": [],
   "source": [
    "WLmodel.objective = \"EX_ac_e\"\n",
    "WLmodel.optimize()\n",
    "#solution = WLmodel.optimize()\n",
    "WLmodel.summary()\n",
    "#print(\"Flux through objective function: \",WLmodel.objective.expression, \" = \",round(WLmodel.slim_optimize(),1))\n",
    "#Builder(model = WLmodel, map_json = join(data_dir,'Models/EscherMaps/WL_core.json'), reaction_data = solution.fluxes.to_dict())"
   ]
  },
  {
   "cell_type": "markdown",
   "metadata": {},
   "source": [
    "# Add Acetone production pathway"
   ]
  },
  {
   "cell_type": "code",
   "execution_count": null,
   "metadata": {},
   "outputs": [],
   "source": [
    "WLmodelActn = WLmodel\n",
    "\n",
    "WLmodelActn.add_metabolites(Metabolite(id='acac_c',formula = 'C4H6O3', name = 'Acetoacetate', compartment = 'c' ))\n",
    "WLmodelActn.add_metabolites(Metabolite(id='act_c',formula = 'C3H6O', name = 'Acetone', compartment = 'c' ))\n",
    "WLmodelActn.add_metabolites(Metabolite(id='act_e', formula = 'C3H6O', name = 'Acetone', compartment = 'e'))"
   ]
  },
  {
   "cell_type": "code",
   "execution_count": null,
   "metadata": {},
   "outputs": [],
   "source": [
    "ctfAB_ac = Reaction(\"ctfAB_ac\")\n",
    "ctfAB_ac.name = \"Acetate-acetoacetate CoA-transferase\"\n",
    "\n",
    "ctfAB_ac.add_metabolites({\n",
    "    WLmodelActn.metabolites.ac_c: -1.0,      #Acetate\n",
    "    WLmodelActn.metabolites.aacoa_c: -1.0,   #Acetoacetyl-CoA\n",
    "    WLmodelActn.metabolites.acac_c: 1.0,     #Acetoacetate\n",
    "    WLmodelActn.metabolites.accoa_c: 1.0,    #Acetyl-CoA\n",
    "    WLmodelActn.metabolites.h_c: 1.0\n",
    "})\n",
    "print(ctfAB_ac.check_mass_balance())    #ensure correct mass balance\n",
    "print(ctfAB_ac.bounds)                  #Ensure correct bounds\n",
    "print(ctfAB_ac.reaction)                #Ensure correct reaction"
   ]
  },
  {
   "cell_type": "code",
   "execution_count": null,
   "metadata": {},
   "outputs": [],
   "source": [
    "adc = Reaction(\"ADC\")\n",
    "adc.name = \"acetoacetate decarboxylase\"\n",
    "\n",
    "adc.add_metabolites({\n",
    "    WLmodelActn.metabolites.acac_c: -1.0,     #Acetoacetate\n",
    "    WLmodelActn.metabolites.h_c: -1.0, \n",
    "    WLmodelActn.metabolites.act_c: 1.0,\n",
    "    WLmodelActn.metabolites.co2_c: 1.0\n",
    "})\n",
    "print(adc.check_mass_balance())    #ensure correct mass balance\n",
    "print(adc.reaction)                #Ensure correct reaction"
   ]
  },
  {
   "cell_type": "code",
   "execution_count": null,
   "metadata": {},
   "outputs": [],
   "source": [
    "acT = Reaction(\"ACt\")\n",
    "acT.name = \"Acetate transporter\"\n",
    "acT.add_metabolites({ \n",
    "    WLmodelActn.metabolites.ac_c: -1.0,\n",
    "    WLmodelActn.metabolites.ac_e: 1.0\n",
    "})\n",
    "acT"
   ]
  },
  {
   "cell_type": "code",
   "execution_count": null,
   "metadata": {},
   "outputs": [],
   "source": [
    "actT = Reaction(\"ACTt\")\n",
    "actT.name = \"Acetone transporter\"\n",
    "actT.add_metabolites({ \n",
    "    WLmodelActn.metabolites.act_c: -1.0,\n",
    "    WLmodelActn.metabolites.act_e: 1.0\n",
    "})\n",
    "actT"
   ]
  },
  {
   "cell_type": "code",
   "execution_count": null,
   "metadata": {},
   "outputs": [],
   "source": [
    "act_ex = Reaction(\"EX_act_e\")\n",
    "act_ex.name = \"Acetone exchange\"\n",
    "act_ex.add_metabolites({ \n",
    "    WLmodelActn.metabolites.act_e: -1.0,\n",
    "})\n",
    "act_ex"
   ]
  },
  {
   "cell_type": "code",
   "execution_count": null,
   "metadata": {},
   "outputs": [],
   "source": [
    "WLmodelActn.add_reactions([ctfAB_ac, adc, acT, actT, act_ex])"
   ]
  },
  {
   "cell_type": "code",
   "execution_count": null,
   "metadata": {},
   "outputs": [],
   "source": [
    "WLmodelActn.objective = \"EX_etoh_e\"\n",
    "WLmodelActn.optimize()"
   ]
  },
  {
   "cell_type": "markdown",
   "metadata": {},
   "source": [
    "# Test model and visualize in Escher"
   ]
  },
  {
   "cell_type": "code",
   "execution_count": null,
   "metadata": {},
   "outputs": [],
   "source": [
    "WLmodelActn.objective = \"EX_ac_e\"\n",
    "WLmodelActn.optimize()\n",
    "#Builder(model = WLmodelActn, map_json = join(data_dir,'Models/AcetonePathway2.json'), reaction_data = solution.fluxes.to_dict())"
   ]
  },
  {
   "cell_type": "code",
   "execution_count": null,
   "metadata": {},
   "outputs": [],
   "source": []
  },
  {
   "cell_type": "code",
   "execution_count": null,
   "metadata": {},
   "outputs": [],
   "source": [
    "#Builder(model = WLmodelActn, map_json = join(data_dir,'Models/WL_core_clean.json'), reaction_data = solution.fluxes.to_dict())#\n",
    "#Builder(model = , map_json = join(data_dir,'Models/AcetonePathway.json'), reaction_data = solution.fluxes.to_dict())"
   ]
  },
  {
   "cell_type": "code",
   "execution_count": null,
   "metadata": {
    "scrolled": false
   },
   "outputs": [],
   "source": [
    "Builder(model = WLmodelActn, map_json = join(data_dir,'Models/EscherMaps/AcetonePathway.json'), reaction_data = solution.fluxes.to_dict())"
   ]
  },
  {
   "cell_type": "code",
   "execution_count": null,
   "metadata": {
    "scrolled": false
   },
   "outputs": [],
   "source": [
    "#Builder(model = WLmodelActn)"
   ]
  },
  {
   "cell_type": "code",
   "execution_count": null,
   "metadata": {},
   "outputs": [],
   "source": [
    "Builder(model = WLmodelActn, map_json = join(data_dir,'Models/EscherMaps/WL_core_Actn.json'), reaction_data = solution.fluxes.to_dict())"
   ]
  },
  {
   "cell_type": "code",
   "execution_count": null,
   "metadata": {},
   "outputs": [],
   "source": [
    "WLmodelActn.reactions"
   ]
  },
  {
   "cell_type": "code",
   "execution_count": null,
   "metadata": {},
   "outputs": [],
   "source": [
    "WLmodelActn.reactions.EX_etoh_e"
   ]
  },
  {
   "cell_type": "code",
   "execution_count": null,
   "metadata": {},
   "outputs": [],
   "source": [
    "WLmodelActn.reactions.EX_ac_e"
   ]
  },
  {
   "cell_type": "code",
   "execution_count": null,
   "metadata": {},
   "outputs": [],
   "source": [
    "WLmodelActn.reactions.ATPM.knock_out()"
   ]
  },
  {
   "cell_type": "code",
   "execution_count": null,
   "metadata": {},
   "outputs": [],
   "source": [
    "for x in WLmodelActn.reactions:\n",
    "    if x.bounds == (0, 0):{\n",
    "        print(x.id)\n",
    "    }"
   ]
  },
  {
   "cell_type": "code",
   "execution_count": null,
   "metadata": {},
   "outputs": [],
   "source": [
    "WLmodelActn.reactions.BTOHt.bounds = -1000.0, 1000.0\n",
    "WLmodelActn.reactions.HYDFDN.bounds = -1000.0, 1000.0\n",
    "WLmodelActn.reactions.HYDFDi.bounds = -1000.0, 1000.0\n",
    "WLmodelActn.reactions.ACACT1r.bounds = -1000.0, 1000.0\n",
    "WLmodelActn.reactions.HACD1.bounds = -1000.0, 1000.0\n",
    "WLmodelActn.reactions.ECOAH1.bounds = -1000.0, 1000.0\n",
    "WLmodelActn.reactions.ACOAD1z.bounds = -1000.0, 1000.0\n",
    "WLmodelActn.reactions.BTCOARx.bounds = -1000.0, 1000.0\n",
    "WLmodelActn.reactions.ALCD4.bounds = -1000.0, 1000.0\n",
    "WLmodelActn.reactions.PBUTT.bounds = -1000.0, 1000.0\n",
    "WLmodelActn.reactions.BUTKr.bounds = -1000.0, 1000.0\n",
    "\n",
    "solution = WLmodelActn.optimize()\n",
    "WLmodelActn.optimize()"
   ]
  },
  {
   "cell_type": "code",
   "execution_count": null,
   "metadata": {},
   "outputs": [],
   "source": [
    "WLmodelActn.objective = \"EX_etoh_e\"\n",
    "WLmodelActn.optimize()\n",
    "#WLmodelActn.summary()\n",
    "#Builder(model = WLmodelActn, map_json = join(data_dir,'Models/EscherMaps/WL_core_Actn.json'), reaction_data = solution.fluxes.to_dict())"
   ]
  },
  {
   "cell_type": "markdown",
   "metadata": {},
   "source": [
    "# Alternative: build from Moorella model"
   ]
  },
  {
   "cell_type": "markdown",
   "metadata": {},
   "source": [
    "Builder(model = Moorella_Model)#, map_json = join(data_dir,'Models/p-thermo_acetone_map.json'))"
   ]
  },
  {
   "cell_type": "markdown",
   "metadata": {},
   "source": [
    "Moorella_Model.metabolites.get_by_id(\"10fthf_c\")"
   ]
  },
  {
   "cell_type": "markdown",
   "metadata": {},
   "source": [
    "Moorella_Model.metabolites.methf_c"
   ]
  },
  {
   "cell_type": "markdown",
   "metadata": {},
   "source": [
    "Moorella_Model.metabolites.mlthf_c"
   ]
  },
  {
   "cell_type": "markdown",
   "metadata": {},
   "source": [
    "Moorella_Model.reactions.TMDS"
   ]
  },
  {
   "cell_type": "markdown",
   "metadata": {},
   "source": [
    "CO2t\n",
    "CODH_ACS\n",
    "PFOR\n",
    "Moorella_Model.reactions.CODH\n",
    "\n",
    "#Transport & Exchange:\n",
    "Moorella_Model.reactions.EX_co_LPAREN_e_RPAREN\n",
    "Moorella_Model.reactions.EX_co2_LPAREN_e_RPAREN\n",
    "Moorella_Model.reactions.EX_h2_LPAREN_e_RPAREN\n",
    "Moorella_Model.reactions.EX_ac_LPAREN_e_RPAREN\n",
    "Moorella_Model.reactions.COt\n",
    "Moorella_Model.reactions.CO2t\n",
    "Moorella_Model.reactions.H2td\n",
    "Moorella_Model.reactions.ACt2r\n",
    "\n",
    "#Energy:\n",
    "Moorella_Model.reactions.HYDFDN\n",
    "Moorella_Model.reactions.CODH\n",
    "\n",
    "#Eastern branch:\n",
    "Moorella_Model.reactions.FDH\n",
    "\n",
    "#Western branch:\n",
    "Moorella_Model.reactions.CODH_ACS\n"
   ]
  },
  {
   "cell_type": "markdown",
   "metadata": {},
   "source": [
    "WLmodel = Model('Wood_Ljungdahl_Core')\n",
    "\n",
    "WLmodel.add_reactions([Moorella_Model.reactions.CODH])"
   ]
  },
  {
   "cell_type": "markdown",
   "metadata": {},
   "source": []
  },
  {
   "cell_type": "markdown",
   "metadata": {},
   "source": [
    "WLmodel = Model('Wood_Ljungdahl_Core')\n",
    "\n",
    "reaction = Reaction('R_3OAS140')\n",
    "reaction.name = '3 oxoacyl acyl carrier protein synthase n C140 '\n",
    "reaction.subsystem = 'Cell Envelope Biosynthesis'\n",
    "reaction.lower_bound = 0.  # This is the default\n",
    "reaction.upper_bound = 1000.  # This is the default"
   ]
  }
 ],
 "metadata": {
  "kernelspec": {
   "display_name": "dFBACoCultivation",
   "language": "python",
   "name": "dfbacocultivation"
  },
  "language_info": {
   "codemirror_mode": {
    "name": "ipython",
    "version": 3
   },
   "file_extension": ".py",
   "mimetype": "text/x-python",
   "name": "python",
   "nbconvert_exporter": "python",
   "pygments_lexer": "ipython3",
   "version": "3.6.12"
  }
 },
 "nbformat": 4,
 "nbformat_minor": 4
}
