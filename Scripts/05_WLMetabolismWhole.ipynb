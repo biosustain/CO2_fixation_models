{
 "cells": [
  {
   "cell_type": "code",
   "execution_count": 1,
   "metadata": {},
   "outputs": [],
   "source": [
    "import numpy as np\n",
    "import pandas as pd\n",
    "import cobra.io\n",
    "import escher\n",
    "from escher import Builder\n",
    "from cobra import Model, Reaction, Metabolite\n",
    "from os.path import join"
   ]
  },
  {
   "cell_type": "code",
   "execution_count": 2,
   "metadata": {},
   "outputs": [
    {
     "name": "stdout",
     "output_type": "stream",
     "text": [
      "Using license file /Users/phivri/gurobi.lic\n",
      "Academic license - for non-commercial use only - expires 2022-07-23\n"
     ]
    }
   ],
   "source": [
    "data_dir = \"/Users/phivri/Documents/GitHub/Biosustain/MoGeoModel\"\n",
    "\n",
    "WLmodel = cobra.io.read_sbml_model(join(data_dir,'Models/WLPathway_bifurcating.xml'))"
   ]
  },
  {
   "cell_type": "markdown",
   "metadata": {},
   "source": [
    "To properly compare all results for the different substrate and product combinations, the model is constrained by the flux through CODH_ACS, so to equal Acetyl-CoA."
   ]
  },
  {
   "cell_type": "code",
   "execution_count": 3,
   "metadata": {},
   "outputs": [],
   "source": [
    "WLmodel.reactions.CODH_ACS.bounds = 1,1"
   ]
  },
  {
   "cell_type": "code",
   "execution_count": 4,
   "metadata": {},
   "outputs": [
    {
     "data": {
      "text/plain": [
       "'10-Formyltetrahydrofolate'"
      ]
     },
     "execution_count": 4,
     "metadata": {},
     "output_type": "execute_result"
    }
   ],
   "source": [
    "WLmodel.metabolites.get_by_id(\"10fthf_c\").name"
   ]
  },
  {
   "cell_type": "code",
   "execution_count": 6,
   "metadata": {},
   "outputs": [],
   "source": [
    "WLmodel.metabolites.h2_e.name  = \"CO\",\n",
    "WLmodel.metabolites.h2o_e.name = \"H2O\",\n",
    "WLmodel.metabolites.co2_e.name = \"CO2\",\n",
    "WLmodel.metabolites.co_e.name = \"CO\",\n",
    "WLmodel.metabolites.pi_e.name = \"Pi\", # Inorganic phosphate\n",
    "WLmodel.metabolites.h_e.name = \"H+\",\n",
    "WLmodel.metabolites.ac_e.name = \"Acetate\",\n",
    "WLmodel.metabolites.etoh_e.name = \"Ethanol\",\n",
    "WLmodel.metabolites.btd_RR_e.name = \"Butanediol\",\n",
    "WLmodel.metabolites.but_e.name = \"Butyrate\",\n",
    "WLmodel.metabolites.btoh_e.name = \"Butanol\",\n",
    "WLmodel.metabolites.h2_c.name = \"CO\",\n",
    "WLmodel.metabolites.h2o_c.name = \"H2O\",\n",
    "WLmodel.metabolites.co2_c.name = \"CO2\",\n",
    "WLmodel.metabolites.co_c.name = \"CO\",\n",
    "WLmodel.metabolites.ac_c.name = \"Acetate\",\n",
    "WLmodel.metabolites.h_c.name = \"H+\",\n",
    "WLmodel.metabolites.etoh_c.name = \"Ethanol\",\n",
    "WLmodel.metabolites.btd_RR_c.name = \"Butanediol\",\n",
    "WLmodel.metabolites.but_c.name = \"Butyrate\",\n",
    "WLmodel.metabolites.btoh_c.name = \"Butanol\",\n",
    "WLmodel.metabolites.fdxr_42_c.name = \"Ferredoxin red.\",\n",
    "WLmodel.metabolites.fdxo_42_c.name = \"Ferredoxin ox.\",\n",
    "WLmodel.metabolites.for_c.name = \"Formate\",\n",
    "WLmodel.metabolites.atp_c.name = \"ATP\",\n",
    "WLmodel.metabolites.thf_c.name = \"THF\", # 5,6,7,8-Tetrahydrofolate\n",
    "WLmodel.metabolites.get_by_id(\"10fthf_c\").name = \"10-FTHF\", # 10-Formyltetrahydrofolate\n",
    "WLmodel.metabolites.adp_c.name = \"ADP\",\n",
    "WLmodel.metabolites.pi_c.name = \"Pi\",\n",
    "WLmodel.metabolites.methf_c.name = \"METHF\", #5,10-Methenyltetrahydrofolate\n",
    "WLmodel.metabolites.mlthf_c.name = \"MLTHF\", #5,10-Methylenetetrahydrofolate\n",
    "WLmodel.metabolites.nadp_c.name = \"NADP\", # Nicotinamide adenine dinucleotide phosphate\n",
    "WLmodel.metabolites.nadph_c.name = \"NADPH\", # Nicotinamide adenine dinucleotide phosphate - reduced\n",
    "WLmodel.metabolites.nadh_c.name = \"NADH\", # Nicotinamide adenine dinucleotide - reduced\n",
    "WLmodel.metabolites.get_by_id(\"5mthf_c\").name = \"5MTHF\", # 5-Methyltetrahydrofolate\n",
    "WLmodel.metabolites.nad_c.name = \"NAD\", # Nicotinamide adenine dinucleotide\n",
    "WLmodel.metabolites.cfesp_c.name = \"CFESP\", # Corrinoid Iron sulfur protein\n",
    "WLmodel.metabolites.mecfsp_c.name = \"MECFSP\", # Methylcorrinoid iron sulfur protein\n",
    "WLmodel.metabolites.coa_c.name = \"CoA\", # Coenzyme A\n",
    "WLmodel.metabolites.accoa_c.name = \"Acetyl_CoA\",\n",
    "WLmodel.metabolites.actp_c.name = \"Acetyl P\",\n",
    "WLmodel.metabolites.acald_c.name = \"Acetaldehyde\",\n",
    "WLmodel.metabolites.pyr_c.name = \"Pyruvate\",\n",
    "WLmodel.metabolites.alac__S_c.name = \"Acetolactate\",\n",
    "WLmodel.metabolites.actn__R_c.name = \"Acetoin\",\n",
    "WLmodel.metabolites.aacoa_c.name = \"Acetoacetyl-CoA\",\n",
    "WLmodel.metabolites.get_by_id(\"3hbcoa_c\").name = \"3HB-CoA\", #(S)-3-Hydroxybutanoyl-CoA\n",
    "WLmodel.metabolites.b2coa_c.name = \"Crotonoyl-CoA\",\n",
    "WLmodel.metabolites.btcoa_c.name = \"Butanoyl-CoA\",\n",
    "WLmodel.metabolites.btal_c.name = \"Butanal\",\n",
    "WLmodel.metabolites.butpi_c.name = \"Butanoyl P\",\n",
    "WLmodel.metabolites.acac_c.name = \"Acetoacetate\",\n",
    "WLmodel.metabolites.act_c.name = \"Acetone\",\n",
    "WLmodel.metabolites.act_e.name = \"Acetone\""
   ]
  },
  {
   "cell_type": "markdown",
   "metadata": {},
   "source": [
    "Define carboxydotrophic and homoacetogenic media, Acetyl-CoA is constrained, so substrates are only absent or present and uptake rates are unconstrained"
   ]
  },
  {
   "cell_type": "code",
   "execution_count": 7,
   "metadata": {},
   "outputs": [],
   "source": [
    "medium_carb = WLmodel.medium\n",
    "medium_carb['EX_co_e'] = 1000\n",
    "medium_carb['EX_co2_e'] = 0\n",
    "medium_carb['EX_h2_e'] = 0\n",
    "\n",
    "medium_hom = WLmodel.medium\n",
    "medium_hom['EX_co_e'] = 0\n",
    "medium_hom['EX_co2_e'] = 1000\n",
    "medium_hom['EX_h2_e'] = 1000"
   ]
  },
  {
   "cell_type": "code",
   "execution_count": 8,
   "metadata": {
    "scrolled": false
   },
   "outputs": [
    {
     "name": "stdout",
     "output_type": "stream",
     "text": [
      "Acetate exchange\n",
      " carb: -4.0 CO + -0.33 H2O + 2.0 CO2 + 1.0 CH3COOH + -0.67 H+ + 1.67 ATP\n",
      "   ATP/Electron donor:  0.42\n",
      "   Product/Electron donor:  0.5\n",
      " hom: -2.0 CO2 + -4.0 H2 + 2.33 H2O + 1.0 CH3COOH + 0.67 H+ + 0.33 ATP\n",
      "   ATP/Electron donor:  0.08\n",
      "   Product/Electron donor:  0.5 \n",
      "\n",
      "Ethanol exchange\n",
      " carb: -6.0 CO + -0.67 H2O + 4.0 CO2 + 1.0 C2H5OH + -2.33 H+ + 2.33 ATP\n",
      "   ATP/Electron donor:  0.39\n",
      "   Product/Electron donor:  0.33\n",
      " hom: -2.0 CO2 + -6.0 H2 + 3.33 H2O + 1.0 C2H5OH + -0.33 H+ + 0.33 ATP\n",
      "   ATP/Electron donor:  0.06\n",
      "   Product/Electron donor:  0.33 \n",
      "\n",
      "Acetone exchange\n",
      " carb: -4.0 CO + -0.5 H2O + 2.5 CO2 + 0.5 C3H6O + -1.0 H+ + 1.0 ATP\n",
      "   ATP/Electron donor:  0.25\n",
      "   Product/Electron donor:  0.38\n",
      " hom: -1.5 CO2 + -4.0 H2 + 2.17 H2O + 0.5 C3H6O + 0.33 H+ + -0.33 ATP\n",
      "   ATP/Electron donor:  -0.08\n",
      "   Product/Electron donor:  0.38 \n",
      "\n",
      "Butyrate (n-C4:0) exchange\n",
      " carb: -5.0 CO + -0.17 H2O + 3.0 CO2 + 0.5 C4H7O2 + -1.33 H+ + 1.83 ATP\n",
      "   ATP/Electron donor:  0.37\n",
      "   Product/Electron donor:  0.4\n",
      " hom: -2.0 CO2 + -5.0 H2 + 3.17 H2O + 0.5 C4H7O2 + 0.33 H+ + 0.17 ATP\n",
      "   ATP/Electron donor:  0.03\n",
      "   Product/Electron donor:  0.4 \n",
      "\n",
      "Butanol exchange\n",
      " carb: -6.0 CO + -0.5 H2O + 4.0 CO2 + 0.5 C4H9OH + -2.0 H+ + 2.0 ATP\n",
      "   ATP/Electron donor:  0.33\n",
      "   Product/Electron donor:  0.33\n",
      " hom: -2.0 CO2 + -6.0 H2 + 3.5 H2O + 0.5 C4H9OH + 0.0 H+ + 0.0 ATP\n",
      "   ATP/Electron donor:  0.0\n",
      "   Product/Electron donor:  0.33 \n",
      "\n",
      " R R  2 3 Butanediol exchange\n",
      " carb: -5.5 CO + -1.83 H2O + 3.5 CO2 + 0.5 C4H10O2 + -0.67 H+ + 0.67 ATP\n",
      "   ATP/Electron donor:  0.12\n",
      "   Product/Electron donor:  0.36\n",
      " hom: -2.0 CO2 + -5.5 H2 + 1.83 H2O + 0.5 C4H10O2 + 1.17 H+ + -1.17 ATP\n",
      "   ATP/Electron donor:  -0.21\n",
      "   Product/Electron donor:  0.36 \n",
      "\n"
     ]
    }
   ],
   "source": [
    "objectives = pd.Series([\"EX_ac_e\",\"EX_etoh_e\",\"EX_act_e\",\"EX_but_e\",\"EX_btoh_e\",\"EX_btd_RR_e\"])\n",
    "formulas = pd.Series([\"CH3COOH\",\"C2H5OH\",\"C3H6O\",\"C4H7O2\",\"C4H9OH\",\"C4H10O2\"], index=objectives)\n",
    "Cmol =  pd.Series([2,2,3,4,4,4], index=objectives)\n",
    "\n",
    "for x in objectives:\n",
    "    print(WLmodel.reactions.get_by_id(x).name)\n",
    "    WLmodel.objective = x\n",
    "    with WLmodel:\n",
    "        WLmodel.medium = medium_carb\n",
    "        WLmodel.optimize()\n",
    "        print(f\" carb: {round(WLmodel.reactions.EX_co_e.flux,2)} CO + {round(WLmodel.reactions.EX_h2o_e.flux,2)} H2O + {round(WLmodel.reactions.EX_co2_e.flux,2)} CO2 + {round(WLmodel.slim_optimize(),2)} {formulas[x]} + {round(WLmodel.reactions.EX_h_e.flux,2)} H+ + {round(WLmodel.reactions.SK_atp_c.flux,2)} ATP\")\n",
    "        print(\"   ATP/Electron donor: \", round(-WLmodel.reactions.SK_atp_c.flux/WLmodel.reactions.EX_co_e.flux,2))\n",
    "        print(\"   Product/Electron donor: \", round(-WLmodel.slim_optimize()*Cmol[x]/WLmodel.reactions.EX_co_e.flux,2))\n",
    "\n",
    "    with WLmodel:\n",
    "        WLmodel.medium = medium_hom\n",
    "        WLmodel.optimize()\n",
    "        print(f\" hom: {round(WLmodel.reactions.EX_co2_e.flux,2)} CO2 + {round(WLmodel.reactions.EX_h2_e.flux,2)} H2 + {round(WLmodel.reactions.EX_h2o_e.flux,2)} H2O + {round(WLmodel.slim_optimize(),2)} {formulas[x]} + {round(WLmodel.reactions.EX_h_e.flux,2)} H+ + {round(WLmodel.reactions.SK_atp_c.flux,2)} ATP\")\n",
    "        print(\"   ATP/Electron donor: \", round(-WLmodel.reactions.SK_atp_c.flux/WLmodel.reactions.EX_h2_e.flux,2))\n",
    "        print(\"   Product/Electron donor: \", round(-WLmodel.slim_optimize()*Cmol[x]/WLmodel.reactions.EX_h2_e.flux,2), \"\\n\")"
   ]
  },
  {
   "cell_type": "markdown",
   "metadata": {},
   "source": [
    "## Closer look, change x within [0:5] to view different product"
   ]
  },
  {
   "cell_type": "code",
   "execution_count": 9,
   "metadata": {},
   "outputs": [
    {
     "data": {
      "application/vnd.jupyter.widget-view+json": {
       "model_id": "9fa499b4d22048f3b1856fa57453b7eb",
       "version_major": 2,
       "version_minor": 0
      },
      "text/plain": [
       "Builder(reaction_data={'EX_h2_e': 0.0, 'EX_h2o_e': -0.3333333333333335, 'EX_co2_e': 2.0, 'EX_co_e': -4.0, 'EX_…"
      ]
     },
     "metadata": {},
     "output_type": "display_data"
    }
   ],
   "source": [
    "x = 0\n",
    "\n",
    "WLmodel.objective = objectives[x]\n",
    "\n",
    "#Medium: choose one by commenting the other out\n",
    "WLmodel.medium = medium_carb\n",
    "#WLmodel.medium = medium_hom\n",
    "\n",
    "solution = WLmodel.optimize()\n",
    "\n",
    "Builder(model = WLmodel, map_json = join(data_dir,'Models/EscherMaps/WLPathway_Bifurcating.json'), reaction_data = solution.fluxes.to_dict())"
   ]
  }
 ],
 "metadata": {
  "kernelspec": {
   "display_name": "dFBACoCultivation",
   "language": "python",
   "name": "dfbacocultivation"
  },
  "language_info": {
   "codemirror_mode": {
    "name": "ipython",
    "version": 3
   },
   "file_extension": ".py",
   "mimetype": "text/x-python",
   "name": "python",
   "nbconvert_exporter": "python",
   "pygments_lexer": "ipython3",
   "version": "3.6.12"
  }
 },
 "nbformat": 4,
 "nbformat_minor": 4
}
