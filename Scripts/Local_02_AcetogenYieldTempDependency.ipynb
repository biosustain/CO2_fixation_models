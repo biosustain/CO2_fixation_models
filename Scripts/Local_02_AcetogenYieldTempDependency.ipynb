{
 "cells": [
  {
   "cell_type": "code",
   "execution_count": 1,
   "metadata": {},
   "outputs": [],
   "source": [
    "from os.path import dirname, join, pardir\n",
    "from cobra.io import read_sbml_model\n",
    "import matplotlib.pyplot as plt\n",
    "import numpy as np\n",
    "import math\n",
    "\n",
    "from IPython.display import Image\n",
    "from IPython.core.display import HTML"
   ]
  },
  {
   "cell_type": "markdown",
   "metadata": {},
   "source": [
    "# Define Process Parameters"
   ]
  },
  {
   "cell_type": "code",
   "execution_count": 2,
   "metadata": {},
   "outputs": [],
   "source": [
    "data_dir = \"/Users/phivri/Documents/GitHub/Biosustain/MoGeoModel\""
   ]
  },
  {
   "cell_type": "code",
   "execution_count": 3,
   "metadata": {},
   "outputs": [],
   "source": [
    "R = 8.314 # [m^3*Pa/K/mol]\n",
    "\n",
    "#Temperature range:\n",
    "T0 = 273.15\n",
    "T = np.arange(T0, T0+80+1, 1)\n",
    "\n",
    "def Kelvin_Celsius(t):\n",
    "    \"\"\"\n",
    "    This function converts Temperature values from Kelvin to degrees Celsius\n",
    "    \"\"\"\n",
    "    return t-273.15\n",
    "\n",
    "def Celsius_Kelvin(t):\n",
    "    \"\"\"\n",
    "    This function converts Temperature values from degrees Celsius to Kelvin\n",
    "    \"\"\"\n",
    "    return t+273.15"
   ]
  },
  {
   "cell_type": "markdown",
   "metadata": {},
   "source": [
    "# Biological Parameters Acetogen"
   ]
  },
  {
   "cell_type": "markdown",
   "metadata": {},
   "source": [
    "### Energy Requirements for Growth and Overall Stoichiometry\n",
    "\\[REF] Heijnen J.J. (2010) Impact of Thermodynamic Principles in Systems Biology. In: Wittmann C., Krull R. (eds) Biosystems Engineering II. Advances in Biochemical Engineering / Biotechnology, vol 121. Springer, Berlin, Heidelberg. https://doi.org/10.1007/10_2009_63"
   ]
  },
  {
   "cell_type": "code",
   "execution_count": 4,
   "metadata": {},
   "outputs": [
    {
     "name": "stdout",
     "output_type": "stream",
     "text": [
      "m_GAM = 1000 [kJ/CmolX]\n"
     ]
    }
   ],
   "source": [
    "m_GAM = 1000 #kJ/CmolX\n",
    "print(\"m_GAM =\", m_GAM, \"[kJ/CmolX]\")"
   ]
  },
  {
   "cell_type": "markdown",
   "metadata": {},
   "source": [
    "### Energy Requirements for Maintenance\n",
    "\n",
    "\\[REF]: L. Tijhuis, M.C. M. van Loosdrecht, and J. J. Heijnen, A Thermodynamically Based Correlation for Maintenance Gibbs Energy Requirements in Aerobic and Anaerobic Chemotrophic Growth "
   ]
  },
  {
   "cell_type": "markdown",
   "metadata": {},
   "source": [
    "<p> NGAM: </p>\n",
    "<div style=\"text-align: center\">  $ m_{NGAM} = 3.3^{6900/R*(1/298-1/T)} $ [$kJ/h/Cmol_{biomass}$]\n",
    "    <span style=\"float:right;\">(eq. 23)</span>\n",
    "</div>"
   ]
  },
  {
   "cell_type": "code",
   "execution_count": 5,
   "metadata": {
    "scrolled": false
   },
   "outputs": [
    {
     "name": "stdout",
     "output_type": "stream",
     "text": [
      "m_NGAM(300) = 1.25 [kJ/h/CmolX]\n"
     ]
    },
    {
     "data": {
      "text/plain": [
       "[<matplotlib.lines.Line2D at 0x7fb08fe12390>]"
      ]
     },
     "execution_count": 5,
     "metadata": {},
     "output_type": "execute_result"
    },
    {
     "data": {
      "image/png": "[encoded data removed]",
      "text/plain": [
       "<Figure size 360x360 with 1 Axes>"
      ]
     },
     "metadata": {
      "needs_background": "light"
     },
     "output_type": "display_data"
    }
   ],
   "source": [
    "def m_NGAM(T):\n",
    "    return 3.3**(69000/R*(1/298-1/T)) #[kJ/h/CmolX]\n",
    "\n",
    "print(\"m_NGAM(300) =\", round(m_NGAM(300),2), \"[kJ/h/CmolX]\")\n",
    "\n",
    "plt.rcParams['axes.spines.right'] = False\n",
    "plt.rcParams['axes.spines.top'] = False\n",
    "\n",
    "plt.figure(figsize=(5,5))\n",
    "#plt.title(f\"Anaerobic Maintenance Energy Requirements\")\n",
    "plt.title(f\"B\", fontdict = {'fontsize': 20}, loc = \"left\")\n",
    "plt.axis([0, 80, 0.01, 200])\n",
    "plt.xlabel('Temperature [Celsius]', fontsize=15)\n",
    "plt.ylabel(r'NGAM Energy Requirement [$kJ/h/CmolX$]', fontsize=15)\n",
    "plt.tick_params(axis='both', which='major', labelsize=15)\n",
    "plt.yscale('log')\n",
    "plt.plot(Kelvin_Celsius(T), m_NGAM(T))"
   ]
  },
  {
   "cell_type": "markdown",
   "metadata": {},
   "source": [
    "## Maximum growth rate temeprature dependence"
   ]
  },
  {
   "cell_type": "code",
   "execution_count": 6,
   "metadata": {},
   "outputs": [
    {
     "data": {
      "text/html": [
       "<div>\n",
       "<style scoped>\n",
       "    .dataframe tbody tr th:only-of-type {\n",
       "        vertical-align: middle;\n",
       "    }\n",
       "\n",
       "    .dataframe tbody tr th {\n",
       "        vertical-align: top;\n",
       "    }\n",
       "\n",
       "    .dataframe thead th {\n",
       "        text-align: right;\n",
       "    }\n",
       "</style>\n",
       "<table border=\"1\" class=\"dataframe\">\n",
       "  <thead>\n",
       "    <tr style=\"text-align: right;\">\n",
       "      <th></th>\n",
       "      <th>ToptC</th>\n",
       "      <th>mumax</th>\n",
       "      <th>ToptK</th>\n",
       "    </tr>\n",
       "  </thead>\n",
       "  <tbody>\n",
       "    <tr>\n",
       "      <th>Rhodospirillum rubrum</th>\n",
       "      <td>30</td>\n",
       "      <td>0.20</td>\n",
       "      <td>303.15</td>\n",
       "    </tr>\n",
       "    <tr>\n",
       "      <th>Caldanaerobacter subterraneus</th>\n",
       "      <td>70</td>\n",
       "      <td>0.14</td>\n",
       "      <td>343.15</td>\n",
       "    </tr>\n",
       "    <tr>\n",
       "      <th>Carboxydocella sporoproducens</th>\n",
       "      <td>60</td>\n",
       "      <td>1.00</td>\n",
       "      <td>333.15</td>\n",
       "    </tr>\n",
       "    <tr>\n",
       "      <th>Carboxydocella thermoautotrophica</th>\n",
       "      <td>58</td>\n",
       "      <td>0.91</td>\n",
       "      <td>331.15</td>\n",
       "    </tr>\n",
       "    <tr>\n",
       "      <th>Carboxydothermus hydrogenoformans</th>\n",
       "      <td>70</td>\n",
       "      <td>0.50</td>\n",
       "      <td>343.15</td>\n",
       "    </tr>\n",
       "    <tr>\n",
       "      <th>Carboxydothermus islandicus</th>\n",
       "      <td>65</td>\n",
       "      <td>0.50</td>\n",
       "      <td>338.15</td>\n",
       "    </tr>\n",
       "    <tr>\n",
       "      <th>Carboxydothermus pertinax</th>\n",
       "      <td>65</td>\n",
       "      <td>0.67</td>\n",
       "      <td>338.15</td>\n",
       "    </tr>\n",
       "    <tr>\n",
       "      <th>Carboxydothermus siderophilus</th>\n",
       "      <td>65</td>\n",
       "      <td>0.11</td>\n",
       "      <td>338.15</td>\n",
       "    </tr>\n",
       "    <tr>\n",
       "      <th>Thermincola carboxydiphila</th>\n",
       "      <td>55</td>\n",
       "      <td>0.77</td>\n",
       "      <td>328.15</td>\n",
       "    </tr>\n",
       "    <tr>\n",
       "      <th>Thermolithobacter carboxydivorans</th>\n",
       "      <td>73</td>\n",
       "      <td>0.77</td>\n",
       "      <td>346.15</td>\n",
       "    </tr>\n",
       "    <tr>\n",
       "      <th>Thermosinus carboxydivorans</th>\n",
       "      <td>60</td>\n",
       "      <td>0.87</td>\n",
       "      <td>333.15</td>\n",
       "    </tr>\n",
       "    <tr>\n",
       "      <th>Clostridium ljungdahlii</th>\n",
       "      <td>37</td>\n",
       "      <td>0.26</td>\n",
       "      <td>310.15</td>\n",
       "    </tr>\n",
       "    <tr>\n",
       "      <th>Clostridium autoethanogenum</th>\n",
       "      <td>37</td>\n",
       "      <td>0.25</td>\n",
       "      <td>310.15</td>\n",
       "    </tr>\n",
       "    <tr>\n",
       "      <th>Clostridium formicoaceticum</th>\n",
       "      <td>37</td>\n",
       "      <td>0.14</td>\n",
       "      <td>310.15</td>\n",
       "    </tr>\n",
       "    <tr>\n",
       "      <th>Clostridium ragsdalei</th>\n",
       "      <td>35</td>\n",
       "      <td>0.25</td>\n",
       "      <td>308.15</td>\n",
       "    </tr>\n",
       "    <tr>\n",
       "      <th>Clostridium scatologenes</th>\n",
       "      <td>37</td>\n",
       "      <td>0.09</td>\n",
       "      <td>310.15</td>\n",
       "    </tr>\n",
       "    <tr>\n",
       "      <th>Clostridium drakei</th>\n",
       "      <td>30</td>\n",
       "      <td>0.29</td>\n",
       "      <td>303.15</td>\n",
       "    </tr>\n",
       "    <tr>\n",
       "      <th>Clostridium carboxidivorans</th>\n",
       "      <td>38</td>\n",
       "      <td>0.23</td>\n",
       "      <td>311.15</td>\n",
       "    </tr>\n",
       "    <tr>\n",
       "      <th>Alkalibaculum bacchi</th>\n",
       "      <td>37</td>\n",
       "      <td>0.17</td>\n",
       "      <td>310.15</td>\n",
       "    </tr>\n",
       "    <tr>\n",
       "      <th>Butyribacterium methylotrophicum</th>\n",
       "      <td>37</td>\n",
       "      <td>0.07</td>\n",
       "      <td>310.15</td>\n",
       "    </tr>\n",
       "    <tr>\n",
       "      <th>Moorella thermoautotrophica</th>\n",
       "      <td>60</td>\n",
       "      <td>0.14</td>\n",
       "      <td>333.15</td>\n",
       "    </tr>\n",
       "    <tr>\n",
       "      <th>Oxobacter pfennigii</th>\n",
       "      <td>37</td>\n",
       "      <td>0.07</td>\n",
       "      <td>310.15</td>\n",
       "    </tr>\n",
       "    <tr>\n",
       "      <th>Acetobacterium Woodii</th>\n",
       "      <td>30</td>\n",
       "      <td>0.16</td>\n",
       "      <td>303.15</td>\n",
       "    </tr>\n",
       "    <tr>\n",
       "      <th>Blautia producta</th>\n",
       "      <td>37</td>\n",
       "      <td>0.67</td>\n",
       "      <td>310.15</td>\n",
       "    </tr>\n",
       "    <tr>\n",
       "      <th>Clostridium aceticum</th>\n",
       "      <td>30</td>\n",
       "      <td>0.10</td>\n",
       "      <td>303.15</td>\n",
       "    </tr>\n",
       "    <tr>\n",
       "      <th>Acetobacterium fimetarium</th>\n",
       "      <td>30</td>\n",
       "      <td>0.02</td>\n",
       "      <td>303.15</td>\n",
       "    </tr>\n",
       "    <tr>\n",
       "      <th>Acetobacterium wieringae</th>\n",
       "      <td>30</td>\n",
       "      <td>0.07</td>\n",
       "      <td>303.15</td>\n",
       "    </tr>\n",
       "    <tr>\n",
       "      <th>Blautia hydrogenotrophica</th>\n",
       "      <td>37</td>\n",
       "      <td>0.08</td>\n",
       "      <td>310.15</td>\n",
       "    </tr>\n",
       "    <tr>\n",
       "      <th>Clostridium magnum</th>\n",
       "      <td>30</td>\n",
       "      <td>0.15</td>\n",
       "      <td>303.15</td>\n",
       "    </tr>\n",
       "    <tr>\n",
       "      <th>Eubacterium aggregans</th>\n",
       "      <td>37</td>\n",
       "      <td>0.01</td>\n",
       "      <td>310.15</td>\n",
       "    </tr>\n",
       "    <tr>\n",
       "      <th>Sporomusa acidovorans</th>\n",
       "      <td>35</td>\n",
       "      <td>0.07</td>\n",
       "      <td>308.15</td>\n",
       "    </tr>\n",
       "    <tr>\n",
       "      <th>Sporomusa ovata</th>\n",
       "      <td>35</td>\n",
       "      <td>0.15</td>\n",
       "      <td>308.15</td>\n",
       "    </tr>\n",
       "    <tr>\n",
       "      <th>Terrisporobacter mayombei</th>\n",
       "      <td>30</td>\n",
       "      <td>0.24</td>\n",
       "      <td>303.15</td>\n",
       "    </tr>\n",
       "    <tr>\n",
       "      <th>Acetogenium kivui</th>\n",
       "      <td>60</td>\n",
       "      <td>0.57</td>\n",
       "      <td>333.15</td>\n",
       "    </tr>\n",
       "  </tbody>\n",
       "</table>\n",
       "</div>"
      ],
      "text/plain": [
       "                                   ToptC  mumax   ToptK\n",
       "Rhodospirillum rubrum                 30   0.20  303.15\n",
       "Caldanaerobacter subterraneus         70   0.14  343.15\n",
       "Carboxydocella sporoproducens         60   1.00  333.15\n",
       "Carboxydocella thermoautotrophica     58   0.91  331.15\n",
       "Carboxydothermus hydrogenoformans     70   0.50  343.15\n",
       "Carboxydothermus islandicus           65   0.50  338.15\n",
       "Carboxydothermus pertinax             65   0.67  338.15\n",
       "Carboxydothermus siderophilus         65   0.11  338.15\n",
       "Thermincola carboxydiphila            55   0.77  328.15\n",
       "Thermolithobacter carboxydivorans     73   0.77  346.15\n",
       "Thermosinus carboxydivorans           60   0.87  333.15\n",
       "Clostridium ljungdahlii               37   0.26  310.15\n",
       "Clostridium autoethanogenum           37   0.25  310.15\n",
       "Clostridium formicoaceticum           37   0.14  310.15\n",
       "Clostridium ragsdalei                 35   0.25  308.15\n",
       "Clostridium scatologenes              37   0.09  310.15\n",
       "Clostridium drakei                    30   0.29  303.15\n",
       "Clostridium carboxidivorans           38   0.23  311.15\n",
       "Alkalibaculum bacchi                  37   0.17  310.15\n",
       "Butyribacterium methylotrophicum      37   0.07  310.15\n",
       "Moorella thermoautotrophica           60   0.14  333.15\n",
       "Oxobacter pfennigii                   37   0.07  310.15\n",
       "Acetobacterium Woodii                 30   0.16  303.15\n",
       "Blautia producta                      37   0.67  310.15\n",
       "Clostridium aceticum                  30   0.10  303.15\n",
       "Acetobacterium fimetarium             30   0.02  303.15\n",
       "Acetobacterium wieringae              30   0.07  303.15\n",
       "Blautia hydrogenotrophica             37   0.08  310.15\n",
       "Clostridium magnum                    30   0.15  303.15\n",
       "Eubacterium aggregans                 37   0.01  310.15\n",
       "Sporomusa acidovorans                 35   0.07  308.15\n",
       "Sporomusa ovata                       35   0.15  308.15\n",
       "Terrisporobacter mayombei             30   0.24  303.15\n",
       "Acetogenium kivui                     60   0.57  333.15"
      ]
     },
     "execution_count": 6,
     "metadata": {},
     "output_type": "execute_result"
    }
   ],
   "source": [
    "import pandas as pd\n",
    "\n",
    "# data from: DOI: 10.3389/fmicb.2015.01275\n",
    "\n",
    "species = pd.Series([\n",
    "    \"Rhodospirillum rubrum\",\n",
    "    \"Caldanaerobacter subterraneus\",\n",
    "    \"Carboxydocella sporoproducens\",\n",
    "    \"Carboxydocella thermoautotrophica\",\n",
    "    \"Carboxydothermus hydrogenoformans\",\n",
    "    \"Carboxydothermus islandicus\",\n",
    "    \"Carboxydothermus pertinax\",\n",
    "    \"Carboxydothermus siderophilus\",\n",
    "    \"Thermincola carboxydiphila\",\n",
    "    \"Thermolithobacter carboxydivorans\",\n",
    "    \"Thermosinus carboxydivorans\",\n",
    "    \"Clostridium ljungdahlii\",\n",
    "    \"Clostridium autoethanogenum\",\n",
    "    \"Clostridium formicoaceticum\",\n",
    "    \"Clostridium ragsdalei\",\n",
    "    \"Clostridium scatologenes\",\n",
    "    \"Clostridium drakei\",\n",
    "    \"Clostridium carboxidivorans\",\n",
    "    \"Alkalibaculum bacchi\",\n",
    "    \"Butyribacterium methylotrophicum\",\n",
    "    \"Moorella thermoautotrophica\",\n",
    "    \"Oxobacter pfennigii\",\n",
    "    \"Acetobacterium Woodii\",\n",
    "    \"Blautia producta\",\n",
    "    \"Clostridium aceticum\",\n",
    "    \"Acetobacterium fimetarium\",\n",
    "    \"Acetobacterium wieringae\",\n",
    "    \"Blautia hydrogenotrophica\",\n",
    "    \"Clostridium magnum\",\n",
    "    \"Eubacterium aggregans\",\n",
    "    \"Sporomusa acidovorans\",\n",
    "    \"Sporomusa ovata\",\n",
    "    \"Terrisporobacter mayombei\",\n",
    "    \"Acetogenium kivui\"])\n",
    "\n",
    "ToptC = pd.Series([30,70,60,58,70,65,65,65,55,73,60,37,37,37,35,37,30,38,37,37,60,37,30,37,30,30,30,37,30,37,35,35,30,60], index = species, name='ToptC')\n",
    "mumax = pd.Series([0.20,0.14,1.00,0.91,0.50,0.50,0.67,0.11,0.77,0.77,0.87,0.26,0.25,0.14,0.25,0.09,0.29,0.23,0.17,0.07,0.14,0.07,0.16,0.67,0.10,0.02,0.07,0.08,0.15,0.01,0.07,0.15,0.24,0.57], index = species, name = \"mumax\")\n",
    "\n",
    "\n",
    "Acetogens = pd.concat([ToptC, mumax], axis=1)\n",
    "Acetogens[\"ToptK\"] = ToptC + 273.15\n",
    "Acetogens"
   ]
  },
  {
   "cell_type": "markdown",
   "metadata": {},
   "source": [
    "### Plot and fit to the Arrhenius equation"
   ]
  },
  {
   "cell_type": "markdown",
   "metadata": {},
   "source": [
    "<p> The Arrhenius equation for max growth rate:</p>\n",
    "<div style=\"text-align: center\">  $ µ_{max} = A*T*e^{-B/(R*T)} $ [$h^{-1}$]\n",
    "    <span style=\"float:right;\">(eq. 27)</span>\n",
    "</div>"
   ]
  },
  {
   "cell_type": "code",
   "execution_count": 7,
   "metadata": {},
   "outputs": [
    {
     "name": "stdout",
     "output_type": "stream",
     "text": [
      "A = 8.664637604856871, B = 24166.931701462072\n"
     ]
    },
    {
     "data": {
      "image/png": "[encoded data removed]",
      "text/plain": [
       "<Figure size 360x360 with 1 Axes>"
      ]
     },
     "metadata": {
      "needs_background": "light"
     },
     "output_type": "display_data"
    }
   ],
   "source": [
    "from scipy.optimize import curve_fit\n",
    "\n",
    "def func(T, A, B):\n",
    "     return A * T * np.exp(-B/(R*T))\n",
    "    \n",
    "popt, pcov = curve_fit(func, Acetogens.ToptK, Acetogens.mumax)\n",
    "\n",
    "print(f\"A = {popt[0]}, B = {popt[1]}\")\n",
    "\n",
    "plt.figure(figsize=(5,5))\n",
    "plt.title(f\"C\", fontdict = {'fontsize': 20}, loc = \"left\")\n",
    "plt.axis([0, 80, 0.01, 1.2])\n",
    "plt.xlabel('Temperature [Celsius]', fontsize=15)\n",
    "plt.ylabel(r'Max growth rate [$h^{-1}$]', fontsize=15)\n",
    "plt.tick_params(axis='both', which='major', labelsize=15)\n",
    "plt.plot(Kelvin_Celsius(T), func(T, *popt), 'g-', label='fit')\n",
    "plt.scatter(Kelvin_Celsius(Acetogens.ToptK), Acetogens.mumax)\n",
    "plt.yscale('log')\n",
    "\n",
    "def µ(T):\n",
    "    return popt[0]*T*np.exp(-popt[1]/(R*T)) #[/h]"
   ]
  },
  {
   "cell_type": "markdown",
   "metadata": {},
   "source": [
    "# Calculate Gibbs Free Energy and Enthalpy"
   ]
  },
  {
   "cell_type": "markdown",
   "metadata": {},
   "source": [
    "<p>Catabolic reaction stoichiometries:</p>\n",
    "\n",
    "<p>$ 2 CO_2 + 4 H_2 <=> CH_3COOH + 2 H_2O $ \n",
    "    <span style=\"float:right;\">(eq. 19)</span> </p>\n",
    "<p>$ 4 CO + 2 H_2O <=> CH_3COOH + 2 CO_2 $\n",
    "    <span style=\"float:right;\">(eq. 20)</span> </p>\n",
    "\n",
    "<p>Anabolic reaction stoichiometries:</p>\n",
    "\n",
    "<p>$ CO_2 + 2.1 H_2 + 0.2 NH_3 <=> CH_{1.8}O_{0.5}N_{0.2} + 1.5 H_2O$\n",
    "    <span style=\"float:right;\">(eq. 21)</span>  </p>\n",
    "<p>$ 2.1 CO + 0.6 H_2O + 0.2 NH_3 <=> CH_{1.8}O_{0.5}N_{0.2} + 1.1 CO_2$\n",
    "    <span style=\"float:right;\">(eq. 22)</span> </p>"
   ]
  },
  {
   "cell_type": "markdown",
   "metadata": {},
   "source": [
    "<p>Gibbs free energy of reaction: </p>\n",
    "<div style=\"text-align: center\">  $ \\Delta _r G^0 = \\sum_i v_i * \\Delta _fG_i^0$ [$kJ/mol$]\n",
    "    <span style=\"float:right;\">(eq. 24)</span>\n",
    "</div>\n",
    "\n",
    "<p>Reaction enthalpy: </p>\n",
    "<div style=\"text-align: center\">  $ \\Delta _r H^0 = \\sum_i v_i * \\Delta _fH_i^0$ [$kJ/mol$]\n",
    "    <span style=\"float:right;\">(eq. 25)</span>\n",
    "</div>\n",
    "\n",
    "<p>Gibbs-Helmoltz equation: </p>\n",
    "<div style=\"text-align: center\">  $ \\Delta _r G^T = \\Delta _r G^0*(T/298.15) +\\Delta _r H^0 * (1-T/298.15) $ [$kJ/mol$]\n",
    "    <span style=\"float:right;\">(eq. 26)</span>\n",
    "</div>"
   ]
  },
  {
   "cell_type": "code",
   "execution_count": 8,
   "metadata": {},
   "outputs": [
    {
     "name": "stdout",
     "output_type": "stream",
     "text": [
      "Gibbs energy:\n",
      "  DrG0_carb = -155.7 [kJ/mol]\n",
      "  DrG0_hom = -75.3 [kJ/mol]\n",
      "\n",
      "Enthalpy:\n",
      "  DrH0_carb = -258.7 [kJ/mol]\n",
      "  DrH0_hom = -266.3 [kJ/mol]\n",
      "\n",
      "Temperature corrected Gibbs energy:\n",
      "  DrGT_carb = -155.1 [kJ/mol]\n",
      "  DrGT_hom = -74.1 [kJ/mol]\n"
     ]
    },
    {
     "data": {
      "image/png": "[encoded data removed]",
      "text/plain": [
       "<Figure size 360x360 with 1 Axes>"
      ]
     },
     "metadata": {
      "needs_background": "light"
     },
     "output_type": "display_data"
    }
   ],
   "source": [
    "#Gibbs energy of Formation at 298.15\n",
    "DfG0_actn = -159.7 #[kJ/mol]\n",
    "DfG0_actt = -389.9 #[kJ/mol]\n",
    "DfG0_co2 = -394.4 #[kJ/mol]\n",
    "DfG0_co = -137.2 #[kJ/mol]\n",
    "DfG0_h2o = -237.1 #[kJ/mol]\n",
    "DfG0_h2 = 0 #[kJ/mol]\n",
    "DfG0_ch4 = -50.53 #[kJ/mol]\n",
    "\n",
    "#standard molar enthalpy\n",
    "DfH0_actn = -249.4 #[KJ/mol]\n",
    "DfH0_actt = -483.5 #[KJ/mol]\n",
    "DfH0_co2 = -394.4 #[KJ/mol]\n",
    "DfH0_co = -110.5 #[KJ/mol]\n",
    "DfH0_h2o = -285.8 #[KJ/mol]\n",
    "DfH0_h2 = 0 #[KJ/mol]\n",
    "DfH0_ch4 = -74.8 #[KJ/mol]\n",
    "\n",
    "#Hess's law:\n",
    "DrG0_carb = -4*DfG0_co - 2*DfG0_h2o + DfG0_actt + 2*DfG0_co2\n",
    "DrG0_hom = -4*DfG0_h2 - 2*DfG0_co2 + DfG0_actt + 2*DfG0_h2o\n",
    "DrG0_met = -1*DfG0_co2 - 4*DfG0_h2 + DfG0_ch4 + 2*DfG0_h2o\n",
    "\n",
    "print(\"Gibbs energy:\\n\",\n",
    "      \" DrG0_carb =\",round(DrG0_carb,1),\"[kJ/mol]\\n\",\n",
    "      \" DrG0_hom =\",round(DrG0_hom,1),\"[kJ/mol]\\n\")\n",
    "\n",
    "DrH0_carb = -4*DfH0_co - 2*DfH0_h2o + DfH0_actt + 2*DfH0_co2\n",
    "DrH0_hom = -4*DfH0_h2 - 2*DfH0_co2 + DfH0_actt + 2*DfH0_h2o\n",
    "DrH0_met = -1*DfH0_co2 - 4*DfH0_h2 + DfH0_ch4 + 2*DfH0_h2o\n",
    "\n",
    "print(\"Enthalpy:\\n\",\n",
    "      \" DrH0_carb =\", round(DrH0_carb,1),\"[kJ/mol]\\n\",\n",
    "      \" DrH0_hom =\", round(DrH0_hom,1),\"[kJ/mol]\\n\")\n",
    "\n",
    "#Gibbs–Helmholtz equation for temperature correction\n",
    "def DrGT_carb(T):\n",
    "    return DrG0_carb * (T/298.15) + DrH0_carb * (1-T/298.15)\n",
    "def DrGT_hom(T):\n",
    "    return DrG0_hom * (T/298.15) + DrH0_hom * (1-T/298.15)\n",
    "def DrGT_met(T):\n",
    "    return DrG0_met * (T/298.15) + DrH0_met * (1-T/298.15)\n",
    "\n",
    "print(\"Temperature corrected Gibbs energy:\\n\",\n",
    "      \" DrGT_carb =\",round(DrGT_carb(300),1),\"[kJ/mol]\\n\",\n",
    "      \" DrGT_hom =\",round(DrGT_hom(300),1),\"[kJ/mol]\")\n",
    "\n",
    "#dropped concentration correction, in accordance with book\n",
    "\n",
    "plt.figure(figsize=(5,5))\n",
    "#plt.title(f\"Gibbs Free Energy of Acetogenesis and Methanogenesis\")\n",
    "plt.title(\"A\", fontdict = {'fontsize': 20}, loc = \"left\")\n",
    "plt.axis([0, 80, -170, 0])\n",
    "plt.xlabel('Temperature [Celsius]', fontsize=15)\n",
    "plt.ylabel('Gibbs Free Energy [kJ/mol]', fontsize=15)\n",
    "plt.plot(Kelvin_Celsius(T), DrGT_hom(T))\n",
    "plt.plot(Kelvin_Celsius(T), DrGT_carb(T))\n",
    "plt.plot(Kelvin_Celsius(T), DrGT_met(T))\n",
    "plt.legend(['Homoacetogen','Carboxydotroph','Methanogen'], fontsize=15)\n",
    "plt.tick_params(axis='both', which='major', labelsize=15)\n"
   ]
  },
  {
   "cell_type": "markdown",
   "metadata": {},
   "source": [
    "<p>Aerobic degradation of Acetate:</p>\n",
    "\n",
    "<div style=\"text-align: center\"> $ CH_3OOH + 2 O^2 => 2 CO_2 + 2 H_2O$<br>\n",
    "$ \\Delta _r G = -899.5$ [$kJ/mol$]\n",
    "    <span style=\"float:right;\">(eq. 31)</span>  </p>"
   ]
  },
  {
   "cell_type": "markdown",
   "metadata": {},
   "source": [
    "## Express Yields as temperature dependent functions"
   ]
  },
  {
   "cell_type": "markdown",
   "metadata": {},
   "source": [
    "<p>Given the reaction stoichiometries:</p>\n",
    "\n",
    "<p>Homoacetogenic</p>\n",
    "<p>$ -2 CO_2 - 4 H_2 + CH_3COOH + 2 H_2O = 0$</p>\n",
    "<p>$ -CO_2 - 2.1 H_2 - 0.2 NH_3 + CH_{1.8}O_{0.5}N_{0.2} + 1.5 H_2O = 0$ </p>\n",
    "<p>Carboxydotrophic</p>\n",
    "<p>$ -4 CO - 2 H_2O + CH_3COOH + 2 CO_2 = 0$</p>\n",
    "<p>$ -2.1 CO - 0.6 H_2O - 0.2 NH_3 + CH_{1.8}O_{0.5}N_{0.2} + 1.1 CO_2 = 0$</p>\n",
    "<p>Methanogenic</p>\n",
    "<p>$ -CO2 - 4 H_2 + CH_4 + 2 H_2O = 0$</p>\n",
    "\n",
    "\n"
   ]
  },
  {
   "cell_type": "code",
   "execution_count": 10,
   "metadata": {},
   "outputs": [
    {
     "name": "stdout",
     "output_type": "stream",
     "text": [
      "Y_PS carb at 30°C : 0.173\n",
      "Y_PS carb at 60°C : 0.215\n",
      "Y_PS hom at 30°C : 0.207\n",
      "Y_PS hom at 60°C : 0.236\n",
      "change of Y_PS carb at 30-60°C:  1.247\n",
      "change of Y_PS hom at 30-60°C:  1.142\n",
      "change of Y_XS carb at 30-60°C:  0.448\n",
      "change of Y_XS hom at 30-60°C:  0.322\n"
     ]
    },
    {
     "data": {
      "image/png": "[encoded data removed]",
      "text/plain": [
       "<Figure size 360x360 with 1 Axes>"
      ]
     },
     "metadata": {
      "needs_background": "light"
     },
     "output_type": "display_data"
    }
   ],
   "source": [
    "#µ = 0.3#[/h]\n",
    "\n",
    "def R_X(T):\n",
    "    return 1 + T*0\n",
    "\n",
    "def R_CO_carb(T):\n",
    "    m_G = 0.3**(69000/R*(1/298-1/T)) #[kJ/h/CmolX]\n",
    "    DrGT_carb = DrG0_carb * (T/298.15) + DrH0_carb * (1-T/298.15)\n",
    "    return -4 * (-(m_G+m_GAM*µ(T))/DrGT_carb) -2.1\n",
    "\n",
    "def R_actt_carb(T):\n",
    "    m_G = 0.3**(69000/R*(1/298-1/T)) #[kJ/h/CmolX]\n",
    "    DrGT_carb = DrG0_carb * (T/298.15) + DrH0_carb * (1-T/298.15)\n",
    "    return -(m_G+m_GAM*µ(T))/DrGT_carb\n",
    "\n",
    "def R_H2_hom(T):\n",
    "    m_G = 0.3**(69000/R*(1/298-1/T)) #[kJ/h/CmolX]\n",
    "    DrGT_hom = DrG0_hom * (T/298.15) + DrH0_hom * (1-T/298.15)\n",
    "    return -4 * (-(m_G+m_GAM*µ(T))/DrGT_hom) -2.1\n",
    "\n",
    "def R_actt_hom(T):\n",
    "    m_G = 0.3**(69000/R*(1/298-1/T)) #[kJ/h/CmolX]\n",
    "    DrGT_hom = DrG0_hom * (T/298.15) + DrH0_hom * (1-T/298.15)\n",
    "    return -(m_G+m_GAM*µ(T))/DrGT_hom\n",
    "\n",
    "plt.figure(figsize=(5,5))\n",
    "plt.title(\"A\", fontdict = {'fontsize': 20}, loc = \"left\")\n",
    "#plt.title(f\"Yields of Acetogenesis on Electron donor\")\n",
    "plt.axis([0, 80, 0, 0.26])\n",
    "plt.xlabel('Temperature [Celsius]', fontsize=15)\n",
    "plt.ylabel('Yield [mol/mol]', fontsize=15)\n",
    "plt.tick_params(axis='both', which='major', labelsize=15)\n",
    "plt.plot(Kelvin_Celsius(T), -R_X(T)/R_CO_carb(T), color='#F67280')\n",
    "plt.plot(Kelvin_Celsius(T), -R_actt_carb(T)/R_CO_carb(T), color='#F8B195')\n",
    "plt.plot(Kelvin_Celsius(T), -R_X(T)/R_H2_hom(T), color='#355C7D')\n",
    "plt.plot(Kelvin_Celsius(T), -R_actt_hom(T)/R_H2_hom(T), color='#7ECCCC')\n",
    "#plt.legend(['Y_PS Carboxydotroph','Y_PS Homoacetogenic'])\n",
    "#plt.label(bbox_to_anchor = [0.5, 0.2])\n",
    "plt.legend([r'$Y_{XS}$ Carboxydotroph',r'$Y_{PS}$ Carboxydotroph',r'$Y_{XS}$ Homoacetogen',r'$Y_{PS}$ Homoacetogen'],bbox_to_anchor=(0.45, 0.45))\n",
    "\n",
    "print(\"Y_PS carb at 30°C :\", round(-R_actt_carb(Celsius_Kelvin(30))/R_CO_carb(Celsius_Kelvin(30)),3))\n",
    "print(\"Y_PS carb at 60°C :\", round(-R_actt_carb(Celsius_Kelvin(60))/R_CO_carb(Celsius_Kelvin(60)),3))\n",
    "print(\"Y_PS hom at 30°C :\", round(-R_actt_hom(Celsius_Kelvin(30))/R_H2_hom(Celsius_Kelvin(30)),3))\n",
    "print(\"Y_PS hom at 60°C :\", round(-R_actt_hom(Celsius_Kelvin(60))/R_H2_hom(Celsius_Kelvin(60)),3))\n",
    "\n",
    "print(\"change of Y_PS carb at 30-60°C: \", \n",
    "      round((-R_actt_carb(Celsius_Kelvin(60))/R_CO_carb(Celsius_Kelvin(60)))/\n",
    "             (-R_actt_carb(Celsius_Kelvin(30))/R_CO_carb(Celsius_Kelvin(30))),3))\n",
    "print(\"change of Y_PS hom at 30-60°C: \", \n",
    "      round((-R_actt_hom(Celsius_Kelvin(60))/R_H2_hom(Celsius_Kelvin(60)))/\n",
    "             (-R_actt_hom(Celsius_Kelvin(30))/R_H2_hom(Celsius_Kelvin(30))),3))\n",
    "\n",
    "print(\"change of Y_XS carb at 30-60°C: \", \n",
    "      round((-R_X(Celsius_Kelvin(60))/R_CO_carb(Celsius_Kelvin(60)))/\n",
    "             (-R_X(Celsius_Kelvin(30))/R_CO_carb(Celsius_Kelvin(30))),3))\n",
    "print(\"change of Y_XS hom at 30-60°C: \", \n",
    "      round((-R_X(Celsius_Kelvin(60))/R_H2_hom(Celsius_Kelvin(60)))/\n",
    "             (-R_X(Celsius_Kelvin(30))/R_H2_hom(Celsius_Kelvin(30))),3))"
   ]
  },
  {
   "cell_type": "code",
   "execution_count": null,
   "metadata": {},
   "outputs": [],
   "source": [
    "plt.figure(figsize=(5,5))\n",
    "plt.title(\"B\", fontdict = {'fontsize': 20}, loc = \"left\")\n",
    "#plt.title(f\"Product to biomass ratio in Acetogenesis\")\n",
    "plt.axis([0, 80, 0, 15])\n",
    "plt.xlabel('Temperature [Celsius]', fontsize=15)\n",
    "plt.ylabel('Yield [mol/Cmol]', fontsize=15)\n",
    "plt.tick_params(axis='both', which='major', labelsize=15)\n",
    "plt.plot(Kelvin_Celsius(T), R_actt_carb(T)/R_X(T), color='#F67280')\n",
    "plt.plot(Kelvin_Celsius(T), R_actt_hom(T)/R_X(T), color='#7ECCCC')\n",
    "\n",
    "plt.legend([r'$Y_{PX}$ Carboxydotroph',r'$Y_{PX}$ Homoacetogen'])"
   ]
  },
  {
   "cell_type": "code",
   "execution_count": null,
   "metadata": {},
   "outputs": [],
   "source": [
    "print(round(R_actt_hom(Celsius_Kelvin(30))/R_X(Celsius_Kelvin(30)),2))\n",
    "print(round(R_actt_hom(Celsius_Kelvin(60))/R_X(Celsius_Kelvin(60)),2))\n",
    "\n",
    "print(\"increase homoacet. 30-60°C: \", round((R_actt_hom(Celsius_Kelvin(60))/R_X(Celsius_Kelvin(60)))/(R_actt_hom(Celsius_Kelvin(30))/R_X(Celsius_Kelvin(30))),2))\n",
    "\n",
    "print(round(R_actt_carb(Celsius_Kelvin(30))/R_X(Celsius_Kelvin(30)),2))\n",
    "print(round(R_actt_carb(Celsius_Kelvin(60))/R_X(Celsius_Kelvin(60)),2))\n",
    "\n",
    "print(\"increase carboxy. 30-60°C: \", round((R_actt_carb(Celsius_Kelvin(60))/R_X(Celsius_Kelvin(60)))/(R_actt_carb(Celsius_Kelvin(30))/R_X(Celsius_Kelvin(30))),2))"
   ]
  },
  {
   "cell_type": "code",
   "execution_count": null,
   "metadata": {},
   "outputs": [],
   "source": [
    "plt.figure(figsize=(5,5))\n",
    "plt.title(f\"Biomass to Product ratio in Acetogenesis\")\n",
    "plt.axis([0, 80, 0, 0.6])\n",
    "plt.xlabel('Temperature [Celsius]')\n",
    "plt.ylabel('Yield [mol/mol]')\n",
    "plt.plot(Kelvin_Celsius(T), R_X(T)/R_actt_carb(T), color='#F67280')\n",
    "plt.plot(Kelvin_Celsius(T), R_X(T)/R_actt_hom(T), color='#7ECCCC')\n",
    "\n",
    "plt.legend([r'$Y_{XP}$ Carboxydotroph',r'$Y_{XP}$ Homoacetogen'])"
   ]
  }
 ],
 "metadata": {
  "kernelspec": {
   "display_name": "cobrapy",
   "language": "python",
   "name": "cobrapy"
  },
  "language_info": {
   "codemirror_mode": {
    "name": "ipython",
    "version": 3
   },
   "file_extension": ".py",
   "mimetype": "text/x-python",
   "name": "python",
   "nbconvert_exporter": "python",
   "pygments_lexer": "ipython3",
   "version": "3.6.13"
  }
 },
 "nbformat": 4,
 "nbformat_minor": 4
}
