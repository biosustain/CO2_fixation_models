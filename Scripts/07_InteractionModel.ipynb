{
 "cells": [
  {
   "cell_type": "code",
   "execution_count": 1,
   "metadata": {},
   "outputs": [
    {
     "name": "stdout",
     "output_type": "stream",
     "text": [
      "Using license file /Users/phivri/gurobi.lic\n",
      "Academic license - for non-commercial use only - expires 2022-07-23\n"
     ]
    }
   ],
   "source": [
    "import numpy as np\n",
    "import pandas as pd\n",
    "import cobra.io\n",
    "import escher\n",
    "from escher import Builder\n",
    "from cobra import Model, Reaction, Metabolite\n",
    "from os.path import join\n",
    "\n",
    "data_dir = \"/Users/phivri/Documents/GitHub/Biosustain/MoGeoModel\"\n",
    "\n",
    "WLModel = cobra.io.read_sbml_model(join(data_dir,'Models/WLPathway_bifurcating.xml'))"
   ]
  },
  {
   "cell_type": "code",
   "execution_count": 2,
   "metadata": {},
   "outputs": [],
   "source": [
    "medium_carb = WLModel.medium\n",
    "medium_carb['EX_co_e'] = 1000\n",
    "medium_carb['EX_co2_e'] = 0\n",
    "medium_carb['EX_h2_e'] = 0\n",
    "\n",
    "medium_hom = WLModel.medium\n",
    "medium_hom['EX_co_e'] = 0\n",
    "medium_hom['EX_co2_e'] = 1000\n",
    "medium_hom['EX_h2_e'] = 1000"
   ]
  },
  {
   "cell_type": "code",
   "execution_count": 3,
   "metadata": {},
   "outputs": [
    {
     "name": "stdout",
     "output_type": "stream",
     "text": [
      "Carboxydotrophic acetate production flux:  1.0 \n",
      "\n",
      "Homoacetogenic acetate production flux:  1.0 \n",
      "\n",
      "Carboxydotroph: 4.0 CO + -0.0 H2O => 2.0 CO2 + 1 acetate\n",
      "Homoacetogen: 2.0 CO2 + 4.0 H2 => 2.67 H2O + 1 acetate\n",
      "Carboxydotrophic acetate yield: 0.5 [Cmol/emol]\n",
      "Homoacetogenic acetate yield: 0.5 [Cmol/emol]\n"
     ]
    }
   ],
   "source": [
    "WLModel.objective = \"EX_ac_e\"\n",
    "\n",
    "with WLModel:\n",
    "    WLModel.medium = medium_carb\n",
    "    print(\"Carboxydotrophic acetate production flux: \", WLModel.slim_optimize(), \"\\n\")\n",
    "    Acetate_ex_carb = WLModel.slim_optimize()\n",
    "    CO2_exc_carb = WLModel.reactions.EX_co2_e.flux/Acetate_ex_carb\n",
    "    H2_exc_carb = WLModel.reactions.EX_h2_e.flux/Acetate_ex_carb\n",
    "    CO_exc_carb = WLModel.reactions.EX_co_e.flux/Acetate_ex_carb\n",
    "    H2O_exc_carb = WLModel.reactions.EX_h2o_e.flux/Acetate_ex_carb\n",
    "\n",
    "with WLModel:\n",
    "    WLModel.medium = medium_hom\n",
    "    print(\"Homoacetogenic acetate production flux: \", WLModel.slim_optimize(), \"\\n\")\n",
    "    Acetate_ex_hom = WLModel.slim_optimize()\n",
    "    CO2_exc_hom = WLModel.reactions.EX_co2_e.flux/Acetate_ex_carb\n",
    "    H2_exc_hom = WLModel.reactions.EX_h2_e.flux/Acetate_ex_carb\n",
    "    CO_exc_hom = WLModel.reactions.EX_co_e.flux/Acetate_ex_carb\n",
    "    H2O_exc_hom = WLModel.reactions.EX_h2o_e.flux/Acetate_ex_carb\n",
    "    \n",
    "print(f\"Carboxydotroph: {-CO_exc_carb} CO + {round(-H2O_exc_carb,2)} H2O => {CO2_exc_carb} CO2 + {1} acetate\")\n",
    "print(f\"Homoacetogen: {-CO2_exc_hom} CO2 + {-H2_exc_hom} H2 => {round(H2O_exc_hom,2)} H2O + {1} acetate\")\n",
    "\n",
    "Y_IE_carb = -1/CO_exc_carb*2\n",
    "Y_IE_hom = -1/H2_exc_hom*2\n",
    "print(f\"Carboxydotrophic acetate yield: {Y_IE_carb} [Cmol/emol]\")\n",
    "print(f\"Homoacetogenic acetate yield: {Y_IE_hom} [Cmol/emol]\")"
   ]
  },
  {
   "cell_type": "markdown",
   "metadata": {},
   "source": [
    "# Add Heterotroph"
   ]
  },
  {
   "cell_type": "code",
   "execution_count": 4,
   "metadata": {},
   "outputs": [
    {
     "ename": "OSError",
     "evalue": "[Errno The file with 'filename' does not exist, or is not an SBML string. Provide the path to an existing SBML file or a valid SBML string representation: \n%s] /Users/phivri/Documents/GitHub/Biosustain/MoGeoModel/Models/p-thermo_acetone_anaerobic.xml",
     "output_type": "error",
     "traceback": [
      "\u001b[0;31m---------------------------------------------------------------------------\u001b[0m",
      "\u001b[0;31mOSError\u001b[0m                                   Traceback (most recent call last)",
      "\u001b[0;32m<ipython-input-4-39bdb2ab7c75>\u001b[0m in \u001b[0;36m<module>\u001b[0;34m\u001b[0m\n\u001b[1;32m      1\u001b[0m \u001b[0;31m#Bsubt = cobra.io.read_sbml_model(join(data_dir,'Models/iJO1366.xml'))\u001b[0m\u001b[0;34m\u001b[0m\u001b[0;34m\u001b[0m\u001b[0;34m\u001b[0m\u001b[0m\n\u001b[0;32m----> 2\u001b[0;31m \u001b[0mGeob\u001b[0m \u001b[0;34m=\u001b[0m \u001b[0mcobra\u001b[0m\u001b[0;34m.\u001b[0m\u001b[0mio\u001b[0m\u001b[0;34m.\u001b[0m\u001b[0mread_sbml_model\u001b[0m\u001b[0;34m(\u001b[0m\u001b[0mjoin\u001b[0m\u001b[0;34m(\u001b[0m\u001b[0mdata_dir\u001b[0m\u001b[0;34m,\u001b[0m\u001b[0;34m'Models/p-thermo_acetone_anaerobic.xml'\u001b[0m\u001b[0;34m)\u001b[0m\u001b[0;34m)\u001b[0m\u001b[0;34m\u001b[0m\u001b[0;34m\u001b[0m\u001b[0m\n\u001b[0m",
      "\u001b[0;32m~/opt/anaconda3/envs/dFBACoCultivation/lib/python3.6/site-packages/cobra/io/sbml.py\u001b[0m in \u001b[0;36mread_sbml_model\u001b[0;34m(filename, number, f_replace, **kwargs)\u001b[0m\n\u001b[1;32m    250\u001b[0m         \u001b[0;32mreturn\u001b[0m \u001b[0m_sbml_to_model\u001b[0m\u001b[0;34m(\u001b[0m\u001b[0mdoc\u001b[0m\u001b[0;34m,\u001b[0m \u001b[0mnumber\u001b[0m\u001b[0;34m=\u001b[0m\u001b[0mnumber\u001b[0m\u001b[0;34m,\u001b[0m \u001b[0mf_replace\u001b[0m\u001b[0;34m=\u001b[0m\u001b[0mf_replace\u001b[0m\u001b[0;34m,\u001b[0m \u001b[0;34m**\u001b[0m\u001b[0mkwargs\u001b[0m\u001b[0;34m)\u001b[0m\u001b[0;34m\u001b[0m\u001b[0;34m\u001b[0m\u001b[0m\n\u001b[1;32m    251\u001b[0m     \u001b[0;32mexcept\u001b[0m \u001b[0mIOError\u001b[0m \u001b[0;32mas\u001b[0m \u001b[0me\u001b[0m\u001b[0;34m:\u001b[0m\u001b[0;34m\u001b[0m\u001b[0;34m\u001b[0m\u001b[0m\n\u001b[0;32m--> 252\u001b[0;31m         \u001b[0;32mraise\u001b[0m \u001b[0me\u001b[0m\u001b[0;34m\u001b[0m\u001b[0;34m\u001b[0m\u001b[0m\n\u001b[0m\u001b[1;32m    253\u001b[0m \u001b[0;34m\u001b[0m\u001b[0m\n\u001b[1;32m    254\u001b[0m     \u001b[0;32mexcept\u001b[0m \u001b[0mException\u001b[0m \u001b[0;32mas\u001b[0m \u001b[0moriginal_error\u001b[0m\u001b[0;34m:\u001b[0m\u001b[0;34m\u001b[0m\u001b[0;34m\u001b[0m\u001b[0m\n",
      "\u001b[0;32m~/opt/anaconda3/envs/dFBACoCultivation/lib/python3.6/site-packages/cobra/io/sbml.py\u001b[0m in \u001b[0;36mread_sbml_model\u001b[0;34m(filename, number, f_replace, **kwargs)\u001b[0m\n\u001b[1;32m    247\u001b[0m     \"\"\"\n\u001b[1;32m    248\u001b[0m     \u001b[0;32mtry\u001b[0m\u001b[0;34m:\u001b[0m\u001b[0;34m\u001b[0m\u001b[0;34m\u001b[0m\u001b[0m\n\u001b[0;32m--> 249\u001b[0;31m         \u001b[0mdoc\u001b[0m \u001b[0;34m=\u001b[0m \u001b[0m_get_doc_from_filename\u001b[0m\u001b[0;34m(\u001b[0m\u001b[0mfilename\u001b[0m\u001b[0;34m)\u001b[0m\u001b[0;34m\u001b[0m\u001b[0;34m\u001b[0m\u001b[0m\n\u001b[0m\u001b[1;32m    250\u001b[0m         \u001b[0;32mreturn\u001b[0m \u001b[0m_sbml_to_model\u001b[0m\u001b[0;34m(\u001b[0m\u001b[0mdoc\u001b[0m\u001b[0;34m,\u001b[0m \u001b[0mnumber\u001b[0m\u001b[0;34m=\u001b[0m\u001b[0mnumber\u001b[0m\u001b[0;34m,\u001b[0m \u001b[0mf_replace\u001b[0m\u001b[0;34m=\u001b[0m\u001b[0mf_replace\u001b[0m\u001b[0;34m,\u001b[0m \u001b[0;34m**\u001b[0m\u001b[0mkwargs\u001b[0m\u001b[0;34m)\u001b[0m\u001b[0;34m\u001b[0m\u001b[0;34m\u001b[0m\u001b[0m\n\u001b[1;32m    251\u001b[0m     \u001b[0;32mexcept\u001b[0m \u001b[0mIOError\u001b[0m \u001b[0;32mas\u001b[0m \u001b[0me\u001b[0m\u001b[0;34m:\u001b[0m\u001b[0;34m\u001b[0m\u001b[0;34m\u001b[0m\u001b[0m\n",
      "\u001b[0;32m~/opt/anaconda3/envs/dFBACoCultivation/lib/python3.6/site-packages/cobra/io/sbml.py\u001b[0m in \u001b[0;36m_get_doc_from_filename\u001b[0;34m(filename)\u001b[0m\n\u001b[1;32m    295\u001b[0m                     \u001b[0;34m\"an existing SBML file or a valid SBML string \"\u001b[0m\u001b[0;34m\u001b[0m\u001b[0;34m\u001b[0m\u001b[0m\n\u001b[1;32m    296\u001b[0m                     \u001b[0;34m\"representation: \\n%s\"\u001b[0m\u001b[0;34m,\u001b[0m\u001b[0;34m\u001b[0m\u001b[0;34m\u001b[0m\u001b[0m\n\u001b[0;32m--> 297\u001b[0;31m                     \u001b[0mfilename\u001b[0m\u001b[0;34m,\u001b[0m\u001b[0;34m\u001b[0m\u001b[0;34m\u001b[0m\u001b[0m\n\u001b[0m\u001b[1;32m    298\u001b[0m                 )\n\u001b[1;32m    299\u001b[0m \u001b[0;34m\u001b[0m\u001b[0m\n",
      "\u001b[0;31mOSError\u001b[0m: [Errno The file with 'filename' does not exist, or is not an SBML string. Provide the path to an existing SBML file or a valid SBML string representation: \n%s] /Users/phivri/Documents/GitHub/Biosustain/MoGeoModel/Models/p-thermo_acetone_anaerobic.xml"
     ]
    }
   ],
   "source": [
    "#Bsubt = cobra.io.read_sbml_model(join(data_dir,'Models/iJO1366.xml'))\n",
    "Geob = cobra.io.read_sbml_model(join(data_dir,'Models/p-thermo_acetone_anaerobic.xml'))"
   ]
  },
  {
   "cell_type": "markdown",
   "metadata": {},
   "source": [
    "Change objective function and remove constraints for ATP uptake for maintenance. This allows to ignore both GAM and NGAM"
   ]
  },
  {
   "cell_type": "code",
   "execution_count": null,
   "metadata": {},
   "outputs": [],
   "source": [
    "Geob.objective = \"EX_act_e\" #don't force growth\n",
    "\n",
    "Geob.reactions.ATPM.bounds = 0,1000 #Ignore NGAM\n",
    "Geob.reactions.GAPDH.bounds = 0,1000 #Futile cycle discovered, due to error in bounds\n",
    "Geob.reactions.ATPM.bounds"
   ]
  },
  {
   "cell_type": "code",
   "execution_count": null,
   "metadata": {},
   "outputs": [],
   "source": [
    "medium = Geob.medium\n",
    "medium[\"EX_glc__D_e\"] = 0\n",
    "medium[\"EX_o2_e\"] = 1000\n",
    "medium[\"EX_ac_e\"] = 1\n",
    "Geob.medium = medium\n",
    "\n",
    "solution = cobra.flux_analysis.pfba(Geob)\n",
    "Y_PI = Geob.slim_optimize()*3/(1*2)\n",
    "\n",
    "print(\"Heterotrophic acetone yield on acetate: \", round(Y_PI,2), \"[Cmol/Cmol]\")\n",
    "\n",
    "Geob.summary()"
   ]
  },
  {
   "cell_type": "code",
   "execution_count": null,
   "metadata": {},
   "outputs": [],
   "source": [
    "Builder(model = Geob, map_json = join(data_dir,'Models/EscherMaps/P-thermo_AcetateDegrad.json'), reaction_data = solution.fluxes.to_dict())"
   ]
  },
  {
   "cell_type": "markdown",
   "metadata": {},
   "source": [
    "More or less in accordance with:  10.3390/ijms21228777\n",
    "Check and compare critically though"
   ]
  },
  {
   "cell_type": "code",
   "execution_count": null,
   "metadata": {},
   "outputs": [],
   "source": [
    "print(f\"Succesive carboxydotrophic acetone yield: {round(Y_IE_carb*Y_PI,2)} [Cmol/emol]\")\n",
    "print(f\"Succesive homoacetogenic acetone yield: {round(Y_IE_hom*Y_PI,2)} [Cmol/emol]\")"
   ]
  },
  {
   "cell_type": "code",
   "execution_count": null,
   "metadata": {},
   "outputs": [],
   "source": [
    "Builder(model = Geob, map_json = join(data_dir,'Models/EscherMaps/iJO1366.CentralMetabolism.json'), reaction_data = solution.fluxes.to_dict())"
   ]
  },
  {
   "cell_type": "code",
   "execution_count": null,
   "metadata": {},
   "outputs": [],
   "source": [
    "Builder(model = Geob, map_json = join(data_dir,'Models/EscherMaps/AcetonePathway2.json'), reaction_data = solution.fluxes.to_dict())"
   ]
  }
 ],
 "metadata": {
  "kernelspec": {
   "display_name": "dFBACoCultivation",
   "language": "python",
   "name": "dfbacocultivation"
  },
  "language_info": {
   "codemirror_mode": {
    "name": "ipython",
    "version": 3
   },
   "file_extension": ".py",
   "mimetype": "text/x-python",
   "name": "python",
   "nbconvert_exporter": "python",
   "pygments_lexer": "ipython3",
   "version": "3.6.12"
  }
 },
 "nbformat": 4,
 "nbformat_minor": 4
}
